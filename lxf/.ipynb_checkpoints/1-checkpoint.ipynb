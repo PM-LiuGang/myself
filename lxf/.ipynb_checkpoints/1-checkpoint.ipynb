{
 "cells": [
  {
   "cell_type": "markdown",
   "metadata": {},
   "source": [
    "## map reduce"
   ]
  },
  {
   "cell_type": "code",
   "execution_count": 1,
   "metadata": {},
   "outputs": [
    {
     "data": {
      "text/plain": [
       "[1, 4, 9, 16, 25]"
      ]
     },
     "execution_count": 1,
     "metadata": {},
     "output_type": "execute_result"
    }
   ],
   "source": [
    "def f(x):\n",
    "    return x * x\n",
    "\n",
    "list(map(f, [1,2,3,4,5]))"
   ]
  },
  {
   "cell_type": "code",
   "execution_count": 2,
   "metadata": {},
   "outputs": [
    {
     "name": "stdout",
     "output_type": "stream",
     "text": [
      "[1, 4, 9, 16, 25, 36, 49, 64, 81]\n"
     ]
    }
   ],
   "source": [
    "l = []\n",
    "for n in [1,2,3,4,5,6,7,8,9]:\n",
    "    l.append(f(n))\n",
    "print(l)"
   ]
  },
  {
   "cell_type": "code",
   "execution_count": 3,
   "metadata": {},
   "outputs": [
    {
     "data": {
      "text/plain": [
       "'3.6.8 |Anaconda, Inc.| (default, Feb 11 2019, 15:03:47) [MSC v.1915 64 bit (AMD64)]'"
      ]
     },
     "execution_count": 3,
     "metadata": {},
     "output_type": "execute_result"
    }
   ],
   "source": [
    "# list(map(str, [1,2,3,4,5,6,7,8,9]))\n",
    "import sys\n",
    "\n",
    "sys.version"
   ]
  },
  {
   "cell_type": "code",
   "execution_count": 4,
   "metadata": {},
   "outputs": [
    {
     "data": {
      "text/plain": [
       "25"
      ]
     },
     "execution_count": 4,
     "metadata": {},
     "output_type": "execute_result"
    }
   ],
   "source": [
    "from functools import reduce \n",
    "\n",
    "def add(x, y):\n",
    "    return x+y\n",
    "\n",
    "reduce(add,[1,3,5,7,9])"
   ]
  },
  {
   "cell_type": "code",
   "execution_count": 5,
   "metadata": {},
   "outputs": [
    {
     "data": {
      "text/plain": [
       "13567"
      ]
     },
     "execution_count": 5,
     "metadata": {},
     "output_type": "execute_result"
    }
   ],
   "source": [
    "from functools import reduce\n",
    "\n",
    "def fn(x, y):\n",
    "    return x*10 + y\n",
    "\n",
    "reduce(fn, [1,3,5,6,7])  #这个函数必须接收两个参数，reduce把结果继续和序列的下一个元素做累积计算"
   ]
  },
  {
   "cell_type": "code",
   "execution_count": 6,
   "metadata": {},
   "outputs": [
    {
     "ename": "TypeError",
     "evalue": "fn() missing 1 required positional argument: 'z'",
     "output_type": "error",
     "traceback": [
      "\u001b[1;31m---------------------------------------------------------------------------\u001b[0m",
      "\u001b[1;31mTypeError\u001b[0m                                 Traceback (most recent call last)",
      "\u001b[1;32m<ipython-input-6-9147d51cbd9b>\u001b[0m in \u001b[0;36m<module>\u001b[1;34m\u001b[0m\n\u001b[0;32m      6\u001b[0m     \u001b[1;32mreturn\u001b[0m \u001b[0mx\u001b[0m\u001b[1;33m*\u001b[0m\u001b[1;36m100\u001b[0m \u001b[1;33m+\u001b[0m \u001b[0my\u001b[0m\u001b[1;33m*\u001b[0m\u001b[1;36m10\u001b[0m \u001b[1;33m+\u001b[0m \u001b[0mz\u001b[0m\u001b[1;33m\u001b[0m\u001b[1;33m\u001b[0m\u001b[0m\n\u001b[0;32m      7\u001b[0m \u001b[1;33m\u001b[0m\u001b[0m\n\u001b[1;32m----> 8\u001b[1;33m \u001b[0mreduce\u001b[0m\u001b[1;33m(\u001b[0m\u001b[0mfn\u001b[0m\u001b[1;33m,\u001b[0m \u001b[1;33m[\u001b[0m\u001b[1;36m1\u001b[0m\u001b[1;33m,\u001b[0m\u001b[1;36m3\u001b[0m\u001b[1;33m,\u001b[0m\u001b[1;36m5\u001b[0m\u001b[1;33m,\u001b[0m\u001b[1;36m6\u001b[0m\u001b[1;33m,\u001b[0m\u001b[1;36m7\u001b[0m\u001b[1;33m]\u001b[0m\u001b[1;33m)\u001b[0m\u001b[1;33m\u001b[0m\u001b[1;33m\u001b[0m\u001b[0m\n\u001b[0m",
      "\u001b[1;31mTypeError\u001b[0m: fn() missing 1 required positional argument: 'z'"
     ]
    }
   ],
   "source": [
    "#reduce把一个函数作用在一个序列[x1, x2, x3, ...]上，\n",
    "#这个函数必须接收两个参数，reduce把结果继续和序列的下一个元素做累积计算\n",
    "from functools import reduce\n",
    "\n",
    "def fn(x, y, z):\n",
    "    return x*100 + y*10 + z\n",
    "\n",
    "reduce(fn, [1,3,5,6,7])"
   ]
  },
  {
   "cell_type": "code",
   "execution_count": null,
   "metadata": {},
   "outputs": [],
   "source": [
    "#str 2 int\n",
    "\n",
    "from functools import reduce\n",
    "\n",
    "def fn(x, y):\n",
    "    return x*10 + y\n",
    "\n",
    "def char2num(s):\n",
    "    digits = {'0': 0, '1': 1, '2': 2, '3': 3, '4': 4, '5': 5, '6': 6, '7': 7, '8': 8, '9': 9}\n",
    "    return digits[s]\n",
    "\n",
    "reduce(fn, map(char2num, '13579'))"
   ]
  },
  {
   "cell_type": "code",
   "execution_count": null,
   "metadata": {},
   "outputs": [],
   "source": [
    "#str 2 int 闭包\n",
    "\n",
    "digits = {'0': 0, '1': 1, '2': 2, '3': 3, '4': 4, '5': 5, '6': 6, '7': 7, '8': 8, '9': 9}\n",
    "\n",
    "def str2int(s):\n",
    "    def fn(x, y):\n",
    "        return x*10 + y\n",
    "    def char2num(s):\n",
    "        return digits[s] # 未改变s，故不用声明nonlocal\n",
    "    return reduce(fn, map(char2num, s)) # 能直接调用char2num函数？ 可以，函数内部定义"
   ]
  },
  {
   "cell_type": "code",
   "execution_count": null,
   "metadata": {
    "scrolled": true
   },
   "outputs": [],
   "source": [
    "str2int('13810330623')"
   ]
  },
  {
   "cell_type": "code",
   "execution_count": 3,
   "metadata": {},
   "outputs": [],
   "source": [
    "#str 2 int lambda\n",
    "\n",
    "from functools import reduce\n",
    "\n",
    "digits = {'0': 0, '1': 1, '2': 2, '3': 3, '4': 4, '5': 5, '6': 6, '7': 7, '8': 8, '9': 9}\n",
    "\n",
    "def char2num(s):\n",
    "    return digits[s]\n",
    "\n",
    "def str2int(s):\n",
    "    return reduce(lambda x,y: x*10 + y, map(char2num, s))"
   ]
  },
  {
   "cell_type": "code",
   "execution_count": 4,
   "metadata": {},
   "outputs": [
    {
     "data": {
      "text/plain": [
       "13810330623"
      ]
     },
     "execution_count": 4,
     "metadata": {},
     "output_type": "execute_result"
    }
   ],
   "source": [
    "str2int('13810330623')"
   ]
  },
  {
   "cell_type": "code",
   "execution_count": 1,
   "metadata": {},
   "outputs": [
    {
     "data": {
      "text/plain": [
       "13810330623"
      ]
     },
     "execution_count": 1,
     "metadata": {},
     "output_type": "execute_result"
    }
   ],
   "source": [
    "int('13810330623')"
   ]
  },
  {
   "cell_type": "markdown",
   "metadata": {},
   "source": [
    "利用map()函数，把用户输入的不规范的英文名字，变为首字母大写，其他小写的规范名字。输入：['adam', 'LISA', 'barT']，输出：['Adam', 'Lisa', 'Bart']："
   ]
  },
  {
   "cell_type": "code",
   "execution_count": 5,
   "metadata": {},
   "outputs": [
    {
     "data": {
      "text/plain": [
       "['Adam', 'Lisa', 'Bart']"
      ]
     },
     "execution_count": 5,
     "metadata": {},
     "output_type": "execute_result"
    }
   ],
   "source": [
    "use_in = ['adam', 'LISA', 'barT']\n",
    "\n",
    "# map(capitalize, use_in) # NameError: name 'capitalize' is not defined\n",
    "def str_title(s):\n",
    "    s = s.capitalize()\n",
    "    return s\n",
    "list(map(str_title, use_in))"
   ]
  },
  {
   "cell_type": "markdown",
   "metadata": {},
   "source": [
    "Python提供的sum()函数可以接受一个list并求和，请编写一个prod()函数，可以接受一个list并利用reduce()求积"
   ]
  },
  {
   "cell_type": "code",
   "execution_count": 6,
   "metadata": {},
   "outputs": [
    {
     "data": {
      "text/plain": [
       "945"
      ]
     },
     "execution_count": 6,
     "metadata": {},
     "output_type": "execute_result"
    }
   ],
   "source": [
    "l1 = [3, 5, 7, 9]\n",
    "\n",
    "def p1(s, y):\n",
    "    return s * y\n",
    "\n",
    "def prd(l1):\n",
    "    return reduce(p1, l1) \n",
    "\n",
    "prd(l1) # 没有打印结果？prd函数 没有加return"
   ]
  },
  {
   "cell_type": "code",
   "execution_count": null,
   "metadata": {},
   "outputs": [],
   "source": [
    "l1 = [3, 5, 7, 9]\n",
    "\n",
    "def p1(s, y):\n",
    "    return s * y\n",
    "\n",
    "reduce(p1, l1)"
   ]
  },
  {
   "cell_type": "markdown",
   "metadata": {},
   "source": [
    "利用map和reduce编写一个str2float函数，把字符串'123.456'转换成浮点数123.456"
   ]
  },
  {
   "cell_type": "code",
   "execution_count": 7,
   "metadata": {},
   "outputs": [
    {
     "data": {
      "text/plain": [
       "123.456"
      ]
     },
     "execution_count": 7,
     "metadata": {},
     "output_type": "execute_result"
    }
   ],
   "source": [
    "float('123.456')"
   ]
  },
  {
   "cell_type": "code",
   "execution_count": 9,
   "metadata": {},
   "outputs": [
    {
     "ename": "KeyError",
     "evalue": "'.'",
     "output_type": "error",
     "traceback": [
      "\u001b[1;31m---------------------------------------------------------------------------\u001b[0m",
      "\u001b[1;31mKeyError\u001b[0m                                  Traceback (most recent call last)",
      "\u001b[1;32m<ipython-input-9-935ef3321582>\u001b[0m in \u001b[0;36m<module>\u001b[1;34m\u001b[0m\n\u001b[0;32m     11\u001b[0m     \u001b[1;32mreturn\u001b[0m \u001b[0mreduce\u001b[0m\u001b[1;33m(\u001b[0m\u001b[0mfn\u001b[0m\u001b[1;33m,\u001b[0m \u001b[0mmap\u001b[0m\u001b[1;33m(\u001b[0m\u001b[0mchar2num\u001b[0m\u001b[1;33m,\u001b[0m \u001b[0ms\u001b[0m\u001b[1;33m)\u001b[0m\u001b[1;33m)\u001b[0m\u001b[1;33m\u001b[0m\u001b[1;33m\u001b[0m\u001b[0m\n\u001b[0;32m     12\u001b[0m \u001b[1;33m\u001b[0m\u001b[0m\n\u001b[1;32m---> 13\u001b[1;33m \u001b[0mstr2float\u001b[0m\u001b[1;33m(\u001b[0m\u001b[1;34m'123.456'\u001b[0m\u001b[1;33m)\u001b[0m\u001b[1;33m\u001b[0m\u001b[1;33m\u001b[0m\u001b[0m\n\u001b[0m",
      "\u001b[1;32m<ipython-input-9-935ef3321582>\u001b[0m in \u001b[0;36mstr2float\u001b[1;34m(s)\u001b[0m\n\u001b[0;32m      9\u001b[0m     \u001b[1;32mdef\u001b[0m \u001b[0mchar2num\u001b[0m\u001b[1;33m(\u001b[0m\u001b[0ms\u001b[0m\u001b[1;33m)\u001b[0m\u001b[1;33m:\u001b[0m\u001b[1;33m\u001b[0m\u001b[1;33m\u001b[0m\u001b[0m\n\u001b[0;32m     10\u001b[0m         \u001b[1;32mreturn\u001b[0m \u001b[0mdigits\u001b[0m\u001b[1;33m[\u001b[0m\u001b[0ms\u001b[0m\u001b[1;33m]\u001b[0m\u001b[1;33m\u001b[0m\u001b[1;33m\u001b[0m\u001b[0m\n\u001b[1;32m---> 11\u001b[1;33m     \u001b[1;32mreturn\u001b[0m \u001b[0mreduce\u001b[0m\u001b[1;33m(\u001b[0m\u001b[0mfn\u001b[0m\u001b[1;33m,\u001b[0m \u001b[0mmap\u001b[0m\u001b[1;33m(\u001b[0m\u001b[0mchar2num\u001b[0m\u001b[1;33m,\u001b[0m \u001b[0ms\u001b[0m\u001b[1;33m)\u001b[0m\u001b[1;33m)\u001b[0m\u001b[1;33m\u001b[0m\u001b[1;33m\u001b[0m\u001b[0m\n\u001b[0m\u001b[0;32m     12\u001b[0m \u001b[1;33m\u001b[0m\u001b[0m\n\u001b[0;32m     13\u001b[0m \u001b[0mstr2float\u001b[0m\u001b[1;33m(\u001b[0m\u001b[1;34m'123.456'\u001b[0m\u001b[1;33m)\u001b[0m\u001b[1;33m\u001b[0m\u001b[1;33m\u001b[0m\u001b[0m\n",
      "\u001b[1;32m<ipython-input-9-935ef3321582>\u001b[0m in \u001b[0;36mchar2num\u001b[1;34m(s)\u001b[0m\n\u001b[0;32m      8\u001b[0m         \u001b[1;32mreturn\u001b[0m \u001b[0mx\u001b[0m\u001b[1;33m*\u001b[0m\u001b[1;36m10\u001b[0m \u001b[1;33m+\u001b[0m \u001b[0my\u001b[0m\u001b[1;33m\u001b[0m\u001b[1;33m\u001b[0m\u001b[0m\n\u001b[0;32m      9\u001b[0m     \u001b[1;32mdef\u001b[0m \u001b[0mchar2num\u001b[0m\u001b[1;33m(\u001b[0m\u001b[0ms\u001b[0m\u001b[1;33m)\u001b[0m\u001b[1;33m:\u001b[0m\u001b[1;33m\u001b[0m\u001b[1;33m\u001b[0m\u001b[0m\n\u001b[1;32m---> 10\u001b[1;33m         \u001b[1;32mreturn\u001b[0m \u001b[0mdigits\u001b[0m\u001b[1;33m[\u001b[0m\u001b[0ms\u001b[0m\u001b[1;33m]\u001b[0m\u001b[1;33m\u001b[0m\u001b[1;33m\u001b[0m\u001b[0m\n\u001b[0m\u001b[0;32m     11\u001b[0m     \u001b[1;32mreturn\u001b[0m \u001b[0mreduce\u001b[0m\u001b[1;33m(\u001b[0m\u001b[0mfn\u001b[0m\u001b[1;33m,\u001b[0m \u001b[0mmap\u001b[0m\u001b[1;33m(\u001b[0m\u001b[0mchar2num\u001b[0m\u001b[1;33m,\u001b[0m \u001b[0ms\u001b[0m\u001b[1;33m)\u001b[0m\u001b[1;33m)\u001b[0m\u001b[1;33m\u001b[0m\u001b[1;33m\u001b[0m\u001b[0m\n\u001b[0;32m     12\u001b[0m \u001b[1;33m\u001b[0m\u001b[0m\n",
      "\u001b[1;31mKeyError\u001b[0m: '.'"
     ]
    }
   ],
   "source": [
    "# self时，小数点转换不了\n",
    "from functools import reduce\n",
    "\n",
    "digits = {'0': 0, '1': 1, '2': 2, '3': 3, '4': 4, '5': 5, '6': 6, '7': 7, '8': 8, '9': 9}\n",
    "\n",
    "def str2float(s):\n",
    "    def fn(x, y):\n",
    "        return x*10 + y\n",
    "    def char2num(s):\n",
    "        return digits[s]\n",
    "    return reduce(fn, map(char2num, s))\n",
    "\n",
    "str2float('123.456')"
   ]
  },
  {
   "cell_type": "code",
   "execution_count": 10,
   "metadata": {},
   "outputs": [
    {
     "name": "stdout",
     "output_type": "stream",
     "text": [
      "0.0\n",
      "123.456\n",
      "123.456\n",
      "0.12340000000000001\n",
      "0.12340000000000001\n",
      "120.0034\n"
     ]
    }
   ],
   "source": [
    "CHAR_TO_FLOAT = {'0': 0,'1': 1,'2': 2,'3': 3,'4': 4,'5': 5,'6': 6,'7': 7,'8': 8,'9': 9,'.': -1}\n",
    "\n",
    "def str2float(s):\n",
    "    nums = map(lambda ch: CHAR_TO_FLOAT[ch], s)\n",
    "    point = 0\n",
    "    def to_float(f, n): # 两个if，只执行一个return\n",
    "        nonlocal point # 声明嵌套函数将修改to_float函数的命名空间变量\n",
    "        if n == -1: # 当出现小数点的时候 \n",
    "            point = 1\n",
    "            return f #函数已经有返回值的时候不会再往下走if分支\n",
    "        if point == 0: # 不能使用elif，有遗漏\n",
    "            return f * 10 + n\n",
    "        else:\n",
    "            point = point * 10\n",
    "            return f + n / point  # 123.4  point=100\n",
    "    return reduce(to_float, nums, 0.0) # reduce(function, sequence[, initial]) -> value\n",
    "\n",
    "print(str2float('0'))\n",
    "print(str2float('123.456'))\n",
    "print(str2float('123.45600'))\n",
    "print(str2float('0.1234'))\n",
    "print(str2float('.1234'))\n",
    "print(str2float('120.0034'))"
   ]
  },
  {
   "cell_type": "code",
   "execution_count": 11,
   "metadata": {},
   "outputs": [
    {
     "name": "stdout",
     "output_type": "stream",
     "text": [
      "Help on built-in function reduce in module _functools:\n",
      "\n",
      "reduce(...)\n",
      "    reduce(function, sequence[, initial]) -> value\n",
      "    \n",
      "    Apply a function of two arguments cumulatively to the items of a sequence,\n",
      "    from left to right, so as to reduce the sequence to a single value.\n",
      "    For example, reduce(lambda x, y: x+y, [1, 2, 3, 4, 5]) calculates\n",
      "    ((((1+2)+3)+4)+5).  If initial is present, it is placed before the items\n",
      "    of the sequence in the calculation, and serves as a default when the\n",
      "    sequence is empty.\n",
      "\n"
     ]
    }
   ],
   "source": [
    "help(reduce)"
   ]
  },
  {
   "cell_type": "markdown",
   "metadata": {},
   "source": [
    "## filter"
   ]
  },
  {
   "cell_type": "markdown",
   "metadata": {},
   "source": [
    "filter()也接收一个函数和一个序列。和map()不同的是，filter()把传入的函数依次作用于每个元素，然后根据返回值是True还是False决定保留还是丢弃该元素"
   ]
  },
  {
   "cell_type": "code",
   "execution_count": 12,
   "metadata": {},
   "outputs": [
    {
     "data": {
      "text/plain": [
       "[1, 5, 9, 15]"
      ]
     },
     "execution_count": 12,
     "metadata": {},
     "output_type": "execute_result"
    }
   ],
   "source": [
    "def is_odd(n):\n",
    "    return n % 2 == 1\n",
    "\n",
    "list(filter(is_odd, [1, 2, 4, 5, 6, 9, 10, 15])) # 1%2 -> 1"
   ]
  },
  {
   "cell_type": "code",
   "execution_count": 13,
   "metadata": {},
   "outputs": [
    {
     "data": {
      "text/plain": [
       "(1, 6.5, 6)"
      ]
     },
     "execution_count": 13,
     "metadata": {},
     "output_type": "execute_result"
    }
   ],
   "source": [
    "13 % 2, 13 /2, 13//2"
   ]
  },
  {
   "cell_type": "code",
   "execution_count": 25,
   "metadata": {},
   "outputs": [
    {
     "data": {
      "text/plain": [
       "['A', 'B', 'C']"
      ]
     },
     "execution_count": 25,
     "metadata": {},
     "output_type": "execute_result"
    }
   ],
   "source": [
    "def not_empty(s):\n",
    "    return s and s.strip() # '' is False     None is False -> False None is True -> False\n",
    "\n",
    "list(filter(not_empty, ['A', '', 'B', None, 'C', '  ']))"
   ]
  },
  {
   "cell_type": "code",
   "execution_count": 26,
   "metadata": {},
   "outputs": [
    {
     "data": {
      "text/plain": [
       "(False, False, False)"
      ]
     },
     "execution_count": 26,
     "metadata": {},
     "output_type": "execute_result"
    }
   ],
   "source": [
    "None is False , None is True, '' is False"
   ]
  },
  {
   "cell_type": "code",
   "execution_count": null,
   "metadata": {},
   "outputs": [],
   "source": [
    "def _odd_iter_():\n",
    "    # 生成器，并且是一个无限序列\n",
    "    n = 1\n",
    "    while True:\n",
    "        n = n + 2 \n",
    "        yield n\n",
    "        \n",
    "def _not_divisible(n):\n",
    "    # 筛选函数，返回不能被整除的\n",
    "    return lambda x: x % n > 0\n",
    "\n",
    "\n",
    "def primes():\n",
    "    # 生成器，不断返回下一个素数\n",
    "    # yield 2 # 从2开始的初始序列\n",
    "    it = _odd_iter_() # 从3开始的初始序列\n",
    "    while True:\n",
    "        n = next(it) # 返回序列的第一个数\n",
    "        yield n \n",
    "        it = filter(_not_divisible(n), it)\n",
    "'''     \n",
    "def primes():\n",
    "    it = _odd_iter_()\n",
    "    while True:\n",
    "        n = next(it)\n",
    "        return filter(_not_divisible(n), it)\n",
    "'''"
   ]
  },
  {
   "cell_type": "code",
   "execution_count": null,
   "metadata": {},
   "outputs": [],
   "source": [
    "for n in primes(): # 打印1000以内的素数\n",
    "    if n < 39:\n",
    "        print(n)\n",
    "    else:\n",
    "        break"
   ]
  },
  {
   "cell_type": "markdown",
   "metadata": {},
   "source": [
    "回数是指从左向右读和从右向左读都是一样的数，例如12321，909。请利用filter()筛选出回数："
   ]
  },
  {
   "cell_type": "code",
   "execution_count": null,
   "metadata": {},
   "outputs": [],
   "source": [
    "# self \n",
    "\n",
    "import copy \n",
    "\n",
    "def is_palindrome(n):\n",
    "    n = str(n)\n",
    "    n_sort = list(copy.deepcopy(n))\n",
    "    n_re = list(n).reverse\n",
    "    return n_sort == n_re\n",
    "\n",
    "list(filter(is_palindrome(n), range(10,100)))"
   ]
  },
  {
   "cell_type": "code",
   "execution_count": null,
   "metadata": {},
   "outputs": [],
   "source": [
    "'''\n",
    "# \n",
    "def is_palindrome(n):  # 通过数学方法\n",
    "    I,m=n,0\n",
    "    while I:\n",
    "        m=m*10+I%10\n",
    "        I=I//10\n",
    "    return(n==m)\n",
    " \n",
    "# str[index]\n",
    "def is_palindrome(n):  # 字符串索引是否一致的方法\n",
    "    s = str(n)    \n",
    "    for i in range(len(s)):        \n",
    "        return n and s[i] == s[-(i+1)]\n",
    "'''\n",
    "def is_palindrome(n): #字符串排序 \n",
    "    return str(n) == str(n)[::-1]\n",
    "          \n",
    "L = list(filter(is_palindrome, range(10, 1000)))\n",
    "print(L)"
   ]
  },
  {
   "cell_type": "markdown",
   "metadata": {},
   "source": [
    "## Sorted"
   ]
  },
  {
   "cell_type": "markdown",
   "metadata": {},
   "source": [
    "排序也是在程序中经常用到的算法。无论使用冒泡排序还是快速排序，排序的核心是比较两个元素的大小。如果是数字，我们可以直接比较，但如果是字符串或者两个dict呢？直接比较数学上的大小是没有意义的，因此，比较的过程必须通过函数抽象出来"
   ]
  },
  {
   "cell_type": "code",
   "execution_count": 27,
   "metadata": {},
   "outputs": [
    {
     "data": {
      "text/plain": [
       "[-21, -12, 5, 9, 36]"
      ]
     },
     "execution_count": 27,
     "metadata": {},
     "output_type": "execute_result"
    }
   ],
   "source": [
    "sorted([36, 5, -12, 9, -21])"
   ]
  },
  {
   "cell_type": "code",
   "execution_count": 28,
   "metadata": {},
   "outputs": [
    {
     "data": {
      "text/plain": [
       "[5, 9, -12, -21, 36]"
      ]
     },
     "execution_count": 28,
     "metadata": {},
     "output_type": "execute_result"
    }
   ],
   "source": [
    "sorted([36, 5, -12, 9, -21], key=abs)"
   ]
  },
  {
   "cell_type": "code",
   "execution_count": 29,
   "metadata": {},
   "outputs": [
    {
     "data": {
      "text/plain": [
       "['Credit', 'Zoo', 'about', 'bob']"
      ]
     },
     "execution_count": 29,
     "metadata": {},
     "output_type": "execute_result"
    }
   ],
   "source": [
    "sorted(['bob', 'about', 'Zoo', 'Credit']) # 按照ascii的大小比较的"
   ]
  },
  {
   "cell_type": "code",
   "execution_count": 31,
   "metadata": {},
   "outputs": [
    {
     "data": {
      "text/plain": [
       "['Zoo', 'Credit', 'bob', 'about']"
      ]
     },
     "execution_count": 31,
     "metadata": {},
     "output_type": "execute_result"
    }
   ],
   "source": [
    " sorted(['bob', 'about', 'Zoo', 'Credit'], key=str.lower, reverse=True) # a->z >> A-Z"
   ]
  },
  {
   "cell_type": "code",
   "execution_count": 32,
   "metadata": {},
   "outputs": [],
   "source": [
    "result = [('Bob', 75), ('Adam', 92), ('Bart', 66), ('Lisa', 88)]"
   ]
  },
  {
   "cell_type": "code",
   "execution_count": 33,
   "metadata": {},
   "outputs": [
    {
     "data": {
      "text/plain": [
       "[('Adam', 92), ('Bart', 66), ('Bob', 75), ('Lisa', 88)]"
      ]
     },
     "execution_count": 33,
     "metadata": {},
     "output_type": "execute_result"
    }
   ],
   "source": [
    "sorted(result, key = lambda x: x[0])"
   ]
  },
  {
   "cell_type": "code",
   "execution_count": 34,
   "metadata": {},
   "outputs": [
    {
     "data": {
      "text/plain": [
       "[('Adam', 92), ('Lisa', 88), ('Bob', 75), ('Bart', 66)]"
      ]
     },
     "execution_count": 34,
     "metadata": {},
     "output_type": "execute_result"
    }
   ],
   "source": [
    "sorted(result, key = lambda x: x[1], reverse=True)"
   ]
  },
  {
   "cell_type": "markdown",
   "metadata": {},
   "source": [
    "# 返回函数"
   ]
  },
  {
   "cell_type": "markdown",
   "metadata": {},
   "source": [
    "函数作为返回值"
   ]
  },
  {
   "cell_type": "markdown",
   "metadata": {},
   "source": [
    "高阶函数除了可以接受函数作为参数外，还可以把函数作为结果值返回"
   ]
  },
  {
   "cell_type": "code",
   "execution_count": null,
   "metadata": {},
   "outputs": [],
   "source": [
    "# 可变参数的求和\n",
    "\n",
    "def calc_sum(*args):\n",
    "    ax = 0\n",
    "    for n in args:\n",
    "        ax = ax + n\n",
    "    return ax\n"
   ]
  },
  {
   "cell_type": "code",
   "execution_count": 35,
   "metadata": {},
   "outputs": [],
   "source": [
    "# 如果不需要立刻求和，而是在后面的代码中，根据需要在计算怎么办\n",
    "#可以不返回的结果，而是返回求和的函数\n",
    "\n",
    "def lazy_sum(*args):\n",
    "    def sum():\n",
    "        ax = 0\n",
    "        for n in args:\n",
    "            ax = ax + n\n",
    "        return ax\n",
    "    return sum\n",
    "\n",
    "#这个例子中，我们在函数lazy sum中又定义了函数sum，并且，内部函数sum可以\n",
    "#引用外部函数lazy num的参数和局部变量\n",
    "#当lazy sum返回函数sum时，相关参数和变量都保存在返回的函数中?\n",
    "#这种称为“闭包”"
   ]
  },
  {
   "cell_type": "code",
   "execution_count": 36,
   "metadata": {},
   "outputs": [
    {
     "data": {
      "text/plain": [
       "<function __main__.lazy_sum.<locals>.sum()>"
      ]
     },
     "execution_count": 36,
     "metadata": {},
     "output_type": "execute_result"
    }
   ],
   "source": [
    "f = lazy_sum(1, 3, 5, 7, 9)\n",
    "f"
   ]
  },
  {
   "cell_type": "code",
   "execution_count": 37,
   "metadata": {},
   "outputs": [
    {
     "data": {
      "text/plain": [
       "25"
      ]
     },
     "execution_count": 37,
     "metadata": {},
     "output_type": "execute_result"
    }
   ],
   "source": [
    "f()"
   ]
  },
  {
   "cell_type": "code",
   "execution_count": 38,
   "metadata": {},
   "outputs": [
    {
     "data": {
      "text/plain": [
       "False"
      ]
     },
     "execution_count": 38,
     "metadata": {},
     "output_type": "execute_result"
    }
   ],
   "source": [
    "#当调用lazy_sum时，返回的并不是求和结果，而是求和函数\n",
    "f1 = lazy_sum(1, 3, 5, 7, 9)\n",
    "f2 = lazy_sum(1, 3, 5, 7, 9)\n",
    "f1 == f2\n",
    "\n",
    "# 当我们调用lazy sum时，每次调用都返回一个新的函数，即使是传入相同的参数"
   ]
  },
  {
   "cell_type": "markdown",
   "metadata": {},
   "source": [
    "## 闭包"
   ]
  },
  {
   "cell_type": "markdown",
   "metadata": {},
   "source": [
    "注意到返回的内层函数在其定义内部引用了局部变量args，所以，当一个lazy sum函数返回了一个sum函数后，其lazy sum内部的局部变量还被新sum函数引用，所以，闭包用起来简单，实现起来不容易"
   ]
  },
  {
   "cell_type": "code",
   "execution_count": 39,
   "metadata": {},
   "outputs": [],
   "source": [
    "def count():\n",
    "    fs = []\n",
    "    for i in range(1, 4): # 返回闭包时牢记一点：返回函数不要引用任何循环变量，或者后续变化的变量\n",
    "        def f():\n",
    "            return i * i\n",
    "        fs.append(f)\n",
    "    return fs\n",
    "\n",
    "f1, f2, f3 = count()"
   ]
  },
  {
   "cell_type": "code",
   "execution_count": 40,
   "metadata": {},
   "outputs": [
    {
     "data": {
      "text/plain": [
       "(9, 9, 9)"
      ]
     },
     "execution_count": 40,
     "metadata": {},
     "output_type": "execute_result"
    }
   ],
   "source": [
    "# 全部都是9，原因就在于返回的函数引用了变量，但它并非立刻执行。\n",
    "#等到3个函数都返回时，它们所引用的变量i已经变成了3，因此最终结果为9\n",
    "f1(), f2(), f3()"
   ]
  },
  {
   "cell_type": "code",
   "execution_count": null,
   "metadata": {},
   "outputs": [],
   "source": [
    "#如果一定要引用循环变量怎么办？方法是再创建一个函数，用该函数的参数绑定循环变量当前的值\n",
    "#无论该循环变量后后续如何更改，已绑定到函数参数的值不变\n",
    "#没懂\n",
    "def count():\n",
    "    def f(j):\n",
    "        def g():\n",
    "            return j * j\n",
    "        return g\n",
    "    fs = []\n",
    "    for i in range(1, 4):\n",
    "        fs.append(f(i))\n",
    "    return fs"
   ]
  },
  {
   "cell_type": "code",
   "execution_count": null,
   "metadata": {},
   "outputs": [],
   "source": [
    "f1, f2, f3 = count()"
   ]
  },
  {
   "cell_type": "code",
   "execution_count": null,
   "metadata": {},
   "outputs": [],
   "source": [
    "f1(), f2(), f3()"
   ]
  },
  {
   "cell_type": "markdown",
   "metadata": {},
   "source": [
    "利用闭包返回一个计数器函数，每次调用它返回递增函数"
   ]
  },
  {
   "cell_type": "code",
<<<<<<< HEAD
   "execution_count": 46,
=======
<<<<<<< HEAD:lxf/函数式编程.ipynb
   "execution_count": 33,
   "metadata": {},
   "outputs": [],
   "source": [
    "def createCounter():\n",
    "    n = 0\n",
    "    def counter():\n",
    "        nonlocal n # nonlocal是用于内部函数更改外层函数的外部变量的关键字\n",
    "        n = n + 1\n",
    "        return n \n",
   "execution_count": 78,
   "metadata": {},
   "outputs": [],
   "source": [
    "def createCounter(n):\n",
    "    def counter():\n",
    "        return n + 1\n",
    "    return counter"
   ]
  ,
  {
   "cell_type": "code",
   "execution_count": 34,
   "metadata": {},
   "outputs": [],
   "source": [
    "cc = createCounter()"
   "execution_count": 79,
   "metadata": {},
   "outputs": [],
   "source": [
    "cc = createCounter(10)"
   ]
  ,
  {
   "cell_type": "code",
   "execution_count": 35,
   "execution_count": 82,
>>>>>>> 82341cf3066b84057df9209ce7c5fe09feda6f07
   "metadata": {},
   "outputs": [
    {
     "data": {
      "text/plain": [
       "(4, 5, 5, 5)"
      ]
     },
     "execution_count": 46,
     "metadata": {},
     "output_type": "execute_result"
    }
   ],
   "source": [
<<<<<<< HEAD
=======
    "cc(), cc(), cc()"
   ]
  },
  {
   "cell_type": "code",
=======
>>>>>>> 6755831cf9de3be3450c83bd4734165dee80403a:lxf/.ipynb_checkpoints/1-checkpoint.ipynb
   "execution_count": 13,
   "metadata": {},
   "outputs": [
    {
     "name": "stdout",
     "output_type": "stream",
     "text": [
      "4\n"
     ]
    }
   ],
   "source": [
>>>>>>> 82341cf3066b84057df9209ce7c5fe09feda6f07
    "s = 3 #设置全局变量\n",
    "def createCounter():   \n",
    "    def counter():\n",
    "        global s #引用全局变量\n",
    "        s = s+1\n",
    "        return s\n",
    "    return counter\n",
    "counterA = createCounter()\n",
    "counterA(), counterA(), s, s #每次调用子函数，都是会保留上次s的值进行计算的"
   ]
  },
  {
   "cell_type": "code",
   "execution_count": 47,
   "metadata": {},
   "outputs": [
    {
     "data": {
      "text/plain": [
       "(1, 2, 3)"
      ]
     },
     "execution_count": 47,
     "metadata": {},
     "output_type": "execute_result"
    }
   ],
   "source": [
    "def createCounter():\n",
    "    s = [0] \n",
    "    # 一个需序列赋值给s，这样做的目的是方便子函数能够直接使用父函数内的变量值，\n",
    "    #而不会产生“local variable 'xxx' referenced before assignment”这样的错误\n",
    "    def counter():\n",
    "        s[0] = s[0]+1 # 避免修改s的值\n",
    "        return s[0]\n",
    "    return counter\n",
    "\n",
    "ccc = createCounter()\n",
    "ccc(),ccc(),ccc()"
   ]
  },
  {
   "cell_type": "code",
   "execution_count": 49,
   "metadata": {},
   "outputs": [
    {
     "data": {
      "text/plain": [
       "(1, 2, 3)"
      ]
     },
     "execution_count": 49,
     "metadata": {},
     "output_type": "execute_result"
    }
   ],
   "source": [
    "def createCounter():\n",
    "    n = 0\n",
    "    def counter():\n",
    "        nonlocal n # 声明改变嵌套函数的外层函数的变量\n",
    "        n = n +1\n",
    "        return n\n",
    "    return counter\n",
    "\n",
    "cc = createCounter()\n",
    "cc(), cc(), cc()"
   ]
  },
  {
   "cell_type": "code",
   "execution_count": null,
   "metadata": {},
   "outputs": [],
   "source": []
  },
  {
   "cell_type": "code",
   "execution_count": 66,
   "metadata": {},
   "outputs": [
    {
     "name": "stdout",
     "output_type": "stream",
     "text": [
      "start timer\n",
      "you will be wait 5 seconds \n",
      "end timer\n"
     ]
    },
    {
     "data": {
      "text/plain": [
       "'函数sleep_time sum-cost 5.000628232955933:'"
      ]
     },
     "execution_count": 66,
     "metadata": {},
     "output_type": "execute_result"
    }
   ],
   "source": [
    "# 打印一个函数运行时长统计\n",
    "import time\n",
    "\n",
    "def time_sta():\n",
    "    pass\n",
    "\n",
    "def fun1(func):\n",
    "    def fun2(*args, **kwargs):\n",
    "        t1 = time.time()\n",
    "        print('start timer.....')\n",
    "        func(*args, **kwargs)\n",
    "        print('end timer......')\n",
    "        t2 = time.time()\n",
    "        t3 = t2 - t1\n",
    "        return 'function({}) sum-cost {}:'.format(func.__name__,t3)\n",
    "    return fun2\n",
    "    \n",
    "@fun1\n",
    "def sleep_time(st):\n",
    "    print('you will be wait {} seconds '.format(st))\n",
    "    time.sleep(st)\n",
    "\n",
    "sleep_time(5)"
   ]
  },
  {
   "cell_type": "code",
   "execution_count": 67,
   "metadata": {},
   "outputs": [
    {
     "name": "stdout",
     "output_type": "stream",
     "text": [
      "花费时间：10.000260591506958秒\n"
     ]
    }
   ],
   "source": [
    "def timer(func):\n",
    "    def wrapper(*args, **kw):\n",
    "        t1=time.time()\n",
    "        func(*args, **kw) # 这是调用sleep_time函数\n",
    "        t2=time.time()\n",
    "        cost_time = t2-t1 \n",
    "        print(\"花费时间：{}秒\".format(cost_time))\n",
    "    return wrapper\n",
    "\n",
    "@timer\n",
    "def sleep_time(st):\n",
    "    time.sleep(st)\n",
    "    \n",
    "sleep_time(10)"
   ]
  },
  {
   "cell_type": "markdown",
   "metadata": {},
   "source": [
    "## 匿名函数"
   ]
  },
  {
   "cell_type": "code",
   "execution_count": null,
   "metadata": {},
   "outputs": [],
   "source": [
    "list(map(lambda x:x * x, [1, 2, 3, 4, 5, 7]))\n",
    "\n",
    "'''\n",
    "def f(x):\n",
    "    return x * x\n",
    "'''"
   ]
  },
  {
   "cell_type": "markdown",
   "metadata": {},
   "source": [
    "关键字lambda表示匿名函数，冒号前面的x表示函数参数。\n",
    "匿名函数有个限制，就是只能有一个表达式，不用写return，返回值就是该表达式的结果。用匿名函数有个好处，因为函数没有名字，不必担心函数名冲突"
   ]
  },
  {
   "cell_type": "code",
   "execution_count": 68,
   "metadata": {},
   "outputs": [
    {
     "data": {
      "text/plain": [
       "(<function __main__.<lambda>(x)>, 25)"
      ]
     },
     "execution_count": 68,
     "metadata": {},
     "output_type": "execute_result"
    }
   ],
   "source": [
    "f = lambda x:x * x # 匿名函数也是一个函数对象，也可以把匿名函数赋值给一个变量，再利用变量来调用该函数：\n",
    "f, f(5)"
   ]
  },
  {
   "cell_type": "code",
   "execution_count": null,
   "metadata": {},
   "outputs": [],
   "source": [
    "def build(x, y):\n",
    "    return lambda x:x * x + y * y"
   ]
  },
  {
   "cell_type": "code",
   "execution_count": 69,
   "metadata": {},
   "outputs": [
    {
     "data": {
      "text/plain": [
       "[1, 3, 5, 7, 9, 11, 13, 15, 17, 19]"
      ]
     },
     "execution_count": 69,
     "metadata": {},
     "output_type": "execute_result"
    }
   ],
   "source": [
    "#用匿名函数改造下面代码\n",
    "'''\n",
    "def is_odd(n):\n",
    "    return n % 2 == 1\n",
    "\n",
    "L = list(filter(is_odd, range(1, 20)))\n",
    "'''\n",
    "list(filter(lambda n:n % 2 == 1, range(1, 20)))"
   ]
  },
  {
   "cell_type": "markdown",
   "metadata": {},
   "source": [
    "## 装饰器"
   ]
  },
  {
   "cell_type": "markdown",
   "metadata": {},
   "source": [
    "由于函数也是一个对象，而且函数对象可以被赋值给变量，所以，通过变量也能调用函数"
   ]
  },
  {
   "cell_type": "code",
   "execution_count": 72,
   "metadata": {},
   "outputs": [
    {
     "name": "stdout",
     "output_type": "stream",
     "text": [
      "2015-2-14\n"
     ]
    }
   ],
   "source": [
    "def now():\n",
    "    print('2015-2-14')\n",
    "\n",
    "f = now\n",
    "f()"
   ]
  },
  {
   "cell_type": "code",
   "execution_count": 74,
   "metadata": {},
   "outputs": [
    {
     "name": "stdout",
     "output_type": "stream",
     "text": [
      "2015-2-14\n"
     ]
    }
   ],
   "source": [
    "f= now() # 直接就调用了"
   ]
  },
  {
   "cell_type": "code",
   "execution_count": 75,
   "metadata": {},
   "outputs": [
    {
     "data": {
      "text/plain": [
       "'now'"
      ]
     },
     "execution_count": 75,
     "metadata": {},
     "output_type": "execute_result"
    }
   ],
   "source": [
    "now.__name__"
   ]
  },
  {
   "cell_type": "code",
<<<<<<< HEAD
   "execution_count": 77,
   "metadata": {},
   "outputs": [
    {
     "ename": "AttributeError",
     "evalue": "'NoneType' object has no attribute '__name__'",
     "output_type": "error",
     "traceback": [
      "\u001b[1;31m---------------------------------------------------------------------------\u001b[0m",
      "\u001b[1;31mAttributeError\u001b[0m                            Traceback (most recent call last)",
      "\u001b[1;32m<ipython-input-77-7a8bdcf9668d>\u001b[0m in \u001b[0;36m<module>\u001b[1;34m\u001b[0m\n\u001b[1;32m----> 1\u001b[1;33m \u001b[0mf\u001b[0m\u001b[1;33m.\u001b[0m\u001b[0m__name__\u001b[0m \u001b[1;31m# f已经不是对象，调用过的函数\u001b[0m\u001b[1;33m\u001b[0m\u001b[1;33m\u001b[0m\u001b[0m\n\u001b[0m",
      "\u001b[1;31mAttributeError\u001b[0m: 'NoneType' object has no attribute '__name__'"
     ]
    }
=======
<<<<<<< HEAD:lxf/函数式编程.ipynb
   "execution_count": 45,
   "execution_count": 81,
=======
   "execution_count": 7,
>>>>>>> 6755831cf9de3be3450c83bd4734165dee80403a:lxf/.ipynb_checkpoints/1-checkpoint.ipynb
   "metadata": {},
   "outputs": [
    {
     "data": {
      "text/plain": [
       "'now'"
      ]
     },
<<<<<<< HEAD:lxf/函数式编程.ipynb
     "execution_count": 45,
       "11"
     },
     "execution_count": 81,
=======
     "execution_count": 7,
>>>>>>> 6755831cf9de3be3450c83bd4734165dee80403a:lxf/.ipynb_checkpoints/1-checkpoint.ipynb
     "metadata": {},
     "output_type": "execute_result"
>>>>>>> 82341cf3066b84057df9209ce7c5fe09feda6f07
   ],
   "source": [
    "f.__name__ # f已经不是对象，调用过的函数"
   ]
  },
  {
   "cell_type": "markdown",
   "metadata": {},
   "source": [
    "现在，假设我们要增强now()函数的功能，比如，在函数调用前后自动打印日志，但又不希望修改now()函数的定义，这种在代码运行期间动态增加功能的方式，称之为“装饰器”（Decorator）。\n",
    "\n",
    "本质上，decorator就是一个返回函数的高阶函数。所以，我们要定义一个能打印日志的decorator，可以定义如下："
   ]
  },
  {
   "cell_type": "code",
   "execution_count": 80,
   "metadata": {},
   "outputs": [],
   "source": [
    "#观察log，因为它是一个decorator，now = log(now)，所以接受一个函数now作为参数，并返回一个函数wrapper\n",
    "#我们要借助Python的@语法，把decorator置于函数的定义处\n",
    "\n",
    "def log(func):\n",
    "    def wrapper(*args, **kw):\n",
    "        print('call %s{}:' % func.__name__)\n",
    "        return func(*args, **kw)\n",
    "    return wrapper"
   ]
  },
  {
   "cell_type": "code",
   "execution_count": 81,
   "metadata": {},
   "outputs": [
    {
     "name": "stdout",
     "output_type": "stream",
     "text": [
      "call now{}:\n",
      "2015-1-13\n"
     ]
    }
   ],
   "source": [
    "# 把@log放到now()函数的定义处，相当于执行了语句：now=log(now)\n",
    "\n",
    "@log \n",
    "def now():\n",
    "    print('2015-1-13')\n",
    "\n",
    "now() # 调用now()函数，不仅会运行now()函数本身，还会在运行now()函数前打印一行日志："
   ]
  },
  {
   "cell_type": "markdown",
   "metadata": {},
   "source": [
    "由于log()是一个decorator，返回一个函数，所以，原来的now()函数仍然存在，只是现在同名的now变量指向了新的函数，于是调用now()将执行新函数，即在log()函数中返回的wrapper()函数。\n",
    "\n",
<<<<<<< HEAD
    "wrapper()函数的参数定义是(*args, **kw)，因此，wrapper()函数可以接受任意参数的调用。在wrapper()函数内，首先打印日志，再紧接着调用原始函数"
=======
<<<<<<< HEAD:lxf/函数式编程.ipynb
    "wrapper()函数的参数定义是(*args, **kw)，因此，wrapper()函数可以接受任意参数的调用。在wrapper()函数内，首先打印日志，再紧接着调用原始函数"
    "cc()"
=======
    "wrapper()函数的参数定义是(*args, **kw)，因此，wrapper()函数可以接受任意参数的调用。在wrapper()函数内，首先打印日志，再紧接着调用原始函数cc()"
>>>>>>> 82341cf3066b84057df9209ce7c5fe09feda6f07
   ]
  },
  {
   "cell_type": "code",
   "execution_count": 102,
   "metadata": {},
   "outputs": [],
   "source": [
    "#如果decorator本身需要传入参数，编写一个返回decorator的高阶函数\n",
    "#3层的嵌套的效果\n",
    "#now = log('execute')(now)\n",
    "#1.log('execute') ->decorator\n",
    "#2.再调用返回的函数,参数是now ->wrapper\n",
    "#3.经过decorator装饰之后的函数，__name__已经从原来的now变成了wrapper\n",
    "#因为返回的那个wrapper函数名字就是wrapper，所以需要把原始的 name 等属性赋值到wrapper中，否则，依赖签名的代码就会出错\n",
    "import functools\n",
    "\n",
    "def log(text):\n",
    "    def decorator(func):\n",
    "        @functools.wraps(func)\n",
    "        def wrapper(*args, **kw):\n",
    "            print('%s %s():' % (text, func.__name__))\n",
    "            return func(*args, **kw)\n",
    "        return wrapper\n",
    "    return decorator\n",
    "\n",
    "@log('execute')\n",
    "def now():\n",
    "    print('2012-12-12')"
   ]
  },
  {
   "cell_type": "code",
   "execution_count": 101,
   "metadata": {},
   "outputs": [
    {
     "name": "stdout",
     "output_type": "stream",
     "text": [
      "execute now():\n",
      "2012-12-12\n"
     ]
    },
    {
     "data": {
      "text/plain": [
       "(None, 'now')"
      ]
     },
     "execution_count": 101,
     "metadata": {},
     "output_type": "execute_result"
    }
   ],
   "source": [
    "now(), now.__name__"
   ]
  },
  {
   "cell_type": "code",
   "execution_count": 90,
   "metadata": {},
   "outputs": [
    {
     "name": "stdout",
     "output_type": "stream",
     "text": [
      "你好!\n",
      "我来自中国。\n"
     ]
    }
   ],
   "source": [
    "def say_hello(country):\n",
    "    def wrapper(func):\n",
    "        def deco(*args, **kwargs):\n",
    "            if country == \"china\":\n",
    "                print(\"你好!\")\n",
    "            elif country == \"america\":\n",
    "                print('hello.')\n",
    "            else:\n",
    "                return \n",
    "            func(*args, **kwargs) # 真正执行chinese\\america函数的地方\n",
    "        return deco\n",
    "    return wrapper\n",
    "\n",
    "@say_hello(\"china\")\n",
    "def chinese():\n",
    "    print(\"我来自中国。\")\n",
    "\n",
    "@say_hello(\"america\")\n",
    "def american():\n",
    "    print(\"I am from America.\")\n",
    "    \n",
    "chinese()"
   ]
  },
  {
   "cell_type": "code",
   "execution_count": 91,
   "metadata": {},
   "outputs": [
    {
     "name": "stdout",
     "output_type": "stream",
     "text": [
      "hello.\n",
      "I am from America.\n"
     ]
    }
   ],
   "source": [
    "american()"
   ]
  },
  {
   "cell_type": "code",
   "execution_count": 96,
   "metadata": {},
   "outputs": [],
   "source": [
    "#一个完整的decorator的写法如下\n",
    "\n",
    "import functools\n",
    "\n",
    "def log(func):\n",
    "    @functools.wraps(func) # ？？？\n",
    "    def wrapper(*arg, **kwargs):\n",
    "        print('call %s:' % func.__name__)\n",
    "        return func(*args, **kwargs)\n",
    "    return wrapper\n"
   ]
  },
  {
   "cell_type": "code",
   "execution_count": 10,
   "metadata": {},
   "outputs": [],
   "source": [
    "# 针对带参数的decorator\n",
    "\n",
    "import functools\n",
    "\n",
    "def log(text):\n",
    "    def decorator(func):\n",
    "        @functools.wraps(func) # ？\n",
    "        def wrapper(*args, **kw):\n",
    "            print('%s %s():' % (text, func.__name__))\n",
    "            return func(*args, **kw)\n",
    "        return wrapper\n",
    "    return decorator"
   ]
  },
  {
   "cell_type": "markdown",
   "metadata": {},
   "source": [
    "请设计一个decorator，它可作用于任何函数上，并打印该函数的执行时间"
   ]
  },
  {
   "cell_type": "code",
   "execution_count": 93,
   "metadata": {
    "scrolled": true
   },
   "outputs": [
    {
     "name": "stdout",
     "output_type": "stream",
     "text": [
      "Excuted time : 2019-08-01 13:51:28.239932\n",
      "Current time : 2019-08-01 13:51:28.239932\n"
     ]
    }
   ],
   "source": [
    "import time, functools, datetime\n",
    "\n",
    "def log(func):\n",
    "    #def wrapper():\n",
    "    def wrapper(*args, **kw):\n",
    "        print( 'Excuted time : %s' % datetime.datetime.today())\n",
    "        return func(*args, **kw)\n",
    "    return wrapper\n",
    "\n",
    "@log\n",
    "def ppn():\n",
    "    print( 'Current time : %s' % datetime.datetime.today())\n",
    "    \n",
    "ppn()"
   ]
  },
  {
   "cell_type": "markdown",
   "metadata": {},
   "source": [
    "编写一个decorator，能在函数调用的前后打印出'begin call'和'end call'的日志"
   ]
  },
  {
   "cell_type": "code",
   "execution_count": 94,
   "metadata": {},
   "outputs": [],
   "source": [
    "def _debug(func):\n",
    "    def wrapper(*args, **kwargs):\n",
    "        print('Begin Call.......')\n",
    "        func(*args, **kwargs)\n",
    "        print('End Call........')\n",
    "    return wrapper\n",
    "\n",
    "@_debug\n",
    "def now():\n",
    "    print('2012-12-12')"
   ]
  },
  {
   "cell_type": "code",
   "execution_count": 95,
   "metadata": {},
   "outputs": [
    {
     "name": "stdout",
     "output_type": "stream",
     "text": [
      "Begin Call.......\n",
      "2012-12-12\n",
      "End Call........\n"
     ]
    }
   ],
   "source": [
    "now()"
   ]
  },
  {
   "cell_type": "code",
   "execution_count": null,
   "metadata": {},
   "outputs": [],
   "source": [
    "#写出一个@log的decorator，使它既支持：\n",
    "'''\n",
    "@log\n",
    "def f():\n",
    "    pass\n",
    "\n",
    "又支持：\n",
    "\n",
    "@log('execute')\n",
    "def f():\n",
    "    pass\n",
    "'''\n",
    "\n"
   ]
  },
  {
   "cell_type": "code",
   "execution_count": 111,
   "metadata": {},
   "outputs": [
    {
     "name": "stdout",
     "output_type": "stream",
     "text": [
      "foo  begin  excute\n",
      "foo is running...\n",
      "foo  end  excute\n"
     ]
    }
   ],
   "source": [
<<<<<<< HEAD
    "import functools\n",
    "\n",
    "def log(*text): # log(text) 支持log('excute') 为什么加个*号 ，就可以了，这么神奇\n",
    "    def decorator(func):\n",
    "        @functools.wraps(func)\n",
    "        def wrapper(*args,**kw):\n",
    "            print(func.__name__,' begin ' , *text)\n",
    "            func(*args,**kw)\n",
    "            print(func.__name__,' end ', *text)\n",
    "        return wrapper\n",
    "    return decorator\n",
    "\n",
    "@log('excute')  #or@log()\n",
    "def foo():\n",
    "    print('foo is running...')\n",
    "if __name__=='__main__':\n",
    "    f=foo\n",
    "    f()"
   ]
  },
  {
   "cell_type": "markdown",
   "metadata": {},
   "source": [
    "## 偏函数"
   ]
  },
  {
   "cell_type": "code",
   "execution_count": 17,
   "metadata": {},
   "outputs": [
    {
     "data": {
      "text/plain": [
       "12345"
      ]
     },
     "execution_count": 17,
     "metadata": {},
     "output_type": "execute_result"
    }
   ],
   "source": [
    "int('12345')"
   ]
  },
  {
   "cell_type": "code",
   "execution_count": 18,
   "metadata": {},
   "outputs": [
    {
     "data": {
      "text/plain": [
       "(5349, 5349, 74565)"
      ]
     },
     "execution_count": 18,
     "metadata": {},
     "output_type": "execute_result"
    }
   ],
   "source": [
    "int('12345', base=8), int('12345', 8), int('12345', 16) # 16->10"
   ]
  },
  {
   "cell_type": "code",
   "execution_count": 19,
   "metadata": {},
   "outputs": [],
   "source": [
    "def int2(x, base=2):\n",
    "    return int(x, base)"
   ]
  },
  {
   "cell_type": "code",
   "execution_count": 20,
   "metadata": {},
   "outputs": [
    {
     "data": {
      "text/plain": [
       "32"
      ]
     },
     "execution_count": 20,
     "metadata": {},
     "output_type": "execute_result"
    }
   ],
   "source": [
    "int2('100000')"
   ]
  },
  {
   "cell_type": "code",
   "execution_count": 21,
   "metadata": {},
   "outputs": [
    {
     "data": {
      "text/plain": [
       "85"
      ]
     },
     "execution_count": 21,
     "metadata": {},
     "output_type": "execute_result"
    }
   ],
   "source": [
    "int2('1010101')"
   ]
  },
  {
   "cell_type": "code",
   "execution_count": 22,
   "metadata": {},
   "outputs": [
    {
     "data": {
      "text/plain": [
       "1000000"
      ]
     },
     "execution_count": 22,
     "metadata": {},
     "output_type": "execute_result"
    }
   ],
   "source": [
    "int2('1000000', base=10)"
   ]
  },
  {
   "cell_type": "code",
   "execution_count": 23,
   "metadata": {},
   "outputs": [
    {
     "data": {
      "text/plain": [
       "(64, 85)"
      ]
     },
     "execution_count": 23,
     "metadata": {},
     "output_type": "execute_result"
    }
   ],
   "source": [
    "import functools\n",
    "\n",
    "int2 = functools.partial(int, base=2)\n",
    "\n",
    "int2('1000000'), int2('1010101') # 二进制->十进制"
   ]
  },
  {
   "cell_type": "code",
   "execution_count": 24,
   "metadata": {},
   "outputs": [
    {
     "data": {
      "text/plain": [
       "1000000"
      ]
     },
     "execution_count": 24,
     "metadata": {},
     "output_type": "execute_result"
    }
   ],
   "source": [
    "int2('1000000', base=10)"
   ]
  },
  {
   "cell_type": "code",
   "execution_count": 25,
   "metadata": {},
   "outputs": [],
   "source": [
    "# 创建偏函数时，实际上可接收函数对象，*args, **kw ，这3个参数\n",
    "\n",
    "int2 = functools.partial(int, base=2)"
   ]
  },
  {
   "cell_type": "code",
   "execution_count": 26,
   "metadata": {},
   "outputs": [
    {
     "data": {
      "text/plain": [
       "18"
      ]
     },
     "execution_count": 26,
     "metadata": {},
     "output_type": "execute_result"
    }
   ],
   "source": [
    "int2('10010')"
=======
    "ppn()"
>>>>>>> 6755831cf9de3be3450c83bd4734165dee80403a:lxf/.ipynb_checkpoints/1-checkpoint.ipynb
>>>>>>> 82341cf3066b84057df9209ce7c5fe09feda6f07
   ]
  },
  {
   "cell_type": "code",
   "execution_count": null,
   "metadata": {},
   "outputs": [],
   "source": []
  }
 ],
 "metadata": {
  "kernelspec": {
   "display_name": "Python 3",
   "language": "python",
   "name": "python3"
  },
  "language_info": {
   "codemirror_mode": {
    "name": "ipython",
    "version": 3
   },
   "file_extension": ".py",
   "mimetype": "text/x-python",
   "name": "python",
   "nbconvert_exporter": "python",
   "pygments_lexer": "ipython3",
   "version": "3.6.8"
  }
 },
 "nbformat": 4,
 "nbformat_minor": 2
}
