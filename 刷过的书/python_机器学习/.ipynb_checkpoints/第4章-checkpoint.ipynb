{
 "cells": [
  {
   "cell_type": "markdown",
   "metadata": {},
   "source": [
    "#### 识别数据中的缺失数值"
   ]
  },
  {
   "cell_type": "code",
   "execution_count": 2,
   "metadata": {},
   "outputs": [
    {
     "name": "stdout",
     "output_type": "stream",
     "text": [
      "      A     B     C    D\n",
      "0   1.0   2.0   3.0  4.0\n",
      "1   5.0   6.0   NaN  8.0\n",
      "2  10.0  11.0  12.0  NaN\n"
     ]
    }
   ],
   "source": [
    "import pandas as pd\n",
    "from io import StringIO\n",
    "\n",
    "csv_data = \\\n",
    "\"\"\"A, B, C, D\n",
    "1., 2., 3., 4.\n",
    "5,6,,8\n",
    "10,11,12,\"\"\"\n",
    "df = pd.read_csv(StringIO(csv_data))\n",
    "print(df)"
   ]
  },
  {
   "cell_type": "code",
   "execution_count": 3,
   "metadata": {},
   "outputs": [
    {
     "data": {
      "text/plain": [
       "A     0\n",
       " B    0\n",
       " C    1\n",
       " D    1\n",
       "dtype: int64"
      ]
     },
     "execution_count": 3,
     "metadata": {},
     "output_type": "execute_result"
    }
   ],
   "source": [
    "df.isnull().sum()"
   ]
  },
  {
   "cell_type": "code",
   "execution_count": 4,
   "metadata": {},
   "outputs": [
    {
     "data": {
      "text/plain": [
       "array([[ 1.,  2.,  3.,  4.],\n",
       "       [ 5.,  6., nan,  8.],\n",
       "       [10., 11., 12., nan]])"
      ]
     },
     "execution_count": 4,
     "metadata": {},
     "output_type": "execute_result"
    }
   ],
   "source": [
    "df.values"
   ]
  },
  {
   "cell_type": "markdown",
   "metadata": {},
   "source": [
    "### 删除缺失的数据"
   ]
  },
  {
   "cell_type": "code",
   "execution_count": 6,
   "metadata": {},
   "outputs": [
    {
     "data": {
      "text/html": [
       "<div>\n",
       "<style scoped>\n",
       "    .dataframe tbody tr th:only-of-type {\n",
       "        vertical-align: middle;\n",
       "    }\n",
       "\n",
       "    .dataframe tbody tr th {\n",
       "        vertical-align: top;\n",
       "    }\n",
       "\n",
       "    .dataframe thead th {\n",
       "        text-align: right;\n",
       "    }\n",
       "</style>\n",
       "<table border=\"1\" class=\"dataframe\">\n",
       "  <thead>\n",
       "    <tr style=\"text-align: right;\">\n",
       "      <th></th>\n",
       "      <th>A</th>\n",
       "      <th>B</th>\n",
       "      <th>C</th>\n",
       "      <th>D</th>\n",
       "    </tr>\n",
       "  </thead>\n",
       "  <tbody>\n",
       "    <tr>\n",
       "      <th>0</th>\n",
       "      <td>1.0</td>\n",
       "      <td>2.0</td>\n",
       "      <td>3.0</td>\n",
       "      <td>4.0</td>\n",
       "    </tr>\n",
       "    <tr>\n",
       "      <th>1</th>\n",
       "      <td>5.0</td>\n",
       "      <td>6.0</td>\n",
       "      <td>NaN</td>\n",
       "      <td>8.0</td>\n",
       "    </tr>\n",
       "    <tr>\n",
       "      <th>2</th>\n",
       "      <td>10.0</td>\n",
       "      <td>11.0</td>\n",
       "      <td>12.0</td>\n",
       "      <td>NaN</td>\n",
       "    </tr>\n",
       "  </tbody>\n",
       "</table>\n",
       "</div>"
      ],
      "text/plain": [
       "      A     B     C    D\n",
       "0   1.0   2.0   3.0  4.0\n",
       "1   5.0   6.0   NaN  8.0\n",
       "2  10.0  11.0  12.0  NaN"
      ]
     },
     "execution_count": 6,
     "metadata": {},
     "output_type": "execute_result"
    }
   ],
   "source": [
    "df.dropna(axis=0,how=\"all\") # 只有全是NaN才丢弃"
   ]
  },
  {
   "cell_type": "code",
   "execution_count": 7,
   "metadata": {},
   "outputs": [
    {
     "data": {
      "text/html": [
       "<div>\n",
       "<style scoped>\n",
       "    .dataframe tbody tr th:only-of-type {\n",
       "        vertical-align: middle;\n",
       "    }\n",
       "\n",
       "    .dataframe tbody tr th {\n",
       "        vertical-align: top;\n",
       "    }\n",
       "\n",
       "    .dataframe thead th {\n",
       "        text-align: right;\n",
       "    }\n",
       "</style>\n",
       "<table border=\"1\" class=\"dataframe\">\n",
       "  <thead>\n",
       "    <tr style=\"text-align: right;\">\n",
       "      <th></th>\n",
       "      <th>A</th>\n",
       "      <th>B</th>\n",
       "      <th>C</th>\n",
       "      <th>D</th>\n",
       "    </tr>\n",
       "  </thead>\n",
       "  <tbody>\n",
       "    <tr>\n",
       "      <th>0</th>\n",
       "      <td>1.0</td>\n",
       "      <td>2.0</td>\n",
       "      <td>3.0</td>\n",
       "      <td>4.0</td>\n",
       "    </tr>\n",
       "  </tbody>\n",
       "</table>\n",
       "</div>"
      ],
      "text/plain": [
       "     A    B    C    D\n",
       "0  1.0  2.0  3.0  4.0"
      ]
     },
     "execution_count": 7,
     "metadata": {},
     "output_type": "execute_result"
    }
   ],
   "source": [
    "df.dropna(thresh=4)"
   ]
  },
  {
   "cell_type": "code",
   "execution_count": 17,
   "metadata": {},
   "outputs": [
    {
     "data": {
      "text/plain": [
       "Index(['A', ' B', ' C', ' D'], dtype='object')"
      ]
     },
     "execution_count": 17,
     "metadata": {},
     "output_type": "execute_result"
    }
   ],
   "source": [
    "df.columns"
   ]
  },
  {
   "cell_type": "code",
   "execution_count": 24,
   "metadata": {},
   "outputs": [
    {
     "data": {
      "text/html": [
       "<div>\n",
       "<style scoped>\n",
       "    .dataframe tbody tr th:only-of-type {\n",
       "        vertical-align: middle;\n",
       "    }\n",
       "\n",
       "    .dataframe tbody tr th {\n",
       "        vertical-align: top;\n",
       "    }\n",
       "\n",
       "    .dataframe thead th {\n",
       "        text-align: right;\n",
       "    }\n",
       "</style>\n",
       "<table border=\"1\" class=\"dataframe\">\n",
       "  <thead>\n",
       "    <tr style=\"text-align: right;\">\n",
       "      <th></th>\n",
       "      <th>A</th>\n",
       "      <th>B</th>\n",
       "      <th>C</th>\n",
       "      <th>D</th>\n",
       "    </tr>\n",
       "  </thead>\n",
       "  <tbody>\n",
       "    <tr>\n",
       "      <th>0</th>\n",
       "      <td>1.0</td>\n",
       "      <td>2.0</td>\n",
       "      <td>3.0</td>\n",
       "      <td>4.0</td>\n",
       "    </tr>\n",
       "    <tr>\n",
       "      <th>2</th>\n",
       "      <td>10.0</td>\n",
       "      <td>11.0</td>\n",
       "      <td>12.0</td>\n",
       "      <td>NaN</td>\n",
       "    </tr>\n",
       "  </tbody>\n",
       "</table>\n",
       "</div>"
      ],
      "text/plain": [
       "      A     B     C    D\n",
       "0   1.0   2.0   3.0  4.0\n",
       "2  10.0  11.0  12.0  NaN"
      ]
     },
     "execution_count": 24,
     "metadata": {},
     "output_type": "execute_result"
    }
   ],
   "source": [
    "df.dropna(subset=[' C'])"
   ]
  },
  {
   "cell_type": "markdown",
   "metadata": {},
   "source": [
    "### 填补缺失的数据"
   ]
  },
  {
   "cell_type": "code",
   "execution_count": 27,
   "metadata": {},
   "outputs": [
    {
     "data": {
      "text/plain": [
       "array([[ 1. ,  2. ,  3. ,  4. ],\n",
       "       [ 5. ,  6. ,  7.5,  8. ],\n",
       "       [10. , 11. , 12. ,  6. ]])"
      ]
     },
     "execution_count": 27,
     "metadata": {},
     "output_type": "execute_result"
    }
   ],
   "source": [
    "from sklearn.preprocessing import Imputer\n",
    "imr = Imputer(missing_values=\"NaN\", strategy=\"mean\", axis=0)\n",
    "imr = imr.fit(df.values)\n",
    "impute_data = imr.transform(df.values)\n",
    "impute_data"
   ]
  },
  {
   "cell_type": "code",
   "execution_count": 39,
   "metadata": {},
   "outputs": [
    {
     "data": {
      "text/html": [
       "<div>\n",
       "<style scoped>\n",
       "    .dataframe tbody tr th:only-of-type {\n",
       "        vertical-align: middle;\n",
       "    }\n",
       "\n",
       "    .dataframe tbody tr th {\n",
       "        vertical-align: top;\n",
       "    }\n",
       "\n",
       "    .dataframe thead th {\n",
       "        text-align: right;\n",
       "    }\n",
       "</style>\n",
       "<table border=\"1\" class=\"dataframe\">\n",
       "  <thead>\n",
       "    <tr style=\"text-align: right;\">\n",
       "      <th></th>\n",
       "      <th>color</th>\n",
       "      <th>size</th>\n",
       "      <th>price</th>\n",
       "      <th>classlabel</th>\n",
       "    </tr>\n",
       "  </thead>\n",
       "  <tbody>\n",
       "    <tr>\n",
       "      <th>0</th>\n",
       "      <td>green</td>\n",
       "      <td>M</td>\n",
       "      <td>10.1</td>\n",
       "      <td>class1</td>\n",
       "    </tr>\n",
       "    <tr>\n",
       "      <th>1</th>\n",
       "      <td>red</td>\n",
       "      <td>L</td>\n",
       "      <td>13.5</td>\n",
       "      <td>class2</td>\n",
       "    </tr>\n",
       "    <tr>\n",
       "      <th>2</th>\n",
       "      <td>blue</td>\n",
       "      <td>XL</td>\n",
       "      <td>15.3</td>\n",
       "      <td>class1</td>\n",
       "    </tr>\n",
       "  </tbody>\n",
       "</table>\n",
       "</div>"
      ],
      "text/plain": [
       "   color size  price classlabel\n",
       "0  green    M   10.1     class1\n",
       "1    red    L   13.5     class2\n",
       "2   blue   XL   15.3     class1"
      ]
     },
     "execution_count": 39,
     "metadata": {},
     "output_type": "execute_result"
    }
   ],
   "source": [
    "import pandas as pd\n",
    "df = pd.DataFrame([[\"green\", \"M\", 10.1, \"class1\"],\n",
    "                  [\"red\", \"L\", 13.5, \"class2\"],\n",
    "                  [\"blue\", \"XL\", 15.3, \"class1\"]])\n",
    "df.columns = [\"color\", \"size\", \"price\", \"classlabel\"]\n",
    "df"
   ]
  },
  {
   "cell_type": "markdown",
   "metadata": {},
   "source": [
    "### 映射序数特征"
   ]
  },
  {
   "cell_type": "code",
   "execution_count": 40,
   "metadata": {},
   "outputs": [],
   "source": [
    "size_mapping = {\"XL\":3, \"L\":2,\"M\":1}\n",
    "df[\"size\"] = df[\"size\"].map(size_mapping)"
   ]
  },
  {
   "cell_type": "code",
   "execution_count": 37,
   "metadata": {},
   "outputs": [
    {
     "data": {
      "text/plain": [
       "{3: 'XL', 2: 'L', 1: 'M'}"
      ]
     },
     "execution_count": 37,
     "metadata": {},
     "output_type": "execute_result"
    }
   ],
   "source": [
    "inv_size_mapping"
   ]
  },
  {
   "cell_type": "code",
   "execution_count": 44,
   "metadata": {},
   "outputs": [
    {
     "data": {
      "text/plain": [
       "0     M\n",
       "1     L\n",
       "2    XL\n",
       "Name: size, dtype: object"
      ]
     },
     "execution_count": 44,
     "metadata": {},
     "output_type": "execute_result"
    }
   ],
   "source": [
    "inv_size_mapping = {v:k for k, v in size_mapping.items()}\n",
    "df[\"size\"].map(inv_size_mapping)"
   ]
  },
  {
   "cell_type": "code",
   "execution_count": 45,
   "metadata": {},
   "outputs": [
    {
     "data": {
      "text/html": [
       "<div>\n",
       "<style scoped>\n",
       "    .dataframe tbody tr th:only-of-type {\n",
       "        vertical-align: middle;\n",
       "    }\n",
       "\n",
       "    .dataframe tbody tr th {\n",
       "        vertical-align: top;\n",
       "    }\n",
       "\n",
       "    .dataframe thead th {\n",
       "        text-align: right;\n",
       "    }\n",
       "</style>\n",
       "<table border=\"1\" class=\"dataframe\">\n",
       "  <thead>\n",
       "    <tr style=\"text-align: right;\">\n",
       "      <th></th>\n",
       "      <th>color</th>\n",
       "      <th>size</th>\n",
       "      <th>price</th>\n",
       "      <th>classlabel</th>\n",
       "    </tr>\n",
       "  </thead>\n",
       "  <tbody>\n",
       "    <tr>\n",
       "      <th>0</th>\n",
       "      <td>green</td>\n",
       "      <td>1</td>\n",
       "      <td>10.1</td>\n",
       "      <td>class1</td>\n",
       "    </tr>\n",
       "    <tr>\n",
       "      <th>1</th>\n",
       "      <td>red</td>\n",
       "      <td>2</td>\n",
       "      <td>13.5</td>\n",
       "      <td>class2</td>\n",
       "    </tr>\n",
       "    <tr>\n",
       "      <th>2</th>\n",
       "      <td>blue</td>\n",
       "      <td>3</td>\n",
       "      <td>15.3</td>\n",
       "      <td>class1</td>\n",
       "    </tr>\n",
       "  </tbody>\n",
       "</table>\n",
       "</div>"
      ],
      "text/plain": [
       "   color  size  price classlabel\n",
       "0  green     1   10.1     class1\n",
       "1    red     2   13.5     class2\n",
       "2   blue     3   15.3     class1"
      ]
     },
     "execution_count": 45,
     "metadata": {},
     "output_type": "execute_result"
    }
   ],
   "source": [
    "df"
   ]
  },
  {
   "cell_type": "code",
   "execution_count": 43,
   "metadata": {},
   "outputs": [
    {
     "data": {
      "text/plain": [
       "{3: 'XL', 2: 'L', 1: 'M'}"
      ]
     },
     "execution_count": 43,
     "metadata": {},
     "output_type": "execute_result"
    }
   ],
   "source": [
    "inv_size_mapping"
   ]
  },
  {
   "cell_type": "code",
   "execution_count": 46,
   "metadata": {},
   "outputs": [
    {
     "data": {
      "text/plain": [
       "array([0, 1, 0])"
      ]
     },
     "execution_count": 46,
     "metadata": {},
     "output_type": "execute_result"
    }
   ],
   "source": [
    "from sklearn.preprocessing import LabelEncoder\n",
    "class_le = LabelEncoder()\n",
    "y = class_le.fit_transform(df[\"classlabel\"].values)\n",
    "y"
   ]
  },
  {
   "cell_type": "code",
   "execution_count": 47,
   "metadata": {},
   "outputs": [
    {
     "data": {
      "text/plain": [
       "array(['class1', 'class2', 'class1'], dtype=object)"
      ]
     },
     "execution_count": 47,
     "metadata": {},
     "output_type": "execute_result"
    }
   ],
   "source": [
    "class_le.inverse_transform(y)"
   ]
  },
  {
   "cell_type": "markdown",
   "metadata": {},
   "source": [
    "### 为名词特征做热编码"
   ]
  },
  {
   "cell_type": "code",
   "execution_count": 49,
   "metadata": {},
   "outputs": [
    {
     "data": {
      "text/plain": [
       "array([[1, 1, 10.1],\n",
       "       [2, 2, 13.5],\n",
       "       [0, 3, 15.3]], dtype=object)"
      ]
     },
     "execution_count": 49,
     "metadata": {},
     "output_type": "execute_result"
    }
   ],
   "source": [
    "X = df[[\"color\", \"size\", \"price\"]].values\n",
    "color_le = LabelEncoder()\n",
    "X[:, 0] = color_le.fit_transform(X[:, 0])\n",
    "X"
   ]
  },
  {
   "cell_type": "markdown",
   "metadata": {},
   "source": [
    "### 为名词特征独热编码"
   ]
  },
  {
   "cell_type": "code",
   "execution_count": 51,
   "metadata": {},
   "outputs": [
    {
     "name": "stderr",
     "output_type": "stream",
     "text": [
      "D:\\Anaconda\\lib\\site-packages\\sklearn\\preprocessing\\_encoders.py:371: FutureWarning: The handling of integer data will change in version 0.22. Currently, the categories are determined based on the range [0, max(values)], while in the future they will be determined based on the unique values.\n",
      "If you want the future behaviour and silence this warning, you can specify \"categories='auto'\".\n",
      "In case you used a LabelEncoder before this OneHotEncoder to convert the categories to integers, then you can now use the OneHotEncoder directly.\n",
      "  warnings.warn(msg, FutureWarning)\n",
      "D:\\Anaconda\\lib\\site-packages\\sklearn\\preprocessing\\_encoders.py:371: FutureWarning: The handling of integer data will change in version 0.22. Currently, the categories are determined based on the range [0, max(values)], while in the future they will be determined based on the unique values.\n",
      "If you want the future behaviour and silence this warning, you can specify \"categories='auto'\".\n",
      "In case you used a LabelEncoder before this OneHotEncoder to convert the categories to integers, then you can now use the OneHotEncoder directly.\n",
      "  warnings.warn(msg, FutureWarning)\n"
     ]
    },
    {
     "data": {
      "text/plain": [
       "array([[ 1. ,  0. ,  1. , 10.1],\n",
       "       [ 0. ,  1. ,  2. , 13.5],\n",
       "       [ 0. ,  0. ,  3. , 15.3]])"
      ]
     },
     "execution_count": 51,
     "metadata": {},
     "output_type": "execute_result"
    }
   ],
   "source": [
    "from sklearn.preprocessing import OneHotEncoder\n",
    "one = OneHotEncoder(categorical_features=[0])\n",
    "one.fit_transform(X).toarray()\n",
    "pd.get_dummies(df[[\"price\", \"color\", \"size\"]], drop_first=True)\n",
    "\n",
    "one = OneHotEncoder(categorical_features=[0])\n",
    "one.fit_transform(X).toarray()[:, 1:]\n"
   ]
  },
  {
   "cell_type": "markdown",
   "metadata": {},
   "source": [
    "## 分裂数据集为独立的训练集和测试集"
   ]
  },
  {
   "cell_type": "code",
   "execution_count": 58,
   "metadata": {},
   "outputs": [
    {
     "name": "stdout",
     "output_type": "stream",
     "text": [
      "Class labels [1 2 3]\n"
     ]
    },
    {
     "data": {
      "text/html": [
       "<div>\n",
       "<style scoped>\n",
       "    .dataframe tbody tr th:only-of-type {\n",
       "        vertical-align: middle;\n",
       "    }\n",
       "\n",
       "    .dataframe tbody tr th {\n",
       "        vertical-align: top;\n",
       "    }\n",
       "\n",
       "    .dataframe thead th {\n",
       "        text-align: right;\n",
       "    }\n",
       "</style>\n",
       "<table border=\"1\" class=\"dataframe\">\n",
       "  <thead>\n",
       "    <tr style=\"text-align: right;\">\n",
       "      <th></th>\n",
       "      <th>Class label</th>\n",
       "      <th>Alcohol</th>\n",
       "      <th>Malic acid</th>\n",
       "      <th>Ash</th>\n",
       "      <th>Alcalintiy of ash</th>\n",
       "      <th>Magnesium</th>\n",
       "      <th>Total phenls</th>\n",
       "      <th>Flavanoids</th>\n",
       "      <th>Nonflavanoid</th>\n",
       "      <th>Proanthocynins</th>\n",
       "      <th>Color intensity</th>\n",
       "      <th>Hue</th>\n",
       "      <th>OD280</th>\n",
       "      <th>Proline</th>\n",
       "    </tr>\n",
       "  </thead>\n",
       "  <tbody>\n",
       "    <tr>\n",
       "      <th>0</th>\n",
       "      <td>1</td>\n",
       "      <td>14.23</td>\n",
       "      <td>1.71</td>\n",
       "      <td>2.43</td>\n",
       "      <td>15.6</td>\n",
       "      <td>127</td>\n",
       "      <td>2.80</td>\n",
       "      <td>3.06</td>\n",
       "      <td>0.28</td>\n",
       "      <td>2.29</td>\n",
       "      <td>5.64</td>\n",
       "      <td>1.04</td>\n",
       "      <td>3.92</td>\n",
       "      <td>1065</td>\n",
       "    </tr>\n",
       "    <tr>\n",
       "      <th>1</th>\n",
       "      <td>1</td>\n",
       "      <td>13.20</td>\n",
       "      <td>1.78</td>\n",
       "      <td>2.14</td>\n",
       "      <td>11.2</td>\n",
       "      <td>100</td>\n",
       "      <td>2.65</td>\n",
       "      <td>2.76</td>\n",
       "      <td>0.26</td>\n",
       "      <td>1.28</td>\n",
       "      <td>4.38</td>\n",
       "      <td>1.05</td>\n",
       "      <td>3.40</td>\n",
       "      <td>1050</td>\n",
       "    </tr>\n",
       "    <tr>\n",
       "      <th>2</th>\n",
       "      <td>1</td>\n",
       "      <td>13.16</td>\n",
       "      <td>2.36</td>\n",
       "      <td>2.67</td>\n",
       "      <td>18.6</td>\n",
       "      <td>101</td>\n",
       "      <td>2.80</td>\n",
       "      <td>3.24</td>\n",
       "      <td>0.30</td>\n",
       "      <td>2.81</td>\n",
       "      <td>5.68</td>\n",
       "      <td>1.03</td>\n",
       "      <td>3.17</td>\n",
       "      <td>1185</td>\n",
       "    </tr>\n",
       "    <tr>\n",
       "      <th>3</th>\n",
       "      <td>1</td>\n",
       "      <td>14.37</td>\n",
       "      <td>1.95</td>\n",
       "      <td>2.50</td>\n",
       "      <td>16.8</td>\n",
       "      <td>113</td>\n",
       "      <td>3.85</td>\n",
       "      <td>3.49</td>\n",
       "      <td>0.24</td>\n",
       "      <td>2.18</td>\n",
       "      <td>7.80</td>\n",
       "      <td>0.86</td>\n",
       "      <td>3.45</td>\n",
       "      <td>1480</td>\n",
       "    </tr>\n",
       "    <tr>\n",
       "      <th>4</th>\n",
       "      <td>1</td>\n",
       "      <td>13.24</td>\n",
       "      <td>2.59</td>\n",
       "      <td>2.87</td>\n",
       "      <td>21.0</td>\n",
       "      <td>118</td>\n",
       "      <td>2.80</td>\n",
       "      <td>2.69</td>\n",
       "      <td>0.39</td>\n",
       "      <td>1.82</td>\n",
       "      <td>4.32</td>\n",
       "      <td>1.04</td>\n",
       "      <td>2.93</td>\n",
       "      <td>735</td>\n",
       "    </tr>\n",
       "  </tbody>\n",
       "</table>\n",
       "</div>"
      ],
      "text/plain": [
       "   Class label  Alcohol  Malic acid   Ash  Alcalintiy of ash  Magnesium  \\\n",
       "0            1    14.23        1.71  2.43               15.6        127   \n",
       "1            1    13.20        1.78  2.14               11.2        100   \n",
       "2            1    13.16        2.36  2.67               18.6        101   \n",
       "3            1    14.37        1.95  2.50               16.8        113   \n",
       "4            1    13.24        2.59  2.87               21.0        118   \n",
       "\n",
       "   Total phenls  Flavanoids  Nonflavanoid  Proanthocynins  Color intensity  \\\n",
       "0          2.80        3.06          0.28            2.29             5.64   \n",
       "1          2.65        2.76          0.26            1.28             4.38   \n",
       "2          2.80        3.24          0.30            2.81             5.68   \n",
       "3          3.85        3.49          0.24            2.18             7.80   \n",
       "4          2.80        2.69          0.39            1.82             4.32   \n",
       "\n",
       "    Hue  OD280  Proline  \n",
       "0  1.04   3.92     1065  \n",
       "1  1.05   3.40     1050  \n",
       "2  1.03   3.17     1185  \n",
       "3  0.86   3.45     1480  \n",
       "4  1.04   2.93      735  "
      ]
     },
     "execution_count": 58,
     "metadata": {},
     "output_type": "execute_result"
    }
   ],
   "source": [
    "import numpy as np\n",
    "df_wine = pd.read_csv(r\"C:\\Users\\admin\\Desktop\\myself\\刷过的书\\python_机器学习\\wine_data.csv\", header=None)\n",
    "df_wine.columns = [\"Class label\", \"Alcohol\", \"Malic acid\", \"Ash\", \"Alcalintiy of ash\", \"Magnesium\", \"Total phenls\", \n",
    "                  \"Flavanoids\", \"Nonflavanoid\", \"Proanthocynins\", \"Color intensity\", \"Hue\", \"OD280\", \"Proline\"]\n",
    "print(\"Class labels\", np.unique(df_wine[\"Class label\"]))\n",
    "df_wine.head()"
   ]
  },
  {
   "cell_type": "code",
   "execution_count": 62,
   "metadata": {},
   "outputs": [
    {
     "name": "stdout",
     "output_type": "stream",
     "text": [
      "[[ 8.94437367e-01 -3.88117877e-01  1.10073064e+00 -8.12017114e-01\n",
      "   1.13201117e+00  1.09807851e+00  7.12041017e-01  1.81013423e-01\n",
      "   6.62804643e-02  5.12859235e-01  7.96297849e-01  4.48295020e-01\n",
      "   1.90593792e+00]\n",
      " [-1.04879931e+00 -7.72993966e-01  5.41190056e-01 -2.40938809e-01\n",
      "   3.49414498e-01 -7.07219221e-01 -3.08121293e-01  6.76138376e-01\n",
      "  -1.03520519e+00 -9.06567274e-01  2.24570604e+00 -5.61881713e-01\n",
      "  -1.22874035e+00]\n",
      " [ 1.64744158e+00 -4.13776283e-01  2.42768413e-01 -1.56343594e+00\n",
      "  -2.19746720e-01  2.84881333e-01  4.47191186e-01 -5.61674005e-01\n",
      "   5.74658458e-01  6.79643589e-02  2.98063782e-01  1.38631627e+00\n",
      "   1.64471473e+00]\n",
      " [ 2.02159300e-01 -4.90751501e-01 -9.13615453e-01 -2.58536553e+00\n",
      "   6.48338887e-02  5.28840485e-01  6.82613258e-01 -8.91757306e-01\n",
      "  -6.11556861e-01 -3.00662824e-01  4.33945800e-01  1.12655654e+00\n",
      "   9.07143373e-01]\n",
      " [-8.05894728e-01 -1.09800044e+00 -1.06282627e+00 -3.91222574e-01\n",
      "  -7.88907938e-01  1.94380357e+00  1.65372930e+00 -1.05679896e+00\n",
      "   5.23820659e-01 -2.49817695e-01  3.88651794e-01  2.17397481e-01\n",
      "  -2.91410081e-01]\n",
      " [-7.08732894e-01  5.78348747e-01  9.51519815e-01  2.16360142e+00\n",
      "  -1.48601568e-01 -6.90955277e-01 -1.45580389e+00  2.16151323e+00\n",
      "  -8.48799925e-01  1.02131052e+00 -1.28722643e+00 -1.28343652e+00\n",
      "   3.84696996e-01]\n",
      " [-1.44959188e+00  4.58609519e-01 -5.77891105e-01 -5.41506338e-01\n",
      "   9.18575715e-01 -9.83706260e-01 -7.29919172e-01  5.11096725e-01\n",
      "  -1.17077265e+00 -1.03368010e+00  2.62997455e-02 -1.43379923e-01\n",
      "  -7.83124318e-01]\n",
      " [ 5.05790031e-01  1.15138648e+00  8.02308994e-01  9.61331305e-01\n",
      "   8.47430563e-01 -1.01623415e+00 -1.12228929e+00  5.11096725e-01\n",
      "  -3.06530065e-01  2.36870643e+00 -4.71934321e-01 -1.52876516e+00\n",
      "  -1.83847591e-01]\n",
      " [ 8.58001680e-01 -5.84832323e-01 -5.03285694e-01 -1.02241438e+00\n",
      "   1.34544663e+00  4.47520768e-01  8.19942800e-01 -1.30436143e+00\n",
      "  -3.53951345e-02  3.22190002e-01 -1.54876279e-01  8.37934618e-01\n",
      "   9.37875512e-01]\n",
      " [ 3.47902051e-01  7.57957588e-01 -1.83505244e-02  5.10480012e-01\n",
      "  -5.04327329e-01 -6.42163447e-01 -1.27923734e+00  6.76138376e-01\n",
      "  -6.62394660e-01  1.41112317e+00 -1.83075450e+00 -1.44217858e+00\n",
      "  -3.22142221e-01]\n",
      " [ 8.70146909e-01 -5.33515511e-01  9.35575917e-02 -1.14264140e+00\n",
      "  -7.17762786e-01  4.47520768e-01  6.82613258e-01 -6.44194830e-01\n",
      "   2.86577595e-01  2.16262651e-01  8.86885861e-01  4.05001732e-01\n",
      "   1.73691115e+00]\n",
      " [-9.03056562e-01 -8.07205174e-01 -1.51045874e+00 -1.14264140e+00\n",
      "  -1.00234339e+00  3.66201050e-01  4.27572680e-01 -6.44194830e-01\n",
      "   2.18793862e-01 -9.27752744e-01  1.24923791e+00  1.74104193e-01\n",
      "  -1.00439572e+00]\n",
      " [ 9.06582597e-01  3.47423093e-01 -3.16772167e-01  6.60763777e-01\n",
      "  -6.46617634e-01 -1.58547217e+00 -1.35771136e+00  3.46055074e-01\n",
      "  -1.03520519e+00  1.90262608e+00 -1.15134441e+00 -1.35559200e+00\n",
      "  -4.29704710e-01]\n",
      " [ 1.00374443e+00 -8.58521986e-01 -4.28680283e-01 -1.14264140e+00\n",
      "  -7.74564157e-02  1.06555062e+00  1.06517412e+00 -1.22184061e+00\n",
      "   3.54361327e-01  9.02671888e-01  2.52769776e-01  1.34302298e+00\n",
      "   8.91777303e-01]\n",
      " [-8.18039958e-01  1.26257291e+00 -1.83505244e-02  3.60196248e-01\n",
      "  -7.88907938e-01 -4.03975371e-02 -1.12228929e+00  1.08874250e+00\n",
      "  -1.01825926e+00  1.08486693e+00 -1.78546050e+00 -1.49990297e+00\n",
      "  -7.21660038e-01]\n",
      " [ 9.28522366e-02 -3.88117877e-01  1.36184957e+00  1.71275013e+00\n",
      "   1.20315632e+00 -2.03036972e-01 -7.69156184e-01 -8.91757306e-01\n",
      "  -1.37070733e-01  8.51826759e-01 -1.55899047e+00 -1.86068037e+00\n",
      "  -1.01361537e+00]\n",
      " [ 5.66516178e-01 -4.65093095e-01  8.39611699e-01  5.96287194e-02\n",
      "  -2.19746720e-01  3.33673163e-01  5.35474463e-01 -7.26715656e-01\n",
      "   3.23885980e-02 -6.65052913e-01  7.51003843e-01  1.73266258e+00\n",
      "   2.77134506e-01]\n",
      " [ 1.44097268e+00  1.39941774e+00  4.66584645e-01 -1.98423048e+00\n",
      "   2.05689815e+00  1.09807851e+00  9.57272342e-01 -1.38688226e+00\n",
      "   7.44117790e-01  4.40794804e-03 -2.90758297e-01  1.31416079e+00\n",
      "   1.59113176e-02]\n",
      " [-1.98633266e-01  1.92969146e+00  3.54676529e-01  5.10480012e-01\n",
      "  -9.31198243e-01 -1.01623415e+00 -1.38713912e+00  8.41180026e-01\n",
      "  -1.32328605e+00  1.08486693e+00 -1.87604851e+00 -1.09583227e+00\n",
      "  -3.98972570e-01]\n",
      " [-6.84442436e-01 -7.13124352e-01 -6.89799221e-01 -2.40938809e-01\n",
      "   4.47583333e+00  2.84881333e-01  2.01959862e-01 -3.96632354e-01\n",
      "   2.77762977e+00 -1.05486557e+00  9.32179867e-01  1.53621347e-02\n",
      "   5.59870193e-01]\n",
      " [ 1.62315112e+00 -3.45353867e-01  4.29281940e-01 -9.02187372e-01\n",
      "   9.89720868e-01  2.48051371e+00  1.39868873e+00 -1.05679896e+00\n",
      "   9.13577121e-01  1.14842334e+00 -4.26640315e-01  1.19871202e+00\n",
      "   2.22862539e+00]\n",
      " [ 8.45856450e-01  1.71587141e+00 -4.65982989e-01  8.11047541e-01\n",
      "  -7.88907938e-01 -1.69931977e+00 -1.56370568e+00  1.25378415e+00\n",
      "  -8.31853992e-01  6.48446244e-01 -7.88992364e-01 -1.25457433e+00\n",
      "  -7.21660038e-01]\n",
      " [-4.30959748e-03 -1.24339808e+00 -2.51763178e+00 -1.14264140e+00\n",
      "  -9.31198243e-01 -6.09635560e-01 -3.34622098e-02 -1.05679896e+00\n",
      "  -3.06530065e-01 -2.07446755e-01  1.06806189e+00 -2.01104308e-01\n",
      "  -1.11503143e+00]\n",
      " [-7.45168582e-01 -6.36149134e-01 -7.27101926e-01  8.11047541e-01\n",
      "   6.33995107e-01 -5.28315842e-01  2.53933081e-02 -2.31590703e-01\n",
      "  -5.23410677e-02 -1.28366864e+00  4.79239806e-01  4.91588309e-01\n",
      "  -1.25947249e+00]\n",
      " [-1.54675371e+00  2.79000678e-01  1.99599557e+00  5.96287194e-02\n",
      "   2.78269345e-01 -9.34914430e-01 -3.34622098e-02  1.91395076e+00\n",
      "  -1.00131332e+00 -5.46414279e-01  1.24923791e+00 -1.72242116e-01\n",
      "  -4.54290422e-01]\n",
      " [-7.33023353e-01 -7.04571550e-01 -3.54074873e-01  5.10480012e-01\n",
      "  -9.31198243e-01  6.75215977e-01  1.06517412e+00  1.81013423e-01\n",
      "   2.18793862e-01 -4.87094962e-01 -1.19663842e+00  3.18415155e-01\n",
      "  -1.23795999e+00]\n",
      " [ 1.45311791e+00 -5.50621115e-01  1.68163002e-01 -1.26286841e+00\n",
      "   1.98575300e+00  7.72799638e-01  9.76890848e-01 -7.26715656e-01\n",
      "   1.09998239e+00  2.33211027e-01  3.88651794e-01  1.87697354e+00\n",
      "   9.53241582e-01]\n",
      " [ 3.96482968e-01  1.76367054e-01 -1.30258641e-01  5.96287194e-02\n",
      "  -7.17762786e-01 -1.50415245e+00 -1.53427792e+00  1.59717727e-02\n",
      "  -1.69609658e+00  2.16262651e-01 -1.15134441e+00 -2.15535404e-01\n",
      "   7.73755972e-02]\n",
      " [ 5.66516178e-01  6.55323965e-01  8.76914404e-01  1.26189883e+00\n",
      "   1.70117239e+00 -1.50415245e+00 -4.84687847e-01 -1.22184061e+00\n",
      "  -6.62394660e-01  1.48739087e+00 -1.64957848e+00 -1.90397366e+00\n",
      "  -7.83124318e-01]\n",
      " [-8.05894728e-01 -1.04668363e+00 -8.39010042e-01 -2.40938809e-01\n",
      "  -8.60053090e-01  1.91127568e+00  1.01612786e+00 -1.46940308e+00\n",
      "   3.88253194e-01 -2.71003166e-01  1.20394390e+00  3.61708443e-01\n",
      "  -1.02898144e+00]\n",
      " [-1.25761890e-01  1.23691450e+00  9.88822520e-01 -3.61165821e-01\n",
      "   2.07124193e-01  1.38505841e-01  3.39289404e-01 -9.74278132e-01\n",
      "   5.74658458e-01 -2.49817695e-01  3.43357788e-01  1.29972970e+00\n",
      "   4.66434574e-02]\n",
      " [ 1.65723612e-01  2.02025460e-01 -5.56532298e-02  5.96287194e-02\n",
      "   1.48773693e+00 -1.09755386e+00 -1.35771136e+00  1.33630498e+00\n",
      "  -3.06530065e-01  1.78398745e+00 -1.60428447e+00 -1.44217858e+00\n",
      "   2.61768436e-01]\n",
      " [ 1.42882745e+00  1.44218175e+00  2.05465708e-01 -2.70995562e-01\n",
      "   8.47430563e-01  8.54119356e-01  5.74711475e-01 -5.61674005e-01\n",
      "  -6.62394660e-01  6.37272648e-02 -3.81346309e-01  1.02553887e+00\n",
      "   9.99339792e-01]\n",
      " [-1.71678692e+00 -3.11142659e-01 -3.91377578e-01 -5.41506338e-01\n",
      "  -7.74564157e-02  1.13060640e+00  1.92150609e-01 -1.63444473e+00\n",
      "  -4.92935329e-01 -7.79454452e-01  9.32179867e-01  4.91588309e-01\n",
      "  -1.25947249e+00]\n",
      " [-1.15810638e+00 -4.47987491e-01 -2.42166757e-01 -3.91222574e-01\n",
      "  -1.28692400e+00 -1.17887358e+00 -5.53352618e-01  1.25378415e+00\n",
      "  -1.50326826e-03 -1.13960745e+00  5.69827818e-01 -5.04157328e-01\n",
      "  -8.44588598e-01]\n",
      " [ 1.05232535e+00 -5.76279521e-01 -9.88220864e-01 -1.14264140e+00\n",
      "   1.35979041e-01  1.26071794e+00  1.30059620e+00 -1.30436143e+00\n",
      "   8.45793388e-01  4.28117354e-01 -2.00170285e-01  1.02553887e+00\n",
      "   7.07384464e-01]\n",
      " [-9.03056562e-01 -6.36149134e-01 -6.52496516e-01  1.79855731e-01\n",
      "   2.78269345e-01 -1.99207076e+00 -1.02419676e+00  1.59717727e-02\n",
      "  -3.06530065e-01 -8.64196333e-01 -2.18287887e-01 -1.15355666e+00\n",
      "   3.53964856e-01]\n",
      " [ 4.42713195e-02 -7.30229956e-01 -1.06282627e+00 -1.29292516e+00\n",
      "  -7.74564157e-02  1.22241898e-01  5.64902222e-01 -7.26715656e-01\n",
      "  -4.59043463e-01 -5.88785220e-01  1.02276788e+00  1.01948712e-01\n",
      "   8.14946953e-01]\n",
      " [ 1.99808610e-02 -4.99304303e-01 -1.06282627e+00 -8.42073866e-01\n",
      "   5.62849954e-01  1.09807851e+00  9.18035330e-01 -7.26715656e-01\n",
      "   6.59388124e-01 -2.10146163e-02 -3.36052303e-01  1.05440106e+00\n",
      "   4.00063065e-01]\n",
      " [-4.05102163e-01  1.02309445e+00 -9.29559351e-02  5.10480012e-01\n",
      "   4.91704802e-01 -1.01623415e+00 -8.47630207e-01 -1.63444473e+00\n",
      "  -1.35717792e+00 -3.79629925e-02 -7.88992364e-01 -1.91840476e+00\n",
      "  -4.75802920e-01]\n",
      " [-9.51637479e-01  1.30533692e+00 -6.89799221e-01 -3.91222574e-01\n",
      "   9.18575715e-01 -1.53668034e+00 -1.25961883e+00 -6.44194830e-01\n",
      "  -8.48799925e-01  1.32214420e+00 -1.37781444e+00 -8.93796926e-01\n",
      "   3.07866646e-01]\n",
      " [-1.25526821e+00  9.20460826e-01 -1.43585333e+00 -2.40938809e-01\n",
      "  -8.60053090e-01 -5.28315842e-01 -4.16023076e-01  1.59717727e-02\n",
      "   3.88253194e-01 -1.61416198e+00 -1.09582273e-01  6.21468175e-01\n",
      "  -5.86438623e-01]\n",
      " [-5.26554455e-01 -8.67074788e-01 -1.80888038e+00 -3.91222574e-01\n",
      "  -7.88907938e-01 -1.42283273e+00 -6.90682160e-01 -6.44194830e-01\n",
      "  -4.92935329e-01 -1.11842198e+00  3.88651794e-01  2.17397481e-01\n",
      "  -5.92585051e-01]\n",
      " [-1.15810638e+00 -2.34167441e-01 -2.55493449e+00 -6.91790102e-01\n",
      "  -1.48601568e-01 -1.54245142e-01  1.03867332e-01 -8.91757306e-01\n",
      "  -4.08205663e-01 -7.58268982e-01  1.43041393e+00  4.91588309e-01\n",
      "  -1.37749382e-01]\n",
      " [ 7.36549387e-01  6.38218361e-01  6.53098172e-01 -1.38309542e+00\n",
      "   1.20315632e+00  6.10160203e-01  9.47463089e-01 -1.63444473e+00\n",
      "   3.23885980e-02  4.40794804e-03  2.62997455e-02  1.06883216e+00\n",
      "   2.77134506e-01]\n",
      " [-7.45168582e-01  1.67814252e-01 -4.28680283e-01  6.60763777e-01\n",
      "  -6.46617634e-01 -1.04876203e+00 -2.19838016e-01  2.40907571e+00\n",
      "  -3.74313797e-01 -1.01249463e+00 -4.26640315e-01  9.82245580e-01\n",
      "  -1.35166890e+00]\n",
      " [-2.43335545e+00 -7.21677154e-01 -6.89799221e-01  5.10480012e-01\n",
      "  -1.00234339e+00  2.19825559e-01  1.03867332e-01  1.25378415e+00\n",
      "   6.25496258e-01 -1.35146215e+00  3.42335020e+00  3.61708443e-01\n",
      "  -1.06893322e+00]\n",
      " [-1.25761890e-01  3.90187103e-01  1.17533605e+00  3.60196248e-01\n",
      "  -2.19746720e-01 -1.27645724e+00 -1.53427792e+00  1.33630498e+00\n",
      "  -1.50969132e+00 -2.07446755e-01 -8.34286370e-01 -4.46432944e-01\n",
      "  -4.75802920e-01]\n",
      " [-1.06094454e+00 -6.36149134e-01 -2.79469462e-01  9.01217799e-01\n",
      "  -6.46617634e-01 -8.86122599e-01 -3.66976811e-01  5.11096725e-01\n",
      "  -1.37070733e-01 -1.11842198e+00  1.70217797e+00 -5.18588425e-01\n",
      "  -7.98490388e-01]\n",
      " [-1.86488036e-01  5.44137539e-01  5.62548863e-02  5.96287194e-02\n",
      "   3.49414498e-01 -1.66679189e+00 -8.28011701e-01 -1.05679896e+00\n",
      "  -1.37412385e+00  1.31520770e-01 -9.70168388e-01 -1.73080050e+00\n",
      "  -6.90927899e-01]\n",
      " [-8.54475645e-01 -1.07234204e+00 -3.91377578e-01 -1.14264140e+00\n",
      "   1.35979041e-01 -4.46996125e-01 -9.55531990e-01  2.16151323e+00\n",
      "  -2.08585304e+00 -7.70980264e-01  1.33982592e+00 -1.37002310e+00\n",
      "  -2.29945801e-01]\n",
      " [-8.05894728e-01 -1.20918687e+00 -3.82322647e+00 -2.76570605e+00\n",
      "  -7.88907938e-01 -5.60843729e-01 -1.46561315e+00 -7.26715656e-01\n",
      "  -2.06890711e+00 -1.33027668e+00  4.33945800e-01 -1.15355666e+00\n",
      "  -7.21660038e-01]\n",
      " [ 2.99321134e-01 -6.10490728e-01  1.69757392e+00 -1.29292516e+00\n",
      "   7.76285411e-01  4.47520768e-01  6.04139234e-01 -2.31590703e-01\n",
      "  -4.75989396e-01 -2.07446755e-01  6.15121824e-01  2.31828578e-01\n",
      "   3.84696996e-01]\n",
      " [-2.22923724e-01 -6.44701936e-01  5.03887351e-01 -6.01619844e-01\n",
      "  -2.90891872e-01  2.52353446e-01  3.00052392e-01 -8.91757306e-01\n",
      "  -3.06530065e-01 -4.91332056e-01  6.15121824e-01  1.45847175e+00\n",
      "   7.99580883e-01]]\n"
     ]
    }
   ],
   "source": [
    "from sklearn.model_selection import train_test_split\n",
    "X, y = df_wine.iloc[:, 1:].values, df_wine.iloc[:, 0].values\n",
    "xTrain, xTest, yTrain, yTest = train_test_split(X, y, test_size=.3, random_state=0, stratify=y)\n",
    "\n",
    "from sklearn.preprocessing import MinMaxScaler\n",
    "mms = MinMaxScaler()\n",
    "xTrainNorm = mms.fit_transform(xTrain)\n",
    "xTestNorm = mms.fit_transform(xTest)\n",
    "\n",
    "ex = np.array([0,1,2,3,4,5])\n",
    "from sklearn.preprocessing import StandardScaler\n",
    "stdsc = StandardScaler()\n",
    "xTrainStd = stdsc.fit_transform(xTrain)\n",
    "xTestStd = stdsc.transform(xTest)\n",
    "print(xTestStd)"
   ]
  },
  {
   "cell_type": "code",
   "execution_count": 72,
   "metadata": {},
   "outputs": [
    {
     "name": "stdout",
     "output_type": "stream",
     "text": [
      "1.0\n",
      "1.0\n"
     ]
    },
    {
     "data": {
      "text/plain": [
       "array([[ 0.04540666,  0.        ,  0.        , -0.77663024,  0.        ,\n",
       "         0.        ,  0.13106157,  0.        ,  0.        ,  0.        ,\n",
       "         0.        ,  0.41558241,  0.87004963],\n",
       "       [-1.47519882, -0.35305779, -0.92412638,  0.        ,  0.        ,\n",
       "         0.        ,  0.        ,  0.        ,  0.        , -1.26322711,\n",
       "         0.4262763 ,  0.        , -1.48632891],\n",
       "       [ 0.        ,  0.        ,  0.        ,  0.        ,  0.        ,\n",
       "         0.        , -2.3446849 ,  0.        ,  0.        ,  0.        ,\n",
       "        -0.79814436, -0.83483855,  0.        ]])"
      ]
     },
     "execution_count": 72,
     "metadata": {},
     "output_type": "execute_result"
    }
   ],
   "source": [
    "from sklearn.linear_model import LogisticRegression\n",
    "lr = LogisticRegression(penalty=\"l1\", solver=\"saga\", multi_class=\"auto\", max_iter=300)\n",
    "\n",
    "lr.fit(xTrainStd, yTrain)\n",
    "\n",
    "print(lr.score(xTrainStd, yTrain))\n",
    "\n",
    "print(lr.score(xTestStd, yTest))\n",
    "\n",
    "lr.coef_"
   ]
  },
  {
   "cell_type": "code",
   "execution_count": 80,
   "metadata": {},
   "outputs": [
    {
     "name": "stderr",
     "output_type": "stream",
     "text": [
      "D:\\Anaconda\\lib\\site-packages\\sklearn\\linear_model\\sag.py:334: ConvergenceWarning: The max_iter was reached which means the coef_ did not converge\n",
      "  \"the coef_ did not converge\", ConvergenceWarning)\n",
      "D:\\Anaconda\\lib\\site-packages\\sklearn\\linear_model\\sag.py:334: ConvergenceWarning: The max_iter was reached which means the coef_ did not converge\n",
      "  \"the coef_ did not converge\", ConvergenceWarning)\n",
      "D:\\Anaconda\\lib\\site-packages\\sklearn\\linear_model\\sag.py:334: ConvergenceWarning: The max_iter was reached which means the coef_ did not converge\n",
      "  \"the coef_ did not converge\", ConvergenceWarning)\n",
      "D:\\Anaconda\\lib\\site-packages\\sklearn\\linear_model\\sag.py:334: ConvergenceWarning: The max_iter was reached which means the coef_ did not converge\n",
      "  \"the coef_ did not converge\", ConvergenceWarning)\n",
      "D:\\Anaconda\\lib\\site-packages\\sklearn\\linear_model\\sag.py:334: ConvergenceWarning: The max_iter was reached which means the coef_ did not converge\n",
      "  \"the coef_ did not converge\", ConvergenceWarning)\n"
     ]
    },
    {
     "data": {
      "image/png": "[encoded data removed]",
      "text/plain": [
       "<Figure size 432x288 with 1 Axes>"
      ]
     },
     "metadata": {
      "needs_background": "light"
     },
     "output_type": "display_data"
    }
   ],
   "source": [
    "import matplotlib.pyplot as plt\n",
    "\n",
    "fig = plt.figure()\n",
    "ax = plt.subplot(111)\n",
    "\n",
    "colors = ['blue', 'green', 'red', 'cyan', 'magenta', 'yellow', 'black', 'pink', 'lightgreen', 'lightblue', 'gray', 'indigo', 'orange']\n",
    "weights, params = [], []\n",
    "for c in np.arange(-4., 6.):\n",
    "    lr = LogisticRegression(penalty=\"l1\", C=10**c, solver=\"saga\", multi_class=\"auto\", max_iter=300, random_state=0)\n",
    "    lr.fit(xTrainStd, yTrain)\n",
    "    weights.append(lr.coef_[1])\n",
    "    params.append(10**c)\n",
    "    \n",
    "weights = np.array(weights)\n",
    "\n",
    "for column, color in zip(range(weights.shape[1]), colors):\n",
    "    plt.plot(params, weights[:, column], label=df_wine.columns[column+1], color=color)\n",
    "    \n",
    "plt.axhline(0, color=\"black\", linestyle=\"--\", linewidth=3)\n",
    "plt.xlim([10**(-5), 10**5])\n",
    "plt.xlabel(\"C\")\n",
    "plt.xscale(\"log\")\n",
    "plt.ylabel(\"weights coeffcient\")\n",
    "plt.legend(loc=\"upper left\")\n",
    "ax.legend(loc=\"upper center\", bbox_to_anchor=(1.38, 1.03),ncol=1,fancybox=True)\n",
    "plt.show()    "
   ]
  },
  {
   "cell_type": "markdown",
   "metadata": {},
   "source": [
    "## 用随机森林评估特征的重要性"
   ]
  },
  {
   "cell_type": "code",
   "execution_count": 98,
   "metadata": {},
   "outputs": [
    {
     "name": "stdout",
     "output_type": "stream",
     "text": [
      " 1)  Proline                          0.185453\n",
      " 2)  Flavanoids                       0.174751\n",
      " 3)  Color intensity                  0.143920\n",
      " 4)  OD280                            0.136162\n",
      " 5)  Alcohol                          0.118529\n",
      " 6)  Hue                              0.058739\n",
      " 7)  Total phenls                     0.050872\n",
      " 8)  Magnesium                        0.031357\n",
      " 9)  Malic acid                       0.025648\n",
      "10)  Proanthocynins                   0.025570\n",
      "11)  Alcalintiy of ash                0.022366\n",
      "12)  Nonflavanoid                     0.013354\n",
      "13)  Ash                              0.013279\n"
     ]
    },
    {
     "data": {
      "image/png": "[encoded data removed]",
      "text/plain": [
       "<Figure size 432x288 with 1 Axes>"
      ]
     },
     "metadata": {
      "needs_background": "light"
     },
     "output_type": "display_data"
    }
   ],
   "source": [
    "from sklearn.ensemble import RandomForestClassifier\n",
    "\n",
    "featLabels = df_wine.columns[1:]\n",
    "forest = RandomForestClassifier(n_estimators=500, random_state=1)\n",
    "forest.fit(xTrain, yTrain)\n",
    "importances = forest.feature_importances_\n",
    "\n",
    "indices = np.argsort(importances)[::-1]\n",
    "\n",
    "for f in range(xTrain.shape[1]):\n",
    "    print(\"%2d)  %-*s %*f\" % (f+1, 20, featLabels[indices[f]], 20,importances[indices[f]]))# 没有对齐\n",
    "    \n",
    "plt.title(\"Feature Importance\")\n",
    "plt.bar(range(xTrain.shape[1]), importances[indices], align='center')\n",
    "plt.xticks(range(xTrain.shape[1]), featLabels, rotation=90)\n",
    "plt.xlim([-1, xTrain.shape[1]])\n",
    "plt.tight_layout()\n",
    "plt.show()"
   ]
  },
  {
   "cell_type": "code",
   "execution_count": 90,
   "metadata": {},
   "outputs": [
    {
     "data": {
      "text/plain": [
       "array([ 2,  7,  3,  8,  1,  4,  5, 10,  0, 11,  9,  6, 12], dtype=int64)"
      ]
     },
     "execution_count": 90,
     "metadata": {},
     "output_type": "execute_result"
    }
   ],
   "source": [
    "indices[::-1]"
   ]
  },
  {
   "cell_type": "code",
   "execution_count": null,
   "metadata": {},
   "outputs": [],
   "source": []
  }
 ],
 "metadata": {
  "kernelspec": {
   "display_name": "Python 3",
   "language": "python",
   "name": "python3"
  },
  "language_info": {
   "codemirror_mode": {
    "name": "ipython",
    "version": 3
   },
   "file_extension": ".py",
   "mimetype": "text/x-python",
   "name": "python",
   "nbconvert_exporter": "python",
   "pygments_lexer": "ipython3",
   "version": "3.7.3"
  }
 },
 "nbformat": 4,
 "nbformat_minor": 2
}
