{
 "cells": [
  {
   "cell_type": "markdown",
   "metadata": {},
   "source": [
    "# 第五章"
   ]
  },
  {
   "cell_type": "markdown",
   "metadata": {},
   "source": [
    "## 5.1 用主成分分析实现无监督降维"
   ]
  },
  {
   "cell_type": "markdown",
   "metadata": {},
   "source": [
    "### 5.1.1 主成分分析的主要步骤"
   ]
  },
  {
   "cell_type": "markdown",
   "metadata": {},
   "source": [
    "#### 一般来说PCA降维的算法步骤\n",
    "1.标准化d维数据集\n",
    "2.构建协方差矩阵\n",
    "3.将协方差矩阵分解为特征向量和特征值\n",
    "4.通过降序对特征值进行排序，对相应的特征向量进行排序\n",
    "5.选择对应k个最大特征值的k个特征向量，其中k为新空间的位数（k 小于等于 d）\n",
    "6.从最上面的k特征向量开始构造投影矩阵W\n",
    "7.用投影矩阵W变换d维输入数据集X获得新的k维特征子空间"
   ]
  },
  {
   "cell_type": "markdown",
   "metadata": {},
   "source": [
    "#### 调用模块"
   ]
  },
  {
   "cell_type": "code",
   "execution_count": 108,
   "metadata": {},
   "outputs": [],
   "source": [
    "import pandas as pd\n",
    "import os\n",
    "import sys\n",
    "import numpy as np\n",
    "import matplotlib.pyplot as plt\n",
    "\n",
    "from sklearn.model_selection import train_test_split\n",
    "from sklearn.preprocessing import StandardScaler\n",
    "from matplotlib.colors import ListedColormap\n",
    "from sklearn.linear_model import LogisticRegression\n",
    "from sklearn.decomposition import PCA\n",
    "\n",
    "sys.path.append('C:\\\\Users\\\\Administrator\\\\Desktop\\\\myself')\n",
    "# import plotClassifierRegions\n",
    "\n",
    "plt.rcParams['font.sans-serif'] = ['SimHei'] # 输出中文\n",
    "plt.rcParams['axes.unicode_minus'] = False # 正负轴显示"
   ]
  },
  {
   "cell_type": "markdown",
   "metadata": {},
   "source": [
    "#### 分裂为独立的训练集和测试集，并标准化单位方差"
   ]
  },
  {
   "cell_type": "code",
   "execution_count": 109,
   "metadata": {},
   "outputs": [],
   "source": [
    "dfWine = pd.read_csv(r\"C:\\Users\\86138\\Desktop\\myself\\刷过的书\\python_机器学习\\wine_data.csv\")\n",
    "X, y = dfWine.iloc[:, 1:].values, dfWine.iloc[:, 0].values\n",
    "xTrain, xTest, yTrain, yTest = train_test_split(X, y, test_size=.3, stratify=y, random_state=0)\n",
    "sc = StandardScaler()\n",
    "xTrainStd = sc.fit_transform(xTrain)\n",
    "xTestStd = sc.transform(xTest)"
   ]
  },
  {
   "cell_type": "markdown",
   "metadata": {},
   "source": [
    "#### 获取协方差矩阵的特征向量和特征值"
   ]
  },
  {
   "cell_type": "code",
   "execution_count": 110,
   "metadata": {},
   "outputs": [
    {
     "name": "stdout",
     "output_type": "stream",
     "text": [
      "特征值: \n",
      "[4.8427 2.416  1.5485 0.9612 0.8417 0.6621 0.5183 0.3465 0.3131 0.1075\n",
      " 0.2136 0.1536 0.1809]\n"
     ]
    }
   ],
   "source": [
    "#covMatT = np.cov(xTrainStd)\n",
    "covMat = np.cov(xTrainStd.T) # 转置保证特征值与行数相同，否则，为124个特征值，与特征数量不符合\n",
    "eigenVals, eigenVecs = np.linalg.eig(covMat)\n",
    "#eigenValsT, eigenVecsT = np.linalg.eig(covMat)\n",
    "print(\"特征值: \\n%s\" % eigenVals)"
   ]
  },
  {
   "cell_type": "markdown",
   "metadata": {},
   "source": [
    "#### 特征值的方差解释比画出来，也就是某个特征值与特征值总和之比"
   ]
  },
  {
   "cell_type": "code",
   "execution_count": 111,
   "metadata": {},
   "outputs": [
    {
     "data": {
      "image/png": "[encoded data removed]",
      "text/plain": [
       "<matplotlib.figure.Figure at 0x23a796c2748>"
      ]
     },
     "metadata": {
      "needs_background": "light"
     },
     "output_type": "display_data"
    }
   ],
   "source": [
    "tot = sum(eigenVals)\n",
    "varExp = [(i / tot) for i in sorted(eigenVals, reverse=True)]\n",
    "cumVarExp = np.cumsum(varExp)\n",
    "plt.bar(range(1,14), varExp, alpha=.5, align=\"center\", label=\"独立的解释方差\")\n",
    "plt.step (range(1,14), cumVarExp, where=\"mid\", label=\"累计的解释方差\")\n",
    "plt.ylabel(\"解释方差率\")\n",
    "plt.xlabel(\"主成分索引\")\n",
    "plt.show() # 前两个成分几乎占了60%"
   ]
  },
  {
   "cell_type": "markdown",
   "metadata": {},
   "source": [
    "#### 特征转换\n",
    "选择与前k个特征值对应的特征向量，其中k为新特征子空间的位置 k<=d\n",
    "用前K个特征向量构造投影矩阵W\n",
    "用投影矩阵W变换d为输入数据集X以获得新的k维特征子空间"
   ]
  },
  {
   "cell_type": "code",
   "execution_count": 112,
   "metadata": {},
   "outputs": [
    {
     "name": "stdout",
     "output_type": "stream",
     "text": [
      "Matrix W:\n",
      " [[-0.1372  0.503 ]\n",
      " [ 0.2472  0.1649]\n",
      " [-0.0255  0.2446]\n",
      " [ 0.2069 -0.1135]\n",
      " [-0.1544  0.2897]\n",
      " [-0.3938  0.0508]\n",
      " [-0.4174 -0.0229]\n",
      " [ 0.3057  0.0905]\n",
      " [-0.3067  0.0084]\n",
      " [ 0.0755  0.5498]\n",
      " [-0.3261 -0.2072]\n",
      " [-0.3686 -0.249 ]\n",
      " [-0.2967  0.3802]]\n"
     ]
    }
   ],
   "source": [
    "eigenPairs = [(np.abs(eigenVals[i]), eigenVecs[:, i]) for i in range(len(eigenVals))]\n",
    "eigenPairs.sort(key=lambda k:k[0], reverse=True)\n",
    "w = np.hstack((eigenPairs[0][1][:, np.newaxis], eigenPairs[1][1][:, np.newaxis]))  # 水平合并[:,1]  [:,1]\n",
    "print(\"Matrix W:\\n\", w)"
   ]
  },
  {
   "cell_type": "code",
   "execution_count": 113,
   "metadata": {},
   "outputs": [
    {
     "data": {
      "text/plain": [
       "array([2.383 , 0.4546])"
      ]
     },
     "execution_count": 113,
     "metadata": {},
     "output_type": "execute_result"
    }
   ],
   "source": [
    "xTrainStd[0].dot(w) # (1,13) dot (13,2) = (1,2)"
   ]
  },
  {
   "cell_type": "code",
   "execution_count": 114,
   "metadata": {},
   "outputs": [
    {
     "data": {
      "text/plain": [
       "array([ 0.7123,  2.2205, -0.1303,  0.0596, -0.5043, -0.5283, -1.24  ,\n",
       "        0.8412, -1.0522, -0.2922, -0.2002, -0.8216, -0.6295])"
      ]
     },
     "execution_count": 114,
     "metadata": {},
     "output_type": "execute_result"
    }
   ],
   "source": [
    "xTrainStd[0]"
   ]
  },
  {
   "cell_type": "code",
   "execution_count": 115,
   "metadata": {},
   "outputs": [],
   "source": [
    "xTrainPca = xTrainStd.dot(w)"
   ]
  },
  {
   "cell_type": "code",
   "execution_count": 116,
   "metadata": {},
   "outputs": [
    {
     "data": {
      "text/plain": [
       "(124, 13)"
      ]
     },
     "execution_count": 116,
     "metadata": {},
     "output_type": "execute_result"
    }
   ],
   "source": [
    "xTrainStd.shape"
   ]
  },
  {
   "cell_type": "code",
   "execution_count": 117,
   "metadata": {},
   "outputs": [
    {
     "data": {
      "text/plain": [
       "(124, 2)"
      ]
     },
     "execution_count": 117,
     "metadata": {},
     "output_type": "execute_result"
    }
   ],
   "source": [
    "xTrainPca.shape"
   ]
  },
  {
   "cell_type": "code",
   "execution_count": 118,
   "metadata": {},
   "outputs": [
    {
     "data": {
      "image/png": "[encoded data removed]",
      "text/plain": [
       "<matplotlib.figure.Figure at 0x23a796f3ba8>"
      ]
     },
     "metadata": {
      "needs_background": "light"
     },
     "output_type": "display_data"
    }
   ],
   "source": [
    "colors = list(\"rbg\")\n",
    "markers = list(\"sxo\")\n",
    "for l, c, m in zip(np.unique(yTrain), colors, markers):\n",
    "    plt.scatter(xTrainPca[yTrain==l, 0], xTrainPca[yTrain==l, 1], c=c, label=l, marker=m)\n",
    "plt.xlabel(\"PC 1\")\n",
    "plt.ylabel(\"PC 2\")\n",
    "plt.legend(loc = \"lower left\")\n",
    "plt.show()"
   ]
  },
  {
   "cell_type": "markdown",
   "metadata": {},
   "source": [
    "#### sklearn的主成分分析"
   ]
  },
  {
   "cell_type": "code",
   "execution_count": 119,
   "metadata": {},
   "outputs": [
    {
     "data": {
      "text/plain": [
       "array([ 1.6538,  1.0291,  0.6024,  0.9463,  0.1388,  0.1605,  0.7175,\n",
       "        1.4718,  0.7041,  2.1866,  0.5192,  0.6139,  0.7684,  1.0848,\n",
       "        1.02  ,  0.0049, -0.2131,  1.1468,  1.7593,  1.3578,  1.6654,\n",
       "        0.1375,  2.1698,  1.6014,  0.6005,  1.3924,  0.5287, -0.044 ,\n",
       "        1.5972,  1.2143,  1.6117,  2.2015,  0.0092,  0.2829,  0.6962,\n",
       "        0.6327,  1.0746,  0.1664,  1.3814,  2.5791,  1.1832])"
      ]
     },
     "execution_count": 119,
     "metadata": {},
     "output_type": "execute_result"
    }
   ],
   "source": [
    "xTrainPca[yTrain==1, 1]"
   ]
  },
  {
   "cell_type": "markdown",
   "metadata": {},
   "source": [
    "#### 可视化函数"
   ]
  },
  {
   "cell_type": "code",
   "execution_count": 120,
   "metadata": {},
   "outputs": [],
   "source": [
    "def plot_decision_regions(X, y, classifier, test_idx=None, resolution=0.02):\n",
    "    '''\n",
    "    常用分类可视化函数\n",
    "    param X 训练集\n",
    "    param y 标签\n",
    "    param classifier 已fit好的分类器\n",
    "    test_idx 训练集的输入变量范围\n",
    "    resolution 等高线 高度\n",
    "    return 等高线 \n",
    "    '''\n",
    "    marker = list('sxo^v')\n",
    "    colors = ['red', 'blue', 'lightgreen', 'gray', 'cyan']\n",
    "    cmap = ListedColormap(colors[:len(np.unique(y))])\n",
    "    x1_min, x1_max = X[:, 0].min() - 1, X[:, 0].max() + 1\n",
    "    x2_min, x2_max = X[:, 1].min() - 1, X[:, 1].max() + 1\n",
    "    xx1, xx2 = np.meshgrid(np.arange(x1_min, x1_max, resolution),\n",
    "                           np.arange(x2_min, x2_max, resolution))\n",
    "    z = classifier.predict(np.array([xx1.ravel(), xx2.ravel()]).T)\n",
    "    z = z.reshape(xx1.shape)\n",
    "    plt.contourf(xx1, xx2, z, alpha=0.4, cmap=cmap)\n",
    "    plt.xlim(xx1.min(), xx1.max())\n",
    "    plt.ylim(xx2.min(), xx2.max())\n",
    "    \n",
    "    for idx, cl in enumerate(np.unique(y)):\n",
    "        plt.scatter(x=X[y == cl, 0],\n",
    "                    y=X[y == cl, 1],\n",
    "                    alpha=0.8,\n",
    "                    c=cmap(idx),\n",
    "                    marker=marker[idx],\n",
    "                    label=cl)\n"
   ]
  },
  {
   "cell_type": "code",
   "execution_count": 121,
   "metadata": {},
   "outputs": [
    {
     "data": {
      "image/png": "[encoded data removed]",
      "text/plain": [
       "<matplotlib.figure.Figure at 0x23a79929a90>"
      ]
     },
     "metadata": {
      "needs_background": "light"
     },
     "output_type": "display_data"
    }
   ],
   "source": [
    "pca = PCA(n_components=2)\n",
    "lr = LogisticRegression(solver=\"saga\", multi_class=\"auto\")\n",
    "skTrainPca = pca.fit_transform(xTrainStd)\n",
    "skTestPca = pca.transform(xTestStd)\n",
    "lr.fit(skTrainPca, yTrain)\n",
    "plot_decision_regions(skTrainPca, yTrain, classifier=lr)\n",
    "plt.xlabel(\"PC 1\")\n",
    "plt.ylabel(\"PC 2\")\n",
    "plt.legend(loc = \"lower left\")\n",
    "plt.show()"
   ]
  },
  {
   "cell_type": "code",
   "execution_count": 122,
   "metadata": {},
   "outputs": [
    {
     "data": {
      "image/png": "[encoded data removed]",
      "text/plain": [
       "<matplotlib.figure.Figure at 0x23a78537908>"
      ]
     },
     "metadata": {
      "needs_background": "light"
     },
     "output_type": "display_data"
    }
   ],
   "source": [
    "plot_decision_regions(skTestPca, yTest, classifier=lr)\n",
    "plt.xlabel(\"PC 1\")\n",
    "plt.ylabel(\"PC 2\")\n",
    "plt.legend(loc = \"lower left\")\n",
    "plt.show()"
   ]
  },
  {
   "cell_type": "code",
   "execution_count": 123,
   "metadata": {},
   "outputs": [
    {
     "data": {
      "text/plain": [
       "array([0.3695, 0.1843, 0.1182, 0.0733, 0.0642, 0.0505, 0.0395, 0.0264,\n",
       "       0.0239, 0.0163, 0.0138, 0.0117, 0.0082])"
      ]
     },
     "execution_count": 123,
     "metadata": {},
     "output_type": "execute_result"
    }
   ],
   "source": [
    "pca=PCA(n_components=None) # 初始化PCA类，这样可以保持所有的主成分，然后通过解释方差属性比访问\n",
    "xTrainPca = pca.fit_transform(xTrainStd)\n",
    "pca.explained_variance_ratio_"
   ]
  },
  {
   "cell_type": "markdown",
   "metadata": {},
   "source": [
    "### 5.2 基于线性判别分析的有监督数据压缩"
   ]
  },
  {
   "cell_type": "markdown",
   "metadata": {},
   "source": [
    "#### 计算均值向量"
   ]
  },
  {
   "cell_type": "code",
   "execution_count": 124,
   "metadata": {},
   "outputs": [
    {
     "name": "stdout",
     "output_type": "stream",
     "text": [
      "MV 1: [ 0.9066 -0.3497  0.3201 -0.7189  0.5056  0.8807  0.9589 -0.5516  0.5416\n",
      "  0.2338  0.5897  0.6563  1.2075]\n",
      "\n",
      "MV 2: [-0.8749 -0.2848 -0.3735  0.3157 -0.3848 -0.0433  0.0635 -0.0946  0.0703\n",
      " -0.8286  0.3144  0.3608 -0.7253]\n",
      "\n",
      "MV 3: [ 0.1992  0.866   0.1682  0.4148 -0.0451 -1.0286 -1.2876  0.8287 -0.7795\n",
      "  0.9649 -1.209  -1.3622 -0.4013]\n",
      "\n"
     ]
    }
   ],
   "source": [
    "np.set_printoptions(precision=4)\n",
    "meanVecs = []\n",
    "for label in range(1, 4):\n",
    "    meanVecs.append(np.mean(xTrainStd[yTrain==label], axis=0))\n",
    "    print(\"MV %s: %s\\n\" % (label, meanVecs[label-1]))"
   ]
  },
  {
   "cell_type": "markdown",
   "metadata": {},
   "source": [
    "#### 计算类内散布矩阵"
   ]
  },
  {
   "cell_type": "code",
   "execution_count": 125,
   "metadata": {},
   "outputs": [
    {
     "name": "stdout",
     "output_type": "stream",
     "text": [
      "Within-class scatter matrix: 13x13\n"
     ]
    }
   ],
   "source": [
    "d = 13\n",
    "SW = np.zeros((d, d))\n",
    "for label, mv in zip(range(1, 4), meanVecs):\n",
    "    classScatter = np.zeros((d, d))\n",
    "    for row in xTrainStd[yTrain == label]:\n",
    "        row, mv = row.reshape(d, 1), mv.reshape(d,1)\n",
    "        classScatter += (row - mv).dot((row - mv).T)\n",
    "    SW += classScatter\n",
    "print(\"Within-class scatter matrix: %sx%s\" % (SW.shape[0], SW.shape[1]))"
   ]
  },
  {
   "cell_type": "markdown",
   "metadata": {},
   "source": [
    "#### 训练集中的分类标签均匀分布"
   ]
  },
  {
   "cell_type": "code",
   "execution_count": 126,
   "metadata": {},
   "outputs": [
    {
     "name": "stdout",
     "output_type": "stream",
     "text": [
      "Class label distribution: [41 50 33]\n"
     ]
    }
   ],
   "source": [
    "print(\"Class label distribution: %s\" % np.bincount(yTrain)[1:])"
   ]
  },
  {
   "cell_type": "markdown",
   "metadata": {},
   "source": [
    "#### 计算类间散布矩阵"
   ]
  },
  {
   "cell_type": "code",
   "execution_count": 127,
   "metadata": {},
   "outputs": [
    {
     "name": "stdout",
     "output_type": "stream",
     "text": [
      "Between-class scatter matrix: 13x13\n"
     ]
    }
   ],
   "source": [
    "meanOverall = np.mean(xTrainStd, axis=0)\n",
    "d = 13\n",
    "SB = np.zeros((d,d))\n",
    "for i, meanVec in enumerate(meanVecs):\n",
    "    n = xTrain[yTrain == i + 1, :].shape[0]\n",
    "    meanVec = meanVec.reshape(d, 1)\n",
    "    meanOverall = meanOverall.reshape(d, 1)\n",
    "    SB += n * (meanVec - meanOverall).dot((meanVec - meanOverall).T)\n",
    "print(\"Between-class scatter matrix: %sx%s\" % (SB.shape[0], SB.shape[1]))"
   ]
  },
  {
   "cell_type": "markdown",
   "metadata": {},
   "source": [
    "#### 在新的特征子空间选择线性判别式"
   ]
  },
  {
   "cell_type": "code",
   "execution_count": 128,
   "metadata": {},
   "outputs": [
    {
     "name": "stdout",
     "output_type": "stream",
     "text": [
      "EigenValues in descending order: \n",
      "\n",
      "8.262493673957483\n",
      "4.225659486916686\n",
      "9.2755649547541e-16\n",
      "5.788968521986873e-16\n",
      "3.4207348338517877e-16\n",
      "3.4207348338517877e-16\n",
      "2.863361199026827e-16\n",
      "1.5487290843285566e-16\n",
      "1.5487290843285566e-16\n",
      "1.4255070709476658e-16\n",
      "1.4255070709476658e-16\n",
      "8.914491057314394e-17\n",
      "0.0\n"
     ]
    }
   ],
   "source": [
    "eigenVals, eigenVecs = np.linalg.eig(np.linalg.inv(SW).dot(SB))\n",
    "eigenPairs = [(np.abs(eigenVals[i]), eigenVecs[:, i]) for i in range(len(eigenVals))]\n",
    "eigenPairs = sorted(eigenPairs, key=lambda k:k[0], reverse=True)\n",
    "print(\"EigenValues in descending order: \\n\")\n",
    "for eigenVal in eigenPairs:\n",
    "    print(eigenVal[0]) # 近似只有两个非零特征值（浮点运算）"
   ]
  },
  {
   "cell_type": "markdown",
   "metadata": {},
   "source": [
    "#### 可视化主成分占比"
   ]
  },
  {
   "cell_type": "code",
   "execution_count": 129,
   "metadata": {},
   "outputs": [
    {
     "name": "stderr",
     "output_type": "stream",
     "text": [
      "D:\\ssoftware\\anaconda\\lib\\site-packages\\matplotlib\\transforms.py:814: ComplexWarning: Casting complex values to real discards the imaginary part\n",
      "  points = np.array(args, dtype=float).reshape(2, 2)\n",
      "D:\\ssoftware\\anaconda\\lib\\site-packages\\numpy\\core\\numeric.py:501: ComplexWarning: Casting complex values to real discards the imaginary part\n",
      "  return array(a, dtype, copy=False, order=order)\n"
     ]
    },
    {
     "data": {
      "image/png": "[encoded data removed]",
      "text/plain": [
       "<matplotlib.figure.Figure at 0x23a78645780>"
      ]
     },
     "metadata": {
      "needs_background": "light"
     },
     "output_type": "display_data"
    }
   ],
   "source": [
    "tot = sum(eigenVals.real)\n",
    "varExp = [(i / tot) for i in sorted(eigenVals, reverse=True)]\n",
    "cumVarExp = np.cumsum(varExp)\n",
    "plt.bar(range(1,14), varExp, alpha=.5, align=\"center\", label=\"累计\")\n",
    "plt.step (range(1,14), cumVarExp, where=\"mid\", label=\"独立\") # where?\n",
    "plt.ylabel(\"占比\")\n",
    "plt.xlabel(\"线性判别\")\n",
    "plt.show() # 前两个成分几乎占了100%（62%+38%）"
   ]
  },
  {
   "cell_type": "code",
   "execution_count": 130,
   "metadata": {},
   "outputs": [
    {
     "name": "stdout",
     "output_type": "stream",
     "text": [
      "Matrix W:\n",
      " [[-0.1586 -0.4077]\n",
      " [ 0.0984 -0.1821]\n",
      " [-0.0156 -0.3473]\n",
      " [ 0.1588  0.3095]\n",
      " [-0.0207 -0.064 ]\n",
      " [ 0.1884  0.0733]\n",
      " [-0.7153  0.3034]\n",
      " [-0.0798 -0.0009]\n",
      " [ 0.0074  0.0716]\n",
      " [ 0.3448 -0.2808]\n",
      " [-0.0254  0.244 ]\n",
      " [-0.3192 -0.0459]\n",
      " [-0.4054 -0.5806]]\n"
     ]
    }
   ],
   "source": [
    "w = np.hstack((eigenPairs[0][1][:, np.newaxis].real, eigenPairs[1][1][:, np.newaxis].real))\n",
    "print(\"Matrix W:\\n\", w)"
   ]
  },
  {
   "cell_type": "markdown",
   "metadata": {},
   "source": [
    "#### 将样本投影到新的特征空间"
   ]
  },
  {
   "cell_type": "code",
   "execution_count": 131,
   "metadata": {},
   "outputs": [
    {
     "data": {
      "image/png": "[encoded data removed]",
      "text/plain": [
       "<matplotlib.figure.Figure at 0x23a79958780>"
      ]
     },
     "metadata": {
      "needs_background": "light"
     },
     "output_type": "display_data"
    }
   ],
   "source": [
    "xTrainLda = xTrainStd.dot(w)\n",
    "colors = list(\"rbg\")\n",
    "markers = list(\"sxo\")\n",
    "for l, c, m in zip(np.unique(yTrain), colors, markers):\n",
    "    plt.scatter(xTrainLda[yTrain==l, 0], xTrainLda[yTrain==l, 1] * (-1), c=c, label=l, marker=m)\n",
    "plt.xlabel(\"LD 1\")\n",
    "plt.ylabel(\"LD 2\")\n",
    "plt.legend(loc = \"lower right\")\n",
    "plt.show()"
   ]
  },
  {
   "cell_type": "markdown",
   "metadata": {},
   "source": [
    "#### 用sk实现LDA"
   ]
  },
  {
   "cell_type": "code",
   "execution_count": 132,
   "metadata": {},
   "outputs": [],
   "source": [
    "from sklearn.discriminant_analysis import LinearDiscriminantAnalysis as LDA\n",
    "lda = LDA(n_components=2)\n",
    "xTrainLda = lda.fit_transform(xTrainStd, yTrain)"
   ]
  },
  {
   "cell_type": "markdown",
   "metadata": {},
   "source": [
    "#### LDA变换后的低维训练集在逻辑回归分类器的表现"
   ]
  },
  {
   "cell_type": "code",
   "execution_count": 133,
   "metadata": {},
   "outputs": [
    {
     "data": {
      "image/png": "[encoded data removed]",
      "text/plain": [
       "<matplotlib.figure.Figure at 0x23a796d8390>"
      ]
     },
     "metadata": {
      "needs_background": "light"
     },
     "output_type": "display_data"
    }
   ],
   "source": [
    "lr = LogisticRegression(solver=\"saga\", multi_class=\"auto\",max_iter=1000)\n",
    "lr = lr.fit(xTrainLda, yTrain)\n",
    "plot_decision_regions(xTrainLda, yTrain, classifier=lr)\n",
    "plt.xlabel(\"LD 1\")\n",
    "plt.ylabel(\"LD 2\")\n",
    "plt.legend(loc = \"lower left\")\n",
    "plt.show()"
   ]
  },
  {
   "cell_type": "markdown",
   "metadata": {},
   "source": [
    "#### LDA在测试集的表现"
   ]
  },
  {
   "cell_type": "code",
   "execution_count": 134,
   "metadata": {},
   "outputs": [
    {
     "data": {
      "image/png": "[encoded data removed]",
      "text/plain": [
       "<matplotlib.figure.Figure at 0x23a798f6ac8>"
      ]
     },
     "metadata": {
      "needs_background": "light"
     },
     "output_type": "display_data"
    }
   ],
   "source": [
    "xTestLda = lda.transform(xTestStd)\n",
    "plot_decision_regions(xTestLda, yTest, classifier=lr)\n",
    "plt.xlabel(\"LD 1\")\n",
    "plt.ylabel(\"LD 2\")\n",
    "plt.legend(loc = \"lower left\")\n",
    "plt.show() # 无错误分类"
   ]
  },
  {
   "cell_type": "markdown",
   "metadata": {},
   "source": [
    "### 5.3.2 用python实现核主成分分析"
   ]
  },
  {
   "cell_type": "code",
   "execution_count": 135,
   "metadata": {},
   "outputs": [],
   "source": [
    "from scipy.spatial.distance import pdist, squareform\n",
    "from scipy import exp\n",
    "from scipy.linalg import eigh\n",
    "import numpy as np"
   ]
  },
  {
   "cell_type": "code",
   "execution_count": 145,
   "metadata": {},
   "outputs": [],
   "source": [
    "def rbfKernelPCA(X, gamma, n_components):\n",
    "    # 第一步\n",
    "    sqDist = pdist(X, \"sqeuclidean\") # ‖x(i) - x(j)‖\n",
    "    matSqDists = squareform(sqDist) # (‖x(i) - x(j)‖)平方\n",
    "    k = exp(-gamma * matSqDists) # exp(-γ *（(‖x(i) - x(j)‖)平方）)\n",
    "    # 第二部\n",
    "    n = k.shape[0]\n",
    "    oneN = np.ones((n, n)) / n\n",
    "    k = k - oneN.dot(k) - k.dot(oneN) + oneN.dot(k).dot(oneN)\n",
    "    # 第三步\n",
    "    eigvals, eigvecs = eigh(k)\n",
    "    eigvals, eigvecs = eigvals[::-1], eigvecs[:, ::-1]\n",
    "    \n",
    "    alphas = np.column_stack((eigvecs[:, i] for i in  range(n_components)))\n",
    "    \n",
    "    lambdas = [eigvals[i] for i in range(n_components)]\n",
    "    \n",
    "    return alphas, lambdas"
   ]
  },
  {
   "cell_type": "markdown",
   "metadata": {},
   "source": [
    "#### 案例1：分离半月形"
   ]
  },
  {
   "cell_type": "code",
   "execution_count": 137,
   "metadata": {},
   "outputs": [
    {
     "data": {
      "image/png": "[encoded data removed]",
      "text/plain": [
       "<matplotlib.figure.Figure at 0x23a786da320>"
      ]
     },
     "metadata": {
      "needs_background": "light"
     },
     "output_type": "display_data"
    }
   ],
   "source": [
    "from sklearn.datasets import make_moons\n",
    "X, y = make_moons(n_samples=100, random_state=123)\n",
    "plt.scatter(X[y==0, 0], X[y==0, 1], color='red', marker='^', alpha=.5)\n",
    "plt.scatter(X[y==1, 0], X[y==1, 1], color='blue', marker='o', alpha=.5)\n",
    "plt.show()"
   ]
  },
  {
   "cell_type": "markdown",
   "metadata": {},
   "source": [
    "#### 标准的PCA数据集投影到主成分上"
   ]
  },
  {
   "cell_type": "code",
   "execution_count": 138,
   "metadata": {},
   "outputs": [
    {
     "data": {
      "image/png": "[encoded data removed]",
      "text/plain": [
       "<matplotlib.figure.Figure at 0x23a7ac5dc50>"
      ]
     },
     "metadata": {
      "needs_background": "light"
     },
     "output_type": "display_data"
    }
   ],
   "source": [
    "from sklearn.decomposition import PCA\n",
    "scikitPCA = PCA(n_components=2)\n",
    "xFitTransform = scikitPCA.fit_transform(X)\n",
    "fig, ax = plt.subplots(nrows=1, ncols=2, figsize=(7,3))\n",
    "ax[0].scatter(xFitTransform[y==0, 0], xFitTransform[y==0,1],color=\"red\", marker=\"^\", alpha=.5)\n",
    "ax[0].scatter(xFitTransform[y==1, 0], xFitTransform[y==1,1],color=\"blue\", marker=\"o\", alpha=.5)\n",
    "ax[1].scatter(xFitTransform[y==0, 0], np.zeros((50,1))+.02, color=\"red\", marker=\"^\", alpha=.5)\n",
    "ax[1].scatter(xFitTransform[y==1, 0], np.zeros((50,1))-.02, color=\"blue\", marker=\"o\", alpha=.5)\n",
    "ax[0].set_xlabel(\"PC 1\")\n",
    "ax[0].set_ylabel(\"PC 2\")\n",
    "ax[1].set_ylim([-1, 1])\n",
    "ax[1].set_yticks([]) # 直接把刻度隐藏了\n",
    "ax[1].set_xlabel(\"PC 1\")\n",
    "plt.show()"
   ]
  },
  {
   "cell_type": "markdown",
   "metadata": {},
   "source": [
    "#### 使用核主成分分析函数rbfKernelPCA"
   ]
  },
  {
   "cell_type": "code",
   "execution_count": 139,
   "metadata": {},
   "outputs": [
    {
     "data": {
      "image/png": "[encoded data removed]",
      "text/plain": [
       "<matplotlib.figure.Figure at 0x23a786d4fd0>"
      ]
     },
     "metadata": {
      "needs_background": "light"
     },
     "output_type": "display_data"
    }
   ],
   "source": [
    "xFitTransform = rbfKernelPCA(X, gamma=15, n_components=2)\n",
    "fig, ax = plt.subplots(nrows=1, ncols=2, figsize=(7,3))\n",
    "ax[0].scatter(xFitTransform[y==0, 0], xFitTransform[y==0,1],color=\"red\", marker=\"^\", alpha=.5)\n",
    "ax[0].scatter(xFitTransform[y==1, 0], xFitTransform[y==1,1],color=\"blue\", marker=\"o\", alpha=.5)\n",
    "ax[1].scatter(xFitTransform[y==0, 0], np.zeros((50,1))+.05, color=\"red\", marker=\"^\", alpha=.5)\n",
    "ax[1].scatter(xFitTransform[y==1, 0], np.zeros((50,1))-.05, color=\"blue\", marker=\"o\", alpha=.5)\n",
    "ax[0].set_xlabel(\"PC 1\")\n",
    "ax[0].set_ylabel(\"PC 2\")\n",
    "ax[1].set_ylim([-1, 1])\n",
    "ax[1].set_yticks([]) # 直接把刻度隐藏了\n",
    "ax[1].set_xlabel(\"PC 1\")\n",
    "plt.show()"
   ]
  },
  {
   "cell_type": "markdown",
   "metadata": {},
   "source": [
    "#### 5.3.2.2 案例2-分离同心圆"
   ]
  },
  {
   "cell_type": "code",
   "execution_count": 140,
   "metadata": {},
   "outputs": [
    {
     "data": {
      "image/png": "[encoded data removed]",
      "text/plain": [
       "<matplotlib.figure.Figure at 0x23a7994fbe0>"
      ]
     },
     "metadata": {
      "needs_background": "light"
     },
     "output_type": "display_data"
    }
   ],
   "source": [
    "from sklearn.datasets import make_circles\n",
    "X, y = make_circles(n_samples=1000, random_state=123, noise=0.1, factor=.2)\n",
    "scikitPCA = PCA(n_components=2)\n",
    "fig, ax = plt.subplots(nrows=1, ncols=2, figsize=(7,3))\n",
    "ax[0].scatter(X[y==0, 0], X[y==0, 1], color='red', marker='^', alpha=.5)\n",
    "ax[0].scatter(X[y==1, 0], X[y==1, 1], color='blue', marker='o', alpha=.5)\n",
    "ax[1].scatter(X[y==0, 0], np.zeros((500,1)) + .02, color='red', marker='^', alpha=.5)\n",
    "ax[1].scatter(X[y==1, 0], np.zeros((500,1)) - .02, color='blue', marker='o', alpha=.5)\n",
    "ax[0].set_xlabel(\"PC 1\")\n",
    "ax[0].set_ylabel(\"PC 2\")\n",
    "ax[1].set_ylim([-1, 1])\n",
    "ax[1].set_yticks([]) # 直接把刻度隐藏了\n",
    "ax[1].set_xlabel(\"PC 1\")\n",
    "plt.show()"
   ]
  },
  {
   "cell_type": "code",
   "execution_count": 141,
   "metadata": {},
   "outputs": [
    {
     "data": {
      "image/png": "[encoded data removed]",
      "text/plain": [
       "<matplotlib.figure.Figure at 0x23a799857f0>"
      ]
     },
     "metadata": {
      "needs_background": "light"
     },
     "output_type": "display_data"
    }
   ],
   "source": [
    "X1 = rbfKernelPCA(X, gamma=15, n_components=2)\n",
    "fig, ax = plt.subplots(nrows=1, ncols=2, figsize=(7,3))\n",
    "ax[0].scatter(X1[y==0, 0], X1[y==0, 1], color='red', marker='^', alpha=.5)\n",
    "ax[0].scatter(X1[y==1, 0], X1[y==1, 1], color='blue', marker='o', alpha=.5)\n",
    "ax[1].scatter(X1[y==0, 0], np.zeros((500,1)) + .02, color='red', marker='^', alpha=.5)\n",
    "ax[1].scatter(X1[y==1, 0], np.zeros((500,1)) - .02, color='blue', marker='o', alpha=.5)\n",
    "ax[0].set_xlabel(\"PC 1\")\n",
    "ax[0].set_ylabel(\"PC 2\")\n",
    "ax[1].set_ylim([-1, 1])\n",
    "ax[1].set_yticks([]) # 直接把刻度隐藏了\n",
    "ax[1].set_xlabel(\"PC 1\")\n",
    "plt.show()"
   ]
  },
  {
   "cell_type": "markdown",
   "metadata": {},
   "source": [
    "#### 投影新的数据点"
   ]
  },
  {
   "cell_type": "code",
   "execution_count": 146,
   "metadata": {},
   "outputs": [],
   "source": [
    "X, y = make_moons(n_samples=100, random_state=123)\n",
    "alphas, lambdas = rbfKernelPCA(X, gamma=15, n_components=1) # 用更新后的RBF核PCA将其投影到一维子空间"
   ]
  },
  {
   "cell_type": "code",
   "execution_count": 149,
   "metadata": {},
   "outputs": [
    {
     "data": {
      "text/plain": [
       "(100, 1)"
      ]
     },
     "execution_count": 149,
     "metadata": {},
     "output_type": "execute_result"
    }
   ],
   "source": [
    "alphas.shape"
   ]
  },
  {
   "cell_type": "code",
   "execution_count": 150,
   "metadata": {},
   "outputs": [
    {
     "data": {
      "text/plain": [
       "[7.0627247566799545]"
      ]
     },
     "execution_count": 150,
     "metadata": {},
     "output_type": "execute_result"
    }
   ],
   "source": [
    "lambdas"
   ]
  },
  {
   "cell_type": "code",
   "execution_count": 151,
   "metadata": {},
   "outputs": [],
   "source": [
    "xNew = X[25]"
   ]
  },
  {
   "cell_type": "code",
   "execution_count": 152,
   "metadata": {},
   "outputs": [
    {
     "data": {
      "text/plain": [
       "array([1.8713, 0.0093])"
      ]
     },
     "execution_count": 152,
     "metadata": {},
     "output_type": "execute_result"
    }
   ],
   "source": [
    "xNew # 将其投射到新的子空间"
   ]
  },
  {
   "cell_type": "code",
   "execution_count": 153,
   "metadata": {},
   "outputs": [],
   "source": [
    "xProj = alphas[25]"
   ]
  },
  {
   "cell_type": "code",
   "execution_count": 154,
   "metadata": {},
   "outputs": [
    {
     "data": {
      "text/plain": [
       "array([0.0788])"
      ]
     },
     "execution_count": 154,
     "metadata": {},
     "output_type": "execute_result"
    }
   ],
   "source": [
    "xProj"
   ]
  },
  {
   "cell_type": "code",
   "execution_count": 158,
   "metadata": {},
   "outputs": [],
   "source": [
    "def projectX(xNew, X, gamma, alphas, lambdas):\n",
    "    pairDist = np.array([np.sum((xNew - row) ** 2 ) for row in X])\n",
    "    k = np.exp(-gamma * pairDist)\n",
    "    return k.dot(alphas / lambdas)\n"
   ]
  },
  {
   "cell_type": "code",
   "execution_count": 159,
   "metadata": {},
   "outputs": [],
   "source": [
    "xReproj = projectX(xNew, X, gamma=15, alphas=alphas, lambdas=lambdas)"
   ]
  },
  {
   "cell_type": "code",
   "execution_count": 160,
   "metadata": {},
   "outputs": [
    {
     "data": {
      "text/plain": [
       "array([0.0788])"
      ]
     },
     "execution_count": 160,
     "metadata": {},
     "output_type": "execute_result"
    }
   ],
   "source": [
    "xReproj"
   ]
  },
  {
   "cell_type": "code",
   "execution_count": 161,
   "metadata": {},
   "outputs": [
    {
     "data": {
      "text/plain": [
       "<matplotlib.legend.Legend at 0x23a7982cf60>"
      ]
     },
     "execution_count": 161,
     "metadata": {},
     "output_type": "execute_result"
    },
    {
     "data": {
      "image/png": "[encoded data removed]",
      "text/plain": [
       "<matplotlib.figure.Figure at 0x23a77e8cda0>"
      ]
     },
     "metadata": {
      "needs_background": "light"
     },
     "output_type": "display_data"
    }
   ],
   "source": [
    "plt.scatter(alphas[y==0, 0], np.zeros((50)), color='red', marker='^', alpha=.5)\n",
    "plt.scatter(alphas[y==1, 0], np.zeros((50)), color='blue', marker='o', alpha=.5)\n",
    "plt.scatter(xProj, 0, color='black', marker='^', alpha=.5, s=100, label=\"original projection of point X[25]\")\n",
    "plt.scatter(xReproj, 0, color='green', marker='x', alpha=.5, s=500, label=\"remapped point X[25]\")\n",
    "plt.legend(scatterpoints=1)"
   ]
  },
  {
   "cell_type": "markdown",
   "metadata": {},
   "source": [
    "##### 5.3.4 sklearn核主成分分析"
   ]
  },
  {
   "cell_type": "code",
   "execution_count": 162,
   "metadata": {},
   "outputs": [
    {
     "data": {
      "image/png": "[encoded data removed]",
      "text/plain": [
       "<matplotlib.figure.Figure at 0x23a7864e710>"
      ]
     },
     "metadata": {
      "needs_background": "light"
     },
     "output_type": "display_data"
    }
   ],
   "source": [
    "from sklearn.decomposition import KernelPCA\n",
    "X, y = make_moons(n_samples=100, random_state=134)\n",
    "scikitKpca = KernelPCA(n_components=2, kernel=\"rbf\", gamma=15)\n",
    "xSkearnPCA = scikitKpca.fit_transform(X)\n",
    "plt.scatter(xSkearnPCA[y==0, 0], xSkearnPCA[y==0, 1], color=\"red\", marker=\"^\", alpha=.5)\n",
    "plt.scatter(xSkearnPCA[y==1, 0], xSkearnPCA[y==1, 1], color=\"blue\", marker=\"o\", alpha=.5)\n",
    "plt.xlabel(\"PC 1\")\n",
    "plt.ylabel(\"PC 2\")\n",
    "plt.show()"
   ]
  },
  {
   "cell_type": "code",
   "execution_count": null,
   "metadata": {},
   "outputs": [],
   "source": []
  }
 ],
 "metadata": {
  "kernelspec": {
   "display_name": "Python 3",
   "language": "python",
   "name": "python3"
  },
  "language_info": {
   "codemirror_mode": {
    "name": "ipython",
    "version": 3
   },
   "file_extension": ".py",
   "mimetype": "text/x-python",
   "name": "python",
   "nbconvert_exporter": "python",
   "pygments_lexer": "ipython3",
   "version": "3.6.8"
  }
 },
 "nbformat": 4,
 "nbformat_minor": 2
}
