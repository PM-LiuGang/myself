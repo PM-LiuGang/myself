{
 "cells": [
  {
   "cell_type": "markdown",
   "metadata": {},
   "source": [
    "# 第五章"
   ]
  },
  {
   "cell_type": "markdown",
   "metadata": {},
   "source": [
    "## 5.1 用主成分分析实现无监督降维"
   ]
  },
  {
   "cell_type": "markdown",
   "metadata": {},
   "source": [
    "### 5.1.1 主成分分析的主要步骤"
   ]
  },
  {
   "cell_type": "markdown",
   "metadata": {},
   "source": [
    "#### 一般来说PCA降维的算法步骤\n",
    "1.标准化d维数据集\n",
    "2.构建协方差矩阵\n",
    "3.将协方差矩阵分解为特征向量和特征值\n",
    "4.通过降序对特征值进行排序，对相应的特征向量进行排序\n",
    "5.选择对应k个最大特征值的k个特征向量，其中k为新空间的位数（k 小于等于 d）\n",
    "6.从最上面的k特征向量开始构造投影矩阵W\n",
    "7.用投影矩阵W变换d维输入数据集X获得新的k维特征子空间"
   ]
  },
  {
   "cell_type": "markdown",
   "metadata": {},
   "source": [
    "#### 调用模块"
   ]
  },
  {
   "cell_type": "code",
   "execution_count": 94,
   "metadata": {},
   "outputs": [],
   "source": [
    "import pandas as pd\n",
    "import os\n",
    "import sys\n",
    "import numpy as np\n",
    "import matplotlib.pyplot as plt\n",
    "\n",
    "from sklearn.model_selection import train_test_split\n",
    "from sklearn.preprocessing import StandardScaler\n",
    "from matplotlib.colors import ListedColormap\n",
    "from sklearn.linear_model import LogisticRegression\n",
    "from sklearn.decomposition import PCA\n",
    "\n",
    "sys.path.append('C:\\\\Users\\\\Administrator\\\\Desktop\\\\myself')\n",
    "# import plotClassifierRegions\n",
    "\n",
    "plt.rcParams['font.sans-serif'] = ['SimHei'] # 输出中文\n",
    "plt.rcParams['axes.unicode_minus'] = False # 正负轴显示"
   ]
  },
  {
   "cell_type": "markdown",
   "metadata": {},
   "source": [
    "#### 分裂为独立的训练集和测试集，并标准化单位方差"
   ]
  },
  {
   "cell_type": "code",
   "execution_count": 39,
   "metadata": {},
   "outputs": [],
   "source": [
    "dfWine = pd.read_csv(r\"C:\\Users\\86138\\Desktop\\myself\\刷过的书\\python_机器学习\\wine_data.csv\")\n",
    "X, y = dfWine.iloc[:, 1:].values, dfWine.iloc[:, 0].values\n",
    "xTrain, xTest, yTrain, yTest = train_test_split(X, y, test_size=.3, stratify=y, random_state=0)\n",
    "sc = StandardScaler()\n",
    "xTrainStd = sc.fit_transform(xTrain)\n",
    "xTestStd = sc.transform(xTest)"
   ]
  },
  {
   "cell_type": "markdown",
   "metadata": {},
   "source": [
    "#### 获取协方差矩阵的特征向量和特征值"
   ]
  },
  {
   "cell_type": "code",
   "execution_count": 40,
   "metadata": {},
   "outputs": [
    {
     "name": "stdout",
     "output_type": "stream",
     "text": [
      "特征值: \n",
      "[4.84274532 2.41602459 1.54845825 0.96120438 0.84166161 0.6620634\n",
      " 0.51828472 0.34650377 0.3131368  0.10754642 0.21357215 0.15362835\n",
      " 0.1808613 ]\n"
     ]
    }
   ],
   "source": [
    "#covMatT = np.cov(xTrainStd)\n",
    "covMat = np.cov(xTrainStd.T) # 转置保证特征值与行数相同，否则，为124个特征值，与特征数量不符合\n",
    "eigenVals, eigenVecs = np.linalg.eig(covMat)\n",
    "#eigenValsT, eigenVecsT = np.linalg.eig(covMat)\n",
    "print(\"特征值: \\n%s\" % eigenVals)"
   ]
  },
  {
   "cell_type": "markdown",
   "metadata": {},
   "source": [
    "#### 特征值的方差解释比画出来，也就是某个特征值与特征值总和之比"
   ]
  },
  {
   "cell_type": "code",
   "execution_count": 46,
   "metadata": {},
   "outputs": [
    {
     "data": {
      "image/png": "[encoded data removed]",
      "text/plain": [
       "<matplotlib.figure.Figure at 0x1f33f669908>"
      ]
     },
     "metadata": {
      "needs_background": "light"
     },
     "output_type": "display_data"
    }
   ],
   "source": [
    "tot = sum(eigenVals)\n",
    "varExp = [(i / tot) for i in sorted(eigenVals, reverse=True)]\n",
    "cumVarExp = np.cumsum(varExp)\n",
    "plt.bar(range(1,14), varExp, alpha=.5, align=\"center\", label=\"独立的解释方差\")\n",
    "plt.step (range(1,14), cumVarExp, where=\"mid\", label=\"累计的解释方差\")\n",
    "plt.ylabel(\"解释方差率\")\n",
    "plt.xlabel(\"主成分索引\")\n",
    "plt.show() # 前两个成分几乎占了60%"
   ]
  },
  {
   "cell_type": "markdown",
   "metadata": {},
   "source": [
    "#### 特征转换\n",
    "选择与前k个特征值对应的特征向量，其中k为新特征子空间的位置 k<=d\n",
    "用前K个特征向量构造投影矩阵W\n",
    "用投影矩阵W变换d为输入数据集X以获得新的k维特征子空间"
   ]
  },
  {
   "cell_type": "code",
   "execution_count": 50,
   "metadata": {},
   "outputs": [
    {
     "name": "stdout",
     "output_type": "stream",
     "text": [
      "Matrix W:\n",
      " [[-0.13724218  0.50303478]\n",
      " [ 0.24724326  0.16487119]\n",
      " [-0.02545159  0.24456476]\n",
      " [ 0.20694508 -0.11352904]\n",
      " [-0.15436582  0.28974518]\n",
      " [-0.39376952  0.05080104]\n",
      " [-0.41735106 -0.02287338]\n",
      " [ 0.30572896  0.09048885]\n",
      " [-0.30668347  0.00835233]\n",
      " [ 0.07554066  0.54977581]\n",
      " [-0.32613263 -0.20716433]\n",
      " [-0.36861022 -0.24902536]\n",
      " [-0.29669651  0.38022942]]\n"
     ]
    }
   ],
   "source": [
    "eigenPairs = [(np.abs(eigenVals[i]), eigenVecs[:, i]) for i in range(len(eigenVals))]\n",
    "eigenPairs.sort(key=lambda k:k[0], reverse=True)\n",
    "w = np.hstack((eigenPairs[0][1][:, np.newaxis], eigenPairs[1][1][:, np.newaxis]))  # 水平合并[:,1]  [:,1]\n",
    "print(\"Matrix W:\\n\", w)"
   ]
  },
  {
   "cell_type": "code",
   "execution_count": 51,
   "metadata": {},
   "outputs": [
    {
     "data": {
      "text/plain": [
       "array([2.38299011, 0.45458499])"
      ]
     },
     "execution_count": 51,
     "metadata": {},
     "output_type": "execute_result"
    }
   ],
   "source": [
    "xTrainStd[0].dot(w) # (1,13) dot (13,2) = (1,2)"
   ]
  },
  {
   "cell_type": "code",
   "execution_count": 52,
   "metadata": {},
   "outputs": [
    {
     "data": {
      "text/plain": [
       "array([ 0.71225893,  2.22048673, -0.13025864,  0.05962872, -0.50432733,\n",
       "       -0.52831584, -1.24000033,  0.84118003, -1.05215112, -0.29218864,\n",
       "       -0.20017028, -0.82164144, -0.62946362])"
      ]
     },
     "execution_count": 52,
     "metadata": {},
     "output_type": "execute_result"
    }
   ],
   "source": [
    "xTrainStd[0]"
   ]
  },
  {
   "cell_type": "code",
   "execution_count": 53,
   "metadata": {},
   "outputs": [],
   "source": [
    "xTrainPca = xTrainStd.dot(w)"
   ]
  },
  {
   "cell_type": "code",
   "execution_count": 56,
   "metadata": {},
   "outputs": [
    {
     "data": {
      "text/plain": [
       "(124, 13)"
      ]
     },
     "execution_count": 56,
     "metadata": {},
     "output_type": "execute_result"
    }
   ],
   "source": [
    "xTrainStd.shape"
   ]
  },
  {
   "cell_type": "code",
   "execution_count": 58,
   "metadata": {},
   "outputs": [
    {
     "data": {
      "text/plain": [
       "(124, 2)"
      ]
     },
     "execution_count": 58,
     "metadata": {},
     "output_type": "execute_result"
    }
   ],
   "source": [
    "xTrainPca.shape"
   ]
  },
  {
   "cell_type": "code",
   "execution_count": 71,
   "metadata": {},
   "outputs": [
    {
     "data": {
      "image/png": "[encoded data removed]",
      "text/plain": [
       "<matplotlib.figure.Figure at 0x1f33fa02dd8>"
      ]
     },
     "metadata": {
      "needs_background": "light"
     },
     "output_type": "display_data"
    }
   ],
   "source": [
    "colors = list(\"rbg\")\n",
    "markers = list(\"sxo\")\n",
    "for l, c, m in zip(np.unique(yTrain), colors, markers):\n",
    "    plt.scatter(xTrainPca[yTrain==l, 0], xTrainPca[yTrain==l, 1], c=c, label=l, marker=m)\n",
    "plt.xlabel(\"PC 1\")\n",
    "plt.ylabel(\"PC 2\")\n",
    "plt.legend(loc = \"lower left\")\n",
    "plt.show()"
   ]
  },
  {
   "cell_type": "markdown",
   "metadata": {},
   "source": [
    "#### sklearn的主成分分析"
   ]
  },
  {
   "cell_type": "code",
   "execution_count": 70,
   "metadata": {},
   "outputs": [
    {
     "data": {
      "text/plain": [
       "array([ 1.65376939,  1.02909066,  0.6024011 ,  0.94626934,  0.13877   ,\n",
       "        0.16048055,  0.71745249,  1.47183304,  0.70412212,  2.18657552,\n",
       "        0.51921086,  0.61392169,  0.76839561,  1.0848074 ,  1.01997476,\n",
       "        0.00489815, -0.21308835,  1.1468486 ,  1.75933599,  1.35779609,\n",
       "        1.66537927,  0.13747499,  2.16983165,  1.60141809,  0.6004608 ,\n",
       "        1.39240115,  0.52868143, -0.04400723,  1.59724429,  1.21428442,\n",
       "        1.6116814 ,  2.20145366,  0.00920072,  0.28287148,  0.69622621,\n",
       "        0.63274325,  1.0745577 ,  0.16644199,  1.38137702,  2.57906029,\n",
       "        1.18319185])"
      ]
     },
     "execution_count": 70,
     "metadata": {},
     "output_type": "execute_result"
    }
   ],
   "source": [
    "xTrainPca[yTrain==1, 1]"
   ]
  },
  {
   "cell_type": "code",
   "execution_count": 93,
   "metadata": {},
   "outputs": [],
   "source": [
    "def plot_decision_regions(X, y, classifier, test_idx=None, resolution=0.02):\n",
    "    '''\n",
    "    常用分类可视化函数\n",
    "    param X 训练集\n",
    "    param y 标签\n",
    "    param classifier 已fit好的分类器\n",
    "    test_idx 训练集的输入变量范围\n",
    "    resolution 等高线 高度\n",
    "    return 等高线 \n",
    "    '''\n",
    "    marker = list('sxo^v')\n",
    "    colors = ['red', 'blue', 'lightgreen', 'gray', 'cyan']\n",
    "    cmap = ListedColormap(colors[:len(np.unique(y))])\n",
    "    x1_min, x1_max = X[:, 0].min() - 1, X[:, 0].max() + 1\n",
    "    x2_min, x2_max = X[:, 1].min() - 1, X[:, 1].max() + 1\n",
    "    xx1, xx2 = np.meshgrid(np.arange(x1_min, x1_max, resolution),\n",
    "                           np.arange(x2_min, x2_max, resolution))\n",
    "    z = classifier.predict(np.array([xx1.ravel(), xx2.ravel()]).T)\n",
    "    z = z.reshape(xx1.shape)\n",
    "    plt.contourf(xx1, xx2, z, alpha=0.4, cmap=cmap)\n",
    "    plt.xlim(xx1.min(), xx1.max())\n",
    "    plt.ylim(xx2.min(), xx2.max())\n",
    "    \n",
    "    for idx, cl in enumerate(np.unique(y)):\n",
    "        plt.scatter(x=X[y == cl, 0],\n",
    "                    y=X[y == cl, 1],\n",
    "                    alpha=0.8,\n",
    "                    c=cmap(idx),\n",
    "                    marker=marker[idx],\n",
    "                    label=cl)\n"
   ]
  },
  {
   "cell_type": "code",
   "execution_count": 95,
   "metadata": {},
   "outputs": [
    {
     "data": {
      "image/png": "[encoded data removed]",
      "text/plain": [
       "<matplotlib.figure.Figure at 0x1f33f9519e8>"
      ]
     },
     "metadata": {
      "needs_background": "light"
     },
     "output_type": "display_data"
    }
   ],
   "source": [
    "pca = PCA(n_components=2)\n",
    "lr = LogisticRegression(solver=\"saga\", multi_class=\"auto\")\n",
    "skTrainPca = pca.fit_transform(xTrainStd)\n",
    "skTestPca = pca.transform(xTestStd)\n",
    "lr.fit(skTrainPca, yTrain)\n",
    "plot_decision_regions(skTrainPca, yTrain, classifier=lr)\n",
    "plt.xlabel(\"PC 1\")\n",
    "plt.ylabel(\"PC 2\")\n",
    "plt.legend(loc = \"lower left\")\n",
    "plt.show()"
   ]
  },
  {
   "cell_type": "code",
   "execution_count": 96,
   "metadata": {},
   "outputs": [
    {
     "data": {
      "image/png": "[encoded data removed]",
      "text/plain": [
       "<matplotlib.figure.Figure at 0x1f33d7a7160>"
      ]
     },
     "metadata": {
      "needs_background": "light"
     },
     "output_type": "display_data"
    }
   ],
   "source": [
    "plot_decision_regions(skTestPca, yTest, classifier=lr)\n",
    "plt.xlabel(\"PC 1\")\n",
    "plt.ylabel(\"PC 2\")\n",
    "plt.legend(loc = \"lower left\")\n",
    "plt.show()"
   ]
  },
  {
   "cell_type": "code",
   "execution_count": 98,
   "metadata": {},
   "outputs": [
    {
     "data": {
      "text/plain": [
       "array([0.36951469, 0.18434927, 0.11815159, 0.07334252, 0.06422108,\n",
       "       0.05051724, 0.03954654, 0.02643918, 0.02389319, 0.01629614,\n",
       "       0.01380021, 0.01172226, 0.00820609])"
      ]
     },
     "execution_count": 98,
     "metadata": {},
     "output_type": "execute_result"
    }
   ],
   "source": [
    "pca=PCA(n_components=None) # 初始化PCA类，这样可以保持所有的主成分，然后通过解释方差属性比访问\n",
    "xTrainPca = pca.fit_transform(xTrainStd)\n",
    "pca.explained_variance_ratio_"
   ]
  },
  {
   "cell_type": "code",
   "execution_count": 89,
   "metadata": {},
   "outputs": [
    {
     "data": {
      "text/plain": [
       "(54, 2)"
      ]
     },
     "execution_count": 89,
     "metadata": {},
     "output_type": "execute_result"
    }
   ],
   "source": [
    "skTestPca.shape"
   ]
  },
  {
   "cell_type": "code",
   "execution_count": null,
   "metadata": {},
   "outputs": [],
   "source": []
  }
 ],
 "metadata": {
  "kernelspec": {
   "display_name": "Python 3",
   "language": "python",
   "name": "python3"
  },
  "language_info": {
   "codemirror_mode": {
    "name": "ipython",
    "version": 3
   },
   "file_extension": ".py",
   "mimetype": "text/x-python",
   "name": "python",
   "nbconvert_exporter": "python",
   "pygments_lexer": "ipython3",
   "version": "3.6.8"
  }
 },
 "nbformat": 4,
 "nbformat_minor": 2
}
