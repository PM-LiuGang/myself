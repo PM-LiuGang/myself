{
 "cells": [
  {
   "cell_type": "markdown",
   "metadata": {},
   "source": [
    "# 模块与包"
   ]
  },
  {
   "cell_type": "markdown",
   "metadata": {},
   "source": [
    "你想将你的代码组织成由很多分层模块构成的包"
   ]
  },
  {
   "cell_type": "markdown",
   "metadata": {},
   "source": [
    "封装成包是很简单的。在文件系统上组织你的代码，并确保每个目录都定义了一个\n",
    "__init__.py 文件"
   ]
  },
  {
   "cell_type": "markdown",
   "metadata": {},
   "source": [
    "graphics/\n",
    "\n",
    "    __init__.py\n",
    "    \n",
    "    primitive/\n",
    "    \n",
    "        __init__.py\n",
    "        \n",
    "        line.py\n",
    "        \n",
    "        fill.py\n",
    "        \n",
    "        text.py\n",
    "        \n",
    "    formats/\n",
    "    \n",
    "        __init__.py\n",
    "        \n",
    "        png.py\n",
    "        \n",
    "        jpg.py"
   ]
  },
  {
   "cell_type": "code",
   "execution_count": null,
   "metadata": {},
   "outputs": [],
   "source": [
    "\"\"\"\n",
    "import graphics.primitive.line\n",
    "from graphics.primitive import line\n",
    "import graphics.formats.jpg as jps\n",
    "\n",
    "定义模块的层次结构就像在文件系统上建立目录结构一样容易。文件 __init__.py\n",
    "的目的是要包含不同运行级别的包的可选的初始化代码。举个例子，如果你执行了语句\n",
    "import graphics，文件 graphics/__init__.py 将被导入, 建立 graphics 命名空间的内容。\n",
    "像 import graphics.format.jpg 这样导入，文件 graphics/__init__.py 和文件 graphics/\n",
    "formats/__init__.py 将在文件 graphics/formats/jpg.py 导入之前导入。\n",
    "绝大部分时候让 __init__.py 空着就好。但是有些情况下可能包含代码。举个例\n",
    "子，__init__.py 能够用来自动加载子模块:\n",
    "\"\"\""
   ]
  },
  {
   "cell_type": "code",
   "execution_count": null,
   "metadata": {},
   "outputs": [],
   "source": []
  }
 ],
 "metadata": {
  "kernelspec": {
   "display_name": "Python 3",
   "language": "python",
   "name": "python3"
  },
  "language_info": {
   "codemirror_mode": {
    "name": "ipython",
    "version": 3
   },
   "file_extension": ".py",
   "mimetype": "text/x-python",
   "name": "python",
   "nbconvert_exporter": "python",
   "pygments_lexer": "ipython3",
   "version": "3.6.8"
  }
 },
 "nbformat": 4,
 "nbformat_minor": 2
}
