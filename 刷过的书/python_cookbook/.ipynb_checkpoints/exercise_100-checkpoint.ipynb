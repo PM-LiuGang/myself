{
 "cells": [
  {
   "cell_type": "markdown",
   "metadata": {},
   "source": [
    "1.Apple Store App 独立开发者，你要搞限时促销，为你的应用生成激活码（或者优惠券），使用 Python 如何生成 200 个激活码（或者优惠券）"
   ]
  },
  {
   "cell_type": "code",
   "execution_count": 199,
   "metadata": {},
   "outputs": [],
   "source": [
    "import random\n",
    "import os\n",
    "\n",
    "from datetime import date"
   ]
  },
  {
   "cell_type": "code",
   "execution_count": 200,
   "metadata": {},
   "outputs": [],
   "source": [
    "#优惠券规则:APP编号三位+年月日+随机7位数\n",
    "#坑1：用的datetime.datetime会返回单位数的月份和日期\n",
    "#坑2：有两种方式填充两位的月份和日期，格式化和字符串格式时间\n",
    "cdate = date.today()\n",
    "cyear = str(cdate.year)\n",
    "cmonth = cdate.strftime('%m')\n",
    "cday = cdate.strftime('%d')\n",
    "app_number = '001'"
   ]
  },
  {
   "cell_type": "code",
   "execution_count": 202,
   "metadata": {},
   "outputs": [],
   "source": [
    "end4 = []\n",
    "n = 1 \n",
    "while True:\n",
    "    rand_end4 = random.randint(1000000,9999999)\n",
    "    end4.append(app_number + cyear + cmonth + cday + str(rand_end4))\n",
    "    n += 1\n",
    "    if n > 200:\n",
    "        break"
   ]
  },
  {
   "cell_type": "code",
   "execution_count": 203,
   "metadata": {},
   "outputs": [],
   "source": [
    "if not os.path.exists('./store_quan.txt'):\n",
    "    with open('store_quan.txt','wt') as f:\n",
    "        f.write('优惠券编号\\n')"
   ]
  },
  {
   "cell_type": "code",
   "execution_count": 204,
   "metadata": {},
   "outputs": [],
   "source": [
    "with open('store_quan.txt','rt') as f:\n",
    "    data = f.readlines()"
   ]
  },
  {
   "cell_type": "code",
   "execution_count": 205,
   "metadata": {},
   "outputs": [],
   "source": [
    "#坑1：writelines写文件的时候是list或者迭代器 | 必须加入换行符号\n",
    "with open('store_quan.txt','at') as f:\n",
    "    for end in end4:\n",
    "        if not end in data:        \n",
    "            f.writelines(end + '\\n')"
   ]
  },
  {
   "cell_type": "markdown",
   "metadata": {},
   "source": [
    "2.将 0001 题生成的 200 个激活码（或者优惠券）保存到 MySQL 关系型数据库中"
   ]
  },
  {
   "cell_type": "code",
   "execution_count": 206,
   "metadata": {},
   "outputs": [],
   "source": [
    "import pymysql"
   ]
  },
  {
   "cell_type": "code",
   "execution_count": 207,
   "metadata": {},
   "outputs": [],
   "source": [
    "db = pymysql.connect(\n",
    "    host='192.168.148.88', \n",
    "    port=3306,\n",
    "    user='root', \n",
    "    passwd='123456', \n",
    "    db='exercise_100',\n",
    "    charset='utf8')\n",
    "cursor = db.cursor()"
   ]
  },
  {
   "cell_type": "code",
   "execution_count": 209,
   "metadata": {},
   "outputs": [],
   "source": [
    "with open('store_quan.txt','rt') as f:\n",
    "    data = f.readlines()"
   ]
  },
  {
   "cell_type": "code",
   "execution_count": null,
   "metadata": {},
   "outputs": [],
   "source": [
    "#坑1：不会写mysql的插入语句\n",
    "#坑2：mysql的语句必须用字符串格式化 | %i不需要用引号 | %i表示整数\n",
    "#坑3：主键不能重复 | enumerate return index->int\n",
    "for lineno, value in enumerate(data[2 : ], 2):\n",
    "    store_num = value[ : 3]\n",
    "    issue_date = value[3 : 11]\n",
    "    random_num = value[11 : -1]\n",
    "    #print(type(lineno), type(store_num), type(issue_date), type(random_num))\n",
    "    #print(lineno, store_num, issue_date, random_num)\n",
    "    sql = \"INSERT INTO coupon (seqnum,store_num, issue_date, random_num) values (%i, '%s','%s','%s')\" % (lineno,store_num, issue_date, random_num)\n",
    "    cursor.execute(sql)\n",
    "    db.commit()\n",
    "    sql = 'select * from coupon'\n",
    "    cursor.execute(sql)\n",
    "    data = cursor.fetchone()\n",
    "    print(data)\n",
    "\n",
    "db.close()"
   ]
  },
  {
   "cell_type": "code",
   "execution_count": 211,
   "metadata": {},
   "outputs": [],
   "source": []
  },
  {
   "cell_type": "code",
   "execution_count": null,
   "metadata": {},
   "outputs": [],
   "source": []
  }
 ],
 "metadata": {
  "kernelspec": {
   "display_name": "Python 3",
   "language": "python",
   "name": "python3"
  },
  "language_info": {
   "codemirror_mode": {
    "name": "ipython",
    "version": 3
   },
   "file_extension": ".py",
   "mimetype": "text/x-python",
   "name": "python",
   "nbconvert_exporter": "python",
   "pygments_lexer": "ipython3",
   "version": "3.6.8"
  }
 },
 "nbformat": 4,
 "nbformat_minor": 2
}
