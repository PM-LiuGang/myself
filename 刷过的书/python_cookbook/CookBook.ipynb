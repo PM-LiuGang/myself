{
 "cells": [
  {
   "cell_type": "markdown",
   "metadata": {},
   "source": [
    "## 1.1解压序列赋值给多个变量"
   ]
  },
  {
   "cell_type": "code",
   "execution_count": null,
   "metadata": {},
   "outputs": [],
   "source": []
  },
  {
   "cell_type": "code",
   "execution_count": 1,
   "metadata": {},
   "outputs": [
    {
     "data": {
      "text/plain": [
       "(4, 5)"
      ]
     },
     "execution_count": 1,
     "metadata": {},
     "output_type": "execute_result"
    }
   ],
   "source": [
    "p = (4, 5)\n",
    "x, y = p\n",
    "x, y "
   ]
  },
  {
   "cell_type": "code",
   "execution_count": 2,
   "metadata": {},
   "outputs": [
    {
     "data": {
      "text/plain": [
       "('ACME', (2012, 12, 21))"
      ]
     },
     "execution_count": 2,
     "metadata": {},
     "output_type": "execute_result"
    }
   ],
   "source": [
    "data = [\"ACME\", 50, 91.1, (2012, 12, 21)]\n",
    "name, shares, price, date = data\n",
    "name, date"
   ]
  },
  {
   "cell_type": "code",
   "execution_count": 3,
   "metadata": {},
   "outputs": [
    {
     "data": {
      "text/plain": [
       "('ACME', 2012, 12, 21)"
      ]
     },
     "execution_count": 3,
     "metadata": {},
     "output_type": "execute_result"
    }
   ],
   "source": [
    "name, shares, price ,(year, mon, day) = data\n",
    "name,year, mon, day"
   ]
  },
  {
   "cell_type": "code",
   "execution_count": 4,
   "metadata": {},
   "outputs": [
    {
     "ename": "ValueError",
     "evalue": "not enough values to unpack (expected 3, got 2)",
     "output_type": "error",
     "traceback": [
      "\u001b[1;31m---------------------------------------------------------------------------\u001b[0m",
      "\u001b[1;31mValueError\u001b[0m                                Traceback (most recent call last)",
      "\u001b[1;32m<ipython-input-4-e1eb8282437b>\u001b[0m in \u001b[0;36m<module>\u001b[1;34m\u001b[0m\n\u001b[0;32m      1\u001b[0m \u001b[0mp\u001b[0m \u001b[1;33m=\u001b[0m \u001b[1;33m(\u001b[0m\u001b[1;36m4\u001b[0m\u001b[1;33m,\u001b[0m \u001b[1;36m5\u001b[0m\u001b[1;33m)\u001b[0m\u001b[1;33m\u001b[0m\u001b[1;33m\u001b[0m\u001b[0m\n\u001b[1;32m----> 2\u001b[1;33m \u001b[0mx\u001b[0m\u001b[1;33m,\u001b[0m \u001b[0my\u001b[0m \u001b[1;33m,\u001b[0m \u001b[0mz\u001b[0m \u001b[1;33m=\u001b[0m \u001b[0mp\u001b[0m\u001b[1;33m\u001b[0m\u001b[1;33m\u001b[0m\u001b[0m\n\u001b[0m",
      "\u001b[1;31mValueError\u001b[0m: not enough values to unpack (expected 3, got 2)"
     ]
    }
   ],
   "source": [
    "p = (4, 5)\n",
    "x, y , z = p"
   ]
  },
  {
   "cell_type": "code",
   "execution_count": null,
   "metadata": {},
   "outputs": [],
   "source": [
    "s = \"Hello\"\n",
    "a, b ,c ,d, e = s\n",
    "a,b,c"
   ]
  },
  {
   "cell_type": "code",
   "execution_count": null,
   "metadata": {},
   "outputs": [],
   "source": [
    "_, shares, price, _ = data\n",
    "shares, price"
   ]
  },
  {
   "cell_type": "markdown",
   "metadata": {},
   "source": [
    "1.2解压可迭代对象赋值给多个变量"
   ]
  },
  {
   "cell_type": "markdown",
   "metadata": {},
   "source": [
    "问题：如果一个可迭代对象的元素个数超过变量个数时，会抛出一个ValueError,\n",
    "那么怎么才能从这个可迭代对象中解压出N个元素出来？"
   ]
  },
  {
   "cell_type": "code",
   "execution_count": null,
   "metadata": {},
   "outputs": [],
   "source": [
    "def drop_first_last(grades):\n",
    "    first, *middle, last = grades\n",
    "    return avg(middle)\n",
    "\n",
    "record = (\"Dave\", \"dave@example.com\", '773-555-121', \"847-555-1212\")\n",
    "name, email, *phone_numbers = record\n",
    "name, email, phone_numbers # type(phone_numbers) = type([])"
   ]
  },
  {
   "cell_type": "code",
   "execution_count": null,
   "metadata": {},
   "outputs": [],
   "source": [
    "*trailing, current = [10, 8, 7, 1, 9, 5, 10, 3]\n",
    "trailing, current"
   ]
  },
  {
   "cell_type": "markdown",
   "metadata": {},
   "source": [
    "星号表达式在迭代元素为可变长元组的序列时是很有用的"
   ]
  },
  {
   "cell_type": "code",
   "execution_count": null,
   "metadata": {},
   "outputs": [],
   "source": [
    "records = [(\"foo\", 1, 2), (\"bar\", \"hello\"), (\"foo\", 3, 4)]\n",
    "def do_foo(x, y):\n",
    "    print(\"foo\", x, y)\n",
    "    \n",
    "def do_bar(s):\n",
    "    print(\"bar\", s)\n",
    "    \n",
    "for tag, *args in records:\n",
    "    if tag == \"foo\":\n",
    "        do_foo(*args)\n",
    "    elif tag == \"bar\":\n",
    "        do_bar(*args)"
   ]
  },
  {
   "cell_type": "code",
   "execution_count": null,
   "metadata": {},
   "outputs": [],
   "source": [
    "line = \"noboby:*:-2:-2:Unprivileged User:/var/empty:/usr/bin/false\"\n",
    "uname, * fields, homedir, sh = line.split(\":\")\n",
    "uname, homedir, sh"
   ]
  },
  {
   "cell_type": "code",
   "execution_count": null,
   "metadata": {},
   "outputs": [],
   "source": [
    "record = (\"ACME\", 50, 123.45, (12, 18, 2012))\n",
    "name, *_, (*_, year) = record\n",
    "name, year"
   ]
  },
  {
   "cell_type": "code",
   "execution_count": null,
   "metadata": {},
   "outputs": [],
   "source": [
    "items = [1, 10, 7, 4, 5, 9]\n",
    "head, *tail = items\n",
    "head, tail"
   ]
  },
  {
   "cell_type": "code",
   "execution_count": null,
   "metadata": {},
   "outputs": [],
   "source": [
    "def sum(items):\n",
    "    head, *tail = items\n",
    "    return head + sum(tail) if tail else head\n",
    "sum(items)"
   ]
  },
  {
   "cell_type": "markdown",
   "metadata": {},
   "source": [
    "1.3 保留最后N个元素"
   ]
  },
  {
   "cell_type": "markdown",
   "metadata": {},
   "source": [
    "在迭代操作或者其他操作的时候，怎样只保留最后几个元素的历史记录"
   ]
  },
  {
   "cell_type": "code",
   "execution_count": 11,
   "metadata": {},
   "outputs": [
    {
     "name": "stdout",
     "output_type": "stream",
     "text": [
      "Keeping a limited history is a perfect use for a `collections.deque`.\n",
      "\n",
      "[source,python]\n",
      "--------------------\n",
      "For example, the following code performs a simple text match on a\n",
      "\n",
      "[source,python]\n",
      "--------------------\n",
      "sequence of lines and prints the matching line along with the previous\n",
      "\n",
      "[source,python]\n",
      "--------------------\n",
      "N lines of context when found:\n",
      "\n",
      "[source,python]\n",
      "--------------------\n",
      "\n",
      "\n",
      "[source,python]\n",
      "--------------------\n",
      "        previous_lines.append(line)\n",
      "\n",
      "         search(f, 'python', 5)\n",
      "--------------------\n",
      "\n",
      "\n",
      "         search(f, 'python', 5)\n",
      "--------------------\n",
      "# Example use on a file\n",
      "\n",
      "         search(f, 'python', 5)\n",
      "--------------------\n",
      "if __name__ == '__main__':\n",
      "\n",
      "         search(f, 'python', 5)\n",
      "--------------------\n",
      "    with open('somefile.txt') as f:\n",
      "\n",
      "         search(f, 'python', 5)\n",
      "--------------------\n"
     ]
    }
   ],
   "source": [
    "from collections import deque\n",
    "\n",
    "#deque(maxlen=N) 构造函数会新建一个固定大小的队列，当新的元素加入并且这个队列\n",
    "#已满的时候，最老的元素会自动被移除掉\n",
    "\n",
    "def search(lines, pattern, history=5):\n",
    "    previous_lines = deque(maxlen=history)\n",
    "    for line in lines: \n",
    "        if pattern in line:\n",
    "            yield line, previous_lines # 生成器件4.3节\n",
    "        previous_lines.append(line)\n",
    "        \n",
    "if __name__ == \"__main__\":\n",
    "    with open(\"somefile.txt\") as f:\n",
    "        for line, prevlines in search(f, \"python\", 5):\n",
    "            for pline in prevlines:\n",
    "                print(pline)\n",
    "                print(line, end=\"\")\n",
    "                print(\"-\" * 20)"
   ]
  },
  {
   "cell_type": "markdown",
   "metadata": {},
   "source": [
    "1.4 查找最大或最小的N个元素"
   ]
  },
  {
   "cell_type": "markdown",
   "metadata": {},
   "source": [
    "怎样从一个集合中获得最大或者最小的N个元素列表"
   ]
  },
  {
   "cell_type": "code",
   "execution_count": 1,
   "metadata": {},
   "outputs": [
    {
     "name": "stdout",
     "output_type": "stream",
     "text": [
      "[42, 37, 23]\n",
      "[-4, 1, 2]\n"
     ]
    }
   ],
   "source": [
    "import heapq\n",
    "nums = [1, 8, 2, 23, 7, -4, 18, 23, 42, 37, 2]\n",
    "print(heapq.nlargest(3, nums))\n",
    "print(heapq.nsmallest(3, nums))"
   ]
  },
  {
   "cell_type": "code",
   "execution_count": 21,
   "metadata": {},
   "outputs": [],
   "source": [
    "portfolio = [ \n",
    "    {\"name\": \"IBM\", \"shares\": 100, \"price\":91.1},\n",
    "    {\"name\": \"AAPL\", \"shares\": 50, \"price\":543.22},\n",
    "    {\"name\": \"FB\", \"shares\": 200, \"price\":21.09},\n",
    "    {\"name\": \"HPQ\", \"shares\": 35, \"price\":31.75},\n",
    "    {\"name\": \"YHOO\", \"shares\": 45, \"price\":16.35},\n",
    "    {\"name\": \"ACME\", \"shares\": 75, \"price\":115.65}\n",
    "]\n",
    "cheap = heapq.nsmallest(3, portfolio, key=lambda s: s [\"price\"])\n",
    "expensive = heapq.nlargest(3, portfolio, key=lambda s: s[\"price\"])"
   ]
  },
  {
   "cell_type": "code",
   "execution_count": 22,
   "metadata": {},
   "outputs": [
    {
     "data": {
      "text/plain": [
       "([{'name': 'YHOO', 'shares': 45, 'price': 16.35},\n",
       "  {'name': 'FB', 'shares': 200, 'price': 21.09},\n",
       "  {'name': 'HPQ', 'shares': 35, 'price': 31.75}],\n",
       " [{'name': 'AAPL', 'shares': 50, 'price': 543.22},\n",
       "  {'name': 'ACME', 'shares': 75, 'price': 115.65},\n",
       "  {'name': 'IBM', 'shares': 100, 'price': 91.1}])"
      ]
     },
     "execution_count": 22,
     "metadata": {},
     "output_type": "execute_result"
    }
   ],
   "source": [
    "cheap,expensive"
   ]
  },
  {
   "cell_type": "code",
   "execution_count": 8,
   "metadata": {},
   "outputs": [
    {
     "name": "stdout",
     "output_type": "stream",
     "text": [
      "[-4, 2, 1, 23, 7, 2, 18, 23, 42, 37, 8]\n",
      "-4\n",
      "-4\n",
      "1\n",
      "2\n"
     ]
    }
   ],
   "source": [
    "nums = [1, 8, 2, 23, 7, -4, 18, 23, 42, 37, 2]\n",
    "heapq.heapify(nums)\n",
    "print(nums)\n",
    "# 堆数据结构最重要的特征式heap[0]永远是最小的元素，并且剩余的元素可以很容易\n",
    "# 通过heaqp.heapop()方法得到，该方法先将第一个元素弹出来，然后\n",
    "# 用下一个最小的元素来取代被弹出元素，例如，如果想要查找最小的3个元素\n",
    "# 你可以这样做\n",
    "print(nums[0])\n",
    "print(heapq.heappop(nums))\n",
    "print(heapq.heappop(nums))\n",
    "print(heapq.heappop(nums))"
   ]
  },
  {
   "cell_type": "markdown",
   "metadata": {},
   "source": [
    "1.5 实现一个优先级队列"
   ]
  },
  {
   "cell_type": "markdown",
   "metadata": {},
   "source": [
    "问题：怎样实现一个按优先级排序的队列？并且在这个队列上面每次pop操作总是返回优先级最高的那个元素"
   ]
  },
  {
   "cell_type": "code",
   "execution_count": 9,
   "metadata": {},
   "outputs": [],
   "source": [
    "import heapq\n",
    "\n",
    "class PriorityQueue:\n",
    "    def __init__(self):\n",
    "        self._queue = []\n",
    "        self._index = 0\n",
    "        \n",
    "    def push(self, item, priority):\n",
    "        heapq.heappush(self._queue, (-priority, self._index, item))\n",
    "        self._index += 1\n",
    "        \n",
    "    def pop(self):\n",
    "        return heapq.heappop(self._queue)[-1]\n",
    "    \n",
    "class Item:\n",
    "    def __init__(self, name):\n",
    "        self.name = name\n",
    "    \n",
    "    def __repr__(self):\n",
    "        return \"Item({!r})\".format(self.name)\n",
    "    \n",
    "# 第一个pop操作返回优先级最高的元素，另外注意到如果两个有着相同优先级的元素\n",
    "# （foo和grok），pop操作按照他们被插入到队列的顺序返回的\n",
    "# heappop()函数总是返回最小的元素，保证队列pop操作返回正确元素的关键\n",
    "# heapq.heappush() heapq.heappop()分别在队列_queue上插入和删除第一个元素，\n",
    "# 并且队列_queue保证第一个元素拥有最高优先级\n",
    "# (=priority,index,item) 优先级为负数目的使得元素按照优先级从高到低排序，这个跟普通的按优先级从低到高排序的堆排序恰巧相反\n",
    "#index变量的作用是保证同等优先级元素的正确排序，通过保存一个不断增加的index变量，可以确保元素按照他们插入的顺序排序\n",
    "# index变量也在相同优先级元素比较的时候起到重要作用"
   ]
  },
  {
   "cell_type": "markdown",
   "metadata": {},
   "source": [
    "先假定Item是不支持排序的"
   ]
  },
  {
   "cell_type": "code",
   "execution_count": 11,
   "metadata": {},
   "outputs": [
    {
     "data": {
      "text/plain": [
       "(Item('bar'), Item('spam'), Item('foo'), Item('grok'))"
      ]
     },
     "execution_count": 11,
     "metadata": {},
     "output_type": "execute_result"
    }
   ],
   "source": [
    "q = PriorityQueue()\n",
    "q.push(Item('foo'), 1), q.push(Item(\"bar\"), 5), q.push(Item(\"spam\"), 4) ,q.push(Item(\"grok\"), 1)\n",
    "q.pop(), q.pop(), q.pop(), q.pop()"
   ]
  },
  {
   "cell_type": "code",
   "execution_count": 23,
   "metadata": {},
   "outputs": [
    {
     "ename": "TypeError",
     "evalue": "'<' not supported between instances of 'Item' and 'Item'",
     "output_type": "error",
     "traceback": [
      "\u001b[1;31m---------------------------------------------------------------------------\u001b[0m",
      "\u001b[1;31mTypeError\u001b[0m                                 Traceback (most recent call last)",
      "\u001b[1;32m<ipython-input-23-1ffbfeb7024c>\u001b[0m in \u001b[0;36m<module>\u001b[1;34m\u001b[0m\n\u001b[0;32m      1\u001b[0m \u001b[0ma\u001b[0m \u001b[1;33m=\u001b[0m \u001b[0mItem\u001b[0m\u001b[1;33m(\u001b[0m\u001b[1;34m\"foo\"\u001b[0m\u001b[1;33m)\u001b[0m\u001b[1;33m\u001b[0m\u001b[1;33m\u001b[0m\u001b[0m\n\u001b[0;32m      2\u001b[0m \u001b[0mb\u001b[0m \u001b[1;33m=\u001b[0m \u001b[0mItem\u001b[0m\u001b[1;33m(\u001b[0m\u001b[1;34m\"bar\"\u001b[0m\u001b[1;33m)\u001b[0m\u001b[1;33m\u001b[0m\u001b[1;33m\u001b[0m\u001b[0m\n\u001b[1;32m----> 3\u001b[1;33m \u001b[0ma\u001b[0m\u001b[1;33m<\u001b[0m\u001b[0mb\u001b[0m\u001b[1;33m\u001b[0m\u001b[1;33m\u001b[0m\u001b[0m\n\u001b[0m",
      "\u001b[1;31mTypeError\u001b[0m: '<' not supported between instances of 'Item' and 'Item'"
     ]
    }
   ],
   "source": [
    "a = Item(\"foo\")\n",
    "b = Item(\"bar\")\n",
    "a<b"
   ]
  },
  {
   "cell_type": "code",
   "execution_count": 24,
   "metadata": {},
   "outputs": [
    {
     "data": {
      "text/plain": [
       "True"
      ]
     },
     "execution_count": 24,
     "metadata": {},
     "output_type": "execute_result"
    }
   ],
   "source": [
    "a = (1, Item(\"foo\"))\n",
    "b = (5, Item(\"bar\"))\n",
    "a < b"
   ]
  },
  {
   "cell_type": "code",
   "execution_count": 26,
   "metadata": {},
   "outputs": [
    {
     "ename": "TypeError",
     "evalue": "'<' not supported between instances of 'Item' and 'Item'",
     "output_type": "error",
     "traceback": [
      "\u001b[1;31m---------------------------------------------------------------------------\u001b[0m",
      "\u001b[1;31mTypeError\u001b[0m                                 Traceback (most recent call last)",
      "\u001b[1;32m<ipython-input-26-6faed17700c8>\u001b[0m in \u001b[0;36m<module>\u001b[1;34m\u001b[0m\n\u001b[0;32m      1\u001b[0m \u001b[0mc\u001b[0m \u001b[1;33m=\u001b[0m \u001b[1;33m(\u001b[0m\u001b[1;36m1\u001b[0m\u001b[1;33m,\u001b[0m \u001b[0mItem\u001b[0m\u001b[1;33m(\u001b[0m\u001b[1;34m'grok'\u001b[0m\u001b[1;33m)\u001b[0m\u001b[1;33m)\u001b[0m\u001b[1;33m\u001b[0m\u001b[1;33m\u001b[0m\u001b[0m\n\u001b[1;32m----> 2\u001b[1;33m \u001b[0ma\u001b[0m \u001b[1;33m<\u001b[0m \u001b[0mc\u001b[0m\u001b[1;33m\u001b[0m\u001b[1;33m\u001b[0m\u001b[0m\n\u001b[0m",
      "\u001b[1;31mTypeError\u001b[0m: '<' not supported between instances of 'Item' and 'Item'"
     ]
    }
   ],
   "source": [
    "c = (1, Item('grok'))\n",
    "a < c"
   ]
  },
  {
   "cell_type": "code",
   "execution_count": 27,
   "metadata": {},
   "outputs": [
    {
     "data": {
      "text/plain": [
       "True"
      ]
     },
     "execution_count": 27,
     "metadata": {},
     "output_type": "execute_result"
    }
   ],
   "source": [
    "a = (1, 0, Item('foo'))\n",
    "b = (5, 1, Item('bar'))\n",
    "c = (1, 2, Item('grok'))\n",
    "a < b"
   ]
  },
  {
   "cell_type": "code",
   "execution_count": 28,
   "metadata": {},
   "outputs": [
    {
     "data": {
      "text/plain": [
       "True"
      ]
     },
     "execution_count": 28,
     "metadata": {},
     "output_type": "execute_result"
    }
   ],
   "source": [
    "a < c"
   ]
  },
  {
   "cell_type": "code",
   "execution_count": 2,
   "metadata": {},
   "outputs": [
    {
     "name": "stdout",
     "output_type": "stream",
     "text": [
      "[{'fname': 'Big', 'lname': 'Jones', 'uid': 1004}, {'fname': 'Brian', 'lname': 'Jones', 'uid': 1003}, {'fname': 'David', 'lname': 'Beazley', 'uid': 1002}, {'fname': 'John', 'lname': 'Cleese', 'uid': 1001}]\n",
      "[{'fname': 'John', 'lname': 'Cleese', 'uid': 1001}, {'fname': 'David', 'lname': 'Beazley', 'uid': 1002}, {'fname': 'Brian', 'lname': 'Jones', 'uid': 1003}, {'fname': 'Big', 'lname': 'Jones', 'uid': 1004}]\n"
     ]
    },
    {
     "data": {
      "text/plain": [
       "(None, None)"
      ]
     },
     "execution_count": 2,
     "metadata": {},
     "output_type": "execute_result"
    }
   ],
   "source": [
    "rows = [\n",
    "    {\"fname\": \"Brian\", \"lname\": \"Jones\",\"uid\":1003},\n",
    "    {\"fname\": \"David\", \"lname\":\"Beazley\", \"uid\":1002},\n",
    "    {\"fname\": \"John\", \"lname\": \"Cleese\", \"uid\": 1001},\n",
    "    {\"fname\": \"Big\", \"lname\": \"Jones\", \"uid\":1004}\n",
    "]\n",
    "\n",
    "from operator import itemgetter\n",
    "\"\"\"\n",
    "rows被传递给接受一个关键字参数的sorted()内置参数，这个参数是callable类型，并且从rows中接受一个单一元素，\n",
    "然后返回被用来排序的值\n",
    "itemgetter函数负责创建这个callable对象的\n",
    "\"\"\"\n",
    "rows_by_fname = sorted(rows, key=itemgetter('fname'))\n",
    "rows_by_uid = sorted(rows, key=itemgetter('uid'))\n",
    "\n",
    "print(rows_by_fname), print(rows_by_uid)"
   ]
  },
  {
   "cell_type": "code",
   "execution_count": 3,
   "metadata": {},
   "outputs": [
    {
     "name": "stdout",
     "output_type": "stream",
     "text": [
      "[{'fname': 'David', 'lname': 'Beazley', 'uid': 1002}, {'fname': 'John', 'lname': 'Cleese', 'uid': 1001}, {'fname': 'Big', 'lname': 'Jones', 'uid': 1004}, {'fname': 'Brian', 'lname': 'Jones', 'uid': 1003}]\n"
     ]
    }
   ],
   "source": [
    "rows_by_lfname = sorted(rows, key=itemgetter('lname', 'fname'))\n",
    "print(rows_by_lfname)"
   ]
  },
  {
   "cell_type": "code",
   "execution_count": 5,
   "metadata": {},
   "outputs": [
    {
     "data": {
      "text/plain": [
       "({'fname': 'John', 'lname': 'Cleese', 'uid': 1001},\n",
       " {'fname': 'Big', 'lname': 'Jones', 'uid': 1004})"
      ]
     },
     "execution_count": 5,
     "metadata": {},
     "output_type": "execute_result"
    }
   ],
   "source": [
    "rows_by_fname = sorted(rows, key=lambda r: r['fname'])\n",
    "rows_by_lfname = sorted(rows, key=lambda r: (r['lname'], r['fname']))\n",
    "\n",
    "min(rows, key=itemgetter('uid')), max(rows, key=itemgetter('uid'))"
   ]
  },
  {
   "cell_type": "markdown",
   "metadata": {},
   "source": [
    "# 1.14 排序不支持原生比较对象"
   ]
  },
  {
   "cell_type": "markdown",
   "metadata": {},
   "source": [
    "你想排序类型相同的对象，但是他们不支持原生的比较操作"
   ]
  },
  {
   "cell_type": "code",
   "execution_count": 6,
   "metadata": {},
   "outputs": [],
   "source": [
    "class User:\n",
    "    def __init__(self, user_id):\n",
    "        self.user_id = user_id\n",
    "        \n",
    "    def __repr__(self):\n",
    "        return \"User({})\".format(self.user_id)\n",
    "    \n",
    "def sort_notcompare():\n",
    "    users = [User(23), User(3), User(99)]\n",
    "    print(users)\n",
    "    print(sorted(users, key=lambda u: u.user_id))"
   ]
  },
  {
   "cell_type": "code",
   "execution_count": 7,
   "metadata": {},
   "outputs": [
    {
     "ename": "NameError",
     "evalue": "name 'users' is not defined",
     "output_type": "error",
     "traceback": [
      "\u001b[1;31m---------------------------------------------------------------------------\u001b[0m",
      "\u001b[1;31mNameError\u001b[0m                                 Traceback (most recent call last)",
      "\u001b[1;32m<ipython-input-7-9ee3fe91ca7e>\u001b[0m in \u001b[0;36m<module>\u001b[1;34m\u001b[0m\n\u001b[0;32m      1\u001b[0m \u001b[1;32mfrom\u001b[0m \u001b[0moperator\u001b[0m \u001b[1;32mimport\u001b[0m \u001b[0mattrgetter\u001b[0m\u001b[1;33m\u001b[0m\u001b[1;33m\u001b[0m\u001b[0m\n\u001b[1;32m----> 2\u001b[1;33m \u001b[0msorted\u001b[0m\u001b[1;33m(\u001b[0m\u001b[0musers\u001b[0m\u001b[1;33m,\u001b[0m \u001b[0mkey\u001b[0m\u001b[1;33m=\u001b[0m\u001b[0mattrgetter\u001b[0m\u001b[1;33m(\u001b[0m\u001b[1;34m'user_id'\u001b[0m\u001b[1;33m)\u001b[0m\u001b[1;33m)\u001b[0m\u001b[1;33m\u001b[0m\u001b[1;33m\u001b[0m\u001b[0m\n\u001b[0m",
      "\u001b[1;31mNameError\u001b[0m: name 'users' is not defined"
     ]
    }
   ],
   "source": [
    "from operator import attrgetter\n",
    "sorted(users, key=attrgetter('user_id'))"
   ]
  },
  {
   "cell_type": "markdown",
   "metadata": {},
   "source": [
    "## 1.15 通过某个字段讲记录分组"
   ]
  },
  {
   "cell_type": "markdown",
   "metadata": {},
   "source": [
    "问题：你有一个字典或者实例的序列，然后你想根据某个特定的字段比如date来分组迭代访问"
   ]
  },
  {
   "cell_type": "markdown",
   "metadata": {},
   "source": [
    "解决方案：itertools.groupby()函数对于这样的数据分组操作非常实用"
   ]
  },
  {
   "cell_type": "code",
   "execution_count": 9,
   "metadata": {},
   "outputs": [],
   "source": [
    "rows= [\n",
    "    {'address': '5412 NCLARK', 'date': '07/01/2012'},\n",
    "    {'address': '5148 NCLARK', 'date': '07/04/2012'},\n",
    "    {'address': '5800 E58TH', 'date': '07/02/2012'},\n",
    "    {'address': '2122 NCLARK', 'date': '07/03/2012'},\n",
    "    {'address': '5645 NRAVENSWOOD', 'date':'07/02/2012'},\n",
    "    {'address': '1060 WADDISON', 'date': '07/02/2012'},\n",
    "    {'address': '4801 NBROADWAY', 'date': '07/01/2012'},\n",
    "    {'address': '1039 WGRANVILLE', 'date':'07/04/2012'},\n",
    "]"
   ]
  },
  {
   "cell_type": "code",
   "execution_count": 11,
   "metadata": {},
   "outputs": [
    {
     "name": "stdout",
     "output_type": "stream",
     "text": [
      "07/01/2012\n",
      "     {'address': '5412 NCLARK', 'date': '07/01/2012'}\n",
      "     {'address': '4801 NBROADWAY', 'date': '07/01/2012'}\n",
      "07/02/2012\n",
      "     {'address': '5800 E58TH', 'date': '07/02/2012'}\n",
      "     {'address': '5645 NRAVENSWOOD', 'date': '07/02/2012'}\n",
      "     {'address': '1060 WADDISON', 'date': '07/02/2012'}\n",
      "07/03/2012\n",
      "     {'address': '2122 NCLARK', 'date': '07/03/2012'}\n",
      "07/04/2012\n",
      "     {'address': '5148 NCLARK', 'date': '07/04/2012'}\n",
      "     {'address': '1039 WGRANVILLE', 'date': '07/04/2012'}\n"
     ]
    }
   ],
   "source": [
    "from operator import itemgetter\n",
    "from itertools import groupby\n",
    "\n",
    "#Sort by the desired field first\n",
    "rows.sort(key=itemgetter('date'))\n",
    "\n",
    "for date, items in groupby(rows, key=itemgetter('date')):\n",
    "    print(date)\n",
    "    for i in items:\n",
    "        print('    ', i)"
   ]
  },
  {
   "cell_type": "markdown",
   "metadata": {},
   "source": [
    "groupby（）函数扫描整个序列并且查找连续相同值或者根据指定key函数返回值相同的元素序列。在每次迭代的时候，\n",
    "它会返回一个值和一个迭代器对象，这个迭代器对象可以生成元素值全部等于上面那个值得组中所有对象\n",
    "\n",
    "一个非常重要的准备步骤是要根据指定的字段讲数据排序，因为groupby仅仅检查连续的元素，如果实现实现并没有排序完成的话，\n",
    "分组函数将得不到想要的结果\n"
   ]
  },
  {
   "cell_type": "code",
   "execution_count": 12,
   "metadata": {},
   "outputs": [],
   "source": [
    "from collections import defaultdict\n",
    "rows_by_date = defaultdict(list)\n",
    "for row in rows:\n",
    "    rows_by_date[row['date']].append(row)"
   ]
  },
  {
   "cell_type": "code",
   "execution_count": 13,
   "metadata": {},
   "outputs": [
    {
     "data": {
      "text/plain": [
       "defaultdict(list,\n",
       "            {'07/01/2012': [{'address': '5412 NCLARK', 'date': '07/01/2012'},\n",
       "              {'address': '4801 NBROADWAY', 'date': '07/01/2012'}],\n",
       "             '07/02/2012': [{'address': '5800 E58TH', 'date': '07/02/2012'},\n",
       "              {'address': '5645 NRAVENSWOOD', 'date': '07/02/2012'},\n",
       "              {'address': '1060 WADDISON', 'date': '07/02/2012'}],\n",
       "             '07/03/2012': [{'address': '2122 NCLARK', 'date': '07/03/2012'}],\n",
       "             '07/04/2012': [{'address': '5148 NCLARK', 'date': '07/04/2012'},\n",
       "              {'address': '1039 WGRANVILLE', 'date': '07/04/2012'}]})"
      ]
     },
     "execution_count": 13,
     "metadata": {},
     "output_type": "execute_result"
    }
   ],
   "source": [
    "rows_by_date"
   ]
  },
  {
   "cell_type": "code",
   "execution_count": 14,
   "metadata": {},
   "outputs": [
    {
     "name": "stdout",
     "output_type": "stream",
     "text": [
      "{'address': '5412 NCLARK', 'date': '07/01/2012'}\n",
      "{'address': '4801 NBROADWAY', 'date': '07/01/2012'}\n"
     ]
    }
   ],
   "source": [
    "for r in rows_by_date['07/01/2012']:\n",
    "    print(r)"
   ]
  },
  {
   "cell_type": "markdown",
   "metadata": {},
   "source": [
    "在上面这个例子中，我们没有必要先将记录排序，因此，对内存占用不是很关心，这种方式会比先排序再通过groupby函数\n",
    "迭代的方式运行更快一些"
   ]
  },
  {
   "cell_type": "code",
   "execution_count": null,
   "metadata": {},
   "outputs": [],
   "source": []
  }
 ],
 "metadata": {
  "kernelspec": {
   "display_name": "Python 3",
   "language": "python",
   "name": "python3"
  },
  "language_info": {
   "codemirror_mode": {
    "name": "ipython",
    "version": 3
   },
   "file_extension": ".py",
   "mimetype": "text/x-python",
   "name": "python",
   "nbconvert_exporter": "python",
   "pygments_lexer": "ipython3",
   "version": "3.7.3"
  }
 },
 "nbformat": 4,
 "nbformat_minor": 2
}
