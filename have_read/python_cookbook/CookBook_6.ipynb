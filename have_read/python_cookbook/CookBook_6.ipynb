{
 "cells": [
  {
   "cell_type": "markdown",
   "metadata": {},
   "source": [
    "解析简单的XML数据"
   ]
  },
  {
   "cell_type": "markdown",
   "metadata": {},
   "source": [
    "从一个简单的XML文档中提取数据"
   ]
  },
  {
   "cell_type": "markdown",
   "metadata": {},
   "source": [
    "可以使用 xml.etree.ElementTree 模块从简单的 XML 文档中提取数据。为了演·示"
   ]
  },
  {
   "cell_type": "code",
   "execution_count": 13,
   "metadata": {},
   "outputs": [
    {
     "name": "stdout",
     "output_type": "stream",
     "text": [
      "Steve Holden: Python for Data Analysis\n",
      "---\n",
      "Vasudev Ram: The Python Data model (for v2 and v3)\n",
      "---\n",
      "Python Diary: Been playing around with Object Databases\n",
      "            \n",
      "---\n"
     ]
    }
   ],
   "source": [
    "from xml.etree.ElementTree import parse, parse\n",
    "from collections import Counter\n",
    "\n",
    "doc = parse('xml_3.xml')\n",
    "\n",
    "for name in doc.iterfind('channel/item'):\n",
    "    print(name.findtext('title'))\n",
    "    print('---')\n"
   ]
  },
  {
   "cell_type": "code",
   "execution_count": 14,
   "metadata": {},
   "outputs": [],
   "source": [
    "for name in doc.iterfind('food'): # food/ -> None ; food/home -> None\n",
    "    print(name.findtext('name'))\n",
    "    print('---')"
   ]
  },
  {
   "cell_type": "markdown",
   "metadata": {},
   "source": [
    "xml.etree.ElementTree.parse() 函数解析整个 XML 文档并将其转换成一个文\n",
    "档对象。然后，你就能使用 find() 、iterfind() 和 findtext() 等方法来搜索特定的\n",
    "XML 元素了。这些函数的参数就是某个指定的标签名，例如 channel/item 或 title 。\n",
    "\n",
    "每次指定某个标签时，你需要遍历整个文档结构。每次搜索操作会从一个起始元\n",
    "素开始进行。同样，每次操作所指定的标签名也是起始元素的相对路径。例如，执行\n",
    "doc.iterfind('channel/item') 来搜索所有在 channel 元素下面的 item 元素。doc\n",
    "代表文档的最顶层 (也就是第一级的 rss 元素)。然后接下来的调用 item.findtext()\n",
    "会从已找到的 item 元素位置开始搜索。\n",
    "\n",
    "ElementTree 模块中的每个元素有一些重要的属性和方法，在解析的时候非常有\n",
    "用。tag 属性包含了标签的名字，text 属性包含了内部的文本，而 get() 方法能获取\n",
    "属性值。例如："
   ]
  },
  {
   "cell_type": "code",
   "execution_count": 15,
   "metadata": {},
   "outputs": [
    {
     "data": {
      "text/plain": [
       "<xml.etree.ElementTree.ElementTree at 0x1963f32d6d8>"
      ]
     },
     "execution_count": 15,
     "metadata": {},
     "output_type": "execute_result"
    }
   ],
   "source": [
    "doc"
   ]
  },
  {
   "cell_type": "code",
   "execution_count": 20,
   "metadata": {},
   "outputs": [
    {
     "data": {
      "text/plain": [
       "(<Element 'title' at 0x000001963F253CC8>, 'title', 'Planet Python', None)"
      ]
     },
     "execution_count": 20,
     "metadata": {},
     "output_type": "execute_result"
    }
   ],
   "source": [
    "e = doc.find('channel/title')\n",
    "e, e.tag, e.text, e.get('some_attribute')"
   ]
  },
  {
   "cell_type": "code",
   "execution_count": null,
   "metadata": {},
   "outputs": [],
   "source": [
    "# from lxml.etree import parse"
   ]
  },
  {
   "cell_type": "markdown",
   "metadata": {},
   "source": [
    "有一点要强调的是 xml.etree.ElementTree 并不是 XML 解析的唯一方法。对于\n",
    "更高级的应用程序，你需要考虑使用 lxml 。它使用了和 ElementTree 同样的编程接\n",
    "口，因此上面的例子同样也适用于 lxml。你只需要将刚开始的 import 语句换成 from\n",
    "lxml.etree import parse 就行了。lxml 完全遵循 XML 标准，并且速度也非常快，同\n",
    "时还支持验证，XSLT，和 XPath 等特性"
   ]
  },
  {
   "cell_type": "markdown",
   "metadata": {},
   "source": [
    "## 增量式解析大型 XML 文件"
   ]
  },
  {
   "cell_type": "markdown",
   "metadata": {},
   "source": [
    "你想使用尽可能少的内存从一个超大的 XML 文档中提取数据"
   ]
  },
  {
   "cell_type": "markdown",
   "metadata": {},
   "source": [
    "任何时候只要你遇到增量式的数据处理时，第一时间就应该想到迭代器和生成器。\n",
    "下面是一个很简单的函数，只使用很少的内存就能增量式的处理一个大型 XML 文件"
   ]
  },
  {
   "cell_type": "code",
   "execution_count": 24,
   "metadata": {},
   "outputs": [],
   "source": [
    " from xml.etree.ElementTree import iterparse\n",
    "    \n",
    "def parse_and_remove(filename, path):\n",
    "    path_parts = path.split('/')\n",
    "    doc = iterparse(filename, ('start', 'end'))\n",
    "    next(doc)\n",
    "    \n",
    "    tag_stack = []\n",
    "    elem_stack = []\n",
    "    \n",
    "    for event, elem in doc:\n",
    "        if event == 'start':\n",
    "            tag_stack.append(elem.tag)\n",
    "            elem_stack.append(elem)\n",
    "        elif event == 'end':\n",
    "            if tag_stack == path_parts:\n",
    "                yield elem\n",
    "                elem_stack[-2].remove(elem)\n",
    "            try:\n",
    "                tag_stack.pop()\n",
    "                elem_stack.pop()\n",
    "            except IndexError:\n",
    "                pass"
   ]
  },
  {
   "cell_type": "markdown",
   "metadata": {},
   "source": [
    "为了测试这个函数，你需要先有一个大型的 XML 文件。通常你可以在政府网站或\n",
    "公共数据网站上找到这样的文件。例如，你可以下载 XML 格式的芝加哥城市道路坑洼\n",
    "数据库。在写这本书的时候，下载文件已经包含超过 100,000 行数据，编码格式类似于\n",
    "下面这样"
   ]
  },
  {
   "cell_type": "markdown",
   "metadata": {},
   "source": [
    "....."
   ]
  },
  {
   "cell_type": "markdown",
   "metadata": {},
   "source": [
    "假设你想写一个脚本来按照坑洼报告数量排列邮编号码。你可以像这样做"
   ]
  },
  {
   "cell_type": "markdown",
   "metadata": {},
   "source": [
    "这个脚本唯一的问题是它会先将整个 XML 文件加载到内存中然后解析。在我的机\n",
    "器上，为了运行这个程序需要用到 450MB 左右的内存空间。如果使用如下代码，程序\n",
    "只需要修改一点点："
   ]
  },
  {
   "cell_type": "code",
   "execution_count": 32,
   "metadata": {},
   "outputs": [
    {
     "name": "stdout",
     "output_type": "stream",
     "text": [
      "Steve Holden: Python for Data Analysis\n",
      "Vasudev Ram: The Python Data model (for v2 and v3)\n",
      "Python Diary: Been playing around with Object Databases\n",
      "            \n"
     ]
    }
   ],
   "source": [
    "data = parse_and_remove('xml_3.xml', 'channel/item')\n",
    "for i in data:\n",
    "    print(i.findtext('title'))"
   ]
  },
  {
   "cell_type": "code",
   "execution_count": null,
   "metadata": {},
   "outputs": [],
   "source": []
  }
 ],
 "metadata": {
  "kernelspec": {
   "display_name": "Python 3",
   "language": "python",
   "name": "python3"
  },
  "language_info": {
   "codemirror_mode": {
    "name": "ipython",
    "version": 3
   },
   "file_extension": ".py",
   "mimetype": "text/x-python",
   "name": "python",
   "nbconvert_exporter": "python",
   "pygments_lexer": "ipython3",
   "version": "3.6.8"
  }
 },
 "nbformat": 4,
 "nbformat_minor": 2
}
