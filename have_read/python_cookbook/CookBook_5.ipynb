{
 "cells": [
  {
   "cell_type": "markdown",
   "metadata": {},
   "source": [
    "# 第五章：文件与IO"
   ]
  },
  {
   "cell_type": "markdown",
   "metadata": {},
   "source": [
    "## 5.1 读写文本数据 "
   ]
  },
  {
   "cell_type": "markdown",
   "metadata": {},
   "source": [
    "问题：你需要读写各种编码的文本数据，例如，ASCII,UTF-8,UTF-16"
   ]
  },
  {
   "cell_type": "markdown",
   "metadata": {},
   "source": [
    "解决方案：带有rt模式的open函数读取文本文件"
   ]
  },
  {
   "cell_type": "code",
   "execution_count": 2,
   "metadata": {},
   "outputs": [],
   "source": [
    "#Read the entire file as single string\n",
    "#类Unix平台的换行符是\\n，而windows平台用的是\\r\\n两个ASCII字符来表示换行\n",
    "#python内部采用的是\\n来表示换行符。\n",
    "#rt模式下，python在读取文本时会自动把\\r\\n转换成\\n.\n",
    "#wt模式下，Python写文件时会用\\r\\n来表示换行\n",
    "\n",
    "with open('somefile.txt', 'rt') as f: # t是windows平台特有的text mode(文本模式）,区别在于会自动识别windows平台的换行符\n",
    "    data = f.read()\n",
    "    \n",
    "with open('somefile.txt', 'rt') as f:\n",
    "    for line in f:\n",
    "        pass"
   ]
  },
  {
   "cell_type": "code",
   "execution_count": 4,
   "metadata": {},
   "outputs": [
    {
     "ename": "NameError",
     "evalue": "name 'line1' is not defined",
     "output_type": "error",
     "traceback": [
      "\u001b[1;31m---------------------------------------------------------------------------\u001b[0m",
      "\u001b[1;31mNameError\u001b[0m                                 Traceback (most recent call last)",
      "\u001b[1;32m<ipython-input-4-45b9f58fc1ab>\u001b[0m in \u001b[0;36m<module>\u001b[1;34m\u001b[0m\n\u001b[0;32m      8\u001b[0m \u001b[1;31m#Redirected print statement\u001b[0m\u001b[1;33m\u001b[0m\u001b[1;33m\u001b[0m\u001b[1;33m\u001b[0m\u001b[0m\n\u001b[0;32m      9\u001b[0m \u001b[1;32mwith\u001b[0m \u001b[0mopen\u001b[0m\u001b[1;33m(\u001b[0m\u001b[1;34m'somefile.txt'\u001b[0m\u001b[1;33m,\u001b[0m \u001b[1;34m'wt'\u001b[0m\u001b[1;33m)\u001b[0m \u001b[1;32mas\u001b[0m \u001b[0mf\u001b[0m\u001b[1;33m:\u001b[0m\u001b[1;33m\u001b[0m\u001b[1;33m\u001b[0m\u001b[0m\n\u001b[1;32m---> 10\u001b[1;33m     \u001b[0mprint\u001b[0m\u001b[1;33m(\u001b[0m\u001b[0mline1\u001b[0m\u001b[1;33m,\u001b[0m \u001b[0mfile\u001b[0m\u001b[1;33m=\u001b[0m\u001b[0mf\u001b[0m\u001b[1;33m)\u001b[0m\u001b[1;33m\u001b[0m\u001b[1;33m\u001b[0m\u001b[0m\n\u001b[0m\u001b[0;32m     11\u001b[0m     \u001b[0mprint\u001b[0m\u001b[1;33m(\u001b[0m\u001b[0mline2\u001b[0m\u001b[1;33m,\u001b[0m \u001b[0mfile\u001b[0m\u001b[1;33m=\u001b[0m\u001b[0mf\u001b[0m\u001b[1;33m)\u001b[0m\u001b[1;33m\u001b[0m\u001b[1;33m\u001b[0m\u001b[0m\n",
      "\u001b[1;31mNameError\u001b[0m: name 'line1' is not defined"
     ]
    }
   ],
   "source": [
    "#写了写入一个文本文件，使用带有wt模式的open函数，如果之前文件内容存在招则清除并覆盖掉\n",
    "\n",
    "#write chunks of text data\n",
    "with open('exp5.txt', 'wt') as f:\n",
    "    f.write('liugang')\n",
    "    f.write('19880623')\n",
    "\n",
    "#Redirected print statement\n",
    "with open('somefile.txt', 'wt') as f:\n",
    "    print(line1, file=f) # line1\\line2?\n",
    "    print(line2, file=f)"
   ]
  },
  {
   "cell_type": "code",
   "execution_count": 5,
   "metadata": {},
   "outputs": [],
   "source": [
    "#如果是已存在文件中添加内容，使用模式为at的open函数\n",
    "#文件的读写操作默认系统使用的编码，可以通过调用sys.getdefaultencoding来得到，在大多数机器上面都是utf-8\n",
    "#如果你已经知道你要读写的文本是其他编码方式，那么传递一个encoding参数给open参数\n",
    "\n",
    "with open('exp5.txt', 'rt', encoding='latin-1') as f:\n",
    "    pass"
   ]
  },
  {
   "cell_type": "code",
   "execution_count": 6,
   "metadata": {},
   "outputs": [
    {
     "data": {
      "text/plain": [
       "'utf-8'"
      ]
     },
     "execution_count": 6,
     "metadata": {},
     "output_type": "execute_result"
    }
   ],
   "source": [
    "import sys\n",
    "\n",
    "sys.getdefaultencoding()"
   ]
  },
  {
   "cell_type": "markdown",
   "metadata": {},
   "source": [
    "python支持非常多的文本编码，几个常见的编码ascii，latin-1，utf-8，utf-16，在web程序中通常使用的是utf-8，ascii对应的U+0000到U+007F范围内的7位字符，latin-1是字节0-255到U+0000至U+00FF范围内Unicode字符的直接映射，当读取一个文件使用lation-1编码永远不会产生解码错误，使用latin-1编码读取一个文件的时候也许不能产生完全正确的文本解码数据，但是它也能从中读取很多有用的数据，同时，如果你将数据写回去，原先的数据还是会保留的"
   ]
  },
  {
   "cell_type": "code",
   "execution_count": null,
   "metadata": {},
   "outputs": [],
   "source": [
    "#默认情况下，python会以统一模式处理换行符\n",
    "#在读取文本的时候，python可以识别所有的普通换行符并将其转换为单个\\n字符\n",
    "#类似的，在输出时，会将所有\\n转换成系统默认的换行符\n",
    "#如果你不希望以这种默认的处理方式，可以给open函数传入参数newline\n",
    "\n",
    "with open('exp5.txt', 'rt', newline='') as f:\n",
    "    pass"
   ]
  },
  {
   "cell_type": "code",
   "execution_count": null,
   "metadata": {},
   "outputs": [],
   "source": [
    "#在Unix上读取一个windows上面的文本文件\n",
    "f = open('exp5.txt', 'rt')\n",
    "f.read()\n",
    "# type(f.read()) -> str"
   ]
  },
  {
   "cell_type": "code",
   "execution_count": 9,
   "metadata": {},
   "outputs": [
    {
     "data": {
      "text/plain": [
       "'liugang19880623'"
      ]
     },
     "execution_count": 9,
     "metadata": {},
     "output_type": "execute_result"
    }
   ],
   "source": [
    "f = open('exp5.txt', 'rt', newline='')\n",
    "f.read()\n",
    "# hello world\\r\\n"
   ]
  },
  {
   "cell_type": "code",
   "execution_count": 16,
   "metadata": {},
   "outputs": [
    {
     "ename": "UnicodeDecodeError",
     "evalue": "'utf-16-le' codec can't decode byte 0x6f in position 32: truncated data",
     "output_type": "error",
     "traceback": [
      "\u001b[1;31m---------------------------------------------------------------------------\u001b[0m",
      "\u001b[1;31mUnicodeDecodeError\u001b[0m                        Traceback (most recent call last)",
      "\u001b[1;32m<ipython-input-16-efdbc9c10437>\u001b[0m in \u001b[0;36m<module>\u001b[1;34m\u001b[0m\n\u001b[0;32m      2\u001b[0m \u001b[1;33m\u001b[0m\u001b[0m\n\u001b[0;32m      3\u001b[0m \u001b[0mf\u001b[0m \u001b[1;33m=\u001b[0m \u001b[0mopen\u001b[0m\u001b[1;33m(\u001b[0m\u001b[1;34m'jalapeño.txt'\u001b[0m\u001b[1;33m,\u001b[0m \u001b[1;34m'rt'\u001b[0m\u001b[1;33m,\u001b[0m \u001b[0mencoding\u001b[0m\u001b[1;33m=\u001b[0m\u001b[1;34m'utf-16'\u001b[0m\u001b[1;33m)\u001b[0m\u001b[1;33m\u001b[0m\u001b[1;33m\u001b[0m\u001b[0m\n\u001b[1;32m----> 4\u001b[1;33m \u001b[0mf\u001b[0m\u001b[1;33m.\u001b[0m\u001b[0mread\u001b[0m\u001b[1;33m(\u001b[0m\u001b[1;33m)\u001b[0m\u001b[1;33m\u001b[0m\u001b[1;33m\u001b[0m\u001b[0m\n\u001b[0m\u001b[0;32m      5\u001b[0m \u001b[1;33m\u001b[0m\u001b[0m\n\u001b[0;32m      6\u001b[0m \u001b[1;31m#Out: UnicodeDecodeError\u001b[0m\u001b[1;33m\u001b[0m\u001b[1;33m\u001b[0m\u001b[1;33m\u001b[0m\u001b[0m\n",
      "\u001b[1;32mD:\\ssoftware\\anaconda\\lib\\codecs.py\u001b[0m in \u001b[0;36mdecode\u001b[1;34m(self, input, final)\u001b[0m\n\u001b[0;32m    319\u001b[0m         \u001b[1;31m# decode input (taking the buffer into account)\u001b[0m\u001b[1;33m\u001b[0m\u001b[1;33m\u001b[0m\u001b[1;33m\u001b[0m\u001b[0m\n\u001b[0;32m    320\u001b[0m         \u001b[0mdata\u001b[0m \u001b[1;33m=\u001b[0m \u001b[0mself\u001b[0m\u001b[1;33m.\u001b[0m\u001b[0mbuffer\u001b[0m \u001b[1;33m+\u001b[0m \u001b[0minput\u001b[0m\u001b[1;33m\u001b[0m\u001b[1;33m\u001b[0m\u001b[0m\n\u001b[1;32m--> 321\u001b[1;33m         \u001b[1;33m(\u001b[0m\u001b[0mresult\u001b[0m\u001b[1;33m,\u001b[0m \u001b[0mconsumed\u001b[0m\u001b[1;33m)\u001b[0m \u001b[1;33m=\u001b[0m \u001b[0mself\u001b[0m\u001b[1;33m.\u001b[0m\u001b[0m_buffer_decode\u001b[0m\u001b[1;33m(\u001b[0m\u001b[0mdata\u001b[0m\u001b[1;33m,\u001b[0m \u001b[0mself\u001b[0m\u001b[1;33m.\u001b[0m\u001b[0merrors\u001b[0m\u001b[1;33m,\u001b[0m \u001b[0mfinal\u001b[0m\u001b[1;33m)\u001b[0m\u001b[1;33m\u001b[0m\u001b[1;33m\u001b[0m\u001b[0m\n\u001b[0m\u001b[0;32m    322\u001b[0m         \u001b[1;31m# keep undecoded input until the next call\u001b[0m\u001b[1;33m\u001b[0m\u001b[1;33m\u001b[0m\u001b[1;33m\u001b[0m\u001b[0m\n\u001b[0;32m    323\u001b[0m         \u001b[0mself\u001b[0m\u001b[1;33m.\u001b[0m\u001b[0mbuffer\u001b[0m \u001b[1;33m=\u001b[0m \u001b[0mdata\u001b[0m\u001b[1;33m[\u001b[0m\u001b[0mconsumed\u001b[0m\u001b[1;33m:\u001b[0m\u001b[1;33m]\u001b[0m\u001b[1;33m\u001b[0m\u001b[1;33m\u001b[0m\u001b[0m\n",
      "\u001b[1;32mD:\\ssoftware\\anaconda\\lib\\encodings\\utf_16.py\u001b[0m in \u001b[0;36m_buffer_decode\u001b[1;34m(self, input, errors, final)\u001b[0m\n\u001b[0;32m     59\u001b[0m         \u001b[1;32mif\u001b[0m \u001b[0mself\u001b[0m\u001b[1;33m.\u001b[0m\u001b[0mdecoder\u001b[0m \u001b[1;32mis\u001b[0m \u001b[1;32mNone\u001b[0m\u001b[1;33m:\u001b[0m\u001b[1;33m\u001b[0m\u001b[1;33m\u001b[0m\u001b[0m\n\u001b[0;32m     60\u001b[0m             \u001b[1;33m(\u001b[0m\u001b[0moutput\u001b[0m\u001b[1;33m,\u001b[0m \u001b[0mconsumed\u001b[0m\u001b[1;33m,\u001b[0m \u001b[0mbyteorder\u001b[0m\u001b[1;33m)\u001b[0m \u001b[1;33m=\u001b[0m\u001b[0;31m \u001b[0m\u001b[0;31m\\\u001b[0m\u001b[1;33m\u001b[0m\u001b[1;33m\u001b[0m\u001b[0m\n\u001b[1;32m---> 61\u001b[1;33m                 \u001b[0mcodecs\u001b[0m\u001b[1;33m.\u001b[0m\u001b[0mutf_16_ex_decode\u001b[0m\u001b[1;33m(\u001b[0m\u001b[0minput\u001b[0m\u001b[1;33m,\u001b[0m \u001b[0merrors\u001b[0m\u001b[1;33m,\u001b[0m \u001b[1;36m0\u001b[0m\u001b[1;33m,\u001b[0m \u001b[0mfinal\u001b[0m\u001b[1;33m)\u001b[0m\u001b[1;33m\u001b[0m\u001b[1;33m\u001b[0m\u001b[0m\n\u001b[0m\u001b[0;32m     62\u001b[0m             \u001b[1;32mif\u001b[0m \u001b[0mbyteorder\u001b[0m \u001b[1;33m==\u001b[0m \u001b[1;33m-\u001b[0m\u001b[1;36m1\u001b[0m\u001b[1;33m:\u001b[0m\u001b[1;33m\u001b[0m\u001b[1;33m\u001b[0m\u001b[0m\n\u001b[0;32m     63\u001b[0m                 \u001b[0mself\u001b[0m\u001b[1;33m.\u001b[0m\u001b[0mdecoder\u001b[0m \u001b[1;33m=\u001b[0m \u001b[0mcodecs\u001b[0m\u001b[1;33m.\u001b[0m\u001b[0mutf_16_le_decode\u001b[0m\u001b[1;33m\u001b[0m\u001b[1;33m\u001b[0m\u001b[0m\n",
      "\u001b[1;31mUnicodeDecodeError\u001b[0m: 'utf-16-le' codec can't decode byte 0x6f in position 32: truncated data"
     ]
    }
   ],
   "source": [
    "#读取/写入文件时，出现编码错误\n",
    "#确认填写编码方式与文件编码一致，如果还存在\n",
    "f = open('jalapeño.txt', 'rt', encoding='utf-16')\n",
    "f.read()"
   ]
  },
  {
   "cell_type": "code",
   "execution_count": 3,
   "metadata": {},
   "outputs": [
    {
     "ename": "UnicodeError",
     "evalue": "UTF-16 stream does not start with BOM",
     "output_type": "error",
     "traceback": [
      "\u001b[1;31m---------------------------------------------------------------------------\u001b[0m",
      "\u001b[1;31mUnicodeError\u001b[0m                              Traceback (most recent call last)",
      "\u001b[1;32m<ipython-input-3-c90047707157>\u001b[0m in \u001b[0;36m<module>\u001b[1;34m\u001b[0m\n\u001b[0;32m      2\u001b[0m \u001b[1;31m#你可以给open函数传递一个可选的errors参数来处理这些错误，一些常见处理错误的方法\u001b[0m\u001b[1;33m\u001b[0m\u001b[1;33m\u001b[0m\u001b[1;33m\u001b[0m\u001b[0m\n\u001b[0;32m      3\u001b[0m \u001b[0mf\u001b[0m \u001b[1;33m=\u001b[0m \u001b[0mopen\u001b[0m\u001b[1;33m(\u001b[0m\u001b[1;34m'jalapeño.txt'\u001b[0m\u001b[1;33m,\u001b[0m \u001b[1;34m'rt'\u001b[0m\u001b[1;33m,\u001b[0m \u001b[0mencoding\u001b[0m\u001b[1;33m=\u001b[0m\u001b[1;34m'utf-16'\u001b[0m\u001b[1;33m,\u001b[0m \u001b[0merrors\u001b[0m\u001b[1;33m=\u001b[0m\u001b[1;34m'replace'\u001b[0m\u001b[1;33m)\u001b[0m\u001b[1;33m\u001b[0m\u001b[1;33m\u001b[0m\u001b[0m\n\u001b[1;32m----> 4\u001b[1;33m \u001b[0mf\u001b[0m\u001b[1;33m.\u001b[0m\u001b[0mread\u001b[0m\u001b[1;33m(\u001b[0m\u001b[1;33m)\u001b[0m\u001b[1;33m\u001b[0m\u001b[1;33m\u001b[0m\u001b[0m\n\u001b[0m",
      "\u001b[1;32mD:\\ssoftware\\anaconda\\lib\\codecs.py\u001b[0m in \u001b[0;36mdecode\u001b[1;34m(self, input, final)\u001b[0m\n\u001b[0;32m    319\u001b[0m         \u001b[1;31m# decode input (taking the buffer into account)\u001b[0m\u001b[1;33m\u001b[0m\u001b[1;33m\u001b[0m\u001b[1;33m\u001b[0m\u001b[0m\n\u001b[0;32m    320\u001b[0m         \u001b[0mdata\u001b[0m \u001b[1;33m=\u001b[0m \u001b[0mself\u001b[0m\u001b[1;33m.\u001b[0m\u001b[0mbuffer\u001b[0m \u001b[1;33m+\u001b[0m \u001b[0minput\u001b[0m\u001b[1;33m\u001b[0m\u001b[1;33m\u001b[0m\u001b[0m\n\u001b[1;32m--> 321\u001b[1;33m         \u001b[1;33m(\u001b[0m\u001b[0mresult\u001b[0m\u001b[1;33m,\u001b[0m \u001b[0mconsumed\u001b[0m\u001b[1;33m)\u001b[0m \u001b[1;33m=\u001b[0m \u001b[0mself\u001b[0m\u001b[1;33m.\u001b[0m\u001b[0m_buffer_decode\u001b[0m\u001b[1;33m(\u001b[0m\u001b[0mdata\u001b[0m\u001b[1;33m,\u001b[0m \u001b[0mself\u001b[0m\u001b[1;33m.\u001b[0m\u001b[0merrors\u001b[0m\u001b[1;33m,\u001b[0m \u001b[0mfinal\u001b[0m\u001b[1;33m)\u001b[0m\u001b[1;33m\u001b[0m\u001b[1;33m\u001b[0m\u001b[0m\n\u001b[0m\u001b[0;32m    322\u001b[0m         \u001b[1;31m# keep undecoded input until the next call\u001b[0m\u001b[1;33m\u001b[0m\u001b[1;33m\u001b[0m\u001b[1;33m\u001b[0m\u001b[0m\n\u001b[0;32m    323\u001b[0m         \u001b[0mself\u001b[0m\u001b[1;33m.\u001b[0m\u001b[0mbuffer\u001b[0m \u001b[1;33m=\u001b[0m \u001b[0mdata\u001b[0m\u001b[1;33m[\u001b[0m\u001b[0mconsumed\u001b[0m\u001b[1;33m:\u001b[0m\u001b[1;33m]\u001b[0m\u001b[1;33m\u001b[0m\u001b[1;33m\u001b[0m\u001b[0m\n",
      "\u001b[1;32mD:\\ssoftware\\anaconda\\lib\\encodings\\utf_16.py\u001b[0m in \u001b[0;36m_buffer_decode\u001b[1;34m(self, input, errors, final)\u001b[0m\n\u001b[0;32m     65\u001b[0m                 \u001b[0mself\u001b[0m\u001b[1;33m.\u001b[0m\u001b[0mdecoder\u001b[0m \u001b[1;33m=\u001b[0m \u001b[0mcodecs\u001b[0m\u001b[1;33m.\u001b[0m\u001b[0mutf_16_be_decode\u001b[0m\u001b[1;33m\u001b[0m\u001b[1;33m\u001b[0m\u001b[0m\n\u001b[0;32m     66\u001b[0m             \u001b[1;32melif\u001b[0m \u001b[0mconsumed\u001b[0m \u001b[1;33m>=\u001b[0m \u001b[1;36m2\u001b[0m\u001b[1;33m:\u001b[0m\u001b[1;33m\u001b[0m\u001b[1;33m\u001b[0m\u001b[0m\n\u001b[1;32m---> 67\u001b[1;33m                 \u001b[1;32mraise\u001b[0m \u001b[0mUnicodeError\u001b[0m\u001b[1;33m(\u001b[0m\u001b[1;34m\"UTF-16 stream does not start with BOM\"\u001b[0m\u001b[1;33m)\u001b[0m\u001b[1;33m\u001b[0m\u001b[1;33m\u001b[0m\u001b[0m\n\u001b[0m\u001b[0;32m     68\u001b[0m             \u001b[1;32mreturn\u001b[0m \u001b[1;33m(\u001b[0m\u001b[0moutput\u001b[0m\u001b[1;33m,\u001b[0m \u001b[0mconsumed\u001b[0m\u001b[1;33m)\u001b[0m\u001b[1;33m\u001b[0m\u001b[1;33m\u001b[0m\u001b[0m\n\u001b[0;32m     69\u001b[0m         \u001b[1;32mreturn\u001b[0m \u001b[0mself\u001b[0m\u001b[1;33m.\u001b[0m\u001b[0mdecoder\u001b[0m\u001b[1;33m(\u001b[0m\u001b[0minput\u001b[0m\u001b[1;33m,\u001b[0m \u001b[0mself\u001b[0m\u001b[1;33m.\u001b[0m\u001b[0merrors\u001b[0m\u001b[1;33m,\u001b[0m \u001b[0mfinal\u001b[0m\u001b[1;33m)\u001b[0m\u001b[1;33m\u001b[0m\u001b[1;33m\u001b[0m\u001b[0m\n",
      "\u001b[1;31mUnicodeError\u001b[0m: UTF-16 stream does not start with BOM"
     ]
    }
   ],
   "source": [
    "#Out: UnicodeDecodeError\n",
    "#你可以给open函数传递一个可选的errors参数来处理这些错误，一些常见处理错误的方法 \n",
    "f = open('jalapeño.txt', 'rt', encoding='utf-16', errors='replace')\n",
    "f.read()"
   ]
  },
  {
   "cell_type": "code",
   "execution_count": 4,
   "metadata": {},
   "outputs": [],
   "source": [
    "f = open('jalapeño.txt', 'rt', encoding='utf-8', errors='ignore')\n",
    "f.read()\n",
    "\n",
    "f.close()"
   ]
  },
  {
   "cell_type": "markdown",
   "metadata": {},
   "source": [
    "5.2 打印输出至文件中"
   ]
  },
  {
   "cell_type": "markdown",
   "metadata": {},
   "source": [
    "问题：你想将print函数的输出到重定向到一个文件中"
   ]
  },
  {
   "cell_type": "markdown",
   "metadata": {},
   "source": [
    "解决方案：print函数，指定file关键字参数"
   ]
  },
  {
   "cell_type": "code",
   "execution_count": 24,
   "metadata": {},
   "outputs": [],
   "source": [
    "with open('somefile_relocation.txt', 'wt') as f:\n",
    "    print('Hello World!', file=f) # hello world 输出 f对象里\n",
    "    \n",
    "#有一点需要注意，文件必须以文本模式打开，如果文件是二进制模式的话，打印就会出错"
   ]
  },
  {
   "cell_type": "markdown",
   "metadata": {},
   "source": [
    "## 5.3 使用其他分隔符或行终止符打印"
   ]
  },
  {
   "cell_type": "markdown",
   "metadata": {},
   "source": [
    "问题：你想使用print函数输出数据，但是想改变默认的分隔符或者行尾符"
   ]
  },
  {
   "cell_type": "markdown",
   "metadata": {},
   "source": [
    "解决方案：print函数中使用sep和end关键字参数"
   ]
  },
  {
   "cell_type": "code",
   "execution_count": 8,
   "metadata": {},
   "outputs": [
    {
     "name": "stdout",
     "output_type": "stream",
     "text": [
      "ACME 50 91.5\n",
      "('ACME', 50, 91.5)\n",
      "ACME,50,91.5!!\n",
      "ACME,50,91.5ACME,50,91.5!!\n"
     ]
    }
   ],
   "source": [
    "print('ACME', 50, 91.5)\n",
    "print(('ACME', 50, 91.5))\n",
    "print('ACME', 50, 91.5, sep=',', end='!!\\n') #行尾符\n",
    "print('ACME', 50, 91.5, sep=',', end='') # 分隔符 ，\n",
    "print('ACME', 50, 91.5, sep=',', end='!!\\n') #行尾符"
   ]
  },
  {
   "cell_type": "code",
   "execution_count": 27,
   "metadata": {},
   "outputs": [
    {
     "name": "stdout",
     "output_type": "stream",
     "text": [
      "0\n",
      "1\n",
      "2\n",
      "3\n",
      "4\n",
      "0 1 2 3 4 0\n",
      "1\n",
      "2\n",
      "3\n",
      "4\n"
     ]
    }
   ],
   "source": [
    "#使用end=''参数也可以在输出中禁止换行\n",
    "for i in range(5):\n",
    "    print(i)\n",
    "    \n",
    "for i in range(5):\n",
    "    print(i, end=' ')\n",
    "    \n",
    "for i in range(5):\n",
    "    print(i, end='\\n')"
   ]
  },
  {
   "cell_type": "code",
   "execution_count": 9,
   "metadata": {},
   "outputs": [
    {
     "ename": "TypeError",
     "evalue": "join() takes exactly one argument (3 given)",
     "output_type": "error",
     "traceback": [
      "\u001b[1;31m---------------------------------------------------------------------------\u001b[0m",
      "\u001b[1;31mTypeError\u001b[0m                                 Traceback (most recent call last)",
      "\u001b[1;32m<ipython-input-9-6bf7da711f97>\u001b[0m in \u001b[0;36m<module>\u001b[1;34m\u001b[0m\n\u001b[0;32m      1\u001b[0m \u001b[1;31m#当你想使用非空格分隔符来输出数据的时候，print函数传递一个sep参数是最简单的方案，有的时候str.join()来完成同样的事情\u001b[0m\u001b[1;33m\u001b[0m\u001b[1;33m\u001b[0m\u001b[1;33m\u001b[0m\u001b[0m\n\u001b[1;32m----> 2\u001b[1;33m \u001b[0mprint\u001b[0m\u001b[1;33m(\u001b[0m\u001b[1;34m','\u001b[0m\u001b[1;33m.\u001b[0m\u001b[0mjoin\u001b[0m\u001b[1;33m(\u001b[0m\u001b[1;34m'ACME'\u001b[0m\u001b[1;33m,\u001b[0m \u001b[1;34m'50'\u001b[0m\u001b[1;33m,\u001b[0m \u001b[1;34m'91.5'\u001b[0m\u001b[1;33m)\u001b[0m\u001b[1;33m)\u001b[0m\u001b[1;33m\u001b[0m\u001b[1;33m\u001b[0m\u001b[0m\n\u001b[0m\u001b[0;32m      3\u001b[0m \u001b[0mprint\u001b[0m\u001b[1;33m(\u001b[0m\u001b[1;34m','\u001b[0m\u001b[1;33m.\u001b[0m\u001b[0mjoin\u001b[0m\u001b[1;33m(\u001b[0m\u001b[1;33m[\u001b[0m\u001b[1;34m'ACME'\u001b[0m\u001b[1;33m,\u001b[0m \u001b[1;34m'50'\u001b[0m\u001b[1;33m,\u001b[0m \u001b[1;34m'91'\u001b[0m\u001b[1;33m]\u001b[0m\u001b[1;33m)\u001b[0m\u001b[1;33m)\u001b[0m\u001b[1;33m\u001b[0m\u001b[1;33m\u001b[0m\u001b[0m\n",
      "\u001b[1;31mTypeError\u001b[0m: join() takes exactly one argument (3 given)"
     ]
    }
   ],
   "source": [
    "#当你想使用非空格分隔符来输出数据的时候，print函数传递一个sep参数是最简单的方案，有的时候str.join()来完成同样的事情\n",
    "print(','.join('ACME', '50', '91.5'))"
   ]
  },
  {
   "cell_type": "code",
   "execution_count": 12,
   "metadata": {},
   "outputs": [
    {
     "name": "stdout",
     "output_type": "stream",
     "text": [
      "ACME,50,91.5\n",
      "ACME,50,91.5\n",
      "ACME,50,91\n",
      "ACME,50,91.5\n"
     ]
    }
   ],
   "source": [
    "row = ('ACME', '50', '91.5')\n",
    "print(','.join(row))\n",
    "print(','.join(str(x) for x in row))\n",
    "print(','.join(['ACME', '50', '91']))\n",
    "#更简便\n",
    "print(*row, sep=',')"
   ]
  },
  {
   "cell_type": "markdown",
   "metadata": {},
   "source": [
    "## 5.4 读写字节数据"
   ]
  },
  {
   "cell_type": "markdown",
   "metadata": {},
   "source": [
    "问题：你想读写二进制文件，比如图片或者声音文件"
   ]
  },
  {
   "cell_type": "markdown",
   "metadata": {},
   "source": [
    "解决方案：使用模式rb或者wb的open函数读取或者写入二进制数据"
   ]
  },
  {
   "cell_type": "code",
   "execution_count": 38,
   "metadata": {},
   "outputs": [],
   "source": [
    "with open('somefile_relocation.txt', 'rb') as f: # 在读取二进制数据时，需要指明的是所有返回的数据都是以字节字符串格式的，而不是文本字符串\n",
    "    data = f.read()\n",
    "    \n",
    "with open('somefile_relocation.txt', 'wb') as f:\n",
    "    f.write(b'Hello World!') # 在写入的时候，必须保证参数是以字节形式对外暴露数据的对象，比如，字节字符串，字节数组对象"
   ]
  },
  {
   "cell_type": "code",
   "execution_count": 39,
   "metadata": {},
   "outputs": [
    {
     "data": {
      "text/plain": [
       "'H'"
      ]
     },
     "execution_count": 39,
     "metadata": {},
     "output_type": "execute_result"
    }
   ],
   "source": [
    "#在读取二进制数据的时候，字节字符串和文本字符串的语义差异可能会导致一个潜在的陷阱\n",
    "#特别注意：索引和迭代动作返回的是字节的值而不是字节字符串，比如\n",
    "\n",
    "#文本字符串\n",
    "t = 'Hello World'\n",
    "t[0]"
   ]
  },
  {
   "cell_type": "code",
   "execution_count": 40,
   "metadata": {},
   "outputs": [
    {
     "name": "stdout",
     "output_type": "stream",
     "text": [
      "H\n",
      "e\n",
      "l\n",
      "l\n",
      "o\n",
      " \n",
      "W\n",
      "o\n",
      "r\n",
      "l\n",
      "d\n"
     ]
    }
   ],
   "source": [
    "for c in t:\n",
    "    print(c)"
   ]
  },
  {
   "cell_type": "code",
   "execution_count": 41,
   "metadata": {},
   "outputs": [
    {
     "data": {
      "text/plain": [
       "72"
      ]
     },
     "execution_count": 41,
     "metadata": {},
     "output_type": "execute_result"
    }
   ],
   "source": [
    "#字节字符串\n",
    "b = b'Hello World'\n",
    "b[0]"
   ]
  },
  {
   "cell_type": "code",
   "execution_count": 42,
   "metadata": {},
   "outputs": [
    {
     "name": "stdout",
     "output_type": "stream",
     "text": [
      "72\n",
      "101\n",
      "108\n",
      "108\n",
      "111\n",
      "32\n",
      "87\n",
      "111\n",
      "114\n",
      "108\n",
      "100\n"
     ]
    }
   ],
   "source": [
    "for c in b:\n",
    "    print(c)"
   ]
  },
  {
   "cell_type": "code",
   "execution_count": 47,
   "metadata": {},
   "outputs": [],
   "source": [
    "#如果你想从二进制模式的文件中读取或者写入文本数据，必须确保解码和编码操作\n",
    "\n",
    "with open('somebin.bin', 'rb') as f:\n",
    "    data = f.read(16)\n",
    "    text = data.decode('utf-8') # 读后解码\n",
    "    \n",
    "with open('somebin.bin', 'ab') as f:\n",
    "    text = 'Hello World'\n",
    "    f.write(text.encode('utf-8')) # 写前编码"
   ]
  },
  {
   "cell_type": "code",
   "execution_count": 48,
   "metadata": {},
   "outputs": [],
   "source": [
    "import array\n",
    "\n",
    "nums = array.array('i', [1, 2, 3, 5]) # i ->signed interger 2bytes\n",
    "with open('data.bin', 'wb') as f: # 二进制I/O还有一个特性，数组和C结构体类型能直接被写入，而不需要中间转换自己对象\n",
    "    f.write(nums)\n",
    "    \n",
    "#这个适用于任何实现了被称之为‘缓冲接口’的对象，这种对象会直接暴露其底层的内存缓冲区给能处理它的操作\n",
    "#二进制数据的写入就是这样类操作之一"
   ]
  },
  {
   "cell_type": "code",
   "execution_count": 55,
   "metadata": {},
   "outputs": [
    {
     "name": "stdout",
     "output_type": "stream",
     "text": [
      "array('i', [1, 2, 3, 5, 0, 0, 0, 0])\n"
     ]
    }
   ],
   "source": [
    "#很多对象还允许通过使用文件对象的readinto方法直接读取二进制数据到其底层的内存中去\n",
    "#底层的内存?\n",
    "#这么做有什么意义？好处？\n",
    "import array\n",
    "\n",
    "a = array.array('i', [0, 0, 0, 0, 0, 0, 0, 0])\n",
    "with open('data.bin', 'rb') as f:\n",
    "    f.readinto(a)\n",
    "    \n",
    "print(a) # ?\n",
    "#使用这种技术的时候需要格外小心，因为他通常具有平台相关性，并且可能会依赖字长和字节顺序"
   ]
  },
  {
   "cell_type": "markdown",
   "metadata": {},
   "source": [
    "## 5.5 文件不存在才能写入"
   ]
  },
  {
   "cell_type": "markdown",
   "metadata": {},
   "source": [
    "问题：你想向一个文件中写入数据，但是前提必须是这个文件在文件系统中不存在，也就是不允许覆盖已存在的文件内容"
   ]
  },
  {
   "cell_type": "markdown",
   "metadata": {},
   "source": [
    "解决方案：可以在open函数使用x模式来代替w模式的方法来解决这个问题，比如"
   ]
  },
  {
   "cell_type": "code",
   "execution_count": 59,
   "metadata": {},
   "outputs": [],
   "source": [
    "with open('somefile', 'wt') as f:\n",
    "    f.write('Hello\\n')"
   ]
  },
  {
   "cell_type": "code",
   "execution_count": 64,
   "metadata": {},
   "outputs": [
    {
     "ename": "FileExistsError",
     "evalue": "[Errno 17] File exists: 'somefile'",
     "output_type": "error",
     "traceback": [
      "\u001b[1;31m---------------------------------------------------------------------------\u001b[0m",
      "\u001b[1;31mFileExistsError\u001b[0m                           Traceback (most recent call last)",
      "\u001b[1;32m<ipython-input-64-9970b6fa5274>\u001b[0m in \u001b[0;36m<module>\u001b[1;34m\u001b[0m\n\u001b[1;32m----> 1\u001b[1;33m \u001b[1;32mwith\u001b[0m \u001b[0mopen\u001b[0m\u001b[1;33m(\u001b[0m\u001b[1;34m'somefile'\u001b[0m\u001b[1;33m,\u001b[0m \u001b[1;34m'xt'\u001b[0m\u001b[1;33m)\u001b[0m \u001b[1;32mas\u001b[0m \u001b[0mf\u001b[0m\u001b[1;33m:\u001b[0m\u001b[1;33m\u001b[0m\u001b[1;33m\u001b[0m\u001b[0m\n\u001b[0m\u001b[0;32m      2\u001b[0m     \u001b[0mf\u001b[0m\u001b[1;33m.\u001b[0m\u001b[0mwritable\u001b[0m\u001b[1;33m(\u001b[0m\u001b[1;34m'Hello \\n'\u001b[0m\u001b[1;33m)\u001b[0m\u001b[1;33m\u001b[0m\u001b[1;33m\u001b[0m\u001b[0m\n\u001b[0;32m      3\u001b[0m \u001b[1;33m\u001b[0m\u001b[0m\n\u001b[0;32m      4\u001b[0m \u001b[1;31m#如果文件时二进制的，使用xb来代替xt\u001b[0m\u001b[1;33m\u001b[0m\u001b[1;33m\u001b[0m\u001b[1;33m\u001b[0m\u001b[0m\n\u001b[0;32m      5\u001b[0m \u001b[1;31m#x文件模式是python3对open函数特有的扩展，旧版本没有这个模式\u001b[0m\u001b[1;33m\u001b[0m\u001b[1;33m\u001b[0m\u001b[1;33m\u001b[0m\u001b[0m\n",
      "\u001b[1;31mFileExistsError\u001b[0m: [Errno 17] File exists: 'somefile'"
     ]
    }
   ],
   "source": [
    "#如果文件时二进制的，使用xb来代替xt\n",
    "#x文件模式是python3对open函数特有的扩展，旧版本没有这个模式\n",
    "\n",
    "with open('somefile', 'xt') as f: # \n",
    "    f.writable('Hello \\n')"
   ]
  },
  {
   "cell_type": "code",
   "execution_count": 63,
   "metadata": {},
   "outputs": [
    {
     "name": "stdout",
     "output_type": "stream",
     "text": [
      "File already exists!\n"
     ]
    }
   ],
   "source": [
    "#如果出现不小心覆盖一个已存在的文件，一个替代方案是先测试这个文件是否存在\n",
    "\n",
    "import os\n",
    "\n",
    "if not os.path.exists('somefile'):\n",
    "    with open('somefile', 'wt') as f:\n",
    "        f.write('Hello\\n')\n",
    "else:\n",
    "    print('File already exists!')"
   ]
  },
  {
   "cell_type": "markdown",
   "metadata": {},
   "source": [
    "5.6 字符串的I/O操作"
   ]
  },
  {
   "cell_type": "markdown",
   "metadata": {},
   "source": [
    "问题：你想使用操作类文件对象的程序来操作文本或二进制字符串"
   ]
  },
  {
   "cell_type": "markdown",
   "metadata": {},
   "source": [
    "解决方案：io.StringIO和io.BytesIO类来创建文件对象操作字符串数据"
   ]
  },
  {
   "cell_type": "code",
   "execution_count": 67,
   "metadata": {},
   "outputs": [
    {
     "data": {
      "text/plain": [
       "12"
      ]
     },
     "execution_count": 67,
     "metadata": {},
     "output_type": "execute_result"
    }
   ],
   "source": [
    "import io # must import\n",
    "\n",
    "s = io.StringIO() # 类文件对象\n",
    "s.write('Hello World\\n')"
   ]
  },
  {
   "cell_type": "code",
   "execution_count": 68,
   "metadata": {},
   "outputs": [],
   "source": [
    "print('This is a test', file=s)"
   ]
  },
  {
   "cell_type": "code",
   "execution_count": 69,
   "metadata": {},
   "outputs": [
    {
     "data": {
      "text/plain": [
       "'Hello World\\nThis is a test\\n'"
      ]
     },
     "execution_count": 69,
     "metadata": {},
     "output_type": "execute_result"
    }
   ],
   "source": [
    "# Get all of the data written so fra\n",
    "s.getvalue()"
   ]
  },
  {
   "cell_type": "code",
   "execution_count": 70,
   "metadata": {},
   "outputs": [
    {
     "data": {
      "text/plain": [
       "'Hell'"
      ]
     },
     "execution_count": 70,
     "metadata": {},
     "output_type": "execute_result"
    }
   ],
   "source": [
    "# Wrap a file interface around an existing string\n",
    "s = io.StringIO('Hello\\nWorld\\n')\n",
    "s.read(4)"
   ]
  },
  {
   "cell_type": "code",
   "execution_count": 71,
   "metadata": {},
   "outputs": [
    {
     "data": {
      "text/plain": [
       "'o\\nWorld\\n'"
      ]
     },
     "execution_count": 71,
     "metadata": {},
     "output_type": "execute_result"
    }
   ],
   "source": [
    "s.read() # ！迭代器性质"
   ]
  },
  {
   "cell_type": "code",
   "execution_count": 72,
   "metadata": {},
   "outputs": [
    {
     "data": {
      "text/plain": [
       "b'binary data'"
      ]
     },
     "execution_count": 72,
     "metadata": {},
     "output_type": "execute_result"
    }
   ],
   "source": [
    "#io.StringIO只能用于文本，如果你要操作二进制数据，要使用io.BytesIO类来代替\n",
    "\n",
    "s = io.BytesIO()\n",
    "s.write(b'binary data')\n",
    "s.getvalue()"
   ]
  },
  {
   "cell_type": "markdown",
   "metadata": {},
   "source": [
    "当你想模拟一个普通文件的时候，io.StringIo, io.BytesIO是非常有用的；比如，在单元测试中，你可以使用stringIO来创建一个\n",
    "包含测试数据的类文件对象，这个对象可以被传给某个参数为普通文件对象的函数"
   ]
  },
  {
   "cell_type": "markdown",
   "metadata": {},
   "source": [
    "stringIO BytesIO 实例并没有正确的整数类型的文件描述符，因此，他们不能在那些需要使用真实的系统级文件、管道或者套接字的程序中使用"
   ]
  },
  {
   "cell_type": "markdown",
   "metadata": {},
   "source": [
    "5.7 读取压缩文件"
   ]
  },
  {
   "cell_type": "markdown",
   "metadata": {},
   "source": [
    "问题：你想读取一个gzip or bz2格式的压缩文件"
   ]
  },
  {
   "cell_type": "markdown",
   "metadata": {},
   "source": [
    "解决方案：gzip and bz2模块可以很容易的处理这些文件，两个模块都为open函数提供了另外的实现来解决这个问题"
   ]
  },
  {
   "cell_type": "code",
   "execution_count": null,
   "metadata": {},
   "outputs": [],
   "source": [
    "#所有I/O操作都使用文本模式并执行Unicode的编码和解码操作\n",
    "#你想操作二进制数据，rb or wb 文件模式即可\n",
    "\n",
    "import gzip, bz2\n",
    "\n",
    "with gzip.open('somefile.gz', 'rt') as f:\n",
    "    text = f.read()\n",
    "    \n",
    "with bz2.open('somefile.bz2', 'rt') as f:\n",
    "    text = f.read()\n",
    "    \n",
    "# 类似的，为了写入压缩数据，可以这样做\n",
    "\n",
    "with gzip.open('somefile.gz', 'wt') as f:\n",
    "    f.write(text)\n",
    "    \n",
    "with bz2.open('somefile.bz2', 'rt') as f:\n",
    "    f.write(text)"
   ]
  },
  {
   "cell_type": "markdown",
   "metadata": {},
   "source": [
    "大部分情况下，读写压缩数据是很简单的，但是要注意是选择一个正确的文件模式是非常重要的，如果你不指定模式，默认的就是\n",
    "二进制模式，如果这时候程序想要接受的是文本数据，那么就会出错，gzip.open bz2.open 接受跟内置的open函数一样的参数，包括\n",
    "encoding\\errors\\newline"
   ]
  },
  {
   "cell_type": "markdown",
   "metadata": {},
   "source": [
    "当你写入这个压缩数据时，可以使用compresslevel这个可选的关键字参数来指定一个压缩等级,默认的等级是9，也是最高的等级，等级越低性能越好，但是数据压缩程度也越低"
   ]
  },
  {
   "cell_type": "code",
   "execution_count": null,
   "metadata": {},
   "outputs": [],
   "source": [
    "with gzip.open('somefile.gz', 'wt', compresslevel=5) as f:\n",
    "    f.write(text)"
   ]
  },
  {
   "cell_type": "code",
   "execution_count": null,
   "metadata": {},
   "outputs": [],
   "source": [
    "#gzip.open, bz2.open还有一个很少被人知道的特性，它们可以作用在一个已存在并以二进制模式打开的文件上\n",
    "# 这样就允许gzip and bz2 模块可以工作在很多类文件对象上，比如套接字，管道和内存中文件等\n",
    "import gzip\n",
    "\n",
    "f = open('somefile.gz', 'rb')\n",
    "with gzip.open(f, 'rt') as g:\n",
    "    text = g.read()\n",
    "    print(text)"
   ]
  },
  {
   "cell_type": "markdown",
   "metadata": {},
   "source": [
    "## 5.8 固定大小记录的文件迭代"
   ]
  },
  {
   "cell_type": "markdown",
   "metadata": {},
   "source": [
    "问题：你想在一个固定长度记录或者数据块的集合上迭代，而不是在文件中一行一行的迭代"
   ]
  },
  {
   "cell_type": "markdown",
   "metadata": {},
   "source": [
    "解决方案：使用iter and functools.partial函数"
   ]
  },
  {
   "cell_type": "code",
   "execution_count": 80,
   "metadata": {},
   "outputs": [],
   "source": [
    "from functools import partial\n",
    "\n",
    "record_size = 32\n",
    "\n",
    "with open('data.bin', 'rb')  as f:\n",
    "    records = iter(partial(f.read, record_size), b'') # b''->flag not end\n",
    "    for r in records:\n",
    "        pass\n",
    "    \n",
    "# 这个例子中records对象是可迭代对象，它会不断的产生固定大小的数据块，直到文件末尾\n",
    "# 要注意如果总记录大小不是块大小的整数倍的话，最后一个返回的元素的字节数会比期望值少\n",
    "#以二进制模式打开的，如果读取固定大小的记录，这是最普通的情况，对于文本文件，一行一行的读取更普遍一点"
   ]
  },
  {
   "cell_type": "markdown",
   "metadata": {},
   "source": [
    "iter函数有一个鲜为人知的特性就是，如果你给它传递一个可调用对象和一个标记值，它会创建一个迭代器，这个迭代器会一直调用传入的可调用对象直到它返回标记值为值，这时候迭代终止"
   ]
  },
  {
   "cell_type": "markdown",
   "metadata": {},
   "source": [
    "functools.partial用来创建一个每次被调用时从文件读取固定数目字节的可调用对象，标记值b''就是当到达文件结尾时的返回值"
   ]
  },
  {
   "cell_type": "markdown",
   "metadata": {},
   "source": [
    "## 5.9 读取二进制数据到可变缓冲区中"
   ]
  },
  {
   "cell_type": "markdown",
   "metadata": {},
   "source": [
    "问题：你想直接读取二进制数据到可变缓冲区，而不需要做任何的中间复制操作，或者，你原地修改数据并将它写回到一个文件中去"
   ]
  },
  {
   "cell_type": "markdown",
   "metadata": {},
   "source": [
    "解决方案：为了读取数据到一个可变数组中，使用文件对象的readinto方法"
   ]
  },
  {
   "cell_type": "code",
   "execution_count": null,
   "metadata": {},
   "outputs": [],
   "source": [
    "#### 文件对象的readinto方法能被用来为预先分配内存的数据填充数据，甚至包括array | numpy模块创建的数组\n",
    "# 和普通的方法不同的是，readinto填充已存在的缓冲区而不是为新对象重新分配内存再返回他们\n",
    "#因此，你可以使用它避免大量的内存分配操作\n",
    "import os.path\n",
    "\n",
    "def read_into_buffer(filename):\n",
    "    buf = bytearray(os.path.getsize(filename))\n",
    "    with open(filename, 'rb') as f:\n",
    "        f.readinto(buf) # 直接将文件对象写到已存在的缓冲区\n",
    "    return buf"
   ]
  },
  {
   "cell_type": "code",
   "execution_count": 83,
   "metadata": {},
   "outputs": [],
   "source": [
    "with open('sample.bin', 'wb') as f:\n",
    "    f.write(b'Hello World')"
   ]
  },
  {
   "cell_type": "code",
   "execution_count": 86,
   "metadata": {},
   "outputs": [
    {
     "data": {
      "text/plain": [
       "bytearray(b'Hello World')"
      ]
     },
     "execution_count": 86,
     "metadata": {},
     "output_type": "execute_result"
    }
   ],
   "source": [
    "buf = read_into_buffer('sample.bin')\n",
    "buf"
   ]
  },
  {
   "cell_type": "code",
   "execution_count": 87,
   "metadata": {},
   "outputs": [],
   "source": [
    "buf[0 : 5] = b'Hallo'"
   ]
  },
  {
   "cell_type": "code",
   "execution_count": 88,
   "metadata": {},
   "outputs": [
    {
     "data": {
      "text/plain": [
       "bytearray(b'Hallo World')"
      ]
     },
     "execution_count": 88,
     "metadata": {},
     "output_type": "execute_result"
    }
   ],
   "source": [
    "buf"
   ]
  },
  {
   "cell_type": "code",
   "execution_count": 89,
   "metadata": {},
   "outputs": [],
   "source": [
    "with open('newsample.bin', 'wb') as f:\n",
    "    f.write(buf)"
   ]
  },
  {
   "cell_type": "code",
   "execution_count": 90,
   "metadata": {},
   "outputs": [
    {
     "data": {
      "text/plain": [
       "bytearray(b'Hallo World')"
      ]
     },
     "execution_count": 90,
     "metadata": {},
     "output_type": "execute_result"
    }
   ],
   "source": [
    "buf"
   ]
  },
  {
   "cell_type": "code",
   "execution_count": 91,
   "metadata": {},
   "outputs": [
    {
     "data": {
      "text/plain": [
       "7"
      ]
     },
     "execution_count": 91,
     "metadata": {},
     "output_type": "execute_result"
    }
   ],
   "source": [
    "os.path.getsize('somefile.txt') # 字节"
   ]
  },
  {
   "cell_type": "code",
   "execution_count": 92,
   "metadata": {},
   "outputs": [],
   "source": [
    "#如果你读取一个由相同大小的记录组成的二进制文件时，你可以像下面这样写：\n",
    "\n",
    "record_size = 32 # Size of each record (adjust value)\n",
    "\n",
    "buf = bytearray(record_size)\n",
    "\n",
    "with open('somefile', 'rb') as f:\n",
    "    while True:\n",
    "        n = f.readinto(buf)\n",
    "        if n < record_size: # 如果字节数小于缓冲区大小，表明数据被截断 或者被破坏了\n",
    "            break\n",
    "        else:\n",
    "            #Use the contents of buf\n",
    "            pass"
   ]
  },
  {
   "cell_type": "code",
   "execution_count": 94,
   "metadata": {},
   "outputs": [
    {
     "data": {
      "text/plain": [
       "bytearray(b'Hello\\r\\n\\x00\\x00\\x00\\x00\\x00\\x00\\x00\\x00\\x00\\x00\\x00\\x00\\x00\\x00\\x00\\x00\\x00\\x00\\x00\\x00\\x00\\x00\\x00\\x00\\x00')"
      ]
     },
     "execution_count": 94,
     "metadata": {},
     "output_type": "execute_result"
    }
   ],
   "source": [
    "# 另一个有趣特性就是memoryview,它可以通过零复制的方式对已经在的缓冲区执行切片操作，甚至还能修改它的内容\n",
    "\n",
    "buf # ？"
   ]
  },
  {
   "cell_type": "code",
   "execution_count": 95,
   "metadata": {},
   "outputs": [
    {
     "data": {
      "text/plain": [
       "<memory at 0x000002A4677E6C48>"
      ]
     },
     "execution_count": 95,
     "metadata": {},
     "output_type": "execute_result"
    }
   ],
   "source": [
    "m1 = memoryview(buf)\n",
    "m2 = m1[-5:]\n",
    "m2"
   ]
  },
  {
   "cell_type": "code",
   "execution_count": 96,
   "metadata": {},
   "outputs": [
    {
     "data": {
      "text/plain": [
       "bytearray(b'Hello\\r\\n\\x00\\x00\\x00\\x00\\x00\\x00\\x00\\x00\\x00\\x00\\x00\\x00\\x00\\x00\\x00\\x00\\x00\\x00\\x00\\x00WORLD')"
      ]
     },
     "execution_count": 96,
     "metadata": {},
     "output_type": "execute_result"
    }
   ],
   "source": [
    "m2[ : ] = b'WORLD'\n",
    "buf"
   ]
  },
  {
   "cell_type": "markdown",
   "metadata": {},
   "source": [
    "使用f.readinto时需要注意的是，你必须检查它的返回值，也就是实际读取的字节数；如果字节数小于缓冲区大小，表明数据被截断\n",
    "或者被破坏了，比如你期望每次读取指定数量的字节；最后，留心观察其他函数库和模块中的into相关函数，比如，recv into，pack into\n",
    "等，python的很多其他部分已经能支持直接的I/O或数据访问操作，这些操作可被用来填充或修改数组和缓冲区内容\n"
   ]
  },
  {
   "cell_type": "markdown",
   "metadata": {},
   "source": [
    "## 5.10 内存映射的二进制文件"
   ]
  },
  {
   "cell_type": "markdown",
   "metadata": {},
   "source": [
    "问题：你想内存映射一个二进制文件到一个可变字节数组中，目的可能是为了随机访问它的内容或者原地做些修改"
   ]
  },
  {
   "cell_type": "markdown",
   "metadata": {},
   "source": [
    "解决方案：使用mmap模块来内存映射文件，下面是一个工具函数，向你演示了如果打开一个文件并以一种便捷方式内存映射这个文件"
   ]
  },
  {
   "cell_type": "code",
   "execution_count": 99,
   "metadata": {},
   "outputs": [],
   "source": [
    "import os\n",
    "import mmap\n",
    "\n",
    "def memory_map(filename, access=mmap.ACCESS_WRITE):\n",
    "    size = os.path.getsize(filename)\n",
    "    fd = os.open(filename, os.O_RDWR)\n",
    "    return mmap.mmap(fd, size, access=access)"
   ]
  },
  {
   "cell_type": "code",
   "execution_count": 100,
   "metadata": {},
   "outputs": [],
   "source": [
    "####.................."
   ]
  },
  {
   "cell_type": "markdown",
   "metadata": {},
   "source": [
    "## 5.11 文件路径名的操作"
   ]
  },
  {
   "cell_type": "markdown",
   "metadata": {},
   "source": [
    "问题：你需要使用路径名来获取文件名，目录名，绝对路径"
   ]
  },
  {
   "cell_type": "markdown",
   "metadata": {},
   "source": [
    "解决方案：os.path模块中的函数来操作路径名"
   ]
  },
  {
   "cell_type": "code",
   "execution_count": 101,
   "metadata": {},
   "outputs": [],
   "source": [
    "path = r'D:\\360MoveData\\Users\\86138\\Desktop\\myself\\刷过的书\\python_cookbook\\215.txt'"
   ]
  },
  {
   "cell_type": "code",
   "execution_count": 102,
   "metadata": {},
   "outputs": [
    {
     "data": {
      "text/plain": [
       "'215.txt'"
      ]
     },
     "execution_count": 102,
     "metadata": {},
     "output_type": "execute_result"
    }
   ],
   "source": [
    "# Get the last component of the path\n",
    "os.path.basename(path)"
   ]
  },
  {
   "cell_type": "code",
   "execution_count": 104,
   "metadata": {},
   "outputs": [
    {
     "data": {
      "text/plain": [
       "'D:\\\\360MoveData\\\\Users\\\\86138\\\\Desktop\\\\myself\\\\刷过的书\\\\python_cookbook'"
      ]
     },
     "execution_count": 104,
     "metadata": {},
     "output_type": "execute_result"
    }
   ],
   "source": [
    "# Get the directory name\n",
    "os.path.dirname(path)"
   ]
  },
  {
   "cell_type": "code",
   "execution_count": 105,
   "metadata": {},
   "outputs": [
    {
     "data": {
      "text/plain": [
       "'tmp\\\\data\\\\215.txt'"
      ]
     },
     "execution_count": 105,
     "metadata": {},
     "output_type": "execute_result"
    }
   ],
   "source": [
    "# Join path components together\n",
    "os.path.join('tmp', 'data', os.path.basename(path))"
   ]
  },
  {
   "cell_type": "code",
   "execution_count": 106,
   "metadata": {},
   "outputs": [
    {
     "data": {
      "text/plain": [
       "'D:\\\\emacs-26.2-x86_64/Data/data.csv'"
      ]
     },
     "execution_count": 106,
     "metadata": {},
     "output_type": "execute_result"
    }
   ],
   "source": [
    "# Expand the user's home directory\n",
    "path = '~/Data/data.csv'\n",
    "os.path.expanduser(path) # Expand ~ and ~user constructs"
   ]
  },
  {
   "cell_type": "code",
   "execution_count": 107,
   "metadata": {},
   "outputs": [
    {
     "data": {
      "text/plain": [
       "('~/Data/data', '.csv')"
      ]
     },
     "execution_count": 107,
     "metadata": {},
     "output_type": "execute_result"
    }
   ],
   "source": [
    "# split the file extension\n",
    "os.path.splitext(path)"
   ]
  },
  {
   "cell_type": "markdown",
   "metadata": {},
   "source": [
    "对于任何的文件名的操作，你都应该使用os path模块，而不是使用标准字符串操作来构造自己的代码，而不是使用标准字符串操作来构造自己的代码，特别是为了可移植性考虑的时候更应该如此，因为os path模块知道Unix windows系统之间的差异并且能够可靠处理类似以data/data.csv和data\\data.csv这样的文件名，其次，不要重复造轮子"
   ]
  },
  {
   "cell_type": "markdown",
   "metadata": {},
   "source": [
    "## 5.12 测试文件是否存在"
   ]
  },
  {
   "cell_type": "markdown",
   "metadata": {},
   "source": [
    "问题：你想测试一个或者目录是否存在"
   ]
  },
  {
   "cell_type": "markdown",
   "metadata": {},
   "source": [
    "解决方案：os.path模块来测试一个文件或者目录是否存在"
   ]
  },
  {
   "cell_type": "code",
   "execution_count": 108,
   "metadata": {},
   "outputs": [
    {
     "data": {
      "text/plain": [
       "True"
      ]
     },
     "execution_count": 108,
     "metadata": {},
     "output_type": "execute_result"
    }
   ],
   "source": [
    "import os\n",
    "\n",
    "os.path.exists('./215.txt')"
   ]
  },
  {
   "cell_type": "code",
   "execution_count": 109,
   "metadata": {},
   "outputs": [
    {
     "data": {
      "text/plain": [
       "False"
      ]
     },
     "execution_count": 109,
     "metadata": {},
     "output_type": "execute_result"
    }
   ],
   "source": [
    "os.path.exists('./216.txt')"
   ]
  },
  {
   "cell_type": "code",
   "execution_count": 110,
   "metadata": {},
   "outputs": [
    {
     "data": {
      "text/plain": [
       "True"
      ]
     },
     "execution_count": 110,
     "metadata": {},
     "output_type": "execute_result"
    }
   ],
   "source": [
    "#你还能进一步测试这个文件是什么类型的，如果文件不存在，返回False\n",
    "\n",
    "os.path.isfile('215.txt')"
   ]
  },
  {
   "cell_type": "code",
   "execution_count": 111,
   "metadata": {},
   "outputs": [
    {
     "data": {
      "text/plain": [
       "False"
      ]
     },
     "execution_count": 111,
     "metadata": {},
     "output_type": "execute_result"
    }
   ],
   "source": [
    "os.path.isdir('./somebin.bin')"
   ]
  },
  {
   "cell_type": "code",
   "execution_count": 112,
   "metadata": {},
   "outputs": [
    {
     "data": {
      "text/plain": [
       "False"
      ]
     },
     "execution_count": 112,
     "metadata": {},
     "output_type": "execute_result"
    }
   ],
   "source": [
    "os.path.islink('somebin.bin')"
   ]
  },
  {
   "cell_type": "code",
   "execution_count": 113,
   "metadata": {},
   "outputs": [
    {
     "data": {
      "text/plain": [
       "'D:\\\\emacs-26.2-x86_64\\\\bin\\\\emacs.exe'"
      ]
     },
     "execution_count": 113,
     "metadata": {},
     "output_type": "execute_result"
    }
   ],
   "source": [
    "os.path.realpath(r'D:\\emacs-26.2-x86_64\\bin\\emacs.exe')"
   ]
  },
  {
   "cell_type": "code",
   "execution_count": 117,
   "metadata": {},
   "outputs": [
    {
     "data": {
      "text/plain": [
       "73"
      ]
     },
     "execution_count": 117,
     "metadata": {},
     "output_type": "execute_result"
    }
   ],
   "source": [
    "# 如果你 还想获取元数据，比如文件大小或者修改日期\n",
    "# 需要注意的是考虑文件权限问题，特别是在获取元数据的时候\n",
    "os.path.getsize('215.txt')"
   ]
  },
  {
   "cell_type": "code",
   "execution_count": 115,
   "metadata": {},
   "outputs": [
    {
     "data": {
      "text/plain": [
       "1564195286.7394564"
      ]
     },
     "execution_count": 115,
     "metadata": {},
     "output_type": "execute_result"
    }
   ],
   "source": [
    "os.path.getmtime('somefile.txt')"
   ]
  },
  {
   "cell_type": "code",
   "execution_count": 116,
   "metadata": {},
   "outputs": [
    {
     "data": {
      "text/plain": [
       "'Sat Jul 27 10:41:26 2019'"
      ]
     },
     "execution_count": 116,
     "metadata": {},
     "output_type": "execute_result"
    }
   ],
   "source": [
    "import time\n",
    "\n",
    "time.ctime(os.path.getmtime('somefile.txt'))"
   ]
  },
  {
   "cell_type": "markdown",
   "metadata": {},
   "source": [
    "## 5.13 获取文件夹中的文件列表"
   ]
  },
  {
   "cell_type": "markdown",
   "metadata": {},
   "source": [
    "问题：你想获取文件系统中某个目录下的所有文件列表"
   ]
  },
  {
   "cell_type": "markdown",
   "metadata": {},
   "source": [
    "解决方案：使用os.listdir()函数来获取某个目录中的文件列表"
   ]
  },
  {
   "cell_type": "code",
   "execution_count": 121,
   "metadata": {},
   "outputs": [
    {
     "data": {
      "text/plain": [
       "['.ipynb_checkpoints',\n",
       " '215.txt',\n",
       " 'CookBook_1.ipynb',\n",
       " 'CookBook_2.ipynb',\n",
       " 'CookBook_3.ipynb',\n",
       " 'CookBook_4.ipynb',\n",
       " 'CookBook_5.ipynb',\n",
       " 'data.bin',\n",
       " 'exp5.txt',\n",
       " 'jalapeño.txt',\n",
       " 'newsample.bin',\n",
       " 'sample.bin',\n",
       " 'somebin.bin',\n",
       " 'somefile',\n",
       " 'somefile.txt',\n",
       " 'somefile_relocation.txt']"
      ]
     },
     "execution_count": 121,
     "metadata": {},
     "output_type": "execute_result"
    }
   ],
   "source": [
    "import os \n",
    "names = os.listdir('./')\n",
    "names\n",
    "# 结果会返回目录中所有文件列表，包括文件，子目录，符号链接等"
   ]
  },
  {
   "cell_type": "code",
   "execution_count": 124,
   "metadata": {},
   "outputs": [
    {
     "data": {
      "text/plain": [
       "['215.txt',\n",
       " 'CookBook_1.ipynb',\n",
       " 'CookBook_2.ipynb',\n",
       " 'CookBook_3.ipynb',\n",
       " 'CookBook_4.ipynb',\n",
       " 'CookBook_5.ipynb',\n",
       " 'data.bin',\n",
       " 'exp5.txt',\n",
       " 'jalapeño.txt',\n",
       " 'newsample.bin',\n",
       " 'sample.bin',\n",
       " 'somebin.bin',\n",
       " 'somefile',\n",
       " 'somefile.txt',\n",
       " 'somefile_relocation.txt']"
      ]
     },
     "execution_count": 124,
     "metadata": {},
     "output_type": "execute_result"
    }
   ],
   "source": [
    "#可以结构os path库中的一些函数来使用列表推导\n",
    "\n",
    "import os.path\n",
    "\n",
    "names = [name for name in os.listdir('./') if os.path.isfile(os.path.join('./', name))]\n",
    "names"
   ]
  },
  {
   "cell_type": "code",
   "execution_count": 127,
   "metadata": {},
   "outputs": [
    {
     "data": {
      "text/plain": [
       "['.ipynb_checkpoints']"
      ]
     },
     "execution_count": 127,
     "metadata": {},
     "output_type": "execute_result"
    }
   ],
   "source": [
    "dirnames = [name for name in os.listdir('./') if os.path.isdir(os.path.join('./',name))]\n",
    "dirnames"
   ]
  },
  {
   "cell_type": "code",
   "execution_count": 129,
   "metadata": {},
   "outputs": [
    {
     "data": {
      "text/plain": [
       "[]"
      ]
     },
     "execution_count": 129,
     "metadata": {},
     "output_type": "execute_result"
    }
   ],
   "source": [
    "pyfiles = [name for name in os.listdir('./') if name.endswith('.py')]\n",
    "pyfiles"
   ]
  },
  {
   "cell_type": "code",
   "execution_count": 130,
   "metadata": {},
   "outputs": [
    {
     "data": {
      "text/plain": [
       "['215.txt',\n",
       " 'exp5.txt',\n",
       " 'jalapeño.txt',\n",
       " 'somefile.txt',\n",
       " 'somefile_relocation.txt']"
      ]
     },
     "execution_count": 130,
     "metadata": {},
     "output_type": "execute_result"
    }
   ],
   "source": [
    "pyfiles = [name for name in os.listdir('./') if name.endswith('.txt')]\n",
    "pyfiles"
   ]
  },
  {
   "cell_type": "code",
   "execution_count": 19,
   "metadata": {},
   "outputs": [
    {
     "name": "stdout",
     "output_type": "stream",
     "text": [
      "[]\n",
      "['CookBook_1-checkpoint.ipynb', 'CookBook_2-checkpoint.ipynb', 'CookBook_3-checkpoint.ipynb', 'CookBook_3.ipynb', 'CookBook_4-checkpoint.ipynb', 'CookBook_5-checkpoint.ipynb', 'exercise_100-checkpoint.ipynb']\n"
     ]
    }
   ],
   "source": [
    "#对于文件名的匹配，你可能会考虑使用glob或者fnmatch模块\n",
    "#fnmatch该模块支持的是Unix shell-style通配符，而并未使用正则表达式。该模块中的函数都不会自动获取目录名或文件名，需要在调用函数时提供\n",
    "#glob则可以根据pattern来获取符合条件的目录或文件名\n",
    "\n",
    "import glob\n",
    "import os\n",
    "\n",
    "pyfiles = glob.glob('./.ipynb_checkpoints/*...nb')\n",
    "print(pyfiles)\n",
    "\n",
    "from fnmatch import fnmatch\n",
    "\n",
    "pyfiles = [name for name in os.listdir('./.ipynb_checkpoints/') if fnmatch(name, '*.ipynb')]\n",
    "print(pyfiles)"
   ]
  },
  {
   "cell_type": "code",
   "execution_count": 136,
   "metadata": {},
   "outputs": [
    {
     "data": {
      "text/plain": [
       "['.ipynb_checkpoints',\n",
       " 'CookBook_1-checkpoint.ipynb',\n",
       " 'CookBook_2-checkpoint.ipynb',\n",
       " 'CookBook_3-checkpoint.ipynb',\n",
       " 'CookBook_3.ipynb',\n",
       " 'CookBook_4-checkpoint.ipynb',\n",
       " 'CookBook_5-checkpoint.ipynb',\n",
       " 'notebook.tex']"
      ]
     },
     "execution_count": 136,
     "metadata": {},
     "output_type": "execute_result"
    }
   ],
   "source": [
    "[name for name in os.listdir('./.ipynb_checkpoints/')]"
   ]
  },
  {
   "cell_type": "code",
   "execution_count": 142,
   "metadata": {},
   "outputs": [
    {
     "name": "stdout",
     "output_type": "stream",
     "text": [
      "215.txt 73 1563442330.2894838\n",
      "exp5.txt 0 1564193654.9721951\n",
      "jalapeño.txt 33 1564191083.4583468\n",
      "somefile.txt 7 1564195286.7394564\n",
      "somefile_relocation.txt 12 1564193093.8321483\n"
     ]
    }
   ],
   "source": [
    "#如果你还想获取其他的元信息，比如文件大小，修改时间等等，你或许还需要使用到os.path模块中的函数或者os.stat()函数来收集数据\n",
    "\n",
    "import os, os.path, glob\n",
    "\n",
    "pyfiles = glob.glob('*.txt')\n",
    "#Get file sizes and modification dates\n",
    "name_sz_data = [(name, os.path.getsize(name), os.path.getmtime(name)) for name in pyfiles]\n",
    "for name, sz, data in name_sz_data:\n",
    "    print(name, sz, data)"
   ]
  },
  {
   "cell_type": "code",
   "execution_count": 161,
   "metadata": {},
   "outputs": [
    {
     "name": "stdout",
     "output_type": "stream",
     "text": [
      "215.txt*******************************************  73 1563442330.29\n",
      "exp5.txt******************************************   0 1564193654.97\n",
      "jalapeño.txt**************************************  33 1564191083.46\n",
      "somefile.txt**************************************   7 1564195286.74\n",
      "somefile_relocation.txt***************************  12 1564193093.83\n"
     ]
    }
   ],
   "source": [
    "#Alternative: Get file metadata\n",
    "file_metadata = [(name, os.stat(name)) for name in pyfiles]\n",
    "for name, meta in file_metadata:\n",
    "    print('{:*<50} {:>3} {:=.2f}'.format(name, meta.st_size, meta.st_mtime))"
   ]
  },
  {
   "cell_type": "markdown",
   "metadata": {},
   "source": [
    "## 5.14 忽略文件名编码"
   ]
  },
  {
   "cell_type": "markdown",
   "metadata": {},
   "source": [
    "问题：你想使用原始文件名执行文件的I/O操作，也就是说文件名没有经过系统默认编码进行编解码操作"
   ]
  },
  {
   "cell_type": "markdown",
   "metadata": {},
   "source": [
    "解决方案：默认情况，系统会根据来编码或解码"
   ]
  },
  {
   "cell_type": "code",
   "execution_count": 163,
   "metadata": {},
   "outputs": [
    {
     "data": {
      "text/plain": [
       "'utf-8'"
      ]
     },
     "execution_count": 163,
     "metadata": {},
     "output_type": "execute_result"
    }
   ],
   "source": [
    "sys.getfilesystemencoding()"
   ]
  },
  {
   "cell_type": "code",
   "execution_count": 20,
   "metadata": {},
   "outputs": [],
   "source": [
    "#如果你想某种原因忽略这种编码，可以使用一个原始字节字符串来指定一个文件名即可\n",
    "\n",
    "with open('jalape\\xf1o', 'w') as f:\n",
    "    f.write('Spicy!~')"
   ]
  },
  {
   "cell_type": "code",
   "execution_count": 172,
   "metadata": {},
   "outputs": [
    {
     "data": {
      "text/plain": [
       "['jalapeño.txt']"
      ]
     },
     "execution_count": 172,
     "metadata": {},
     "output_type": "execute_result"
    }
   ],
   "source": [
    "#传递字节字符串时，文件的处理方式略有不同\n",
    "import os\n",
    "\n",
    "[file for file in os.listdir('.') if file.startswith('j')]"
   ]
  },
  {
   "cell_type": "code",
   "execution_count": 173,
   "metadata": {},
   "outputs": [
    {
     "data": {
      "text/plain": [
       "[b'jalape\\xc3\\xb1o.txt']"
      ]
     },
     "execution_count": 173,
     "metadata": {},
     "output_type": "execute_result"
    }
   ],
   "source": [
    "[file for file in os.listdir(b'.') if file.startswith(b'j')] # 'j' error"
   ]
  },
  {
   "cell_type": "code",
   "execution_count": 174,
   "metadata": {},
   "outputs": [
    {
     "name": "stdout",
     "output_type": "stream",
     "text": [
      "Spicy!~\n"
     ]
    }
   ],
   "source": [
    "with open(b'jalape\\xc3\\xb1o.txt') as f:\n",
    "    print(f.read())"
   ]
  },
  {
   "cell_type": "markdown",
   "metadata": {},
   "source": [
    "## 5.15 打印不合法的文件名"
   ]
  },
  {
   "cell_type": "markdown",
   "metadata": {},
   "source": [
    "问题：获取了一个目录中的文件名列表，但是当它试着去打印文件名的时候程序崩溃，出现了UnicodeEncodeError异常和一条奇怪\n",
    "的消息 surrogates not alllowed"
   ]
  },
  {
   "cell_type": "markdown",
   "metadata": {},
   "source": [
    "解决方案：当打印未知的文件名时，使用下面的方法可以避免这样的错误"
   ]
  },
  {
   "cell_type": "markdown",
   "metadata": {},
   "source": [
    "def bad_filename(filename):\n",
    "    return repr(filename)[1 : -1]\n",
    "\n",
    "def bad_filename_1(filename):\n",
    "    temp = filename.encode(sys.getfilesystemencoding(), errors='surrogateescape')\n",
    "    return temp.decode('latin-1')\n",
    "    \n",
    "try:\n",
    "    print(filename)\n",
    "except UnicodeEncodeError:\n",
    "    print(bad_filename(filename))"
   ]
  },
  {
   "cell_type": "markdown",
   "metadata": {},
   "source": [
    "## 5.16 增加或者改变已打开文件的编码 "
   ]
  },
  {
   "cell_type": "markdown",
   "metadata": {},
   "source": [
    "问题：你想在不关闭一个已打开文件下增加或改变他的Unicode编码"
   ]
  },
  {
   "cell_type": "markdown",
   "metadata": {},
   "source": [
    "解决方案：如果你想在给一个以二进制模式打开的文件添加Unicode编码解码方式，可以使用io.TextIOWrapper()对象包装它"
   ]
  },
  {
   "cell_type": "code",
   "execution_count": 178,
   "metadata": {},
   "outputs": [],
   "source": [
    "import urllib.request, io\n",
    "\n",
    "u = urllib.request.urlopen('http://www.python.org')\n",
    "f = io.TextIOWrapper(u, encoding='utf-8')\n",
    "text = f.read()"
   ]
  },
  {
   "cell_type": "code",
   "execution_count": 180,
   "metadata": {},
   "outputs": [
    {
     "data": {
      "text/plain": [
       "'UTF-8'"
      ]
     },
     "execution_count": 180,
     "metadata": {},
     "output_type": "execute_result"
    }
   ],
   "source": [
    "#如果你想修改一个已经打开的文本模式的文件的编码方式，可以先使用detach方法移除掉已存在的文本编码层，并使用新的\n",
    "#编码方式代替\n",
    "\n",
    "import sys\n",
    "\n",
    "sys.stdout.encoding"
   ]
  },
  {
   "cell_type": "code",
   "execution_count": 181,
   "metadata": {},
   "outputs": [
    {
     "ename": "UnsupportedOperation",
     "evalue": "detach",
     "output_type": "error",
     "traceback": [
      "\u001b[1;31m---------------------------------------------------------------------------\u001b[0m",
      "\u001b[1;31mUnsupportedOperation\u001b[0m                      Traceback (most recent call last)",
      "\u001b[1;32m<ipython-input-181-7652cbe29144>\u001b[0m in \u001b[0;36m<module>\u001b[1;34m\u001b[0m\n\u001b[1;32m----> 1\u001b[1;33m \u001b[0msys\u001b[0m\u001b[1;33m.\u001b[0m\u001b[0mstdout\u001b[0m \u001b[1;33m=\u001b[0m \u001b[0mio\u001b[0m\u001b[1;33m.\u001b[0m\u001b[0mTextIOWrapper\u001b[0m\u001b[1;33m(\u001b[0m\u001b[0msys\u001b[0m\u001b[1;33m.\u001b[0m\u001b[0mstdout\u001b[0m\u001b[1;33m.\u001b[0m\u001b[0mdetach\u001b[0m\u001b[1;33m(\u001b[0m\u001b[1;33m)\u001b[0m\u001b[1;33m,\u001b[0m \u001b[0mencoding\u001b[0m\u001b[1;33m=\u001b[0m\u001b[1;34m'latin-1'\u001b[0m\u001b[1;33m)\u001b[0m\u001b[1;33m\u001b[0m\u001b[1;33m\u001b[0m\u001b[0m\n\u001b[0m",
      "\u001b[1;31mUnsupportedOperation\u001b[0m: detach"
     ]
    }
   ],
   "source": [
    "sys.stdout = io.TextIOWrapper(sys.stdout.detach(), encoding='latin-1')"
   ]
  },
  {
   "cell_type": "code",
   "execution_count": 182,
   "metadata": {},
   "outputs": [
    {
     "data": {
      "text/plain": [
       "<_io.TextIOWrapper name='sample.bin' mode='w' encoding='cp936'>"
      ]
     },
     "execution_count": 182,
     "metadata": {},
     "output_type": "execute_result"
    }
   ],
   "source": [
    "#I/O系统由一系列的层次构建而成，你可以试着运行下面这个操作一个文本文件的例子来查看这种层次\n",
    "f = open('sample.bin', 'w')\n",
    "f"
   ]
  },
  {
   "cell_type": "code",
   "execution_count": 183,
   "metadata": {},
   "outputs": [
    {
     "data": {
      "text/plain": [
       "<_io.BufferedWriter name='sample.bin'>"
      ]
     },
     "execution_count": 183,
     "metadata": {},
     "output_type": "execute_result"
    }
   ],
   "source": [
    "f.buffer"
   ]
  },
  {
   "cell_type": "code",
   "execution_count": 184,
   "metadata": {},
   "outputs": [
    {
     "data": {
      "text/plain": [
       "<_io.FileIO name='sample.bin' mode='wb' closefd=True>"
      ]
     },
     "execution_count": 184,
     "metadata": {},
     "output_type": "execute_result"
    }
   ],
   "source": [
    "f.buffer.raw"
   ]
  },
  {
   "cell_type": "code",
   "execution_count": 185,
   "metadata": {},
   "outputs": [
    {
     "data": {
      "text/plain": [
       "<_io.TextIOWrapper name='sample.bin' mode='w' encoding='cp936'>"
      ]
     },
     "execution_count": 185,
     "metadata": {},
     "output_type": "execute_result"
    }
   ],
   "source": [
    "#上面的三个例子中，\n",
    "#io.TextIOWrappear是一个编码和解码Unicode的文本处理层\n",
    "#io.BufferedWriter是一个处理二进制数据的带缓冲的I/O层\n",
    "#io.FileIO是一个表示操作系统底层文件描述符的原始文件\n",
    "#增加或改变文本编码会涉及及增加或改变最上面的io.TextIOWrapper层\n",
    "#通过访问属性值来直接操作不同的层是很不安全的，例如，下面\n",
    "f"
   ]
  },
  {
   "cell_type": "code",
   "execution_count": 188,
   "metadata": {},
   "outputs": [],
   "source": [
    "f = io.TextIOWrapper(f.buffer, encoding='latin-1')"
   ]
  },
  {
   "cell_type": "code",
   "execution_count": 190,
   "metadata": {},
   "outputs": [
    {
     "data": {
      "text/plain": [
       "5"
      ]
     },
     "execution_count": 190,
     "metadata": {},
     "output_type": "execute_result"
    }
   ],
   "source": [
    "f.write('Hello')\n",
    "# ValueError: I/O operation on closed file"
   ]
  },
  {
   "cell_type": "code",
   "execution_count": 191,
   "metadata": {},
   "outputs": [
    {
     "data": {
      "text/plain": [
       "<_io.TextIOWrapper name='sample.bin' mode='w' encoding='cp936'>"
      ]
     },
     "execution_count": 191,
     "metadata": {},
     "output_type": "execute_result"
    }
   ],
   "source": [
    "#detach方法会断开文件的最顶层并返回第二层，之后最顶层就没什么用了\n",
    "\n",
    "f = open('sample.bin', 'w')\n",
    "f"
   ]
  },
  {
   "cell_type": "code",
   "execution_count": 193,
   "metadata": {},
   "outputs": [
    {
     "ename": "ValueError",
     "evalue": "underlying buffer has been detached",
     "output_type": "error",
     "traceback": [
      "\u001b[1;31m---------------------------------------------------------------------------\u001b[0m",
      "\u001b[1;31mValueError\u001b[0m                                Traceback (most recent call last)",
      "\u001b[1;32m<ipython-input-193-2c32471f7b5b>\u001b[0m in \u001b[0;36m<module>\u001b[1;34m\u001b[0m\n\u001b[1;32m----> 1\u001b[1;33m \u001b[0mb\u001b[0m \u001b[1;33m=\u001b[0m \u001b[0mf\u001b[0m\u001b[1;33m.\u001b[0m\u001b[0mdetach\u001b[0m\u001b[1;33m(\u001b[0m\u001b[1;33m)\u001b[0m\u001b[1;33m\u001b[0m\u001b[1;33m\u001b[0m\u001b[0m\n\u001b[0m\u001b[0;32m      2\u001b[0m \u001b[0mb\u001b[0m\u001b[1;33m\u001b[0m\u001b[1;33m\u001b[0m\u001b[0m\n",
      "\u001b[1;31mValueError\u001b[0m: underlying buffer has been detached"
     ]
    }
   ],
   "source": [
    "b = f.detach()\n",
    "b"
   ]
  },
  {
   "cell_type": "code",
   "execution_count": 194,
   "metadata": {},
   "outputs": [
    {
     "data": {
      "text/plain": [
       "<_io.TextIOWrapper name='sample.bin' encoding='latin-1'>"
      ]
     },
     "execution_count": 194,
     "metadata": {},
     "output_type": "execute_result"
    }
   ],
   "source": [
    "#一旦断开最顶层后，你就可以给返回结果添加一个新的最顶层\n",
    "\n",
    "f = io.TextIOWrapper(b, encoding='latin-1')\n",
    "f"
   ]
  },
  {
   "cell_type": "code",
   "execution_count": 195,
   "metadata": {},
   "outputs": [
    {
     "ename": "UnsupportedOperation",
     "evalue": "detach",
     "output_type": "error",
     "traceback": [
      "\u001b[1;31m---------------------------------------------------------------------------\u001b[0m",
      "\u001b[1;31mUnsupportedOperation\u001b[0m                      Traceback (most recent call last)",
      "\u001b[1;32m<ipython-input-195-7ba615622eca>\u001b[0m in \u001b[0;36m<module>\u001b[1;34m\u001b[0m\n\u001b[0;32m      1\u001b[0m \u001b[1;31m#尽管已经向你演示了改变编程的方法，但是你还可以利用这种技术来改变文件行处理，错误机制以及文件处理的其他方面\u001b[0m\u001b[1;33m\u001b[0m\u001b[1;33m\u001b[0m\u001b[1;33m\u001b[0m\u001b[0m\n\u001b[0;32m      2\u001b[0m \u001b[1;33m\u001b[0m\u001b[0m\n\u001b[1;32m----> 3\u001b[1;33m \u001b[0msys\u001b[0m\u001b[1;33m.\u001b[0m\u001b[0mstdout\u001b[0m \u001b[1;33m=\u001b[0m \u001b[0mio\u001b[0m\u001b[1;33m.\u001b[0m\u001b[0mTextIOWrapper\u001b[0m\u001b[1;33m(\u001b[0m\u001b[0msys\u001b[0m\u001b[1;33m.\u001b[0m\u001b[0mstdout\u001b[0m\u001b[1;33m.\u001b[0m\u001b[0mdetach\u001b[0m\u001b[1;33m(\u001b[0m\u001b[1;33m)\u001b[0m\u001b[1;33m,\u001b[0m \u001b[0mencoding\u001b[0m\u001b[1;33m=\u001b[0m\u001b[1;34m'ascii'\u001b[0m\u001b[1;33m,\u001b[0m \u001b[0merrors\u001b[0m\u001b[1;33m=\u001b[0m\u001b[1;34m'xmlcharrefreplace'\u001b[0m\u001b[1;33m)\u001b[0m\u001b[1;33m\u001b[0m\u001b[1;33m\u001b[0m\u001b[0m\n\u001b[0m",
      "\u001b[1;31mUnsupportedOperation\u001b[0m: detach"
     ]
    }
   ],
   "source": [
    "#尽管已经向你演示了改变编程的方法，但是你还可以利用这种技术来改变文件行处理，错误机制以及文件处理的其他方面\n",
    "\n",
    "sys.stdout = io.TextIOWrapper(sys.stdout.detach(), encoding='ascii', errors='xmlcharrefreplace')"
   ]
  },
  {
   "cell_type": "markdown",
   "metadata": {},
   "source": [
    "## 5.17 将字节写入文本文件"
   ]
  },
  {
   "cell_type": "markdown",
   "metadata": {},
   "source": [
    "问题：你想在文本模式打开的文件中写入原始的字节数据"
   ]
  },
  {
   "cell_type": "markdown",
   "metadata": {},
   "source": [
    "解决方案：将字节数据直接写入文件的缓冲区即可"
   ]
  },
  {
   "cell_type": "code",
   "execution_count": 22,
   "metadata": {},
   "outputs": [
    {
     "name": "stdout",
     "output_type": "stream",
     "text": [
      "hello\n"
     ]
    }
   ],
   "source": [
    "import sys\n",
    "\n",
    "sys.stdout.write(b'hello\\n')"
   ]
  },
  {
   "cell_type": "code",
   "execution_count": 23,
   "metadata": {},
   "outputs": [
    {
     "ename": "AttributeError",
     "evalue": "'OutStream' object has no attribute 'buffer'",
     "output_type": "error",
     "traceback": [
      "\u001b[1;31m---------------------------------------------------------------------------\u001b[0m",
      "\u001b[1;31mAttributeError\u001b[0m                            Traceback (most recent call last)",
      "\u001b[1;32m<ipython-input-23-7716b18a2f15>\u001b[0m in \u001b[0;36m<module>\u001b[1;34m\u001b[0m\n\u001b[1;32m----> 1\u001b[1;33m \u001b[0msys\u001b[0m\u001b[1;33m.\u001b[0m\u001b[0mstdout\u001b[0m\u001b[1;33m.\u001b[0m\u001b[0mbuffer\u001b[0m\u001b[1;33m.\u001b[0m\u001b[0mwrite\u001b[0m\u001b[1;33m(\u001b[0m\u001b[1;34mb'hello\\n'\u001b[0m\u001b[1;33m)\u001b[0m\u001b[1;33m\u001b[0m\u001b[1;33m\u001b[0m\u001b[0m\n\u001b[0m",
      "\u001b[1;31mAttributeError\u001b[0m: 'OutStream' object has no attribute 'buffer'"
     ]
    }
   ],
   "source": [
    "sys.stdout.buffer.write(b'hello\\n')"
   ]
  },
  {
   "cell_type": "markdown",
   "metadata": {},
   "source": [
    "IO系统以层级结构的形式构建而成，文本文件是通过在一个拥有缓冲的二进制模式文件上增加一个Unicode编码解码层来创建\n",
    "buffer属性指向对应的底层文件，如果你直接来访问它的话就会绕过文本编码解码层"
   ]
  },
  {
   "cell_type": "markdown",
   "metadata": {},
   "source": [
    "默认情况下，sys.stdout总是以文本模式打开的，但是如果你写在一个需要打印二进制数据到标准输出的脚本的话，你可以使用\n",
    "上面演示的技术绕过文本编码层"
   ]
  },
  {
   "cell_type": "markdown",
   "metadata": {},
   "source": [
    "5.18 将文件描述符包装成文件对象"
   ]
  },
  {
   "cell_type": "code",
   "execution_count": 201,
   "metadata": {},
   "outputs": [],
   "source": [
    "#......."
   ]
  },
  {
   "cell_type": "markdown",
   "metadata": {},
   "source": [
    "## 5.19 创建临时文件和文件夹"
   ]
  },
  {
   "cell_type": "markdown",
   "metadata": {},
   "source": [
    "问题：你需要在程序执行时创建一个临时文件或目录，并希望使完之后可以自动销毁掉"
   ]
  },
  {
   "cell_type": "markdown",
   "metadata": {},
   "source": [
    "解决方案：tempfile模块中很有多的函数可以完成这任务，为了创建一个匿名的临时文件，可以使用tempfile.TemporaryFile"
   ]
  },
  {
   "cell_type": "code",
   "execution_count": 203,
   "metadata": {},
   "outputs": [],
   "source": [
    "from tempfile import TemporaryFile\n",
    "\n",
    "with TemporaryFile('w+t') as f:\n",
    "    # Read/write to the file\n",
    "    f.write('Hello World\\n')\n",
    "    f.write('Testing\\n')\n",
    "    \n",
    "    # Seek back to beginning and read the data 回到起始位置并读取数据\n",
    "    f.seek(0)\n",
    "    data = f.read()\n",
    "    \n",
    "#Temporacy file is destroyed"
   ]
  },
  {
   "cell_type": "code",
   "execution_count": 204,
   "metadata": {},
   "outputs": [],
   "source": [
    "# 或者这样使用临时文件\n",
    "\n",
    "f = TemporaryFile('w+t') # 第一个参数是文件模式，通常来讲文本模式使用w+t，二进制模式使用w+b,都是同事支持读和写操作，其他参数同open\n",
    "# Use the temporary file\n",
    "#...\n",
    "f.close()\n",
    "# file is destroyed"
   ]
  },
  {
   "cell_type": "code",
   "execution_count": 205,
   "metadata": {},
   "outputs": [
    {
     "name": "stdout",
     "output_type": "stream",
     "text": [
      "filename is: C:\\Users\\86138\\AppData\\Local\\Temp\\tmpfs4gqg4g\n"
     ]
    }
   ],
   "source": [
    "# 大多数Unix系统上，通过TemporaryFile创建的文件都是匿名的，甚至连目录都没有，如果想打破这个限制\n",
    "#可以使用NamedTemporaryFile来代替\n",
    "\n",
    "from tempfile import NamedTemporaryFile\n",
    "\n",
    "with NamedTemporaryFile('w+t') as f: \n",
    "#with NameTemporaryFile('w+t', delete=False) as f: # 使用后不销毁\n",
    "    print('filename is:', f.name)\n",
    "    \n",
    "# File automatically destroyed"
   ]
  },
  {
   "cell_type": "code",
   "execution_count": 206,
   "metadata": {},
   "outputs": [
    {
     "name": "stdout",
     "output_type": "stream",
     "text": [
      "dirname is : C:\\Users\\86138\\AppData\\Local\\Temp\\tmp7cc4ye8y\n"
     ]
    }
   ],
   "source": [
    "#创建一个临时目录，可以使用tempfile.TemporaryDirectory\n",
    "\n",
    "from tempfile import TemporaryDirectory\n",
    "\n",
    "with TemporaryDirectory() as dirname:\n",
    "    print('dirname is :', dirname)\n",
    "    pass\n",
    "#Directory and all contents destroyed"
   ]
  },
  {
   "cell_type": "code",
   "execution_count": 207,
   "metadata": {},
   "outputs": [
    {
     "data": {
      "text/plain": [
       "(4, 'C:\\\\Users\\\\86138\\\\AppData\\\\Local\\\\Temp\\\\tmp5c4r1qx3')"
      ]
     },
     "execution_count": 207,
     "metadata": {},
     "output_type": "execute_result"
    }
   ],
   "source": [
    "#以上三个函数应该是处理临时文件目录的最简单的方式了，因为他们会自动处理所有的创建和清理步骤\n",
    "#在更低的级别，你可以使用mkstemp和mkdtemp来创建临时文件和目录\n",
    "#msktemp仅仅就返回一个原始OS文件描述符，你需要自己将它转换为一个真正的文件对象，同样你需要自己清理这些文件\n",
    "#通常来讲，临时文件在系统默认的位置被创建\n",
    "import tempfile\n",
    "\n",
    "tempfile.mkstemp()"
   ]
  },
  {
   "cell_type": "code",
   "execution_count": 208,
   "metadata": {},
   "outputs": [
    {
     "data": {
      "text/plain": [
       "'C:\\\\Users\\\\86138\\\\AppData\\\\Local\\\\Temp\\\\tmp5w54mnmw'"
      ]
     },
     "execution_count": 208,
     "metadata": {},
     "output_type": "execute_result"
    }
   ],
   "source": [
    "tempfile.mkdtemp()"
   ]
  },
  {
   "cell_type": "code",
   "execution_count": 209,
   "metadata": {},
   "outputs": [
    {
     "data": {
      "text/plain": [
       "'C:\\\\Users\\\\86138\\\\AppData\\\\Local\\\\Temp'"
      ]
     },
     "execution_count": 209,
     "metadata": {},
     "output_type": "execute_result"
    }
   ],
   "source": [
    "tempfile.gettempdir()"
   ]
  },
  {
   "cell_type": "code",
   "execution_count": 210,
   "metadata": {},
   "outputs": [
    {
     "ename": "FileNotFoundError",
     "evalue": "[Errno 2] No such file or directory: '/tmp\\\\mytempqx6s7rms.txt'",
     "output_type": "error",
     "traceback": [
      "\u001b[1;31m---------------------------------------------------------------------------\u001b[0m",
      "\u001b[1;31mFileNotFoundError\u001b[0m                         Traceback (most recent call last)",
      "\u001b[1;32m<ipython-input-210-25184132233c>\u001b[0m in \u001b[0;36m<module>\u001b[1;34m\u001b[0m\n\u001b[0;32m      1\u001b[0m \u001b[1;31m#所有和临时文件相关的函数都允许你通过使用关键字参数prefix, suffix, dir来自定义目录以及命名规则\u001b[0m\u001b[1;33m\u001b[0m\u001b[1;33m\u001b[0m\u001b[1;33m\u001b[0m\u001b[0m\n\u001b[0;32m      2\u001b[0m \u001b[1;33m\u001b[0m\u001b[0m\n\u001b[1;32m----> 3\u001b[1;33m \u001b[0mf\u001b[0m \u001b[1;33m=\u001b[0m \u001b[0mNamedTemporaryFile\u001b[0m\u001b[1;33m(\u001b[0m\u001b[0mprefix\u001b[0m\u001b[1;33m=\u001b[0m\u001b[1;34m'mytemp'\u001b[0m\u001b[1;33m,\u001b[0m \u001b[0msuffix\u001b[0m\u001b[1;33m=\u001b[0m\u001b[1;34m'.txt'\u001b[0m\u001b[1;33m,\u001b[0m \u001b[0mdir\u001b[0m\u001b[1;33m=\u001b[0m\u001b[1;34m'/tmp'\u001b[0m\u001b[1;33m)\u001b[0m\u001b[1;33m\u001b[0m\u001b[1;33m\u001b[0m\u001b[0m\n\u001b[0m\u001b[0;32m      4\u001b[0m \u001b[0mf\u001b[0m\u001b[1;33m.\u001b[0m\u001b[0mname\u001b[0m\u001b[1;33m\u001b[0m\u001b[1;33m\u001b[0m\u001b[0m\n",
      "\u001b[1;32mD:\\ssoftware\\anaconda\\lib\\tempfile.py\u001b[0m in \u001b[0;36mNamedTemporaryFile\u001b[1;34m(mode, buffering, encoding, newline, suffix, prefix, dir, delete)\u001b[0m\n\u001b[0;32m    549\u001b[0m         \u001b[0mflags\u001b[0m \u001b[1;33m|=\u001b[0m \u001b[0m_os\u001b[0m\u001b[1;33m.\u001b[0m\u001b[0mO_TEMPORARY\u001b[0m\u001b[1;33m\u001b[0m\u001b[1;33m\u001b[0m\u001b[0m\n\u001b[0;32m    550\u001b[0m \u001b[1;33m\u001b[0m\u001b[0m\n\u001b[1;32m--> 551\u001b[1;33m     \u001b[1;33m(\u001b[0m\u001b[0mfd\u001b[0m\u001b[1;33m,\u001b[0m \u001b[0mname\u001b[0m\u001b[1;33m)\u001b[0m \u001b[1;33m=\u001b[0m \u001b[0m_mkstemp_inner\u001b[0m\u001b[1;33m(\u001b[0m\u001b[0mdir\u001b[0m\u001b[1;33m,\u001b[0m \u001b[0mprefix\u001b[0m\u001b[1;33m,\u001b[0m \u001b[0msuffix\u001b[0m\u001b[1;33m,\u001b[0m \u001b[0mflags\u001b[0m\u001b[1;33m,\u001b[0m \u001b[0moutput_type\u001b[0m\u001b[1;33m)\u001b[0m\u001b[1;33m\u001b[0m\u001b[1;33m\u001b[0m\u001b[0m\n\u001b[0m\u001b[0;32m    552\u001b[0m     \u001b[1;32mtry\u001b[0m\u001b[1;33m:\u001b[0m\u001b[1;33m\u001b[0m\u001b[1;33m\u001b[0m\u001b[0m\n\u001b[0;32m    553\u001b[0m         file = _io.open(fd, mode, buffering=buffering,\n",
      "\u001b[1;32mD:\\ssoftware\\anaconda\\lib\\tempfile.py\u001b[0m in \u001b[0;36m_mkstemp_inner\u001b[1;34m(dir, pre, suf, flags, output_type)\u001b[0m\n\u001b[0;32m    260\u001b[0m         \u001b[0mfile\u001b[0m \u001b[1;33m=\u001b[0m \u001b[0m_os\u001b[0m\u001b[1;33m.\u001b[0m\u001b[0mpath\u001b[0m\u001b[1;33m.\u001b[0m\u001b[0mjoin\u001b[0m\u001b[1;33m(\u001b[0m\u001b[0mdir\u001b[0m\u001b[1;33m,\u001b[0m \u001b[0mpre\u001b[0m \u001b[1;33m+\u001b[0m \u001b[0mname\u001b[0m \u001b[1;33m+\u001b[0m \u001b[0msuf\u001b[0m\u001b[1;33m)\u001b[0m\u001b[1;33m\u001b[0m\u001b[1;33m\u001b[0m\u001b[0m\n\u001b[0;32m    261\u001b[0m         \u001b[1;32mtry\u001b[0m\u001b[1;33m:\u001b[0m\u001b[1;33m\u001b[0m\u001b[1;33m\u001b[0m\u001b[0m\n\u001b[1;32m--> 262\u001b[1;33m             \u001b[0mfd\u001b[0m \u001b[1;33m=\u001b[0m \u001b[0m_os\u001b[0m\u001b[1;33m.\u001b[0m\u001b[0mopen\u001b[0m\u001b[1;33m(\u001b[0m\u001b[0mfile\u001b[0m\u001b[1;33m,\u001b[0m \u001b[0mflags\u001b[0m\u001b[1;33m,\u001b[0m \u001b[1;36m0o600\u001b[0m\u001b[1;33m)\u001b[0m\u001b[1;33m\u001b[0m\u001b[1;33m\u001b[0m\u001b[0m\n\u001b[0m\u001b[0;32m    263\u001b[0m         \u001b[1;32mexcept\u001b[0m \u001b[0mFileExistsError\u001b[0m\u001b[1;33m:\u001b[0m\u001b[1;33m\u001b[0m\u001b[1;33m\u001b[0m\u001b[0m\n\u001b[0;32m    264\u001b[0m             \u001b[1;32mcontinue\u001b[0m    \u001b[1;31m# try again\u001b[0m\u001b[1;33m\u001b[0m\u001b[1;33m\u001b[0m\u001b[0m\n",
      "\u001b[1;31mFileNotFoundError\u001b[0m: [Errno 2] No such file or directory: '/tmp\\\\mytempqx6s7rms.txt'"
     ]
    }
   ],
   "source": [
    "#所有和临时文件相关的函数都允许你通过使用关键字参数prefix, suffix, dir来自定义目录以及命名规则\n",
    "\n",
    "f = NamedTemporaryFile(prefix='mytemp', suffix='.txt', dir='/tmp') # 前缀 后缀 目录\n",
    "f.name"
   ]
  },
  {
   "cell_type": "markdown",
   "metadata": {},
   "source": [
    "## 5.20 与串行端口的数据通信"
   ]
  },
  {
   "cell_type": "markdown",
   "metadata": {},
   "source": [
    "问题：你想通过串行端口读写数据，典型场景就是和一些硬件设备打交道"
   ]
  },
  {
   "cell_type": "markdown",
   "metadata": {},
   "source": [
    "解决方案：pySerial"
   ]
  },
  {
   "cell_type": "code",
   "execution_count": null,
   "metadata": {},
   "outputs": [],
   "source": [
    "import serial\n",
    "ser = serial.Serial(\n",
    "    '0',\n",
    "    baudrate=9600,\n",
    "    parity='N',\n",
    "    stopbits=1\n",
    "                   )\n",
    "# 一旦端口打开，那就可以使用read(), readline(), write()\n",
    "#注意所有涉及到串口的IO都是二进制模式的，因为，确保你的代码使用的是字节而不是文本，或有时候执行文本的编码解码操作\n",
    "#另外当你需要创建二进制编码的指令或数据包的时候，struct模块也是非常有用的"
   ]
  },
  {
   "cell_type": "markdown",
   "metadata": {},
   "source": [
    "## 5.21 序列化python对象"
   ]
  },
  {
   "cell_type": "markdown",
   "metadata": {},
   "source": [
    "问题：你需要将一个python对象序列化为一个字节流，以便将它保存到一个文件，存储到数据库或者通过网络传输它 "
   ]
  },
  {
   "cell_type": "markdown",
   "metadata": {},
   "source": [
    "解决方案：对于序列化最普遍的做法就是使用pickle模块，为了将一个对象保存到一个文件中"
   ]
  },
  {
   "cell_type": "code",
   "execution_count": 219,
   "metadata": {},
   "outputs": [],
   "source": [
    "import pickle\n",
    "\n",
    "data = 'liugang'\n",
    "f = open('somfile.pi', 'wb')\n",
    "pickle.dump(data, f) # 为了将一个对象转储一个字符串\n",
    "s = pickle.dumps(data)"
   ]
  },
  {
   "cell_type": "code",
   "execution_count": 221,
   "metadata": {},
   "outputs": [],
   "source": [
    "f = open('somfile.pi', 'rb')\n",
    "data = pickle.load(f) # Read and return an object from the pickle data stored in a file.\n",
    "\n",
    "data = pickle.loads(s) # Read and return an object from the given pickle data."
   ]
  },
  {
   "cell_type": "code",
   "execution_count": 222,
   "metadata": {},
   "outputs": [
    {
     "data": {
      "text/plain": [
       "[1, 2, 3, 4]"
      ]
     },
     "execution_count": 222,
     "metadata": {},
     "output_type": "execute_result"
    }
   ],
   "source": [
    "#如果你碰到某个库可以让你数据库中保存 恢复 python对象或者通过网络传输对象的话，那么很有可能这个库的底层就使用了pickle模块\n",
    "#pickle是一种pyhon特有的自描述的数据编码，通过自描述，被序列化的数据包含每个对象开始和结束以及他的类型信息\n",
    "#如果处理多个对象，你可以这样做\n",
    "\n",
    "import pickle\n",
    "\n",
    "f = open('somedata', 'wb')\n",
    "pickle.dump([1, 2, 3, 4], f)\n",
    "pickle.dump('hello', f)\n",
    "pickle.dump({'Apple', 'Pear', 'Banana'}, f)\n",
    "f.close()\n",
    "f = open('somedata', 'rb')\n",
    "pickle.load(f)"
   ]
  },
  {
   "cell_type": "code",
   "execution_count": 223,
   "metadata": {},
   "outputs": [
    {
     "data": {
      "text/plain": [
       "'hello'"
      ]
     },
     "execution_count": 223,
     "metadata": {},
     "output_type": "execute_result"
    }
   ],
   "source": [
    "pickle.load(f)"
   ]
  },
  {
   "cell_type": "code",
   "execution_count": 224,
   "metadata": {},
   "outputs": [
    {
     "data": {
      "text/plain": [
       "{'Apple', 'Banana', 'Pear'}"
      ]
     },
     "execution_count": 224,
     "metadata": {},
     "output_type": "execute_result"
    }
   ],
   "source": [
    "pickle.load(f)"
   ]
  },
  {
   "cell_type": "code",
   "execution_count": 225,
   "metadata": {},
   "outputs": [
    {
     "data": {
      "text/plain": [
       "b'\\x80\\x03cmath\\ncos\\nq\\x00.'"
      ]
     },
     "execution_count": 225,
     "metadata": {},
     "output_type": "execute_result"
    }
   ],
   "source": [
    "# 你还能序列化函数，类，还有接口，但是结果数据仅仅将他们的名称编码成对应的代码对象\n",
    "\n",
    "import math\n",
    "import pickle\n",
    "\n",
    "pickle.dumps(math.cos)"
   ]
  },
  {
   "cell_type": "code",
   "execution_count": 226,
   "metadata": {},
   "outputs": [],
   "source": [
    "#有些类型的对象是不能被序列化的，这些通常是那些依赖外部系统状态的对象，比如打开的文件，网络连接，线程，进程，\n",
    "#栈帧等等，用户自定义类可以通过提供__getstate__ __setstate__ 方法绕过这些限制，如果定义了这两个方法\n",
    "#pickle.dump就会调用__getstate__获取序列化的对象，类似的，__setstate__在反序列化时被调用\n",
    "\n",
    "import  time\n",
    "import threading\n",
    "\n",
    "class Countdown:\n",
    "    def __init__(self, n):\n",
    "        self.n = n \n",
    "        self.thr = threading.Thread(target=self.run)\n",
    "        self.thr.daemon = True\n",
    "        self.thr.start()\n",
    "        \n",
    "    def run(self):\n",
    "        while self.n > 0:\n",
    "            print('T-minus', self.n)\n",
    "            self.n -= 1\n",
    "            time.sleep(5)\n",
    "            \n",
    "    def __getstate__(self):\n",
    "        return self.n\n",
    "    \n",
    "    def __setstate__(self):\n",
    "        self.__init__(n)"
   ]
  },
  {
   "cell_type": "code",
   "execution_count": 227,
   "metadata": {},
   "outputs": [
    {
     "name": "stdout",
     "output_type": "stream",
     "text": [
      "T-minus 30\n",
      "T-minus 29\n",
      "T-minus 28\n",
      "T-minus 27\n",
      "T-minus 26\n",
      "T-minus 25\n",
      "T-minus 24\n",
      "T-minus 23\n",
      "T-minus 22\n",
      "T-minus 21\n"
     ]
    }
   ],
   "source": [
    "c = Countdown(30)"
   ]
  },
  {
   "cell_type": "code",
   "execution_count": 228,
   "metadata": {},
   "outputs": [
    {
     "name": "stdout",
     "output_type": "stream",
     "text": [
      "T-minus 17\n",
      "T-minus 16\n",
      "T-minus 15\n",
      "T-minus 14\n",
      "T-minus 13\n"
     ]
    }
   ],
   "source": [
    "f = open('cstate.p', 'wb')\n",
    "pickle.dump(c, f)\n",
    "f.close()"
   ]
  },
  {
   "cell_type": "code",
   "execution_count": 229,
   "metadata": {},
   "outputs": [
    {
     "ename": "TypeError",
     "evalue": "__setstate__() takes 1 positional argument but 2 were given",
     "output_type": "error",
     "traceback": [
      "\u001b[1;31m---------------------------------------------------------------------------\u001b[0m",
      "\u001b[1;31mTypeError\u001b[0m                                 Traceback (most recent call last)",
      "\u001b[1;32m<ipython-input-229-0c09823f4899>\u001b[0m in \u001b[0;36m<module>\u001b[1;34m\u001b[0m\n\u001b[0;32m      1\u001b[0m \u001b[0mf\u001b[0m \u001b[1;33m=\u001b[0m \u001b[0mopen\u001b[0m\u001b[1;33m(\u001b[0m\u001b[1;34m'cstate.p'\u001b[0m\u001b[1;33m,\u001b[0m \u001b[1;34m'rb'\u001b[0m\u001b[1;33m)\u001b[0m\u001b[1;33m\u001b[0m\u001b[1;33m\u001b[0m\u001b[0m\n\u001b[1;32m----> 2\u001b[1;33m \u001b[0mpickle\u001b[0m\u001b[1;33m.\u001b[0m\u001b[0mload\u001b[0m\u001b[1;33m(\u001b[0m\u001b[0mf\u001b[0m\u001b[1;33m)\u001b[0m\u001b[1;33m\u001b[0m\u001b[1;33m\u001b[0m\u001b[0m\n\u001b[0m",
      "\u001b[1;31mTypeError\u001b[0m: __setstate__() takes 1 positional argument but 2 were given"
     ]
    },
    {
     "name": "stdout",
     "output_type": "stream",
     "text": [
      "T-minus 10\n",
      "T-minus 9\n",
      "T-minus 8\n",
      "T-minus 7\n",
      "T-minus 6\n",
      "T-minus 5\n",
      "T-minus 4\n",
      "T-minus 3\n",
      "T-minus 2\n",
      "T-minus 1\n"
     ]
    }
   ],
   "source": [
    "f = open('cstate.p', 'rb')\n",
    "pickle.load(f)"
   ]
  },
  {
   "cell_type": "markdown",
   "metadata": {},
   "source": [
    "pickle对于大型的数据结构比如使用array和numpy模块创建的二进制数组效率并不是一个高效的编码方式，如果你需要移动大量的\n",
    "数组数据，你最好是先在一个文件中将其保存为数组数据或使用高级的标准编码方式，如HDF5"
   ]
  },
  {
   "cell_type": "markdown",
   "metadata": {},
   "source": [
    "长时间储存数据的时候不应该选用它，建议使用标准格式XML CSV JSON,其次pickle有大量的配置选项和一些棘手的问题"
   ]
  },
  {
   "cell_type": "code",
   "execution_count": null,
   "metadata": {},
   "outputs": [],
   "source": []
  }
 ],
 "metadata": {
  "kernelspec": {
   "display_name": "Python 3",
   "language": "python",
   "name": "python3"
  },
  "language_info": {
   "codemirror_mode": {
    "name": "ipython",
    "version": 3
   },
   "file_extension": ".py",
   "mimetype": "text/x-python",
   "name": "python",
   "nbconvert_exporter": "python",
   "pygments_lexer": "ipython3",
   "version": "3.6.8"
  }
 },
 "nbformat": 4,
 "nbformat_minor": 2
}
