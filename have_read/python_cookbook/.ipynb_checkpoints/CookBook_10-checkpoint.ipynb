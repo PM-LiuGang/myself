{
 "cells": [
  {
   "cell_type": "markdown",
   "metadata": {},
   "source": [
    "# 模块与包"
   ]
  },
  {
   "cell_type": "markdown",
   "metadata": {},
   "source": [
    "你想将你的代码组织成由很多分层模块构成的包"
   ]
  },
  {
   "cell_type": "markdown",
   "metadata": {},
   "source": [
    "封装成包是很简单的。在文件系统上组织你的代码，并确保每个目录都定义了一个\n",
    "__init__.py 文件"
   ]
  },
  {
   "cell_type": "markdown",
   "metadata": {},
   "source": [
    "graphics/\n",
    "\n",
    "    __init__.py\n",
    "    \n",
    "    primitive/\n",
    "    \n",
    "        __init__.py\n",
    "        \n",
    "        line.py\n",
    "        \n",
    "        fill.py\n",
    "        \n",
    "        text.py\n",
    "        \n",
    "    formats/\n",
    "    \n",
    "        __init__.py\n",
    "        \n",
    "        png.py\n",
    "        \n",
    "        jpg.py"
   ]
  },
  {
   "cell_type": "code",
   "execution_count": null,
   "metadata": {},
   "outputs": [],
   "source": [
    "\"\"\"\n",
    "import graphics.primitive.line\n",
    "from graphics.primitive import line\n",
    "import graphics.formats.jpg as jps\n",
    "\n",
    "定义模块的层次结构就像在文件系统上建立目录结构一样容易。文件 __init__.py\n",
    "的目的是要包含不同运行级别的包的可选的初始化代码。举个例子，如果你执行了语句\n",
    "import graphics，文件 graphics/__init__.py 将被导入, 建立 graphics 命名空间的内容。\n",
    "像 import graphics.format.jpg 这样导入，文件 graphics/__init__.py 和文件 graphics/\n",
    "formats/__init__.py 将在文件 graphics/formats/jpg.py 导入之前导入。\n",
    "绝大部分时候让 __init__.py 空着就好。但是有些情况下可能包含代码。举个例\n",
    "子，__init__.py 能够用来自动加载子模块:\n",
    "\"\"\""
   ]
  },
  {
   "cell_type": "markdown",
   "metadata": {},
   "source": [
    "## 控制模块被全部导入的内容"
   ]
  },
  {
   "cell_type": "markdown",
   "metadata": {},
   "source": [
    "当使用’from module import *’语句时，希望对从模块或包导出的符号进行精确\n",
    "控制"
   ]
  },
  {
   "cell_type": "markdown",
   "metadata": {},
   "source": [
    "在你的模块中定义一个变量 __all__ 来明确地列出需要导出的内容"
   ]
  },
  {
   "cell_type": "code",
   "execution_count": 1,
   "metadata": {},
   "outputs": [],
   "source": [
    "# somemodule.py\n",
    "\n",
    "def spam():\n",
    "    pass\n",
    "\n",
    "def grok():\n",
    "    pass\n",
    "\n",
    "blash = 42\n",
    "\n",
    "# Only export 'spam' and 'grok'\n",
    "__all__ = ['spam', 'grok']"
   ]
  },
  {
   "cell_type": "markdown",
   "metadata": {},
   "source": [
    "尽管强烈反对使用‘from module import *’, 但是在定义了大量变量名的模块中\n",
    "频繁使用。如果你不做任何事, 这样的导入将会导入所有不以下划线开头的。另一方面,\n",
    "如果定义了 __all__ , 那么只有被列举出的东西会被导出。\n",
    "\n",
    "如果你将 __all__ 定义成一个空列表, 没有东西将被导入。如果 __all__ 包含未\n",
    "定义的名字, 在导入时引起 AttributeError"
   ]
  },
  {
   "cell_type": "markdown",
   "metadata": {},
   "source": [
    "## 使用相对路径名导入包中子模块"
   ]
  },
  {
   "cell_type": "markdown",
   "metadata": {},
   "source": [
    "将代码组织成包, 想用 import 语句从另一个包名没有硬编码过的包的中导入子模块"
   ]
  },
  {
   "cell_type": "markdown",
   "metadata": {},
   "source": [
    "使用包的相对导入，使一个模块导入同一个包的另一个模块举个例子，假设在你的文件系统上有 mypackage 包，组织如下"
   ]
  },
  {
   "cell_type": "markdown",
   "metadata": {},
   "source": [
    "mypackage/\n",
    "\n",
    "    __init__.py\n",
    "    \n",
    "    A/\n",
    "            __init__.py\n",
    "            \n",
    "            spam.py\n",
    "            \n",
    "            grok.py\n",
    "    B/\n",
    "            \n",
    "            __init__.py\n",
    "            \n",
    "            bar.py"
   ]
  },
  {
   "cell_type": "markdown",
   "metadata": {},
   "source": [
    "如果模块mypackage.A.spam要导入同目录下的模块grok，它应该包括的import语句如下"
   ]
  },
  {
   "cell_type": "code",
   "execution_count": 2,
   "metadata": {},
   "outputs": [],
   "source": [
    "# mypackage/a/spam.py\n",
    "from . import grok"
   ]
  },
  {
   "cell_type": "markdown",
   "metadata": {},
   "source": [
    "如果模块 mypackage.A.spamm要导入不同目录下的模块B.bar，它应该使用的import 语句如下"
   ]
  },
  {
   "cell_type": "code",
   "execution_count": null,
   "metadata": {},
   "outputs": [],
   "source": [
    "# mypackage/a/spam.py\n",
    "from ..B import bar"
   ]
  },
  {
   "cell_type": "markdown",
   "metadata": {},
   "source": [
    "两个 import 语句都没包含顶层包名，而是使用了 spam.py 的相对路径"
   ]
  },
  {
   "cell_type": "markdown",
   "metadata": {},
   "source": [
    "在包内，既可以使用相对路径也可以使用绝对路径来导入。举个例子"
   ]
  },
  {
   "cell_type": "code",
   "execution_count": null,
   "metadata": {},
   "outputs": [],
   "source": [
    "# mypack/A/spam.py\n",
    "from mypackage.A import grok\n",
    "from . import grok\n",
    "import grok # Error -> not found"
   ]
  },
  {
   "cell_type": "markdown",
   "metadata": {},
   "source": [
    "像 mypackage.A 这样使用绝对路径名的不利之处是这将顶层包名硬编码到你的源码中。如果你想重新组织它，你的代码将更脆，很难工作。举个例子，如果你改变了包名，你就必须检查所有文件来修正源码。同样，硬编码的名称会使移动代码变得困难。\n",
    "\n",
    "举个例子，也许有人想安装两个不同版本的软件包，只通过名称区分它们。如果使用相\n",
    "对导入，那一切都 ok，然而使用绝对路径名很可能会出问题。\n",
    "\n",
    "import 语句的 . 和 .. 看起来很滑稽, 但它指定目录名. 为当前目录，..B 为目录../\n",
    "B。这种语法只适用于 import。举个例子："
   ]
  },
  {
   "cell_type": "code",
   "execution_count": null,
   "metadata": {},
   "outputs": [],
   "source": [
    "from . import grok # ok\n",
    "import .grok # error"
   ]
  },
  {
   "cell_type": "code",
   "execution_count": 5,
   "metadata": {},
   "outputs": [
    {
     "data": {
      "text/plain": [
       "113"
      ]
     },
     "execution_count": 5,
     "metadata": {},
     "output_type": "execute_result"
    }
   ],
   "source": [
    "6 * 9 * 2 + 5"
   ]
  },
  {
   "cell_type": "code",
   "execution_count": null,
   "metadata": {},
   "outputs": [],
   "source": [
    "$ python3 mypackage/A/spam.py # relative import fail\n",
    "$ python3 -m mypackage.A.spam # relative import work"
   ]
  },
  {
   "cell_type": "markdown",
   "metadata": {},
   "source": [
    "## 将模块分割成多个文件"
   ]
  },
  {
   "cell_type": "markdown",
   "metadata": {},
   "source": [
    "..........."
   ]
  },
  {
   "cell_type": "markdown",
   "metadata": {},
   "source": [
    "## 利用命名空间导入目录分散的代码"
   ]
  },
  {
   "cell_type": "markdown",
   "metadata": {},
   "source": [
    "................"
   ]
  },
  {
   "cell_type": "markdown",
   "metadata": {},
   "source": [
    "## 重新加载模块"
   ]
  },
  {
   "cell_type": "markdown",
   "metadata": {},
   "source": [
    "你想重新加载已经加载的模块，因为你对其源码进行了修改"
   ]
  },
  {
   "cell_type": "markdown",
   "metadata": {},
   "source": [
    "使用 imp.reload() 来重新加载先前加载的模块。举个例子"
   ]
  },
  {
   "cell_type": "code",
   "execution_count": null,
   "metadata": {},
   "outputs": [],
   "source": [
    "import spam\n",
    "import imp\n",
    "\n",
    "imp.reload(spam)"
   ]
  },
  {
   "cell_type": "markdown",
   "metadata": {},
   "source": [
    "## 运行目录或压缩文件"
   ]
  },
  {
   "cell_type": "code",
   "execution_count": null,
   "metadata": {},
   "outputs": [],
   "source": [
    "'''\n",
    "spam.py\n",
    "def bar():\n",
    "    print('bar')\n",
    "    \n",
    "def grok():\n",
    "    print('grok')\n",
    "    \n",
    "import spam\n",
    "from spam import grok\n",
    "spam.bar()\n",
    "out:bar\n",
    "grok()\n",
    "out:grok\n",
    "\n",
    "# modify\n",
    "def grok():\n",
    "    print('New grok')\n",
    "\n",
    "import imp\n",
    "imp.reload(spam)\n",
    "spam.bar()\n",
    "out:bar\n",
    "grok()\n",
    "out:grok\n",
    "spam.grok()\n",
    "out:New grok\n",
    "'''"
   ]
  },
  {
   "cell_type": "markdown",
   "metadata": {},
   "source": [
    "在这个例子中，你看到有 2 个版本的 grok() 函数被加载。通常来说，这不是你想要的，而是令人头疼的事。\n",
    "\n",
    "因此，在生产环境中可能需要避免重新加载模块。在交互环境下调试，解释程序并试图弄懂它"
   ]
  },
  {
   "cell_type": "markdown",
   "metadata": {},
   "source": [
    "## 运行目录或压缩文件"
   ]
  },
  {
   "cell_type": "markdown",
   "metadata": {},
   "source": [
    "您有一个已成长为包含多个文件的应用，它已远不再是一个简单的脚本，你想向用\n",
    "户提供一些简单的方法运行这个程序"
   ]
  },
  {
   "cell_type": "markdown",
   "metadata": {},
   "source": [
    "如果你的应用程序已经有多个文件，你可以把你的应用程序放进它自己的目录并\n",
    "添加一个 __main__.py 文件。举个例子，你可以像这样创建目录"
   ]
  },
  {
   "cell_type": "code",
   "execution_count": null,
   "metadata": {},
   "outputs": [],
   "source": [
    "myapplication/\n",
    "    spam.py\n",
    "    bar.py\n",
    "    grok.py\n",
    "    __main__.py"
   ]
  },
  {
   "cell_type": "markdown",
   "metadata": {},
   "source": [
    "如果 __main__.py 存在，你可以简单地在顶级目录运行 Python 解释器："
   ]
  },
  {
   "cell_type": "markdown",
   "metadata": {},
   "source": [
    "bash % python3 myapplication"
   ]
  },
  {
   "cell_type": "markdown",
   "metadata": {},
   "source": [
    "解释器将执行 __main__.py 文件作为主程序。\n",
    "如果你将你的代码打包成 zip 文件，这种技术同样也适用，举个例子："
   ]
  },
  {
   "cell_type": "code",
   "execution_count": null,
   "metadata": {},
   "outputs": [],
   "source": [
    "bash % ls\n",
    "spam.py bar.py grok.py __main__.py\n",
    "bash % zip -r myapp.zip *.py\n",
    "bash % python3 myapp.zip\n",
    "... output from __main__.py .."
   ]
  },
  {
   "cell_type": "code",
   "execution_count": null,
   "metadata": {},
   "outputs": [],
   "source": [
    "创建一个目录或 zip 文件并添加 __main__.py 文件来将一个更大的 Python 应用\n",
    "打包是可行的。这和作为标准库被安装到 Python 库的代码包是有一点区别的。相反，\n",
    "这只是让别人执行的代码包。\n",
    "由于目录和 zip 文件与正常文件有一点不同，你可能还需要增加一个 shell 脚本，\n",
    "使执行更加容易。例如，如果代码文件名为 myapp.zip，你可以创建这样一个顶级脚本：\n",
    "#!/usr/bin/env python3 /usr/local/bin/myapp.zip"
   ]
  },
  {
   "cell_type": "markdown",
   "metadata": {},
   "source": [
    "## 读取位于包中的数据文件"
   ]
  },
  {
   "cell_type": "markdown",
   "metadata": {},
   "source": [
    "你的包中包含代码需要去读取的数据文件。你需要尽可能地用最便捷的方式来做\n",
    "这件事"
   ]
  },
  {
   "cell_type": "markdown",
   "metadata": {},
   "source": [
    "假设你的包中的文件组织成如下"
   ]
  },
  {
   "cell_type": "code",
   "execution_count": null,
   "metadata": {},
   "outputs": [],
   "source": [
    "mypackage/\n",
    "    _init__.py\n",
    "    somedata.dat\n",
    "    spam.py"
   ]
  },
  {
   "cell_type": "markdown",
   "metadata": {},
   "source": [
    "现在假设 spam.py 文件需要读取 somedata.dat 文件中的内容。你可以用以下代码\n",
    "来完成"
   ]
  },
  {
   "cell_type": "code",
   "execution_count": 2,
   "metadata": {},
   "outputs": [
    {
     "ename": "AttributeError",
     "evalue": "'NoneType' object has no attribute 'startswith'",
     "output_type": "error",
     "traceback": [
      "\u001b[1;31m---------------------------------------------------------------------------\u001b[0m",
      "\u001b[1;31mAttributeError\u001b[0m                            Traceback (most recent call last)",
      "\u001b[1;32m<ipython-input-2-a7b613483daf>\u001b[0m in \u001b[0;36m<module>\u001b[1;34m\u001b[0m\n\u001b[0;32m      2\u001b[0m \u001b[1;33m\u001b[0m\u001b[0m\n\u001b[0;32m      3\u001b[0m \u001b[1;32mimport\u001b[0m \u001b[0mpkgutil\u001b[0m\u001b[1;33m\u001b[0m\u001b[1;33m\u001b[0m\u001b[0m\n\u001b[1;32m----> 4\u001b[1;33m \u001b[0mdata\u001b[0m \u001b[1;33m=\u001b[0m \u001b[0mpkgutil\u001b[0m\u001b[1;33m.\u001b[0m\u001b[0mget_data\u001b[0m\u001b[1;33m(\u001b[0m\u001b[0m__package__\u001b[0m\u001b[1;33m,\u001b[0m \u001b[1;34m'stocks.csv'\u001b[0m\u001b[1;33m)\u001b[0m\u001b[1;33m\u001b[0m\u001b[1;33m\u001b[0m\u001b[0m\n\u001b[0m",
      "\u001b[1;32mD:\\ssoftware\\anaconda\\lib\\pkgutil.py\u001b[0m in \u001b[0;36mget_data\u001b[1;34m(package, resource)\u001b[0m\n\u001b[0;32m    614\u001b[0m     \"\"\"\n\u001b[0;32m    615\u001b[0m \u001b[1;33m\u001b[0m\u001b[0m\n\u001b[1;32m--> 616\u001b[1;33m     \u001b[0mspec\u001b[0m \u001b[1;33m=\u001b[0m \u001b[0mimportlib\u001b[0m\u001b[1;33m.\u001b[0m\u001b[0mutil\u001b[0m\u001b[1;33m.\u001b[0m\u001b[0mfind_spec\u001b[0m\u001b[1;33m(\u001b[0m\u001b[0mpackage\u001b[0m\u001b[1;33m)\u001b[0m\u001b[1;33m\u001b[0m\u001b[1;33m\u001b[0m\u001b[0m\n\u001b[0m\u001b[0;32m    617\u001b[0m     \u001b[1;32mif\u001b[0m \u001b[0mspec\u001b[0m \u001b[1;32mis\u001b[0m \u001b[1;32mNone\u001b[0m\u001b[1;33m:\u001b[0m\u001b[1;33m\u001b[0m\u001b[1;33m\u001b[0m\u001b[0m\n\u001b[0;32m    618\u001b[0m         \u001b[1;32mreturn\u001b[0m \u001b[1;32mNone\u001b[0m\u001b[1;33m\u001b[0m\u001b[1;33m\u001b[0m\u001b[0m\n",
      "\u001b[1;32mD:\\ssoftware\\anaconda\\lib\\importlib\\util.py\u001b[0m in \u001b[0;36mfind_spec\u001b[1;34m(name, package)\u001b[0m\n\u001b[0;32m     81\u001b[0m \u001b[1;33m\u001b[0m\u001b[0m\n\u001b[0;32m     82\u001b[0m     \"\"\"\n\u001b[1;32m---> 83\u001b[1;33m     \u001b[0mfullname\u001b[0m \u001b[1;33m=\u001b[0m \u001b[0mresolve_name\u001b[0m\u001b[1;33m(\u001b[0m\u001b[0mname\u001b[0m\u001b[1;33m,\u001b[0m \u001b[0mpackage\u001b[0m\u001b[1;33m)\u001b[0m \u001b[1;32mif\u001b[0m \u001b[0mname\u001b[0m\u001b[1;33m.\u001b[0m\u001b[0mstartswith\u001b[0m\u001b[1;33m(\u001b[0m\u001b[1;34m'.'\u001b[0m\u001b[1;33m)\u001b[0m \u001b[1;32melse\u001b[0m \u001b[0mname\u001b[0m\u001b[1;33m\u001b[0m\u001b[1;33m\u001b[0m\u001b[0m\n\u001b[0m\u001b[0;32m     84\u001b[0m     \u001b[1;32mif\u001b[0m \u001b[0mfullname\u001b[0m \u001b[1;32mnot\u001b[0m \u001b[1;32min\u001b[0m \u001b[0msys\u001b[0m\u001b[1;33m.\u001b[0m\u001b[0mmodules\u001b[0m\u001b[1;33m:\u001b[0m\u001b[1;33m\u001b[0m\u001b[1;33m\u001b[0m\u001b[0m\n\u001b[0;32m     85\u001b[0m         \u001b[0mparent_name\u001b[0m \u001b[1;33m=\u001b[0m \u001b[0mfullname\u001b[0m\u001b[1;33m.\u001b[0m\u001b[0mrpartition\u001b[0m\u001b[1;33m(\u001b[0m\u001b[1;34m'.'\u001b[0m\u001b[1;33m)\u001b[0m\u001b[1;33m[\u001b[0m\u001b[1;36m0\u001b[0m\u001b[1;33m]\u001b[0m\u001b[1;33m\u001b[0m\u001b[1;33m\u001b[0m\u001b[0m\n",
      "\u001b[1;31mAttributeError\u001b[0m: 'NoneType' object has no attribute 'startswith'"
     ]
    }
   ],
   "source": [
    "#spam.py\n",
    "\n",
    "import pkgutil\n",
    "data = pkgutil.get_data(__package__, 'stocks.csv')"
   ]
  },
  {
   "cell_type": "markdown",
   "metadata": {},
   "source": [
    "由此产生的变量是包含该文件的原始内容的字节字符串"
   ]
  },
  {
   "cell_type": "markdown",
   "metadata": {},
   "source": [
    "要读取数据文件，你可能会倾向于编写使用内置的 I/ O 功能的代码，如 open()。\n",
    "但是这种方法也有一些问题。\n",
    "\n",
    "首先，一个包对解释器的当前工作目录几乎没有控制权。因此，编程时任何 I/O 操\n",
    "作都必须使用绝对文件名。由于每个模块包含有完整路径的 __file__ 变量，这弄清楚\n",
    "它的路径不是不可能，但它很凌乱。\n",
    "\n",
    "第二，包通常安装作为.zip 或.egg 文件，这些文件并不像在文件系统上的一个普通\n",
    "目录里那样被保存。因此，你试图用 open() 对一个包含数据文件的归档文件进行操作，\n",
    "它根本不会工作。\n",
    "\n",
    "pkgutil.get_data() 函数是一个读取数据文件的高级工具，不用管包是如何安装以\n",
    "及安装在哪。它只是工作并将文件内容以字节字符串返回给你get_data() 的第一个参数是包含包名\n",
    "的字符串。你可以直接使用包名，也可以使\n",
    "用特殊的变量，比如 __package__。第二个参数是包内文件的相对名称。如果有必要，\n",
    "可以使用标准的 Unix 命名规范到不同的目录，只有最后的目录仍然位于包中"
   ]
  },
  {
   "cell_type": "markdown",
   "metadata": {},
   "source": [
    "## 将文件夹加入到 sys.path"
   ]
  },
  {
   "cell_type": "markdown",
   "metadata": {},
   "source": [
    ".........."
   ]
  },
  {
   "cell_type": "code",
   "execution_count": null,
   "metadata": {},
   "outputs": [],
   "source": []
  }
 ],
 "metadata": {
  "kernelspec": {
   "display_name": "Python 3",
   "language": "python",
   "name": "python3"
  },
  "language_info": {
   "codemirror_mode": {
    "name": "ipython",
    "version": 3
   },
   "file_extension": ".py",
   "mimetype": "text/x-python",
   "name": "python",
   "nbconvert_exporter": "python",
   "pygments_lexer": "ipython3",
   "version": "3.6.8"
  }
 },
 "nbformat": 4,
 "nbformat_minor": 2
}
