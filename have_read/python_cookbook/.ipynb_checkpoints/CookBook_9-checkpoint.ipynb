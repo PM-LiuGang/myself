{
 "cells": [
  {
   "cell_type": "markdown",
   "metadata": {},
   "source": [
    "# 元编程"
   ]
  },
  {
   "cell_type": "markdown",
   "metadata": {},
   "source": [
    "## 9.1 在函数上添加包装器"
   ]
  },
  {
   "cell_type": "markdown",
   "metadata": {},
   "source": [
    "你想在函数上添加一个包装器，增加额外的操作处理 (比如日志、计时等)"
   ]
  },
  {
   "cell_type": "markdown",
   "metadata": {},
   "source": [
    "如果你想使用额外的代码包装一个函数，可以定义一个装饰器函数"
   ]
  },
  {
   "cell_type": "code",
   "execution_count": 5,
   "metadata": {},
   "outputs": [],
   "source": [
    "import time\n",
    "from functools import wraps\n",
    "\n",
    "def timethis(func):\n",
    "    '''\n",
    "    Decorator that reports the execution time\n",
    "    '''\n",
    "    @wraps(func)\n",
    "    def wrapper(*args, **kwargs):\n",
    "        start = time.time()\n",
    "        result = func(*args, **kwargs)\n",
    "        end = time.time()\n",
    "        print('Timer function name is {}, cost time {}'.format(func.__name__, end-start))\n",
    "        return result\n",
    "    return wrapper"
   ]
  },
  {
   "cell_type": "code",
   "execution_count": 6,
   "metadata": {},
   "outputs": [
    {
     "name": "stdout",
     "output_type": "stream",
     "text": [
      "Timer function name is countdown, cost time 0.005001068115234375\n"
     ]
    }
   ],
   "source": [
    "@timethis\n",
    "def countdown(n):\n",
    "    while n > 0:\n",
    "        n -= 1\n",
    "countdown(100000)"
   ]
  },
  {
   "cell_type": "code",
   "execution_count": 7,
   "metadata": {},
   "outputs": [
    {
     "name": "stdout",
     "output_type": "stream",
     "text": [
      "Timer function name is countdown, cost time 0.004999637603759766\n"
     ]
    }
   ],
   "source": [
    "countdown(100000)"
   ]
  },
  {
   "cell_type": "markdown",
   "metadata": {},
   "source": [
    "一个装饰器就是一个函数，它接受一个函数作为参数并返回一个新的函数。当你像下面这样写"
   ]
  },
  {
   "cell_type": "code",
   "execution_count": 8,
   "metadata": {},
   "outputs": [],
   "source": [
    "@timethis\n",
    "def countdown(n):\n",
    "    pass\n",
    "\n",
    "# equal\n",
    "def countdown(n):\n",
    "    pass\n",
    "countdown = timethis(countdown)"
   ]
  },
  {
   "cell_type": "markdown",
   "metadata": {},
   "source": [
    "顺便说一下，内置的装饰器比如@staticmethod,@classmethod,@property \n",
    "原理也是一样的。例如，下面这两个代码片段是等价的"
   ]
  },
  {
   "cell_type": "code",
   "execution_count": 9,
   "metadata": {},
   "outputs": [],
   "source": [
    "class A:\n",
    "    @classmethod\n",
    "    def method(cls):\n",
    "        pass\n",
    "    \n",
    "class B:\n",
    "    def method(cls):\n",
    "        pass\n",
    "    method = classmethod(method)"
   ]
  },
  {
   "cell_type": "markdown",
   "metadata": {},
   "source": [
    "在上面的 wrapper() 函数中，装饰器内部定义了一个使用 *args 和 **kwargs 来接受任意参数的函数。在这个函数里面调用了原始函数并将其结果返回，不过你还可以添加其他额外的代码 (比如计时)。然后这个新的函数包装器被作为结果返回来代替原始函数。\n",
    "\n",
    "需要强调的是装饰器并不会修改原始函数的参数签名以及返回值。使用 *args和 **kwargs 目的就是确保任何参数都能适用。而返回结果值基本都是调用原始函数func(*args, **kwargs) 的返回结果，其中 func 就是原始函数。\n",
    "\n",
    "刚开始学习装饰器的时候，会使用一些简单的例子来说明，比如上面演示的这个。不过实际场景使用时，还是有一些细节问题要注意的。比如上面使用 @wraps(func) 注解是很重要的，它能保留原始函数的元数据 (下一小节会讲到)，新手经常会忽略这个细节。接下来的几个小节我们会更加深入的讲解装饰器函数的细节问题，如果你想构造你自己的装饰器函数，需要认真看一下。"
   ]
  },
  {
   "cell_type": "markdown",
   "metadata": {},
   "source": [
    "## 9.2 创建装饰器时保留函数元信息"
   ]
  },
  {
   "cell_type": "markdown",
   "metadata": {},
   "source": [
    "你写了一个装饰器作用在某个函数上，但是这个函数的重要的元信息比如名字、文档字符串、注解和参数签名都丢失了"
   ]
  },
  {
   "cell_type": "markdown",
   "metadata": {},
   "source": [
    "任何时候你定义装饰器的时候，都应该使用 functools 库中的 @wraps 装饰器来注解底层包装函数"
   ]
  },
  {
   "cell_type": "code",
   "execution_count": 10,
   "metadata": {},
   "outputs": [],
   "source": [
    "import time\n",
    "from functools import wraps\n",
    "\n",
    "def timethis(func):\n",
    "    @wraps(func)\n",
    "    def wrapper(*args, **kwargs):\n",
    "        start = time.time()\n",
    "        result = func(*args, **kwargs)\n",
    "        end = time.time()\n",
    "        print(func.__name__, end-start)\n",
    "        return result\n",
    "    return wrapper"
   ]
  },
  {
   "cell_type": "markdown",
   "metadata": {},
   "source": [
    "下面我们使用这个被包装后的函数并检查它的元信息"
   ]
  },
  {
   "cell_type": "code",
   "execution_count": 11,
   "metadata": {},
   "outputs": [],
   "source": [
    "# 元信息 ?\n",
    "# 参数签名信息？\n",
    "\n",
    "@timethis\n",
    "def countdown(n):\n",
    "    while n > 0:\n",
    "        n -= 1"
   ]
  },
  {
   "cell_type": "code",
   "execution_count": 12,
   "metadata": {},
   "outputs": [
    {
     "name": "stdout",
     "output_type": "stream",
     "text": [
      "countdown 0.005000591278076172\n"
     ]
    }
   ],
   "source": [
    "countdown(100000)"
   ]
  },
  {
   "cell_type": "code",
   "execution_count": 13,
   "metadata": {},
   "outputs": [
    {
     "data": {
      "text/plain": [
       "'countdown'"
      ]
     },
     "execution_count": 13,
     "metadata": {},
     "output_type": "execute_result"
    }
   ],
   "source": [
    "countdown.__name__"
   ]
  },
  {
   "cell_type": "code",
   "execution_count": 14,
   "metadata": {},
   "outputs": [],
   "source": [
    "countdown.__doc__"
   ]
  },
  {
   "cell_type": "code",
   "execution_count": 15,
   "metadata": {},
   "outputs": [
    {
     "data": {
      "text/plain": [
       "{}"
      ]
     },
     "execution_count": 15,
     "metadata": {},
     "output_type": "execute_result"
    }
   ],
   "source": [
    "countdown.__annotations__"
   ]
  },
  {
   "cell_type": "markdown",
   "metadata": {},
   "source": [
    "在编写装饰器的时候复制元信息是一个非常重要的部分。如果你忘记了使用 @wraps\n",
    "，那么你会发现被装饰函数丢失了所有有用的信息。比如如果忽略 @wraps 后的效果是\n",
    "下面这样的："
   ]
  },
  {
   "cell_type": "code",
   "execution_count": 16,
   "metadata": {},
   "outputs": [],
   "source": [
    "# 上面的代码没忘记啊，但还是丢失了所有有用的信息"
   ]
  },
  {
   "cell_type": "markdown",
   "metadata": {},
   "source": [
    "@wraps 有一个重要特征是它能让你通过属性 __wrapped__ 直接访问被包装函数"
   ]
  },
  {
   "cell_type": "code",
   "execution_count": 17,
   "metadata": {},
   "outputs": [],
   "source": [
    "countdown.__wrapped__(100000)"
   ]
  },
  {
   "cell_type": "markdown",
   "metadata": {},
   "source": [
    "__wrapped__ 属性还能让被装饰函数正确暴露底层的参数签名信息。例如："
   ]
  },
  {
   "cell_type": "code",
   "execution_count": 18,
   "metadata": {},
   "outputs": [
    {
     "name": "stdout",
     "output_type": "stream",
     "text": [
      "(n)\n"
     ]
    }
   ],
   "source": [
    "from inspect import signature\n",
    "print(signature(countdown))"
   ]
  },
  {
   "cell_type": "markdown",
   "metadata": {},
   "source": [
    "一个很普遍的问题是怎样让装饰器去直接复制原始函数的参数签名信息，如果想\n",
    "自己手动实现的话需要做大量的工作，最好就简单的使用 @wraps 装饰器。通过底层的\n",
    "__wrapped__ 属性访问到函数签名信息"
   ]
  },
  {
   "cell_type": "markdown",
   "metadata": {},
   "source": [
    "## 9.3 解除一个装饰器"
   ]
  },
  {
   "cell_type": "markdown",
   "metadata": {},
   "source": [
    "一个装饰器已经作用在一个函数上，你想撤销它，直接访问原始的未包装的那个函\n",
    "数。"
   ]
  },
  {
   "cell_type": "markdown",
   "metadata": {},
   "source": [
    "假设装饰器是通过 @wraps (参考 9.2 小节) 来实现的，那么你可以通过访问\n",
    "__wrapped__ 属性来访问原始函数"
   ]
  },
  {
   "cell_type": "code",
   "execution_count": 19,
   "metadata": {},
   "outputs": [],
   "source": [
    "@timethis\n",
    "def add(x, y):\n",
    "    return x + y\n"
   ]
  },
  {
   "cell_type": "code",
   "execution_count": 20,
   "metadata": {},
   "outputs": [
    {
     "data": {
      "text/plain": [
       "7"
      ]
     },
     "execution_count": 20,
     "metadata": {},
     "output_type": "execute_result"
    }
   ],
   "source": [
    "orig_add = add.__wrapped__\n",
    "orig_add(3, 4)"
   ]
  },
  {
   "cell_type": "markdown",
   "metadata": {},
   "source": [
    "直接访问未包装的原始函数在调试、内省和其他函数操作时是很有用的。但是我\n",
    "们这里的方案仅仅适用于在包装器中正确使用了 @wraps 或者直接设置了 __wrapped__\n",
    "属性的情况。\n",
    "\n",
    "如果有多个包装器，那么访问 __wrapped__ 属性的行为是不可预知的，应该避免\n",
    "这样做。在 Python3.3 中，它会略过所有的包装层，比如，假如你有如下的代码："
   ]
  },
  {
   "cell_type": "code",
   "execution_count": 21,
   "metadata": {},
   "outputs": [],
   "source": [
    "from functools import wraps\n",
    "\n",
    "def decorator1(func):\n",
    "    @wraps(func)\n",
    "    def wrapper(*args, **kwargs):\n",
    "        print('Decorator 1')\n",
    "        return func(*args, **kwargs)\n",
    "    return wrapper\n",
    "\n",
    "def decorator2(func):\n",
    "    @wraps(func)\n",
    "    def wrapper(*args, **kwargs):\n",
    "        print('Decorator 2')\n",
    "        return func(*args, **kwargs)\n",
    "    return wrapper\n",
    "\n",
    "@decorator1\n",
    "@decorator2\n",
    "def add(x, y):\n",
    "    return x + y"
   ]
  },
  {
   "cell_type": "code",
   "execution_count": 22,
   "metadata": {},
   "outputs": [
    {
     "name": "stdout",
     "output_type": "stream",
     "text": [
      "Decorator 1\n",
      "Decorator 2\n"
     ]
    },
    {
     "data": {
      "text/plain": [
       "5"
      ]
     },
     "execution_count": 22,
     "metadata": {},
     "output_type": "execute_result"
    }
   ],
   "source": [
    "add(2, 3)"
   ]
  },
  {
   "cell_type": "code",
   "execution_count": 23,
   "metadata": {},
   "outputs": [
    {
     "name": "stdout",
     "output_type": "stream",
     "text": [
      "Decorator 2\n"
     ]
    },
    {
     "data": {
      "text/plain": [
       "5"
      ]
     },
     "execution_count": 23,
     "metadata": {},
     "output_type": "execute_result"
    }
   ],
   "source": [
    "add.__wrapped__(2, 3)"
   ]
  },
  {
   "cell_type": "markdown",
   "metadata": {},
   "source": [
    "最后要说的是，并不是所有的装饰器都使用了 @wraps ，因此这里的方案并不全部\n",
    "适用。\n",
    "\n",
    "特别的，内置的装饰器 @staticmethod 和 @classmethod 就没有遵循这个约定\n",
    "(它们把原始函数存储在属性 __func__ 中)"
   ]
  },
  {
   "cell_type": "markdown",
   "metadata": {},
   "source": [
    "## 9.4 定义一个带参数的装饰器"
   ]
  },
  {
   "cell_type": "markdown",
   "metadata": {},
   "source": [
    "一个可以接受参数的装饰器"
   ]
  },
  {
   "cell_type": "markdown",
   "metadata": {},
   "source": [
    "我们用一个例子详细阐述下接受参数的处理过程。假设你想写一个装饰器，给函数\n",
    "添加日志功能，同时允许用户指定日志的级别和其他的选项。下面是这个装饰器的定义\n",
    "和使用示例"
   ]
  },
  {
   "cell_type": "code",
   "execution_count": 24,
   "metadata": {},
   "outputs": [],
   "source": [
    "from functools import wraps\n",
    "\n",
    "import logging\n",
    "\n",
    "def logged(level, name=None, message=None):\n",
    "    \"\"\"Add logging to a function\n",
    "    \n",
    "    level:the logging level\n",
    "    name:the logger name\n",
    "    message:the log message\n",
    "    \n",
    "    if name and message aren't specified,default to the function's module and name\n",
    "    \"\"\"\n",
    "    def decorate(func):\n",
    "        logname = name if name else func.__module__\n",
    "        log = logging.getLogger(logname)\n",
    "        logmsg = message if message else func.__name__\n",
    "        \n",
    "        @wraps(func)\n",
    "        def wrapper(*args, **kwargs):\n",
    "            log.log(level, logmsg)\n",
    "            return func(*args, **kwargs)\n",
    "        return wrapper\n",
    "    return decorate"
   ]
  },
  {
   "cell_type": "code",
   "execution_count": 25,
   "metadata": {},
   "outputs": [],
   "source": [
    "@logged(logging.DEBUG)\n",
    "def add(x, y):\n",
    "    return x + y"
   ]
  },
  {
   "cell_type": "code",
   "execution_count": 26,
   "metadata": {},
   "outputs": [],
   "source": [
    "@logged(logging.CRITICAL, 'example')\n",
    "def spam():\n",
    "    print('Spam!')"
   ]
  },
  {
   "cell_type": "markdown",
   "metadata": {},
   "source": [
    "初看起来，这种实现看上去很复杂，但是核心思想很简单。最外层的函数 logged()\n",
    "接受参数并将它们作用在内部的装饰器函数上面。内层的函数 decorate() 接受一个函\n",
    "数作为参数，然后在函数上面放置一个包装器。这里的关键点是包装器是可以使用传递\n",
    "给 logged() 的参数的"
   ]
  },
  {
   "cell_type": "markdown",
   "metadata": {},
   "source": [
    "定义一个接受参数的包装器看上去比较复杂主要是因为底层的调用序列。特别的，\n",
    "如果你有下面这个代码"
   ]
  },
  {
   "cell_type": "code",
   "execution_count": 27,
   "metadata": {},
   "outputs": [
    {
     "ename": "NameError",
     "evalue": "name 'decorator' is not defined",
     "output_type": "error",
     "traceback": [
      "\u001b[1;31m---------------------------------------------------------------------------\u001b[0m",
      "\u001b[1;31mNameError\u001b[0m                                 Traceback (most recent call last)",
      "\u001b[1;32m<ipython-input-27-6e8bb7bad969>\u001b[0m in \u001b[0;36m<module>\u001b[1;34m\u001b[0m\n\u001b[1;32m----> 1\u001b[1;33m \u001b[1;33m@\u001b[0m\u001b[0mdecorator\u001b[0m\u001b[1;33m(\u001b[0m\u001b[0mx\u001b[0m\u001b[1;33m,\u001b[0m \u001b[0my\u001b[0m\u001b[1;33m,\u001b[0m \u001b[0mz\u001b[0m\u001b[1;33m)\u001b[0m\u001b[1;33m\u001b[0m\u001b[1;33m\u001b[0m\u001b[0m\n\u001b[0m\u001b[0;32m      2\u001b[0m \u001b[1;32mdef\u001b[0m \u001b[0mfunc\u001b[0m\u001b[1;33m(\u001b[0m\u001b[0ma\u001b[0m\u001b[1;33m,\u001b[0m \u001b[0mb\u001b[0m\u001b[1;33m)\u001b[0m\u001b[1;33m:\u001b[0m\u001b[1;33m\u001b[0m\u001b[1;33m\u001b[0m\u001b[0m\n\u001b[0;32m      3\u001b[0m     \u001b[1;32mpass\u001b[0m\u001b[1;33m\u001b[0m\u001b[1;33m\u001b[0m\u001b[0m\n\u001b[0;32m      4\u001b[0m \u001b[1;33m\u001b[0m\u001b[0m\n\u001b[0;32m      5\u001b[0m \u001b[1;31m# equal\u001b[0m\u001b[1;33m\u001b[0m\u001b[1;33m\u001b[0m\u001b[1;33m\u001b[0m\u001b[0m\n",
      "\u001b[1;31mNameError\u001b[0m: name 'decorator' is not defined"
     ]
    }
   ],
   "source": [
    "@decorator(x, y, z)\n",
    "def func(a, b):\n",
    "    pass\n",
    "    \n",
    "# equal\n",
    "def func(a, b):\n",
    "    pass\n",
    "func = decorator(x, y, z)(func)"
   ]
  },
  {
   "cell_type": "markdown",
   "metadata": {},
   "source": [
    "decorator(x, y, z) 的返回结果必须是一个可调用对象，它接受一个函数作为参\n",
    "数并包装它，可以参考 9.7 小节中另外一个可接受参数的包装器例子"
   ]
  },
  {
   "cell_type": "markdown",
   "metadata": {},
   "source": [
    "## 9.5 可自定义属性的装饰器"
   ]
  },
  {
   "cell_type": "markdown",
   "metadata": {},
   "source": [
    "你想写一个装饰器来包装一个函数，并且允许用户提供参数在运行时控制装饰器\n",
    "行为"
   ]
  },
  {
   "cell_type": "markdown",
   "metadata": {},
   "source": [
    "引入一个访问函数，使用 nonlocal 来修改内部变量。然后这个访问函数被作为一\n",
    "个属性赋值给包装函数"
   ]
  },
  {
   "cell_type": "code",
   "execution_count": 38,
   "metadata": {},
   "outputs": [],
   "source": [
    "# 访问函数\n",
    "\n",
    "from functools import wraps, partial\n",
    "\n",
    "import logging\n",
    "\n",
    "def attach_wrapper(obj, func=None):\n",
    "    if func is None:\n",
    "        return partial(attach_wrapper, obj)\n",
    "    setattr(obj, func.__name__, func)\n",
    "    return func\n",
    "\n",
    "def logged(level, name=None, message=None):\n",
    "    \"\"\"Add logging to a function\n",
    "    \n",
    "    level:the logging level\n",
    "    name:the logger name\n",
    "    message:the log message\n",
    "    \n",
    "    if name and message aren't specified,default to the function's module and name\n",
    "    \"\"\"\n",
    "    def decorate(func):\n",
    "        logname = name if name else func.__module__\n",
    "        log = logging.getLogger(logname)\n",
    "        logmsg = message if message else func.__name__\n",
    "        \n",
    "        @wraps(func)\n",
    "        def wrapper(*args, **kwargs):\n",
    "            log.log(level, logmsg)\n",
    "            return func(*args, **kwargs)\n",
    "        \n",
    "        @attach_wrapper(wrapper)\n",
    "        def set_level(newlevel):\n",
    "            nonlocal level\n",
    "            level = newlevel\n",
    "            \n",
    "        @attach_wrapper(wrapper)\n",
    "        def set_message(newmsg):\n",
    "            nonlocal logmsg\n",
    "            logmsg = newmsg\n",
    "            \n",
    "        return wrapper\n",
    "    return decorate"
   ]
  },
  {
   "cell_type": "code",
   "execution_count": null,
   "metadata": {},
   "outputs": [],
   "source": [
    "# use example\n",
    "@logged(logging.DEBUG)\n",
    "def add(x, y):\n",
    "    return x + y\n",
    "\n",
    "@logged(logging.CRITICAL, 'example')\n",
    "def spam():\n",
    "    print('Spam!')"
   ]
  },
  {
   "cell_type": "code",
   "execution_count": null,
   "metadata": {},
   "outputs": [],
   "source": [
    "import logging\n",
    "logging.basicConfig(level=logging.DEBUG)\n",
    "add(2, 3)"
   ]
  },
  {
   "cell_type": "code",
   "execution_count": null,
   "metadata": {},
   "outputs": [],
   "source": [
    "add.set_message('Add called')\n",
    "add(2, 3)"
   ]
  },
  {
   "cell_type": "code",
   "execution_count": null,
   "metadata": {},
   "outputs": [],
   "source": [
    "add.set_level(logging.WARNING)\n",
    "add(2, 3)"
   ]
  },
  {
   "cell_type": "markdown",
   "metadata": {},
   "source": [
    "这一小节的关键点在于访问函数 (如 set_message() 和 set_level() )，它们被作\n",
    "为属性赋给包装器。每个访问函数允许使用 nonlocal 来修改函数内部的变量。\n",
    "\n",
    "还有一个令人吃惊的地方是访问函数会在多层装饰器间传播 (如果你的装饰器都使\n",
    "用了 @functools.wraps 注解)。例如，假设你引入另外一个装饰器，比如 9.2 小节中的\n",
    "@timethis ，像下面这样"
   ]
  },
  {
   "cell_type": "markdown",
   "metadata": {},
   "source": [
    "......"
   ]
  },
  {
   "cell_type": "code",
   "execution_count": 33,
   "metadata": {},
   "outputs": [],
   "source": [
    "@timethis\n",
    "@logged(logging.DEBUG)\n",
    "def countdown(n):\n",
    "    while n > 0:\n",
    "        n -= 1"
   ]
  },
  {
   "cell_type": "code",
   "execution_count": 34,
   "metadata": {},
   "outputs": [
    {
     "name": "stdout",
     "output_type": "stream",
     "text": [
      "countdown 0.606137752532959\n"
     ]
    }
   ],
   "source": [
    "countdown(10000000)"
   ]
  },
  {
   "cell_type": "code",
   "execution_count": 35,
   "metadata": {},
   "outputs": [],
   "source": [
    "countdown.set_level(logging.WARNING)"
   ]
  },
  {
   "cell_type": "code",
   "execution_count": 36,
   "metadata": {},
   "outputs": [
    {
     "name": "stderr",
     "output_type": "stream",
     "text": [
      "Counting down to zero\n"
     ]
    },
    {
     "name": "stdout",
     "output_type": "stream",
     "text": [
      "countdown 0.006001472473144531\n"
     ]
    }
   ],
   "source": [
    "countdown.set_message('Counting down to zero')\n",
    "countdown(100000)"
   ]
  },
  {
   "cell_type": "code",
   "execution_count": 39,
   "metadata": {},
   "outputs": [
    {
     "ename": "NameError",
     "evalue": "name 'wrapper' is not defined",
     "output_type": "error",
     "traceback": [
      "\u001b[1;31m---------------------------------------------------------------------------\u001b[0m",
      "\u001b[1;31mNameError\u001b[0m                                 Traceback (most recent call last)",
      "\u001b[1;32m<ipython-input-39-88dfbf04d9dc>\u001b[0m in \u001b[0;36m<module>\u001b[1;34m\u001b[0m\n\u001b[0;32m      5\u001b[0m         \u001b[0mn\u001b[0m \u001b[1;33m-=\u001b[0m \u001b[1;36m1\u001b[0m\u001b[1;33m\u001b[0m\u001b[1;33m\u001b[0m\u001b[0m\n\u001b[0;32m      6\u001b[0m \u001b[1;33m\u001b[0m\u001b[0m\n\u001b[1;32m----> 7\u001b[1;33m \u001b[1;33m@\u001b[0m\u001b[0mattach_wrapper\u001b[0m\u001b[1;33m(\u001b[0m\u001b[0mwrapper\u001b[0m\u001b[1;33m)\u001b[0m\u001b[1;33m\u001b[0m\u001b[1;33m\u001b[0m\u001b[0m\n\u001b[0m\u001b[0;32m      8\u001b[0m \u001b[1;32mdef\u001b[0m \u001b[0mget_level\u001b[0m\u001b[1;33m(\u001b[0m\u001b[1;33m)\u001b[0m\u001b[1;33m:\u001b[0m\u001b[1;33m\u001b[0m\u001b[1;33m\u001b[0m\u001b[0m\n\u001b[0;32m      9\u001b[0m     \u001b[1;32mreturn\u001b[0m \u001b[0mlevel\u001b[0m\u001b[1;33m\u001b[0m\u001b[1;33m\u001b[0m\u001b[0m\n",
      "\u001b[1;31mNameError\u001b[0m: name 'wrapper' is not defined"
     ]
    }
   ],
   "source": [
    "@timethis\n",
    "@logged(logging.DEBUG)\n",
    "def countdown(n):\n",
    "    while n > 0:\n",
    "        n -= 1\n",
    "        \n",
    "@attach_wrapper(wrapper)\n",
    "def get_level():\n",
    "    return level\n",
    "\n",
    "wrapper.get_level = lambda : level"
   ]
  },
  {
   "cell_type": "markdown",
   "metadata": {},
   "source": [
    "一个比较难理解的地方就是对于访问函数的首次使用。例如，你可能会考虑另外一\n",
    "个方法直接访问函数的属性"
   ]
  },
  {
   "cell_type": "code",
   "execution_count": null,
   "metadata": {},
   "outputs": [],
   "source": [
    "@wraps(func)\n",
    "def wrapper(*args, **kwargs):\n",
    "    wrapper.log.log(wrapper.level, wrapper.logmsg)\n",
    "    return func(*args, **kwargs)\n",
    "\n",
    "wrapper.level = level\n",
    "wrapper.logmsg = logmsg\n",
    "wrapper.log = log"
   ]
  },
  {
   "cell_type": "markdown",
   "metadata": {},
   "source": [
    "这个方法也可能正常工作，但前提是它必须是最外层的装饰器才行。如果它的上面\n",
    "还有另外的装饰器 (比如上面提到的 @timethis 例子)，那么它会隐藏底层属性，使得\n",
    "修改它们没有任何作用。而通过使用访问函数就能避免这样的局限性"
   ]
  },
  {
   "cell_type": "markdown",
   "metadata": {},
   "source": [
    "## 带可选参数的装饰器"
   ]
  },
  {
   "cell_type": "markdown",
   "metadata": {},
   "source": [
    "你想写一个装饰器，既可以不传参数给它，比如 @decorator ，也可以传递可选参\n",
    "数给它，比如 @decorator(x,y,z)"
   ]
  },
  {
   "cell_type": "markdown",
   "metadata": {},
   "source": [
    "下面是 9.5 小节中日志装饰器的一个修改版本"
   ]
  },
  {
   "cell_type": "code",
   "execution_count": 41,
   "metadata": {},
   "outputs": [],
   "source": [
    "from functools import wraps, partial\n",
    "\n",
    "import logging\n",
    "\n",
    "def logged(func=None, *, level=logging.DEBUG, name=None, message=None):\n",
    "    if func is None:\n",
    "        return partial(logged, level=level, name=name, message=message)\n",
    "    \n",
    "    logname = name if name else func.__module__\n",
    "    log = logging.getLogger(logname)\n",
    "    logmsg = message if message else func.__name__\n",
    "    \n",
    "    @wraps(func) # ?\n",
    "    def wrapper(*args, **kwargs):\n",
    "        log.log(level, logmsg)\n",
    "        return func(*args, **kwargs)\n",
    "    return wrapper"
   ]
  },
  {
   "cell_type": "code",
   "execution_count": 43,
   "metadata": {},
   "outputs": [],
   "source": [
    "# example use\n",
    "# 可以看到，@logged 装饰器可以同时不带参数或带参数\n",
    "@logged\n",
    "def add(x, y):\n",
    "    return x + y"
   ]
  },
  {
   "cell_type": "code",
   "execution_count": 44,
   "metadata": {},
   "outputs": [],
   "source": [
    "@logged(level=logging.CRITICAL, name='example')\n",
    "def spam():\n",
    "    print('Spam!')\n",
    "    "
   ]
  },
  {
   "cell_type": "markdown",
   "metadata": {},
   "source": [
    "这里提到的这个问题就是通常所说的编程一致性问题。当我们使用装饰器的时候，\n",
    "大部分程序员习惯了要么不给它们传递任何参数，要么给它们传递确切参数。其实从技\n",
    "术上来讲，我们可以定义一个所有参数都是可选的装饰器，就像下面这样"
   ]
  },
  {
   "cell_type": "code",
   "execution_count": 45,
   "metadata": {},
   "outputs": [],
   "source": [
    "@logged()\n",
    "def add(x, y):\n",
    "    return x + y"
   ]
  },
  {
   "cell_type": "markdown",
   "metadata": {},
   "source": [
    "但是，这种写法并不符合我们的习惯，有时候程序员忘记加上后面的括号会导致错误。这里我们向你展示了如何以一致的编程风格来同时满足没有括号和有括号两种情\n",
    "况。\n",
    "\n",
    "为了理解代码是如何工作的，你需要非常熟悉装饰器是如何作用到函数上以及它们的调用规则。对于一个像下面这样的简单装饰器"
   ]
  },
  {
   "cell_type": "code",
   "execution_count": 47,
   "metadata": {},
   "outputs": [],
   "source": [
    "#use\n",
    "@logged\n",
    "def add(x, y):\n",
    "    return x + y\n",
    "\n",
    "# as the same\n",
    "def add(x, y):\n",
    "    return x + y\n",
    "\n",
    "add = logged(add)"
   ]
  },
  {
   "cell_type": "code",
   "execution_count": null,
   "metadata": {},
   "outputs": [],
   "source": []
  }
 ],
 "metadata": {
  "kernelspec": {
   "display_name": "Python 3",
   "language": "python",
   "name": "python3"
  },
  "language_info": {
   "codemirror_mode": {
    "name": "ipython",
    "version": 3
   },
   "file_extension": ".py",
   "mimetype": "text/x-python",
   "name": "python",
   "nbconvert_exporter": "python",
   "pygments_lexer": "ipython3",
   "version": "3.7.3"
  }
 },
 "nbformat": 4,
 "nbformat_minor": 2
}
