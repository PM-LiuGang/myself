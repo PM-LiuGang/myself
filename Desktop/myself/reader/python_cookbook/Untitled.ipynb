{
 "cells": [
  {
   "cell_type": "markdown",
   "metadata": {},
   "source": [
    "## 脚本编程与系统管理"
   ]
  },
  {
   "cell_type": "markdown",
   "metadata": {},
   "source": [
    "许多人使用 Python 作为一个 shell 脚本的替代，用来实现常用系统任务的自动化，\n",
    "如文件的操作，系统的配置等。本章的主要目标是描述关于编写脚本时候经常遇到的一\n",
    "些功能。例如，解析命令行选项、获取有用的系统配置数据等等。第 5 章也包含了与文\n",
    "件和目录相关的一般信息"
   ]
  },
  {
   "cell_type": "code",
   "execution_count": null,
   "metadata": {},
   "outputs": [],
   "source": []
  }
 ],
 "metadata": {
  "kernelspec": {
   "display_name": "Python 3",
   "language": "python",
   "name": "python3"
  },
  "language_info": {
   "codemirror_mode": {
    "name": "ipython",
    "version": 3
   },
   "file_extension": ".py",
   "mimetype": "text/x-python",
   "name": "python",
   "nbconvert_exporter": "python",
   "pygments_lexer": "ipython3",
   "version": "3.7.3"
  }
 },
 "nbformat": 4,
 "nbformat_minor": 2
}
