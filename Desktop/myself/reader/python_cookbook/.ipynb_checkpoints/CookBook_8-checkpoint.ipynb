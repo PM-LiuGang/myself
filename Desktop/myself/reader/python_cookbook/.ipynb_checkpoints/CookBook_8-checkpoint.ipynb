{
 "cells": [
  {
   "cell_type": "markdown",
   "metadata": {},
   "source": [
    "# Class and Object"
   ]
  },
  {
   "cell_type": "markdown",
   "metadata": {},
   "source": [
    "## 改变对象的字符串显示"
   ]
  },
  {
   "cell_type": "markdown",
   "metadata": {},
   "source": [
    "你想改变对象实例的打印或者显示输出，要改变一个实例的字符串表示，可重新定义它的str repr方法"
   ]
  },
  {
   "cell_type": "code",
   "execution_count": 1,
   "metadata": {},
   "outputs": [
    {
     "data": {
      "text/plain": [
       "Pair (3, 4)"
      ]
     },
     "execution_count": 1,
     "metadata": {},
     "output_type": "execute_result"
    }
   ],
   "source": [
    "class Pair:\n",
    "    def __init__(self, x, y):\n",
    "        self.x = x \n",
    "        self.y = y\n",
    "        \n",
    "    def __repr__(self): # 返回一个实例的代码表示形式，通常用来重新构造这个实例\n",
    "        return 'Pair ({0.x!r}, {0.y!r})'.format(self) # 0.x 0.y self.x self.y\n",
    "    \n",
    "    def __str__(self): # 将实例转换为一个字符串\n",
    "        return '({0.x!s}, {0.y!s})'.format(self)\n",
    "    \n",
    "    '''\n",
    "    def __repr__(self):\n",
    "        return 'Pair(%s, %s') % (self.x, self.y) # instead\n",
    "    '''\n",
    "    \n",
    "p = Pair(3, 4)\n",
    "p"
   ]
  },
  {
   "cell_type": "code",
   "execution_count": 2,
   "metadata": {},
   "outputs": [
    {
     "name": "stdout",
     "output_type": "stream",
     "text": [
      "(3, 4)\n"
     ]
    }
   ],
   "source": [
    "print(p)"
   ]
  },
  {
   "cell_type": "code",
   "execution_count": 3,
   "metadata": {},
   "outputs": [
    {
     "name": "stdout",
     "output_type": "stream",
     "text": [
      "p is Pair (3, 4)\n"
     ]
    }
   ],
   "source": [
    "print('p is {!r}'.format(p))"
   ]
  },
  {
   "cell_type": "code",
   "execution_count": 9,
   "metadata": {},
   "outputs": [
    {
     "name": "stdout",
     "output_type": "stream",
     "text": [
      "p is (3, 4)\n"
     ]
    }
   ],
   "source": [
    "print('p is {}'.format(p))"
   ]
  },
  {
   "cell_type": "markdown",
   "metadata": {},
   "source": [
    "自定义 __repr__() 和 __str__() 通常是很好的习惯，因为它能简化调试和实例输出。 例如，如果仅仅只是打印输出或日志输出某个实例，那么程序员会看到实例更加详细与有用的信息"
   ]
  },
  {
   "cell_type": "code",
   "execution_count": 10,
   "metadata": {},
   "outputs": [
    {
     "name": "stdout",
     "output_type": "stream",
     "text": [
      "debug : p is [{0!r}]\n"
     ]
    }
   ],
   "source": [
    "print('debug : p is [{0!r}]')"
   ]
  },
  {
   "cell_type": "markdown",
   "metadata": {},
   "source": [
    "## 自定义字符串的格式化"
   ]
  },
  {
   "cell_type": "code",
   "execution_count": 29,
   "metadata": {},
   "outputs": [],
   "source": [
    "_formats = {\n",
    "    'ymd' : '{d.year}-{d.month}-{d.day}',\n",
    "    'mdy' : '{d.month}/{d.day}/{d.year}',\n",
    "    'dmy' : '{d.day}/{d.month}/{d.year}'\n",
    "    }\n",
    "\n",
    "_formats_1 = {\n",
    "    'ymd' : '{0.year}-{0.month}-{0.day}',\n",
    "    'mdy' : '{0.month}/{0.day}/{0.year}',\n",
    "    'dmy' : '{0.day}/{0.month}/{0.year}'\n",
    "    }\n",
    "\n",
    "class Date:\n",
    "    \n",
    "    def __init__(self, year, month, day):\n",
    "        self.year = year\n",
    "        self.month = month\n",
    "        self.day = day\n",
    "        \n",
    "    def __format__(self, code):\n",
    "        if code == '':\n",
    "            code = 'ymd'\n",
    "        fmt = _formats[code]\n",
    "        return fmt.format(d=self) # d等于实例\n",
    "    \n",
    "d = Date(2012, 12, 21)"
   ]
  },
  {
   "cell_type": "code",
   "execution_count": 19,
   "metadata": {},
   "outputs": [
    {
     "data": {
      "text/plain": [
       "'2012-12-21'"
      ]
     },
     "execution_count": 19,
     "metadata": {},
     "output_type": "execute_result"
    }
   ],
   "source": [
    "format(d)"
   ]
  },
  {
   "cell_type": "code",
   "execution_count": 22,
   "metadata": {},
   "outputs": [
    {
     "data": {
      "text/plain": [
       "('12/21/2012',)"
      ]
     },
     "execution_count": 22,
     "metadata": {},
     "output_type": "execute_result"
    }
   ],
   "source": [
    "format(d, 'mdy')  # 2个参数 注意"
   ]
  },
  {
   "cell_type": "code",
   "execution_count": 23,
   "metadata": {},
   "outputs": [
    {
     "data": {
      "text/plain": [
       "('the date is 2012-12-21', 'the date is 12/21/2012')"
      ]
     },
     "execution_count": 23,
     "metadata": {},
     "output_type": "execute_result"
    }
   ],
   "source": [
    "'the date is {:ymd}'.format(d), 'the date is {:mdy}'.format(d)"
   ]
  },
  {
   "cell_type": "markdown",
   "metadata": {},
   "source": [
    "__format__() 方法给Python的字符串格式化功能提供了一个钩子。 这里需要着重强调的是格式化代码的解析工作完全由类自己决定。因此，格式化代码可以是任何值。 例如，参考下面来自 datetime 模块中的代码"
   ]
  },
  {
   "cell_type": "code",
   "execution_count": 30,
   "metadata": {},
   "outputs": [
    {
     "data": {
      "text/plain": [
       "'2012-12-21'"
      ]
     },
     "execution_count": 30,
     "metadata": {},
     "output_type": "execute_result"
    }
   ],
   "source": [
    "from datetime import date\n",
    "\n",
    "d = date(2012, 12, 21)\n",
    "format(d)"
   ]
  },
  {
   "cell_type": "code",
   "execution_count": 31,
   "metadata": {},
   "outputs": [
    {
     "data": {
      "text/plain": [
       "'Friday December 21 2012'"
      ]
     },
     "execution_count": 31,
     "metadata": {},
     "output_type": "execute_result"
    }
   ],
   "source": [
    "format(d, '%A %B %d %Y')"
   ]
  },
  {
   "cell_type": "code",
   "execution_count": 32,
   "metadata": {},
   "outputs": [
    {
     "data": {
      "text/plain": [
       "'the end is 21 Dec 2012. Goodbye'"
      ]
     },
     "execution_count": 32,
     "metadata": {},
     "output_type": "execute_result"
    }
   ],
   "source": [
    "'the end is {:%d %b %Y}. Goodbye'.format(d)"
   ]
  },
  {
   "cell_type": "markdown",
   "metadata": {},
   "source": [
    "## 让对象支持上下文管理协议"
   ]
  },
  {
   "cell_type": "markdown",
   "metadata": {},
   "source": [
    "你想让你的对象支持上下文管理协议(with语句)"
   ]
  },
  {
   "cell_type": "markdown",
   "metadata": {},
   "source": [
    "为了让一个对象兼容 with 语句，你需要实现 __enter__() 和 __exit__() 方法。 例如，考虑如下的一个类，它能为我们创建一个网络连接"
   ]
  },
  {
   "cell_type": "code",
   "execution_count": 34,
   "metadata": {},
   "outputs": [],
   "source": [
    "# 这个类的关键特点在于它表示了一个网络连接，\n",
    "# 但是初始化的时候并不会做任何事情(比如它并没有建立一个连接)。 连接的建立和关闭是使用with语句自动完成的\n",
    "from socket import socket, AF_INET, SOCK_STREAM\n",
    "\n",
    "class Lazyconnection:\n",
    "    \n",
    "    def __init__(self, address, family=AF_INET, type=SOCK_STREAM):\n",
    "        self.address = address\n",
    "        self.family = family\n",
    "        self.type = type\n",
    "        self.sock = None\n",
    "        \n",
    "    def __enter__(self):\n",
    "        if self.sock is not None:\n",
    "            raise RuntimeError('Already connected')\n",
    "        self.sock = socket(self.family, self.type)  # socket(AF_INET, SOCK_STREAM)\n",
    "        self.sock.connect(self.address)  # socket(AF_INET, SOCK_STREAM).connect('127.0.0.1')\n",
    "        return self.sock # 赋值给as声明的变量\n",
    "    \n",
    "    def __exit__(self, exc_ty, exc_val, tb):\n",
    "        self.sock.close()\n",
    "        self.sock = None"
   ]
  },
  {
   "cell_type": "code",
   "execution_count": 35,
   "metadata": {},
   "outputs": [],
   "source": [
    "from functools import partial\n",
    "\n",
    "conn = Lazyconnection(('www.python.org', 80)) # (())? address = ('www.python.org', 80) \n",
    "# Connection closed\n",
    "with conn as s:\n",
    "    # conn.__enter__() executes: connection open\n",
    "    s.send(b'GET /index.html HTTP/1.0\\r\\n')\n",
    "    s.send(b'Host: www.python.org\\r\\n')\n",
    "    s.send(b'\\r\\n')\n",
    "    resp = b''.join(iter(partial(s.recv, 8192), b''))\n",
    "    # conn.__exit__() executes:connection closed"
   ]
  },
  {
   "cell_type": "code",
   "execution_count": 36,
   "metadata": {},
   "outputs": [
    {
     "data": {
      "text/plain": [
       "b'HTTP/1.1 301 Moved Permanently\\r\\nServer: Varnish\\r\\nRetry-After: 0\\r\\nLocation: https://www.python.org/index.html\\r\\nContent-Length: 0\\r\\nAccept-Ranges: bytes\\r\\nDate: Sat, 03 Aug 2019 08:19:22 GMT\\r\\nVia: 1.1 varnish\\r\\nConnection: close\\r\\nX-Served-By: cache-hnd18746-HND\\r\\nX-Cache: HIT\\r\\nX-Cache-Hits: 0\\r\\nX-Timer: S1564820362.247628,VS0,VE0\\r\\nStrict-Transport-Security: max-age=63072000; includeSubDomains\\r\\n\\r\\n'"
      ]
     },
     "execution_count": 36,
     "metadata": {},
     "output_type": "execute_result"
    }
   ],
   "source": [
    "resp"
   ]
  },
  {
   "cell_type": "markdown",
   "metadata": {},
   "source": [
    "编写上下文管理器的主要原理是你的代码会放到 with 语句块中执行。 当出现 with 语句的时候，对象的 __enter__() 方法被触发， 它返回的值(如果有的话)会被赋值给 as 声明的变量。然后，with 语句块里面的代码开始执行。 最后，__exit__() 方法被触发进行清理工作"
   ]
  },
  {
   "cell_type": "markdown",
   "metadata": {},
   "source": [
    "不管 with 代码块中发生什么，上面的控制流都会执行完，就算代码块中发生了异常也是一样的。 事实上，__exit__() 方法的第三个参数包含了异常类型、异常值和追溯信息(如果有的话)。 __exit__() 方法能自己决定怎样利用这个异常信息，或者忽略它并返回一个None值。 如果 __exit__() 返回 True ，那么异常会被清空，就好像什么都没发生一样， with 语句后面的程序继续在正常执行"
   ]
  },
  {
   "cell_type": "markdown",
   "metadata": {},
   "source": [
    "还有一个细节问题就是 LazyConnection 类是否允许多个 with 语句来嵌套使用连\n",
    "接。很显然，上面的定义中一次只能允许一个 socket 连接，如果正在使用一个 socket\n",
    "的时候又重复使用 with 语句，就会产生一个异常了。不过你可以像下面这样修改下上\n",
    "面的实现来解决这个问题："
   ]
  },
  {
   "cell_type": "code",
   "execution_count": 38,
   "metadata": {},
   "outputs": [],
   "source": [
    "from socket import socket, AF_INET, SOCK_STREAM\n",
    "\n",
    "class Lazyconnection:\n",
    "    \n",
    "    def __init__(self, address, family=AF_INET, type=SOCK_STREAM):\n",
    "        self.address = address\n",
    "        self.family = family\n",
    "        self.type = type\n",
    "        #self.sock = None\n",
    "        self.connections = []\n",
    "        \n",
    "    def __enter__(self):\n",
    "        #if self.sock is not None:\n",
    "        #    raise RuntimeError('Already connected')\n",
    "        sock = socket(self.family, self.type)\n",
    "        #self.sock = socket(self.family, self.type)\n",
    "        sock.connect(self.address)\n",
    "        self.connection.append(sock)\n",
    "        return sock\n",
    "    \n",
    "    def __exit__(self, exc_ty, exc_val, tb):\n",
    "        #self.sock.close()\n",
    "        #self.sock = None\n",
    "        self.connections.pop().close()"
   ]
  },
  {
   "cell_type": "code",
   "execution_count": 39,
   "metadata": {},
   "outputs": [
    {
     "ename": "TimeoutError",
     "evalue": "[WinError 10060] 由于连接方在一段时间后没有正确答复或连接的主机没有反应，连接尝试失败。",
     "output_type": "error",
     "traceback": [
      "\u001b[1;31m---------------------------------------------------------------------------\u001b[0m",
      "\u001b[1;31mTimeoutError\u001b[0m                              Traceback (most recent call last)",
      "\u001b[1;32m<ipython-input-39-6281956278a0>\u001b[0m in \u001b[0;36m<module>\u001b[1;34m\u001b[0m\n\u001b[0;32m      4\u001b[0m \u001b[1;33m\u001b[0m\u001b[0m\n\u001b[0;32m      5\u001b[0m \u001b[0mconn\u001b[0m \u001b[1;33m=\u001b[0m \u001b[0mLazyconnection\u001b[0m\u001b[1;33m(\u001b[0m\u001b[1;33m(\u001b[0m\u001b[1;34m'www.python.org'\u001b[0m\u001b[1;33m,\u001b[0m \u001b[1;36m8\u001b[0m\u001b[1;33m)\u001b[0m\u001b[1;33m)\u001b[0m\u001b[1;33m\u001b[0m\u001b[1;33m\u001b[0m\u001b[0m\n\u001b[1;32m----> 6\u001b[1;33m \u001b[1;32mwith\u001b[0m \u001b[0mconn\u001b[0m \u001b[1;32mas\u001b[0m \u001b[0ms1\u001b[0m\u001b[1;33m:\u001b[0m\u001b[1;33m\u001b[0m\u001b[1;33m\u001b[0m\u001b[0m\n\u001b[0m\u001b[0;32m      7\u001b[0m     \u001b[1;32mpass\u001b[0m\u001b[1;33m\u001b[0m\u001b[1;33m\u001b[0m\u001b[0m\n\u001b[0;32m      8\u001b[0m     \u001b[1;32mwith\u001b[0m \u001b[0mconn\u001b[0m \u001b[1;32mas\u001b[0m \u001b[0ms2\u001b[0m\u001b[1;33m:\u001b[0m\u001b[1;33m\u001b[0m\u001b[1;33m\u001b[0m\u001b[0m\n",
      "\u001b[1;32m<ipython-input-38-e97eb2e9d63b>\u001b[0m in \u001b[0;36m__enter__\u001b[1;34m(self)\u001b[0m\n\u001b[0;32m     15\u001b[0m         \u001b[0msock\u001b[0m \u001b[1;33m=\u001b[0m \u001b[0msocket\u001b[0m\u001b[1;33m(\u001b[0m\u001b[0mself\u001b[0m\u001b[1;33m.\u001b[0m\u001b[0mfamily\u001b[0m\u001b[1;33m,\u001b[0m \u001b[0mself\u001b[0m\u001b[1;33m.\u001b[0m\u001b[0mtype\u001b[0m\u001b[1;33m)\u001b[0m\u001b[1;33m\u001b[0m\u001b[1;33m\u001b[0m\u001b[0m\n\u001b[0;32m     16\u001b[0m         \u001b[1;31m#self.sock = socket(self.family, self.type)\u001b[0m\u001b[1;33m\u001b[0m\u001b[1;33m\u001b[0m\u001b[1;33m\u001b[0m\u001b[0m\n\u001b[1;32m---> 17\u001b[1;33m         \u001b[0msock\u001b[0m\u001b[1;33m.\u001b[0m\u001b[0mconnect\u001b[0m\u001b[1;33m(\u001b[0m\u001b[0mself\u001b[0m\u001b[1;33m.\u001b[0m\u001b[0maddress\u001b[0m\u001b[1;33m)\u001b[0m\u001b[1;33m\u001b[0m\u001b[1;33m\u001b[0m\u001b[0m\n\u001b[0m\u001b[0;32m     18\u001b[0m         \u001b[0mself\u001b[0m\u001b[1;33m.\u001b[0m\u001b[0mconnection\u001b[0m\u001b[1;33m.\u001b[0m\u001b[0mappend\u001b[0m\u001b[1;33m(\u001b[0m\u001b[0msock\u001b[0m\u001b[1;33m)\u001b[0m\u001b[1;33m\u001b[0m\u001b[1;33m\u001b[0m\u001b[0m\n\u001b[0;32m     19\u001b[0m         \u001b[1;32mreturn\u001b[0m \u001b[0msock\u001b[0m\u001b[1;33m\u001b[0m\u001b[1;33m\u001b[0m\u001b[0m\n",
      "\u001b[1;31mTimeoutError\u001b[0m: [WinError 10060] 由于连接方在一段时间后没有正确答复或连接的主机没有反应，连接尝试失败。"
     ]
    }
   ],
   "source": [
    "# use case\n",
    "\n",
    "from functools import partial\n",
    "\n",
    "conn = Lazyconnection(('www.python.org', 8))\n",
    "with conn as s1:\n",
    "    pass\n",
    "    with conn as s2:\n",
    "        pass"
   ]
  },
  {
   "cell_type": "markdown",
   "metadata": {},
   "source": [
    "在第二个版本中，LazyConnection 类可以被看做是某个连接工厂。在内部，一个列表被用来构造一个栈。 每次 __enter__() 方法执行的时候，它复制创建一个新的连接并将其加入到栈里面。 __exit__() 方法简单的从栈中弹出最后一个连接并关闭它。 这里稍微有点难理解，不过它能允许嵌套使用 with 语句创建多个连接，就如上面演示的那样。\n",
    "\n",
    "在需要管理一些资源比如文件、网络连接和锁的编程环境中，使用上下文管理器是很普遍的。 这些资源的一个主要特征是它们必须被手动的关闭或释放来确保程序的正确运行。 例如，如果你请求了一个锁，那么你必须确保之后释放了它，否则就可能产生死锁。 通过实现 __enter__() 和 __exit__() 方法并使用 with 语句可以很容易的避免这些问题， 因为 __exit__() 方法可以让你无需担心这些了。\n",
    "\n",
    "在 contextmanager 模块中有一个标准的上下文管理方案模板，可参考9.22小节。 同时在12.6小节中还有一个对本节示例程序的线程安全的修改版"
   ]
  },
  {
   "cell_type": "markdown",
   "metadata": {},
   "source": [
    "## 创建大量对象时节省内存方法 - 低"
   ]
  },
  {
   "cell_type": "markdown",
   "metadata": {},
   "source": [
    "你的程序要创建大量(可能上百万)的对象，导致占用很大的内存"
   ]
  },
  {
   "cell_type": "markdown",
   "metadata": {},
   "source": [
    "对于主要是用来当成简单的数据结构的类而言，你可以通过给类添加 __slots__ 属性来极大的减少实例所占的内存"
   ]
  },
  {
   "cell_type": "code",
   "execution_count": 41,
   "metadata": {},
   "outputs": [],
   "source": [
    "class Date:\n",
    "    __slots__ = ['year', 'month', 'day'] # ? \n",
    "    def __init__(self, year, month, day):\n",
    "        self.year = year\n",
    "        self.month = month\n",
    "        self.day = day"
   ]
  },
  {
   "cell_type": "markdown",
   "metadata": {},
   "source": [
    "当你定义 __slots__ 后，Python就会为实例使用一种更加紧凑的内部表示。 实例通过一个很小的固定大小的数组来构建，而不是为每个实例定义一个字典，这跟元组或列表很类似。 在 __slots__ 中列出的属性名在内部被映射到这个数组的指定小标上。 使用slots一个不好的地方就是我们不能再给实例添加新的属性了，只能使用在 __slots__ 中定义的那些属性名"
   ]
  },
  {
   "cell_type": "markdown",
   "metadata": {},
   "source": [
    "使用slots后节省的内存会跟存储属性的数量和类型有关。 不过，一般来讲，使用到的内存总量和将数据存储在一个元组中差不多。 为了给你一个直观认识，假设你不使用slots直接存储一个Date实例， 在64位的Python上面要占用428字节，而如果使用了slots，内存占用下降到156字节。 如果程序中需要同时创建大量的日期实例，那么这个就能极大的减小内存使用量了。\n",
    "\n",
    "尽管slots看上去是一个很有用的特性，很多时候你还是得减少对它的使用冲动。 Python的很多特性都依赖于普通的基于字典的实现。 另外，定义了slots后的类不再支持一些普通类特性了，比如多继承。 大多数情况下，你应该只在那些经常被使用到的用作数据结构的类上定义slots (比如在程序中需要创建某个类的几百万个实例对象)。\n",
    "\n",
    "关于 __slots__ 的一个常见误区是它可以作为一个封装工具来防止用户给实例增加新的属性。 尽管使用slots可以达到这样的目的，但是这个并不是它的初衷。 __slots__ 更多的是用来作为一个内存优化工具"
   ]
  },
  {
   "cell_type": "markdown",
   "metadata": {},
   "source": [
    "## 在类中封装属性名"
   ]
  },
  {
   "cell_type": "markdown",
   "metadata": {},
   "source": [
    "你想封装类的实例上面的“私有”数据，但是Python语言并没有访问控制"
   ]
  },
  {
   "cell_type": "markdown",
   "metadata": {},
   "source": [
    "Python程序员不去依赖语言特性去封装数据，而是通过遵循一定的属性和方法命名规约来达到这个效果。 第一个约定是任何以单下划线_开头的名字都应该是内部实现"
   ]
  },
  {
   "cell_type": "code",
   "execution_count": 42,
   "metadata": {},
   "outputs": [],
   "source": [
    "class A:\n",
    "    \n",
    "    def __init__(self):\n",
    "        self._internal = 0 # an internal attribute\n",
    "        self.public = 1 # a public attribute\n",
    "        \n",
    "    def pubilic_method(self):\n",
    "        pass\n",
    "    \n",
    "    def _internal_method(self):\n",
    "        pass"
   ]
  },
  {
   "cell_type": "markdown",
   "metadata": {},
   "source": [
    "Python并不会真的阻止别人访问内部名称。但是如果你这么做肯定是不好的，可能会导致脆弱的代码。 同时还要注意到，使用下划线开头的约定同样适用于模块名和模块级别函数。 例如，如果你看到某个模块名以单下划线开头(比如_socket)，那它就是内部实现。 类似的，模块级别函数比如 sys._getframe() 在使用的时候就得加倍小心了。\n",
    "\n",
    "你还可能会遇到在类定义中使用两个下划线(__)开头的命名"
   ]
  },
  {
   "cell_type": "code",
   "execution_count": 44,
   "metadata": {},
   "outputs": [],
   "source": [
    "class B:\n",
    "    \n",
    "    def __init__(self):\n",
    "        self.__private = 0\n",
    "        \n",
    "    def __private_method(self):\n",
    "        pass\n",
    "    \n",
    "    def public_method(self):\n",
    "        pass\n",
    "        self.__private_method()"
   ]
  },
  {
   "cell_type": "code",
   "execution_count": null,
   "metadata": {},
   "outputs": [],
   "source": [
    "#使用双下划线开始会导致访问名称变成其他形式。 \n",
    "#比如，在前面的类B中，私有属性会被分别重命名为 _B__private 和 #_B__private_method\n",
    "#这时候你可能会问这样重命名的目的是什么，答案就是继承——这种属性通过继承是无法被覆盖\n",
    "\n",
    "class C(B):\n",
    "    def __init__(self):\n",
    "        super().__init__() # ?\n",
    "        self.__private = 1 # Does not override B.__private\n",
    "        \n",
    "    # Dose  not override B.__private_method()\n",
    "    def __private_method(self):\n",
    "        pass\n",
    "    \n",
    "# 私有名称 __private 和 __private_method 被重命名为 _C__private 和 _C__private_method\n",
    "#这个跟父类B中的名称是完全不同的"
   ]
  },
  {
   "cell_type": "markdown",
   "metadata": {},
   "source": [
    "你应该让你的非公共名称以单下划线开头。但是，如果你清楚你的代码会涉及到子类， 并且有些内部属性应该在子类中隐藏起来，那么才考虑使用双下划线方案"
   ]
  },
  {
   "cell_type": "markdown",
   "metadata": {},
   "source": [
    "## 创建可管理的属性"
   ]
  },
  {
   "cell_type": "markdown",
   "metadata": {},
   "source": [
    "你想给某个实例attribute增加除访问与修改之外的其他处理逻辑，比如类型检查或合法性验证"
   ]
  },
  {
   "cell_type": "markdown",
   "metadata": {},
   "source": [
    "自定义某个属性的一种简单方法是将它定义为一个property。 例如，下面的代码定义了一个property，增加对一个属性简单的类型检查"
   ]
  },
  {
   "cell_type": "code",
   "execution_count": 1,
   "metadata": {},
   "outputs": [],
   "source": [
    "class Person:\n",
    "    \n",
    "    def __init__(self,first_name):\n",
    "        self.first_name = first_name\n",
    "        \n",
    "    # Getter function\n",
    "    @property\n",
    "    def first_name(self): # 第一个方法是一个 getter 函数，它使得 first_name 成为一个属性。 \n",
    "        return self._first_name # self._first_name?\n",
    "    \n",
    "    # Setter function\n",
    "    @first_name.setter\n",
    "    def first_name(self, value):\n",
    "        if not isinstance(value, str):\n",
    "            raise TypeError('Expected a string')\n",
    "        self._first_name = value\n",
    "        \n",
    "    # Deleter function (optional)\n",
    "    @first_name.deleter\n",
    "    def first_name(self):\n",
    "        raise AttributeError('Can\"t delete attribute')\n",
    "        \n",
    "# 上述代码中有三个相关联的方法，这三个方法的名字都必须一样。 \n",
    "# 其他两个方法给 first_name 属性添加了 setter 和 deleter 函数。 \n",
    "# 需要强调的是只有在 first_name 属性被创建后， 后面的两个装饰器 @first_name.setter 和 @first_name.deleter 才能被定义"
   ]
  },
  {
   "cell_type": "code",
   "execution_count": 2,
   "metadata": {},
   "outputs": [
    {
     "data": {
      "text/plain": [
       "'Guido'"
      ]
     },
     "execution_count": 2,
     "metadata": {},
     "output_type": "execute_result"
    }
   ],
   "source": [
    "a = Person('Guido')\n",
    "a.first_name"
   ]
  },
  {
   "cell_type": "code",
   "execution_count": 4,
   "metadata": {},
   "outputs": [],
   "source": [
    "a.first_name='gang' # because attribute? not function"
   ]
  },
  {
   "cell_type": "code",
   "execution_count": 5,
   "metadata": {},
   "outputs": [
    {
     "data": {
      "text/plain": [
       "'gang'"
      ]
     },
     "execution_count": 5,
     "metadata": {},
     "output_type": "execute_result"
    }
   ],
   "source": [
    "a.first_name"
   ]
  },
  {
   "cell_type": "code",
   "execution_count": 6,
   "metadata": {},
   "outputs": [
    {
     "ename": "AttributeError",
     "evalue": "Can\"t delete attribute",
     "output_type": "error",
     "traceback": [
      "\u001b[1;31m---------------------------------------------------------------------------\u001b[0m",
      "\u001b[1;31mAttributeError\u001b[0m                            Traceback (most recent call last)",
      "\u001b[1;32m<ipython-input-6-50ce9077a584>\u001b[0m in \u001b[0;36m<module>\u001b[1;34m\u001b[0m\n\u001b[1;32m----> 1\u001b[1;33m \u001b[1;32mdel\u001b[0m \u001b[0ma\u001b[0m\u001b[1;33m.\u001b[0m\u001b[0mfirst_name\u001b[0m\u001b[1;33m\u001b[0m\u001b[1;33m\u001b[0m\u001b[0m\n\u001b[0m",
      "\u001b[1;32m<ipython-input-1-e297ac9c03a0>\u001b[0m in \u001b[0;36mfirst_name\u001b[1;34m(self)\u001b[0m\n\u001b[0;32m     19\u001b[0m     \u001b[1;33m@\u001b[0m\u001b[0mfirst_name\u001b[0m\u001b[1;33m.\u001b[0m\u001b[0mdeleter\u001b[0m\u001b[1;33m\u001b[0m\u001b[1;33m\u001b[0m\u001b[0m\n\u001b[0;32m     20\u001b[0m     \u001b[1;32mdef\u001b[0m \u001b[0mfirst_name\u001b[0m\u001b[1;33m(\u001b[0m\u001b[0mself\u001b[0m\u001b[1;33m)\u001b[0m\u001b[1;33m:\u001b[0m\u001b[1;33m\u001b[0m\u001b[1;33m\u001b[0m\u001b[0m\n\u001b[1;32m---> 21\u001b[1;33m         \u001b[1;32mraise\u001b[0m \u001b[0mAttributeError\u001b[0m\u001b[1;33m(\u001b[0m\u001b[1;34m'Can\"t delete attribute'\u001b[0m\u001b[1;33m)\u001b[0m\u001b[1;33m\u001b[0m\u001b[1;33m\u001b[0m\u001b[0m\n\u001b[0m\u001b[0;32m     22\u001b[0m \u001b[1;33m\u001b[0m\u001b[0m\n\u001b[0;32m     23\u001b[0m \u001b[1;31m# 上述代码中有三个相关联的方法，这三个方法的名字都必须一样。\u001b[0m\u001b[1;33m\u001b[0m\u001b[1;33m\u001b[0m\u001b[1;33m\u001b[0m\u001b[0m\n",
      "\u001b[1;31mAttributeError\u001b[0m: Can\"t delete attribute"
     ]
    }
   ],
   "source": [
    "del a.first_name"
   ]
  },
  {
   "cell_type": "code",
   "execution_count": 7,
   "metadata": {},
   "outputs": [
    {
     "data": {
      "text/plain": [
       "'gang'"
      ]
     },
     "execution_count": 7,
     "metadata": {},
     "output_type": "execute_result"
    }
   ],
   "source": [
    "a.first_name"
   ]
  },
  {
   "cell_type": "code",
   "execution_count": 32,
   "metadata": {},
   "outputs": [],
   "source": [
    "class Person:\n",
    "    \n",
    "    def __init__(self,first_name):\n",
    "        self.first_name = first_name\n",
    "        \n",
    "    def first_name(self): # 第一个方法是一个 getter 函数，它使得 first_name 成为一个属性。 \n",
    "        return self._first_name # self._first_name?\n",
    "    \n",
    "    def first_name(self, value):\n",
    "        if not isinstance(value, str):\n",
    "            raise TypeError('Expected a string')\n",
    "        self._first_name = value\n",
    "        \n",
    "    def first_name(self):\n",
    "        raise AttributeError('Can\"t delete attribute')"
   ]
  },
  {
   "cell_type": "code",
   "execution_count": 33,
   "metadata": {},
   "outputs": [],
   "source": [
    "a = Person('liugang')"
   ]
  },
  {
   "cell_type": "code",
   "execution_count": 34,
   "metadata": {},
   "outputs": [],
   "source": [
    "a.first_name = 42"
   ]
  },
  {
   "cell_type": "code",
   "execution_count": 35,
   "metadata": {},
   "outputs": [],
   "source": [
    "a.first_name = 'gang'"
   ]
  },
  {
   "cell_type": "code",
   "execution_count": 36,
   "metadata": {},
   "outputs": [
    {
     "data": {
      "text/plain": [
       "'gang'"
      ]
     },
     "execution_count": 36,
     "metadata": {},
     "output_type": "execute_result"
    }
   ],
   "source": [
    "a.first_name"
   ]
  },
  {
   "cell_type": "code",
   "execution_count": 42,
   "metadata": {},
   "outputs": [],
   "source": [
    "#在实现一个property的时候，底层数据(如果有的话)仍然需要存储在某个地方。 \n",
    "#因此，在get和set方法中，你会看到对 _first_name 属性的操作，这也是实际数据保存的地方。 \n",
    "#另外，你可能还会问为什么 __init__() 方法中设置了 (self.first_name) 而不是 (self._first_name)  \n",
    "#在这个例子中，我们创建一个property的目的就是在设置attribute的时候进行检查。 \n",
    "#因此，你可能想在初始化的时候也进行这种类型检查。\n",
    "#通过设置 self.first_name ，自动调用 setter 方法， 这个方法里面会进行参数的检查，\n",
    "#否则.就是直接访问 self._first_name了\n",
    "\n",
    "# 还能在已存在的get和set方法基础上定义property\n",
    "\n",
    "class Person:\n",
    "    def __init__(self, first_name):\n",
    "        self.set_first_name(first_name)\n",
    "\n",
    "    def get_first_name(self):\n",
    "        return self._first_name\n",
    "    \n",
    "    def set_first_name(self, value):\n",
    "        if not isinstance(value, str):\n",
    "            raise TypeError('Expected a string')\n",
    "        self._first_name = value\n",
    "        \n",
    "    def del_first_name(self):\n",
    "        raise AttributeError('Can\"t delete attribute')\n",
    "        \n",
    "    name = property(get_first_name, set_first_name, del_first_name)\n"
   ]
  },
  {
   "cell_type": "code",
   "execution_count": 43,
   "metadata": {},
   "outputs": [
    {
     "ename": "AttributeError",
     "evalue": "type object 'Person' has no attribute 'first_name'",
     "output_type": "error",
     "traceback": [
      "\u001b[1;31m---------------------------------------------------------------------------\u001b[0m",
      "\u001b[1;31mAttributeError\u001b[0m                            Traceback (most recent call last)",
      "\u001b[1;32m<ipython-input-43-e636641005dd>\u001b[0m in \u001b[0;36m<module>\u001b[1;34m\u001b[0m\n\u001b[1;32m----> 1\u001b[1;33m \u001b[0mPerson\u001b[0m\u001b[1;33m.\u001b[0m\u001b[0mfirst_name\u001b[0m\u001b[1;33m.\u001b[0m\u001b[0mfget\u001b[0m \u001b[1;31m# ?\u001b[0m\u001b[1;33m\u001b[0m\u001b[1;33m\u001b[0m\u001b[0m\n\u001b[0m",
      "\u001b[1;31mAttributeError\u001b[0m: type object 'Person' has no attribute 'first_name'"
     ]
    }
   ],
   "source": [
    "Person.first_name.fget # ?"
   ]
  },
  {
   "cell_type": "code",
   "execution_count": 20,
   "metadata": {},
   "outputs": [
    {
     "ename": "TypeError",
     "evalue": "__init__() missing 1 required positional argument: 'first_name'",
     "output_type": "error",
     "traceback": [
      "\u001b[1;31m---------------------------------------------------------------------------\u001b[0m",
      "\u001b[1;31mTypeError\u001b[0m                                 Traceback (most recent call last)",
      "\u001b[1;32m<ipython-input-20-78188a584c9f>\u001b[0m in \u001b[0;36m<module>\u001b[1;34m\u001b[0m\n\u001b[1;32m----> 1\u001b[1;33m \u001b[0mp\u001b[0m \u001b[1;33m=\u001b[0m \u001b[0mPerson\u001b[0m\u001b[1;33m(\u001b[0m\u001b[1;33m)\u001b[0m\u001b[1;33m\u001b[0m\u001b[1;33m\u001b[0m\u001b[0m\n\u001b[0m\u001b[0;32m      2\u001b[0m \u001b[0mp\u001b[0m\u001b[1;33m.\u001b[0m\u001b[0mget_first_name\u001b[0m\u001b[1;33m(\u001b[0m\u001b[1;33m)\u001b[0m\u001b[1;33m\u001b[0m\u001b[1;33m\u001b[0m\u001b[0m\n",
      "\u001b[1;31mTypeError\u001b[0m: __init__() missing 1 required positional argument: 'first_name'"
     ]
    }
   ],
   "source": [
    "p = Person()\n",
    "p.get_first_name()"
   ]
  },
  {
   "cell_type": "code",
   "execution_count": null,
   "metadata": {},
   "outputs": [],
   "source": [
    "# 不要像下面这样写有大量重复代码的property定义\n",
    "class Person:\n",
    "    def __init__(self, first_name, last_name):\n",
    "        self.first_name = first_name\n",
    "        self.last_name = last_name\n",
    "\n",
    "    @property\n",
    "    def first_name(self):\n",
    "        return self._first_name\n",
    "\n",
    "    @first_name.setter\n",
    "    def first_name(self, value):\n",
    "        if not isinstance(value, str):\n",
    "            raise TypeError('Expected a string')\n",
    "        self._first_name = value\n",
    "\n",
    "    # Repeated property code, but for a different name (bad!)\n",
    "    @property\n",
    "    def last_name(self):\n",
    "        return self._last_name\n",
    "\n",
    "    @last_name.setter\n",
    "    def last_name(self, value):\n",
    "        if not isinstance(value, str):\n",
    "            raise TypeError('Expected a string')\n",
    "        self._last_name = value"
   ]
  },
  {
   "cell_type": "markdown",
   "metadata": {},
   "source": [
    "Properties 还是一种定义动态计算 attribute 的方法。这种类型的 attributes 并不会\n",
    "被实际的存储，而是在需要的时候计算出来。"
   ]
  },
  {
   "cell_type": "code",
   "execution_count": 3,
   "metadata": {},
   "outputs": [],
   "source": [
    "import math\n",
    "\n",
    "class Circle:\n",
    "    def __init__(self, radius):\n",
    "        self.radius = radius\n",
    "        \n",
    "    @property\n",
    "    def area(self):\n",
    "        return math.pi * self.radius ** 2\n",
    "    \n",
    "    @property\n",
    "    def diameter(self):\n",
    "        return self.radius * 2\n",
    "    \n",
    "    @property\n",
    "    def perimeter(self):\n",
    "        return 2 * math.pi * self.radius"
   ]
  },
  {
   "cell_type": "markdown",
   "metadata": {},
   "source": [
    "在这里，我们通过使用 properties，将所有的访问接口形式统一起来，对半径、直\n",
    "径、周长和面积的访问都是通过属性访问，就跟访问简单的 attribute 是一样的。如果\n",
    "不这样做的话，那么就要在代码中混合使用简单属性访问和方法调用。下面是使用的实\n",
    "例："
   ]
  },
  {
   "cell_type": "code",
   "execution_count": 4,
   "metadata": {},
   "outputs": [
    {
     "data": {
      "text/plain": [
       "4.0"
      ]
     },
     "execution_count": 4,
     "metadata": {},
     "output_type": "execute_result"
    }
   ],
   "source": [
    "c = Circle(4.0)\n",
    "c.radius"
   ]
  },
  {
   "cell_type": "code",
   "execution_count": 5,
   "metadata": {},
   "outputs": [
    {
     "data": {
      "text/plain": [
       "(50.26548245743669, 25.132741228718345)"
      ]
     },
     "execution_count": 5,
     "metadata": {},
     "output_type": "execute_result"
    }
   ],
   "source": [
    "c.area, c.perimeter"
   ]
  },
  {
   "cell_type": "markdown",
   "metadata": {},
   "source": [
    "尽管 properties 可以实现优雅的编程接口，但有些时候你还是会想直接使用 getter\n",
    "和 setter 函数。例如："
   ]
  },
  {
   "cell_type": "code",
   "execution_count": 6,
   "metadata": {},
   "outputs": [
    {
     "data": {
      "text/plain": [
       "'Guido'"
      ]
     },
     "execution_count": 6,
     "metadata": {},
     "output_type": "execute_result"
    }
   ],
   "source": [
    "p = Person('Guido')\n",
    "p.get_first_name()"
   ]
  },
  {
   "cell_type": "code",
   "execution_count": 7,
   "metadata": {},
   "outputs": [],
   "source": [
    "p.set_first_name('Laraau')"
   ]
  },
  {
   "cell_type": "code",
   "execution_count": 8,
   "metadata": {},
   "outputs": [
    {
     "data": {
      "text/plain": [
       "'Laraau'"
      ]
     },
     "execution_count": 8,
     "metadata": {},
     "output_type": "execute_result"
    }
   ],
   "source": [
    "p.get_first_name()"
   ]
  },
  {
   "cell_type": "markdown",
   "metadata": {},
   "source": [
    "## 调用父类方法"
   ]
  },
  {
   "cell_type": "markdown",
   "metadata": {},
   "source": [
    "你想在子类中调用父类的某个已经被覆盖的方法。"
   ]
  },
  {
   "cell_type": "markdown",
   "metadata": {},
   "source": [
    "为了调用父类 (超类) 的一个方法，可以使用 super() 函数"
   ]
  },
  {
   "cell_type": "code",
   "execution_count": 9,
   "metadata": {},
   "outputs": [],
   "source": [
    "class A:\n",
    "    def spam(self):\n",
    "        print('A.spam')\n",
    "        \n",
    "class B(A):\n",
    "    def spam(self):\n",
    "        print('B.spam')\n",
    "        super().spam() # call parent spam()"
   ]
  },
  {
   "cell_type": "code",
   "execution_count": 10,
   "metadata": {},
   "outputs": [
    {
     "name": "stdout",
     "output_type": "stream",
     "text": [
      "B.spam\n",
      "A.spam\n"
     ]
    }
   ],
   "source": [
    "a = A()\n",
    "b = B()\n",
    "b.spam()"
   ]
  },
  {
   "cell_type": "markdown",
   "metadata": {},
   "source": [
    "super() 函数的一个常见用法是在 __init__() 方法中确保父类被正确的初始化\n",
    "了："
   ]
  },
  {
   "cell_type": "code",
   "execution_count": 12,
   "metadata": {},
   "outputs": [],
   "source": [
    "class A:\n",
    "    def __init__(self):\n",
    "        self.x = 0\n",
    "        \n",
    "class B(A):\n",
    "    def __init__(self):\n",
    "        super().__init__()\n",
    "        self.y = 1"
   ]
  },
  {
   "cell_type": "code",
   "execution_count": 13,
   "metadata": {},
   "outputs": [
    {
     "data": {
      "text/plain": [
       "0"
      ]
     },
     "execution_count": 13,
     "metadata": {},
     "output_type": "execute_result"
    }
   ],
   "source": [
    "a = A()\n",
    "b = B()\n",
    "a.x"
   ]
  },
  {
   "cell_type": "code",
   "execution_count": 14,
   "metadata": {},
   "outputs": [
    {
     "data": {
      "text/plain": [
       "(0, 1)"
      ]
     },
     "execution_count": 14,
     "metadata": {},
     "output_type": "execute_result"
    }
   ],
   "source": [
    "b.x, b.y"
   ]
  },
  {
   "cell_type": "markdown",
   "metadata": {},
   "source": [
    "super() 的另外一个常见用法出现在覆盖 Python 特殊方法的代码中，比如："
   ]
  },
  {
   "cell_type": "code",
   "execution_count": 15,
   "metadata": {},
   "outputs": [],
   "source": [
    "class Proxy:\n",
    "    def __init__(self, obj):\n",
    "        self._obj = obj\n",
    "        \n",
    "    #Delegate attribute lookup to internal obj\n",
    "    def __getattr__(self, name):\n",
    "        return getattr(self._obj, name)\n",
    "    \n",
    "    #Delegate attribute assignment\n",
    "    def __setattr__(self, name, value):\n",
    "        if name.startswith('_'):\n",
    "            super().__setattr__(name, value) # call original __setattr__\n",
    "        else:\n",
    "            setattr(self._obj, name, value)"
   ]
  },
  {
   "cell_type": "markdown",
   "metadata": {},
   "source": [
    "在上面代码中，__setattr__() 的实现包含一个名字检查。如果某个属性名以下划\n",
    "线 (_) 开头，就通过 super() 调用原始的 __setattr__() ，否则的话就委派给内部的\n",
    "代理对象 self._obj 去处理。这看上去有点意思，因为就算没有显式的指明某个类的\n",
    "父类，super() 仍然可以有效的工作"
   ]
  },
  {
   "cell_type": "markdown",
   "metadata": {},
   "source": [
    "实际上，大家对于在 Python 中如何正确使用 super() 函数普遍知之甚少。你有时候会看到像下面这样直接调用父类的一个方法"
   ]
  },
  {
   "cell_type": "code",
   "execution_count": 44,
   "metadata": {},
   "outputs": [],
   "source": [
    "class Base:\n",
    "    def __init__(self):\n",
    "        print('Base.__init__')\n",
    "        \n",
    "class A(Base):\n",
    "    def __init__(self):\n",
    "        Base.__init__(self) \n",
    "        print('A.__init__')"
   ]
  },
  {
   "cell_type": "code",
   "execution_count": 45,
   "metadata": {},
   "outputs": [
    {
     "name": "stdout",
     "output_type": "stream",
     "text": [
      "Base.__init__\n",
      "A.__init__\n"
     ]
    }
   ],
   "source": [
    "a = A()"
   ]
  },
  {
   "cell_type": "code",
   "execution_count": 50,
   "metadata": {},
   "outputs": [],
   "source": [
    "class Base:\n",
    "    def __init__(self):\n",
    "        print('Base.__init__')\n",
    "        \n",
    "class A(Base):\n",
    "    def __init__(self):\n",
    "        super().__init__()  # super.__init__(self)  error\n",
    "        print('A.__init__')"
   ]
  },
  {
   "cell_type": "code",
   "execution_count": 51,
   "metadata": {},
   "outputs": [
    {
     "name": "stdout",
     "output_type": "stream",
     "text": [
      "Base.__init__\n",
      "A.__init__\n"
     ]
    }
   ],
   "source": [
    "a = A()"
   ]
  },
  {
   "cell_type": "markdown",
   "metadata": {},
   "source": [
    "在更复杂的涉及到多继承的代码中就有可能导致很奇怪的问题发生"
   ]
  },
  {
   "cell_type": "code",
   "execution_count": 18,
   "metadata": {},
   "outputs": [],
   "source": [
    "class Base:\n",
    "    def __init__(self):\n",
    "        print(\"Base.__init__\")\n",
    "        \n",
    "class A(Base):\n",
    "    def __init__(self):\n",
    "        Base.__init__(self)\n",
    "        print('A.__init__')\n",
    "        \n",
    "class B(Base):\n",
    "    def __init__(self):\n",
    "        Base.__init__(self)\n",
    "        print('B.__init__')\n",
    "        \n",
    "class C(A,B):\n",
    "    def __init__(self):\n",
    "        A.__init__(self)\n",
    "        B.__init__(self)\n",
    "        print('C.__init__')"
   ]
  },
  {
   "cell_type": "code",
   "execution_count": 19,
   "metadata": {},
   "outputs": [
    {
     "name": "stdout",
     "output_type": "stream",
     "text": [
      "Base.__init__\n",
      "A.__init__\n",
      "Base.__init__\n",
      "B.__init__\n",
      "C.__init__\n"
     ]
    }
   ],
   "source": [
    "c = C()"
   ]
  },
  {
   "cell_type": "markdown",
   "metadata": {},
   "source": [
    "两次调用 Base.__init__() 没什么坏处，但有时候却不是。另一方面，假设你在代码中换成使用 super() ，结果就很完美了："
   ]
  },
  {
   "cell_type": "code",
   "execution_count": 21,
   "metadata": {},
   "outputs": [],
   "source": [
    "class Base:\n",
    "    def __init__(self):\n",
    "        print('Base.__init__')\n",
    "        \n",
    "class A(Base):\n",
    "    def __init__(self):\n",
    "        super().__init__() # Base.__init__(self)\n",
    "        print('A.__init__')\n",
    "        \n",
    "class B(Base):\n",
    "    def __init__(self):\n",
    "        super().__init__()\n",
    "        print('B.__init__')\n",
    "        \n",
    "class C(A, B):\n",
    "    def __init__(self):\n",
    "        super().__init__()\n",
    "        print('C.__init__')"
   ]
  },
  {
   "cell_type": "code",
   "execution_count": 22,
   "metadata": {},
   "outputs": [
    {
     "name": "stdout",
     "output_type": "stream",
     "text": [
      "Base.__init__\n",
      "B.__init__\n",
      "A.__init__\n",
      "C.__init__\n"
     ]
    }
   ],
   "source": [
    "c = C()"
   ]
  },
  {
   "cell_type": "markdown",
   "metadata": {},
   "source": [
    "## review 2019.11.5 ↑"
   ]
  },
  {
   "cell_type": "markdown",
   "metadata": {},
   "source": [
    "为了弄清它的原理，我们需要花点时间解释下 Python 是如何实现继承的。对于你定义的每一个类，Python 会计算出一个所谓的方法解析顺序 (MRO) 列表。这个 MRO列表就是一个简单的所有基类的线性顺序表"
   ]
  },
  {
   "cell_type": "code",
   "execution_count": 24,
   "metadata": {},
   "outputs": [
    {
     "data": {
      "text/plain": [
       "(__main__.C, __main__.A, __main__.B, __main__.Base, object)"
      ]
     },
     "execution_count": 24,
     "metadata": {},
     "output_type": "execute_result"
    }
   ],
   "source": [
    "C.__mro__"
   ]
  },
  {
   "cell_type": "markdown",
   "metadata": {},
   "source": [
    "为了实现继承，Python 会在 MRO 列表上从左到右开始查找基类，直到找到第一个匹配这个属性的类为止。\n",
    "\n",
    "而这个 MRO 列表的构造是通过一个 C3 线性化算法来实现的。我们不去深究这个算法的数学原理，它实际上就是合并所有父类的 MRO 列表并遵循如下三条准则：\n",
    "\n",
    "• 子类会先于父类被检查\n",
    "\n",
    "• 多个父类会根据它们在列表中的顺序被检查\n",
    "\n",
    "• 如果对下一个类存在两个合法的选择，选择第一个父类\n",
    "\n",
    "老实说，你所要知道的就是 MRO 列表中的类顺序会让你定义的任意类层级关系变得有意义。\n",
    "\n",
    "当你使用 super() 函数时，Python 会在 MRO 列表上继续搜索下一个类。只要每个重定义的方法统一使用 super() 并只调用它一次，那么控制流最终会遍历完整个MRO 列表，每个方法也只会被调用一次。这也是为什么在第二个例子中你不会调用两次 Base.__init__() 的原因。\n",
    "\n",
    "super() 有个令人吃惊的地方是它并不一定去查找某个类在 MRO 中下一个直接父类，你甚至可以在一个没有直接父类的类中使用它。例如，考虑如下这个类："
   ]
  },
  {
   "cell_type": "code",
   "execution_count": 25,
   "metadata": {},
   "outputs": [],
   "source": [
    "class A:\n",
    "    def spam(self):\n",
    "        print('A.spam')\n",
    "        super().spam()"
   ]
  },
  {
   "cell_type": "code",
   "execution_count": 26,
   "metadata": {},
   "outputs": [
    {
     "name": "stdout",
     "output_type": "stream",
     "text": [
      "A.spam\n"
     ]
    },
    {
     "ename": "AttributeError",
     "evalue": "'super' object has no attribute 'spam'",
     "output_type": "error",
     "traceback": [
      "\u001b[1;31m---------------------------------------------------------------------------\u001b[0m",
      "\u001b[1;31mAttributeError\u001b[0m                            Traceback (most recent call last)",
      "\u001b[1;32m<ipython-input-26-567efd26aa5c>\u001b[0m in \u001b[0;36m<module>\u001b[1;34m\u001b[0m\n\u001b[0;32m      1\u001b[0m \u001b[0ma\u001b[0m \u001b[1;33m=\u001b[0m \u001b[0mA\u001b[0m\u001b[1;33m(\u001b[0m\u001b[1;33m)\u001b[0m\u001b[1;33m\u001b[0m\u001b[1;33m\u001b[0m\u001b[0m\n\u001b[1;32m----> 2\u001b[1;33m \u001b[0ma\u001b[0m\u001b[1;33m.\u001b[0m\u001b[0mspam\u001b[0m\u001b[1;33m(\u001b[0m\u001b[1;33m)\u001b[0m\u001b[1;33m\u001b[0m\u001b[1;33m\u001b[0m\u001b[0m\n\u001b[0m",
      "\u001b[1;32m<ipython-input-25-2dbdaa4e4ae8>\u001b[0m in \u001b[0;36mspam\u001b[1;34m(self)\u001b[0m\n\u001b[0;32m      2\u001b[0m     \u001b[1;32mdef\u001b[0m \u001b[0mspam\u001b[0m\u001b[1;33m(\u001b[0m\u001b[0mself\u001b[0m\u001b[1;33m)\u001b[0m\u001b[1;33m:\u001b[0m\u001b[1;33m\u001b[0m\u001b[1;33m\u001b[0m\u001b[0m\n\u001b[0;32m      3\u001b[0m         \u001b[0mprint\u001b[0m\u001b[1;33m(\u001b[0m\u001b[1;34m'A.spam'\u001b[0m\u001b[1;33m)\u001b[0m\u001b[1;33m\u001b[0m\u001b[1;33m\u001b[0m\u001b[0m\n\u001b[1;32m----> 4\u001b[1;33m         \u001b[0msuper\u001b[0m\u001b[1;33m(\u001b[0m\u001b[1;33m)\u001b[0m\u001b[1;33m.\u001b[0m\u001b[0mspam\u001b[0m\u001b[1;33m(\u001b[0m\u001b[1;33m)\u001b[0m\u001b[1;33m\u001b[0m\u001b[1;33m\u001b[0m\u001b[0m\n\u001b[0m",
      "\u001b[1;31mAttributeError\u001b[0m: 'super' object has no attribute 'spam'"
     ]
    }
   ],
   "source": [
    "a = A()\n",
    "a.spam()"
   ]
  },
  {
   "cell_type": "markdown",
   "metadata": {},
   "source": [
    "但是，如果你使用多继承的话看看会发生什么："
   ]
  },
  {
   "cell_type": "code",
   "execution_count": 27,
   "metadata": {},
   "outputs": [
    {
     "name": "stdout",
     "output_type": "stream",
     "text": [
      "A.spam\n",
      "B.spam\n"
     ]
    }
   ],
   "source": [
    "class B:\n",
    "    def spam(self):\n",
    "        print('B.spam')\n",
    "        \n",
    "class C(A,B):\n",
    "    pass\n",
    "\n",
    "c = C()\n",
    "c.spam()"
   ]
  },
  {
   "cell_type": "markdown",
   "metadata": {},
   "source": [
    "你可以看到在类 A 中使用 super().spam() 实际上调用的是跟类 A 毫无关系的类B 中的 spam() 方法。这个用类 C 的 MRO 列表就可以完全解释清楚了："
   ]
  },
  {
   "cell_type": "code",
   "execution_count": 28,
   "metadata": {},
   "outputs": [
    {
     "data": {
      "text/plain": [
       "(__main__.C, __main__.A, __main__.B, object)"
      ]
     },
     "execution_count": 28,
     "metadata": {},
     "output_type": "execute_result"
    }
   ],
   "source": [
    "C.__mro__"
   ]
  },
  {
   "cell_type": "markdown",
   "metadata": {},
   "source": [
    "在定义混入类的时候这样使用 super() 是很普遍的"
   ]
  },
  {
   "cell_type": "markdown",
   "metadata": {},
   "source": [
    "然而，由于 super() 可能会调用不是你想要的方法，你应该遵循一些通用原则。首先，确保在继承体系中所有相同名字的方法拥有可兼容的参数签名 (比如相同的参数个数和参数名称)。这样可以确保 super() 调用一个非直接父类方法时不会出错。其次，最好确保最顶层的类提供了这个方法的实现，这样的话在 MRO 上面的查找链肯定可以找到某个确定的方法"
   ]
  },
  {
   "cell_type": "markdown",
   "metadata": {},
   "source": [
    "## 子类中扩展 property"
   ]
  },
  {
   "cell_type": "markdown",
   "metadata": {},
   "source": [
    "在子类中，你想要扩展定义在父类中的 property 的功能"
   ]
  },
  {
   "cell_type": "markdown",
   "metadata": {},
   "source": [
    "考虑如下的代码，它定义了一个 property"
   ]
  },
  {
   "cell_type": "code",
   "execution_count": 2,
   "metadata": {},
   "outputs": [],
   "source": [
    "class Person:\n",
    "    def __init__(self, name):\n",
    "        self.name = name\n",
    "        \n",
    "    # Getter function\n",
    "    @property\n",
    "    def name(self):\n",
    "        return self._name\n",
    "    \n",
    "    #Setter function\n",
    "    @name.setter\n",
    "    def name(self, value):\n",
    "        if not isinstance(value, str):\n",
    "            raise TypeError('Expected a string')\n",
    "        self._name = value\n",
    "        \n",
    "    #Deleter function\n",
    "    @name.deleter\n",
    "    def name(self):\n",
    "        raise AttributeError('Can\"t delete attribute')\n",
    "        \n",
    "class SubPerson(Person):\n",
    "    @property\n",
    "    def name(self):\n",
    "        print('Getting name')\n",
    "        return super().name\n",
    "    \n",
    "    @name.setter\n",
    "    def name(self, value):\n",
    "        print('Setting name to ', value)\n",
    "        super(SubPerson, SubPerson).name.__set__(self, value)\n",
    "        \n",
    "    @name.deleter\n",
    "    def name(self):\n",
    "        print('Deleting name')\n",
    "        super(SubPerson, SubPerson).name.__delete__(self)"
   ]
  },
  {
   "cell_type": "code",
   "execution_count": 3,
   "metadata": {},
   "outputs": [
    {
     "name": "stdout",
     "output_type": "stream",
     "text": [
      "Setting name to  Guido\n"
     ]
    }
   ],
   "source": [
    "s = SubPerson('Guido')"
   ]
  },
  {
   "cell_type": "code",
   "execution_count": 4,
   "metadata": {},
   "outputs": [
    {
     "name": "stdout",
     "output_type": "stream",
     "text": [
      "Getting name\n"
     ]
    },
    {
     "data": {
      "text/plain": [
       "'Guido'"
      ]
     },
     "execution_count": 4,
     "metadata": {},
     "output_type": "execute_result"
    }
   ],
   "source": [
    "s.name "
   ]
  },
  {
   "cell_type": "code",
   "execution_count": 5,
   "metadata": {},
   "outputs": [
    {
     "name": "stdout",
     "output_type": "stream",
     "text": [
      "Setting name to  liugang\n"
     ]
    }
   ],
   "source": [
    "s.name = 'liugang'"
   ]
  },
  {
   "cell_type": "code",
   "execution_count": 6,
   "metadata": {
    "scrolled": true
   },
   "outputs": [
    {
     "name": "stdout",
     "output_type": "stream",
     "text": [
      "Setting name to  444\n"
     ]
    },
    {
     "ename": "TypeError",
     "evalue": "Expected a string",
     "output_type": "error",
     "traceback": [
      "\u001b[1;31m---------------------------------------------------------------------------\u001b[0m",
      "\u001b[1;31mTypeError\u001b[0m                                 Traceback (most recent call last)",
      "\u001b[1;32m<ipython-input-6-70a2cb252f5e>\u001b[0m in \u001b[0;36m<module>\u001b[1;34m\u001b[0m\n\u001b[1;32m----> 1\u001b[1;33m \u001b[0ms\u001b[0m\u001b[1;33m.\u001b[0m\u001b[0mname\u001b[0m \u001b[1;33m=\u001b[0m \u001b[1;36m444\u001b[0m\u001b[1;33m\u001b[0m\u001b[1;33m\u001b[0m\u001b[0m\n\u001b[0m",
      "\u001b[1;32m<ipython-input-2-9453d6201b04>\u001b[0m in \u001b[0;36mname\u001b[1;34m(self, value)\u001b[0m\n\u001b[0;32m     29\u001b[0m     \u001b[1;32mdef\u001b[0m \u001b[0mname\u001b[0m\u001b[1;33m(\u001b[0m\u001b[0mself\u001b[0m\u001b[1;33m,\u001b[0m \u001b[0mvalue\u001b[0m\u001b[1;33m)\u001b[0m\u001b[1;33m:\u001b[0m\u001b[1;33m\u001b[0m\u001b[1;33m\u001b[0m\u001b[0m\n\u001b[0;32m     30\u001b[0m         \u001b[0mprint\u001b[0m\u001b[1;33m(\u001b[0m\u001b[1;34m'Setting name to '\u001b[0m\u001b[1;33m,\u001b[0m \u001b[0mvalue\u001b[0m\u001b[1;33m)\u001b[0m\u001b[1;33m\u001b[0m\u001b[1;33m\u001b[0m\u001b[0m\n\u001b[1;32m---> 31\u001b[1;33m         \u001b[0msuper\u001b[0m\u001b[1;33m(\u001b[0m\u001b[0mSubPerson\u001b[0m\u001b[1;33m,\u001b[0m \u001b[0mSubPerson\u001b[0m\u001b[1;33m)\u001b[0m\u001b[1;33m.\u001b[0m\u001b[0mname\u001b[0m\u001b[1;33m.\u001b[0m\u001b[0m__set__\u001b[0m\u001b[1;33m(\u001b[0m\u001b[0mself\u001b[0m\u001b[1;33m,\u001b[0m \u001b[0mvalue\u001b[0m\u001b[1;33m)\u001b[0m\u001b[1;33m\u001b[0m\u001b[1;33m\u001b[0m\u001b[0m\n\u001b[0m\u001b[0;32m     32\u001b[0m \u001b[1;33m\u001b[0m\u001b[0m\n\u001b[0;32m     33\u001b[0m     \u001b[1;33m@\u001b[0m\u001b[0mname\u001b[0m\u001b[1;33m.\u001b[0m\u001b[0mdeleter\u001b[0m\u001b[1;33m\u001b[0m\u001b[1;33m\u001b[0m\u001b[0m\n",
      "\u001b[1;32m<ipython-input-2-9453d6201b04>\u001b[0m in \u001b[0;36mname\u001b[1;34m(self, value)\u001b[0m\n\u001b[0;32m     12\u001b[0m     \u001b[1;32mdef\u001b[0m \u001b[0mname\u001b[0m\u001b[1;33m(\u001b[0m\u001b[0mself\u001b[0m\u001b[1;33m,\u001b[0m \u001b[0mvalue\u001b[0m\u001b[1;33m)\u001b[0m\u001b[1;33m:\u001b[0m\u001b[1;33m\u001b[0m\u001b[1;33m\u001b[0m\u001b[0m\n\u001b[0;32m     13\u001b[0m         \u001b[1;32mif\u001b[0m \u001b[1;32mnot\u001b[0m \u001b[0misinstance\u001b[0m\u001b[1;33m(\u001b[0m\u001b[0mvalue\u001b[0m\u001b[1;33m,\u001b[0m \u001b[0mstr\u001b[0m\u001b[1;33m)\u001b[0m\u001b[1;33m:\u001b[0m\u001b[1;33m\u001b[0m\u001b[1;33m\u001b[0m\u001b[0m\n\u001b[1;32m---> 14\u001b[1;33m             \u001b[1;32mraise\u001b[0m \u001b[0mTypeError\u001b[0m\u001b[1;33m(\u001b[0m\u001b[1;34m'Expected a string'\u001b[0m\u001b[1;33m)\u001b[0m\u001b[1;33m\u001b[0m\u001b[1;33m\u001b[0m\u001b[0m\n\u001b[0m\u001b[0;32m     15\u001b[0m         \u001b[0mself\u001b[0m\u001b[1;33m.\u001b[0m\u001b[0m_name\u001b[0m \u001b[1;33m=\u001b[0m \u001b[0mvalue\u001b[0m\u001b[1;33m\u001b[0m\u001b[1;33m\u001b[0m\u001b[0m\n\u001b[0;32m     16\u001b[0m \u001b[1;33m\u001b[0m\u001b[0m\n",
      "\u001b[1;31mTypeError\u001b[0m: Expected a string"
     ]
    }
   ],
   "source": [
    "s.name = 444"
   ]
  },
  {
   "cell_type": "markdown",
   "metadata": {},
   "source": [
    "如果你仅仅只想扩展 property 的某一个方法，那么可以像下面这样写"
   ]
  },
  {
   "cell_type": "code",
   "execution_count": 7,
   "metadata": {},
   "outputs": [],
   "source": [
    "class SubPerson(Person):\n",
    "    @Person.name.getter\n",
    "    def name(self):\n",
    "        print('Getting name')\n",
    "        return super().name\n",
    "    \n",
    "# 你只想修改setter方法\n",
    "\n",
    "class SubPerson(Person):\n",
    "    @Person.name.setter\n",
    "    def name(self, value):\n",
    "        print('Setting name to', value)\n",
    "        super(SubPerson, SubPerson).name.__set__(self, value)"
   ]
  },
  {
   "cell_type": "markdown",
   "metadata": {},
   "source": [
    "......."
   ]
  },
  {
   "cell_type": "markdown",
   "metadata": {},
   "source": [
    "## 创建新的类或实例属性"
   ]
  },
  {
   "cell_type": "markdown",
   "metadata": {},
   "source": [
    "你想创建一个新的拥有一些额外功能的实例属性类型,比如类型检查"
   ]
  },
  {
   "cell_type": "markdown",
   "metadata": {},
   "source": [
    "如果你想创建一个全新的实例属性，可以通过一个描述器类的形式来定义它的功\n",
    "能。下面是一个例子"
   ]
  },
  {
   "cell_type": "code",
   "execution_count": 12,
   "metadata": {},
   "outputs": [],
   "source": [
    "class Integer:\n",
    "    def __init__(self, name):\n",
    "        self.name = name\n",
    "        \n",
    "    def __get__(self, instance, cls): # name sui bian qi?\n",
    "        if instance is None:\n",
    "            return self\n",
    "        else:\n",
    "            return instance.__dict__[self.name]\n",
    "        \n",
    "    def __set__(self, instance, value):\n",
    "        if not isinstance(value, int):\n",
    "            raise TypeError('Expected an int')\n",
    "        instance.__dict__[self.name] = value # ?\n",
    "\n",
    "    def __delete__(self, instance):\n",
    "        del instance.__dict__[self.name]\n",
    "            "
   ]
  },
  {
   "cell_type": "code",
   "execution_count": 16,
   "metadata": {},
   "outputs": [],
   "source": [
    "class Point:\n",
    "    x = Integer('x')\n",
    "    y = Integer('y')\n",
    "    \n",
    "    def __init__(self, x, y):\n",
    "        self.x = x\n",
    "        self.y = y"
   ]
  },
  {
   "cell_type": "code",
   "execution_count": 17,
   "metadata": {},
   "outputs": [
    {
     "data": {
      "text/plain": [
       "2"
      ]
     },
     "execution_count": 17,
     "metadata": {},
     "output_type": "execute_result"
    }
   ],
   "source": [
    "p = Point(2, 3)\n",
    "p.x"
   ]
  },
  {
   "cell_type": "code",
   "execution_count": 18,
   "metadata": {},
   "outputs": [
    {
     "ename": "TypeError",
     "evalue": "Expected an int",
     "output_type": "error",
     "traceback": [
      "\u001b[1;31m---------------------------------------------------------------------------\u001b[0m",
      "\u001b[1;31mTypeError\u001b[0m                                 Traceback (most recent call last)",
      "\u001b[1;32m<ipython-input-18-c42d67eba584>\u001b[0m in \u001b[0;36m<module>\u001b[1;34m\u001b[0m\n\u001b[0;32m      1\u001b[0m \u001b[0mp\u001b[0m\u001b[1;33m.\u001b[0m\u001b[0my\u001b[0m \u001b[1;33m=\u001b[0m \u001b[1;36m5\u001b[0m\u001b[1;33m\u001b[0m\u001b[1;33m\u001b[0m\u001b[0m\n\u001b[1;32m----> 2\u001b[1;33m \u001b[0mp\u001b[0m\u001b[1;33m.\u001b[0m\u001b[0mx\u001b[0m \u001b[1;33m=\u001b[0m \u001b[1;36m2.3\u001b[0m\u001b[1;33m\u001b[0m\u001b[1;33m\u001b[0m\u001b[0m\n\u001b[0m",
      "\u001b[1;32m<ipython-input-12-c1fe7dc652fe>\u001b[0m in \u001b[0;36m__set__\u001b[1;34m(self, instance, value)\u001b[0m\n\u001b[0;32m     11\u001b[0m     \u001b[1;32mdef\u001b[0m \u001b[0m__set__\u001b[0m\u001b[1;33m(\u001b[0m\u001b[0mself\u001b[0m\u001b[1;33m,\u001b[0m \u001b[0minstance\u001b[0m\u001b[1;33m,\u001b[0m \u001b[0mvalue\u001b[0m\u001b[1;33m)\u001b[0m\u001b[1;33m:\u001b[0m\u001b[1;33m\u001b[0m\u001b[1;33m\u001b[0m\u001b[0m\n\u001b[0;32m     12\u001b[0m         \u001b[1;32mif\u001b[0m \u001b[1;32mnot\u001b[0m \u001b[0misinstance\u001b[0m\u001b[1;33m(\u001b[0m\u001b[0mvalue\u001b[0m\u001b[1;33m,\u001b[0m \u001b[0mint\u001b[0m\u001b[1;33m)\u001b[0m\u001b[1;33m:\u001b[0m\u001b[1;33m\u001b[0m\u001b[1;33m\u001b[0m\u001b[0m\n\u001b[1;32m---> 13\u001b[1;33m             \u001b[1;32mraise\u001b[0m \u001b[0mTypeError\u001b[0m\u001b[1;33m(\u001b[0m\u001b[1;34m'Expected an int'\u001b[0m\u001b[1;33m)\u001b[0m\u001b[1;33m\u001b[0m\u001b[1;33m\u001b[0m\u001b[0m\n\u001b[0m\u001b[0;32m     14\u001b[0m         \u001b[0minstance\u001b[0m\u001b[1;33m.\u001b[0m\u001b[0m__dict__\u001b[0m\u001b[1;33m[\u001b[0m\u001b[0mself\u001b[0m\u001b[1;33m.\u001b[0m\u001b[0mname\u001b[0m\u001b[1;33m]\u001b[0m \u001b[1;33m=\u001b[0m \u001b[0mvalue\u001b[0m\u001b[1;33m\u001b[0m\u001b[1;33m\u001b[0m\u001b[0m\n\u001b[0;32m     15\u001b[0m \u001b[1;33m\u001b[0m\u001b[0m\n",
      "\u001b[1;31mTypeError\u001b[0m: Expected an int"
     ]
    }
   ],
   "source": [
    "p.y = 5\n",
    "p.x = 2.3"
   ]
  },
  {
   "cell_type": "markdown",
   "metadata": {},
   "source": [
    "通过定义一个描述器，你可以在底层捕获核心的实例操作 (get, set, delete)，并且可完全自定义它们的行为。这是一个强大的工具，有了它你可以实现很多高级功能，并且它也是很多高级库和框架中的重要工具之一。\n",
    "\n",
    "描述器的一个比较困惑的地方是它只能在类级别被定义，而不能为每个实例单独\n",
    "定义。因此，下面的代码是无法工作的："
   ]
  },
  {
   "cell_type": "code",
   "execution_count": 19,
   "metadata": {},
   "outputs": [],
   "source": [
    "# Dose not work\n",
    "\n",
    "class Point(object):\n",
    "    def __init__(self, x, y):\n",
    "        self.x = Integer('x')\n",
    "        self.y = Integet('y')\n",
    "        self.x = x\n",
    "        self.y = y"
   ]
  },
  {
   "cell_type": "code",
   "execution_count": 22,
   "metadata": {},
   "outputs": [],
   "source": [
    "class Integer:\n",
    "    def __get__(self, instance, cls):\n",
    "        if instance is None:\n",
    "            return self\n",
    "        else:\n",
    "            return instance.__dict__[self.name]"
   ]
  },
  {
   "cell_type": "code",
   "execution_count": 23,
   "metadata": {},
   "outputs": [
    {
     "ename": "TypeError",
     "evalue": "Integer() takes no arguments",
     "output_type": "error",
     "traceback": [
      "\u001b[1;31m---------------------------------------------------------------------------\u001b[0m",
      "\u001b[1;31mTypeError\u001b[0m                                 Traceback (most recent call last)",
      "\u001b[1;32m<ipython-input-23-947da7433511>\u001b[0m in \u001b[0;36m<module>\u001b[1;34m\u001b[0m\n\u001b[1;32m----> 1\u001b[1;33m \u001b[0mp\u001b[0m \u001b[1;33m=\u001b[0m \u001b[0mPoint\u001b[0m\u001b[1;33m(\u001b[0m\u001b[1;36m2\u001b[0m\u001b[1;33m,\u001b[0m \u001b[1;36m3\u001b[0m\u001b[1;33m)\u001b[0m\u001b[1;33m\u001b[0m\u001b[1;33m\u001b[0m\u001b[0m\n\u001b[0m\u001b[0;32m      2\u001b[0m \u001b[0mp\u001b[0m\u001b[1;33m.\u001b[0m\u001b[0mx\u001b[0m\u001b[1;33m\u001b[0m\u001b[1;33m\u001b[0m\u001b[0m\n",
      "\u001b[1;32m<ipython-input-19-09bc61eb8a54>\u001b[0m in \u001b[0;36m__init__\u001b[1;34m(self, x, y)\u001b[0m\n\u001b[0;32m      3\u001b[0m \u001b[1;32mclass\u001b[0m \u001b[0mPoint\u001b[0m\u001b[1;33m(\u001b[0m\u001b[0mobject\u001b[0m\u001b[1;33m)\u001b[0m\u001b[1;33m:\u001b[0m\u001b[1;33m\u001b[0m\u001b[1;33m\u001b[0m\u001b[0m\n\u001b[0;32m      4\u001b[0m     \u001b[1;32mdef\u001b[0m \u001b[0m__init__\u001b[0m\u001b[1;33m(\u001b[0m\u001b[0mself\u001b[0m\u001b[1;33m,\u001b[0m \u001b[0mx\u001b[0m\u001b[1;33m,\u001b[0m \u001b[0my\u001b[0m\u001b[1;33m)\u001b[0m\u001b[1;33m:\u001b[0m\u001b[1;33m\u001b[0m\u001b[1;33m\u001b[0m\u001b[0m\n\u001b[1;32m----> 5\u001b[1;33m         \u001b[0mself\u001b[0m\u001b[1;33m.\u001b[0m\u001b[0mx\u001b[0m \u001b[1;33m=\u001b[0m \u001b[0mInteger\u001b[0m\u001b[1;33m(\u001b[0m\u001b[1;34m'x'\u001b[0m\u001b[1;33m)\u001b[0m\u001b[1;33m\u001b[0m\u001b[1;33m\u001b[0m\u001b[0m\n\u001b[0m\u001b[0;32m      6\u001b[0m         \u001b[0mself\u001b[0m\u001b[1;33m.\u001b[0m\u001b[0my\u001b[0m \u001b[1;33m=\u001b[0m \u001b[0mInteget\u001b[0m\u001b[1;33m(\u001b[0m\u001b[1;34m'y'\u001b[0m\u001b[1;33m)\u001b[0m\u001b[1;33m\u001b[0m\u001b[1;33m\u001b[0m\u001b[0m\n\u001b[0;32m      7\u001b[0m         \u001b[0mself\u001b[0m\u001b[1;33m.\u001b[0m\u001b[0mx\u001b[0m \u001b[1;33m=\u001b[0m \u001b[0mx\u001b[0m\u001b[1;33m\u001b[0m\u001b[1;33m\u001b[0m\u001b[0m\n",
      "\u001b[1;31mTypeError\u001b[0m: Integer() takes no arguments"
     ]
    }
   ],
   "source": [
    "p = Point(2, 3)\n",
    "p.x"
   ]
  },
  {
   "cell_type": "code",
   "execution_count": 24,
   "metadata": {},
   "outputs": [
    {
     "ename": "AttributeError",
     "evalue": "type object 'Point' has no attribute 'x'",
     "output_type": "error",
     "traceback": [
      "\u001b[1;31m---------------------------------------------------------------------------\u001b[0m",
      "\u001b[1;31mAttributeError\u001b[0m                            Traceback (most recent call last)",
      "\u001b[1;32m<ipython-input-24-68377b1d6e0b>\u001b[0m in \u001b[0;36m<module>\u001b[1;34m\u001b[0m\n\u001b[1;32m----> 1\u001b[1;33m \u001b[0mPoint\u001b[0m\u001b[1;33m.\u001b[0m\u001b[0mx\u001b[0m\u001b[1;33m\u001b[0m\u001b[1;33m\u001b[0m\u001b[0m\n\u001b[0m",
      "\u001b[1;31mAttributeError\u001b[0m: type object 'Point' has no attribute 'x'"
     ]
    }
   ],
   "source": [
    "Point.x"
   ]
  },
  {
   "cell_type": "markdown",
   "metadata": {},
   "source": [
    "描述器通常是那些使用到装饰器或元类的大型框架中的一个组件。同时它们的使\n",
    "用也被隐藏在后面。举个例子，下面是一些更高级的基于描述器的代码，并涉及到一个\n",
    "类装饰器："
   ]
  },
  {
   "cell_type": "code",
   "execution_count": 25,
   "metadata": {},
   "outputs": [],
   "source": [
    "# Descriptor for a type-checked attribute\n",
    "class Typed:\n",
    "    def __init__(self, name, expected_type):\n",
    "        self.name = name\n",
    "        self.expected_type = expected_type\n",
    "        \n",
    "    def __get__(self, instance, cls):\n",
    "        if instance is None:\n",
    "            return self\n",
    "        else:\n",
    "            return instance.__dict__[self.name]\n",
    "        \n",
    "    def __set__(self, instance, value):\n",
    "        if not isinstance(value, self.expected_type):\n",
    "            raise TypeError('Expected ' + str(self.expected_type))\n",
    "        instance.__dict__[self.name] = value\n",
    "        \n",
    "    def __delete__(self, instance):\n",
    "        del instance.__dict__[self.name]\n",
    "        \n",
    "# Class decorator that applies it to selected attributes\n",
    "def typeassert(**kwargs):\n",
    "    def decorate(cls):\n",
    "        for name, expected_type in kwargs.items():\n",
    "            # Attach a Typed descriptor to the class\n",
    "            setattr(cls, name, Typed(name, expected_type))\n",
    "        return cls\n",
    "    return decorate\n",
    "\n",
    "# Example use\n",
    "@typeassert(name=str, shares=int, price=float)\n",
    "class Stock:\n",
    "    def __init__(self, name, shares, price):\n",
    "        self.name = name\n",
    "        self.shares = shares\n",
    "        self.price = price"
   ]
  },
  {
   "cell_type": "markdown",
   "metadata": {},
   "source": [
    "最后要指出的一点是，如果你只是想简单的自定义某个类的单个属性访问的话就\n",
    "不用去写描述器了。这种情况下使用 8.6 小节介绍的 property 技术会更加容易。当程\n",
    "序中有很多重复代码的时候描述器就很有用了 (比如你想在你代码的很多地方使用描述\n",
    "器提供的功能或者将它作为一个函数库特性)"
   ]
  },
  {
   "cell_type": "markdown",
   "metadata": {},
   "source": [
    "## 简化数据结构的初始化"
   ]
  },
  {
   "cell_type": "markdown",
   "metadata": {},
   "source": [
    "你写了很多仅仅用作数据结构的类，不想写太多烦人的 __init__() 函数"
   ]
  },
  {
   "cell_type": "markdown",
   "metadata": {},
   "source": [
    "可以在一个基类中写一个公用的 __init__() 函数"
   ]
  },
  {
   "cell_type": "code",
   "execution_count": 26,
   "metadata": {},
   "outputs": [],
   "source": [
    "import math\n",
    "\n",
    "class Structure:\n",
    "    #class variable that specifies expected fields\n",
    "    _fields = []\n",
    "    \n",
    "    def __init__(self, *args):\n",
    "        if len(args) != len(self._fields):\n",
    "            raise TypeError('Expected {} argument'.format(len(self._fields)))\n",
    "        # set the argument\n",
    "        for name, value in zip(self._fields, args):\n",
    "            setattr(self, name, value)"
   ]
  },
  {
   "cell_type": "code",
   "execution_count": 27,
   "metadata": {},
   "outputs": [],
   "source": [
    "class Stock(Structure):\n",
    "    _fields = ['name', 'shares', 'prices']\n",
    "    \n",
    "class Point(Structure):\n",
    "    _fields = ['x', 'y']\n",
    "    \n",
    "class Circle(Structure):\n",
    "    _fields = ['radius']\n",
    "    \n",
    "    def area(self):\n",
    "        return math.pi * self.radius ** 2"
   ]
  },
  {
   "cell_type": "code",
   "execution_count": 28,
   "metadata": {},
   "outputs": [
    {
     "ename": "TypeError",
     "evalue": "Expected 3 argument",
     "output_type": "error",
     "traceback": [
      "\u001b[1;31m---------------------------------------------------------------------------\u001b[0m",
      "\u001b[1;31mTypeError\u001b[0m                                 Traceback (most recent call last)",
      "\u001b[1;32m<ipython-input-28-2ed85a542f15>\u001b[0m in \u001b[0;36m<module>\u001b[1;34m\u001b[0m\n\u001b[0;32m      4\u001b[0m \u001b[0mp\u001b[0m \u001b[1;33m=\u001b[0m \u001b[0mPoint\u001b[0m\u001b[1;33m(\u001b[0m\u001b[1;36m2\u001b[0m\u001b[1;33m,\u001b[0m \u001b[1;36m3\u001b[0m\u001b[1;33m)\u001b[0m\u001b[1;33m\u001b[0m\u001b[1;33m\u001b[0m\u001b[0m\n\u001b[0;32m      5\u001b[0m \u001b[0mc\u001b[0m \u001b[1;33m=\u001b[0m \u001b[0mCircle\u001b[0m\u001b[1;33m(\u001b[0m\u001b[1;36m4.5\u001b[0m\u001b[1;33m)\u001b[0m\u001b[1;33m\u001b[0m\u001b[1;33m\u001b[0m\u001b[0m\n\u001b[1;32m----> 6\u001b[1;33m \u001b[0ms2\u001b[0m \u001b[1;33m=\u001b[0m \u001b[0mStock\u001b[0m\u001b[1;33m(\u001b[0m\u001b[1;34m'ACME'\u001b[0m\u001b[1;33m,\u001b[0m \u001b[1;36m50\u001b[0m\u001b[1;33m)\u001b[0m\u001b[1;33m\u001b[0m\u001b[1;33m\u001b[0m\u001b[0m\n\u001b[0m",
      "\u001b[1;32m<ipython-input-26-786a81c9e2c2>\u001b[0m in \u001b[0;36m__init__\u001b[1;34m(self, *args)\u001b[0m\n\u001b[0;32m      7\u001b[0m     \u001b[1;32mdef\u001b[0m \u001b[0m__init__\u001b[0m\u001b[1;33m(\u001b[0m\u001b[0mself\u001b[0m\u001b[1;33m,\u001b[0m \u001b[1;33m*\u001b[0m\u001b[0margs\u001b[0m\u001b[1;33m)\u001b[0m\u001b[1;33m:\u001b[0m\u001b[1;33m\u001b[0m\u001b[1;33m\u001b[0m\u001b[0m\n\u001b[0;32m      8\u001b[0m         \u001b[1;32mif\u001b[0m \u001b[0mlen\u001b[0m\u001b[1;33m(\u001b[0m\u001b[0margs\u001b[0m\u001b[1;33m)\u001b[0m \u001b[1;33m!=\u001b[0m \u001b[0mlen\u001b[0m\u001b[1;33m(\u001b[0m\u001b[0mself\u001b[0m\u001b[1;33m.\u001b[0m\u001b[0m_fields\u001b[0m\u001b[1;33m)\u001b[0m\u001b[1;33m:\u001b[0m\u001b[1;33m\u001b[0m\u001b[1;33m\u001b[0m\u001b[0m\n\u001b[1;32m----> 9\u001b[1;33m             \u001b[1;32mraise\u001b[0m \u001b[0mTypeError\u001b[0m\u001b[1;33m(\u001b[0m\u001b[1;34m'Expected {} argument'\u001b[0m\u001b[1;33m.\u001b[0m\u001b[0mformat\u001b[0m\u001b[1;33m(\u001b[0m\u001b[0mlen\u001b[0m\u001b[1;33m(\u001b[0m\u001b[0mself\u001b[0m\u001b[1;33m.\u001b[0m\u001b[0m_fields\u001b[0m\u001b[1;33m)\u001b[0m\u001b[1;33m)\u001b[0m\u001b[1;33m)\u001b[0m\u001b[1;33m\u001b[0m\u001b[1;33m\u001b[0m\u001b[0m\n\u001b[0m\u001b[0;32m     10\u001b[0m         \u001b[1;31m# set the argument\u001b[0m\u001b[1;33m\u001b[0m\u001b[1;33m\u001b[0m\u001b[1;33m\u001b[0m\u001b[0m\n\u001b[0;32m     11\u001b[0m         \u001b[1;32mfor\u001b[0m \u001b[0mname\u001b[0m\u001b[1;33m,\u001b[0m \u001b[0mvalue\u001b[0m \u001b[1;32min\u001b[0m \u001b[0mzip\u001b[0m\u001b[1;33m(\u001b[0m\u001b[0mself\u001b[0m\u001b[1;33m.\u001b[0m\u001b[0m_fields\u001b[0m\u001b[1;33m,\u001b[0m \u001b[0margs\u001b[0m\u001b[1;33m)\u001b[0m\u001b[1;33m:\u001b[0m\u001b[1;33m\u001b[0m\u001b[1;33m\u001b[0m\u001b[0m\n",
      "\u001b[1;31mTypeError\u001b[0m: Expected 3 argument"
     ]
    }
   ],
   "source": [
    "#use these case\n",
    "\n",
    "s = Stock('ACME', 50, 91.1)\n",
    "p = Point(2, 3)\n",
    "c = Circle(4.5)\n",
    "s2 = Stock('ACME', 50)"
   ]
  },
  {
   "cell_type": "code",
   "execution_count": 34,
   "metadata": {},
   "outputs": [],
   "source": [
    "# 如果还想支持关键字参数，可以将关键字参数设置为实例属性\n",
    "class Structure2:\n",
    "    _fields = []\n",
    "    \n",
    "    def __init__(self, *args, **kwargs):\n",
    "        if len(args) > len(self._fields):\n",
    "            raise TypeError('Expected {} argument'.format(len(self._fields)))\n",
    "            \n",
    "        for name, value in zip(self._fields, args):\n",
    "            setattr(self, name, value)\n",
    "            \n",
    "        for name in self._fields[len(args):]:\n",
    "            setattr(self, name, kwargs.pop(name))\n",
    "            \n",
    "        if kwargs:\n",
    "            raise TypeError('Invalid argument(s) : {}'.format(','.join(kwargs)))\n",
    "            \n",
    "if __name__ == '__main__':\n",
    "    class Stock(Structure2):\n",
    "        _fields = ['name', 'shares', 'price']\n",
    "        \n",
    "    s1 = Stock('ACME', 50, 91.1)\n",
    "    s2 = Stock('ACME', 50 , price=91.1)\n",
    "    s3 = Stock('ACME', shares=59, price=91.1)"
   ]
  },
  {
   "cell_type": "markdown",
   "metadata": {},
   "source": [
    "你还能将不在 _fields 中的名称加入到属性中去："
   ]
  },
  {
   "cell_type": "code",
   "execution_count": 37,
   "metadata": {},
   "outputs": [],
   "source": [
    "class Structure3:\n",
    "    _fields = []\n",
    "    \n",
    "    def __init__(self, *args, **kwargs):\n",
    "        if len(args) != len(self._fields):\n",
    "            raise TypeError\n",
    "            \n",
    "        for name, value in zip(self._fields, args):\n",
    "            setattr(self, name, value) # setattr(object, name, value) \n",
    "            \n",
    "        extra_args = kwargs.keys() - self._fields\n",
    "        for name in extra_args:\n",
    "            setattr(self, name, kwargs.pop(name))\n",
    "            \n",
    "        if kwargs:\n",
    "            raise TypeError\n",
    "            \n",
    "if __name__ == '__main__':\n",
    "    class Stock(Structure3):\n",
    "        _fields = ['name', 'shares', 'price']\n",
    "        \n",
    "    s1 = Stock('ACME', 50, 91.1)\n",
    "    s2 = Stock('ACME', 50, 91.1, date='8/2/2019')"
   ]
  },
  {
   "cell_type": "markdown",
   "metadata": {},
   "source": [
    "当你需要使用大量很小的数据结构类的时候，相比手工一个个定义 __init__()方法而已，使用这种方式可以大大简化代码。\n",
    "\n",
    "在上面的实现中我们使用了 setattr() 函数类设置属性值，你可能不想用这种方式，而是想直接更新实例字典，就像下面这样："
   ]
  },
  {
   "cell_type": "code",
   "execution_count": 40,
   "metadata": {},
   "outputs": [],
   "source": [
    "class Structure:\n",
    "    _fields = []\n",
    "    def __init__(self, *args):\n",
    "        if len(args) != len(self._fields):\n",
    "            raise TypeError\n",
    "            \n",
    "        self.__dict__.update(zip(self._fields, args)) # zip() is not dict update?"
   ]
  },
  {
   "cell_type": "markdown",
   "metadata": {},
   "source": [
    "尽管这也可以正常工作，但是当定义子类的时候问题就来了。当一个子类定义了\n",
    "__slots__ 或者通过 property(或描述器) 来包装某个属性，那么直接访问实例字典就\n",
    "不起作用了。我们上面使用 setattr() 会显得更通用些，因为它也适用于子类情况"
   ]
  },
  {
   "cell_type": "markdown",
   "metadata": {},
   "source": [
    "## 定义接口或者抽象基类"
   ]
  },
  {
   "cell_type": "markdown",
   "metadata": {},
   "source": [
    "你想定义一个接口或抽象类，并且通过执行类型检查来确保子类实现了某些特定的方法"
   ]
  },
  {
   "cell_type": "markdown",
   "metadata": {},
   "source": [
    "使用 abc 模块可以很轻松的定义抽象基类"
   ]
  },
  {
   "cell_type": "code",
   "execution_count": 49,
   "metadata": {},
   "outputs": [],
   "source": [
    "from abc import ABCMeta, abstractmethod\n",
    "\n",
    "class IStream(metaclass=ABCMeta):\n",
    "    @abstractmethod\n",
    "    def read(self, maxbytes=-1):\n",
    "        pass\n",
    "    \n",
    "    @abstractmethod\n",
    "    def write(self, data):\n",
    "        pass"
   ]
  },
  {
   "cell_type": "markdown",
   "metadata": {},
   "source": [
    "抽象类的一个特点是它不能直接被实例化，比如你想像下面这样做是不行的"
   ]
  },
  {
   "cell_type": "code",
   "execution_count": 51,
   "metadata": {},
   "outputs": [
    {
     "ename": "TypeError",
     "evalue": "Can't instantiate abstract class IStream with abstract methods read, write",
     "output_type": "error",
     "traceback": [
      "\u001b[1;31m---------------------------------------------------------------------------\u001b[0m",
      "\u001b[1;31mTypeError\u001b[0m                                 Traceback (most recent call last)",
      "\u001b[1;32m<ipython-input-51-a1e77104e354>\u001b[0m in \u001b[0;36m<module>\u001b[1;34m\u001b[0m\n\u001b[1;32m----> 1\u001b[1;33m \u001b[0ma\u001b[0m \u001b[1;33m=\u001b[0m \u001b[0mIStream\u001b[0m\u001b[1;33m(\u001b[0m\u001b[1;33m)\u001b[0m\u001b[1;33m\u001b[0m\u001b[1;33m\u001b[0m\u001b[0m\n\u001b[0m",
      "\u001b[1;31mTypeError\u001b[0m: Can't instantiate abstract class IStream with abstract methods read, write"
     ]
    }
   ],
   "source": [
    "a = IStream()"
   ]
  },
  {
   "cell_type": "markdown",
   "metadata": {},
   "source": [
    "抽象类的目的就是让别的类继承它并实现特定的抽象方法："
   ]
  },
  {
   "cell_type": "code",
   "execution_count": 52,
   "metadata": {},
   "outputs": [],
   "source": [
    "class SocketSteam(IStream):\n",
    "    def read(self, maxbytes=-1):\n",
    "        pass\n",
    "    \n",
    "    def write(self, data):\n",
    "        pass"
   ]
  },
  {
   "cell_type": "markdown",
   "metadata": {},
   "source": [
    "抽象基类的一个主要用途是在代码中检查某些类是否为特定类型，实现了特定接口："
   ]
  },
  {
   "cell_type": "code",
   "execution_count": 53,
   "metadata": {},
   "outputs": [],
   "source": [
    "def serialize(obj, stream):\n",
    "    if not isinstance(stream, IStream):\n",
    "        raise TypeError\n",
    "    pass"
   ]
  },
  {
   "cell_type": "markdown",
   "metadata": {},
   "source": [
    "除了继承这种方式外，还可以通过注册方式来让某个类实现抽象基类"
   ]
  },
  {
   "cell_type": "markdown",
   "metadata": {},
   "source": [
    "import io\n",
    "\n",
    "IStream.register(io.IOBase)\n",
    "\n",
    "f=open('foo.txt')\n",
    "isinstance(f, IStream)"
   ]
  },
  {
   "cell_type": "markdown",
   "metadata": {},
   "source": [
    "@abstractmethod 还能注解静态方法、类方法和 properties 。你只需保证这个注\n",
    "解紧靠在函数定义前即可"
   ]
  },
  {
   "cell_type": "code",
   "execution_count": 55,
   "metadata": {},
   "outputs": [],
   "source": [
    "class A(metaclass=ABCMeta):\n",
    "    @property\n",
    "    @abstractmethod\n",
    "    def name(self):\n",
    "        pass\n",
    "    @name.setter\n",
    "    @abstractmethod\n",
    "    def name(self, value):\n",
    "        pass\n",
    "    @classmethod\n",
    "    @abstractmethod\n",
    "    def method1(cls):\n",
    "        pass\n",
    "    @staticmethod\n",
    "    @abstractmethod\n",
    "    def method2():\n",
    "        pass"
   ]
  },
  {
   "cell_type": "markdown",
   "metadata": {},
   "source": [
    "标准库中有很多用到抽象基类的地方。collections 模块定义了很多跟容器和迭代器 (序列、映射、集合等) 有关的抽象基类。numbers 库定义了跟数字对象 (整数、浮点数、有理数等) 有关的基类。io 库定义了很多跟 I/O 操作相关的基类。你可以使用预定义的抽象类来执行更通用的类型检查，例如："
   ]
  },
  {
   "cell_type": "code",
   "execution_count": null,
   "metadata": {},
   "outputs": [],
   "source": [
    "###### import collections\n",
    "# Check if x is a sequence\n",
    "if isinstance(x, collections.Sequence):\n",
    "...\n",
    "# Check if x is iterable\n",
    "if isinstance(x, collections.Iterable):\n",
    "...\n",
    "# Check if x has a size\n",
    "if isinstance(x, collections.Sized):\n",
    "...\n",
    "# Check if x is a mapping\n",
    "if isinstance(x, collections.Mapping):"
   ]
  },
  {
   "cell_type": "markdown",
   "metadata": {},
   "source": [
    "尽管 ABCs 可以让我们很方便的做类型检查，但是我们在代码中最好不要过多的使用它。因为 Python 的本质是一门动态编程语言，其目的就是给你更多灵活性，强制类型检查或让你代码变得更复杂，这样做无异于舍本求末"
   ]
  },
  {
   "cell_type": "markdown",
   "metadata": {},
   "source": [
    "......"
   ]
  },
  {
   "cell_type": "markdown",
   "metadata": {},
   "source": [
    "## 实现数据模型的类型约束"
   ]
  },
  {
   "cell_type": "markdown",
   "metadata": {},
   "source": [
    "你想定义某些在属性赋值上面有限制的数据结构"
   ]
  },
  {
   "cell_type": "markdown",
   "metadata": {},
   "source": [
    "在这个问题中，你需要在对某些实例属性赋值时进行检查。所以你要自定义属性赋值函数，这种情况下最好使用描述器"
   ]
  },
  {
   "cell_type": "markdown",
   "metadata": {},
   "source": [
    "## 8.19 实现状态对象或者状态机"
   ]
  },
  {
   "cell_type": "markdown",
   "metadata": {},
   "source": [
    "你想实现一个状态机或者是在不同状态下执行操作的对象，但是又不想在代码中出现太多的条件判断语句"
   ]
  },
  {
   "cell_type": "markdown",
   "metadata": {},
   "source": [
    "在很多程序中，有些对象会根据状态的不同来执行不同的操作。比如考虑如下的一个连接对象"
   ]
  },
  {
   "cell_type": "code",
   "execution_count": 33,
   "metadata": {},
   "outputs": [],
   "source": [
    "class Connection:\n",
    "    \"\"\" 普通方案，好多个判断语句，效率低下~~\"\"\"\n",
    "    def __init__(self):\n",
    "        self.state = 'closed'\n",
    "        \n",
    "    def read(self):\n",
    "        if self.state !=  'open':\n",
    "            raise RuntimeError('Not open')\n",
    "        print('reading')\n",
    "        \n",
    "    def write(self, data):\n",
    "        if self.state != 'open':\n",
    "            raise RuntimeError('Not open')\n",
    "        print('writing')\n",
    "        \n",
    "    def open(self):\n",
    "        if self.state == 'open':\n",
    "            raise RuntimeError('Already open')\n",
    "        self.state = 'open'\n",
    "        \n",
    "    def close(self):\n",
    "        if self.state == 'closed':\n",
    "            raise RuntimeError('Already closed')\n",
    "        self.state = 'closed'"
   ]
  },
  {
   "cell_type": "markdown",
   "metadata": {},
   "source": [
    "这样写有很多缺点，首先是代码太复杂了，好多的条件判断。其次是执行效率变低，因为一些常见的操作比如 read()、write() 每次执行前都需要执行检查。\n",
    "\n",
    "一个更好的办法是为每个状态定义一个对象"
   ]
  },
  {
   "cell_type": "code",
   "execution_count": 34,
   "metadata": {},
   "outputs": [],
   "source": [
    "class Connection1:\n",
    "    \"\"\" 新方案——对每个状态定义一个类\"\"\"\n",
    "    def __init__(self):\n",
    "        self.new_state(ClosedConnectionState)\n",
    "        \n",
    "    def new_state(self, newstate):\n",
    "        self._state = newstate\n",
    "        \n",
    "    def read(self):\n",
    "        return self._state.read(self)\n",
    "    \n",
    "    def write(self):\n",
    "        return self._state.write(self, data)\n",
    "    \n",
    "    def open(self):\n",
    "        return self._state.open(self)\n",
    "    \n",
    "    def close(self):\n",
    "        return self._state.close(self)"
   ]
  },
  {
   "cell_type": "code",
   "execution_count": 35,
   "metadata": {},
   "outputs": [],
   "source": [
    "# Connection state base class\n",
    "class ConnectionState:\n",
    "    @staticmethod # ?\n",
    "    def read(conn):\n",
    "        raise NotImplementedError()\n",
    "        \n",
    "    @staticmethod\n",
    "    def write(conn, data):\n",
    "        raise NotImplementedError()\n",
    "        \n",
    "    @staticmethod\n",
    "    def open(conn):\n",
    "        raise NotImplementedError()\n",
    "        \n",
    "    @staticmethod\n",
    "    def close(conn):\n",
    "        raise NotImplementedError()\n",
    "        \n",
    "# Implementation of different states\n",
    "class ClosedConnectionState(ConnectionState):\n",
    "    @staticmethod\n",
    "    def read(conn):\n",
    "        raise RuntimeError('Not open')\n",
    "    \n",
    "    @staticmethod\n",
    "    def write(conn, data):\n",
    "        raise RuntimeError('Not open')\n",
    "    @staticmethod\n",
    "    def open(conn):\n",
    "        conn.new_state(OpenConnectionState)\n",
    "    @staticmethod\n",
    "    def close(conn):\n",
    "        raise RuntimeError('Already closed')"
   ]
  },
  {
   "cell_type": "code",
   "execution_count": 36,
   "metadata": {},
   "outputs": [],
   "source": [
    "class OpenConnectionState(ConnectionState):\n",
    "    @staticmethod\n",
    "    def read(conn):\n",
    "        print('reading')\n",
    "    @staticmethod\n",
    "    def write(conn, data):\n",
    "        print('writing')\n",
    "    @staticmethod\n",
    "    def open(conn):\n",
    "        raise RuntimeError('Already open')\n",
    "    @staticmethod\n",
    "    def close(conn):\n",
    "        conn.new_state(ClosedConnectionState)"
   ]
  },
  {
   "cell_type": "code",
   "execution_count": 37,
   "metadata": {},
   "outputs": [
    {
     "data": {
      "text/plain": [
       "'closed'"
      ]
     },
     "execution_count": 37,
     "metadata": {},
     "output_type": "execute_result"
    }
   ],
   "source": [
    "c = Connection()\n",
    "c.state"
   ]
  },
  {
   "cell_type": "code",
   "execution_count": 38,
   "metadata": {},
   "outputs": [
    {
     "ename": "RuntimeError",
     "evalue": "Not open",
     "output_type": "error",
     "traceback": [
      "\u001b[1;31m---------------------------------------------------------------------------\u001b[0m",
      "\u001b[1;31mRuntimeError\u001b[0m                              Traceback (most recent call last)",
      "\u001b[1;32m<ipython-input-38-aaae037ddc31>\u001b[0m in \u001b[0;36m<module>\u001b[1;34m\u001b[0m\n\u001b[1;32m----> 1\u001b[1;33m \u001b[0mc\u001b[0m\u001b[1;33m.\u001b[0m\u001b[0mread\u001b[0m\u001b[1;33m(\u001b[0m\u001b[1;33m)\u001b[0m\u001b[1;33m\u001b[0m\u001b[1;33m\u001b[0m\u001b[0m\n\u001b[0m",
      "\u001b[1;32m<ipython-input-33-3c9a86cbf5a9>\u001b[0m in \u001b[0;36mread\u001b[1;34m(self)\u001b[0m\n\u001b[0;32m      6\u001b[0m     \u001b[1;32mdef\u001b[0m \u001b[0mread\u001b[0m\u001b[1;33m(\u001b[0m\u001b[0mself\u001b[0m\u001b[1;33m)\u001b[0m\u001b[1;33m:\u001b[0m\u001b[1;33m\u001b[0m\u001b[1;33m\u001b[0m\u001b[0m\n\u001b[0;32m      7\u001b[0m         \u001b[1;32mif\u001b[0m \u001b[0mself\u001b[0m\u001b[1;33m.\u001b[0m\u001b[0mstate\u001b[0m \u001b[1;33m!=\u001b[0m  \u001b[1;34m'open'\u001b[0m\u001b[1;33m:\u001b[0m\u001b[1;33m\u001b[0m\u001b[1;33m\u001b[0m\u001b[0m\n\u001b[1;32m----> 8\u001b[1;33m             \u001b[1;32mraise\u001b[0m \u001b[0mRuntimeError\u001b[0m\u001b[1;33m(\u001b[0m\u001b[1;34m'Not open'\u001b[0m\u001b[1;33m)\u001b[0m\u001b[1;33m\u001b[0m\u001b[1;33m\u001b[0m\u001b[0m\n\u001b[0m\u001b[0;32m      9\u001b[0m         \u001b[0mprint\u001b[0m\u001b[1;33m(\u001b[0m\u001b[1;34m'reading'\u001b[0m\u001b[1;33m)\u001b[0m\u001b[1;33m\u001b[0m\u001b[1;33m\u001b[0m\u001b[0m\n\u001b[0;32m     10\u001b[0m \u001b[1;33m\u001b[0m\u001b[0m\n",
      "\u001b[1;31mRuntimeError\u001b[0m: Not open"
     ]
    }
   ],
   "source": [
    "c.read()"
   ]
  },
  {
   "cell_type": "code",
   "execution_count": 39,
   "metadata": {},
   "outputs": [],
   "source": [
    "c.open()"
   ]
  },
  {
   "cell_type": "code",
   "execution_count": 40,
   "metadata": {},
   "outputs": [
    {
     "data": {
      "text/plain": [
       "'open'"
      ]
     },
     "execution_count": 40,
     "metadata": {},
     "output_type": "execute_result"
    }
   ],
   "source": [
    "c.state"
   ]
  },
  {
   "cell_type": "code",
   "execution_count": 41,
   "metadata": {},
   "outputs": [
    {
     "name": "stdout",
     "output_type": "stream",
     "text": [
      "reading\n"
     ]
    }
   ],
   "source": [
    "c.read() "
   ]
  },
  {
   "cell_type": "code",
   "execution_count": 42,
   "metadata": {},
   "outputs": [
    {
     "name": "stdout",
     "output_type": "stream",
     "text": [
      "writing\n"
     ]
    }
   ],
   "source": [
    "c.write('hello')"
   ]
  },
  {
   "cell_type": "code",
   "execution_count": 43,
   "metadata": {},
   "outputs": [],
   "source": [
    "c.close()"
   ]
  },
  {
   "cell_type": "code",
   "execution_count": 44,
   "metadata": {},
   "outputs": [
    {
     "data": {
      "text/plain": [
       "'closed'"
      ]
     },
     "execution_count": 44,
     "metadata": {},
     "output_type": "execute_result"
    }
   ],
   "source": [
    "c.state"
   ]
  },
  {
   "cell_type": "markdown",
   "metadata": {},
   "source": [
    "......"
   ]
  },
  {
   "cell_type": "code",
   "execution_count": null,
   "metadata": {},
   "outputs": [],
   "source": []
  }
 ],
 "metadata": {
  "kernelspec": {
   "display_name": "Python 3",
   "language": "python",
   "name": "python3"
  },
  "language_info": {
   "codemirror_mode": {
    "name": "ipython",
    "version": 3
   },
   "file_extension": ".py",
   "mimetype": "text/x-python",
   "name": "python",
   "nbconvert_exporter": "python",
   "pygments_lexer": "ipython3",
   "version": "3.7.3"
  }
 },
 "nbformat": 4,
 "nbformat_minor": 2
}
