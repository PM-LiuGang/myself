{
 "cells": [
  {
   "cell_type": "markdown",
   "metadata": {},
   "source": [
    "# 网络与Web编程"
   ]
  },
  {
   "cell_type": "markdown",
   "metadata": {},
   "source": [
    "## 作为客户端与HTTP服务交互"
   ]
  },
  {
   "cell_type": "markdown",
   "metadata": {},
   "source": [
    "你需要通过HTTP协议以客户端的方式访问多种服务。例如，下载数据或者与基于REST的API进行交互"
   ]
  },
  {
   "cell_type": "markdown",
   "metadata": {},
   "source": [
    "对于简单的事情来说，通常使用urllib.request模块就够了。例如，发送一个简单的HTTPGET请求到远程的服务上，可以这样做"
   ]
  },
  {
   "cell_type": "code",
   "execution_count": 3,
   "metadata": {},
   "outputs": [],
   "source": [
    "from urllib import request, parse\n",
    "\n",
    "url = 'http://httpbin.org/get'\n",
    "\n",
    "parms = {\n",
    "    'name1': 'value1',\n",
    "    'name2': 'value2'\n",
    "}\n",
    "\n",
    "querystring = parse.urlencode(parms)\n",
    "\n",
    "u = request.urlopen(url + '?' + querystring)\n",
    "resp = u.read()"
   ]
  },
  {
   "cell_type": "code",
   "execution_count": 4,
   "metadata": {},
   "outputs": [
    {
     "data": {
      "text/plain": [
       "b'{\\n  \"args\": {\\n    \"name1\": \"value1\", \\n    \"name2\": \"value2\"\\n  }, \\n  \"headers\": {\\n    \"Accept-Encoding\": \"identity\", \\n    \"Host\": \"httpbin.org\", \\n    \"User-Agent\": \"Python-urllib/3.7\"\\n  }, \\n  \"origin\": \"114.242.9.141, 114.242.9.141\", \\n  \"url\": \"https://httpbin.org/get?name1=value1&name2=value2\"\\n}\\n'"
      ]
     },
     "execution_count": 4,
     "metadata": {},
     "output_type": "execute_result"
    }
   ],
   "source": [
    "resp"
   ]
  },
  {
   "cell_type": "markdown",
   "metadata": {},
   "source": [
    "如果你需要使用POST方法在请求主体中发送查询参数，可以将参数编码后作为可选参数提供给urlopen()函数，就像这样："
   ]
  },
  {
   "cell_type": "code",
   "execution_count": 7,
   "metadata": {},
   "outputs": [],
   "source": [
    "from urllib import request, parse\n",
    "\n",
    "url = 'http://httpbin.org/post'\n",
    "parms = {\n",
    "    'name1': 'value1',\n",
    "    'name2': 'value2'\n",
    "}\n",
    "querystring = parse.urlencode(parms, querystring.encode('ascii'))\n",
    "resp = u.read()\n"
   ]
  },
  {
   "cell_type": "code",
   "execution_count": 8,
   "metadata": {},
   "outputs": [
    {
     "data": {
      "text/plain": [
       "b''"
      ]
     },
     "execution_count": 8,
     "metadata": {},
     "output_type": "execute_result"
    }
   ],
   "source": [
    "resp"
   ]
  },
  {
   "cell_type": "markdown",
   "metadata": {},
   "source": [
    "如果你需要在发出的请求中提供一些自定义的HTTP头，例如修改user-agent字 段,可以创建一个包含字段值的字典，并创建一个Request实例然后将其传给urlopen()，如下："
   ]
  },
  {
   "cell_type": "code",
   "execution_count": 10,
   "metadata": {},
   "outputs": [],
   "source": [
    "from urllib import request, parse\n",
    "\n",
    "headers = {\n",
    "    'User-agent': 'Mozilla/5.0 (Windows NT 10.0; Win64; x64; rv:69.0) Gecko/20100101 Firefox/69.0',\n",
    "    'Spam': 'Eggs'\n",
    "}\n",
    "\n",
    "req = request.Request(url, querystring.encode('ascii'), headers=headers)\n",
    "\n",
    "u = request.urlopen(req)\n",
    "resp = u.read()"
   ]
  },
  {
   "cell_type": "markdown",
   "metadata": {},
   "source": [
    "如果需要交互的服务比上面的例子都要复杂，也许应该去看看requests库（https://pypi.python.org/pypi/requests）。例如，下面这个示例采用requests库重新实现了上面的操作："
   ]
  },
  {
   "cell_type": "code",
   "execution_count": 11,
   "metadata": {},
   "outputs": [],
   "source": [
    "import requests\n",
    "\n",
    "url = 'http://httpbin.org/post'\n",
    "parms = {\n",
    "    'name1': 'value1',\n",
    "    'name2': 'value2'\n",
    "}\n",
    "\n",
    "headers = {\n",
    "    'User-agent': 'Mozilla/5.0 (Windows NT 10.0; Win64; x64; rv:69.0) Gecko/20100101 Firefox/69.0',\n",
    "    'Spam': 'Eggs'\n",
    "}\n",
    "\n",
    "resp = requests.post(url, data=parms, headers=headers)\n",
    "text = resp.text"
   ]
  },
  {
   "cell_type": "markdown",
   "metadata": {},
   "source": [
    "关于requests库，一个值得一提的特性就是它能以多种方式从请求中返回响应结果的内容。从上面的代码来看，resp.text带给我们的是以Unicode解码的响应文本。但是，如果去访问resp.content，就会得到原始的二进制数据。另一方面，如果访问 \n",
    "resp.json，那么就会得到JSON格式的响应内容。"
   ]
  },
  {
   "cell_type": "markdown",
   "metadata": {},
   "source": [
    "下面这个示例利用requests库发起一个HEAD请求，并从响应中提取出一些HTTP头数据的字段："
   ]
  },
  {
   "cell_type": "code",
   "execution_count": 12,
   "metadata": {},
   "outputs": [
    {
     "data": {
      "text/plain": [
       "'{\\n  \"args\": {}, \\n  \"data\": \"\", \\n  \"files\": {}, \\n  \"form\": {\\n    \"name1\": \"value1\", \\n    \"name2\": \"value2\"\\n  }, \\n  \"headers\": {\\n    \"Accept\": \"*/*\", \\n    \"Accept-Encoding\": \"gzip, deflate\", \\n    \"Content-Length\": \"25\", \\n    \"Content-Type\": \"application/x-www-form-urlencoded\", \\n    \"Host\": \"httpbin.org\", \\n    \"Spam\": \"Eggs\", \\n    \"User-Agent\": \"Mozilla/5.0 (Windows NT 10.0; Win64; x64; rv:69.0) Gecko/20100101 Firefox/69.0\"\\n  }, \\n  \"json\": null, \\n  \"origin\": \"114.242.9.141, 114.242.9.141\", \\n  \"url\": \"https://httpbin.org/post\"\\n}\\n'"
      ]
     },
     "execution_count": 12,
     "metadata": {},
     "output_type": "execute_result"
    }
   ],
   "source": [
    "text"
   ]
  },
  {
   "cell_type": "code",
   "execution_count": 13,
   "metadata": {},
   "outputs": [
    {
     "data": {
      "text/plain": [
       "b'{\\n  \"args\": {}, \\n  \"data\": \"\", \\n  \"files\": {}, \\n  \"form\": {\\n    \"name1\": \"value1\", \\n    \"name2\": \"value2\"\\n  }, \\n  \"headers\": {\\n    \"Accept\": \"*/*\", \\n    \"Accept-Encoding\": \"gzip, deflate\", \\n    \"Content-Length\": \"25\", \\n    \"Content-Type\": \"application/x-www-form-urlencoded\", \\n    \"Host\": \"httpbin.org\", \\n    \"Spam\": \"Eggs\", \\n    \"User-Agent\": \"Mozilla/5.0 (Windows NT 10.0; Win64; x64; rv:69.0) Gecko/20100101 Firefox/69.0\"\\n  }, \\n  \"json\": null, \\n  \"origin\": \"114.242.9.141, 114.242.9.141\", \\n  \"url\": \"https://httpbin.org/post\"\\n}\\n'"
      ]
     },
     "execution_count": 13,
     "metadata": {},
     "output_type": "execute_result"
    }
   ],
   "source": [
    "resp.content"
   ]
  },
  {
   "cell_type": "code",
   "execution_count": 15,
   "metadata": {},
   "outputs": [
    {
     "ename": "TypeError",
     "evalue": "'method' object is not subscriptable",
     "output_type": "error",
     "traceback": [
      "\u001b[1;31m---------------------------------------------------------------------------\u001b[0m",
      "\u001b[1;31mTypeError\u001b[0m                                 Traceback (most recent call last)",
      "\u001b[1;32m<ipython-input-15-f8d2283ae9c7>\u001b[0m in \u001b[0;36m<module>\u001b[1;34m\u001b[0m\n\u001b[1;32m----> 1\u001b[1;33m \u001b[1;33m(\u001b[0m\u001b[0mresp\u001b[0m\u001b[1;33m.\u001b[0m\u001b[0mjson\u001b[0m\u001b[1;33m)\u001b[0m\u001b[1;33m[\u001b[0m\u001b[1;34m'args'\u001b[0m\u001b[1;33m]\u001b[0m\u001b[1;33m\u001b[0m\u001b[1;33m\u001b[0m\u001b[0m\n\u001b[0m",
      "\u001b[1;31mTypeError\u001b[0m: 'method' object is not subscriptable"
     ]
    }
   ],
   "source": [
    "(resp.json)['args']"
   ]
  },
  {
   "cell_type": "code",
   "execution_count": 16,
   "metadata": {},
   "outputs": [
    {
     "data": {
      "text/plain": [
       "<bound method Response.json of <Response [200]>>"
      ]
     },
     "execution_count": 16,
     "metadata": {},
     "output_type": "execute_result"
    }
   ],
   "source": [
    "resp.json"
   ]
  },
  {
   "cell_type": "markdown",
   "metadata": {},
   "source": [
    "下面这个示例利用requests库发起一个HEAD请求，并从响应中提取出一些HTTP头数据的字段："
   ]
  },
  {
   "cell_type": "code",
   "execution_count": 20,
   "metadata": {},
   "outputs": [
    {
     "ename": "KeyError",
     "evalue": "'last-modified'",
     "output_type": "error",
     "traceback": [
      "\u001b[1;31m---------------------------------------------------------------------------\u001b[0m",
      "\u001b[1;31mKeyError\u001b[0m                                  Traceback (most recent call last)",
      "\u001b[1;32m<ipython-input-20-0e6736418e7b>\u001b[0m in \u001b[0;36m<module>\u001b[1;34m\u001b[0m\n\u001b[0;32m      4\u001b[0m \u001b[1;33m\u001b[0m\u001b[0m\n\u001b[0;32m      5\u001b[0m \u001b[0mstatus\u001b[0m \u001b[1;33m=\u001b[0m \u001b[0mresp\u001b[0m\u001b[1;33m.\u001b[0m\u001b[0mstatus_code\u001b[0m\u001b[1;33m\u001b[0m\u001b[1;33m\u001b[0m\u001b[0m\n\u001b[1;32m----> 6\u001b[1;33m \u001b[0mlast_modified\u001b[0m \u001b[1;33m=\u001b[0m \u001b[0mresp\u001b[0m\u001b[1;33m.\u001b[0m\u001b[0mheaders\u001b[0m\u001b[1;33m[\u001b[0m\u001b[1;34m'Last-Modified'\u001b[0m\u001b[1;33m]\u001b[0m\u001b[1;33m\u001b[0m\u001b[1;33m\u001b[0m\u001b[0m\n\u001b[0m\u001b[0;32m      7\u001b[0m \u001b[0mcontent_type\u001b[0m \u001b[1;33m=\u001b[0m \u001b[0mresp\u001b[0m\u001b[1;33m.\u001b[0m\u001b[0mheaders\u001b[0m\u001b[1;33m[\u001b[0m\u001b[1;34m'content-type'\u001b[0m\u001b[1;33m]\u001b[0m\u001b[1;33m\u001b[0m\u001b[1;33m\u001b[0m\u001b[0m\n\u001b[0;32m      8\u001b[0m \u001b[0mcontent_length\u001b[0m \u001b[1;33m=\u001b[0m \u001b[0mresp\u001b[0m\u001b[1;33m.\u001b[0m\u001b[0mheaders\u001b[0m\u001b[1;33m[\u001b[0m\u001b[1;34m'content-length'\u001b[0m\u001b[1;33m]\u001b[0m\u001b[1;33m\u001b[0m\u001b[1;33m\u001b[0m\u001b[0m\n",
      "\u001b[1;32mc:\\users\\admin\\appdata\\local\\programs\\python\\python37\\lib\\site-packages\\requests\\structures.py\u001b[0m in \u001b[0;36m__getitem__\u001b[1;34m(self, key)\u001b[0m\n\u001b[0;32m     50\u001b[0m \u001b[1;33m\u001b[0m\u001b[0m\n\u001b[0;32m     51\u001b[0m     \u001b[1;32mdef\u001b[0m \u001b[0m__getitem__\u001b[0m\u001b[1;33m(\u001b[0m\u001b[0mself\u001b[0m\u001b[1;33m,\u001b[0m \u001b[0mkey\u001b[0m\u001b[1;33m)\u001b[0m\u001b[1;33m:\u001b[0m\u001b[1;33m\u001b[0m\u001b[1;33m\u001b[0m\u001b[0m\n\u001b[1;32m---> 52\u001b[1;33m         \u001b[1;32mreturn\u001b[0m \u001b[0mself\u001b[0m\u001b[1;33m.\u001b[0m\u001b[0m_store\u001b[0m\u001b[1;33m[\u001b[0m\u001b[0mkey\u001b[0m\u001b[1;33m.\u001b[0m\u001b[0mlower\u001b[0m\u001b[1;33m(\u001b[0m\u001b[1;33m)\u001b[0m\u001b[1;33m]\u001b[0m\u001b[1;33m[\u001b[0m\u001b[1;36m1\u001b[0m\u001b[1;33m]\u001b[0m\u001b[1;33m\u001b[0m\u001b[1;33m\u001b[0m\u001b[0m\n\u001b[0m\u001b[0;32m     53\u001b[0m \u001b[1;33m\u001b[0m\u001b[0m\n\u001b[0;32m     54\u001b[0m     \u001b[1;32mdef\u001b[0m \u001b[0m__delitem__\u001b[0m\u001b[1;33m(\u001b[0m\u001b[0mself\u001b[0m\u001b[1;33m,\u001b[0m \u001b[0mkey\u001b[0m\u001b[1;33m)\u001b[0m\u001b[1;33m:\u001b[0m\u001b[1;33m\u001b[0m\u001b[1;33m\u001b[0m\u001b[0m\n",
      "\u001b[1;31mKeyError\u001b[0m: 'last-modified'"
     ]
    }
   ],
   "source": [
    "import requests\n",
    "\n",
    "resp = requests.head('http://www.python.org/index.html')\n",
    "\n",
    "status = resp.status_code  # 301\n",
    "last_modified = resp.headers['Last-Modified']  # Not Have\n",
    "content_type = resp.headers['content-type']  # Not Have\n",
    "content_length = resp.headers['content-length']  # Not Have\n",
    "status, last_modified, content_type, content_length"
   ]
  },
  {
   "cell_type": "code",
   "execution_count": 22,
   "metadata": {},
   "outputs": [
    {
     "data": {
      "text/plain": [
       "{'Server': 'Varnish', 'Retry-After': '0', 'Location': 'https://www.python.org/index.html', 'Content-Length': '0', 'Accept-Ranges': 'bytes', 'Date': 'Thu, 17 Oct 2019 09:33:20 GMT', 'Via': '1.1 varnish', 'Connection': 'close', 'X-Served-By': 'cache-hnd18739-HND', 'X-Cache': 'HIT', 'X-Cache-Hits': '0', 'X-Timer': 'S1571304800.227863,VS0,VE0', 'Strict-Transport-Security': 'max-age=63072000; includeSubDomains'}"
      ]
     },
     "execution_count": 22,
     "metadata": {},
     "output_type": "execute_result"
    }
   ],
   "source": [
    "resp.headers"
   ]
  },
  {
   "cell_type": "markdown",
   "metadata": {},
   "source": [
    "......."
   ]
  },
  {
   "cell_type": "markdown",
   "metadata": {},
   "source": [
    "坦白说，所有的这些操作在requests库中都变得简单的多"
   ]
  },
  {
   "cell_type": "markdown",
   "metadata": {},
   "source": [
    "在开发过程中测试HTTP客户端代码常常是很令人沮丧的，因为所有棘手的细节 问题都需要考虑（例如cookies、认证、HTTP头、编码方式等）。要完成这些任务，考虑使用httpbin服务（http://httpbin.org）。这个站点会接收发出的请求，然后以JSON 的形式将相应信息回传回来。下面是一个交互式的例子："
   ]
  },
  {
   "cell_type": "code",
   "execution_count": 28,
   "metadata": {},
   "outputs": [
    {
     "data": {
      "text/plain": [
       "{'Accept': '*/*',\n",
       " 'Accept-Encoding': 'gzip, deflate',\n",
       " 'Host': 'httpbin.org',\n",
       " 'User-Agent': 'goaway/1.0'}"
      ]
     },
     "execution_count": 28,
     "metadata": {},
     "output_type": "execute_result"
    }
   ],
   "source": [
    "import requests\n",
    "\n",
    "r = requests.get(\n",
    "    'http://httpbin.org/get?name=Dave&n=37',\n",
    "    headers = {'User-agent': 'goaway/1.0'}\n",
    ")\n",
    "\n",
    "resp = r.json() # 原文报错 r.json\n",
    "resp['headers']"
   ]
  },
  {
   "cell_type": "code",
   "execution_count": 24,
   "metadata": {},
   "outputs": [
    {
     "data": {
      "text/plain": [
       "<bound method Response.json of <Response [200]>>"
      ]
     },
     "execution_count": 24,
     "metadata": {},
     "output_type": "execute_result"
    }
   ],
   "source": [
    "resp"
   ]
  },
  {
   "cell_type": "code",
   "execution_count": 25,
   "metadata": {},
   "outputs": [
    {
     "data": {
      "text/plain": [
       "<Response [200]>"
      ]
     },
     "execution_count": 25,
     "metadata": {},
     "output_type": "execute_result"
    }
   ],
   "source": [
    "r"
   ]
  },
  {
   "cell_type": "code",
   "execution_count": 26,
   "metadata": {},
   "outputs": [
    {
     "data": {
      "text/plain": [
       "<bound method Response.json of <Response [200]>>"
      ]
     },
     "execution_count": 26,
     "metadata": {},
     "output_type": "execute_result"
    }
   ],
   "source": [
    "r.json"
   ]
  },
  {
   "cell_type": "code",
   "execution_count": 29,
   "metadata": {},
   "outputs": [
    {
     "data": {
      "text/plain": [
       "{'Accept': '*/*',\n",
       " 'Accept-Encoding': 'gzip, deflate',\n",
       " 'Host': 'httpbin.org',\n",
       " 'User-Agent': 'goaway/1.0'}"
      ]
     },
     "execution_count": 29,
     "metadata": {},
     "output_type": "execute_result"
    }
   ],
   "source": [
    "resp['headers']"
   ]
  },
  {
   "cell_type": "code",
   "execution_count": 30,
   "metadata": {},
   "outputs": [
    {
     "data": {
      "text/plain": [
       "{'n': '37', 'name': 'Dave'}"
      ]
     },
     "execution_count": 30,
     "metadata": {},
     "output_type": "execute_result"
    }
   ],
   "source": [
    "resp['args']"
   ]
  },
  {
   "cell_type": "markdown",
   "metadata": {},
   "source": [
    "在要同一个真正的站点进行交互前，先在httpbin.org这样的网站上做实验常常是可取的办法。尤其是当我们面对3次登录失败就会关闭账户这样的风险时尤为有用（不要尝试自己编写HTTP认证客户端来登录你的银行账户）。"
   ]
  },
  {
   "cell_type": "markdown",
   "metadata": {},
   "source": [
    "尽管本节没有涉及，request库还对许多高级的HTTP客户端协议提供了支持，比如OAuth。requests模块的文档（http://docs.python-requests.org)质量很高（坦白说比在这短短的一节的篇幅中所提供的任何信息都好），可以参考文档以获得更多地信息。"
   ]
  },
  {
   "cell_type": "markdown",
   "metadata": {},
   "source": [
    "## 创建TCP服务器"
   ]
  },
  {
   "cell_type": "markdown",
   "metadata": {},
   "source": [
    "你想实现一个服务器，通过TCP协议和客户端通信"
   ]
  },
  {
   "cell_type": "markdown",
   "metadata": {},
   "source": [
    "创建一个TCP服务器的一个简单方法是使用socketserver库。例如，下面是一个简单的应答服务器"
   ]
  },
  {
   "cell_type": "code",
   "execution_count": null,
   "metadata": {},
   "outputs": [
    {
     "name": "stdout",
     "output_type": "stream",
     "text": [
      "Got connection from ('127.0.0.1', 55603)\n"
     ]
    }
   ],
   "source": [
    "from socketserver import BaseRequestHandler, TCPServer\n",
    "\n",
    "class EchoHandler(BaseRequestHandler):\n",
    "    def handle(self):  # 用来为客户端连接服务\n",
    "        print('Got connection from', self.client_address)  # client_address有客户端地址\n",
    "        while True:\n",
    "            msg = self.request.recv(8192) # 8192?  request属性是客户端socket\n",
    "            if not msg:\n",
    "                break\n",
    "            self.request.send(msg)\n",
    "            \n",
    "if __name__ == '__main__':\n",
    "    serv = TCPServer(('', 20000), EchoHandler)\n",
    "    serv.serve_forever()"
   ]
  },
  {
   "cell_type": "markdown",
   "metadata": {},
   "source": [
    "在这段代码中，你定义了一个特殊的处理类，实现了一个handle()方法，用来为客户端连接服务。request属性是客户端socket，client_address有客户端地址。为了测试这个服务器，运行它并打开另外一个Python进程连接这个服务器："
   ]
  },
  {
   "cell_type": "code",
   "execution_count": null,
   "metadata": {},
   "outputs": [],
   "source": [
    "from socket import socket, AF_INET, SOCK_STREAM"
   ]
  },
  {
   "cell_type": "code",
   "execution_count": null,
   "metadata": {},
   "outputs": [],
   "source": [
    "s = socket(AF_INET, SOCK_STREAM)\n",
    "s.connect(('localhost', 20000))\n",
    "s.send(b'hello')  #  5"
   ]
  },
  {
   "cell_type": "code",
   "execution_count": null,
   "metadata": {},
   "outputs": [],
   "source": [
    "s.recv(8192)  # b'hello'"
   ]
  },
  {
   "cell_type": "markdown",
   "metadata": {},
   "source": [
    "很多时候，可以很容易的定义一个不同的处理器。下面是一个使用StreamRequestHandler基类将一个类文件接口放置在底层socket上的例子："
   ]
  },
  {
   "cell_type": "code",
   "execution_count": null,
   "metadata": {},
   "outputs": [],
   "source": [
    "from socketserver import StreamRequestHandler, TCPServer\n",
    "\n",
    "class EchoHandler(StreamRequestHandler):\n",
    "    def handle(self):\n",
    "        print('Got connecttion from', self.client_address)\n",
    "        for line in self.rfile:  # ?\n",
    "            self.wfile.write(line)\n",
    "            \n",
    "if __name__ == '__main__':\n",
    "    serv = TCPServer(('', 20000), EchoHandler)\n",
    "    serv.serve_forever()"
   ]
  },
  {
   "cell_type": "markdown",
   "metadata": {},
   "source": [
    "socketserver可以让我们很容易的创建简单的TCP服务器。但是，你需要注意的是，默认情况下这种服务器是单线程的，一次只能为一个客户端连接服务。如果你想处理多个客户端，可以初始化一个ForkingTCPServer或者是ThreadingTCPServer对象。例如："
   ]
  },
  {
   "cell_type": "code",
   "execution_count": null,
   "metadata": {},
   "outputs": [],
   "source": [
    "from socketserver import ThreadingTCPServer\n",
    "\n",
    "if __name__ == '__main__':\n",
    "    serv = ThreadingTCPServer(('', 20000), EchoHandler)\n",
    "    serv.serve_forever()"
   ]
  },
  {
   "cell_type": "markdown",
   "metadata": {},
   "source": [
    "使用fork或线程服务器有个潜在问题就是它们会为每个客户端连接创建一个新的进程或线程。由于客户端连接数是没有限制的，因此一个恶意的黑客可以同时发送大量 的连接让你的服务器奔溃。"
   ]
  },
  {
   "cell_type": "markdown",
   "metadata": {},
   "source": [
    "如果你担心这个问题，你可以创建一个预先分配大小的工作线程池或进程池。你先 创建一个普通的非线程服务器，然后在一个线程池中使用serve_forever()方法来启动它们。"
   ]
  },
  {
   "cell_type": "code",
   "execution_count": null,
   "metadata": {},
   "outputs": [],
   "source": [
    "from threading import Thread\n",
    "from socketserver import TCPServer\n",
    "\n",
    "class EchoHandler(StreamRequestHandler):\n",
    "    def handle(self):\n",
    "        print('Got connecttion from', self.client_address)\n",
    "        while True:\n",
    "            msg = self.request.recv(8192) # 8192?  request属性是客户端socket\n",
    "            if not msg:\n",
    "                break\n",
    "            self.request.send(msg)\n",
    "\n",
    "if __name__ == '__main__':\n",
    "    nworkers = 16\n",
    "    serv = TCPServer(('', 20000), EchoHandler)\n",
    "    for n in range(nworkers):\n",
    "        t = Thread(target=serv.serve_forever)\n",
    "        t.daemon = True\n",
    "        t.start()\n",
    "    serv.serve_forever()\n",
    "    \n",
    "'''\n",
    "一般来讲，一个TCPServer在实例化的时候会绑定并激活相应的socket 。\n",
    "不过，有时候你想通过设置某些选项去调整底下的socket‘，\n",
    "可以设置参数 bind_and_activate=False。如下：\n",
    "'''\n",
    "if __name__ == '__main__':\n",
    "    serv = TCPServer(('', 20000), EchoHandler, bind_and_activate=False)\n",
    "    serv.socket.sockopt() # 索引不出来\n",
    "    serv.server_bind()\n",
    "    serv.server_activate()\n",
    "    serv.serve_forever()"
   ]
  },
  {
   "cell_type": "markdown",
   "metadata": {},
   "source": [
    "最后，还需要注意的是巨大部分Python的高层网络模块（比如HTTP、XML-RPC 等）都是建立在socketserver功能之上。也就是说，直接使用socket库来实现服务器也并不是很难。下面是一个使用socket直接编程实现的一个服务器简单例子："
   ]
  },
  {
   "cell_type": "code",
   "execution_count": null,
   "metadata": {},
   "outputs": [],
   "source": [
    "from socket import socket, AF_INET, SOCK_STREAM\n",
    "\n",
    "def echo_handler(address, client_sock):\n",
    "    print('Got connection from {} '.format(address))\n",
    "    while True:\n",
    "        msg = client_sock.recv(8192)\n",
    "        if not msg:\n",
    "            break\n",
    "        client_sock.sendall(msg)\n",
    "    client_sock.close()\n",
    "    \n",
    "def echo_server(address, backlog=5):\n",
    "    sock = socket(AF_INET, SOCK_STEARM)\n",
    "    sock.bind(address)\n",
    "    sock.listen(backlog)\n",
    "    while True:\n",
    "        client_sock, client_addr = sock.accept()\n",
    "        echo_handler(client_addr, client_sock())\n",
    "        \n",
    "if __name__ == '__main__':\n",
    "    echo_server(('', 20000))"
   ]
  },
  {
   "cell_type": "markdown",
   "metadata": {},
   "source": [
    "## 创建UDP服务器"
   ]
  },
  {
   "cell_type": "markdown",
   "metadata": {},
   "source": [
    "你想实现一个基于UDP协议的服务器来与客户端通信"
   ]
  },
  {
   "cell_type": "markdown",
   "metadata": {},
   "source": [
    "跟TCP一样，UDP服务器也可以通过使用socketserver库很容易的被创建。例如，下面是一个简单的时间服务器："
   ]
  },
  {
   "cell_type": "code",
   "execution_count": null,
   "metadata": {},
   "outputs": [],
   "source": [
    "from socketserver import BaseRequestHandler, UDPServer\n",
    "import time\n",
    "\n",
    "class TimeHandler(BaseRequestHandler):\n",
    "    def handle(self):\n",
    "        print('Got connection from', self.client_address)\n",
    "        msg, sock = self.request\n",
    "        resp = time.ctime()\n",
    "        sock.sendto(resp.encode('ascii'), self.client_address)\n",
    "        \n",
    "if __name__ == '__main__':\n",
    "    serv = UDPServer(('', 20000), TimeHandler)\n",
    "    serv.serve_forever()\n"
   ]
  },
  {
   "cell_type": "markdown",
   "metadata": {},
   "source": [
    "一个典型的UDP服务器接收到达的数据报(消息)和客户端地址。如果服务器需要做应答，它要给客户端回发一个数据报。对于数据报的传送，你应该使用socket的\n",
    "sendto()和recvfrom()方法。尽管传统的send()和recv()也可以达到同样的效果，但是前面的两个方法对于UDP连接而言更普遍。"
   ]
  },
  {
   "cell_type": "markdown",
   "metadata": {},
   "source": [
    "UDPServer类是单线程的，也就是说一次只能为一个客户端连接服务。实际使用中，这个无论是对于UDP还是TCP都不是什么大问题。如果你想要并发操作，可以实例化一个ForkingUDPServer或ThreadingUDPServer对象："
   ]
  },
  {
   "cell_type": "code",
   "execution_count": null,
   "metadata": {},
   "outputs": [],
   "source": [
    "from socketserver import ThreadingUDPServer\n",
    "\n",
    "if __name__ == '__main__':\n",
    "    serv = ThreadingUDPServer(('', 20000), TimeHandler)\n",
    "    serv.serve_forever()"
   ]
  },
  {
   "cell_type": "markdown",
   "metadata": {},
   "source": [
    "直接使用socket来实现一个UDP服务器也不难，下面是一个例子："
   ]
  },
  {
   "cell_type": "code",
   "execution_count": null,
   "metadata": {},
   "outputs": [],
   "source": [
    "from socket import socket, AF_INET, SOCK_DGRAM\n",
    "import time\n",
    "\n",
    "def time_server(address):\n",
    "    sock = socket(AF_INET, SOCK_DGRAM)\n",
    "    sock.bind(address)\n",
    "    while True:\n",
    "        msg, addr = sock.recvfrom(8192)\n",
    "        pirnt('Got message from', addr)\n",
    "        resp = time.ctime()\n",
    "        sock.sendto(resp.encode('ascii'), addr)\n",
    "        \n",
    "if __nam__ == '__main__':\n",
    "    time_server(('', 20000))"
   ]
  },
  {
   "cell_type": "markdown",
   "metadata": {},
   "source": [
    "## 通过CIDR地址生成对应的IP地址集"
   ]
  },
  {
   "cell_type": "markdown",
   "metadata": {},
   "source": [
    "你有一个CIDR网络地址比如“123.45.67.89/27”，你想将其转换成它所代表的所有IP（比如，“123.45.67.64”,“123.45.67.65”,…,“123.45.67.95”)）"
   ]
  },
  {
   "cell_type": "markdown",
   "metadata": {},
   "source": [
    "可以使用ipaddress模块很容易的实现这样的计算。例如："
   ]
  },
  {
   "cell_type": "code",
   "execution_count": 1,
   "metadata": {},
   "outputs": [
    {
     "data": {
      "text/plain": [
       "IPv4Network('123.45.67.64/27')"
      ]
     },
     "execution_count": 1,
     "metadata": {},
     "output_type": "execute_result"
    }
   ],
   "source": [
    "import ipaddress\n",
    "net = ipaddress.ip_network('123.45.67.64/27')\n",
    "net"
   ]
  },
  {
   "cell_type": "code",
   "execution_count": 2,
   "metadata": {},
   "outputs": [
    {
     "name": "stdout",
     "output_type": "stream",
     "text": [
      "123.45.67.64\n",
      "123.45.67.65\n",
      "123.45.67.66\n",
      "123.45.67.67\n",
      "123.45.67.68\n",
      "123.45.67.69\n",
      "123.45.67.70\n",
      "123.45.67.71\n",
      "123.45.67.72\n",
      "123.45.67.73\n",
      "123.45.67.74\n",
      "123.45.67.75\n",
      "123.45.67.76\n",
      "123.45.67.77\n",
      "123.45.67.78\n",
      "123.45.67.79\n",
      "123.45.67.80\n",
      "123.45.67.81\n",
      "123.45.67.82\n",
      "123.45.67.83\n",
      "123.45.67.84\n",
      "123.45.67.85\n",
      "123.45.67.86\n",
      "123.45.67.87\n",
      "123.45.67.88\n",
      "123.45.67.89\n",
      "123.45.67.90\n",
      "123.45.67.91\n",
      "123.45.67.92\n",
      "123.45.67.93\n",
      "123.45.67.94\n",
      "123.45.67.95\n"
     ]
    }
   ],
   "source": [
    "for a in net:\n",
    "    print(a) # 打印所在子网的地址"
   ]
  },
  {
   "cell_type": "code",
   "execution_count": 3,
   "metadata": {},
   "outputs": [
    {
     "data": {
      "text/plain": [
       "IPv6Network('12:3456:78:90ab:cd:ef01:23:30/125')"
      ]
     },
     "execution_count": 3,
     "metadata": {},
     "output_type": "execute_result"
    }
   ],
   "source": [
    "net6=ipaddress.ip_network('12:3456:78:90ab:cd:ef01:23:30/125')\n",
    "net6"
   ]
  },
  {
   "cell_type": "code",
   "execution_count": 4,
   "metadata": {},
   "outputs": [
    {
     "name": "stdout",
     "output_type": "stream",
     "text": [
      "12:3456:78:90ab:cd:ef01:23:30\n",
      "12:3456:78:90ab:cd:ef01:23:31\n",
      "12:3456:78:90ab:cd:ef01:23:32\n",
      "12:3456:78:90ab:cd:ef01:23:33\n",
      "12:3456:78:90ab:cd:ef01:23:34\n",
      "12:3456:78:90ab:cd:ef01:23:35\n",
      "12:3456:78:90ab:cd:ef01:23:36\n",
      "12:3456:78:90ab:cd:ef01:23:37\n"
     ]
    }
   ],
   "source": [
    "for a in net6:\n",
    "    print(a)"
   ]
  },
  {
   "cell_type": "code",
   "execution_count": 7,
   "metadata": {},
   "outputs": [
    {
     "data": {
      "text/plain": [
       "(32, IPv4Address('123.45.67.64'))"
      ]
     },
     "execution_count": 7,
     "metadata": {},
     "output_type": "execute_result"
    }
   ],
   "source": [
    "net.num_addresses, net[0]"
   ]
  },
  {
   "cell_type": "code",
   "execution_count": 8,
   "metadata": {},
   "outputs": [
    {
     "data": {
      "text/plain": [
       "True"
      ]
     },
     "execution_count": 8,
     "metadata": {},
     "output_type": "execute_result"
    }
   ],
   "source": [
    "a = ipaddress.ip_address('123.45.67.81')\n",
    "a in net"
   ]
  },
  {
   "cell_type": "code",
   "execution_count": 10,
   "metadata": {},
   "outputs": [
    {
     "data": {
      "text/plain": [
       "False"
      ]
     },
     "execution_count": 10,
     "metadata": {},
     "output_type": "execute_result"
    }
   ],
   "source": [
    "b = ipaddress.ip_address('123.45.67.181')\n",
    "b in net"
   ]
  },
  {
   "cell_type": "code",
   "execution_count": 11,
   "metadata": {},
   "outputs": [
    {
     "data": {
      "text/plain": [
       "IPv4Network('123.45.67.64/27')"
      ]
     },
     "execution_count": 11,
     "metadata": {},
     "output_type": "execute_result"
    }
   ],
   "source": [
    "inet = ipaddress.ip_interface('123.45.67.73/27')\n",
    "inet.network"
   ]
  },
  {
   "cell_type": "code",
   "execution_count": 12,
   "metadata": {},
   "outputs": [
    {
     "data": {
      "text/plain": [
       "IPv4Network('123.45.67.64/27')"
      ]
     },
     "execution_count": 12,
     "metadata": {},
     "output_type": "execute_result"
    }
   ],
   "source": [
    "inet.network"
   ]
  },
  {
   "cell_type": "code",
   "execution_count": 13,
   "metadata": {},
   "outputs": [
    {
     "data": {
      "text/plain": [
       "IPv4Address('123.45.67.73')"
      ]
     },
     "execution_count": 13,
     "metadata": {},
     "output_type": "execute_result"
    }
   ],
   "source": [
    "inet.ip"
   ]
  },
  {
   "cell_type": "markdown",
   "metadata": {},
   "source": [
    "ipaddress模块有很多类可以表示IP地址、网络和接口。当你需要操作网络地址（比如解析、打印、验证等）的时候会很有用。"
   ]
  },
  {
   "cell_type": "markdown",
   "metadata": {},
   "source": [
    "要注意的是，ipaddress模块跟其他一些和网络相关的模块比如socket库交集很少。所以，你不能使用IPv4Address的实例来代替一个地址字符串，你首先得显式的使用str()转换它。例如："
   ]
  },
  {
   "cell_type": "code",
   "execution_count": 14,
   "metadata": {},
   "outputs": [
    {
     "ename": "TypeError",
     "evalue": "str, bytes or bytearray expected, not IPv4Address",
     "output_type": "error",
     "traceback": [
      "\u001b[1;31m---------------------------------------------------------------------------\u001b[0m",
      "\u001b[1;31mTypeError\u001b[0m                                 Traceback (most recent call last)",
      "\u001b[1;32m<ipython-input-14-05603bc2645d>\u001b[0m in \u001b[0;36m<module>\u001b[1;34m\u001b[0m\n\u001b[0;32m      2\u001b[0m \u001b[1;32mfrom\u001b[0m \u001b[0msocket\u001b[0m \u001b[1;32mimport\u001b[0m \u001b[0msocket\u001b[0m\u001b[1;33m,\u001b[0m \u001b[0mAF_INET\u001b[0m\u001b[1;33m,\u001b[0m \u001b[0mSOCK_STREAM\u001b[0m\u001b[1;33m\u001b[0m\u001b[1;33m\u001b[0m\u001b[0m\n\u001b[0;32m      3\u001b[0m \u001b[0ms\u001b[0m \u001b[1;33m=\u001b[0m \u001b[0msocket\u001b[0m\u001b[1;33m(\u001b[0m\u001b[0mAF_INET\u001b[0m\u001b[1;33m,\u001b[0m \u001b[0mSOCK_STREAM\u001b[0m\u001b[1;33m)\u001b[0m\u001b[1;33m\u001b[0m\u001b[1;33m\u001b[0m\u001b[0m\n\u001b[1;32m----> 4\u001b[1;33m \u001b[0ms\u001b[0m\u001b[1;33m.\u001b[0m\u001b[0mconnect\u001b[0m\u001b[1;33m(\u001b[0m\u001b[1;33m(\u001b[0m\u001b[0ma\u001b[0m\u001b[1;33m,\u001b[0m \u001b[1;36m8000\u001b[0m\u001b[1;33m)\u001b[0m\u001b[1;33m)\u001b[0m\u001b[1;33m\u001b[0m\u001b[1;33m\u001b[0m\u001b[0m\n\u001b[0m",
      "\u001b[1;31mTypeError\u001b[0m: str, bytes or bytearray expected, not IPv4Address"
     ]
    }
   ],
   "source": [
    "a = ipaddress.ip_address('127.0.0.1')\n",
    "from socket import socket, AF_INET, SOCK_STREAM\n",
    "s = socket(AF_INET, SOCK_STREAM)\n",
    "s.connect((a, 8000))"
   ]
  },
  {
   "cell_type": "code",
   "execution_count": 16,
   "metadata": {},
   "outputs": [
    {
     "ename": "ConnectionRefusedError",
     "evalue": "[WinError 10061] 由于目标计算机积极拒绝，无法连接。",
     "output_type": "error",
     "traceback": [
      "\u001b[1;31m---------------------------------------------------------------------------\u001b[0m",
      "\u001b[1;31mConnectionRefusedError\u001b[0m                    Traceback (most recent call last)",
      "\u001b[1;32m<ipython-input-16-149c158b6735>\u001b[0m in \u001b[0;36m<module>\u001b[1;34m\u001b[0m\n\u001b[1;32m----> 1\u001b[1;33m \u001b[0ms\u001b[0m\u001b[1;33m.\u001b[0m\u001b[0mconnect\u001b[0m\u001b[1;33m(\u001b[0m\u001b[1;33m(\u001b[0m\u001b[0mstr\u001b[0m\u001b[1;33m(\u001b[0m\u001b[0ma\u001b[0m\u001b[1;33m)\u001b[0m\u001b[1;33m,\u001b[0m \u001b[1;36m8080\u001b[0m\u001b[1;33m)\u001b[0m\u001b[1;33m)\u001b[0m\u001b[1;33m\u001b[0m\u001b[1;33m\u001b[0m\u001b[0m\n\u001b[0m",
      "\u001b[1;31mConnectionRefusedError\u001b[0m: [WinError 10061] 由于目标计算机积极拒绝，无法连接。"
     ]
    }
   ],
   "source": [
    "s.connect((str(a), 8080))"
   ]
  },
  {
   "cell_type": "markdown",
   "metadata": {},
   "source": [
    "## 创建一个简单的REST接口"
   ]
  },
  {
   "cell_type": "markdown",
   "metadata": {},
   "source": [
    "你想使用一个简单的REST接口通过网络远程控制或访问你的应用程序，但是你又不想自己去安装一个完整的web框架。"
   ]
  },
  {
   "cell_type": "markdown",
   "metadata": {},
   "source": [
    "构建一个REST风格的接口最简单的方法是创建一个基于WSGI标准（PEP 3333）的很小的库，下面是一个例子："
   ]
  },
  {
   "cell_type": "code",
   "execution_count": 2,
   "metadata": {},
   "outputs": [],
   "source": [
    "_hello_resp = '''\n",
    "<html>\n",
    "  <head>\n",
    "    <title>Hello {name} </title>\n",
    "  </head>\n",
    "  <boby>\n",
    "    <h1>Hello {name}</h1>\n",
    "  </boby>\n",
    "</html>'''"
   ]
  },
  {
   "cell_type": "code",
   "execution_count": 3,
   "metadata": {},
   "outputs": [],
   "source": [
    "_localtime_resp = '''\\\n",
    "<?xml version=\"1.0\"?>\n",
    "<time>\n",
    "  <year>{t.tm_year}</year>\n",
    "  <month>{t.tm_mon}</month>\n",
    "  <day>{t.tm_mday}</day>\n",
    "  <hour>{t.tm_hour}</hour>\n",
    "  <minute>{t.tm_min}</minute>\n",
    "  <second>{t.tm_sec}</second>\n",
    "</time>'''"
   ]
  },
  {
   "cell_type": "code",
   "execution_count": null,
   "metadata": {},
   "outputs": [],
   "source": [
    "import cgi\n",
    "import time\n",
    "from wsgiref.simple_server import make_server\n",
    "\n",
    "def notfound_404(environ, start_response):\n",
    "    '''\n",
    "    environ：一个包含所有HTTP请求信息的dict对象\n",
    "    start_response：一个发送HTTP响应的函数\n",
    "    HTTP响应的输出都可以通过start_response()加上函数返回值作为Body\n",
    "    '''\n",
    "    start_response('404 Not Found', [('Content-type', 'text/plain')])\n",
    "    return [b'Not Found']\n",
    "\n",
    "def hello_world(envrion, start_response):\n",
    "    start_response('200 OK', [('Contetn-type', 'text/html')])\n",
    "    params = envrion['params']\n",
    "    resp = _hello_resp.format(name=params.get('name'))\n",
    "    yield resp.encode('utf-8')\n",
    "\n",
    "def localtime(environ, start_response):\n",
    "    start_response('200 OK', [('Content-type', 'application/xml')])\n",
    "    resp = _localtime_resp.format(t=time.localtime())\n",
    "    yield resp.encode('utf-8')\n",
    "    \n",
    "class PathDispatcher:\n",
    "    \n",
    "    def __init__(self):\n",
    "        self.pathmap = {}\n",
    "\n",
    "    def __call__(self, environ, start_response):\n",
    "        path = environ['PATH_INFO']\n",
    "        params = cgi.FieldStorage(environ['wsgi.input'], environ=environ)\n",
    "        method = environ['REQUEST_METHOD'].lower()\n",
    "        environ['params'] = {key:params.getvalue(key) for key in params}\n",
    "        \n",
    "        handler = self.pathmap.get((method, path), notfound_404)  # 返回指定键的值，如果值不在字典中返回默认值\n",
    "        return handler(environ, start_response)\n",
    "\n",
    "    def register(self, method, path, function):\n",
    "        self.pathmap[method.lower(), path] = function  # key--->(method.lower(), path) \n",
    "        return function\n",
    "\n",
    "if __name__ == '__main__':\n",
    "    dispatcher = PathDispatcher()\n",
    "    dispatcher.register('GET', '/hello', hello_world)  # --->\n",
    "    dispatcher.register('GET', '/localtime', localtime)\n",
    "\n",
    "    httpd = make_server('', 8011, dispatcher)\n",
    "    print('Serving on port 8011....')\n",
    "    httpd.serve_forever()"
   ]
  },
  {
   "cell_type": "markdown",
   "metadata": {},
   "source": [
    "在 WSGI 中，你可以像下面这样约定的方式以一个可调用对象形式来实现你的程序。"
   ]
  },
  {
   "cell_type": "markdown",
   "metadata": {},
   "source": [
    "为了实现一个简单的 REST 接口，你只需让你的程序代码满足 Python 的 WSGI\n",
    "标准即可。WSGI 被标准库支持，同时也被绝大部分第三方 web 框架支持。因此，如\n",
    "果你的代码遵循这个标准，在后面的使用过程中就会更加的灵活！"
   ]
  },
  {
   "cell_type": "code",
   "execution_count": null,
   "metadata": {},
   "outputs": [],
   "source": [
    "import cgi\n",
    "\n",
    "def wsgi_app(environ, start_response):\n",
    "    '''\n",
    "    environ：type->dict 包含了从web服务器提取的CGI接口中获取的值\n",
    "    start_response: \n",
    "    为了初始化一个请求对象而必须被调用的函数\n",
    "    第一个参数返回HTTP状态值，第二个参数是一个(名，值)元组列表，用来构建返回http头\n",
    "    \n",
    "    return 为了返回数据，一个WSGI程序必须返回一个字节字符串序列\n",
    "    '''\n",
    "    pass"
   ]
  },
  {
   "cell_type": "code",
   "execution_count": null,
   "metadata": {},
   "outputs": [],
   "source": [
    "import cgi\n",
    "\n",
    "def wsgi_app(environ, start_response):\n",
    "    method = environ['REQUEST_METHOD']\n",
    "    path = environ['PATH_INFO']\n",
    "    params = cgi.FieldStorage(environ['wsgi.input'], environ=environ)"
   ]
  },
  {
   "cell_type": "code",
   "execution_count": null,
   "metadata": {},
   "outputs": [],
   "source": [
    "import cgi\n",
    "\n",
    "def wsgi_app(environ, start_response):\n",
    "    start_response('200 OK', [('Content-type', 'text/plain')])\n",
    "    resp = []\n",
    "    resp.append(b'Hello World\\n')\n",
    "    resp.append(b'Good Bye\\n')\n",
    "    return resp"
   ]
  },
  {
   "cell_type": "markdown",
   "metadata": {},
   "source": [
    "或者，你可以使用yield"
   ]
  },
  {
   "cell_type": "code",
   "execution_count": null,
   "metadata": {},
   "outputs": [],
   "source": [
    "import cgi\n",
    "\n",
    "def wsgi_app(environ, start_response):\n",
    "    start_response('200 OK', [('Content-type', 'text/plain')])\n",
    "    yield b'Hello World\\n'\n",
    "    yield b'Good Bye\\n'\n",
    "    pass"
   ]
  },
  {
   "cell_type": "markdown",
   "metadata": {},
   "source": [
    "这里要强调的一点是最后返回的必须是字节字符串。如果返回结果包含文本字符\n",
    "串，必须先将其编码成字节。当然，并没有要求你返回的一定是文本，你可以很轻松的\n",
    "编写一个生成图片的程序"
   ]
  },
  {
   "cell_type": "markdown",
   "metadata": {},
   "source": [
    "尽管 WSGI 程序通常被定义成一个函数，不过你也可以使用类实例来实现，只要\n",
    "它实现了合适的 __call__() 方法。例如"
   ]
  },
  {
   "cell_type": "code",
   "execution_count": null,
   "metadata": {},
   "outputs": [],
   "source": [
    "class WSGIApplication:\n",
    "    def __init__(self):\n",
    "        pass\n",
    "    \n",
    "    def __call__(self, environ, start_response):\n",
    "        pass"
   ]
  },
  {
   "cell_type": "markdown",
   "metadata": {},
   "source": [
    "最后，使用 WSGI 还有一个很重要的部分就是没有什么地方是针对特定 web 服务\n",
    "器的。因为标准对于服务器和框架是中立的，你可以将你的程序放入任何类型服务器\n",
    "中。我们使用下面的代码测试测试本节代码"
   ]
  },
  {
   "cell_type": "code",
   "execution_count": null,
   "metadata": {},
   "outputs": [],
   "source": [
    "if __name__ == '__main__':\n",
    "    dispatcher = PathDispatcher()\n",
    "    pass\n",
    "\n",
    "    httpd = make_server('', 8080, dispatcher)\n",
    "    print('Serving on port 8080')\n",
    "    httpd.server_forever()"
   ]
  },
  {
   "cell_type": "markdown",
   "metadata": {},
   "source": [
    "## 通过XML-PRC实现简单的远程调用"
   ]
  },
  {
   "cell_type": "markdown",
   "metadata": {},
   "source": [
    ".............."
   ]
  },
  {
   "cell_type": "markdown",
   "metadata": {},
   "source": [
    "## 在不同的Python解释器之间交互"
   ]
  },
  {
   "cell_type": "markdown",
   "metadata": {},
   "source": [
    ".........................."
   ]
  },
  {
   "cell_type": "markdown",
   "metadata": {},
   "source": [
    "## 简单的客户端认证"
   ]
  },
  {
   "cell_type": "markdown",
   "metadata": {},
   "source": [
    "............................"
   ]
  },
  {
   "cell_type": "markdown",
   "metadata": {},
   "source": [
    "## 理解时间驱动的IO"
   ]
  },
  {
   "cell_type": "markdown",
   "metadata": {},
   "source": [
    "你应该已经听过基于事件驱动或异步 I/O 的包，但是你还不能完全理解它的底层\n",
    "到底是怎样工作的，或者是如果使用它的话会对你的程序产生什么影响。"
   ]
  },
  {
   "cell_type": "markdown",
   "metadata": {},
   "source": [
    "事件驱动 I/O 本质上来讲就是将基本 I/O 操作（比如读和写）转化为你程序需要\n",
    "处理的事件。例如，当数据在某个 socket 上被接受后，它会转换成一个 receive 事件，\n",
    "然后被你定义的回调方法或函数来处理。作为一个可能的起始点，一个事件驱动的框架\n",
    "可能会以一个实现了一系列基本事件处理器方法的基类开始："
   ]
  },
  {
   "cell_type": "code",
   "execution_count": null,
   "metadata": {},
   "outputs": [],
   "source": [
    "class EventHandler:\n",
    "    def fileno(self):\n",
    "        raise NotImplemented('must implement'.title)\n",
    "        \n",
    "    def wants_to_receive(self):\n",
    "        return False\n",
    "    \n",
    "    def handle_receive(self):\n",
    "        pass\n",
    "    \n",
    "    def wants_to_send(self):\n",
    "        return False\n",
    "    \n",
    "    def handle_send(self):\n",
    "        pass"
   ]
  },
  {
   "cell_type": "markdown",
   "metadata": {},
   "source": [
    "这个类的实例作为插件被放入类似下面这样的事件循环中"
   ]
  },
  {
   "cell_type": "code",
   "execution_count": null,
   "metadata": {},
   "outputs": [],
   "source": [
    "import select\n",
    "\n",
    "def event_loop(handlers):\n",
    "    while True:\n",
    "        wants_recv = [h for h in handlers if h.wants_to_receive()]\n",
    "        wants_send = [h for h in handlers if h.wants_to_send()]\n",
    "        can_recv, can_send, _ = select.select(wants_recv, wants_send, [])\n",
    "        for h in can_recv:\n",
    "            h.handle_receive()\n",
    "        for h in can_send:\n",
    "            h.handle_send()"
   ]
  },
  {
   "cell_type": "markdown",
   "metadata": {},
   "source": [
    "..............."
   ]
  },
  {
   "cell_type": "markdown",
   "metadata": {},
   "source": [
    "## 发送与接收大型数组"
   ]
  },
  {
   "cell_type": "markdown",
   "metadata": {},
   "source": [
    ".................."
   ]
  },
  {
   "cell_type": "code",
   "execution_count": null,
   "metadata": {},
   "outputs": [],
   "source": []
  }
 ],
 "metadata": {
  "kernelspec": {
   "display_name": "Python 3",
   "language": "python",
   "name": "python3"
  },
  "language_info": {
   "codemirror_mode": {
    "name": "ipython",
    "version": 3
   },
   "file_extension": ".py",
   "mimetype": "text/x-python",
   "name": "python",
   "nbconvert_exporter": "python",
   "pygments_lexer": "ipython3",
   "version": "3.7.3"
  }
 },
 "nbformat": 4,
 "nbformat_minor": 2
}
