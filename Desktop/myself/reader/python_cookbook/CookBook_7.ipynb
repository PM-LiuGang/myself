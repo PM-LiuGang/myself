{
 "cells": [
  {
   "cell_type": "markdown",
   "metadata": {},
   "source": [
    "## 7.1 可接受任意数量参数的函数"
   ]
  },
  {
   "cell_type": "code",
   "execution_count": 1,
   "metadata": {},
   "outputs": [],
   "source": [
    "def avg(first, *rest): # rest是由所有其他位置参数组成的元组，当成一个序列进行后续的计算\n",
    "    return (first + sum(rest)) / (1 + len(rest))"
   ]
  },
  {
   "cell_type": "code",
   "execution_count": 2,
   "metadata": {},
   "outputs": [
    {
     "data": {
      "text/plain": [
       "(1.5, 2.5)"
      ]
     },
     "execution_count": 2,
     "metadata": {},
     "output_type": "execute_result"
    }
   ],
   "source": [
    "avg(1, 2), avg(1, 2, 3, 4)"
   ]
  },
  {
   "cell_type": "code",
   "execution_count": 3,
   "metadata": {},
   "outputs": [],
   "source": [
    "import html\n",
    "\n",
    "def make_element(name, value, **attrs): #  **attrs 任意数量的关键字参数\n",
    "    keyvals = [' %s= \"%s\"' % item for item in attrs.items()]\n",
    "    attr_str = ''.join(keyvals)\n",
    "    element = '<{name}{attrs}>{value}</name>'.format(name=name, attrs = attr_str, value=html.escape(value)) # html.escape   \n",
    "    return element"
   ]
  },
  {
   "cell_type": "code",
   "execution_count": 2,
   "metadata": {},
   "outputs": [
    {
     "name": "stdout",
     "output_type": "stream",
     "text": [
      "('liu', 138)\n",
      "('gang', 1033)\n",
      "('end', 623)\n"
     ]
    }
   ],
   "source": [
    "d1 = {'liu':138, 'gang':1033,'end':623} # 'end':0623 -> error\n",
    "\n",
    "for item in d1.items():\n",
    "    print(item)"
   ]
  },
  {
   "cell_type": "code",
   "execution_count": 4,
   "metadata": {},
   "outputs": [
    {
     "data": {
      "text/plain": [
       "'<item size= \"large\" quantity= \"6\">Albatross</name>'"
      ]
     },
     "execution_count": 4,
     "metadata": {},
     "output_type": "execute_result"
    }
   ],
   "source": [
    "make_element('item', 'Albatross', size='large', quantity=6)"
   ]
  },
  {
   "cell_type": "code",
   "execution_count": 5,
   "metadata": {},
   "outputs": [
    {
     "data": {
      "text/plain": [
       "'<p>&lt;spam&gt;</name>'"
      ]
     },
     "execution_count": 5,
     "metadata": {},
     "output_type": "execute_result"
    }
   ],
   "source": [
    "make_element('p', '<spam>') # 也可以不放入关键字参数"
   ]
  },
  {
   "cell_type": "code",
   "execution_count": 6,
   "metadata": {},
   "outputs": [],
   "source": [
    "def anyargs(*args, **kwargs): \n",
    "    print(args) # print result -> tuple\n",
    "    print(kwargs) # print result -> dict"
   ]
  },
  {
   "cell_type": "code",
   "execution_count": 8,
   "metadata": {},
   "outputs": [
    {
     "name": "stdout",
     "output_type": "stream",
     "text": [
      "()\n",
      "{'spa': 11111, 'sp': 23}\n"
     ]
    }
   ],
   "source": [
    "anyargs(spa=11111, sp=23)"
   ]
  },
  {
   "cell_type": "code",
   "execution_count": 12,
   "metadata": {},
   "outputs": [
    {
     "name": "stdout",
     "output_type": "stream",
     "text": [
      "('11', '22')\n",
      "{'spa': 11111, 'sp': 23}\n"
     ]
    }
   ],
   "source": [
    "anyargs('11', '22', spa=11111, sp=23)"
   ]
  },
  {
   "cell_type": "code",
   "execution_count": 16,
   "metadata": {},
   "outputs": [
    {
     "name": "stdout",
     "output_type": "stream",
     "text": [
      "(('11', '2'),)\n",
      "{}\n",
      "('11', '2')\n",
      "{}\n",
      "('11', '2')\n",
      "{'key': 'liu', 'key1': 'gang'}\n"
     ]
    },
    {
     "data": {
      "text/plain": [
       "(None, None, None)"
      ]
     },
     "execution_count": 16,
     "metadata": {},
     "output_type": "execute_result"
    }
   ],
   "source": [
    "anyargs(('11', '2')), anyargs('11', '2'),anyargs('11', '2', key='liu', key1='gang') "
   ]
  },
  {
   "cell_type": "code",
   "execution_count": 13,
   "metadata": {},
   "outputs": [],
   "source": [
    "#一个*参数只能出现在函数定义中最后一个位置参数后面，而**参数只能出现在最后一个参数\n",
    "#有一点要注意的是，在*参数后面仍然可以定义其他参数\n",
    "\n",
    "def a(x, *args, y):\n",
    "    pass\n",
    "\n",
    "def b(x, *args, y, **kargs):\n",
    "    pass"
   ]
  },
  {
   "cell_type": "markdown",
   "metadata": {},
   "source": [
    "## 只接受关键字参数的函数"
   ]
  },
  {
   "cell_type": "code",
   "execution_count": 14,
   "metadata": {},
   "outputs": [
    {
     "ename": "TypeError",
     "evalue": "recv() missing 1 required keyword-only argument: 'block'",
     "output_type": "error",
     "traceback": [
      "\u001b[1;31m---------------------------------------------------------------------------\u001b[0m",
      "\u001b[1;31mTypeError\u001b[0m                                 Traceback (most recent call last)",
      "\u001b[1;32m<ipython-input-14-c1ecc0fba7eb>\u001b[0m in \u001b[0;36m<module>\u001b[1;34m\u001b[0m\n\u001b[0;32m      2\u001b[0m     \u001b[1;32mpass\u001b[0m\u001b[1;33m\u001b[0m\u001b[1;33m\u001b[0m\u001b[0m\n\u001b[0;32m      3\u001b[0m \u001b[1;33m\u001b[0m\u001b[0m\n\u001b[1;32m----> 4\u001b[1;33m \u001b[0mrecv\u001b[0m\u001b[1;33m(\u001b[0m\u001b[1;36m1024\u001b[0m\u001b[1;33m,\u001b[0m \u001b[1;32mTrue\u001b[0m\u001b[1;33m)\u001b[0m\u001b[1;33m\u001b[0m\u001b[1;33m\u001b[0m\u001b[0m\n\u001b[0m",
      "\u001b[1;31mTypeError\u001b[0m: recv() missing 1 required keyword-only argument: 'block'"
     ]
    }
   ],
   "source": [
    "def recv(maxsize, *param, block):\n",
    "    pass\n",
    "\n",
    "recv(1024, True)"
   ]
  },
  {
   "cell_type": "code",
   "execution_count": 15,
   "metadata": {},
   "outputs": [],
   "source": [
    "recv(1024, block=True) # 将block强制使用关键字参数传递"
   ]
  },
  {
   "cell_type": "code",
   "execution_count": 16,
   "metadata": {},
   "outputs": [
    {
     "ename": "TypeError",
     "evalue": "recv() missing 1 required keyword-only argument: 'block'",
     "output_type": "error",
     "traceback": [
      "\u001b[1;31m---------------------------------------------------------------------------\u001b[0m",
      "\u001b[1;31mTypeError\u001b[0m                                 Traceback (most recent call last)",
      "\u001b[1;32m<ipython-input-16-a8ca85c6c505>\u001b[0m in \u001b[0;36m<module>\u001b[1;34m\u001b[0m\n\u001b[1;32m----> 1\u001b[1;33m \u001b[0mmsg\u001b[0m\u001b[1;33m=\u001b[0m\u001b[0mrecv\u001b[0m\u001b[1;33m(\u001b[0m\u001b[1;36m1024\u001b[0m\u001b[1;33m,\u001b[0m \u001b[1;32mFalse\u001b[0m\u001b[1;33m)\u001b[0m\u001b[1;33m\u001b[0m\u001b[1;33m\u001b[0m\u001b[0m\n\u001b[0m",
      "\u001b[1;31mTypeError\u001b[0m: recv() missing 1 required keyword-only argument: 'block'"
     ]
    }
   ],
   "source": [
    "msg=recv(1024, False)"
   ]
  },
  {
   "cell_type": "code",
   "execution_count": 31,
   "metadata": {},
   "outputs": [],
   "source": [
    "msg = recv(1024, block=False)"
   ]
  },
  {
   "cell_type": "code",
   "execution_count": 27,
   "metadata": {},
   "outputs": [],
   "source": [
    "def mininum(*values, clip=None):\n",
    "    m = min(values)\n",
    "    if clip is not None:\n",
    "        m = clip if clip > m else m\n",
    "    return m"
   ]
  },
  {
   "cell_type": "code",
   "execution_count": 28,
   "metadata": {},
   "outputs": [
    {
     "data": {
      "text/plain": [
       "-5"
      ]
     },
     "execution_count": 28,
     "metadata": {},
     "output_type": "execute_result"
    }
   ],
   "source": [
    "mininum(1, 5, 2, -5, 10) #"
   ]
  },
  {
   "cell_type": "code",
   "execution_count": 29,
   "metadata": {},
   "outputs": [
    {
     "data": {
      "text/plain": [
       "0"
      ]
     },
     "execution_count": 29,
     "metadata": {},
     "output_type": "execute_result"
    }
   ],
   "source": [
    "mininum(1, 5, 2, -5, 10, clip=0)"
   ]
  },
  {
   "cell_type": "code",
   "execution_count": 34,
   "metadata": {},
   "outputs": [],
   "source": [
    "def add(x:int, y:int) -> int: # 函数参数注解\n",
    "    return x+y"
   ]
  },
  {
   "cell_type": "code",
   "execution_count": 35,
   "metadata": {},
   "outputs": [
    {
     "name": "stdout",
     "output_type": "stream",
     "text": [
      "Help on function add in module __main__:\n",
      "\n",
      "add(x: int, y: int) -> int\n",
      "\n"
     ]
    }
   ],
   "source": [
    "help(add)"
   ]
  },
  {
   "cell_type": "code",
   "execution_count": 36,
   "metadata": {},
   "outputs": [
    {
     "data": {
      "text/plain": [
       "{'x': int, 'y': int, 'return': int}"
      ]
     },
     "execution_count": 36,
     "metadata": {},
     "output_type": "execute_result"
    }
   ],
   "source": [
    "# 函数注解只存储在函数的annotations 魔法属性中\n",
    "add.__annotations__"
   ]
  },
  {
   "cell_type": "markdown",
   "metadata": {},
   "source": [
    "## 返回多个值得函数"
   ]
  },
  {
   "cell_type": "code",
   "execution_count": 38,
   "metadata": {},
   "outputs": [
    {
     "data": {
      "text/plain": [
       "(1, 2, 3)"
      ]
     },
     "execution_count": 38,
     "metadata": {},
     "output_type": "execute_result"
    }
   ],
   "source": [
    "def myfun():\n",
    "    return 1, 2, 3\n",
    "\n",
    "a, b, c = myfun()\n",
    "a,b,c"
   ]
  },
  {
   "cell_type": "code",
   "execution_count": 39,
   "metadata": {},
   "outputs": [
    {
     "data": {
      "text/plain": [
       "(1, 2, 3)"
      ]
     },
     "execution_count": 39,
     "metadata": {},
     "output_type": "execute_result"
    }
   ],
   "source": [
    "x = myfun()\n",
    "x"
   ]
  },
  {
   "cell_type": "code",
   "execution_count": 40,
   "metadata": {},
   "outputs": [
    {
     "data": {
      "text/plain": [
       "(1, 2)"
      ]
     },
     "execution_count": 40,
     "metadata": {},
     "output_type": "execute_result"
    }
   ],
   "source": [
    "a = (1, 2)\n",
    "a"
   ]
  },
  {
   "cell_type": "markdown",
   "metadata": {},
   "source": [
    "## 定义有默认参数的函数"
   ]
  },
  {
   "cell_type": "code",
   "execution_count": 1,
   "metadata": {},
   "outputs": [
    {
     "data": {
      "text/plain": [
       "((1, 42), (1, 2))"
      ]
     },
     "execution_count": 1,
     "metadata": {},
     "output_type": "execute_result"
    }
   ],
   "source": [
    "def spam(a, b=42): # 先定义默认值，然后放到参数列表最后\n",
    "    return a, b\n",
    "    \n",
    "spam(1), spam(1, 2)"
   ]
  },
  {
   "cell_type": "code",
   "execution_count": 46,
   "metadata": {},
   "outputs": [],
   "source": [
    "def spam(a, b=None): #默认参数是一个可修改的容器，比如列表，集合或者字典，可以使用None作为默认值\n",
    "    if b is None:\n",
    "        b = []"
   ]
  },
  {
   "cell_type": "code",
   "execution_count": 6,
   "metadata": {},
   "outputs": [],
   "source": [
    "# 如果你并不想提供一个默认值，而是想仅仅测试下某个默认参数是不是有传递进来\n",
    "\n",
    "_no_value = object() # 调用object实例\n",
    "\n",
    "def spam(a, b=_no_value):\n",
    "    if b is _no_value:\n",
    "        print('that has no default value~')\n",
    "    else:\n",
    "        print('that has a default value~')"
   ]
  },
  {
   "cell_type": "code",
   "execution_count": 7,
   "metadata": {},
   "outputs": [
    {
     "name": "stdout",
     "output_type": "stream",
     "text": [
      "that has no default value~\n"
     ]
    }
   ],
   "source": [
    "spam(1)"
   ]
  },
  {
   "cell_type": "code",
   "execution_count": 8,
   "metadata": {},
   "outputs": [
    {
     "name": "stdout",
     "output_type": "stream",
     "text": [
      "that has a default value~\n"
     ]
    }
   ],
   "source": [
    "spam(1, 2)"
   ]
  },
  {
   "cell_type": "code",
   "execution_count": 9,
   "metadata": {},
   "outputs": [
    {
     "name": "stdout",
     "output_type": "stream",
     "text": [
      "that has a default value~\n"
     ]
    }
   ],
   "source": [
    "spam(1,None)"
   ]
  },
  {
   "cell_type": "code",
   "execution_count": 55,
   "metadata": {},
   "outputs": [],
   "source": [
    "x = 42 \n",
    "def spam(a, b=x):\n",
    "    print(a, b)"
   ]
  },
  {
   "cell_type": "code",
   "execution_count": 56,
   "metadata": {},
   "outputs": [
    {
     "name": "stdout",
     "output_type": "stream",
     "text": [
      "1 42\n"
     ]
    }
   ],
   "source": [
    "spam(1)"
   ]
  },
  {
   "cell_type": "code",
   "execution_count": 58,
   "metadata": {},
   "outputs": [
    {
     "name": "stdout",
     "output_type": "stream",
     "text": [
      "1 42\n"
     ]
    }
   ],
   "source": [
    "x = 23\n",
    "spam(1) # 默认参数的值仅仅在函数定义的时候赋值一次,便实现绑定 b=42"
   ]
  },
  {
   "cell_type": "code",
   "execution_count": 60,
   "metadata": {},
   "outputs": [],
   "source": [
    "def spam(a, b=[]): # 默认参数的值应该是不可变的对象，比如None， True， False，数字或字符串\n",
    "    pass"
   ]
  },
  {
   "cell_type": "code",
   "execution_count": 10,
   "metadata": {},
   "outputs": [],
   "source": [
    "#在测试None值时使用is操作符\n",
    "# No recommend\n",
    "def spam(a, b=None):\n",
    "    if not b:\n",
    "        b = []\n",
    "        \n",
    "#instead\n",
    "def spam(a, b=None):\n",
    "    if b is None:\n",
    "        b = []"
   ]
  },
  {
   "cell_type": "markdown",
   "metadata": {},
   "source": [
    "## 定义匿名或内联函数"
   ]
  },
  {
   "cell_type": "code",
   "execution_count": 63,
   "metadata": {},
   "outputs": [
    {
     "data": {
      "text/plain": [
       "5"
      ]
     },
     "execution_count": 63,
     "metadata": {},
     "output_type": "execute_result"
    }
   ],
   "source": [
    "add = lambda x, y: x + y # 多用于需要用户提供回调函数的时候\n",
    "add(2, 3)"
   ]
  },
  {
   "cell_type": "code",
   "execution_count": 64,
   "metadata": {},
   "outputs": [
    {
     "data": {
      "text/plain": [
       "'helloworld'"
      ]
     },
     "execution_count": 64,
     "metadata": {},
     "output_type": "execute_result"
    }
   ],
   "source": [
    "add('hello', 'world')"
   ]
  },
  {
   "cell_type": "code",
   "execution_count": 11,
   "metadata": {},
   "outputs": [
    {
     "data": {
      "text/plain": [
       "['Ned Batchelder', 'David Beazley', 'BrianJones', 'Raymond Hettinger']"
      ]
     },
     "execution_count": 11,
     "metadata": {},
     "output_type": "execute_result"
    }
   ],
   "source": [
    "names= ['David Beazley', 'BrianJones', 'Raymond Hettinger', 'Ned Batchelder']\n",
    "sorted(names, key=lambda name: name.split()[-1].lower()) # 感觉key= 迭代实现"
   ]
  },
  {
   "cell_type": "markdown",
   "metadata": {},
   "source": [
    "## 匿名函数捕获变量值"
   ]
  },
  {
   "cell_type": "code",
   "execution_count": 75,
   "metadata": {},
   "outputs": [
    {
     "data": {
      "text/plain": [
       "30"
      ]
     },
     "execution_count": 75,
     "metadata": {},
     "output_type": "execute_result"
    }
   ],
   "source": [
    "x = 10\n",
    "\n",
    "a = lambda y: x+y # 没有实现变量与值的绑定\n",
    "\"\"\"\n",
    "def a(y):\n",
    "    return x+y\n",
    "\"\"\"\n",
    "x = 20\n",
    "\n",
    "a(10)"
   ]
  },
  {
   "cell_type": "code",
   "execution_count": 72,
   "metadata": {},
   "outputs": [
    {
     "data": {
      "text/plain": [
       "15"
      ]
     },
     "execution_count": 72,
     "metadata": {},
     "output_type": "execute_result"
    }
   ],
   "source": [
    "x = 5\n",
    "a = lambda y: x+y # lambda表达式中x是一个自由变量，在运行时才绑定值，而不是定义时绑定\n",
    "\"\"\"\n",
    "def a(y):\n",
    "    return x + y\n",
    "\"\"\"\n",
    "a(10)"
   ]
  },
  {
   "cell_type": "code",
   "execution_count": 73,
   "metadata": {},
   "outputs": [
    {
     "data": {
      "text/plain": [
       "20"
      ]
     },
     "execution_count": 73,
     "metadata": {},
     "output_type": "execute_result"
    }
   ],
   "source": [
    "a(15)"
   ]
  },
  {
   "cell_type": "code",
   "execution_count": 74,
   "metadata": {},
   "outputs": [
    {
     "data": {
      "text/plain": [
       "(20, 30)"
      ]
     },
     "execution_count": 74,
     "metadata": {},
     "output_type": "execute_result"
    }
   ],
   "source": [
    "#如果你想让某个匿名函数在定义时就能捕获到值，可以将那个参数值定义成默认参数即可\n",
    "\n",
    "x = 10\n",
    "a = lambda y, x=x: x + y\n",
    "x = 20\n",
    "b = lambda y, x=x: x+ y\n",
    "a(10), b(10)"
   ]
  },
  {
   "cell_type": "code",
   "execution_count": 12,
   "metadata": {},
   "outputs": [
    {
     "name": "stdout",
     "output_type": "stream",
     "text": [
      "14\n",
      "14\n",
      "14\n",
      "14\n",
      "14\n"
     ]
    }
   ],
   "source": [
    "funcs = [lambda x:x+n for n in range(5)] # 函数没能在定义时就记住每次的迭代值 [x+0, x+1, x+2, x+3, x+4]  n=4\n",
    "\"\"\"\n",
    "def funcs(x):\n",
    "    for n in range(5):\n",
    "        return [].append(x + n)\n",
    "\"\"\"\n",
    "for f in funcs:\n",
    "    print(f(10))"
   ]
  },
  {
   "cell_type": "code",
   "execution_count": 79,
   "metadata": {},
   "outputs": [
    {
     "name": "stdout",
     "output_type": "stream",
     "text": [
      "10\n",
      "11\n",
      "12\n",
      "13\n",
      "14\n"
     ]
    }
   ],
   "source": [
    "funcs = [lambda x, n=n: x+n for n in range(5)] # 通过使用函数默认值参数形式，定义时就能绑定到值\n",
    "for f in funcs:\n",
    "    print(f(10))"
   ]
  },
  {
   "cell_type": "markdown",
   "metadata": {},
   "source": [
    "## 减少可调用对象的参数个数"
   ]
  },
  {
   "cell_type": "code",
   "execution_count": 31,
   "metadata": {},
   "outputs": [],
   "source": [
    "def spam(a, b, c, d):\n",
    "    return a, b, c, d"
   ]
  },
  {
   "cell_type": "code",
   "execution_count": 19,
   "metadata": {},
   "outputs": [
    {
     "name": "stdout",
     "output_type": "stream",
     "text": [
      "1 2 3 4\n"
     ]
    }
   ],
   "source": [
    "#使用partial函数固定某些参数值\n",
    "\n",
    "from functools import partial\n",
    "s1 = partial(spam, 1) # a=1  默认位置参数\n",
    "s1(2, 3, 4)"
   ]
  },
  {
   "cell_type": "code",
   "execution_count": 25,
   "metadata": {},
   "outputs": [
    {
     "name": "stdout",
     "output_type": "stream",
     "text": [
      "1 2 4 3\n"
     ]
    }
   ],
   "source": [
    "s1 = partial(spam, d=3)\n",
    "s1(1,2,4)"
   ]
  },
  {
   "cell_type": "code",
   "execution_count": 26,
   "metadata": {},
   "outputs": [
    {
     "name": "stdout",
     "output_type": "stream",
     "text": [
      "4 5 6 3\n"
     ]
    }
   ],
   "source": [
    "s1(4, 5, 6)"
   ]
  },
  {
   "cell_type": "code",
   "execution_count": 27,
   "metadata": {},
   "outputs": [
    {
     "ename": "TypeError",
     "evalue": "spam() got multiple values for argument 'b'",
     "output_type": "error",
     "traceback": [
      "\u001b[1;31m---------------------------------------------------------------------------\u001b[0m",
      "\u001b[1;31mTypeError\u001b[0m                                 Traceback (most recent call last)",
      "\u001b[1;32m<ipython-input-27-cab15f908250>\u001b[0m in \u001b[0;36m<module>\u001b[1;34m\u001b[0m\n\u001b[0;32m      1\u001b[0m \u001b[0ms2\u001b[0m \u001b[1;33m=\u001b[0m \u001b[0mpartial\u001b[0m\u001b[1;33m(\u001b[0m\u001b[0mspam\u001b[0m\u001b[1;33m,\u001b[0m\u001b[0mb\u001b[0m\u001b[1;33m=\u001b[0m\u001b[1;36m23\u001b[0m\u001b[1;33m)\u001b[0m\u001b[1;33m\u001b[0m\u001b[1;33m\u001b[0m\u001b[0m\n\u001b[1;32m----> 2\u001b[1;33m \u001b[0ms2\u001b[0m\u001b[1;33m(\u001b[0m\u001b[1;36m1\u001b[0m\u001b[1;33m,\u001b[0m\u001b[1;36m2\u001b[0m\u001b[1;33m,\u001b[0m\u001b[1;36m3\u001b[0m\u001b[1;33m)\u001b[0m\u001b[1;33m\u001b[0m\u001b[1;33m\u001b[0m\u001b[0m\n\u001b[0m",
      "\u001b[1;31mTypeError\u001b[0m: spam() got multiple values for argument 'b'"
     ]
    }
   ],
   "source": [
    "s2 = partial(spam,b=23)\n",
    "s2(1,2,3)"
   ]
  },
  {
   "cell_type": "code",
   "execution_count": 29,
   "metadata": {},
   "outputs": [],
   "source": [
    "s3 = partial(spam,1,2,d=42)"
   ]
  },
  {
   "cell_type": "code",
   "execution_count": 32,
   "metadata": {},
   "outputs": [
    {
     "name": "stdout",
     "output_type": "stream",
     "text": [
      "1 2 3 42\n",
      "1 2 4 42\n",
      "1 2 11 42\n"
     ]
    },
    {
     "data": {
      "text/plain": [
       "(None, None, None)"
      ]
     },
     "execution_count": 32,
     "metadata": {},
     "output_type": "execute_result"
    }
   ],
   "source": [
    "s3(3), s3(4), s3(11)"
   ]
  },
  {
   "cell_type": "code",
   "execution_count": 33,
   "metadata": {},
   "outputs": [],
   "source": [
    "points = [(1, 2), (3, 4), (5, 6), (7,8)]\n",
    "\n",
    "import math\n",
    "\n",
    "def distance(p1, p2):\n",
    "    x1, y1 = p1\n",
    "    x2, y2 = p2\n",
    "    return math.hypot(x2 - x1, y2 - y1) # math.hypot 欧几里得范数 阶数=2"
   ]
  },
  {
   "cell_type": "code",
   "execution_count": 34,
   "metadata": {},
   "outputs": [
    {
     "data": {
      "text/plain": [
       "[(3, 4), (1, 2), (5, 6), (7, 8)]"
      ]
     },
     "execution_count": 34,
     "metadata": {},
     "output_type": "execute_result"
    }
   ],
   "source": [
    "#现在假设你想以某个点为基点，根据点和基点之间的距离来排序所有的这些点\n",
    "#列表的sort方法接受一个关键字参数来自定义排序逻辑，但是它只能接受一个单个参数的函数\n",
    "#distance很明显是不符合条件的，通过partial实现\n",
    "\n",
    "pt = (4, 3)\n",
    "points.sort(key=partial(distance, pt)) #  key=欧几里得距离\n",
    "points"
   ]
  },
  {
   "cell_type": "code",
   "execution_count": null,
   "metadata": {},
   "outputs": [],
   "source": [
    "#partial通常被用来微调其他库函数所使用的回调函数的参数\n",
    "#使用multiprocessing来异步计算一个结果值\n",
    "#然后这个值被传递给一个接受一个result的值\n",
    "#和一个可选logging参数的回调函数\n",
    "\n",
    "import logging\n",
    "\n",
    "from multiprocessing import Pool\n",
    "from functools import partial\n",
    "\n",
    "def output_result(result, log=None):\n",
    "    if log is not None:\n",
    "        log.debug('Got: %r', result)\n",
    "        #logging.debug('Got: %r', result)\n",
    "        \n",
    "def add(x, y): # a simple function\n",
    "    return x + y\n",
    "\n",
    "if __name__ == \"__main__\":\n",
    "    logging.basicConfig(level=logging.DEBUG) # ?\n",
    "    log = logging.getLogger('test')  #获得一个logger对象，默认是root,'test' is ?\n",
    "    \n",
    "    p = Pool() # 进程池\n",
    "    #apply_async提供回调函数时，通过使用partical传递额外的logging函数\n",
    "    #multprocessing对这一些一无所知，仅仅只是单个值来调用回调函数\n",
    "    p.apply_async(add, (3, 4), callback=partial(output_result, log=log))\n",
    "    p.close()\n",
    "    p.join()\n",
    "    "
   ]
  },
  {
   "cell_type": "code",
   "execution_count": null,
   "metadata": {},
   "outputs": [],
   "source": [
    "#一个类似的例子，考虑下编写网络服务器的问题，socketserver模块让它变得很容易\n",
    "\n",
    "from socket"
   ]
  },
  {
   "cell_type": "markdown",
   "metadata": {},
   "source": [
    "## 将单方法的类转换为函数"
   ]
  },
  {
   "cell_type": "code",
   "execution_count": 2,
   "metadata": {},
   "outputs": [],
   "source": [
    "#使用闭包来将单个方法的类转换成函数\n",
    "#允许使用者根据某个模板方案来获取URL链接地址\n",
    "\n",
    "from urllib.request import urlopen"
   ]
  },
  {
   "cell_type": "code",
   "execution_count": null,
   "metadata": {},
   "outputs": [],
   "source": [
    "class UrlTemplate: # 唯一目的就是现在某个地方储存模板值，以便将来可以在open方法中使用\n",
    "    def __init__(self, template):\n",
    "        self.template = template\n",
    "        \n",
    "    def open(self, **kwargs):\n",
    "        return urlopen(self.template.format_map(kwargs)) # **kwargs 不需要\n",
    "    \n",
    "yahoo= UrlTemplate('http://finance.yahoo.com/d/quotes.csv?s={names}&f={fields}')\n",
    "for line in yahoo.open(names='IBM, AAPL, FB', fields='sl1c1v'):\n",
    "    print(line.decode('utf-8'))"
   ]
  },
  {
   "cell_type": "code",
   "execution_count": null,
   "metadata": {},
   "outputs": [],
   "source": [
    "#self \n",
    "def func1(): # 不知道该放什么参数 外层与嵌套函数没有逻辑关联\n",
    "    def wrapper(names='IBM, AAPL, FB', fields='sl1c1v'): # 提前放入了参数  闭包以后通通不放入具体参数\n",
    "        for line in urlopen('http://finance.yahoo.com/d/quotes.csv?s={names}&f={fields}'.format_map(names, fields)): # 执行逻辑\n",
    "            # fotmat_map ---> error  takes exactly 1 param (2 given)\n",
    "            return line\n",
    "    return wrapper\n",
    "\n",
    "f = func1()\n",
    "f()"
   ]
  },
  {
   "cell_type": "code",
   "execution_count": null,
   "metadata": {},
   "outputs": [],
   "source": [
    "#self-3\n",
    "def template(url):\n",
    "    def wrapper(*args, **kwargs):\n",
    "        return urlopen(url.format_map(*args, **kwargs))\n",
    "    return wrapper\n",
    "\n",
    "f = template('www.baidu.com')\n",
    "for i in f('name'=,'field'=):\n",
    "    print(i)\n"
   ]
  },
  {
   "cell_type": "code",
   "execution_count": null,
   "metadata": {
    "collapsed": true,
    "scrolled": true
   },
   "outputs": [],
   "source": [
    "# 这个类可以被一个更简单的函数代替\n",
    "#使用一个内部函数或者闭包的方案通常会更优雅一些\n",
    "#一个闭包就是一个函数，只不过在函数内带一个额外的变量环境\n",
    "#闭包关键特点是它会记住自己被定义的环境\n",
    "\n",
    "def urltemplate(template):\n",
    "    def opener(**kwargs): # open函数记住了template参数的值，并在接下来的调用中使用它\n",
    "        return urlopen(template.format_map(kwargs))\n",
    "    return opener\n",
    "\n",
    "yahoo= UrlTemplate('http://finance.yahoo.com/d/quotes.csv?s={names}&f={fields}')\n",
    "for line in yahoo(names='IBM, AAPL, FB', fields='sl1c1v'):\n",
    "    print(line.decode('utf-8'))\n",
    "\n",
    "#碰到需要给某个函数增加额外的状态信息的问题，都可以考虑会用闭包\n",
    "#相比将函数转成类，闭包通常是一个简洁和优雅的方案"
   ]
  },
  {
   "cell_type": "markdown",
   "metadata": {},
   "source": [
    "## 带额外状态信息的回调函数"
   ]
  },
  {
   "cell_type": "code",
   "execution_count": 13,
   "metadata": {},
   "outputs": [
    {
     "name": "stdout",
     "output_type": "stream",
     "text": [
      "Got: 5\n"
     ]
    }
   ],
   "source": [
    "# 需要调用回调函数的函数\n",
    "def apply_async(func, args, *, callback): # * 命名关键字参数\n",
    "    '''\n",
    "    Parameters\n",
    "    --------------\n",
    "    func:function\n",
    "    args:tuple\n",
    "    callback:function\n",
    "    \n",
    "    Returns\n",
    "    ---------\n",
    "    callback_function(result)\n",
    "    '''\n",
    "    result = func(*args) # compute the result    \n",
    "    callback(result) # Invoke the callback with the result ；参数不限于值，变量，也可以是函数\n",
    "\n",
    "# use apply_async\n",
    "def print_result(result): # 只接受一个参数result，不能再传入其他信息,，因为当你想让回调函数访问其他变量或者特定环境变量的时候就会遇到麻烦\n",
    "    print('Got:', result)\n",
    "    \n",
    "def add(x, y):\n",
    "    return x + y\n",
    "\n",
    "apply_async(add, (2, 3), callback=print_result)\n",
    "# add, (2, 3) -> return result=5\n",
    "# callback(print_result) -> Got 5 -> print_result(5)) -> Got: 5"
   ]
  },
  {
   "cell_type": "code",
   "execution_count": 14,
   "metadata": {},
   "outputs": [
    {
     "name": "stdout",
     "output_type": "stream",
     "text": [
      "Got: Hello world\n"
     ]
    }
   ],
   "source": [
    "apply_async(add, ('Hello', ' world'), callback=print_result)"
   ]
  },
  {
   "cell_type": "code",
   "execution_count": 14,
   "metadata": {},
   "outputs": [],
   "source": [
    "# 为了让回调函数访问外部信息，一种方法是使用一个绑定方法来代替一个简单函数\n",
    "\n",
    "class ResultHandler:\n",
    "    def __init__(self):\n",
    "        self.sequence = 0\n",
    "    \n",
    "    def handler(self, result):\n",
    "        self.sequence += 1\n",
    "        print('[{}] Got: {} '.format(self.sequence, result))"
   ]
  },
  {
   "cell_type": "code",
   "execution_count": 15,
   "metadata": {},
   "outputs": [
    {
     "name": "stdout",
     "output_type": "stream",
     "text": [
      "[1] Got: 5 \n"
     ]
    }
   ],
   "source": [
    "# 使用在这个类的时候，先创一个类的实例，然后用它的handler绑定方法来做为回调函数\n",
    "\n",
    "r = ResultHandler()\n",
    "apply_async(add, (2, 3), callback=r.handler)"
   ]
  },
  {
   "cell_type": "code",
   "execution_count": 16,
   "metadata": {},
   "outputs": [
    {
     "name": "stdout",
     "output_type": "stream",
     "text": [
      "[2] Got: hello world \n"
     ]
    }
   ],
   "source": [
    "apply_async(add, ('hello', ' world'), callback=r.handler)"
   ]
  },
  {
   "cell_type": "code",
   "execution_count": null,
   "metadata": {},
   "outputs": [],
   "source": [
    "#第二种方式，使用闭包\n",
    "#self-2\n",
    "def func1():\n",
    "    sequence += 1\n",
    "    def wrapper(result):\n",
    "        nonlocal sequence\n",
    "        sequence += 1\n",
    "        print('[{} Got: {}]'.format(sequence, result))\n",
    "    return wrapper\n",
    "\n",
    "f = func1()\n",
    "apply_async(add, (2, 3), callback=f)\n",
    "        "
   ]
  },
  {
   "cell_type": "code",
   "execution_count": 19,
   "metadata": {},
   "outputs": [],
   "source": [
    "#第二种方式，作为类的替代，可以使用一个闭包捕获状态值，这个状态值指的什么状态？\n",
    "def make_handler():\n",
    "    sequence = 0\n",
    "    def handler(result):\n",
    "        nonlocal sequence \n",
    "        # nonlocal关键字用来在函数或其它作用域中使用外层（非全局）变量\n",
    "        # 指示接下来的变量会在回调函数中被修改，如果没有这个声明，代码会报错\n",
    "        sequence += 1\n",
    "        print('[{}] Got: {}'.format(sequence, result))\n",
    "    return handler"
   ]
  },
  {
   "cell_type": "code",
   "execution_count": 20,
   "metadata": {},
   "outputs": [
    {
     "name": "stdout",
     "output_type": "stream",
     "text": [
      "[1] Got: 5\n"
     ]
    }
   ],
   "source": [
    "# use case\n",
    "handler = make_handler()\n",
    "apply_async(add, (2, 3), callback=handler)"
   ]
  },
  {
   "cell_type": "code",
   "execution_count": 21,
   "metadata": {},
   "outputs": [
    {
     "name": "stdout",
     "output_type": "stream",
     "text": [
      "[2] Got: helloworld\n"
     ]
    }
   ],
   "source": [
    "apply_async(add, ('hello', 'world'), callback=handler)"
   ]
  },
  {
   "cell_type": "code",
   "execution_count": 18,
   "metadata": {},
   "outputs": [],
   "source": [
    "# 还有一个更高级的方法，可以使用协程来完成同样的事情\n",
    "\n",
    "def make_handler():\n",
    "    sequence = 0\n",
    "    while True:\n",
    "        result = yield # ?\n",
    "        sequence += 1\n",
    "        print('[{}] Got: {}'.format(sequence, result))"
   ]
  },
  {
   "cell_type": "code",
   "execution_count": 19,
   "metadata": {},
   "outputs": [],
   "source": [
    "# use case\n",
    "handler = make_handler()\n",
    "next(handler) "
   ]
  },
  {
   "cell_type": "code",
   "execution_count": 20,
   "metadata": {},
   "outputs": [
    {
     "name": "stdout",
     "output_type": "stream",
     "text": [
      "[1] Got: 5\n"
     ]
    }
   ],
   "source": [
    "apply_async(add, (2, 3), callback=handler.send) # 生成器的调用"
   ]
  },
  {
   "cell_type": "code",
   "execution_count": 22,
   "metadata": {},
   "outputs": [
    {
     "name": "stdout",
     "output_type": "stream",
     "text": [
      "[2] Got: hello world\n"
     ]
    }
   ],
   "source": [
    "apply_async(add,('hello', ' world'), callback=handler.send)"
   ]
  },
  {
   "cell_type": "markdown",
   "metadata": {},
   "source": [
    "## 内联回调函数"
   ]
  },
  {
   "cell_type": "code",
   "execution_count": 26,
   "metadata": {},
   "outputs": [],
   "source": [
    "#让代码看上去更像一个普通的执行序列\n",
    "\n",
    "def apply_async(func, args, *, callback):\n",
    "    \n",
    "    result = func(*args)\n",
    "    \n",
    "    callback(result)"
   ]
  },
  {
   "cell_type": "code",
   "execution_count": 29,
   "metadata": {},
   "outputs": [],
   "source": [
    "#包含一个Async类和一个inlined_async装饰器\n",
    "\n",
    "from queue import Queue # Queue类实现了一个基本的先进先出(FIFO)容器，使用put()将元素添加到序列尾端，get()从队列尾部移除元素\n",
    "from functools import wraps\n",
    "\n",
    "class Async:\n",
    "    def __init__(self, func, args):\n",
    "        self.func = func\n",
    "        self.args = args\n",
    "        \n",
    "def inlined_async(func):\n",
    "    @wraps(func)\n",
    "    def wrapper(*args):\n",
    "        f = func(*args)\n",
    "        result_queue = Queue()\n",
    "        result_queue.put(None)\n",
    "        while True:\n",
    "            result = result_queue.get()\n",
    "            try:\n",
    "                a = f.send(result)\n",
    "                apply_async(a.func, a.args, callback=result_queue.put)\n",
    "            except StopIteration:\n",
    "                break\n",
    "    return wrapper"
   ]
  },
  {
   "cell_type": "code",
   "execution_count": 30,
   "metadata": {},
   "outputs": [],
   "source": [
    "# 这两个代码片段允许使用yield语句内联回调步骤，比如\n",
    "\n",
    "def add(x, y):\n",
    "    return x + y\n",
    "\n",
    "@inlined_async\n",
    "def test():\n",
    "    r = yield Async(add, (2, 3))\n",
    "    print(r)\n",
    "    r = yield Async(add, ('Hello', ' World'))\n",
    "    print(r)\n",
    "    for n in range(10):\n",
    "        r = yield Async(add, (n, n))\n",
    "        print(r)\n",
    "    print('Goodbye')"
   ]
  },
  {
   "cell_type": "code",
   "execution_count": 32,
   "metadata": {},
   "outputs": [
    {
     "name": "stdout",
     "output_type": "stream",
     "text": [
      "5\n",
      "Hello World\n",
      "0\n",
      "2\n",
      "4\n",
      "6\n",
      "8\n",
      "10\n",
      "12\n",
      "14\n",
      "16\n",
      "18\n",
      "Goodbye\n"
     ]
    }
   ],
   "source": [
    "# use case\n",
    "test()\n",
    "\n",
    "#你会发现，除了特别的装饰器和yield语句外，其他地方并没有出现任何的回调函数，其实是在后台定义的"
   ]
  },
  {
   "cell_type": "code",
   "execution_count": null,
   "metadata": {},
   "outputs": [],
   "source": [
    "if __name__ == '__main__':\n",
    "    import multiprocessing\n",
    "    pool = multiprocessing.Pool()\n",
    "    apply_async = pool.apply_async\n",
    "    test()"
   ]
  },
  {
   "cell_type": "markdown",
   "metadata": {},
   "source": [
    "## 访问闭包中定义的变量"
   ]
  },
  {
   "cell_type": "code",
   "execution_count": 27,
   "metadata": {},
   "outputs": [],
   "source": [
    "# 你想扩展函数中的某个闭包，允许他能访问和修改函数的内部变量\n",
    "# 通常，闭包的内部变量对于外界来讲完全是隐藏的\n",
    "# 但是，你可以通过编写访问函数并作为函数属性绑定到闭包上来实现这个目的\n",
    "\n",
    "def sample():\n",
    "    n = 0\n",
    "    # Closure function\n",
    "    def func():\n",
    "        print('n =', n)\n",
    "    \n",
    "    # Accessor methods for n\n",
    "    def get_n():\n",
    "        return n \n",
    "    \n",
    "    def set_n(value):\n",
    "        nonlocal n # 声明可以让我们编写函数来修改内部变量的值\n",
    "        n = value\n",
    "        \n",
    "    # Attach as function attributes\n",
    "    func.get_n = get_n # 函数属性允许我们使用一种很简单的方式将访问访问绑定到闭包函数上，这个跟实例方法很像\n",
    "    func.set_n = set_n\n",
    "    return func"
   ]
  },
  {
   "cell_type": "code",
   "execution_count": 28,
   "metadata": {},
   "outputs": [
    {
     "name": "stdout",
     "output_type": "stream",
     "text": [
      "n = 0\n"
     ]
    }
   ],
   "source": [
    "# use case\n",
    "f = sample()\n",
    "f()"
   ]
  },
  {
   "cell_type": "code",
   "execution_count": 30,
   "metadata": {},
   "outputs": [
    {
     "name": "stdout",
     "output_type": "stream",
     "text": [
      "n = 10\n"
     ]
    }
   ],
   "source": [
    "f.set_n(10) # 只有这一行的话，不打印值,因为get_n也是一个函数对象，未调用\n",
    "f()"
   ]
  },
  {
   "cell_type": "code",
   "execution_count": 34,
   "metadata": {},
   "outputs": [
    {
     "data": {
      "text/plain": [
       "10"
      ]
     },
     "execution_count": 34,
     "metadata": {},
     "output_type": "execute_result"
    }
   ],
   "source": [
    "f.get_n() #为什么这个只有一行 就打印值了"
   ]
  },
  {
   "cell_type": "code",
   "execution_count": 36,
   "metadata": {},
   "outputs": [],
   "source": [
    "#进一步扩展，让闭包模拟类的实例，你要做的仅仅是复制上面的内部函数到一个字典实例中并返回它即可\n",
    "\n",
    "import sys\n",
    "\n",
    "class ClosureInstance:\n",
    "    def __init__(self, locals=None):\n",
    "        if locals is None:\n",
    "            locals = sys._getframe(1).f_locals # ?\n",
    "        # Update instance dictionary with callables\n",
    "        self.__dict__.update((key, value) for key, value in locals.items() if callable(value))\n",
    "    def __len__(self):\n",
    "        return self.__dict__['__len__']()"
   ]
  },
  {
   "cell_type": "code",
   "execution_count": 37,
   "metadata": {},
   "outputs": [],
   "source": [
    "# use case\n",
    "\n",
    "def stack():\n",
    "    items = []\n",
    "    def push(item):\n",
    "        items.append(item)\n",
    "        \n",
    "    def pop():\n",
    "        return items.pop()\n",
    "    \n",
    "    def __len__():\n",
    "        return len(items)\n",
    "    \n",
    "    return ClosureInstance()\n",
    "\n",
    "'''\n",
    "class stack2:\n",
    "    def __init__(self):\n",
    "        self.items = []\n",
    "        \n",
    "    def push(self, item):\n",
    "        self.items.append(item)\n",
    "        \n",
    "    def pop(self):\n",
    "        return self.items.pop()\n",
    "    \n",
    "    def __len__(self):\n",
    "        return len(self.items)\n",
    "'''"
   ]
  },
  {
   "cell_type": "code",
   "execution_count": 38,
   "metadata": {},
   "outputs": [
    {
     "data": {
      "text/plain": [
       "<__main__.ClosureInstance at 0x23295dd1e10>"
      ]
     },
     "execution_count": 38,
     "metadata": {},
     "output_type": "execute_result"
    }
   ],
   "source": [
    "# 交互式会话来演示它是如何工作的\n",
    "\n",
    "s = stack()\n",
    "s"
   ]
  },
  {
   "cell_type": "code",
   "execution_count": 39,
   "metadata": {},
   "outputs": [],
   "source": [
    "s.push(10)"
   ]
  },
  {
   "cell_type": "code",
   "execution_count": 40,
   "metadata": {},
   "outputs": [],
   "source": [
    "s.push(20)"
   ]
  },
  {
   "cell_type": "code",
   "execution_count": 41,
   "metadata": {},
   "outputs": [],
   "source": [
    "s.push('hello')"
   ]
  },
  {
   "cell_type": "code",
   "execution_count": 42,
   "metadata": {},
   "outputs": [
    {
     "data": {
      "text/plain": [
       "3"
      ]
     },
     "execution_count": 42,
     "metadata": {},
     "output_type": "execute_result"
    }
   ],
   "source": [
    "len(s)"
   ]
  },
  {
   "cell_type": "code",
   "execution_count": 43,
   "metadata": {},
   "outputs": [
    {
     "data": {
      "text/plain": [
       "'hello'"
      ]
     },
     "execution_count": 43,
     "metadata": {},
     "output_type": "execute_result"
    }
   ],
   "source": [
    "s.pop()"
   ]
  },
  {
   "cell_type": "code",
   "execution_count": 44,
   "metadata": {},
   "outputs": [
    {
     "data": {
      "text/plain": [
       "20"
      ]
     },
     "execution_count": 44,
     "metadata": {},
     "output_type": "execute_result"
    }
   ],
   "source": [
    "s.pop()"
   ]
  },
  {
   "cell_type": "code",
   "execution_count": 45,
   "metadata": {},
   "outputs": [
    {
     "data": {
      "text/plain": [
       "10"
      ]
     },
     "execution_count": 45,
     "metadata": {},
     "output_type": "execute_result"
    }
   ],
   "source": [
    "s.pop()"
   ]
  },
  {
   "cell_type": "code",
   "execution_count": null,
   "metadata": {},
   "outputs": [],
   "source": [
    "#use stack2\n",
    "#闭包的方案比类运行起来要快大概8%\n",
    "\n",
    "from timeit import timeit\n",
    "# Test involving closures\n",
    "s = stack2()\n",
    "timeit('s.push(1);s.pop()', 'from __main__ import s')\n",
    "# Test involving a class\n",
    "s = stack2()\n",
    "timeit('s.push(1);s.pop()', 'from __main__ import s')"
   ]
  }
 ],
 "metadata": {
  "kernelspec": {
   "display_name": "Python 3",
   "language": "python",
   "name": "python3"
  },
  "language_info": {
   "codemirror_mode": {
    "name": "ipython",
    "version": 3
   },
   "file_extension": ".py",
   "mimetype": "text/x-python",
   "name": "python",
   "nbconvert_exporter": "python",
   "pygments_lexer": "ipython3",
   "version": "3.6.8"
  }
 },
 "nbformat": 4,
 "nbformat_minor": 2
}
