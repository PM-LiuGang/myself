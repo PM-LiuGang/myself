{
 "cells": [
  {
   "cell_type": "markdown",
   "metadata": {},
   "source": [
    "# 并发编程"
   ]
  },
  {
   "cell_type": "markdown",
   "metadata": {},
   "source": [
    "## 启动与停止线程"
   ]
  },
  {
   "cell_type": "markdown",
   "metadata": {},
   "source": [
    "你要为需要并发执行的代码创建/销毁线程"
   ]
  },
  {
   "cell_type": "markdown",
   "metadata": {},
   "source": [
    "threading 库可以在单独的线程中执行任何的在 Python 中可以调用的对象。你可\n",
    "以创建一个 Thread 对象并将你要执行的对象以 target 参数的形式提供给该对象。下面\n",
    "是一个简单的例子"
   ]
  },
  {
   "cell_type": "code",
   "execution_count": 2,
   "metadata": {},
   "outputs": [
    {
     "name": "stdout",
     "output_type": "stream",
     "text": [
      "T-minus 10\n",
      "T-minus 9\n",
      "T-minus 8\n",
      "T-minus 7\n",
      "T-minus 6\n"
     ]
    }
   ],
   "source": [
    "import time\n",
    "\n",
    "def countdown(n):\n",
    "    while n>0:\n",
    "        print('T-minus', n)\n",
    "        n -= 1\n",
    "        time.sleep(5)\n",
    "        \n",
    "from threading import Thread\n",
    "t = Thread(target=countdown, args=(10, ))\n",
    "t.start()"
   ]
  },
  {
   "cell_type": "code",
   "execution_count": 5,
   "metadata": {},
   "outputs": [
    {
     "data": {
      "text/plain": [
       "True"
      ]
     },
     "execution_count": 5,
     "metadata": {},
     "output_type": "execute_result"
    },
    {
     "name": "stdout",
     "output_type": "stream",
     "text": [
      "T-minus 8\n"
     ]
    }
   ],
   "source": [
    "t.is_alive()"
   ]
  },
  {
   "cell_type": "code",
   "execution_count": 6,
   "metadata": {},
   "outputs": [
    {
     "data": {
      "text/plain": [
       "True"
      ]
     },
     "execution_count": 6,
     "metadata": {},
     "output_type": "execute_result"
    },
    {
     "name": "stdout",
     "output_type": "stream",
     "text": [
      "T-minus 7\n",
      "T-minus 6\n",
      "T-minus 5\n",
      "T-minus 4\n",
      "T-minus 3\n",
      "T-minus 2\n",
      "T-minus 1\n"
     ]
    }
   ],
   "source": [
    "t.is_alive()"
   ]
  },
  {
   "cell_type": "code",
   "execution_count": 7,
   "metadata": {},
   "outputs": [
    {
     "data": {
      "text/plain": [
       "False"
      ]
     },
     "execution_count": 7,
     "metadata": {},
     "output_type": "execute_result"
    }
   ],
   "source": [
    "t.is_alive()"
   ]
  },
  {
   "cell_type": "markdown",
   "metadata": {},
   "source": [
    "当你创建好一个线程对象后，该对象并不会立即执行，除非你调用它的 start()\n",
    "方法（当你调用 start() 方法时，它会调用你传递进来的函数，并把你传递进来的参\n",
    "数传递给该函数）。Python 中的线程会在一个单独的系统级线程中执行（比如说一个\n",
    "POSIX 线程或者一个 Windows 线程），这些线程将由操作系统来全权管理。线程一旦\n",
    "启动，将独立执行直到目标函数返回。你可以查询一个线程对象的状态，看它是否还在\n",
    "执行 t.is_alive()："
   ]
  },
  {
   "cell_type": "markdown",
   "metadata": {},
   "source": [
    "你也可以将一个线程加入到当前线程，并等待它终止："
   ]
  },
  {
   "cell_type": "code",
   "execution_count": null,
   "metadata": {},
   "outputs": [],
   "source": [
    "t.join()"
   ]
  },
  {
   "cell_type": "markdown",
   "metadata": {},
   "source": [
    "Python 解释器直到所有线程都终止前仍保持运行。对于需要长时间运行的线程或\n",
    "者需要一直运行的后台任务，你应当考虑使用后台线程。例如："
   ]
  },
  {
   "cell_type": "code",
   "execution_count": null,
   "metadata": {},
   "outputs": [],
   "source": [
    "t = Thread(target=countdown, args=(10, ), daemon=True)\n",
    "t.start()"
   ]
  },
  {
   "cell_type": "markdown",
   "metadata": {},
   "source": [
    "后台线程无法等待，不过，这些线程会在主线程终止时自动销毁。除了如上所示的\n",
    "两个操作，并没有太多可以对线程做的事情。你无法结束一个线程，无法给它发送信\n",
    "号，无法调整它的调度，也无法执行其他高级操作。如果需要这些特性，你需要自己添\n",
    "加。比如说，如果你需要终止线程，那么这个线程必须通过编程在某个特定点轮询来退\n",
    "出。你可以像下边这样把线程放入一个类中"
   ]
  },
  {
   "cell_type": "code",
   "execution_count": 3,
   "metadata": {},
   "outputs": [
    {
     "name": "stdout",
     "output_type": "stream",
     "text": [
      "T-minus 10\n"
     ]
    }
   ],
   "source": [
    "import time\n",
    "from threading import Thread\n",
    "\n",
    "class CountdownTask:\n",
    "    def __init__(self):\n",
    "        self._running = True\n",
    "        \n",
    "    def terminate(self):\n",
    "        self._running = False\n",
    "        \n",
    "    def run(self, n):\n",
    "        while self._running and n > 0: # True and int -> int\n",
    "            print('T-minus', n)\n",
    "            n -= 1\n",
    "            time.sleep(5)\n",
    "            \n",
    "c = CountdownTask()\n",
    "t = Thread(target=c.run, args=(10, ))\n",
    "t.start()\n",
    "time.sleep(2)\n",
    "c.terminate()\n",
    "time.sleep(1)\n",
    "t.join()\n"
   ]
  },
  {
   "cell_type": "markdown",
   "metadata": {},
   "source": [
    "如果线程执行一些像 I/O 这样的阻塞操作，那么通过轮询来终止线程将使得线程\n",
    "之间的协调变得非常棘手。比如，如果一个线程一直阻塞在一个 I/O 操作上，它就永\n",
    "远无法返回，也就无法检查自己是否已经被结束了。要正确处理这些问题，你需要利用\n",
    "超时循环来小心操作线程。例子如下："
   ]
  },
  {
   "cell_type": "code",
   "execution_count": null,
   "metadata": {},
   "outputs": [],
   "source": [
    "class IOTask:\n",
    "    def terminate(self):\n",
    "        self._running = False\n",
    "        \n",
    "    def run(self, sock):\n",
    "        sock.settimeout(5)\n",
    "        while self._running:\n",
    "            try:\n",
    "                data = sock.recv(8192)\n",
    "                break\n",
    "            except socket.timeout:\n",
    "                continue\n",
    "        return"
   ]
  },
  {
   "cell_type": "markdown",
   "metadata": {},
   "source": [
    "由于全局解释锁（GIL）的原因，Python 的线程被限制到同一时刻只允许一个线\n",
    "程执行这样一个执行模型。所以，Python 的线程更适用于处理 I/O 和其他需要并发执\n",
    "行的阻塞操作（比如等待 I/O、等待从数据库获取数据等等），而不是需要多处理器并\n",
    "行的计算密集型任务。"
   ]
  },
  {
   "cell_type": "markdown",
   "metadata": {},
   "source": [
    "有时你会看到下边这种通过继承 Thread 类来实现的线程："
   ]
  },
  {
   "cell_type": "code",
   "execution_count": 4,
   "metadata": {},
   "outputs": [],
   "source": [
    "from threading import Thread\n",
    "\n",
    "class CountdownThread(Thread):\n",
    "    def __init__(self, n):\n",
    "        super().__init__()\n",
    "        self.n = 0\n",
    "    def run(self):\n",
    "        while self.n > 0:\n",
    "            print('T-minus', self.n)\n",
    "            self.n -= 1\n",
    "            time.sleep(5)\n",
    "            \n",
    "c = CountdownThread(5)\n",
    "c.start()"
   ]
  },
  {
   "cell_type": "markdown",
   "metadata": {},
   "source": [
    "尽管这样也可以工作，但这使得你的代码依赖于 threading 库，所以你的这些代\n",
    "码只能在线程上下文中使用。上文所写的那些代码、函数都是与 threading 库无关的，\n",
    "这样就使得这些代码可以被用在其他的上下文中，可能与线程有关，也可能与线程无\n",
    "关。比如，你可以通过 multiprocessing 模块在一个单独的进程中执行你的代码"
   ]
  },
  {
   "cell_type": "code",
   "execution_count": 7,
   "metadata": {},
   "outputs": [
    {
     "ename": "NameError",
     "evalue": "name 'CountDownTask' is not defined",
     "output_type": "error",
     "traceback": [
      "\u001b[1;31m---------------------------------------------------------------------------\u001b[0m",
      "\u001b[1;31mNameError\u001b[0m                                 Traceback (most recent call last)",
      "\u001b[1;32m<ipython-input-7-416073b4afd0>\u001b[0m in \u001b[0;36m<module>\u001b[1;34m\u001b[0m\n\u001b[0;32m      1\u001b[0m \u001b[1;32mimport\u001b[0m \u001b[0mmultiprocessing\u001b[0m\u001b[1;33m\u001b[0m\u001b[1;33m\u001b[0m\u001b[0m\n\u001b[1;32m----> 2\u001b[1;33m \u001b[0mc\u001b[0m \u001b[1;33m=\u001b[0m \u001b[0mCountDownTask\u001b[0m\u001b[1;33m(\u001b[0m\u001b[1;36m5\u001b[0m\u001b[1;33m)\u001b[0m\u001b[1;33m\u001b[0m\u001b[1;33m\u001b[0m\u001b[0m\n\u001b[0m\u001b[0;32m      3\u001b[0m \u001b[0mp\u001b[0m \u001b[1;33m=\u001b[0m \u001b[0mmultiprocessing\u001b[0m\u001b[1;33m.\u001b[0m\u001b[0mProcess\u001b[0m\u001b[1;33m(\u001b[0m\u001b[0mtarget\u001b[0m\u001b[1;33m=\u001b[0m\u001b[0mc\u001b[0m\u001b[1;33m.\u001b[0m\u001b[0mrun\u001b[0m\u001b[1;33m)\u001b[0m\u001b[1;33m\u001b[0m\u001b[1;33m\u001b[0m\u001b[0m\n\u001b[0;32m      4\u001b[0m \u001b[0mp\u001b[0m\u001b[1;33m.\u001b[0m\u001b[0mstart\u001b[0m\u001b[1;33m(\u001b[0m\u001b[1;33m)\u001b[0m\u001b[1;33m\u001b[0m\u001b[1;33m\u001b[0m\u001b[0m\n",
      "\u001b[1;31mNameError\u001b[0m: name 'CountDownTask' is not defined"
     ]
    }
   ],
   "source": [
    "import multiprocessing\n",
    "# c = CountDownTask(5)\n",
    "c = CountdownThread(5)\n",
    "# c = CountdownThread(5)\n",
    "p = multiprocessing.Process(target=c.run)\n",
    "p.start()"
   ]
  },
  {
   "cell_type": "markdown",
   "metadata": {},
   "source": [
    "再次重申，这段代码仅适用于 CountdownTask 类是以独立于实际的并发手段（多\n",
    "线程、多进程等等）实现的情况"
   ]
  },
  {
   "cell_type": "markdown",
   "metadata": {},
   "source": [
    "## 判断线程是否已经启动"
   ]
  },
  {
   "cell_type": "markdown",
   "metadata": {},
   "source": [
    "你已经启动了一个线程，但是你想知道它是不是真的已经开始运行了"
   ]
  },
  {
   "cell_type": "markdown",
   "metadata": {},
   "source": [
    "线程的一个关键特性是每个线程都是独立运行且状态不可预测。如果程序中的其\n",
    "他线程需要通过判断某个线程的状态来确定自己下一步的操作，这时线程同步问题就\n",
    "会变得非常棘手。为了解决这些问题，我们需要使用 threading 库中的 Event 对象。\n",
    "Event 对象包含一个可由线程设置的信号标志，它允许线程等待某些事件的发生。在初\n",
    "始情况下，event 对象中的信号标志被设置为假。如果有线程等待一个 event 对象，而\n",
    "这个 event 对象的标志为假，那么这个线程将会被一直阻塞直至该标志为真。一个线程\n",
    "如果将一个 event 对象的信号标志设置为真，它将唤醒所有等待这个 event 对象的线\n",
    "程。如果一个线程等待一个已经被设置为真的 event 对象，那么它将忽略这个事件，继\n",
    "续执行。下边的代码展示了如何使用 Event 来协调线程的启动"
   ]
  },
  {
   "cell_type": "code",
   "execution_count": 5,
   "metadata": {},
   "outputs": [
    {
     "name": "stdout",
     "output_type": "stream",
     "text": [
      "Launching countdown\n",
      "countdown starting\n",
      "T-minus 10\n",
      "countdown is running\n",
      "T-minus 7\n",
      "T-minus 9\n",
      "T-minus 6\n",
      "T-minus 8\n",
      "T-minus 5\n",
      "T-minus 7\n",
      "T-minus 4\n",
      "T-minus 6\n",
      "T-minus 3\n",
      "T-minus 5\n",
      "T-minus 2\n",
      "T-minus 4\n",
      "T-minus 1\n",
      "T-minus 3\n",
      "T-minus 2\n",
      "T-minus 1\n"
     ]
    }
   ],
   "source": [
    "from threading import Thread, Event\n",
    "import time\n",
    "\n",
    "def countdown(n ,started_evt):\n",
    "    print('countdown starting')\n",
    "    started_evt.set()  # Set the internal flag to true.\n",
    "    while n>0:\n",
    "        print('T-minus', n)\n",
    "        n -= 1\n",
    "        time.sleep(5)\n",
    "        \n",
    "started_evt = Event()\n",
    "print('Launching countdown')\n",
    "t = Thread(target=countdown, args=(10, started_evt))\n",
    "t.start()\n",
    "\n",
    "#started_evt.wait()  # Block until the internal flag is true\n",
    "time.sleep(2)\n",
    "print('countdown is running')"
   ]
  },
  {
   "cell_type": "markdown",
   "metadata": {},
   "source": [
    "当你执行这段代码，“countdown is running”总是显示在“countdown starting”之\n",
    "后显示。这是由于使用 event 来协调线程，使得主线程要等到 countdown() 函数输出\n",
    "启动信息后，才能继续执行。"
   ]
  },
  {
   "cell_type": "markdown",
   "metadata": {},
   "source": [
    "event 对象最好单次使用，就是说，你创建一个 event 对象，让某个线程等待这个\n",
    "对象，一旦这个对象被设置为真，你就应该丢弃它。尽管可以通过 clear() 方法来重\n",
    "置 event 对象，但是很难确保安全地清理 event 对象并对它重新赋值。很可能会发生错\n",
    "过事件、死锁或者其他问题（特别是，你无法保证重置 event 对象的代码会在线程再次\n",
    "等待这个 event 对象之前执行）。如果一个线程需要不停地重复使用 event 对象，你最\n",
    "好使用 Condition 对象来代替。"
   ]
  },
  {
   "cell_type": "markdown",
   "metadata": {},
   "source": [
    "下面的代码使用 Condition 对象实现了一个周期定时\n",
    "器，每当定时器超时的时候，其他线程都可以监测到："
   ]
  },
  {
   "cell_type": "code",
   "execution_count": 7,
   "metadata": {},
   "outputs": [
    {
     "name": "stdout",
     "output_type": "stream",
     "text": [
      "T-minusCounting 0\n",
      " 10\n",
      "T-minus 10\n",
      "Counting 1\n",
      "CountingT-minus 0\n",
      " 9\n",
      "T-minusCountingCountingT-minus 2\n",
      " 8\n",
      " 1\n",
      " 9\n",
      "T-minusCountingCountingT-minus 3\n",
      " 8\n",
      " 7\n",
      " 2\n",
      "CountingT-minusT-minus 6\n",
      " 4\n",
      " 7Counting\n",
      " 3\n",
      "CountingT-minusT-minus  5\n",
      " 6\n",
      "4\n",
      "T-minusT-minus 5\n",
      " 4\n",
      "T-minusT-minus 3\n",
      " 4\n",
      "T-minusT-minus 3\n",
      " 2\n",
      "T-minusT-minus 1\n",
      " 2\n",
      "T-minus 1\n"
     ]
    }
   ],
   "source": [
    "# 没理解\n",
    "import threading\n",
    "import time\n",
    "\n",
    "class PeriodicTimer:\n",
    "    def __init__(self, interval):\n",
    "        self._interval = interval\n",
    "        self._flag = 0\n",
    "        # Class that implements a condition variable\n",
    "        # A condition variable allows one or more threads to wait until they are\n",
    "        # notified by another thread\n",
    "        self._cv = threading.Condition()\n",
    "        \n",
    "    def start(self):\n",
    "        t = threading.Thread(target=self.run)\n",
    "        t.daemon = True\n",
    "        t.start()\n",
    "        \n",
    "    def run(self):\n",
    "        while True:\n",
    "            time.sleep(self._interval)\n",
    "            with self._cv:\n",
    "                self._flag ^= 1  # ^? 异或 相同为零 相异为一\n",
    "                # Wake up all threads waiting on this condition\n",
    "                self._cv.notify_all()\n",
    "                \n",
    "    def wait_for_tick(self):\n",
    "        with self._cv:\n",
    "            last_flag = self._flag\n",
    "            while last_flag == self._flag:\n",
    "                self._cv.wait() # Wait until notified or until a timeout occurs.\n",
    "            \n",
    "ptimer = PeriodicTimer(5)\n",
    "ptimer.start()\n",
    "\n",
    "def countdown(nticks):\n",
    "    while nticks > 0:\n",
    "        ptimer.wait_for_tick()\n",
    "        print('T-minus', nticks)\n",
    "        nticks -= 1\n",
    "        \n",
    "def countup(last):\n",
    "    n = 0\n",
    "    while n < last:\n",
    "        ptimer.wait_for_tick()\n",
    "        print('Counting', n)\n",
    "        n += 1\n",
    "        \n",
    "threading.Thread(target=countdown, args=(10, )).start()\n",
    "threading.Thread(target=countup,args=(5, )).start()"
   ]
  },
  {
   "cell_type": "code",
   "execution_count": 22,
   "metadata": {},
   "outputs": [],
   "source": [
    "def worker(n, sema):\n",
    "    sema.acquire()\n",
    "    print('Working', n)\n",
    "    \n",
    "sema = threading.Semaphore(0)\n",
    "nworkers = 10\n",
    "\n",
    "for n in range(nworkers):\n",
    "    t = threading.Thread(target=worker, args=(n, sema))\n",
    "    t.start()\n",
    "    "
   ]
  },
  {
   "cell_type": "markdown",
   "metadata": {},
   "source": [
    "运行上边的代码将会启动一个线程池，但是并没有什么事情发生。这是因为所有的\n",
    "线程都在等待获取信号量。每次信号量被释放，只有一个线程会被唤醒并执行，示例如\n",
    "下："
   ]
  },
  {
   "cell_type": "code",
   "execution_count": 23,
   "metadata": {},
   "outputs": [
    {
     "name": "stdout",
     "output_type": "stream",
     "text": [
      "Working 0\n"
     ]
    }
   ],
   "source": [
    "sema.release()"
   ]
  },
  {
   "cell_type": "code",
   "execution_count": 24,
   "metadata": {},
   "outputs": [
    {
     "name": "stdout",
     "output_type": "stream",
     "text": [
      "Working 1\n"
     ]
    }
   ],
   "source": [
    "sema.release()"
   ]
  },
  {
   "cell_type": "markdown",
   "metadata": {},
   "source": [
    "编写涉及到大量的线程间同步问题的代码会让你痛不欲生。比较合适的方式是使\n",
    "用队列来进行线程间通信或者每个把线程当作一个 Actor，利用 Actor 模型来控制并\n",
    "发。下一节将会介绍到队列，而 Actor 模型将在 12.10 节介绍。"
   ]
  },
  {
   "cell_type": "markdown",
   "metadata": {},
   "source": [
    "### review@2019.10.26 ↑"
   ]
  },
  {
   "cell_type": "markdown",
   "metadata": {},
   "source": [
    "## 线程间通信"
   ]
  },
  {
   "cell_type": "markdown",
   "metadata": {},
   "source": [
    "你的程序中有多个线程，你需要在这些线程之间安全地交换信息或数据"
   ]
  },
  {
   "cell_type": "markdown",
   "metadata": {},
   "source": [
    "从一个线程向另一个线程发送数据最安全的方式可能就是使用 queue 库中的队列\n",
    "了。创建一个被多个线程共享的 Queue 对象，这些线程通过使用 put() 和 get() 操作\n",
    "来向队列中添加或者删除元素。例如"
   ]
  },
  {
   "cell_type": "markdown",
   "metadata": {},
   "source": [
    "........"
   ]
  },
  {
   "cell_type": "code",
   "execution_count": null,
   "metadata": {},
   "outputs": [],
   "source": []
  }
 ],
 "metadata": {
  "kernelspec": {
   "display_name": "Python 3",
   "language": "python",
   "name": "python3"
  },
  "language_info": {
   "codemirror_mode": {
    "name": "ipython",
    "version": 3
   },
   "file_extension": ".py",
   "mimetype": "text/x-python",
   "name": "python",
   "nbconvert_exporter": "python",
   "pygments_lexer": "ipython3",
   "version": "3.7.3"
  }
 },
 "nbformat": 4,
 "nbformat_minor": 2
}
