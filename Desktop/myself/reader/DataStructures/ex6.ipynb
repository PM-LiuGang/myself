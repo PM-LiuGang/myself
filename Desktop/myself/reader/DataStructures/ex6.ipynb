{
 "cells": [
  {
   "cell_type": "markdown",
   "metadata": {},
   "source": [
    "#### #6-1"
   ]
  },
  {
   "cell_type": "code",
   "execution_count": 1,
   "metadata": {},
   "outputs": [],
   "source": [
    "class Empty(Exception):\n",
    "    \"\"\"Error attempting to access an element from an empty container.\"\"\"\n",
    "    pass"
   ]
  },
  {
   "cell_type": "markdown",
   "metadata": {},
   "source": [
    "#### #6-2"
   ]
  },
  {
   "cell_type": "code",
   "execution_count": 216,
   "metadata": {},
   "outputs": [],
   "source": [
    "class ArrayStack:\n",
    "    \"\"\"LIFO Stack implementation using a Python list as underlying storage.\"\"\"\n",
    "    \n",
    "    def __init__(self):\n",
    "        \"\"\"Create an empty stack.\"\"\"\n",
    "        self._data = []\n",
    "        \n",
    "    def __len__(self):\n",
    "        return len(self._data)\n",
    "    \n",
    "    def is_empty(self):\n",
    "        return len(self._data) == 0\n",
    "    \n",
    "    def push(self, e):\n",
    "        self._data.append(e)\n",
    "        \n",
    "    def top(self):\n",
    "        if self.is_empty():\n",
    "            raise Empty('Stack is empty.')\n",
    "        return self._data[-1]\n",
    "    \n",
    "    def pop(self):\n",
    "        if self.is_empty():\n",
    "            raise Empty('Stack is empty.')\n",
    "        return self._data.pop()"
   ]
  },
  {
   "cell_type": "markdown",
   "metadata": {},
   "source": [
    "#### #6-3"
   ]
  },
  {
   "cell_type": "code",
   "execution_count": 73,
   "metadata": {},
   "outputs": [],
   "source": [
    "def reverse_file(filename):\n",
    "    s = ArrayStack()\n",
    "    original = open(filename)\n",
    "    for line in original:\n",
    "        s.push(line.rstrip('\\n'))\n",
    "    original.close()\n",
    "    \n",
    "    output = open(filename, 'w')\n",
    "    while not s.is_empty():\n",
    "        output.write(s.pop() + '\\n')\n",
    "    output.close()"
   ]
  },
  {
   "cell_type": "markdown",
   "metadata": {},
   "source": [
    "#### #6-4"
   ]
  },
  {
   "cell_type": "code",
   "execution_count": 95,
   "metadata": {},
   "outputs": [
    {
     "data": {
      "text/plain": [
       "True"
      ]
     },
     "execution_count": 95,
     "metadata": {},
     "output_type": "execute_result"
    }
   ],
   "source": [
    "def is_matched(expr):\n",
    "    \"\"\"Return True if all delimiters are properly match. False otherwise.\"\"\"\n",
    "    lefty = '({['  # 只考虑是正向开始的分隔符\n",
    "#     righty = ']})'\n",
    "    righty = ')}]'\n",
    "    s = ArrayStack()\n",
    "    for c in expr:\n",
    "        if c in lefty:\n",
    "            s.push(c)\n",
    "        elif c in righty:\n",
    "            if s.is_empty():\n",
    "                return False                                               # nothing to match with\n",
    "            if righty.index(c) != lefty.index(s.pop()):\n",
    "                return False                                               # mismatched\n",
    "    return s.is_empty()                                                 # were all symbols matched?\n",
    "\n",
    "is_matched('[(5+x) - (y -z)]')"
   ]
  },
  {
   "cell_type": "code",
   "execution_count": 96,
   "metadata": {},
   "outputs": [
    {
     "data": {
      "text/plain": [
       "True"
      ]
     },
     "execution_count": 96,
     "metadata": {},
     "output_type": "execute_result"
    }
   ],
   "source": [
    "is_matched('[(5+x)]')"
   ]
  },
  {
   "cell_type": "code",
   "execution_count": 97,
   "metadata": {},
   "outputs": [
    {
     "data": {
      "text/plain": [
       "True"
      ]
     },
     "execution_count": 97,
     "metadata": {},
     "output_type": "execute_result"
    }
   ],
   "source": [
    "is_matched('[(5+x) + {y - z} + [4+3]]')"
   ]
  },
  {
   "cell_type": "markdown",
   "metadata": {},
   "source": [
    "#### #6-5 测试一个HTML文本是否有匹配标签的函数"
   ]
  },
  {
   "cell_type": "code",
   "execution_count": 244,
   "metadata": {},
   "outputs": [
    {
     "data": {
      "text/plain": [
       "True"
      ]
     },
     "execution_count": 244,
     "metadata": {},
     "output_type": "execute_result"
    }
   ],
   "source": [
    "def is_matched_html(raw):\n",
    "    \"\"\"Return True if all HTML tags are properly match.False otherwise.\"\"\"\n",
    "    s = ArrayStack()\n",
    "    j = raw.find('<')                                        # 先找第一个开始符号\n",
    "    while j != -1: \n",
    "        k =raw.find('>', j + 1)                          # 再找第一个结束符号\n",
    "        if k == -1:\n",
    "            return \"不存在匹配的字符串\"\n",
    "        tag = raw[j +1: k]                                # 获取<>之间的内容\n",
    "        if not tag.startswith('/'):                     # 如果不是结束标签\n",
    "            s.push(tag)                                     # 将内容放到栈里\n",
    "        else:                                                   # 如果是结束标签\n",
    "            if s.is_empty():\n",
    "                return False\n",
    "            if tag[1: ] != s.pop(): # h1 == h1   # 如果tag内容跟栈顶的内容不一致\n",
    "                return False                              # 说明不匹配\n",
    "        j = raw.find('<', k + 1)                       # 继续寻找下一个开始符号的开始索引位置\n",
    "    return s.is_empty()\n",
    "\n",
    "is_matched_html('<center><h1>Little</h1></center>')"
   ]
  },
  {
   "cell_type": "code",
   "execution_count": 246,
   "metadata": {},
   "outputs": [
    {
     "data": {
      "text/plain": [
       "True"
      ]
     },
     "execution_count": 246,
     "metadata": {},
     "output_type": "execute_result"
    }
   ],
   "source": [
    "is_matched_html('<center><h1>Little</h1></center>')"
   ]
  },
  {
   "cell_type": "code",
   "execution_count": 110,
   "metadata": {},
   "outputs": [
    {
     "data": {
      "text/plain": [
       "23"
      ]
     },
     "execution_count": 110,
     "metadata": {},
     "output_type": "execute_result"
    }
   ],
   "source": [
    "'<center><h1>Little</h1></center>'.find('<', 19)"
   ]
  },
  {
   "cell_type": "markdown",
   "metadata": {},
   "source": [
    " #队列需求"
   ]
  },
  {
   "cell_type": "code",
   "execution_count": null,
   "metadata": {},
   "outputs": [],
   "source": [
    "q.enqueue(e) 向队列Q的队尾添加一个元素\n",
    "q.dequeue() 向队列Q中移除并返回第一个元素；如果队列为空，触发一个错误\n",
    "q.first() 在不移除的前提下返回队列的第一个元素；如果队列为空，....\n",
    "q.is_empty() 如果队列空，返回True\n",
    "len(q) 返回队列q中的元素数量 __len__\n"
   ]
  },
  {
   "cell_type": "markdown",
   "metadata": {},
   "source": [
    "#### #6-7 #6-8"
   ]
  },
  {
   "cell_type": "code",
   "execution_count": 38,
   "metadata": {},
   "outputs": [],
   "source": [
    "class ArrayQueue:\n",
    "    DEFAULT_CAPACITY = 10\n",
    "    \n",
    "    def __init__(self):\n",
    "        self._data = [None] * ArrayQueue.DEFAULT_CAPACITY  # 指一个固定容量的列表实例\n",
    "        self._size = 0    # 是一个整数，代表当前储存在队列内的元素的数量，与_data列表的长度正好相对\n",
    "        self._front = 0  # 是一个整数，代表_data实例队列中的第一个元素的索引，假设这个队列不为空\n",
    "        # myself\n",
    "        self._back = 0  # int, 代表_data队列中的最后一个元素的索引\n",
    "        \n",
    "    def __len__(self):\n",
    "        return self._size\n",
    "    \n",
    "    def is_empty(self):\n",
    "        return self._size == 0\n",
    "    \n",
    "    def first(self):\n",
    "        \"\"\"Return (but do not remove) the element at the front of the queue.\"\"\"\n",
    "        if self.is_empty():\n",
    "            raise Empty('Queue is empty.')\n",
    "        return self._data[self._front]\n",
    "    \n",
    "    #myself\n",
    "    def last(self):\n",
    "        if self.is_empty():\n",
    "            raise Empty('Queue is empty.')\n",
    "        return self._data[self._back]\n",
    " \n",
    "    def back(self):\n",
    "        if self.is_empty():\n",
    "            raise Empty('Queue is empty')\n",
    "        return self._back \n",
    "    \n",
    "    def front(self):\n",
    "        if self.is_empty():\n",
    "            raise Empty('Queue is empty')\n",
    "        return self._front\n",
    "    \n",
    "    def dequeue(self):\n",
    "        \"\"\"Remove and return the first element of the queue\n",
    "        \n",
    "        Raise Empty exception if the queue is empty.\"\"\"\n",
    "        if self.is_empty():\n",
    "            raise Empty('Queue is empty.')        \n",
    "        answer = self._data[self._front]\n",
    "        self._data[self._front] = None\n",
    "        self._front = (self._front + 1) % len(self._data)\n",
    "        self._size -= 1\n",
    "        return answer\n",
    "    \n",
    "    def enqueue(self, e):\n",
    "        \"\"\"Add an element to the back of queue.\"\"\"\n",
    "        if self._size == len(self._data):\n",
    "            self._resize(2 * len(self._data))\n",
    "        avail = (self._front + self._size) % len(self._data)\n",
    "        self._data[avail] = e\n",
    "        self._size += 1\n",
    "#         self._back = (len(self._data) - self._size + 1) len(self._data)\n",
    "        self._back = (self._front + self._size - 1) % len(self._data)\n",
    "        \n",
    "    def _resize(self, cap):\n",
    "        \"\"\"Resize to a new list of capacity >= len(self)\"\"\"\n",
    "        old = self._data\n",
    "        self._data = [None] * cap\n",
    "        walk = self._front\n",
    "        for k in range(self._size):\n",
    "            self._data[k] = old[walk]\n",
    "            walk = (1 + walk) % len(old)\n",
    "        self._front = 0"
   ]
  },
  {
   "cell_type": "code",
   "execution_count": 39,
   "metadata": {},
   "outputs": [],
   "source": [
    "aq = ArrayQueue()"
   ]
  },
  {
   "cell_type": "code",
   "execution_count": 40,
   "metadata": {},
   "outputs": [
    {
     "data": {
      "text/plain": [
       "(None, None, None, None, None, None)"
      ]
     },
     "execution_count": 40,
     "metadata": {},
     "output_type": "execute_result"
    }
   ],
   "source": [
    "aq.enqueue(1),aq.enqueue(2),aq.enqueue(3),aq.enqueue(4),aq.enqueue(6),aq.enqueue(7)"
   ]
  },
  {
   "cell_type": "code",
   "execution_count": 41,
   "metadata": {},
   "outputs": [
    {
     "data": {
      "text/plain": [
       "(1, 2, 3, 4)"
      ]
     },
     "execution_count": 41,
     "metadata": {},
     "output_type": "execute_result"
    }
   ],
   "source": [
    "aq.dequeue(),aq.dequeue(),aq.dequeue(),aq.dequeue(),"
   ]
  },
  {
   "cell_type": "code",
   "execution_count": 43,
   "metadata": {},
   "outputs": [
    {
     "data": {
      "text/plain": [
       "(None, [None, None, None, None, 6, 7, 'liugang', 'liugang', None, None], 4, 7)"
      ]
     },
     "execution_count": 43,
     "metadata": {},
     "output_type": "execute_result"
    }
   ],
   "source": [
    "aq.enqueue('liugang'),aq._data, aq._front, aq.back()"
   ]
  },
  {
   "cell_type": "code",
   "execution_count": 44,
   "metadata": {},
   "outputs": [
    {
     "data": {
      "text/plain": [
       "(None,\n",
       " [None, None, None, None, 6, 7, 'liugang', 'liugang', 'liugang', None],\n",
       " 4,\n",
       " 8)"
      ]
     },
     "execution_count": 44,
     "metadata": {},
     "output_type": "execute_result"
    }
   ],
   "source": [
    "aq.enqueue('liugang'),aq._data, aq._front, aq.back()"
   ]
  },
  {
   "cell_type": "code",
   "execution_count": 45,
   "metadata": {},
   "outputs": [
    {
     "data": {
      "text/plain": [
       "(None,\n",
       " [None, None, None, None, 6, 7, 'liugang', 'liugang', 'liugang', 'liugang'],\n",
       " 4,\n",
       " 9)"
      ]
     },
     "execution_count": 45,
     "metadata": {},
     "output_type": "execute_result"
    }
   ],
   "source": [
    "aq.enqueue('liugang'),aq._data, aq._front, aq.back()"
   ]
  },
  {
   "cell_type": "code",
   "execution_count": 46,
   "metadata": {},
   "outputs": [
    {
     "data": {
      "text/plain": [
       "6"
      ]
     },
     "execution_count": 46,
     "metadata": {},
     "output_type": "execute_result"
    }
   ],
   "source": [
    "aq._size"
   ]
  },
  {
   "cell_type": "code",
   "execution_count": 47,
   "metadata": {},
   "outputs": [
    {
     "data": {
      "text/plain": [
       "(None,\n",
       " ['liugang',\n",
       "  None,\n",
       "  None,\n",
       "  None,\n",
       "  6,\n",
       "  7,\n",
       "  'liugang',\n",
       "  'liugang',\n",
       "  'liugang',\n",
       "  'liugang'],\n",
       " 4,\n",
       " 0)"
      ]
     },
     "execution_count": 47,
     "metadata": {},
     "output_type": "execute_result"
    }
   ],
   "source": [
    "aq.enqueue('liugang'),aq._data, aq._front, aq.back()"
   ]
  },
  {
   "cell_type": "code",
   "execution_count": 48,
   "metadata": {},
   "outputs": [
    {
     "data": {
      "text/plain": [
       "(None, None, None)"
      ]
     },
     "execution_count": 48,
     "metadata": {},
     "output_type": "execute_result"
    }
   ],
   "source": [
    "aq.enqueue(1),aq.enqueue(2),aq.enqueue(3)"
   ]
  },
  {
   "cell_type": "code",
   "execution_count": 49,
   "metadata": {},
   "outputs": [
    {
     "data": {
      "text/plain": [
       "(['liugang', 1, 2, 3, 6, 7, 'liugang', 'liugang', 'liugang', 'liugang'], 4, 3)"
      ]
     },
     "execution_count": 49,
     "metadata": {},
     "output_type": "execute_result"
    }
   ],
   "source": [
    "aq._data, aq._front, aq.back()"
   ]
  },
  {
   "cell_type": "code",
   "execution_count": 50,
   "metadata": {},
   "outputs": [
    {
     "data": {
      "text/plain": [
       "(None,\n",
       " [6,\n",
       "  7,\n",
       "  'liugang',\n",
       "  'liugang',\n",
       "  'liugang',\n",
       "  'liugang',\n",
       "  'liugang',\n",
       "  1,\n",
       "  2,\n",
       "  3,\n",
       "  'liugang-1',\n",
       "  None,\n",
       "  None,\n",
       "  None,\n",
       "  None,\n",
       "  None,\n",
       "  None,\n",
       "  None,\n",
       "  None,\n",
       "  None],\n",
       " 0,\n",
       " 10)"
      ]
     },
     "execution_count": 50,
     "metadata": {},
     "output_type": "execute_result"
    }
   ],
   "source": [
    "aq.enqueue('liugang-1'),aq._data, aq._front, aq.back()"
   ]
  },
  {
   "cell_type": "code",
   "execution_count": 51,
   "metadata": {},
   "outputs": [
    {
     "data": {
      "text/plain": [
       "(None,\n",
       " [6,\n",
       "  7,\n",
       "  'liugang',\n",
       "  'liugang',\n",
       "  'liugang',\n",
       "  'liugang',\n",
       "  'liugang',\n",
       "  1,\n",
       "  2,\n",
       "  3,\n",
       "  'liugang-1',\n",
       "  'liugang-1',\n",
       "  None,\n",
       "  None,\n",
       "  None,\n",
       "  None,\n",
       "  None,\n",
       "  None,\n",
       "  None,\n",
       "  None],\n",
       " 0,\n",
       " 11)"
      ]
     },
     "execution_count": 51,
     "metadata": {},
     "output_type": "execute_result"
    }
   ],
   "source": [
    "aq.enqueue('liugang-1'),aq._data, aq._front, aq.back()"
   ]
  },
  {
   "cell_type": "code",
   "execution_count": 52,
   "metadata": {},
   "outputs": [
    {
     "data": {
      "text/plain": [
       "(None,\n",
       " [6,\n",
       "  7,\n",
       "  'liugang',\n",
       "  'liugang',\n",
       "  'liugang',\n",
       "  'liugang',\n",
       "  'liugang',\n",
       "  1,\n",
       "  2,\n",
       "  3,\n",
       "  'liugang-1',\n",
       "  'liugang-1',\n",
       "  'liugang-1',\n",
       "  None,\n",
       "  None,\n",
       "  None,\n",
       "  None,\n",
       "  None,\n",
       "  None,\n",
       "  None],\n",
       " 0,\n",
       " 12)"
      ]
     },
     "execution_count": 52,
     "metadata": {},
     "output_type": "execute_result"
    }
   ],
   "source": [
    "aq.enqueue('liugang-1'),aq._data, aq._front, aq.back()"
   ]
  },
  {
   "cell_type": "code",
   "execution_count": null,
   "metadata": {},
   "outputs": [],
   "source": []
  },
  {
   "cell_type": "markdown",
   "metadata": {},
   "source": [
    "#### R-6.3"
   ]
  },
  {
   "cell_type": "code",
   "execution_count": 89,
   "metadata": {},
   "outputs": [
    {
     "data": {
      "text/plain": [
       "['c', 'a', 'b', 3, 'a', 1]"
      ]
     },
     "execution_count": 89,
     "metadata": {},
     "output_type": "execute_result"
    }
   ],
   "source": [
    "tempStrack = ArrayStack()\n",
    "\n",
    "def transfer_strack(s):\n",
    "    \"\"\"\n",
    "    :param: s ; Strack\n",
    "    \"\"\"\n",
    "    temp = []\n",
    "    for i in range(len(s)):\n",
    "#         if i:\n",
    "        temp.append(s.pop())\n",
    "        \n",
    "    for i in temp:\n",
    "        tempStrack.push(i)\n",
    "        \n",
    "    return tempStrack\n",
    "\n",
    "ss = ArrayStack()\n",
    "ss.push(1)\n",
    "ss.push('a')\n",
    "ss.push(3)\n",
    "ss.push('b')\n",
    "ss.push('a')\n",
    "ss.push('c')\n",
    "transfer_strack(ss)\n",
    "tempStrack._data"
   ]
  },
  {
   "cell_type": "code",
   "execution_count": 90,
   "metadata": {},
   "outputs": [],
   "source": [
    "if 0:\n",
    "    print('1')"
   ]
  },
  {
   "cell_type": "code",
   "execution_count": 91,
   "metadata": {},
   "outputs": [
    {
     "name": "stdout",
     "output_type": "stream",
     "text": [
      "1\n"
     ]
    }
   ],
   "source": [
    "if 1:\n",
    "    print('1')"
   ]
  },
  {
   "cell_type": "markdown",
   "metadata": {},
   "source": [
    "#### R-6.5"
   ]
  },
  {
   "cell_type": "code",
   "execution_count": 75,
   "metadata": {},
   "outputs": [
    {
     "data": {
      "text/plain": [
       "['g', 'n', 'a', 'g', 'u', 'i', 'l']"
      ]
     },
     "execution_count": 75,
     "metadata": {},
     "output_type": "execute_result"
    }
   ],
   "source": [
    "def strack_reverse(objlist):\n",
    "    s = ArrayStack()\n",
    "    temp = []\n",
    "    for i in objlist:\n",
    "        s.push(i)\n",
    "        \n",
    "    for i in objlist:\n",
    "        temp.append(s.pop())\n",
    "        \n",
    "    return temp\n",
    "\n",
    "objlist = list('liugang')\n",
    "strack_reverse(objlist)"
   ]
  },
  {
   "cell_type": "code",
   "execution_count": 76,
   "metadata": {},
   "outputs": [
    {
     "data": {
      "text/plain": [
       "['h', 'g', 'f', 'e', 'd', 'c', 'b', 'a']"
      ]
     },
     "execution_count": 76,
     "metadata": {},
     "output_type": "execute_result"
    }
   ],
   "source": [
    "strack_reverse(list('abcdefgh'))"
   ]
  },
  {
   "cell_type": "markdown",
   "metadata": {},
   "source": [
    "R-6.9"
   ]
  },
  {
   "cell_type": "code",
   "execution_count": 8,
   "metadata": {},
   "outputs": [],
   "source": [
    "class ArrayQueue:\n",
    "    DEFAULT_CAPACITY = 30\n",
    "    \n",
    "    def __init__(self):\n",
    "        self._data = [None] * ArrayQueue.DEFAULT_CAPACITY  # 指一个固定容量的列表实例\n",
    "        self._size = 0  # 是一个整数，代表当前储存在队列内的元素的数量，与_data列表的长度正好相对\n",
    "        self._front = 0  # 是一个整数，代表_data实例队列中的第一个元素的索引，假设这个队列不为空\n",
    "        \n",
    "    def __len__(self):\n",
    "        return self._size\n",
    "    \n",
    "    def is_empty(self):\n",
    "        return self._size == 0\n",
    "    \n",
    "    def first(self):\n",
    "        \"\"\"Return (but do not remove) the element at the front of the queue.\"\"\"\n",
    "        \n",
    "        if self.is_empty():\n",
    "            raise Empty('Queue is empty.')\n",
    "        return self._data[self._front]\n",
    "    \n",
    "    def front(self):\n",
    "        if self.is_empty():\n",
    "            raise Empty('Queue is empty')\n",
    "        return self._front\n",
    "    \n",
    "    def dequeue(self):\n",
    "        \"\"\"Remove and return the first element of the queue\n",
    "        \n",
    "        Raise Empty exception if the queue is empty.\"\"\"\n",
    "        if self.is_empty():\n",
    "            raise Empty('Queue is empty.')        \n",
    "        answer = self._data[self._front]\n",
    "        self._data[self._front] = None\n",
    "        self._front = (self._front + 1) % len(self._data)\n",
    "        self._size -= 1\n",
    "        return answer\n",
    "    \n",
    "    def enqueue(self, e):\n",
    "        \"\"\"Add an element to the back of queue.\"\"\"\n",
    "        if self._size > len(self._data):\n",
    "            print(self._front)\n",
    "            raise Empty('Queue is full.')\n",
    "        avail = (self._front + self._size) % len(self._data)\n",
    "        self._data[avail] = e\n",
    "        self._size += 1"
   ]
  },
  {
   "cell_type": "code",
   "execution_count": 9,
   "metadata": {},
   "outputs": [],
   "source": [
    "aq = ArrayQueue()"
   ]
  },
  {
   "cell_type": "code",
   "execution_count": 42,
   "metadata": {},
   "outputs": [
    {
     "name": "stdout",
     "output_type": "stream",
     "text": [
      "0\n"
     ]
    },
    {
     "ename": "Empty",
     "evalue": "Queue is full.",
     "output_type": "error",
     "traceback": [
      "\u001b[1;31m---------------------------------------------------------------------------\u001b[0m",
      "\u001b[1;31mEmpty\u001b[0m                                     Traceback (most recent call last)",
      "\u001b[1;32m<ipython-input-42-f10a9491048d>\u001b[0m in \u001b[0;36m<module>\u001b[1;34m\u001b[0m\n\u001b[1;32m----> 1\u001b[1;33m \u001b[0maq\u001b[0m\u001b[1;33m.\u001b[0m\u001b[0menqueue\u001b[0m\u001b[1;33m(\u001b[0m\u001b[1;36m1\u001b[0m\u001b[1;33m)\u001b[0m\u001b[1;33m\u001b[0m\u001b[1;33m\u001b[0m\u001b[0m\n\u001b[0m",
      "\u001b[1;32m<ipython-input-8-e19660be176c>\u001b[0m in \u001b[0;36menqueue\u001b[1;34m(self, e)\u001b[0m\n\u001b[0;32m     41\u001b[0m         \u001b[1;32mif\u001b[0m \u001b[0mself\u001b[0m\u001b[1;33m.\u001b[0m\u001b[0m_size\u001b[0m \u001b[1;33m>\u001b[0m \u001b[0mlen\u001b[0m\u001b[1;33m(\u001b[0m\u001b[0mself\u001b[0m\u001b[1;33m.\u001b[0m\u001b[0m_data\u001b[0m\u001b[1;33m)\u001b[0m\u001b[1;33m:\u001b[0m\u001b[1;33m\u001b[0m\u001b[1;33m\u001b[0m\u001b[0m\n\u001b[0;32m     42\u001b[0m             \u001b[0mprint\u001b[0m\u001b[1;33m(\u001b[0m\u001b[0mself\u001b[0m\u001b[1;33m.\u001b[0m\u001b[0m_front\u001b[0m\u001b[1;33m)\u001b[0m\u001b[1;33m\u001b[0m\u001b[1;33m\u001b[0m\u001b[0m\n\u001b[1;32m---> 43\u001b[1;33m             \u001b[1;32mraise\u001b[0m \u001b[0mEmpty\u001b[0m\u001b[1;33m(\u001b[0m\u001b[1;34m'Queue is full.'\u001b[0m\u001b[1;33m)\u001b[0m\u001b[1;33m\u001b[0m\u001b[1;33m\u001b[0m\u001b[0m\n\u001b[0m\u001b[0;32m     44\u001b[0m         \u001b[0mavail\u001b[0m \u001b[1;33m=\u001b[0m \u001b[1;33m(\u001b[0m\u001b[0mself\u001b[0m\u001b[1;33m.\u001b[0m\u001b[0m_front\u001b[0m \u001b[1;33m+\u001b[0m \u001b[0mself\u001b[0m\u001b[1;33m.\u001b[0m\u001b[0m_size\u001b[0m\u001b[1;33m)\u001b[0m \u001b[1;33m%\u001b[0m \u001b[0mlen\u001b[0m\u001b[1;33m(\u001b[0m\u001b[0mself\u001b[0m\u001b[1;33m.\u001b[0m\u001b[0m_data\u001b[0m\u001b[1;33m)\u001b[0m\u001b[1;33m\u001b[0m\u001b[1;33m\u001b[0m\u001b[0m\n\u001b[0;32m     45\u001b[0m         \u001b[0mself\u001b[0m\u001b[1;33m.\u001b[0m\u001b[0m_data\u001b[0m\u001b[1;33m[\u001b[0m\u001b[0mavail\u001b[0m\u001b[1;33m]\u001b[0m \u001b[1;33m=\u001b[0m \u001b[0me\u001b[0m\u001b[1;33m\u001b[0m\u001b[1;33m\u001b[0m\u001b[0m\n",
      "\u001b[1;31mEmpty\u001b[0m: Queue is full."
     ]
    }
   ],
   "source": [
    "aq.enqueue(1)"
   ]
  },
  {
   "cell_type": "markdown",
   "metadata": {},
   "source": [
    "R-6.10"
   ]
  },
  {
   "cell_type": "code",
   "execution_count": 148,
   "metadata": {},
   "outputs": [],
   "source": [
    "class ArrayQueue:\n",
    "    DEFAULT_CAPACITY = 10\n",
    "    \n",
    "    def __init__(self):\n",
    "        self._data = [None] * ArrayQueue.DEFAULT_CAPACITY  # 指一个固定容量的列表实例\n",
    "        self._size = 0  # 是一个整数，代表当前储存在队列内的元素的数量，与_data列表的长度正好相对\n",
    "        self._front = 0  # 是一个整数，代表_data实例队列中的第一个元素的索引，假设这个队列不为空\n",
    "        \n",
    "    def __len__(self):\n",
    "        return self._size\n",
    "    \n",
    "    def is_empty(self):\n",
    "        return self._size == 0\n",
    "    \n",
    "    def first(self):\n",
    "        \"\"\"Return (but do not remove) the element at the front of the queue.\"\"\"\n",
    "        \n",
    "        if self.is_empty():\n",
    "            raise Empty('Queue is empty.')\n",
    "        return self._data[self._front]\n",
    "    \n",
    "    def front(self):\n",
    "        if self.is_empty():\n",
    "            raise Empty('Queue is empty')\n",
    "        return self._front\n",
    "    \n",
    "    def dequeue(self):\n",
    "        \"\"\"Remove and return the first element of the queue\n",
    "        \n",
    "        Raise Empty exception if the queue is empty.\"\"\"\n",
    "        if self.is_empty():\n",
    "            raise Empty('Queue is empty.')        \n",
    "        answer = self._data[self._front]\n",
    "        self._data[self._front] = None\n",
    "        self._front = (self._front + 1) % len(self._data)\n",
    "        self._size -= 1\n",
    "        return answer\n",
    "    \n",
    "    def enqueue(self, e):\n",
    "        \"\"\"Add an element to the back of queue.\"\"\"\n",
    "        if self._size == len(self._data):\n",
    "            self._resize(2 * len(self._data))\n",
    "        avail = (self._front + self._size) % len(self._data)\n",
    "        self._data[avail] = e\n",
    "        self._size += 1\n",
    "        \n",
    "    def _resize(self, cap):\n",
    "        \"\"\"Resize to a new list of capacity >= len(self)\"\"\"\n",
    "        old = self._data\n",
    "        self._data = [None] * cap\n",
    "        walk = self._front\n",
    "        for k in range(self._size):\n",
    "            self._data[k] = old[k]\n",
    "#             walk = (1 + walk) % len(old)\n",
    "        self._front =0"
   ]
  },
  {
   "cell_type": "code",
   "execution_count": 149,
   "metadata": {},
   "outputs": [],
   "source": [
    "aq = ArrayQueue()"
   ]
  },
  {
   "cell_type": "code",
   "execution_count": 150,
   "metadata": {},
   "outputs": [
    {
     "data": {
      "text/plain": [
       "(None, None, None, None, None, None)"
      ]
     },
     "execution_count": 150,
     "metadata": {},
     "output_type": "execute_result"
    }
   ],
   "source": [
    "aq.enqueue(1),aq.enqueue(2),aq.enqueue(3),aq.enqueue(4),aq.enqueue(6),aq.enqueue(7),"
   ]
  },
  {
   "cell_type": "code",
   "execution_count": 151,
   "metadata": {},
   "outputs": [
    {
     "data": {
      "text/plain": [
       "[1, 2, 3, 4, 6, 7, None, None, None, None]"
      ]
     },
     "execution_count": 151,
     "metadata": {},
     "output_type": "execute_result"
    }
   ],
   "source": [
    "aq._data"
   ]
  },
  {
   "cell_type": "code",
   "execution_count": 152,
   "metadata": {},
   "outputs": [
    {
     "data": {
      "text/plain": [
       "(1, 2, 3, 4)"
      ]
     },
     "execution_count": 152,
     "metadata": {},
     "output_type": "execute_result"
    }
   ],
   "source": [
    "aq.dequeue(),aq.dequeue(),aq.dequeue(),aq.dequeue(),"
   ]
  },
  {
   "cell_type": "code",
   "execution_count": 153,
   "metadata": {},
   "outputs": [
    {
     "data": {
      "text/plain": [
       "[None, None, None, None, 6, 7, None, None, None, None]"
      ]
     },
     "execution_count": 153,
     "metadata": {},
     "output_type": "execute_result"
    }
   ],
   "source": [
    "aq._data"
   ]
  },
  {
   "cell_type": "code",
   "execution_count": 154,
   "metadata": {},
   "outputs": [
    {
     "data": {
      "text/plain": [
       "(None, None, None)"
      ]
     },
     "execution_count": 154,
     "metadata": {},
     "output_type": "execute_result"
    }
   ],
   "source": [
    "aq.enqueue(8),aq.enqueue(9),aq.enqueue(10),"
   ]
  },
  {
   "cell_type": "code",
   "execution_count": 155,
   "metadata": {},
   "outputs": [
    {
     "data": {
      "text/plain": [
       "[None, None, None, None, 6, 7, 8, 9, 10, None]"
      ]
     },
     "execution_count": 155,
     "metadata": {},
     "output_type": "execute_result"
    }
   ],
   "source": [
    "aq._data"
   ]
  },
  {
   "cell_type": "code",
   "execution_count": 156,
   "metadata": {},
   "outputs": [
    {
     "data": {
      "text/plain": [
       "(None, None, None, None, None, None)"
      ]
     },
     "execution_count": 156,
     "metadata": {},
     "output_type": "execute_result"
    }
   ],
   "source": [
    "aq.enqueue(1),aq.enqueue(2),aq.enqueue(3),aq.enqueue(4),aq.enqueue(5),aq.enqueue(11)"
   ]
  },
  {
   "cell_type": "code",
   "execution_count": 157,
   "metadata": {},
   "outputs": [
    {
     "data": {
      "text/plain": [
       "[2,\n",
       " 3,\n",
       " 4,\n",
       " 5,\n",
       " 6,\n",
       " 7,\n",
       " 8,\n",
       " 9,\n",
       " 10,\n",
       " 1,\n",
       " 11,\n",
       " None,\n",
       " None,\n",
       " None,\n",
       " None,\n",
       " None,\n",
       " None,\n",
       " None,\n",
       " None,\n",
       " None]"
      ]
     },
     "execution_count": 157,
     "metadata": {},
     "output_type": "execute_result"
    }
   ],
   "source": [
    "aq._data"
   ]
  },
  {
   "cell_type": "markdown",
   "metadata": {},
   "source": [
    "#### R-6.13"
   ]
  },
  {
   "cell_type": "code",
   "execution_count": 191,
   "metadata": {},
   "outputs": [],
   "source": [
    "from collections import deque\n",
    "\n",
    "r13 = deque()"
   ]
  },
  {
   "cell_type": "code",
   "execution_count": 192,
   "metadata": {},
   "outputs": [
    {
     "data": {
      "text/plain": [
       "(None, None, None, None, None, None, None, None)"
      ]
     },
     "execution_count": 192,
     "metadata": {},
     "output_type": "execute_result"
    }
   ],
   "source": [
    "r13.appendleft(1),r13.appendleft(2),r13.appendleft(3),r13.appendleft(4),r13.appendleft(5),r13.appendleft(6),r13.appendleft(7),r13.appendleft(8),"
   ]
  },
  {
   "cell_type": "code",
   "execution_count": 203,
   "metadata": {},
   "outputs": [],
   "source": [
    "r13.rotate(2)"
   ]
  },
  {
   "cell_type": "code",
   "execution_count": 196,
   "metadata": {},
   "outputs": [],
   "source": [
    "r13.reverse()"
   ]
  },
  {
   "cell_type": "code",
   "execution_count": 204,
   "metadata": {},
   "outputs": [
    {
     "data": {
      "text/plain": [
       "deque([7, 8, 1, 2, 3, 4, 5, 6])"
      ]
     },
     "execution_count": 204,
     "metadata": {},
     "output_type": "execute_result"
    }
   ],
   "source": [
    "r13"
   ]
  },
  {
   "cell_type": "code",
   "execution_count": 198,
   "metadata": {},
   "outputs": [
    {
     "name": "stdout",
     "output_type": "stream",
     "text": [
      "1\n",
      "2\n",
      "3\n",
      "4\n",
      "5\n",
      "6\n",
      "7\n",
      "8\n"
     ]
    }
   ],
   "source": [
    "for i in range(len(r13)):\n",
    "    print(r13[i])"
   ]
  },
  {
   "cell_type": "code",
   "execution_count": 199,
   "metadata": {},
   "outputs": [],
   "source": [
    "q = ArrayQueue()\n",
    "\n",
    "def r613(d):\n",
    "    for i in range(len(d)):\n",
    "        q.enqueue(d[i])\n",
    "    return q"
   ]
  },
  {
   "cell_type": "code",
   "execution_count": 200,
   "metadata": {},
   "outputs": [
    {
     "data": {
      "text/plain": [
       "<__main__.ArrayQueue at 0x1ae3babbef0>"
      ]
     },
     "execution_count": 200,
     "metadata": {},
     "output_type": "execute_result"
    }
   ],
   "source": [
    "r613(r13)"
   ]
  },
  {
   "cell_type": "code",
   "execution_count": 201,
   "metadata": {},
   "outputs": [
    {
     "data": {
      "text/plain": [
       "[1, 2, 3, 4, 5, 6, 7, 8, None, None]"
      ]
     },
     "execution_count": 201,
     "metadata": {},
     "output_type": "execute_result"
    }
   ],
   "source": [
    "q._data"
   ]
  },
  {
   "cell_type": "markdown",
   "metadata": {},
   "source": [
    "#### C-6.16"
   ]
  },
  {
   "cell_type": "code",
   "execution_count": 226,
   "metadata": {},
   "outputs": [
    {
     "ename": "Full",
     "evalue": "Stack is full.",
     "output_type": "error",
     "traceback": [
      "\u001b[1;31m---------------------------------------------------------------------------\u001b[0m",
      "\u001b[1;31mFull\u001b[0m                                      Traceback (most recent call last)",
      "\u001b[1;32m<ipython-input-226-c1e702bb895f>\u001b[0m in \u001b[0;36m<module>\u001b[1;34m\u001b[0m\n\u001b[0;32m     35\u001b[0m     \u001b[0mas616\u001b[0m \u001b[1;33m=\u001b[0m \u001b[0mArrayStack\u001b[0m\u001b[1;33m(\u001b[0m\u001b[0mmaxlen\u001b[0m\u001b[1;33m=\u001b[0m\u001b[1;36m10\u001b[0m\u001b[1;33m)\u001b[0m  \u001b[1;31m# 无效语法？ as 保留词\u001b[0m\u001b[1;33m\u001b[0m\u001b[1;33m\u001b[0m\u001b[0m\n\u001b[0;32m     36\u001b[0m     \u001b[1;32mfor\u001b[0m \u001b[0mi\u001b[0m \u001b[1;32min\u001b[0m \u001b[0mrange\u001b[0m\u001b[1;33m(\u001b[0m\u001b[1;36m12\u001b[0m\u001b[1;33m)\u001b[0m\u001b[1;33m:\u001b[0m\u001b[1;33m\u001b[0m\u001b[1;33m\u001b[0m\u001b[0m\n\u001b[1;32m---> 37\u001b[1;33m         \u001b[0mas616\u001b[0m\u001b[1;33m.\u001b[0m\u001b[0mpush\u001b[0m\u001b[1;33m(\u001b[0m\u001b[0mi\u001b[0m\u001b[1;33m)\u001b[0m\u001b[1;33m\u001b[0m\u001b[1;33m\u001b[0m\u001b[0m\n\u001b[0m",
      "\u001b[1;32m<ipython-input-226-c1e702bb895f>\u001b[0m in \u001b[0;36mpush\u001b[1;34m(self, e)\u001b[0m\n\u001b[0;32m     19\u001b[0m     \u001b[1;32mdef\u001b[0m \u001b[0mpush\u001b[0m\u001b[1;33m(\u001b[0m\u001b[0mself\u001b[0m\u001b[1;33m,\u001b[0m \u001b[0me\u001b[0m\u001b[1;33m)\u001b[0m\u001b[1;33m:\u001b[0m\u001b[1;33m\u001b[0m\u001b[1;33m\u001b[0m\u001b[0m\n\u001b[0;32m     20\u001b[0m         \u001b[1;32mif\u001b[0m \u001b[0mlen\u001b[0m\u001b[1;33m(\u001b[0m\u001b[0mself\u001b[0m\u001b[1;33m.\u001b[0m\u001b[0m_data\u001b[0m\u001b[1;33m)\u001b[0m \u001b[1;33m==\u001b[0m \u001b[0mself\u001b[0m\u001b[1;33m.\u001b[0m\u001b[0m_maxlen\u001b[0m\u001b[1;33m:\u001b[0m\u001b[1;33m\u001b[0m\u001b[1;33m\u001b[0m\u001b[0m\n\u001b[1;32m---> 21\u001b[1;33m             \u001b[1;32mraise\u001b[0m \u001b[0mFull\u001b[0m\u001b[1;33m(\u001b[0m\u001b[1;34m'Stack is full.'\u001b[0m\u001b[1;33m)\u001b[0m\u001b[1;33m\u001b[0m\u001b[1;33m\u001b[0m\u001b[0m\n\u001b[0m\u001b[0;32m     22\u001b[0m         \u001b[0mself\u001b[0m\u001b[1;33m.\u001b[0m\u001b[0m_data\u001b[0m\u001b[1;33m.\u001b[0m\u001b[0mappend\u001b[0m\u001b[1;33m(\u001b[0m\u001b[0me\u001b[0m\u001b[1;33m)\u001b[0m\u001b[1;33m\u001b[0m\u001b[1;33m\u001b[0m\u001b[0m\n\u001b[0;32m     23\u001b[0m \u001b[1;33m\u001b[0m\u001b[0m\n",
      "\u001b[1;31mFull\u001b[0m: Stack is full."
     ]
    }
   ],
   "source": [
    "class Full(Exception):\n",
    "    \"\"\"Error attempting to access an element from an empty container.\"\"\"\n",
    "    pass\n",
    "\n",
    "class ArrayStack:\n",
    "    \"\"\"LIFO Stack implementation using a Python list as underlying storage.\"\"\"\n",
    "    \n",
    "    def __init__(self, maxlen=None):\n",
    "        \"\"\"Create an empty stack.\"\"\"\n",
    "        self._data = []\n",
    "        self._maxlen = maxlen\n",
    "        \n",
    "    def __len__(self):\n",
    "        return len(self._data)\n",
    "    \n",
    "    def is_empty(self):\n",
    "        return len(self._data) == 0\n",
    "    \n",
    "    def push(self, e):\n",
    "        if len(self._data) == self._maxlen:\n",
    "            raise Full('Stack is full.')\n",
    "        self._data.append(e)\n",
    "        \n",
    "    def top(self):\n",
    "        if self.is_empty():\n",
    "            raise Empty('Stack is empty.')\n",
    "        return self._data[-1]\n",
    "    \n",
    "    def pop(self):\n",
    "        if self.is_empty():\n",
    "            raise Empty('Stack is empty.')\n",
    "        return self._data.pop()\n",
    "    \n",
    "if __name__ == '__main__':\n",
    "    as616 = ArrayStack(maxlen=10)  # 无效语法？ as 保留词\n",
    "    for i in range(12):\n",
    "        as616.push(i)"
   ]
  },
  {
   "cell_type": "code",
   "execution_count": 223,
   "metadata": {},
   "outputs": [],
   "source": []
  },
  {
   "cell_type": "code",
   "execution_count": null,
   "metadata": {},
   "outputs": [],
   "source": []
  },
  {
   "cell_type": "code",
   "execution_count": null,
   "metadata": {},
   "outputs": [],
   "source": []
  },
  {
   "cell_type": "code",
   "execution_count": null,
   "metadata": {},
   "outputs": [],
   "source": []
  },
  {
   "cell_type": "markdown",
   "metadata": {},
   "source": [
    "#### C-6.17"
   ]
  },
  {
   "cell_type": "code",
   "execution_count": 53,
   "metadata": {},
   "outputs": [],
   "source": [
    "class MaxArrayStrack(ArrayStack):\n",
    "    \n",
    "    def __init__(self, maxlen):\n",
    "        self._data = [None] * maxlen\n",
    "        self._num = 0 # 当前栈中元素的个数\n",
    "        self._maxlen = maxlen\n",
    "        \n",
    "    def get_strack_max_len(self):\n",
    "        return self._maxlen\n",
    "    \n",
    "#     def get_list_len(self):\n",
    "#         return len(self._data)\n",
    "    \n",
    "    def get_strack_nums(self):\n",
    "        return self._maxlen - self._data.count(None)\n",
    "        \n",
    "    def is_empty(self):\n",
    "        return self.get_strack_nums() == 0\n",
    "    \n",
    "    def push(self, e):\n",
    "        if self._num == self._maxlen:\n",
    "            raise Empty('Stack is full.')\n",
    "        else:\n",
    "            self._data[self._num] = e\n",
    "            self._num += 1\n",
    "        \n",
    "    def top(self):\n",
    "        if self.is_empty():\n",
    "            raise Empty('Stack is empty.')\n",
    "        return self._data[self._num - 1]\n",
    "    \n",
    "    def pop(self):\n",
    "        if self.is_empty():\n",
    "            raise Empty('Stack is empty.')\n",
    "        else:\n",
    "            popnum = self._data[self._num - 1]\n",
    "            self._data.pop(self._num - 1)\n",
    "            self._data.insert(self._num, None)\n",
    "            self._num -= 1\n",
    "        return popnum\n",
    "\n",
    "mas = MaxArrayStrack(6)\n",
    "mas.push(1)\n",
    "mas.push('a')\n",
    "mas.push(3)\n",
    "mas.push('b')\n",
    "mas.push('a')\n",
    "mas.push('c')"
   ]
  },
  {
   "cell_type": "code",
   "execution_count": 54,
   "metadata": {},
   "outputs": [
    {
     "data": {
      "text/plain": [
       "'c'"
      ]
     },
     "execution_count": 54,
     "metadata": {},
     "output_type": "execute_result"
    }
   ],
   "source": [
    "mas.top()"
   ]
  },
  {
   "cell_type": "code",
   "execution_count": 55,
   "metadata": {},
   "outputs": [
    {
     "data": {
      "text/plain": [
       "'c'"
      ]
     },
     "execution_count": 55,
     "metadata": {},
     "output_type": "execute_result"
    }
   ],
   "source": [
    "mas.pop()"
   ]
  },
  {
   "cell_type": "code",
   "execution_count": 56,
   "metadata": {},
   "outputs": [
    {
     "data": {
      "text/plain": [
       "[1, 'a', 3, 'b', 'a', None]"
      ]
     },
     "execution_count": 56,
     "metadata": {},
     "output_type": "execute_result"
    }
   ],
   "source": [
    "mas._data"
   ]
  },
  {
   "cell_type": "code",
   "execution_count": 57,
   "metadata": {},
   "outputs": [
    {
     "data": {
      "text/plain": [
       "6"
      ]
     },
     "execution_count": 57,
     "metadata": {},
     "output_type": "execute_result"
    }
   ],
   "source": [
    "mas.get_strack_max_len()"
   ]
  },
  {
   "cell_type": "code",
   "execution_count": 58,
   "metadata": {},
   "outputs": [
    {
     "data": {
      "text/plain": [
       "5"
      ]
     },
     "execution_count": 58,
     "metadata": {},
     "output_type": "execute_result"
    }
   ],
   "source": [
    "mas.get_strack_nums()"
   ]
  },
  {
   "cell_type": "code",
   "execution_count": 59,
   "metadata": {},
   "outputs": [
    {
     "data": {
      "text/plain": [
       "'a'"
      ]
     },
     "execution_count": 59,
     "metadata": {},
     "output_type": "execute_result"
    }
   ],
   "source": [
    "mas.pop()"
   ]
  },
  {
   "cell_type": "code",
   "execution_count": 60,
   "metadata": {},
   "outputs": [
    {
     "data": {
      "text/plain": [
       "[1, 'a', 3, 'b', None, None]"
      ]
     },
     "execution_count": 60,
     "metadata": {},
     "output_type": "execute_result"
    }
   ],
   "source": [
    "mas._data"
   ]
  },
  {
   "cell_type": "code",
   "execution_count": 61,
   "metadata": {},
   "outputs": [
    {
     "data": {
      "text/plain": [
       "4"
      ]
     },
     "execution_count": 61,
     "metadata": {},
     "output_type": "execute_result"
    }
   ],
   "source": [
    "mas.get_strack_nums()"
   ]
  },
  {
   "cell_type": "code",
   "execution_count": 62,
   "metadata": {},
   "outputs": [
    {
     "data": {
      "text/plain": [
       "'b'"
      ]
     },
     "execution_count": 62,
     "metadata": {},
     "output_type": "execute_result"
    }
   ],
   "source": [
    "mas.pop()"
   ]
  },
  {
   "cell_type": "code",
   "execution_count": 63,
   "metadata": {},
   "outputs": [
    {
     "data": {
      "text/plain": [
       "[1, 'a', 3, None, None, None]"
      ]
     },
     "execution_count": 63,
     "metadata": {},
     "output_type": "execute_result"
    }
   ],
   "source": [
    "mas._data"
   ]
  },
  {
   "cell_type": "code",
   "execution_count": 64,
   "metadata": {},
   "outputs": [],
   "source": [
    "mas.push('liugang')"
   ]
  },
  {
   "cell_type": "code",
   "execution_count": 65,
   "metadata": {},
   "outputs": [
    {
     "data": {
      "text/plain": [
       "[1, 'a', 3, 'liugang', None, None]"
      ]
     },
     "execution_count": 65,
     "metadata": {},
     "output_type": "execute_result"
    }
   ],
   "source": [
    "mas._data"
   ]
  },
  {
   "cell_type": "code",
   "execution_count": 66,
   "metadata": {},
   "outputs": [
    {
     "data": {
      "text/plain": [
       "'liugang'"
      ]
     },
     "execution_count": 66,
     "metadata": {},
     "output_type": "execute_result"
    }
   ],
   "source": [
    "mas.pop()"
   ]
  },
  {
   "cell_type": "code",
   "execution_count": 67,
   "metadata": {},
   "outputs": [
    {
     "data": {
      "text/plain": [
       "[1, 'a', 3, None, None, None]"
      ]
     },
     "execution_count": 67,
     "metadata": {},
     "output_type": "execute_result"
    }
   ],
   "source": [
    "mas._data"
   ]
  },
  {
   "cell_type": "code",
   "execution_count": 68,
   "metadata": {},
   "outputs": [],
   "source": [
    "mas.push('b')\n",
    "mas.push('a')\n",
    "mas.push('c')"
   ]
  },
  {
   "cell_type": "code",
   "execution_count": 69,
   "metadata": {},
   "outputs": [
    {
     "ename": "Empty",
     "evalue": "Stack is full.",
     "output_type": "error",
     "traceback": [
      "\u001b[1;31m---------------------------------------------------------------------------\u001b[0m",
      "\u001b[1;31mEmpty\u001b[0m                                     Traceback (most recent call last)",
      "\u001b[1;32m<ipython-input-69-965cbebb7517>\u001b[0m in \u001b[0;36m<module>\u001b[1;34m\u001b[0m\n\u001b[1;32m----> 1\u001b[1;33m \u001b[0mmas\u001b[0m\u001b[1;33m.\u001b[0m\u001b[0mpush\u001b[0m\u001b[1;33m(\u001b[0m\u001b[1;34m'liugang'\u001b[0m\u001b[1;33m)\u001b[0m\u001b[1;33m\u001b[0m\u001b[1;33m\u001b[0m\u001b[0m\n\u001b[0m",
      "\u001b[1;32m<ipython-input-53-8c66faddf9c5>\u001b[0m in \u001b[0;36mpush\u001b[1;34m(self, e)\u001b[0m\n\u001b[0;32m     20\u001b[0m     \u001b[1;32mdef\u001b[0m \u001b[0mpush\u001b[0m\u001b[1;33m(\u001b[0m\u001b[0mself\u001b[0m\u001b[1;33m,\u001b[0m \u001b[0me\u001b[0m\u001b[1;33m)\u001b[0m\u001b[1;33m:\u001b[0m\u001b[1;33m\u001b[0m\u001b[1;33m\u001b[0m\u001b[0m\n\u001b[0;32m     21\u001b[0m         \u001b[1;32mif\u001b[0m \u001b[0mself\u001b[0m\u001b[1;33m.\u001b[0m\u001b[0m_num\u001b[0m \u001b[1;33m==\u001b[0m \u001b[0mself\u001b[0m\u001b[1;33m.\u001b[0m\u001b[0m_maxlen\u001b[0m\u001b[1;33m:\u001b[0m\u001b[1;33m\u001b[0m\u001b[1;33m\u001b[0m\u001b[0m\n\u001b[1;32m---> 22\u001b[1;33m             \u001b[1;32mraise\u001b[0m \u001b[0mEmpty\u001b[0m\u001b[1;33m(\u001b[0m\u001b[1;34m'Stack is full.'\u001b[0m\u001b[1;33m)\u001b[0m\u001b[1;33m\u001b[0m\u001b[1;33m\u001b[0m\u001b[0m\n\u001b[0m\u001b[0;32m     23\u001b[0m         \u001b[1;32melse\u001b[0m\u001b[1;33m:\u001b[0m\u001b[1;33m\u001b[0m\u001b[1;33m\u001b[0m\u001b[0m\n\u001b[0;32m     24\u001b[0m             \u001b[0mself\u001b[0m\u001b[1;33m.\u001b[0m\u001b[0m_data\u001b[0m\u001b[1;33m[\u001b[0m\u001b[0mself\u001b[0m\u001b[1;33m.\u001b[0m\u001b[0m_num\u001b[0m\u001b[1;33m]\u001b[0m \u001b[1;33m=\u001b[0m \u001b[0me\u001b[0m\u001b[1;33m\u001b[0m\u001b[1;33m\u001b[0m\u001b[0m\n",
      "\u001b[1;31mEmpty\u001b[0m: Stack is full."
     ]
    }
   ],
   "source": [
    "mas.push('liugang')"
   ]
  },
  {
   "cell_type": "markdown",
   "metadata": {},
   "source": [
    "#### C-6.18"
   ]
  },
  {
   "cell_type": "markdown",
   "metadata": {},
   "source": [
    "....................."
   ]
  },
  {
   "cell_type": "markdown",
   "metadata": {},
   "source": [
    "#### C-6.18"
   ]
  },
  {
   "cell_type": "code",
   "execution_count": 247,
   "metadata": {},
   "outputs": [
    {
     "data": {
      "text/plain": [
       "True"
      ]
     },
     "execution_count": 247,
     "metadata": {},
     "output_type": "execute_result"
    }
   ],
   "source": [
    "import re\n",
    "\n",
    "def is_matched_html(raw_):\n",
    "    \"\"\"Return True if all HTML tags are properly match.False otherwise.\"\"\"\n",
    "    pat = re.compile(r'\\s+.*?=\".*?\"')\n",
    "    raw = re.sub(pat, '', raw_)  # error 上面多了一个括号\n",
    "    \n",
    "    s = ArrayStack()\n",
    "    j = raw.find('<')  # type(raw)->str; type(j)->int index output 0\n",
    "    while j != -1: # j=0, 8, 12, 23\n",
    "        k =raw.find('>', j + 1) # 7 11 18 27\n",
    "        if k == -1:\n",
    "            return \"不存在匹配的字符串\"\n",
    "        tag = raw[j +1: k] # center\n",
    "        if not tag.startswith('/'):\n",
    "            s.push(tag) # s = [center, h1, Little, /h1]\n",
    "        else:\n",
    "            if s.is_empty():\n",
    "                return False\n",
    "            if tag[1: ] != s.pop(): # h1 == h1 \n",
    "                return False\n",
    "        j = raw.find('<', k + 1)\n",
    "    return s.is_empty()\n",
    "\n",
    "is_matched_html('<table border=\"3\" cellpadding=\"5\"><h1 size=\"5\">Little</h1></table>')"
   ]
  },
  {
   "cell_type": "code",
   "execution_count": 240,
   "metadata": {},
   "outputs": [
    {
     "data": {
      "text/plain": [
       "True"
      ]
     },
     "execution_count": 240,
     "metadata": {},
     "output_type": "execute_result"
    }
   ],
   "source": [
    "is_matched_html('<center><h1>Little</h1></center>')"
   ]
  },
  {
   "cell_type": "code",
   "execution_count": 229,
   "metadata": {},
   "outputs": [],
   "source": [
    "raw = '<table border=\"3\" cellpadding=\"5\"><h1 size=\"5\">Little</h1></center>'"
   ]
  },
  {
   "cell_type": "code",
   "execution_count": 235,
   "metadata": {},
   "outputs": [],
   "source": [
    "import re\n",
    "\n",
    "pat = re.compile(r'\\s+.*?=\".*?\"')\n",
    "\n",
    "temp = re.sub(pat, '', raw)"
   ]
  },
  {
   "cell_type": "code",
   "execution_count": 241,
   "metadata": {},
   "outputs": [
    {
     "data": {
      "text/plain": [
       "False"
      ]
     },
     "execution_count": 241,
     "metadata": {},
     "output_type": "execute_result"
    }
   ],
   "source": [
    "is_matched_html(temp)"
   ]
  },
  {
   "cell_type": "code",
   "execution_count": 249,
   "metadata": {},
   "outputs": [
    {
     "data": {
      "text/plain": [
       "'<table><h1>Little</h1></center>'"
      ]
     },
     "execution_count": 249,
     "metadata": {},
     "output_type": "execute_result"
    }
   ],
   "source": [
    "temp"
   ]
  },
  {
   "cell_type": "markdown",
   "metadata": {},
   "source": [
    "#### C-6.22"
   ]
  },
  {
   "cell_type": "code",
   "execution_count": 310,
   "metadata": {},
   "outputs": [
    {
     "name": "stdout",
     "output_type": "stream",
     "text": [
      "52+83-*4/\n"
     ]
    }
   ],
   "source": [
    "#n = '((5+2)*(8-3))/4'\n",
    "n = '((5+3)*(2-1)/(4+8))*4'\n",
    "#n= '(5+2)*11'\n",
    "\n",
    "def middle2behind(expression):  \n",
    "    result = []             # 结果列表\n",
    "    stack = []              # 栈\n",
    "    for item in expression: \n",
    "        if item.isnumeric():                        # 如果当前字符为数字那么直接放入结果列表\n",
    "            result.append(item) \n",
    "        else:                                       # 如果当前字符为一切其他操作符\n",
    "            if len(stack) == 0:                     # 如果栈空，直接入栈\n",
    "                stack.append(item)\n",
    "            elif item in '*/(':                     # 如果当前字符为*/（，直接入栈\n",
    "                stack.append(item)\n",
    "            elif item == ')':                       # 如果右括号则全部弹出（碰到左括号停止）\n",
    "                t = stack.pop()\n",
    "                while t != '(':   \n",
    "                    result.append(t)\n",
    "                    t = stack.pop()\n",
    "            # 一直没看懂 stack[len(stack) - 1] in '*/' 为什么加这个判断\n",
    "            elif item in '+-' and stack[len(stack)-1] in '*/':             # 如果当前字符为加减且栈顶为乘除，则开始弹出\n",
    "                if stack.count('(') == 0:                                  # 如果有左括号，弹到左括号为止     \n",
    "                    while stack:\n",
    "                        result.append(stack.pop())\n",
    "                else:                                                      # 如果没有左括号，弹出所有\n",
    "                    t = stack.pop() \n",
    "                    while t != '(':\n",
    "                        result.append(t)\n",
    "                        t = stack.pop()\n",
    "                    stack.append('(')\n",
    "                stack.append(item)  # 弹出操作完成后将‘+-’入栈\n",
    "            else:\n",
    "                stack.append(item)  # 其余情况直接入栈（如当前字符为+，栈顶为+-）\n",
    "    while stack:                    # 表达式遍历完了，但是栈中还有操作符不满足弹出条件，把栈中的东西全部弹出\n",
    "        result.append(stack.pop())  # 返回字符串\n",
    "    return \"\".join(result)\n",
    "\n",
    "print(middle2behind(n))\n",
    "#print(middle2behind(n_1))\n",
    "#print(middle2behind(n_2))"
   ]
  },
  {
   "cell_type": "code",
   "execution_count": null,
   "metadata": {},
   "outputs": [],
   "source": []
  },
  {
   "cell_type": "code",
   "execution_count": null,
   "metadata": {},
   "outputs": [],
   "source": []
  },
  {
   "cell_type": "code",
   "execution_count": null,
   "metadata": {},
   "outputs": [],
   "source": []
  },
  {
   "cell_type": "markdown",
   "metadata": {},
   "source": [
    "#### P-6.32"
   ]
  },
  {
   "cell_type": "code",
   "execution_count": 65,
   "metadata": {},
   "outputs": [
    {
     "data": {
      "text/plain": [
       "([1, None, None, None, None, None, None, 4, 3, 2], 7)"
      ]
     },
     "execution_count": 65,
     "metadata": {},
     "output_type": "execute_result"
    }
   ],
   "source": [
    "class Full(Exception):\n",
    "    \"\"\"Error attempting to access an element from an empty container.\"\"\"\n",
    "    pass\n",
    "\n",
    "class Empty(Exception):\n",
    "    pass\n",
    "\n",
    "class DualArrayQueue:\n",
    "    DEFAULT_CAPACITY = 10\n",
    "    \n",
    "    def __init__(self):\n",
    "        self._data = [None] * DualArrayQueue.DEFAULT_CAPACITY  # 指一个固定容量的列表实例\n",
    "        self._size = 0  # 是一个整数，代表当前储存在队列内的元素的数量，与_data列表的长度正好相对\n",
    "        self._front = 1  # 是一个整数，代表_data实例队列中的第一个元素的索引，假设这个队列不为空\n",
    "        \n",
    "    def __len__(self):\n",
    "        return self._size\n",
    "    \n",
    "    def is_empty(self):\n",
    "        return self._size == 0\n",
    "    \n",
    "    def first(self):\n",
    "        \"\"\"Return (but do not remove) the element at the front of the queue.\"\"\"\n",
    "        if self.is_empty():\n",
    "            raise Empty('Queue is empty.')\n",
    "        return self._data[self._front]\n",
    "    \n",
    "    def last(self):\n",
    "        if self.is_empty():\n",
    "            raise Empty('Queue is empty.')\n",
    "        return self._data[(self._front + self._size - 1)% len(self._data)]       \n",
    "    \n",
    "    def add_first(self, e):\n",
    "        if self._size == len(self._data):\n",
    "            self._resize(2 * len(self._data))\n",
    "        self._front = (self._front - 1) % len(self._data)\n",
    "        self._data[self._front] = e\n",
    "#         self._data[temp] = e\n",
    "#         for i in range(self._front, self._size):\n",
    "#             self._data[i+1] = self._data[i]\n",
    "        self._size += 1\n",
    "\n",
    "    def del_last(self):\n",
    "        if self.is_empty():\n",
    "            raise Empty('Queue is empty.')     \n",
    "        answer = self._data[self._front]\n",
    "        self._data[self._front] = None\n",
    "        temp = (self._front + data._size) % len(self._data)\n",
    "        self._size -= 1\n",
    "        return answer\n",
    "    \n",
    "    def add_last(self, e):\n",
    "        if self._size == len(self._data):\n",
    "            self._resize(2 * len(self._data))\n",
    "        temp = (self._front + self._size) % len(self._data)\n",
    "        self._data[temp] = e\n",
    "        self._size += 1\n",
    "        \n",
    "    def del_first(self):\n",
    "        if self.is_empty():\n",
    "            raise Empty('Queue is empty.')        \n",
    "        answer = self._data[self._front]\n",
    "        self._data[self._front] = None\n",
    "        self._front = (self._front + 1) % len(self._data)\n",
    "        self._size -= 1\n",
    "        return answer\n",
    "        \n",
    "    def _resize(self, cap):\n",
    "        \"\"\"Resize to a new list of capacity >= len(self)\"\"\"\n",
    "        old = self._data\n",
    "        self._data = [None] * cap\n",
    "        walk = self._front\n",
    "        for k in range(self._size):\n",
    "            self._data[k] = old[walk]\n",
    "            walk = (1 + walk) % len(old)\n",
    "        self._front =0\n",
    "        \n",
    "das = DualArrayQueue()\n",
    "das.add_first(1),das.add_first(2),das.add_first(3),das.add_first(4),\n",
    "das._data, das._front"
   ]
  },
  {
   "cell_type": "code",
   "execution_count": 66,
   "metadata": {},
   "outputs": [
    {
     "data": {
      "text/plain": [
       "4"
      ]
     },
     "execution_count": 66,
     "metadata": {},
     "output_type": "execute_result"
    }
   ],
   "source": [
    "das.del_first()"
   ]
  },
  {
   "cell_type": "code",
   "execution_count": 67,
   "metadata": {},
   "outputs": [
    {
     "data": {
      "text/plain": [
       "([1, None, None, None, None, None, None, None, 3, 2], 8)"
      ]
     },
     "execution_count": 67,
     "metadata": {},
     "output_type": "execute_result"
    }
   ],
   "source": [
    "das._data,das._front"
   ]
  },
  {
   "cell_type": "code",
   "execution_count": 68,
   "metadata": {},
   "outputs": [],
   "source": [
    "das.add_last('liu')"
   ]
  },
  {
   "cell_type": "code",
   "execution_count": 69,
   "metadata": {},
   "outputs": [
    {
     "data": {
      "text/plain": [
       "([1, 'liu', None, None, None, None, None, None, 3, 2], 8)"
      ]
     },
     "execution_count": 69,
     "metadata": {},
     "output_type": "execute_result"
    }
   ],
   "source": [
    "das._data,das._front"
   ]
  },
  {
   "cell_type": "code",
   "execution_count": 70,
   "metadata": {},
   "outputs": [],
   "source": [
    "das.add_last('gang')"
   ]
  },
  {
   "cell_type": "code",
   "execution_count": 71,
   "metadata": {},
   "outputs": [
    {
     "data": {
      "text/plain": [
       "([1, 'liu', 'gang', None, None, None, None, None, 3, 2], 8)"
      ]
     },
     "execution_count": 71,
     "metadata": {},
     "output_type": "execute_result"
    }
   ],
   "source": [
    "das._data,das._front"
   ]
  },
  {
   "cell_type": "code",
   "execution_count": 72,
   "metadata": {},
   "outputs": [],
   "source": [
    "das.add_first(1)"
   ]
  },
  {
   "cell_type": "code",
   "execution_count": 73,
   "metadata": {},
   "outputs": [
    {
     "data": {
      "text/plain": [
       "([1, 'liu', 'gang', None, None, None, None, 1, 3, 2], 7)"
      ]
     },
     "execution_count": 73,
     "metadata": {},
     "output_type": "execute_result"
    }
   ],
   "source": [
    "das._data,das._front"
   ]
  },
  {
   "cell_type": "code",
   "execution_count": 74,
   "metadata": {},
   "outputs": [
    {
     "data": {
      "text/plain": [
       "2"
      ]
     },
     "execution_count": 74,
     "metadata": {},
     "output_type": "execute_result"
    }
   ],
   "source": [
    "(das._front + das._size -1 ) % (len(das._data))"
   ]
  },
  {
   "cell_type": "code",
   "execution_count": 76,
   "metadata": {},
   "outputs": [
    {
     "data": {
      "text/plain": [
       "('gang', 1)"
      ]
     },
     "execution_count": 76,
     "metadata": {},
     "output_type": "execute_result"
    }
   ],
   "source": [
    "das.last(), das.first()"
   ]
  },
  {
   "cell_type": "markdown",
   "metadata": {},
   "source": [
    "#### C-6.28"
   ]
  },
  {
   "cell_type": "code",
   "execution_count": 1,
   "metadata": {},
   "outputs": [],
   "source": [
    "class Full(Exception):\n",
    "    pass\n",
    "\n",
    "class ArrayQueue:\n",
    "    DEFAULT_CAPACITY = 30\n",
    "    \n",
    "    def __init__(self, maxlen=None):\n",
    "        self._data = [None] * ArrayQueue.DEFAULT_CAPACITY  # 指一个固定容量的列表实例\n",
    "        self._size = 0  # 是一个整数，代表当前储存在队列内的元素的数量，与_data列表的长度正好相对\n",
    "        self._front = 0  # 是一个整数，代表_data实例队列中的第一个元素的索引，假设这个队列不为空\n",
    "        self._maxlen = maxlen\n",
    "        \n",
    "    def __len__(self):\n",
    "        return self._size\n",
    "    \n",
    "    def is_empty(self):\n",
    "        return self._size == 0\n",
    "    \n",
    "    def first(self):\n",
    "        \"\"\"Return (but do not remove) the element at the front of the queue.\"\"\"\n",
    "        \n",
    "        if self.is_empty():\n",
    "            raise Empty('Queue is empty.')\n",
    "        return self._data[self._front]\n",
    "    \n",
    "    def front(self):\n",
    "        if self.is_empty():\n",
    "            raise Empty('Queue is empty')\n",
    "        return self._front\n",
    "    \n",
    "    def dequeue(self):\n",
    "        \"\"\"Remove and return the first element of the queue\n",
    "        \n",
    "        Raise Empty exception if the queue is empty.\"\"\"\n",
    "        if self.is_empty():\n",
    "            raise Empty('Queue is empty.')        \n",
    "        answer = self._data[self._front]\n",
    "        self._data[self._front] = None\n",
    "        self._front = (self._front + 1) % len(self._data)\n",
    "        self._size -= 1\n",
    "        return answer\n",
    "    \n",
    "    def enqueue(self, e):\n",
    "        \"\"\"Add an element to the back of queue.\"\"\"\n",
    "        if self._size == len(self._data):\n",
    "            print(self._front)\n",
    "            raise Full('Queue is full.')\n",
    "        avail = (self._front + self._size) % len(self._data)\n",
    "        self._data[avail] = e\n",
    "        self._size += 1"
   ]
  },
  {
   "cell_type": "markdown",
   "metadata": {},
   "source": [
    "#### C-6.29"
   ]
  },
  {
   "cell_type": "code",
   "execution_count": 20,
   "metadata": {},
   "outputs": [
    {
     "data": {
      "text/plain": [
       "(None, None, None, None, None, None, None)"
      ]
     },
     "execution_count": 20,
     "metadata": {},
     "output_type": "execute_result"
    }
   ],
   "source": [
    "class Full(Exception):\n",
    "    pass\n",
    "\n",
    "class ArrayQueue:\n",
    "    DEFAULT_CAPACITY = 8\n",
    "    \n",
    "    def __init__(self, maxlen=None):\n",
    "        self._data = [None] * ArrayQueue.DEFAULT_CAPACITY  # 指一个固定容量的列表实例\n",
    "        self._size = 0  # 是一个整数，代表当前储存在队列内的元素的数量，与_data列表的长度正好相对\n",
    "        self._front = 0  # 是一个整数，代表_data实例队列中的第一个元素的索引，假设这个队列不为空\n",
    "        self._maxlen = maxlen\n",
    "        \n",
    "    def __len__(self):\n",
    "        return self._size\n",
    "    \n",
    "    def is_empty(self):\n",
    "        return self._size == 0\n",
    "    \n",
    "    def first(self):\n",
    "        \"\"\"Return (but do not remove) the element at the front of the queue.\"\"\"\n",
    "        \n",
    "        if self.is_empty():\n",
    "            raise Empty('Queue is empty.')\n",
    "        return self._data[self._front]\n",
    "    \n",
    "    def front(self):\n",
    "        if self.is_empty():\n",
    "            raise Empty('Queue is empty')\n",
    "        return self._front\n",
    "    \n",
    "    def dequeue(self):\n",
    "        \"\"\"Remove and return the first element of the queue\n",
    "        \n",
    "        Raise Empty exception if the queue is empty.\"\"\"\n",
    "        if self.is_empty():\n",
    "            raise Empty('Queue is empty.')        \n",
    "        answer = self._data[self._front]\n",
    "        self._data[self._front] = None\n",
    "        self._front = (self._front + 1) % len(self._data)\n",
    "        self._size -= 1\n",
    "        return answer\n",
    "    \n",
    "    def enqueue(self, e):\n",
    "        \"\"\"Add an element to the back of queue.\"\"\"\n",
    "        if self._size == len(self._data):\n",
    "            print(self._front)\n",
    "            raise Full('Queue is full.')\n",
    "        avail = (self._front + self._size) % len(self._data)\n",
    "        self._data[avail] = e\n",
    "        self._size += 1\n",
    "        \n",
    "    def rotate(self):\n",
    "        \"\"\"Dequeue -> enqueue\"\"\"\n",
    "        answer = self._data[self._front]\n",
    "        self._data[self._front] = None\n",
    "        self._data[(self._front + self._size) % len(self._data)] = answer\n",
    "        self._front += 1\n",
    "\n",
    "as639 = ArrayQueue()\n",
    "as639.enqueue(1),as639.enqueue(2),as639.enqueue(3),as639.enqueue(4),as639.enqueue(5),as639.enqueue(6),as639.enqueue(7),"
   ]
  },
  {
   "cell_type": "code",
   "execution_count": 21,
   "metadata": {},
   "outputs": [
    {
     "data": {
      "text/plain": [
       "[1, 2, 3, 4, 5, 6, 7, None]"
      ]
     },
     "execution_count": 21,
     "metadata": {},
     "output_type": "execute_result"
    }
   ],
   "source": [
    "as639._data"
   ]
  },
  {
   "cell_type": "code",
   "execution_count": 22,
   "metadata": {},
   "outputs": [],
   "source": [
    "as639.rotate()"
   ]
  },
  {
   "cell_type": "code",
   "execution_count": 23,
   "metadata": {},
   "outputs": [
    {
     "data": {
      "text/plain": [
       "[None, 2, 3, 4, 5, 6, 7, 1]"
      ]
     },
     "execution_count": 23,
     "metadata": {},
     "output_type": "execute_result"
    }
   ],
   "source": [
    "as639._data"
   ]
  },
  {
   "cell_type": "code",
   "execution_count": 24,
   "metadata": {},
   "outputs": [
    {
     "data": {
      "text/plain": [
       "[2, None, 3, 4, 5, 6, 7, 1]"
      ]
     },
     "execution_count": 24,
     "metadata": {},
     "output_type": "execute_result"
    }
   ],
   "source": [
    "as639.rotate()\n",
    "as639._data"
   ]
  },
  {
   "cell_type": "code",
   "execution_count": 25,
   "metadata": {},
   "outputs": [
    {
     "data": {
      "text/plain": [
       "[2, 3, None, 4, 5, 6, 7, 1]"
      ]
     },
     "execution_count": 25,
     "metadata": {},
     "output_type": "execute_result"
    }
   ],
   "source": [
    "as639.rotate()\n",
    "as639._data"
   ]
  },
  {
   "cell_type": "code",
   "execution_count": 26,
   "metadata": {},
   "outputs": [
    {
     "data": {
      "text/plain": [
       "[2, 3, 4, None, 5, 6, 7, 1]"
      ]
     },
     "execution_count": 26,
     "metadata": {},
     "output_type": "execute_result"
    }
   ],
   "source": [
    "as639.rotate()\n",
    "as639._data"
   ]
  },
  {
   "cell_type": "code",
   "execution_count": 27,
   "metadata": {},
   "outputs": [],
   "source": [
    "as639.enqueue('liugang')"
   ]
  },
  {
   "cell_type": "code",
   "execution_count": 28,
   "metadata": {},
   "outputs": [
    {
     "data": {
      "text/plain": [
       "[2, 3, 4, 'liugang', 5, 6, 7, 1]"
      ]
     },
     "execution_count": 28,
     "metadata": {},
     "output_type": "execute_result"
    }
   ],
   "source": [
    "as639._data"
   ]
  },
  {
   "cell_type": "code",
   "execution_count": 29,
   "metadata": {},
   "outputs": [
    {
     "data": {
      "text/plain": [
       "[2, 3, 4, 'liugang', 5, 6, 7, 1]"
      ]
     },
     "execution_count": 29,
     "metadata": {},
     "output_type": "execute_result"
    }
   ],
   "source": [
    "as639.rotate()\n",
    "as639._data"
   ]
  },
  {
   "cell_type": "code",
   "execution_count": 30,
   "metadata": {},
   "outputs": [
    {
     "data": {
      "text/plain": [
       "5"
      ]
     },
     "execution_count": 30,
     "metadata": {},
     "output_type": "execute_result"
    }
   ],
   "source": [
    "as639._front"
   ]
  },
  {
   "cell_type": "code",
   "execution_count": 31,
   "metadata": {},
   "outputs": [
    {
     "data": {
      "text/plain": [
       "([2, 3, 4, 'liugang', 5, 6, 7, 1], 6)"
      ]
     },
     "execution_count": 31,
     "metadata": {},
     "output_type": "execute_result"
    }
   ],
   "source": [
    "as639.rotate()\n",
    "as639._data, as639._front"
   ]
  },
  {
   "cell_type": "markdown",
   "metadata": {},
   "source": [
    "#### P-6.33"
   ]
  },
  {
   "cell_type": "code",
   "execution_count": 115,
   "metadata": {},
   "outputs": [
    {
     "data": {
      "text/plain": [
       "([1, None, None, None, 4, 3, 2, 4, 3, 2], 4)"
      ]
     },
     "execution_count": 115,
     "metadata": {},
     "output_type": "execute_result"
    }
   ],
   "source": [
    "class Full(Exception):\n",
    "    \"\"\"Error attempting to access an element from an empty container.\"\"\"\n",
    "    pass\n",
    "\n",
    "class Empty(Exception):\n",
    "    pass\n",
    "\n",
    "class DualArrayQueue:\n",
    "    \n",
    "    def __init__(self, maxlen=10):\n",
    "        self._maxlen = maxlen\n",
    "        self._data = [None] * maxlen   # 指一个固定容量的列表实例\n",
    "        self._size = 0  # 是一个整数，代表当前储存在队列内的元素的数量，与_data列表的长度正好相对\n",
    "        self._front = 1  # 是一个整数，代表_data实例队列中的第一个元素的索引，假设这个队列不为空\n",
    "        \n",
    "    def __len__(self):\n",
    "        return self._size\n",
    "    \n",
    "    def is_empty(self):\n",
    "        return self._size == 0\n",
    "    \n",
    "    def first(self):\n",
    "        \"\"\"Return (but do not remove) the element at the front of the queue.\"\"\"\n",
    "        if self.is_empty():\n",
    "            raise Empty('Queue is empty.')\n",
    "        return self._data[self._front]\n",
    "    \n",
    "    def last(self):\n",
    "        if self.is_empty():\n",
    "            raise Empty('Queue is empty.')\n",
    "        return self._data[(self._front + self._size - 1)% len(self._data)]       \n",
    "    \n",
    "    def add_first(self, e):            \n",
    "        self._front = (self._front - 1) % len(self._data)\n",
    "        self._data[self._front] = e\n",
    "        self._size += 1\n",
    "\n",
    "    def del_last(self):\n",
    "        if self.is_empty():\n",
    "            raise Empty('Queue is empty.')     \n",
    "        answer = self._data[self._front]\n",
    "        self._data[self._front] = None\n",
    "        temp = (self._front + data._size) % len(self._data)\n",
    "        self._size -= 1\n",
    "        return answer\n",
    "    \n",
    "    def add_last(self, e):\n",
    "        temp = (self._front + self._size) % len(self._data)\n",
    "        self._data[temp] = e\n",
    "        self._size += 1\n",
    "        \n",
    "    def del_first(self):\n",
    "        if self.is_empty():\n",
    "            raise Empty('Queue is empty.')        \n",
    "        answer = self._data[self._front]\n",
    "        self._data[self._front] = None\n",
    "        self._front = (self._front + 1) % len(self._data)\n",
    "        self._size -= 1\n",
    "        return answer\n",
    "        \n",
    "    def _resize(self, cap):\n",
    "        \"\"\"Resize to a new list of capacity >= len(self)\"\"\"\n",
    "        old = self._data\n",
    "        self._data = [None] * cap\n",
    "        walk = self._front\n",
    "        for k in range(self._size):\n",
    "            self._data[k] = old[walk]\n",
    "            walk = (1 + walk) % len(old)\n",
    "        self._front =0\n",
    "        \n",
    "das = DualArrayQueue()\n",
    "das.add_first(1),das.add_first(2),das.add_first(3),das.add_first(4),das.add_first(2),das.add_first(3),das.add_first(4),\n",
    "das._data, das._front"
   ]
  },
  {
   "cell_type": "code",
   "execution_count": 106,
   "metadata": {},
   "outputs": [
    {
     "data": {
      "text/plain": [
       "(None, None, None)"
      ]
     },
     "execution_count": 106,
     "metadata": {},
     "output_type": "execute_result"
    }
   ],
   "source": [
    "das.add_first(22),das.add_first(33),das.add_first(44)"
   ]
  },
  {
   "cell_type": "code",
   "execution_count": 107,
   "metadata": {},
   "outputs": [
    {
     "data": {
      "text/plain": [
       "[1, 44, 33, 22, 4, 3, 2, 4, 3, 2]"
      ]
     },
     "execution_count": 107,
     "metadata": {},
     "output_type": "execute_result"
    }
   ],
   "source": [
    "das._data"
   ]
  },
  {
   "cell_type": "code",
   "execution_count": 108,
   "metadata": {},
   "outputs": [],
   "source": [
    "das.add_first('liugang')"
   ]
  },
  {
   "cell_type": "code",
   "execution_count": 109,
   "metadata": {},
   "outputs": [
    {
     "data": {
      "text/plain": [
       "['liugang', 44, 33, 22, 4, 3, 2, 4, 3, 2]"
      ]
     },
     "execution_count": 109,
     "metadata": {},
     "output_type": "execute_result"
    }
   ],
   "source": [
    "das._data"
   ]
  },
  {
   "cell_type": "code",
   "execution_count": 116,
   "metadata": {},
   "outputs": [
    {
     "data": {
      "text/plain": [
       "(None, None, None)"
      ]
     },
     "execution_count": 116,
     "metadata": {},
     "output_type": "execute_result"
    }
   ],
   "source": [
    "das.add_last(22),das.add_last(33),das.add_last(44)"
   ]
  },
  {
   "cell_type": "code",
   "execution_count": 117,
   "metadata": {},
   "outputs": [
    {
     "data": {
      "text/plain": [
       "[1, 22, 33, 44, 4, 3, 2, 4, 3, 2]"
      ]
     },
     "execution_count": 117,
     "metadata": {},
     "output_type": "execute_result"
    }
   ],
   "source": [
    "das._data"
   ]
  },
  {
   "cell_type": "code",
   "execution_count": 118,
   "metadata": {},
   "outputs": [],
   "source": [
    "das.add_last('end')"
   ]
  },
  {
   "cell_type": "code",
   "execution_count": 119,
   "metadata": {},
   "outputs": [
    {
     "data": {
      "text/plain": [
       "[1, 22, 33, 44, 'end', 3, 2, 4, 3, 2]"
      ]
     },
     "execution_count": 119,
     "metadata": {},
     "output_type": "execute_result"
    }
   ],
   "source": [
    "das._data"
   ]
  },
  {
   "cell_type": "markdown",
   "metadata": {},
   "source": [
    "#### P-6.34"
   ]
  },
  {
   "cell_type": "code",
   "execution_count": 99,
   "metadata": {},
   "outputs": [
    {
     "name": "stdout",
     "output_type": "stream",
     "text": [
      "52+83-*4/\n",
      "53+21-48+ /  * 4 * \n",
      "52+11*\n"
     ]
    }
   ],
   "source": [
    "n = '((5+2)*(8-3))/4'\n",
    "n_1 = '((5+3) * (2-1) / (4+8)) * 4'\n",
    "n_2 = '(5+2)*11'\n",
    "\n",
    "def middle2behind(expression):  \n",
    "    result = []             # 结果列表\n",
    "    stack = []              # 栈\n",
    "    for item in expression: \n",
    "        if item.isnumeric():                 # 如果当前字符为数字那么直接放入结果列表\n",
    "            result.append(item) \n",
    "        else:                                       # 如果当前字符为一切其他操作符\n",
    "            if len(stack) == 0:             # 如果栈空，直接入栈\n",
    "                stack.append(item)\n",
    "            elif item in '*/(':                # 如果当前字符为*/（，直接入栈\n",
    "                stack.append(item)\n",
    "            elif item == ')':                # 如果右括号则全部弹出（碰到左括号停止）\n",
    "                t = stack.pop()\n",
    "                while t != '(':   \n",
    "                    result.append(t)\n",
    "                    t = stack.pop()\n",
    "            elif item in '+-' and stack[len(stack)-1] in '*/':  # 如果当前字符为加减且栈顶为乘除，则开始弹出\n",
    "                if stack.count('(') == 0:                                  # 如果有左括号，弹到左括号为止     \n",
    "                    while stack:\n",
    "                        result.append(stack.pop())\n",
    "                else:                                                               # 如果没有左括号，弹出所有\n",
    "                    t = stack.pop() \n",
    "                    while t != '(':\n",
    "                        result.append(t)\n",
    "                        t = stack.pop()\n",
    "                    stack.append('(')\n",
    "                stack.append(item)  # 弹出操作完成后将‘+-’入栈\n",
    "            else:\n",
    "                stack.append(item)  # 其余情况直接入栈（如当前字符为+，栈顶为+-）\n",
    "\n",
    "    # 表达式遍历完了，但是栈中还有操作符不满足弹出条件，把栈中的东西全部弹出\n",
    "    while stack:\n",
    "        result.append(stack.pop())\n",
    "    # 返回字符串\n",
    "    return \"\".join(result)\n",
    "\n",
    "print(middle2behind(n))\n",
    "print(middle2behind(n_1))\n",
    "print(middle2behind(n_2))"
   ]
  },
  {
   "cell_type": "code",
   "execution_count": 98,
   "metadata": {},
   "outputs": [
    {
     "data": {
      "text/plain": [
       "'52+83-*4/'"
      ]
     },
     "execution_count": 98,
     "metadata": {},
     "output_type": "execute_result"
    }
   ],
   "source": [
    "from functools import reduce\n",
    "\n",
    "def calu_houzhui(s):\n",
    "    for i in s:\n",
    "        result = []             # 结果列表\n",
    "        stack1 = []            # 栈 \n",
    "        stack2 = []\n",
    "        if i.isnumeric():\n",
    "            stack1.append(i)\n",
    "        elif i in '+-':\n",
    "            if i == '+':\n",
    "                result.append(sum(result))\n",
    "                while stack1:\n",
    "                    stack1.pop()\n",
    "            elif i == '-':\n",
    "                result.append(stack1[0] - stack1[1])\n",
    "                while stack1:\n",
    "                    stack1.pop()\n",
    "        elif i in '*/':\n",
    "            if i == '*':\n",
    "                if len(result) // 2 ==0:\n",
    "                        stack2.append(result[0] * result[1])\n",
    "                        result.pop(0)\n",
    "                        result.pop(0)\n",
    "                else:\n",
    "                    \n",
    "            elif i == '/':\n",
    "                \n",
    "            pass"
   ]
  },
  {
   "cell_type": "code",
   "execution_count": 103,
   "metadata": {},
   "outputs": [
    {
     "data": {
      "text/plain": [
       "720"
      ]
     },
     "execution_count": 103,
     "metadata": {},
     "output_type": "execute_result"
    }
   ],
   "source": [
    "from functools import reduce\n",
    "from functools import \n",
    "reduce(lambda x, y: x*y, [2,3,4,5,6])"
   ]
  },
  {
   "cell_type": "markdown",
   "metadata": {},
   "source": [
    "#### P-6.34"
   ]
  },
  {
   "cell_type": "code",
   "execution_count": null,
   "metadata": {},
   "outputs": [],
   "source": []
  }
 ],
 "metadata": {
  "kernelspec": {
   "display_name": "Python 3",
   "language": "python",
   "name": "python3"
  },
  "language_info": {
   "codemirror_mode": {
    "name": "ipython",
    "version": 3
   },
   "file_extension": ".py",
   "mimetype": "text/x-python",
   "name": "python",
   "nbconvert_exporter": "python",
   "pygments_lexer": "ipython3",
   "version": "3.7.3"
  }
 },
 "nbformat": 4,
 "nbformat_minor": 2
}
