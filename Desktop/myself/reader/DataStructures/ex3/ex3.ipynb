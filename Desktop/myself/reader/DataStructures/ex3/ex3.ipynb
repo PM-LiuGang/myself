{
 "cells": [
  {
   "cell_type": "markdown",
   "metadata": {},
   "source": [
    "#### #3-1 返回Python列表最大值的函数"
   ]
  },
  {
   "cell_type": "code",
   "execution_count": 3,
   "metadata": {},
   "outputs": [],
   "source": [
    "def find_max(data):\n",
    "    \"\"\"Return the maximum element from a nonempty Python list.\"\"\"\n",
    "    biggest = data[0]\n",
    "    for val in data:  # data[1: ]\n",
    "        if val > biggest:\n",
    "            biggest = val\n",
    "    return biggest"
   ]
  },
  {
   "cell_type": "markdown",
   "metadata": {},
   "source": [
    "#### #3-2 前缀平均值"
   ]
  },
  {
   "cell_type": "code",
   "execution_count": 1,
   "metadata": {},
   "outputs": [],
   "source": [
    "def prefix_average(s):\n",
    "    \"\"\"Return list such that, for all j, A[j] equals average of s[0], s[1], s[2], .....\"\"\"\n",
    "    n = len(s)\n",
    "    a = [0] * n\n",
    "    for j in range(n):\n",
    "        total = 0\n",
    "        for i in range(j + 1):\n",
    "            total += s[i]\n",
    "        a[j] = total / (j + 1)\n",
    "    return a"
   ]
  },
  {
   "cell_type": "code",
   "execution_count": 5,
   "metadata": {},
   "outputs": [],
   "source": [
    "tlist = [1,23,5,67,7,8,22,1]"
   ]
  },
  {
   "cell_type": "code",
   "execution_count": 4,
   "metadata": {},
   "outputs": [],
   "source": [
    "a = prefix_average(tlist)"
   ]
  },
  {
   "cell_type": "code",
   "execution_count": 5,
   "metadata": {},
   "outputs": [
    {
     "data": {
      "text/plain": [
       "[1.0, 12.0, 9.666666666666666, 24.0, 20.6, 18.5, 19.0, 16.75]"
      ]
     },
     "execution_count": 5,
     "metadata": {},
     "output_type": "execute_result"
    }
   ],
   "source": [
    "a"
   ]
  },
  {
   "cell_type": "code",
   "execution_count": 6,
   "metadata": {},
   "outputs": [
    {
     "name": "stdout",
     "output_type": "stream",
     "text": [
      "[1.0, 12.0, 9.666666666666666, 24.0, 20.6, 18.5, 19.0, 16.75]\n"
     ]
    }
   ],
   "source": [
    "#myself\n",
    "alist = []\n",
    "\n",
    "for i in range(len(tlist)):\n",
    "        sumlist = sum([tlist[h] for h in range(i + 1)])\n",
    "        edvlist = sumlist / (i + 1)\n",
    "        alist.append(edvlist)\n",
    "print(alist)\n",
    "\n",
    "def func(s):\n",
    "    alist = []\n",
    "    for i in range(len(s)):\n",
    "        sumh = sum([s[h] for h in range(i)])\n",
    "        alist[i] =  sumh / (i + 1)\n",
    "#         return alist  # return位置错误\n",
    "    return alist"
   ]
  },
  {
   "cell_type": "markdown",
   "metadata": {},
   "source": [
    "#### # code 3-3 O(n ** 2)"
   ]
  },
  {
   "cell_type": "code",
   "execution_count": 22,
   "metadata": {},
   "outputs": [],
   "source": [
    "def prefix_average2(s):\n",
    "    n = len(s)\n",
    "    a = [0] * n\n",
    "    for j in range(n):\n",
    "        a[j] = sum(s[0:j+1]) / (j+1)\n",
    "    return a"
   ]
  },
  {
   "cell_type": "markdown",
   "metadata": {},
   "source": [
    "#### # code 3-4 O()"
   ]
  },
  {
   "cell_type": "code",
   "execution_count": 23,
   "metadata": {},
   "outputs": [],
   "source": [
    "def prefix_average3(s):\n",
    "    n = len(s)\n",
    "    a = [0] * n\n",
    "    total = 0\n",
    "    for j in range(n):\n",
    "        total += s[j]\n",
    "        a[j] = total / (j + 1)\n",
    "    return a"
   ]
  },
  {
   "cell_type": "markdown",
   "metadata": {},
   "source": [
    "#### 三集不相交"
   ]
  },
  {
   "cell_type": "code",
   "execution_count": 32,
   "metadata": {},
   "outputs": [
    {
     "data": {
      "text/plain": [
       "'存在'"
      ]
     },
     "execution_count": 32,
     "metadata": {},
     "output_type": "execute_result"
    }
   ],
   "source": [
    "# myself\n",
    "\n",
    "a = [1, 2, 3]\n",
    "b = [3, 4, 5]\n",
    "c = [3, 7, 10]\n",
    "d = [6,11,12]\n",
    "e = [111,222,333]\n",
    "\n",
    "def find3(a, b, c):\n",
    "    for i in a:\n",
    "        for h in b:\n",
    "            if i == h:\n",
    "                for k in c:\n",
    "                    if i ==k:\n",
    "                        return '存在'\n",
    "                    else:\n",
    "                        continue\n",
    "            else:\n",
    "                continue\n",
    "    return '不存在'\n",
    "\n",
    "find3(a, b, c)"
   ]
  },
  {
   "cell_type": "code",
   "execution_count": 29,
   "metadata": {},
   "outputs": [
    {
     "data": {
      "text/plain": [
       "'不存在'"
      ]
     },
     "execution_count": 29,
     "metadata": {},
     "output_type": "execute_result"
    }
   ],
   "source": [
    "find3(a, d, e)"
   ]
  },
  {
   "cell_type": "markdown",
   "metadata": {},
   "source": [
    "#### #3-5 O(n *** 2)"
   ]
  },
  {
   "cell_type": "code",
   "execution_count": 7,
   "metadata": {},
   "outputs": [],
   "source": [
    "def _disjoint(a, b, c):\n",
    "    for a_ in a:\n",
    "        for _b in b:\n",
    "            for _c in c:\n",
    "                if _a == _b == _c:\n",
    "                    return False\n",
    "    return True"
   ]
  },
  {
   "cell_type": "markdown",
   "metadata": {},
   "source": [
    "#### # 3-6 0(n**2)"
   ]
  },
  {
   "cell_type": "code",
   "execution_count": 8,
   "metadata": {},
   "outputs": [],
   "source": [
    "# 略 与myself一致"
   ]
  },
  {
   "cell_type": "markdown",
   "metadata": {},
   "source": [
    "#### 元素唯一性"
   ]
  },
  {
   "cell_type": "code",
   "execution_count": 9,
   "metadata": {},
   "outputs": [],
   "source": [
    "#myself\n",
    "def _find(s):\n",
    "    for i in s:\n",
    "        n = 0 # n的位置错了，每次for循环后，重置为0了\n",
    "        for h in s[n+1:]:\n",
    "            if i == h:\n",
    "                return True\n",
    "            else:\n",
    "                continue\n",
    "        n += 1\n",
    "    return False\n",
    "\n",
    "s1 = [1, 2, 3, 4, 5, 6, 7]\n",
    "s2 = [1, 2, 3, 4, 5, 6, 7, 4]"
   ]
  },
  {
   "cell_type": "code",
   "execution_count": 10,
   "metadata": {},
   "outputs": [
    {
     "data": {
      "text/plain": [
       "True"
      ]
     },
     "execution_count": 10,
     "metadata": {},
     "output_type": "execute_result"
    }
   ],
   "source": [
    "_find(s1)"
   ]
  },
  {
   "cell_type": "code",
   "execution_count": 11,
   "metadata": {},
   "outputs": [
    {
     "data": {
      "text/plain": [
       "True"
      ]
     },
     "execution_count": 11,
     "metadata": {},
     "output_type": "execute_result"
    }
   ],
   "source": [
    "_find(s2)"
   ]
  },
  {
   "cell_type": "code",
   "execution_count": 12,
   "metadata": {},
   "outputs": [],
   "source": [
    "def _find(s):\n",
    "    n = 0\n",
    "    for i in s:\n",
    "        for h in s[n+1:]:\n",
    "            if i == h:\n",
    "                return True\n",
    "            else:\n",
    "                continue\n",
    "        n += 1\n",
    "    return False\n",
    "\n",
    "s1 = [1, 2, 3, 4, 5, 6, 7]\n",
    "s2 = [1, 2, 3, 4, 5, 6, 7, 4]"
   ]
  },
  {
   "cell_type": "code",
   "execution_count": 13,
   "metadata": {},
   "outputs": [
    {
     "data": {
      "text/plain": [
       "False"
      ]
     },
     "execution_count": 13,
     "metadata": {},
     "output_type": "execute_result"
    }
   ],
   "source": [
    "_find(s1)"
   ]
  },
  {
   "cell_type": "code",
   "execution_count": 14,
   "metadata": {},
   "outputs": [
    {
     "data": {
      "text/plain": [
       "True"
      ]
     },
     "execution_count": 14,
     "metadata": {},
     "output_type": "execute_result"
    }
   ],
   "source": [
    "_find(s2)"
   ]
  },
  {
   "cell_type": "markdown",
   "metadata": {},
   "source": [
    "#### #3-7"
   ]
  },
  {
   "cell_type": "code",
   "execution_count": 39,
   "metadata": {},
   "outputs": [],
   "source": [
    "def unique1(s):\n",
    "    for j in range(len(s)):\n",
    "        for k in range(j+1, len(s)):\n",
    "            if s[j] == s[k]:\n",
    "                return False\n",
    "        return True"
   ]
  },
  {
   "cell_type": "markdown",
   "metadata": {},
   "source": [
    "#### #3-8"
   ]
  },
  {
   "cell_type": "code",
   "execution_count": 40,
   "metadata": {},
   "outputs": [],
   "source": [
    "def unique2(s):\n",
    "    temp = sorted(s)\n",
    "    for j in range(1, len(temp)):\n",
    "        if temp[j-1] == temp[j]:\n",
    "            return False\n",
    "    return True"
   ]
  },
  {
   "cell_type": "markdown",
   "metadata": {},
   "source": [
    "### 练习"
   ]
  },
  {
   "cell_type": "markdown",
   "metadata": {},
   "source": [
    "#### R-3.1"
   ]
  },
  {
   "cell_type": "code",
   "execution_count": 1,
   "metadata": {},
   "outputs": [],
   "source": [
    "import numpy as np\n",
    "import matplotlib.pyplot as plt"
   ]
  },
  {
   "cell_type": "code",
   "execution_count": 13,
   "metadata": {},
   "outputs": [
    {
     "name": "stderr",
     "output_type": "stream",
     "text": [
      "d:\\program files (x86)\\python37\\lib\\site-packages\\ipykernel_launcher.py:2: RuntimeWarning: divide by zero encountered in log2\n",
      "  \n",
      "d:\\program files (x86)\\python37\\lib\\site-packages\\ipykernel_launcher.py:2: RuntimeWarning: invalid value encountered in multiply\n",
      "  \n"
     ]
    },
    {
     "data": {
      "text/plain": [
       "<matplotlib.legend.Legend at 0x1d96d03af98>"
      ]
     },
     "execution_count": 13,
     "metadata": {},
     "output_type": "execute_result"
    },
    {
     "data": {
      "image/png": "[encoded data removed]",
      "text/plain": [
       "<Figure size 432x288 with 1 Axes>"
      ]
     },
     "metadata": {
      "needs_background": "light"
     },
     "output_type": "display_data"
    }
   ],
   "source": [
    "x = np.arange(0, 10)\n",
    "y = 8*x*np.log2(x)\n",
    "z = 2 * x * x\n",
    "plt.plot(x, y, linestyle='--', label='Log')\n",
    "plt.plot(x, z, linestyle='-.', label='Power')\n",
    "plt.legend()"
   ]
  },
  {
   "cell_type": "markdown",
   "metadata": {},
   "source": [
    "#### 3-3"
   ]
  },
  {
   "cell_type": "code",
   "execution_count": 17,
   "metadata": {},
   "outputs": [
    {
     "data": {
      "text/plain": [
       "<matplotlib.legend.Legend at 0x1d96cc6d6a0>"
      ]
     },
     "execution_count": 17,
     "metadata": {},
     "output_type": "execute_result"
    },
    {
     "data": {
      "image/png": "[encoded data removed]",
      "text/plain": [
       "<Figure size 432x288 with 1 Axes>"
      ]
     },
     "metadata": {
      "needs_background": "light"
     },
     "output_type": "display_data"
    }
   ],
   "source": [
    "x = np.arange(-5, 5)\n",
    "y = 40 * x *x\n",
    "z = 2 * x * x\n",
    "plt.plot(x, y, linestyle='--', label='40n2')\n",
    "plt.plot(x, z, linestyle='-.', label='2n3')\n",
    "plt.legend()"
   ]
  },
  {
   "cell_type": "markdown",
   "metadata": {},
   "source": [
    "#### 3-1"
   ]
  },
  {
   "cell_type": "code",
   "execution_count": 38,
   "metadata": {},
   "outputs": [
    {
     "data": {
      "text/plain": [
       "[<matplotlib.lines.Line2D at 0x1d9706240f0>]"
      ]
     },
     "execution_count": 38,
     "metadata": {},
     "output_type": "execute_result"
    },
    {
     "data": {
      "image/png": "[encoded data removed]",
      "text/plain": [
       "<Figure size 432x288 with 1 Axes>"
      ]
     },
     "metadata": {
      "needs_background": "light"
     },
     "output_type": "display_data"
    }
   ],
   "source": [
    "import numpy as np\n",
    "import matplotlib.pyplot as plt\n",
    "\n",
    "x = np.arange(10, 100, 5)\n",
    "y = 4* x * np.log2(x)\n",
    "z = 8 * x\n",
    "a = 2 * x * x\n",
    "b = x * x * x\n",
    "z = 2**x\n",
    "plt.figure()\n",
    "plt.plot(x, y, label='Log', linestyle='--')\n",
    "'''\n",
    "plt.plot(x, z, label='8*x')\n",
    "plt.plot(x, a, label='2*x*x')\n",
    "plt.plot(x, b, label='x*x*x')\n",
    "plt.plot(x, z, label='2**x')\n",
    "'''\n",
    "plt.legend()\n",
    "plt.loglog(x, y)"
   ]
  },
  {
   "cell_type": "markdown",
   "metadata": {},
   "source": [
    "#### R-3.6"
   ]
  },
  {
   "cell_type": "code",
   "execution_count": 13,
   "metadata": {},
   "outputs": [
    {
     "name": "stdout",
     "output_type": "stream",
     "text": [
      "110\n",
      "182\n",
      "380\n"
     ]
    },
    {
     "data": {
      "text/plain": [
       "(None, None, None)"
      ]
     },
     "execution_count": 13,
     "metadata": {},
     "output_type": "execute_result"
    }
   ],
   "source": [
    "def find_ou(s):\n",
    "    n = []\n",
    "    for i in range(0, 2*s + 1):\n",
    "        if i % 2 == 0:\n",
    "            n.append(i)\n",
    "    print(sum(n))\n",
    "\n",
    "find_ou(10), find_ou(13), find_ou(19)"
   ]
  },
  {
   "cell_type": "code",
   "execution_count": 4,
   "metadata": {},
   "outputs": [
    {
     "name": "stdout",
     "output_type": "stream",
     "text": [
      "0\n",
      "1\n",
      "2\n",
      "3\n",
      "4\n",
      "5\n",
      "6\n",
      "7\n",
      "8\n",
      "9\n"
     ]
    }
   ],
   "source": [
    "for i in range(0, 10):\n",
    "    print(i)"
   ]
  },
  {
   "cell_type": "code",
   "execution_count": 10,
   "metadata": {},
   "outputs": [
    {
     "data": {
      "text/plain": [
       "0"
      ]
     },
     "execution_count": 10,
     "metadata": {},
     "output_type": "execute_result"
    }
   ],
   "source": [
    "10%2"
   ]
  },
  {
   "cell_type": "code",
   "execution_count": null,
   "metadata": {},
   "outputs": [],
   "source": []
  }
 ],
 "metadata": {
  "kernelspec": {
   "display_name": "Python 3",
   "language": "python",
   "name": "python3"
  },
  "language_info": {
   "codemirror_mode": {
    "name": "ipython",
    "version": 3
   },
   "file_extension": ".py",
   "mimetype": "text/x-python",
   "name": "python",
   "nbconvert_exporter": "python",
   "pygments_lexer": "ipython3",
   "version": "3.7.3"
  }
 },
 "nbformat": 4,
 "nbformat_minor": 2
}
