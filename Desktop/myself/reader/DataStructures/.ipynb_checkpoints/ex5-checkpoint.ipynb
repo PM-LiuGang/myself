{
 "cells": [
  {
   "cell_type": "markdown",
   "metadata": {},
   "source": [
    "#### #5-1"
   ]
  },
  {
   "cell_type": "code",
   "execution_count": null,
   "metadata": {},
   "outputs": [],
   "source": [
    "import sys\n",
    "\n",
    "data = []\n",
    "for k in range(32):\n",
    "    a = len(data)\n",
    "    b = sys.getsizeof(data)\n",
    "    print('Length: {0:3d}; Size in bytes: {1:4d}'.format(a, b))\n",
    "    data.append(None)"
   ]
  },
  {
   "cell_type": "markdown",
   "metadata": {},
   "source": [
    "#### #5-3"
   ]
  },
  {
   "cell_type": "code",
   "execution_count": 143,
   "metadata": {},
   "outputs": [],
   "source": [
    "import ctypes\n",
    "\n",
    "class DynamicArray:\n",
    "    \"\"\"A dynamic array class akin to a simplified Python list.\"\"\"\n",
    "    \n",
    "    def __init__(self):\n",
    "        \"\"\"Create an empty array\"\"\"\n",
    "        self._n = 0             # count actual elements\n",
    "        self._capacity = 1  # default array capacity\n",
    "        self._A = self._make_array(self._capacity)  # low-level array\n",
    "        \n",
    "    def __len__(self):\n",
    "        \"\"\"Return number of elements stored in the array.\"\"\"\n",
    "        return self._n\n",
    "    \n",
    "    def __getitem__(self, k):\n",
    "        \"\"\"Return element at index k.\"\"\"\n",
    "        if not 0 <= k < self._n:\n",
    "            raise IndexError('Invalid index')\n",
    "        return self._A[k]                                           # retrieve from array\n",
    "    \n",
    "    def append(self, obj):\n",
    "        \"\"\"Add object to end of the array\"\"\"           \n",
    "        if self._n == self._capacity:                          # not enough room\n",
    "            self._resize(2 * self._capacity)                  # so double capacity\n",
    "        self._A[self._n] = obj\n",
    "        self._n += 1\n",
    "        \n",
    "    def _resize(self, c):                                             # nonpublic utitity\n",
    "        \"\"\"Resize internal array to capacity c.\"\"\"    \n",
    "        B = self._make_array(c)                                 # new (bigger) array\n",
    "        for k in range(self._n):                                  # for each existing value\n",
    "            B[k] = self._A[k]\n",
    "        self._A = B                                                    # use the bigger array\n",
    "        self._capacity = c\n",
    "        \n",
    "    def _make_array(self, c):                                  # nonpublic utitity\n",
    "        \"\"\"Return new array with capacity c.\"\"\"\n",
    "        return(c * ctypes.py_object)()                     # see ctypes documentation    "
   ]
  },
  {
   "cell_type": "code",
   "execution_count": 144,
   "metadata": {},
   "outputs": [],
   "source": [
    "da1 = DynamicArray()"
   ]
  },
  {
   "cell_type": "code",
   "execution_count": 145,
   "metadata": {},
   "outputs": [
    {
     "data": {
      "text/plain": [
       "(None, None)"
      ]
     },
     "execution_count": 145,
     "metadata": {},
     "output_type": "execute_result"
    }
   ],
   "source": [
    "da1.append(1), da1.append(2)"
   ]
  },
  {
   "cell_type": "code",
   "execution_count": 146,
   "metadata": {},
   "outputs": [
    {
     "data": {
      "text/plain": [
       "[1, 2]"
      ]
     },
     "execution_count": 146,
     "metadata": {},
     "output_type": "execute_result"
    }
   ],
   "source": [
    "list(da1)"
   ]
  },
  {
   "cell_type": "markdown",
   "metadata": {},
   "source": [
    "#### #5-6"
   ]
  },
  {
   "cell_type": "code",
   "execution_count": 7,
   "metadata": {},
   "outputs": [],
   "source": [
    "import ctypes\n",
    "\n",
    "class DynamicArray_56:\n",
    "    \"\"\"A dynamic array class akin to a simplified Python list.\"\"\"\n",
    "    \n",
    "    def __init__(self):\n",
    "        \"\"\"Create an empty array\"\"\"\n",
    "        self._n = 0             # count actual elements\n",
    "        self._capacity = 1  # default array capacity\n",
    "        self._A = self._make_array(self._capacity)  # low-level array\n",
    "        \n",
    "    def __len__(self):\n",
    "        \"\"\"Return number of elements stored in the array.\"\"\"\n",
    "        return self._n\n",
    "    \n",
    "    def __getitem__(self, k):\n",
    "        \"\"\"Return element at index k.\"\"\"\n",
    "        if not -self._n < k < self._n:\n",
    "            raise IndexError('Invalid index')\n",
    "        if self._n > k >= 0:\n",
    "            return self._A[k]                                           # retrieve from array\n",
    "        elif k < 0:\n",
    "            return self._A[self._n + k]\n",
    "        \n",
    "    def append(self, obj):\n",
    "        \"\"\"Add object to end of the array\"\"\"           \n",
    "        if self._n == self._capacity:                          # not enough room\n",
    "            self._resize(2 * self._capacity)                  # so double capacity\n",
    "        self._A[self._n] = obj\n",
    "        self._n += 1\n",
    "        \n",
    "    def pop(self):\n",
    "        \"\"\"remove object the last element of the array\"\"\"\n",
    "        B = self._make_array(self._n)                                 # new (bigger) array\n",
    "        for k in range(self._n):                                  # for each existing value\n",
    "            B[k] = self._A[k]\n",
    "        try:\n",
    "            if B[-1]:\n",
    "                self._A = B[:-1]                                             # use the bigger array\n",
    "        except:\n",
    "            raise IndexError('list is empty or index is out of range.')\n",
    "        self._n -= 1\n",
    "        \n",
    "        if self._n < self._capacity / 4:\n",
    "            self._resize( self._capacity // 2)\n",
    "    \n",
    "    def remove(self, value):\n",
    "        \"\"\"Remove first occurrence of value (or raise ValueError)\"\"\"\n",
    "        for k in range(self._n):\n",
    "            if self._A[k] == value:\n",
    "                for j in range(k, self._n - 1):\n",
    "                    self._A[j] = self._A[j + 1]\n",
    "                self._A[self._n - 1] = None # 这列表不是多了一个None么？\n",
    "                self._n -= 1\n",
    "                return\n",
    "        raise ValueError('Value not found')\n",
    "        \n",
    "    def _resize(self, c):                                             # nonpublic utitity\n",
    "        \"\"\"Resize internal array to capacity c.\"\"\"    \n",
    "        B = self._make_array(c)                                 # new (bigger) array\n",
    "        for k in range(self._n):                                  # for each existing value\n",
    "            B[k] = self._A[k]\n",
    "        self._A = B                                                    # use the bigger array\n",
    "        self._capacity = c\n",
    "        \n",
    "    def _make_array(self, c):                                  # nonpublic utitity\n",
    "        \"\"\"Return new array with capacity c.\"\"\"\n",
    "        return(c * ctypes.py_object)()                     # see ctypes documentation    "
   ]
  },
  {
   "cell_type": "code",
   "execution_count": 8,
   "metadata": {},
   "outputs": [],
   "source": [
    "da = DynamicArray_56()"
   ]
  },
  {
   "cell_type": "code",
   "execution_count": 9,
   "metadata": {},
   "outputs": [
    {
     "data": {
      "text/plain": [
       "(None, None, None, None)"
      ]
     },
     "execution_count": 9,
     "metadata": {},
     "output_type": "execute_result"
    }
   ],
   "source": [
    "da.append(1),da.append(2), da.append(4),da.append(4),"
   ]
  },
  {
   "cell_type": "code",
   "execution_count": 10,
   "metadata": {},
   "outputs": [
    {
     "data": {
      "text/plain": [
       "[1, 2, 4, 4]"
      ]
     },
     "execution_count": 10,
     "metadata": {},
     "output_type": "execute_result"
    }
   ],
   "source": [
    "list(da)"
   ]
  },
  {
   "cell_type": "code",
   "execution_count": 11,
   "metadata": {},
   "outputs": [],
   "source": [
    "da.remove(4)"
   ]
  },
  {
   "cell_type": "code",
   "execution_count": 12,
   "metadata": {},
   "outputs": [
    {
     "data": {
      "text/plain": [
       "[1, 2, 4]"
      ]
     },
     "execution_count": 12,
     "metadata": {},
     "output_type": "execute_result"
    }
   ],
   "source": [
    "list(da)"
   ]
  },
  {
   "cell_type": "code",
   "execution_count": 13,
   "metadata": {},
   "outputs": [],
   "source": [
    "da.remove(4)"
   ]
  },
  {
   "cell_type": "code",
   "execution_count": 14,
   "metadata": {},
   "outputs": [
    {
     "data": {
      "text/plain": [
       "[1, 2]"
      ]
     },
     "execution_count": 14,
     "metadata": {},
     "output_type": "execute_result"
    }
   ],
   "source": [
    "list(da)"
   ]
  },
  {
   "cell_type": "markdown",
   "metadata": {},
   "source": [
    "#### R-5.4"
   ]
  },
  {
   "cell_type": "code",
   "execution_count": 272,
   "metadata": {},
   "outputs": [
    {
     "data": {
      "text/plain": [
       "([1, 2, 4, 4], 4, 2)"
      ]
     },
     "execution_count": 272,
     "metadata": {},
     "output_type": "execute_result"
    }
   ],
   "source": [
    "import ctypes\n",
    "\n",
    "class DynamicArray_54:\n",
    "    \"\"\"A dynamic array class akin to a simplified Python list.\"\"\"\n",
    "    \n",
    "    def __init__(self):\n",
    "        \"\"\"Create an empty array\"\"\"\n",
    "        self._n = 0             # count actual elements\n",
    "        self._capacity = 1  # default array capacity\n",
    "        self._A = self._make_array(self._capacity)  # low-level array\n",
    "        \n",
    "    def __len__(self):\n",
    "        \"\"\"Return number of elements stored in the array.\"\"\"\n",
    "        return self._n\n",
    "    \n",
    "    def __getitem__(self, k):\n",
    "        \"\"\"Return element at index k.\"\"\"\n",
    "        if not -self._n < k < self._n:\n",
    "            raise IndexError('Invalid index')\n",
    "        if self._n > k >= 0:\n",
    "            return self._A[k]                                           # retrieve from array\n",
    "        elif k < 0:\n",
    "            return self._A[self._n + k]\n",
    "        \n",
    "    def append(self, obj):\n",
    "        \"\"\"Add object to end of the array\"\"\"           \n",
    "        if self._n == self._capacity:                          # not enough room\n",
    "            self._resize(2 * self._capacity)                  # so double capacity\n",
    "        self._A[self._n] = obj\n",
    "        self._n += 1\n",
    "        \n",
    "    def pop(self):\n",
    "        \"\"\"remove object the last element of the array\"\"\"\n",
    "        B = self._make_array(self._n)                                 # new (bigger) array\n",
    "        for k in range(self._n):                                  # for each existing value\n",
    "            B[k] = self._A[k]\n",
    "        try:\n",
    "            if B[-1]:\n",
    "                self._A = B[:-1]                                             # use the bigger array\n",
    "        except:\n",
    "            raise IndexError('list is empty or index is out of range.')\n",
    "        self._n -= 1\n",
    "        \n",
    "        if self._n < self._capacity / 4:\n",
    "            self._resize( self._capacity // 2)\n",
    "            \n",
    "    def _resize(self, c):                                             # nonpublic utitity\n",
    "        \"\"\"Resize internal array to capacity c.\"\"\"    \n",
    "        B = self._make_array(c)                                 # new (bigger) array\n",
    "        for k in range(self._n):                                  # for each existing value\n",
    "            B[k] = self._A[k]\n",
    "        self._A = B                                                    # use the bigger array\n",
    "        self._capacity = c\n",
    "        \n",
    "    def _make_array(self, c):                                  # nonpublic utitity\n",
    "        \"\"\"Return new array with capacity c.\"\"\"\n",
    "        return(c * ctypes.py_object)()                     # see ctypes documentation    \n",
    "\n",
    "da = DynamicArray_54()\n",
    "\n",
    "da.append(1),da.append(2), da.append(4),da.append(4),\n",
    "\n",
    "list(da), da[-1],da[-3]\n",
    "\n",
    "#da[8] # error\n",
    "\n",
    "#da[7] # error"
   ]
  },
  {
   "cell_type": "markdown",
   "metadata": {},
   "source": [
    "### 练习"
   ]
  },
  {
   "cell_type": "markdown",
   "metadata": {},
   "source": [
    "#### R-5.2"
   ]
  },
  {
   "cell_type": "code",
   "execution_count": 17,
   "metadata": {},
   "outputs": [
    {
     "name": "stdout",
     "output_type": "stream",
     "text": [
      "Length:   0; Size in bytes:   64\n",
      "Length:   1; Size in bytes:   96\n",
      "Length:   5; Size in bytes:  128\n",
      "Length:   9; Size in bytes:  192\n"
     ]
    }
   ],
   "source": [
    "import sys\n",
    "\n",
    "data = []\n",
    "n = 5\n",
    "\n",
    "for k in range(22):\n",
    "    a = len(data)\n",
    "    b = sys.getsizeof(data)\n",
    "    if a == 0:\n",
    "        print('Length: {0:3d}; Size in bytes: {1:4d}'.format(a, b))\n",
    "    elif b - 64 == 2 ** n:\n",
    "        print('Length: {0:3d}; Size in bytes: {1:4d}'.format(a, b))\n",
    "        n += 1\n",
    "    else:\n",
    "#         print('else', b, n)\n",
    "        pass\n",
    "    data.append(None)"
   ]
  },
  {
   "cell_type": "code",
   "execution_count": 23,
   "metadata": {},
   "outputs": [
    {
     "data": {
      "text/plain": [
       "True"
      ]
     },
     "execution_count": 23,
     "metadata": {},
     "output_type": "execute_result"
    }
   ],
   "source": [
    "len([None, None, None, None]) == n ** 2"
   ]
  },
  {
   "cell_type": "code",
   "execution_count": 13,
   "metadata": {},
   "outputs": [
    {
     "name": "stdout",
     "output_type": "stream",
     "text": [
      "Length:   0; Size in bytes:   64\n",
      "Length:   4; Size in bytes:   96\n",
      "Length:   8; Size in bytes:  128\n",
      "Length:  16; Size in bytes:  192\n",
      "Length:  25; Size in bytes:  264\n",
      "Length:  36; Size in bytes:  432\n"
     ]
    }
   ],
   "source": [
    "import sys\n",
    "\n",
    "data = []\n",
    "n = 0\n",
    "\n",
    "for k in range(42):\n",
    "    a = len(data)\n",
    "    b = sys.getsizeof(data)\n",
    "    if a == 0:\n",
    "        print('Length: {0:3d}; Size in bytes: {1:4d}'.format(a, b))\n",
    "        n += 2\n",
    "    elif a  == n ** 2:\n",
    "        if n == 3:\n",
    "                print('Length: {0:3d}; Size in bytes: {1:4d}'.format(a - 1, b - 64))\n",
    "        else:\n",
    "            print('Length: {0:3d}; Size in bytes: {1:4d}'.format(a, b))\n",
    "        n += 1\n",
    "    else:\n",
    "#         print('else', b, n)\n",
    "        pass\n",
    "    data.append(None)\n"
   ]
  },
  {
   "cell_type": "markdown",
   "metadata": {},
   "source": [
    "#### R-5.3"
   ]
  },
  {
   "cell_type": "code",
   "execution_count": 63,
   "metadata": {},
   "outputs": [],
   "source": [
    "import sys\n",
    "\n",
    "data = []\n",
    "for k in range(32):\n",
    "    a = len(data)\n",
    "    b = sys.getsizeof(data)\n",
    "#     print('Length: {0:3d}; Size in bytes: {1:4d}'.format(a, b))\n",
    "    data.append(1)"
   ]
  },
  {
   "cell_type": "code",
   "execution_count": 65,
   "metadata": {},
   "outputs": [
    {
     "name": "stdout",
     "output_type": "stream",
     "text": [
      "Length:  32; Size in bytes:  344\n",
      "Length:  31; Size in bytes:  344\n",
      "Length:  30; Size in bytes:  344\n",
      "Length:  29; Size in bytes:  344\n",
      "Length:  28; Size in bytes:  344\n",
      "Length:  27; Size in bytes:  344\n",
      "Length:  26; Size in bytes:  344\n",
      "Length:  25; Size in bytes:  344\n",
      "Length:  24; Size in bytes:  344\n",
      "Length:  23; Size in bytes:  344\n",
      "Length:  22; Size in bytes:  344\n",
      "Length:  21; Size in bytes:  344\n",
      "Length:  20; Size in bytes:  344\n",
      "Length:  19; Size in bytes:  344\n",
      "Length:  18; Size in bytes:  344\n",
      "Length:  17; Size in bytes:  344\n",
      "Length:  16; Size in bytes:  256\n",
      "Length:  15; Size in bytes:  256\n",
      "Length:  14; Size in bytes:  256\n",
      "Length:  13; Size in bytes:  256\n",
      "Length:  12; Size in bytes:  256\n",
      "Length:  11; Size in bytes:  208\n",
      "Length:  10; Size in bytes:  208\n",
      "Length:   9; Size in bytes:  208\n",
      "Length:   8; Size in bytes:  160\n",
      "Length:   7; Size in bytes:  160\n",
      "Length:   6; Size in bytes:  160\n",
      "Length:   5; Size in bytes:  128\n",
      "Length:   4; Size in bytes:  128\n",
      "Length:   3; Size in bytes:  112\n",
      "Length:   2; Size in bytes:  104\n",
      "Length:   1; Size in bytes:   96\n"
     ]
    }
   ],
   "source": [
    "for k in range(32):\n",
    "    a = len(data)\n",
    "    b = sys.getsizeof(data)\n",
    "    print('Length: {0:3d}; Size in bytes: {1:4d}'.format(a, b))\n",
    "    data.pop()"
   ]
  },
  {
   "cell_type": "markdown",
   "metadata": {},
   "source": [
    "### #创新"
   ]
  },
  {
   "cell_type": "markdown",
   "metadata": {},
   "source": [
    "#### C-5.13"
   ]
  },
  {
   "cell_type": "code",
   "execution_count": 16,
   "metadata": {},
   "outputs": [
    {
     "data": {
      "text/plain": [
       "96"
      ]
     },
     "execution_count": 16,
     "metadata": {},
     "output_type": "execute_result"
    }
   ],
   "source": [
    "data = ['a', 'b', 'c', 'd']\n",
    "\n",
    "sys.getsizeof(data)"
   ]
  },
  {
   "cell_type": "code",
   "execution_count": 18,
   "metadata": {},
   "outputs": [
    {
     "name": "stdout",
     "output_type": "stream",
     "text": [
      "Length:   5; Size in bytes:  128\n"
     ]
    }
   ],
   "source": [
    "import sys\n",
    "\n",
    "data = ['a', 'b', 'c', 'd']\n",
    "n = 5\n",
    "initial = sys.getsizeof(data)\n",
    "\n",
    "for k in range(22):\n",
    "    a = len(data)\n",
    "    b = sys.getsizeof(data)\n",
    "    if a == 0:\n",
    "        print('Length: {0:3d}; Size in bytes: {1:4d}'.format(a, b))\n",
    "    elif b - initial == 2 ** n:\n",
    "        print('Length: {0:3d}; Size in bytes: {1:4d}'.format(a, b))\n",
    "        n += 1\n",
    "    else:\n",
    "#         print('else', b, n)\n",
    "        pass\n",
    "    data.append(None)"
   ]
  },
  {
   "cell_type": "code",
   "execution_count": null,
   "metadata": {},
   "outputs": [],
   "source": [
    "import sys\n",
    "\n",
    "data = list('abcd')\n",
    "\n",
    "for k in range(22):\n",
    "    a = len(data)\n",
    "    b = sys.getsizeof(data)\n",
    "    print('Length: {0:3d}; Size in bytes: {1:4d}'.format(a, b))\n",
    "    data.append(None)"
   ]
  },
  {
   "cell_type": "code",
   "execution_count": null,
   "metadata": {},
   "outputs": [],
   "source": [
    "import sys\n",
    "\n",
    "data = list('abc')\n",
    "\n",
    "for k in range(22):\n",
    "    a = len(data)\n",
    "    b = sys.getsizeof(data)\n",
    "    print('Length: {0:3d}; Size in bytes: {1:4d}'.format(a, b))\n",
    "    data.append(None)"
   ]
  },
  {
   "cell_type": "code",
   "execution_count": null,
   "metadata": {},
   "outputs": [],
   "source": [
    "import sys\n",
    "\n",
    "data = list('ab')\n",
    "\n",
    "for k in range(22):\n",
    "    a = len(data)\n",
    "    b = sys.getsizeof(data)\n",
    "    print('Length: {0:3d}; Size in bytes: {1:4d}'.format(a, b))\n",
    "    data.append(None)"
   ]
  },
  {
   "cell_type": "code",
   "execution_count": null,
   "metadata": {},
   "outputs": [],
   "source": [
    "import sys\n",
    "\n",
    "data = list('a')\n",
    "\n",
    "for k in range(22):\n",
    "    a = len(data)\n",
    "    b = sys.getsizeof(data)\n",
    "    print('Length: {0:3d}; Size in bytes: {1:4d}'.format(a, b))\n",
    "    data.append(None)"
   ]
  },
  {
   "cell_type": "code",
   "execution_count": null,
   "metadata": {},
   "outputs": [],
   "source": [
    "import sys\n",
    "\n",
    "data = list('abcde')\n",
    "\n",
    "for k in range(22):\n",
    "    a = len(data)\n",
    "    b = sys.getsizeof(data)\n",
    "    print('Length: {0:3d}; Size in bytes: {1:4d}'.format(a, b))\n",
    "    data.append(None)"
   ]
  },
  {
   "cell_type": "markdown",
   "metadata": {},
   "source": [
    "#### C-5.16"
   ]
  },
  {
   "cell_type": "code",
   "execution_count": 43,
   "metadata": {},
   "outputs": [],
   "source": [
    "l1 = list('abbd')"
   ]
  },
  {
   "cell_type": "code",
   "execution_count": 44,
   "metadata": {},
   "outputs": [
    {
     "data": {
      "text/plain": [
       "'a'"
      ]
     },
     "execution_count": 44,
     "metadata": {},
     "output_type": "execute_result"
    }
   ],
   "source": [
    "l1.pop(0)"
   ]
  },
  {
   "cell_type": "code",
   "execution_count": 45,
   "metadata": {},
   "outputs": [
    {
     "data": {
      "text/plain": [
       "['b', 'b', 'd']"
      ]
     },
     "execution_count": 45,
     "metadata": {},
     "output_type": "execute_result"
    }
   ],
   "source": [
    "l1 "
   ]
  },
  {
   "cell_type": "code",
   "execution_count": 7,
   "metadata": {},
   "outputs": [],
   "source": [
    "del l1[-1]"
   ]
  },
  {
   "cell_type": "code",
   "execution_count": 8,
   "metadata": {},
   "outputs": [
    {
     "data": {
      "text/plain": [
       "['a', 'b', 'b']"
      ]
     },
     "execution_count": 8,
     "metadata": {},
     "output_type": "execute_result"
    }
   ],
   "source": [
    "l1"
   ]
  },
  {
   "cell_type": "code",
   "execution_count": null,
   "metadata": {},
   "outputs": [],
   "source": []
  },
  {
   "cell_type": "code",
   "execution_count": 85,
   "metadata": {},
   "outputs": [],
   "source": [
    "import ctypes\n",
    "\n",
    "class DynamicArray_516:\n",
    "    \"\"\"A dynamic array class akin to a simplified Python list.\"\"\"\n",
    "    \n",
    "    def __init__(self):\n",
    "        \"\"\"Create an empty array\"\"\"\n",
    "        self._n = 0             # count actual elements\n",
    "        self._capacity = 8  # default array capacity\n",
    "        self._A = self._make_array(self._capacity)  # low-level array\n",
    "        \n",
    "    def __len__(self):\n",
    "        \"\"\"Return number of elements stored in the array.\"\"\"\n",
    "        return self._n\n",
    "    \n",
    "    def __getitem__(self, k):\n",
    "        \"\"\"Return element at index k.\"\"\"\n",
    "        if not 0 < k < self._n:\n",
    "            raise IndexError('Invalid index')\n",
    "        return self._A[k]                                           # retrieve from array\n",
    "    \n",
    "    def append(self, obj):\n",
    "        \"\"\"Add object to end of the array\"\"\"           \n",
    "        if self._n == self._capacity:                          # not enough room\n",
    "            self._resize(2 * self._capacity)                  # so double capacity\n",
    "        self._A[self._n] = obj\n",
    "        self._n += 1\n",
    "        \n",
    "    def pop(self):\n",
    "        \"\"\"remove object the last element of the array\"\"\"\n",
    "        B = self._make_array(self._n)                                 # new (bigger) array\n",
    "        for k in range(self._n):                                  # for each existing value\n",
    "            B[k] = self._A[k]\n",
    "        try:\n",
    "            if B[-1]:\n",
    "                self._A = B[:-1]                                             # use the bigger array\n",
    "        except:\n",
    "            raise IndexError('list is empty or index is out of range.')\n",
    "        self._n -= 1\n",
    "        \n",
    "        if self._n < self._capacity / 4:\n",
    "            self._resize( self._capacity // 2)\n",
    "        \n",
    "        print('pop移除的元素是:{0};数组大小是:{1}'.format(B[-1], self._capacity))\n",
    "        \n",
    "    def _resize(self, c):                                             # nonpublic utitity\n",
    "        \"\"\"Resize internal array to capacity c.\"\"\"    \n",
    "        B = self._make_array(c)                                 # new (bigger) array\n",
    "        for k in range(self._n):                                  # for each existing value\n",
    "            B[k] = self._A[k]\n",
    "        self._A = B                                                    # use the bigger array\n",
    "        self._capacity = c\n",
    "        \n",
    "    def _make_array(self, c):                                  # nonpublic utitity\n",
    "        \"\"\"Return new array with capacity c.\"\"\"\n",
    "        return(c * ctypes.py_object)()                     # see ctypes documentation    "
   ]
  },
  {
   "cell_type": "code",
   "execution_count": 145,
   "metadata": {},
   "outputs": [],
   "source": [
    "da = DynamicArray()"
   ]
  },
  {
   "cell_type": "code",
   "execution_count": 146,
   "metadata": {},
   "outputs": [
    {
     "data": {
      "text/plain": [
       "(None, None, None, None, None, None, None, None)"
      ]
     },
     "execution_count": 146,
     "metadata": {},
     "output_type": "execute_result"
    }
   ],
   "source": [
    "da.append(1), da.append('a'), da.append(3), da.append('b'),da.append(1), da.append('a'), da.append(3), da.append('b')"
   ]
  },
  {
   "cell_type": "code",
   "execution_count": 147,
   "metadata": {},
   "outputs": [
    {
     "data": {
      "text/plain": [
       "8"
      ]
     },
     "execution_count": 147,
     "metadata": {},
     "output_type": "execute_result"
    }
   ],
   "source": [
    "len(da)"
   ]
  },
  {
   "cell_type": "code",
   "execution_count": 152,
   "metadata": {},
   "outputs": [
    {
     "name": "stdout",
     "output_type": "stream",
     "text": [
      "POP移除的元素是b, 数组大小是4\n"
     ]
    }
   ],
   "source": [
    "da.pop()"
   ]
  },
  {
   "cell_type": "code",
   "execution_count": 153,
   "metadata": {},
   "outputs": [
    {
     "data": {
      "text/plain": [
       "3"
      ]
     },
     "execution_count": 153,
     "metadata": {},
     "output_type": "execute_result"
    }
   ],
   "source": [
    "len(da)"
   ]
  },
  {
   "cell_type": "code",
   "execution_count": 66,
   "metadata": {},
   "outputs": [
    {
     "data": {
      "text/plain": [
       "[1, 'a']"
      ]
     },
     "execution_count": 66,
     "metadata": {},
     "output_type": "execute_result"
    }
   ],
   "source": [
    "list(da) # 不使 list，无法显示"
   ]
  },
  {
   "cell_type": "code",
   "execution_count": 130,
   "metadata": {},
   "outputs": [
    {
     "data": {
      "text/plain": [
       "2.6666666666666665"
      ]
     },
     "execution_count": 130,
     "metadata": {},
     "output_type": "execute_result"
    }
   ],
   "source": [
    "8 /3 "
   ]
  },
  {
   "cell_type": "code",
   "execution_count": 131,
   "metadata": {},
   "outputs": [
    {
     "data": {
      "text/plain": [
       "4"
      ]
     },
     "execution_count": 131,
     "metadata": {},
     "output_type": "execute_result"
    }
   ],
   "source": [
    "9 // 2"
   ]
  },
  {
   "cell_type": "code",
   "execution_count": 154,
   "metadata": {},
   "outputs": [
    {
     "data": {
      "text/plain": [
       "1"
      ]
     },
     "execution_count": 154,
     "metadata": {},
     "output_type": "execute_result"
    }
   ],
   "source": [
    "9 % 2"
   ]
  },
  {
   "cell_type": "markdown",
   "metadata": {},
   "source": [
    "#### #5-4 测量Python列表类增添操作的摊销花费"
   ]
  },
  {
   "cell_type": "code",
   "execution_count": 6,
   "metadata": {},
   "outputs": [],
   "source": [
    "from time import time\n",
    "\n",
    "def compute_average(n):\n",
    "    \"\"\"Perform n appends to an empty list and return average time elapsed.\"\"\"\n",
    "    data = []\n",
    "    start = time()\n",
    "    for k in range(n):\n",
    "        data.append(None)\n",
    "    end = time()\n",
    "    return (end - start)"
   ]
  },
  {
   "cell_type": "code",
   "execution_count": 14,
   "metadata": {},
   "outputs": [
    {
     "data": {
      "text/plain": [
       "0.00400090217590332"
      ]
     },
     "execution_count": 14,
     "metadata": {},
     "output_type": "execute_result"
    }
   ],
   "source": [
    "compute_average(10000)"
   ]
  },
  {
   "cell_type": "code",
   "execution_count": 15,
   "metadata": {},
   "outputs": [
    {
     "data": {
      "text/plain": [
       "0.013002395629882812"
      ]
     },
     "execution_count": 15,
     "metadata": {},
     "output_type": "execute_result"
    }
   ],
   "source": [
    "compute_average(100000)"
   ]
  },
  {
   "cell_type": "code",
   "execution_count": 16,
   "metadata": {},
   "outputs": [
    {
     "data": {
      "text/plain": [
       "0.0800180435180664"
      ]
     },
     "execution_count": 16,
     "metadata": {},
     "output_type": "execute_result"
    }
   ],
   "source": [
    "compute_average(1000000)"
   ]
  },
  {
   "cell_type": "code",
   "execution_count": 17,
   "metadata": {},
   "outputs": [
    {
     "data": {
      "text/plain": [
       "0.8006329536437988"
      ]
     },
     "execution_count": 17,
     "metadata": {},
     "output_type": "execute_result"
    }
   ],
   "source": [
    "compute_average(10000000)"
   ]
  },
  {
   "cell_type": "code",
   "execution_count": 18,
   "metadata": {},
   "outputs": [
    {
     "data": {
      "text/plain": [
       "0.006001949310302734"
      ]
     },
     "execution_count": 18,
     "metadata": {},
     "output_type": "execute_result"
    }
   ],
   "source": [
    "compute_average(100000)"
   ]
  },
  {
   "cell_type": "markdown",
   "metadata": {},
   "source": [
    "字典比较"
   ]
  },
  {
   "cell_type": "code",
   "execution_count": 1,
   "metadata": {},
   "outputs": [
    {
     "ename": "TypeError",
     "evalue": "'<' not supported between instances of 'dict' and 'dict'",
     "output_type": "error",
     "traceback": [
      "\u001b[1;31m---------------------------------------------------------------------------\u001b[0m",
      "\u001b[1;31mTypeError\u001b[0m                                 Traceback (most recent call last)",
      "\u001b[1;32m<ipython-input-1-08eb03d4edf8>\u001b[0m in \u001b[0;36m<module>\u001b[1;34m\u001b[0m\n\u001b[0;32m      2\u001b[0m \u001b[0mb\u001b[0m \u001b[1;33m=\u001b[0m \u001b[1;33m{\u001b[0m\u001b[1;34m'b'\u001b[0m\u001b[1;33m:\u001b[0m \u001b[1;36m2\u001b[0m\u001b[1;33m}\u001b[0m\u001b[1;33m\u001b[0m\u001b[1;33m\u001b[0m\u001b[0m\n\u001b[0;32m      3\u001b[0m \u001b[1;33m\u001b[0m\u001b[0m\n\u001b[1;32m----> 4\u001b[1;33m \u001b[0ma\u001b[0m \u001b[1;33m<\u001b[0m \u001b[0mb\u001b[0m\u001b[1;33m\u001b[0m\u001b[1;33m\u001b[0m\u001b[0m\n\u001b[0m",
      "\u001b[1;31mTypeError\u001b[0m: '<' not supported between instances of 'dict' and 'dict'"
     ]
    }
   ],
   "source": [
    "a = {'a': 1}\n",
    "b = {'b': 2}\n",
    "\n",
    "a < b"
   ]
  },
  {
   "cell_type": "markdown",
   "metadata": {},
   "source": [
    "#### #5-5 DynamicArray类insert方法的实现"
   ]
  },
  {
   "cell_type": "markdown",
   "metadata": {},
   "source": [
    "？如何给已定义好的类添加方法？"
   ]
  },
  {
   "cell_type": "code",
   "execution_count": 3,
   "metadata": {},
   "outputs": [],
   "source": [
    "def insert(self, k , value):\n",
    "    \"\"\"Insert value at index k , shifting subsequent values rightward.\"\"\"\n",
    "    # (for simplicity, we assume 0<= k <=n in this version)\n",
    "    if self._n == self._capacity:\n",
    "        self._resize(2 * self._capacity)\n",
    "    for j in range(self._n, k, -1):\n",
    "        self._A[j] = self._A[j - 1]\n",
    "    self._A[k] = value\n",
    "    self._n += 1"
   ]
  },
  {
   "cell_type": "markdown",
   "metadata": {},
   "source": [
    "#### #5-7"
   ]
  },
  {
   "cell_type": "code",
   "execution_count": 36,
   "metadata": {},
   "outputs": [],
   "source": [
    "class GameEntry:\n",
    "    \"\"\"Represents one entry of a list of high scores.\"\"\"\n",
    "    def __init__(self, name, score):\n",
    "        self._name = name\n",
    "        self._score = score\n",
    "        \n",
    "    def get_name(self):\n",
    "        return self._name\n",
    "    \n",
    "    def get_score(self):\n",
    "        return self._score\n",
    "    \n",
    "    def __str__(self):\n",
    "        return '({0}, {1})'.format(self._name, self._score)"
   ]
  },
  {
   "cell_type": "code",
   "execution_count": null,
   "metadata": {},
   "outputs": [],
   "source": [
    "class Scoreboard:\n",
    "    \"\"\"Fixed-length sequence of high scores in nondecreasing order\"\"\"\n",
    "    \n",
    "    def _init__(self, capacity=100):\n",
    "        self._board = [None] * capacity\n",
    "        self._n = 0\n",
    "        \n",
    "    def __getitem__(self, k):\n",
    "        return self._board[k]\n",
    "    \n",
    "    def __str__(self):\n",
    "        return '\\n'.join(str(self._board[j]) for j in range(self._n))\n",
    "    \n",
    "    def add(self, entry):\n",
    "        score = entry.get_score()\n",
    "        good = self._n < len(self._board) or score >self._board[-1].get_score()\n",
    "        if good:\n",
    "            if self._n < len(self._board):\n",
    "                self._n += 1\n",
    "            j = self._n - 1\n",
    "            while j > 0 and self._board[j-1].get_score() < score:\n",
    "                self._borad[j] = self._board[j - 1]\n",
    "                j -= 1\n",
    "            self._board[j] = entry"
   ]
  },
  {
   "cell_type": "markdown",
   "metadata": {},
   "source": [
    "#### #5-10"
   ]
  },
  {
   "cell_type": "code",
   "execution_count": 37,
   "metadata": {},
   "outputs": [],
   "source": [
    "def insertion_sort(a):\n",
    "    \"\"\"Sort list of comparable elements into nondecreasing order.\"\"\"\n",
    "    for k in range(1, len(a)):\n",
    "        cur = a[k]\n",
    "        j = k\n",
    "        while j > 0 and a[j-1] > cur:\n",
    "            a[j] = a[j - 1]\n",
    "            j -= 1\n",
    "        a[j] = cur"
   ]
  },
  {
   "cell_type": "markdown",
   "metadata": {},
   "source": [
    "#### #5-11"
   ]
  },
  {
   "cell_type": "code",
   "execution_count": 45,
   "metadata": {},
   "outputs": [
    {
     "data": {
      "text/plain": [
       "'X'"
      ]
     },
     "execution_count": 45,
     "metadata": {},
     "output_type": "execute_result"
    }
   ],
   "source": [
    "chr(88)"
   ]
  },
  {
   "cell_type": "code",
   "execution_count": 48,
   "metadata": {},
   "outputs": [
    {
     "data": {
      "text/plain": [
       "'I'"
      ]
     },
     "execution_count": 48,
     "metadata": {},
     "output_type": "execute_result"
    }
   ],
   "source": [
    "chr(8 % 26 + 65)"
   ]
  },
  {
   "cell_type": "code",
   "execution_count": 49,
   "metadata": {},
   "outputs": [
    {
     "name": "stdout",
     "output_type": "stream",
     "text": [
      "['D', 'E', 'F', 'G', 'H', 'I', 'J', 'K', 'L', 'M', 'N', 'O', 'P', 'Q', 'R', 'S', 'T', 'U', 'V', 'W', 'X', 'Y', 'Z', 'A', 'B', 'C']\n",
      "['X', 'Y', 'Z', 'A', 'B', 'C', 'D', 'E', 'F', 'G', 'H', 'I', 'J', 'K', 'L', 'M', 'N', 'O', 'P', 'Q', 'R', 'S', 'T', 'U', 'V', 'W']\n"
     ]
    },
    {
     "data": {
      "text/plain": [
       "(None, None)"
      ]
     },
     "execution_count": 49,
     "metadata": {},
     "output_type": "execute_result"
    }
   ],
   "source": [
    "encode = [None] * 26\n",
    "decode = [None] * 26\n",
    "\n",
    "for k in range(26):\n",
    "    encode[k] = chr((k + 3) % 26 + ord('A'))\n",
    "    decode[k] = chr((k - 3) % 26 + ord('A'))\n",
    "\n",
    "print(encode), print(decode)\n"
   ]
  },
  {
   "cell_type": "code",
   "execution_count": 50,
   "metadata": {},
   "outputs": [
    {
     "name": "stdout",
     "output_type": "stream",
     "text": [
      "Secret:  WKH HDJOH LV LQ SODB; PHHW DW MRH\"V.\n",
      "Message: THE EAGLE IS IN PLAY; MEET AT JOE\"S.\n"
     ]
    }
   ],
   "source": [
    "class CaesarCipher:\n",
    "    \"\"\"Class for doing encryption and decryption using a Casesar cipher.\"\"\"\n",
    "    \n",
    "    def __init__(self, shift):\n",
    "        encoder = [None] * 26\n",
    "        decoder = [None] * 26\n",
    "        for k in range(26):\n",
    "            encoder[k] = chr((k + shift) % 26 + ord('A'))\n",
    "            decoder[k] = chr((k - shift) % 26 + ord('A'))\n",
    "        self._forward = ''.join(encoder)\n",
    "        self._backward = ''.join(decoder)\n",
    "        \n",
    "    def encrypt(self, message):\n",
    "        return self._transform(message, self._forward)\n",
    "    \n",
    "    def decrypt(self, secret):\n",
    "        return self._transform(secret, self._backward)\n",
    "    \n",
    "    def _transform(self, original, code):\n",
    "        msg = list(original)\n",
    "        for k in range(len(msg)):\n",
    "            if msg[k].isupper():\n",
    "                j = ord(msg[k]) - ord('A')\n",
    "                msg[k] = code[j]\n",
    "        return ''.join(msg)\n",
    "    \n",
    "if __name__ == '__main__':\n",
    "    cipher = CaesarCipher(3)\n",
    "    message = 'THE EAGLE IS IN PLAY; MEET AT JOE\"S.'\n",
    "    coded = cipher.encrypt(message)\n",
    "    print('Secret: ', coded)\n",
    "    answer = cipher.decrypt(coded)\n",
    "    print('Message:', answer)"
   ]
  },
  {
   "cell_type": "markdown",
   "metadata": {},
   "source": [
    "#### #5-6"
   ]
  },
  {
   "cell_type": "code",
   "execution_count": 51,
   "metadata": {},
   "outputs": [
    {
     "data": {
      "text/plain": [
       "[2, 4, 3, 2, 4, 3]"
      ]
     },
     "execution_count": 51,
     "metadata": {},
     "output_type": "execute_result"
    }
   ],
   "source": [
    "[2,4,3] * 2"
   ]
  },
  {
   "cell_type": "code",
   "execution_count": 53,
   "metadata": {},
   "outputs": [
    {
     "data": {
      "text/plain": [
       "[[0, 0], [0, 0], [0, 0]]"
      ]
     },
     "execution_count": 53,
     "metadata": {},
     "output_type": "execute_result"
    }
   ],
   "source": [
    "data = [[0] * 2] * 3\n",
    "data"
   ]
  },
  {
   "cell_type": "code",
   "execution_count": 54,
   "metadata": {},
   "outputs": [
    {
     "data": {
      "text/plain": [
       "[[100, 0], [100, 0], [100, 0]]"
      ]
     },
     "execution_count": 54,
     "metadata": {},
     "output_type": "execute_result"
    }
   ],
   "source": [
    "data[2][0] = 100\n",
    "data"
   ]
  },
  {
   "cell_type": "code",
   "execution_count": 57,
   "metadata": {},
   "outputs": [
    {
     "data": {
      "text/plain": [
       "[[2, 4, 3, 2, 4, 3], [2, 4, 3, 2, 4, 3], [2, 4, 3, 2, 4, 3]]"
      ]
     },
     "execution_count": 57,
     "metadata": {},
     "output_type": "execute_result"
    }
   ],
   "source": [
    "[[2,4,3] * 2 for j in range(3)]"
   ]
  },
  {
   "cell_type": "markdown",
   "metadata": {},
   "source": [
    "### 练习"
   ]
  },
  {
   "cell_type": "markdown",
   "metadata": {},
   "source": [
    "#### #R-5.5"
   ]
  },
  {
   "cell_type": "code",
   "execution_count": 66,
   "metadata": {},
   "outputs": [],
   "source": [
    "import ctypes\n",
    "\n",
    "class DynamicArray_r56:\n",
    "    \"\"\"A dynamic array class akin to a simplified Python list.\"\"\"\n",
    "    \n",
    "    def __init__(self):\n",
    "        \"\"\"Create an empty array\"\"\"\n",
    "        self._n = 0             # count actual elements\n",
    "        self._capacity = 1  # default array capacity\n",
    "        self._A = self._make_array(self._capacity)  # low-level array\n",
    "        \n",
    "    def __len__(self):\n",
    "        \"\"\"Return number of elements stored in the array.\"\"\"\n",
    "        return self._n\n",
    "    \n",
    "    def __getitem__(self, k):\n",
    "        \"\"\"Return element at index k.\"\"\"\n",
    "        if not 0 <= k < self._n:\n",
    "            raise IndexError('Invalid index')\n",
    "        return self._A[k]                                           # retrieve from array\n",
    "    \n",
    "    def append(self, obj):\n",
    "        \"\"\"Add object to end of the array\"\"\"           \n",
    "        if self._n == self._capacity:                          # not enough room\n",
    "            self._resize(2 * self._capacity)                  # so double capacity\n",
    "        self._A[self._n] = obj\n",
    "        self._n += 1\n",
    "        \n",
    "    def insert(self, k , value):\n",
    "        # (for simplicity, we assume 0<= k <=n in this version)\n",
    "        if self._n == self._capacity:\n",
    "            self._resize(2 * self._capacity)\n",
    "        else:\n",
    "            for j in range(self._n, k, -1):\n",
    "                self._A[j] = self._A[j - 1]\n",
    "            self._A[k] = value\n",
    "            self._n += 1\n",
    "\n",
    "    def _resize(self, c):                                             # nonpublic utitity\n",
    "        \"\"\"Resize internal array to capacity c.\"\"\"    \n",
    "        B = self._make_array(c)                                 # new (bigger) array\n",
    "        for k in range(self._n):                                  # for each existing value\n",
    "            B[k] = self._A[k]\n",
    "        self._A = B                                                    # use the bigger array\n",
    "        self._capacity = c\n",
    "        \n",
    "    def _make_array(self, c):                                  # nonpublic utitity\n",
    "        \"\"\"Return new array with capacity c.\"\"\"\n",
    "        return(c * ctypes.py_object)()                     # see ctypes documentation    "
   ]
  },
  {
   "cell_type": "markdown",
   "metadata": {},
   "source": [
    "#### #R-5.10"
   ]
  },
  {
   "cell_type": "code",
   "execution_count": 69,
   "metadata": {},
   "outputs": [
    {
     "name": "stdout",
     "output_type": "stream",
     "text": [
      "Secret:  WKH HDJOH LV LQ SODB; PHHW DW MRH\"V.\n",
      "Message: THE EAGLE IS IN PLAY; MEET AT JOE\"S.\n"
     ]
    }
   ],
   "source": [
    "class CaesarCipher:\n",
    "    \"\"\"Class for doing encryption and decryption using a Casesar cipher.\"\"\"\n",
    "    \n",
    "    def __init__(self, shift):\n",
    "        self._forward = ''.join([chr((k + shift) % 26 + ord('A')) for k in range(26)])\n",
    "        self._backward = ''.join([chr((k - shift) % 26 + ord('A')) for k in range(26)])\n",
    "        \n",
    "    def encrypt(self, message):\n",
    "        return self._transform(message, self._forward)\n",
    "    \n",
    "    def decrypt(self, secret):\n",
    "        return self._transform(secret, self._backward)\n",
    "    \n",
    "    def _transform(self, original, code):\n",
    "        msg = list(original)\n",
    "        for k in range(len(msg)):\n",
    "            if msg[k].isupper():\n",
    "                j = ord(msg[k]) - ord('A')\n",
    "                msg[k] = code[j]\n",
    "        return ''.join(msg)\n",
    "    \n",
    "if __name__ == '__main__':\n",
    "    cipher = CaesarCipher(3)\n",
    "    message = 'THE EAGLE IS IN PLAY; MEET AT JOE\"S.'\n",
    "    coded = cipher.encrypt(message)\n",
    "    print('Secret: ', coded)\n",
    "    answer = cipher.decrypt(coded)\n",
    "    print('Message:', answer)"
   ]
  },
  {
   "cell_type": "markdown",
   "metadata": {},
   "source": [
    "#### #R-5.11& R-5.12"
   ]
  },
  {
   "cell_type": "code",
   "execution_count": 73,
   "metadata": {},
   "outputs": [],
   "source": [
    "matrix55 = [[1,2,3,5,6] * 1 for j in range(5)]"
   ]
  },
  {
   "cell_type": "code",
   "execution_count": 74,
   "metadata": {},
   "outputs": [
    {
     "ename": "TypeError",
     "evalue": "unsupported operand type(s) for +: 'int' and 'list'",
     "output_type": "error",
     "traceback": [
      "\u001b[1;31m---------------------------------------------------------------------------\u001b[0m",
      "\u001b[1;31mTypeError\u001b[0m                                 Traceback (most recent call last)",
      "\u001b[1;32m<ipython-input-74-855834e3bac6>\u001b[0m in \u001b[0;36m<module>\u001b[1;34m\u001b[0m\n\u001b[1;32m----> 1\u001b[1;33m \u001b[0msum\u001b[0m\u001b[1;33m(\u001b[0m\u001b[0mmatrix55\u001b[0m\u001b[1;33m)\u001b[0m\u001b[1;33m\u001b[0m\u001b[1;33m\u001b[0m\u001b[0m\n\u001b[0m",
      "\u001b[1;31mTypeError\u001b[0m: unsupported operand type(s) for +: 'int' and 'list'"
     ]
    }
   ],
   "source": [
    "sum(matrix55)"
   ]
  },
  {
   "cell_type": "code",
   "execution_count": 75,
   "metadata": {},
   "outputs": [
    {
     "data": {
      "text/plain": [
       "[[1, 2, 3, 5, 6],\n",
       " [1, 2, 3, 5, 6],\n",
       " [1, 2, 3, 5, 6],\n",
       " [1, 2, 3, 5, 6],\n",
       " [1, 2, 3, 5, 6]]"
      ]
     },
     "execution_count": 75,
     "metadata": {},
     "output_type": "execute_result"
    }
   ],
   "source": [
    "matrix55"
   ]
  },
  {
   "cell_type": "code",
   "execution_count": 80,
   "metadata": {},
   "outputs": [
    {
     "name": "stdout",
     "output_type": "stream",
     "text": [
      "85\n"
     ]
    }
   ],
   "source": [
    "num = 0 # R-5.11\n",
    "\n",
    "for i in matrix55:\n",
    "    for h in i:\n",
    "        num += h\n",
    "        \n",
    "print(num)"
   ]
  },
  {
   "cell_type": "code",
   "execution_count": 76,
   "metadata": {},
   "outputs": [],
   "source": [
    "sum55 = 0 # R-5.12\n",
    "\n",
    "for i in matrix55:\n",
    "    sum55 += sum(i)"
   ]
  },
  {
   "cell_type": "code",
   "execution_count": 77,
   "metadata": {},
   "outputs": [
    {
     "data": {
      "text/plain": [
       "85"
      ]
     },
     "execution_count": 77,
     "metadata": {},
     "output_type": "execute_result"
    }
   ],
   "source": [
    "sum55"
   ]
  },
  {
   "cell_type": "code",
   "execution_count": 79,
   "metadata": {},
   "outputs": [
    {
     "data": {
      "text/plain": [
       "85"
      ]
     },
     "execution_count": 79,
     "metadata": {},
     "output_type": "execute_result"
    }
   ],
   "source": [
    "sum(matrix55[0]) * 5 # 错的 n和n之间不一定相同"
   ]
  },
  {
   "cell_type": "markdown",
   "metadata": {},
   "source": [
    "#### R-5.8"
   ]
  },
  {
   "cell_type": "code",
   "execution_count": 38,
   "metadata": {},
   "outputs": [],
   "source": [
    "from time import time\n",
    "\n",
    "def compute_r58():\n",
    "    for i in [1000, 100000, 1000000, 10000000]:\n",
    "        data = [1] * i \n",
    "        start = time()\n",
    "        for k in range(i):\n",
    "            data.pop()\n",
    "        end = time()\n",
    "        print(end - start)"
   ]
  },
  {
   "cell_type": "code",
   "execution_count": 50,
   "metadata": {},
   "outputs": [],
   "source": [
    "from time import time\n",
    "\n",
    "def compute_r58():\n",
    "    for i in [1000, 10000, 50000, 100000]:\n",
    "        data = [1] * i \n",
    "        start = time()\n",
    "        for k in range(i):\n",
    "            data.pop(0)\n",
    "        end = time()\n",
    "        print(end - start)"
   ]
  },
  {
   "cell_type": "code",
   "execution_count": 51,
   "metadata": {},
   "outputs": [
    {
     "name": "stdout",
     "output_type": "stream",
     "text": [
      "0.0\n",
      "0.011002540588378906\n",
      "0.3078482151031494\n",
      "1.1511106491088867\n"
     ]
    }
   ],
   "source": [
    "compute_r58() # pop(0)"
   ]
  },
  {
   "cell_type": "code",
   "execution_count": 56,
   "metadata": {},
   "outputs": [],
   "source": [
    "from time import time\n",
    "\n",
    "def compute_r58():\n",
    "    for i in [1000, 10000, 50000, 100000]:\n",
    "        data = [1] * i \n",
    "        start = time()\n",
    "        for k in range(i):\n",
    "            data.pop(i // 2)\n",
    "            i -= 1\n",
    "        end = time()\n",
    "        print(end - start)"
   ]
  },
  {
   "cell_type": "code",
   "execution_count": 57,
   "metadata": {},
   "outputs": [
    {
     "name": "stdout",
     "output_type": "stream",
     "text": [
      "0.0009999275207519531\n",
      "0.00600123405456543\n",
      "0.14557266235351562\n",
      "0.6065120697021484\n"
     ]
    }
   ],
   "source": [
    "compute_r58() # pop(n // 2)"
   ]
  },
  {
   "cell_type": "code",
   "execution_count": 54,
   "metadata": {},
   "outputs": [],
   "source": [
    "from time import time\n",
    "\n",
    "def compute_r58():\n",
    "    for i in [1000, 10000, 50000, 100000]:\n",
    "        data = [1] * i \n",
    "        start = time()\n",
    "        for k in range(i):\n",
    "            data.pop()\n",
    "        end = time()\n",
    "        print(end - start)"
   ]
  },
  {
   "cell_type": "code",
   "execution_count": 55,
   "metadata": {},
   "outputs": [
    {
     "name": "stdout",
     "output_type": "stream",
     "text": [
      "0.0\n",
      "0.0009989738464355469\n",
      "0.004001140594482422\n",
      "0.008001327514648438\n"
     ]
    }
   ],
   "source": [
    "compute_r58() # pop()"
   ]
  },
  {
   "cell_type": "markdown",
   "metadata": {},
   "source": [
    "#### R-5.7"
   ]
  },
  {
   "cell_type": "code",
   "execution_count": 211,
   "metadata": {},
   "outputs": [],
   "source": [
    "da = DynamicArray_54()"
   ]
  },
  {
   "cell_type": "code",
   "execution_count": 212,
   "metadata": {},
   "outputs": [
    {
     "data": {
      "text/plain": [
       "(None, None, None, None, None, None, None)"
      ]
     },
     "execution_count": 212,
     "metadata": {},
     "output_type": "execute_result"
    }
   ],
   "source": [
    "da.append(2), da.append(1), da.append(11), da.append(5),da.append(4), da.append(2), da.append(3)"
   ]
  },
  {
   "cell_type": "code",
   "execution_count": 213,
   "metadata": {},
   "outputs": [
    {
     "data": {
      "text/plain": [
       "7"
      ]
     },
     "execution_count": 213,
     "metadata": {},
     "output_type": "execute_result"
    }
   ],
   "source": [
    "len(da)"
   ]
  },
  {
   "cell_type": "code",
   "execution_count": 214,
   "metadata": {},
   "outputs": [
    {
     "data": {
      "text/plain": [
       "[2, 1, 11, 5, 4, 2, 3]"
      ]
     },
     "execution_count": 214,
     "metadata": {},
     "output_type": "execute_result"
    }
   ],
   "source": [
    "list(da)"
   ]
  },
  {
   "cell_type": "code",
   "execution_count": 215,
   "metadata": {},
   "outputs": [
    {
     "name": "stdout",
     "output_type": "stream",
     "text": [
      "Find: 2 2\n"
     ]
    }
   ],
   "source": [
    "n = 1\n",
    "\n",
    "for i in range(len(da) - 1):\n",
    "    for h in list(da)[n: ]:\n",
    "        if da[i]== h:\n",
    "            print('Find:', da[i], h)\n",
    "        else:\n",
    "            pass\n",
    "    n  += 1"
   ]
  },
  {
   "cell_type": "code",
   "execution_count": 187,
   "metadata": {},
   "outputs": [
    {
     "ename": "TypeError",
     "evalue": "'<' not supported between instances of 'int' and 'slice'",
     "output_type": "error",
     "traceback": [
      "\u001b[1;31m---------------------------------------------------------------------------\u001b[0m",
      "\u001b[1;31mTypeError\u001b[0m                                 Traceback (most recent call last)",
      "\u001b[1;32m<ipython-input-187-ffdd3d164fb8>\u001b[0m in \u001b[0;36m<module>\u001b[1;34m\u001b[0m\n\u001b[1;32m----> 1\u001b[1;33m \u001b[0mda\u001b[0m\u001b[1;33m[\u001b[0m\u001b[1;36m1\u001b[0m\u001b[1;33m:\u001b[0m\u001b[1;33m]\u001b[0m\u001b[1;33m\u001b[0m\u001b[1;33m\u001b[0m\u001b[0m\n\u001b[0m",
      "\u001b[1;32m<ipython-input-180-28683ff08db4>\u001b[0m in \u001b[0;36m__getitem__\u001b[1;34m(self, k)\u001b[0m\n\u001b[0;32m     16\u001b[0m     \u001b[1;32mdef\u001b[0m \u001b[0m__getitem__\u001b[0m\u001b[1;33m(\u001b[0m\u001b[0mself\u001b[0m\u001b[1;33m,\u001b[0m \u001b[0mk\u001b[0m\u001b[1;33m)\u001b[0m\u001b[1;33m:\u001b[0m\u001b[1;33m\u001b[0m\u001b[1;33m\u001b[0m\u001b[0m\n\u001b[0;32m     17\u001b[0m         \u001b[1;34m\"\"\"Return element at index k.\"\"\"\u001b[0m\u001b[1;33m\u001b[0m\u001b[1;33m\u001b[0m\u001b[0m\n\u001b[1;32m---> 18\u001b[1;33m         \u001b[1;32mif\u001b[0m \u001b[1;32mnot\u001b[0m \u001b[1;33m-\u001b[0m\u001b[0mself\u001b[0m\u001b[1;33m.\u001b[0m\u001b[0m_n\u001b[0m \u001b[1;33m<\u001b[0m \u001b[0mk\u001b[0m \u001b[1;33m<\u001b[0m \u001b[0mself\u001b[0m\u001b[1;33m.\u001b[0m\u001b[0m_n\u001b[0m\u001b[1;33m:\u001b[0m\u001b[1;33m\u001b[0m\u001b[1;33m\u001b[0m\u001b[0m\n\u001b[0m\u001b[0;32m     19\u001b[0m             \u001b[1;32mraise\u001b[0m \u001b[0mIndexError\u001b[0m\u001b[1;33m(\u001b[0m\u001b[1;34m'Invalid index'\u001b[0m\u001b[1;33m)\u001b[0m\u001b[1;33m\u001b[0m\u001b[1;33m\u001b[0m\u001b[0m\n\u001b[0;32m     20\u001b[0m         \u001b[1;32mif\u001b[0m \u001b[0mself\u001b[0m\u001b[1;33m.\u001b[0m\u001b[0m_n\u001b[0m \u001b[1;33m>\u001b[0m \u001b[0mk\u001b[0m \u001b[1;33m>=\u001b[0m \u001b[1;36m0\u001b[0m\u001b[1;33m:\u001b[0m\u001b[1;33m\u001b[0m\u001b[1;33m\u001b[0m\u001b[0m\n",
      "\u001b[1;31mTypeError\u001b[0m: '<' not supported between instances of 'int' and 'slice'"
     ]
    }
   ],
   "source": [
    "da[1:] # 没有实现切片索引方式"
   ]
  },
  {
   "cell_type": "code",
   "execution_count": 197,
   "metadata": {},
   "outputs": [],
   "source": [
    "da.pop()"
   ]
  },
  {
   "cell_type": "code",
   "execution_count": 198,
   "metadata": {},
   "outputs": [
    {
     "data": {
      "text/plain": [
       "<__main__.DynamicArray_54 at 0x20217cc7588>"
      ]
     },
     "execution_count": 198,
     "metadata": {},
     "output_type": "execute_result"
    }
   ],
   "source": [
    "da"
   ]
  },
  {
   "cell_type": "markdown",
   "metadata": {},
   "source": [
    "### 创新"
   ]
  },
  {
   "cell_type": "markdown",
   "metadata": {},
   "source": [
    "#### C-5.14"
   ]
  },
  {
   "cell_type": "code",
   "execution_count": 86,
   "metadata": {},
   "outputs": [],
   "source": [
    "from random import randrange"
   ]
  },
  {
   "cell_type": "code",
   "execution_count": 85,
   "metadata": {},
   "outputs": [
    {
     "data": {
      "text/plain": [
       "[4, 1, 57, 52, 522, 3, 2]"
      ]
     },
     "execution_count": 85,
     "metadata": {},
     "output_type": "execute_result"
    }
   ],
   "source": [
    "s = [2,3,4,522,52,57,1]\n",
    "shuffle(s)\n",
    "s"
   ]
  },
  {
   "cell_type": "code",
   "execution_count": 88,
   "metadata": {},
   "outputs": [],
   "source": [
    "def myself_shuffle(s):\n",
    "    news = []\n",
    "    n = 0\n",
    "    for k in range(len(s)):\n",
    "        i = randrange(len(s) - n)\n",
    "        news.append(s[i])\n",
    "        s.remove(s[i])\n",
    "        n += 1\n",
    "    return news"
   ]
  },
  {
   "cell_type": "code",
   "execution_count": 91,
   "metadata": {},
   "outputs": [
    {
     "name": "stdout",
     "output_type": "stream",
     "text": [
      "[2, 1, 3, 522, 52, 4, 57]\n"
     ]
    }
   ],
   "source": [
    "from random import randrange # V1.0\n",
    "\n",
    "def myself_shuffle(s):\n",
    "    news = []\n",
    "    ilist = []\n",
    "    while len(s) != len(news):\n",
    "        i = randrange(len(s))\n",
    "        if i not in ilist:\n",
    "            ilist.append(i)\n",
    "            news.append(s[i])\n",
    "        else:\n",
    "            continue\n",
    "        \n",
    "    print(news)\n",
    "\n",
    "s = [2,3,4,522,52,57,1]\n",
    "myself_shuffle(s)"
   ]
  },
  {
   "cell_type": "code",
   "execution_count": 92,
   "metadata": {},
   "outputs": [
    {
     "name": "stdout",
     "output_type": "stream",
     "text": [
      "[52, 57, 1, 2, 522, 3, 4]\n"
     ]
    }
   ],
   "source": [
    "myself_shuffle(s)"
   ]
  },
  {
   "cell_type": "code",
   "execution_count": 93,
   "metadata": {},
   "outputs": [
    {
     "name": "stdout",
     "output_type": "stream",
     "text": [
      "[3, 2, 52, 4, 1, 57, 522]\n"
     ]
    }
   ],
   "source": [
    "myself_shuffle(s)"
   ]
  },
  {
   "cell_type": "code",
   "execution_count": 120,
   "metadata": {},
   "outputs": [
    {
     "data": {
      "text/plain": [
       "[6, 2, 7, 1, 5, 3, 4]"
      ]
     },
     "execution_count": 120,
     "metadata": {},
     "output_type": "execute_result"
    }
   ],
   "source": [
    "news = [] # V2.0\n",
    "s = [2,3,4,1,5,6,7]\n",
    "\n",
    "for i in range(len(s), 0, -1):\n",
    "    h = randrange(i)\n",
    "    news.append(s[h])\n",
    "    s.remove(s[h])\n",
    "    \n",
    "news"
   ]
  },
  {
   "cell_type": "code",
   "execution_count": null,
   "metadata": {},
   "outputs": [],
   "source": []
  },
  {
   "cell_type": "code",
   "execution_count": null,
   "metadata": {},
   "outputs": [],
   "source": []
  },
  {
   "cell_type": "markdown",
   "metadata": {},
   "source": [
    "#### C-5.24"
   ]
  },
  {
   "cell_type": "code",
   "execution_count": 15,
   "metadata": {},
   "outputs": [],
   "source": [
    "import ctypes\n",
    "\n",
    "class DynamicArray_56:\n",
    "    \"\"\"A dynamic array class akin to a simplified Python list.\"\"\"\n",
    "    \n",
    "    def __init__(self):\n",
    "        \"\"\"Create an empty array\"\"\"\n",
    "        self._n = 0             # count actual elements\n",
    "        self._capacity = 1  # default array capacity\n",
    "        self._A = self._make_array(self._capacity)  # low-level array\n",
    "        \n",
    "    def __len__(self):\n",
    "        \"\"\"Return number of elements stored in the array.\"\"\"\n",
    "        return self._n\n",
    "    \n",
    "    def __getitem__(self, k):\n",
    "        \"\"\"Return element at index k.\"\"\"\n",
    "        if not -self._n < k < self._n:\n",
    "            raise IndexError('Invalid index')\n",
    "        if self._n > k >= 0:\n",
    "            return self._A[k]                                           # retrieve from array\n",
    "        elif k < 0:\n",
    "            return self._A[self._n + k]\n",
    "        \n",
    "    def append(self, obj):\n",
    "        \"\"\"Add object to end of the array\"\"\"           \n",
    "        if self._n == self._capacity:                          # not enough room\n",
    "            self._resize(2 * self._capacity)                  # so double capacity\n",
    "        self._A[self._n] = obj\n",
    "        self._n += 1\n",
    "        \n",
    "    def pop(self):\n",
    "        \"\"\"remove object the last element of the array\"\"\"\n",
    "        B = self._make_array(self._n)                                 # new (bigger) array\n",
    "        for k in range(self._n):                                  # for each existing value\n",
    "            B[k] = self._A[k]\n",
    "        try:\n",
    "            if B[-1]:\n",
    "                self._A = B[:-1]                                             # use the bigger array\n",
    "        except:\n",
    "            raise IndexError('list is empty or index is out of range.')\n",
    "        self._n -= 1\n",
    "        \n",
    "        if self._n < self._capacity / 4:\n",
    "            self._resize( self._capacity // 2)\n",
    "    \n",
    "    def remove(self, value):\n",
    "        \"\"\"Remove first occurrence of value (or raise ValueError)\"\"\"\n",
    "        for k in range(self._n):\n",
    "            if self._A[k] == value:\n",
    "                for j in range(k, self._n - 1):\n",
    "                    self._A[j] = self._A[j + 1]\n",
    "                self._A[self._n - 1] = None # 这列表不是多了一个None么？\n",
    "                self._n -= 1\n",
    "                return\n",
    "        raise ValueError('Value not found')\n",
    "        \n",
    "    def _resize(self, c):                                             # nonpublic utitity\n",
    "        \"\"\"Resize internal array to capacity c.\"\"\"    \n",
    "        B = self._make_array(c)                                 # new (bigger) array\n",
    "        for k in range(self._n):                                  # for each existing value\n",
    "            B[k] = self._A[k]\n",
    "        self._A = B                                                    # use the bigger array\n",
    "        self._capacity = c\n",
    "        \n",
    "    def _make_array(self, c):                                  # nonpublic utitity\n",
    "        \"\"\"Return new array with capacity c.\"\"\"\n",
    "        return(c * ctypes.py_object)()                     # see ctypes documentation    "
   ]
  },
  {
   "cell_type": "code",
   "execution_count": 26,
   "metadata": {},
   "outputs": [
    {
     "name": "stdout",
     "output_type": "stream",
     "text": [
      "0.0\n",
      "0.0\n",
      "0.0009968280792236328\n",
      "0.0029900074005126953\n"
     ]
    }
   ],
   "source": [
    "from time import time\n",
    "\n",
    "def compute_c524():\n",
    "    for i in [1000, 10000, 50000, 99999]:\n",
    "        data = [1] * i  + [0]\n",
    "        start = time()\n",
    "        data.remove(0)\n",
    "        end = time()\n",
    "        print(end - start)\n",
    "        \n",
    "compute_c524()"
   ]
  },
  {
   "cell_type": "code",
   "execution_count": 28,
   "metadata": {},
   "outputs": [
    {
     "name": "stdout",
     "output_type": "stream",
     "text": [
      "0.0\n",
      "0.0\n",
      "0.0\n",
      "0.0\n"
     ]
    }
   ],
   "source": [
    "from time import time\n",
    "\n",
    "def compute_c524():\n",
    "    for i in [1000, 10000, 50000, 99999]:\n",
    "        data = [0] + [1] * i\n",
    "        start = time()\n",
    "        data.remove(0)\n",
    "        end = time()\n",
    "        print(end - start)\n",
    "        \n",
    "compute_c524()"
   ]
  },
  {
   "cell_type": "code",
   "execution_count": 29,
   "metadata": {
    "scrolled": true
   },
   "outputs": [
    {
     "name": "stdout",
     "output_type": "stream",
     "text": [
      "0.0\n",
      "0.0\n",
      "0.000997781753540039\n",
      "0.0009965896606445312\n"
     ]
    }
   ],
   "source": [
    "from time import time\n",
    "\n",
    "def compute_c524():\n",
    "    for i in [1000, 10000, 50000, 99999]:\n",
    "        data = [1] * i\n",
    "        data.insert(i//2, 0)\n",
    "        start = time()\n",
    "        data.remove(0)\n",
    "        end = time()\n",
    "        print(end - start)\n",
    "        \n",
    "compute_c524()"
   ]
  },
  {
   "cell_type": "code",
   "execution_count": 24,
   "metadata": {},
   "outputs": [],
   "source": [
    "data.remove(0)"
   ]
  },
  {
   "cell_type": "code",
   "execution_count": 25,
   "metadata": {},
   "outputs": [
    {
     "data": {
      "text/plain": [
       "[1, 1, 1, 1, 1, 1, 1, 1, 1, 1]"
      ]
     },
     "execution_count": 25,
     "metadata": {},
     "output_type": "execute_result"
    }
   ],
   "source": [
    "data"
   ]
  },
  {
   "cell_type": "markdown",
   "metadata": {},
   "source": [
    "#### C-5.22"
   ]
  },
  {
   "cell_type": "code",
   "execution_count": 30,
   "metadata": {},
   "outputs": [
    {
     "name": "stdout",
     "output_type": "stream",
     "text": [
      "0.0\n",
      "0.0\n",
      "0.0009920597076416016\n",
      "0.0\n"
     ]
    }
   ],
   "source": [
    "from time import time\n",
    "\n",
    "def compute_c522():\n",
    "    data = [0]\n",
    "    for i in [[1]*1000, [1]*10000, [1]*50000, [1]*99999]:\n",
    "        data = [0]\n",
    "        start = time()\n",
    "        data.extend(i)\n",
    "        end = time()\n",
    "        print(end - start)\n",
    "        \n",
    "compute_c522()"
   ]
  },
  {
   "cell_type": "code",
   "execution_count": 31,
   "metadata": {},
   "outputs": [
    {
     "name": "stdout",
     "output_type": "stream",
     "text": [
      "0.0\n",
      "0.002992391586303711\n",
      "0.010969877243041992\n",
      "0.022939682006835938\n"
     ]
    }
   ],
   "source": [
    "from time import time\n",
    "\n",
    "def compute_c522():\n",
    "    \n",
    "    for i in [1000, 10000, 50000, 99999]:\n",
    "        data = [0]\n",
    "        n = 0\n",
    "        start = time()\n",
    "        while n < i: \n",
    "            data.append(1)\n",
    "            n += 1\n",
    "        end = time()\n",
    "        print(end - start)\n",
    "        \n",
    "compute_c522()"
   ]
  },
  {
   "cell_type": "markdown",
   "metadata": {},
   "source": [
    "#### C-5.23"
   ]
  },
  {
   "cell_type": "code",
   "execution_count": 32,
   "metadata": {},
   "outputs": [
    {
     "name": "stdout",
     "output_type": "stream",
     "text": [
      "0.0\n",
      "0.000997304916381836\n",
      "0.006981372833251953\n",
      "0.0139617919921875\n"
     ]
    }
   ],
   "source": [
    "from time import time\n",
    "\n",
    "def compute_c523():\n",
    "    for i in [1000, 10000, 50000, 99999]:\n",
    "        start = time()\n",
    "        squares = [k * k for k in range(1, i+1)]\n",
    "        end = time()\n",
    "        print(end - start)\n",
    "        \n",
    "compute_c523()"
   ]
  },
  {
   "cell_type": "code",
   "execution_count": 34,
   "metadata": {},
   "outputs": [
    {
     "name": "stdout",
     "output_type": "stream",
     "text": [
      "0.0009982585906982422\n",
      "0.001993894577026367\n",
      "0.010970592498779297\n",
      "0.021941184997558594\n"
     ]
    }
   ],
   "source": [
    "from time import time\n",
    "\n",
    "def compute_c523():\n",
    "    squares = []\n",
    "    for i in [1000, 10000, 50000, 99999]:\n",
    "        start = time()\n",
    "        for k in range(1, i+1):\n",
    "            squares.append(k * k)\n",
    "        end = time()\n",
    "        print(end - start)\n",
    "        \n",
    "compute_c523()"
   ]
  },
  {
   "cell_type": "markdown",
   "metadata": {},
   "source": [
    "#### C-5.25"
   ]
  },
  {
   "cell_type": "code",
   "execution_count": 130,
   "metadata": {},
   "outputs": [
    {
     "name": "stdout",
     "output_type": "stream",
     "text": [
      "[1, 3, 4, 3]\n"
     ]
    }
   ],
   "source": [
    "def remove_all(the_list, val):\n",
    "   return [value for value in the_list if value != val]\n",
    "\n",
    "x = [1, 2, 3, 4, 2, 2, 3]\n",
    "x = remove_all(x, 2)\n",
    "print(x)"
   ]
  },
  {
   "cell_type": "markdown",
   "metadata": {},
   "source": [
    "#### C-5.26"
   ]
  },
  {
   "cell_type": "code",
   "execution_count": 133,
   "metadata": {},
   "outputs": [
    {
     "name": "stdout",
     "output_type": "stream",
     "text": [
      "6\n"
     ]
    }
   ],
   "source": [
    "\n",
    "da = [1,6,2,6,2,6,3,3,6,6]\n",
    "\n",
    "n = 1\n",
    "\n",
    "for i in da:\n",
    "    new = remove_all(da, i)\n",
    "    if len(da) - len(new) == 5:\n",
    "        print(i)\n",
    "        break"
   ]
  },
  {
   "cell_type": "code",
   "execution_count": 125,
   "metadata": {},
   "outputs": [],
   "source": [
    "da = [1,2,2,2,2,2,3,3,4,5]\n",
    "newda = da.remove(1)"
   ]
  },
  {
   "cell_type": "code",
   "execution_count": 128,
   "metadata": {},
   "outputs": [
    {
     "data": {
      "text/plain": [
       "[2, 2, 2, 2, 2, 3, 3, 4, 5]"
      ]
     },
     "execution_count": 128,
     "metadata": {},
     "output_type": "execute_result"
    }
   ],
   "source": [
    "da"
   ]
  },
  {
   "cell_type": "markdown",
   "metadata": {},
   "source": [
    "#### C-5.31"
   ]
  },
  {
   "cell_type": "code",
   "execution_count": 134,
   "metadata": {},
   "outputs": [
    {
     "data": {
      "text/plain": [
       "[[1, 2, 3, 5, 6],\n",
       " [1, 2, 3, 5, 6],\n",
       " [1, 2, 3, 5, 6],\n",
       " [1, 2, 3, 5, 6],\n",
       " [1, 2, 3, 5, 6]]"
      ]
     },
     "execution_count": 134,
     "metadata": {},
     "output_type": "execute_result"
    }
   ],
   "source": [
    "matrix55"
   ]
  },
  {
   "cell_type": "code",
   "execution_count": 140,
   "metadata": {},
   "outputs": [
    {
     "ename": "IndexError",
     "evalue": "list index out of range",
     "output_type": "error",
     "traceback": [
      "\u001b[1;31m---------------------------------------------------------------------------\u001b[0m",
      "\u001b[1;31mIndexError\u001b[0m                                Traceback (most recent call last)",
      "\u001b[1;32m<ipython-input-140-c5f714f109ae>\u001b[0m in \u001b[0;36m<module>\u001b[1;34m\u001b[0m\n\u001b[0;32m      2\u001b[0m     \u001b[1;32mreturn\u001b[0m \u001b[0msum\u001b[0m\u001b[1;33m(\u001b[0m\u001b[0ms\u001b[0m\u001b[1;33m[\u001b[0m\u001b[1;36m0\u001b[0m\u001b[1;33m]\u001b[0m\u001b[1;33m)\u001b[0m \u001b[1;33m+\u001b[0m \u001b[0msumdg\u001b[0m\u001b[1;33m(\u001b[0m\u001b[0ms\u001b[0m\u001b[1;33m[\u001b[0m\u001b[1;36m1\u001b[0m\u001b[1;33m:\u001b[0m\u001b[1;33m]\u001b[0m\u001b[1;33m)\u001b[0m\u001b[1;33m\u001b[0m\u001b[1;33m\u001b[0m\u001b[0m\n\u001b[0;32m      3\u001b[0m \u001b[1;33m\u001b[0m\u001b[0m\n\u001b[1;32m----> 4\u001b[1;33m \u001b[0msumdg\u001b[0m\u001b[1;33m(\u001b[0m\u001b[0mmatrix55\u001b[0m\u001b[1;33m)\u001b[0m\u001b[1;33m\u001b[0m\u001b[1;33m\u001b[0m\u001b[0m\n\u001b[0m",
      "\u001b[1;32m<ipython-input-140-c5f714f109ae>\u001b[0m in \u001b[0;36msumdg\u001b[1;34m(s)\u001b[0m\n\u001b[0;32m      1\u001b[0m \u001b[1;32mdef\u001b[0m \u001b[0msumdg\u001b[0m\u001b[1;33m(\u001b[0m\u001b[0ms\u001b[0m\u001b[1;33m)\u001b[0m\u001b[1;33m:\u001b[0m\u001b[1;33m\u001b[0m\u001b[1;33m\u001b[0m\u001b[0m\n\u001b[1;32m----> 2\u001b[1;33m     \u001b[1;32mreturn\u001b[0m \u001b[0msum\u001b[0m\u001b[1;33m(\u001b[0m\u001b[0ms\u001b[0m\u001b[1;33m[\u001b[0m\u001b[1;36m0\u001b[0m\u001b[1;33m]\u001b[0m\u001b[1;33m)\u001b[0m \u001b[1;33m+\u001b[0m \u001b[0msumdg\u001b[0m\u001b[1;33m(\u001b[0m\u001b[0ms\u001b[0m\u001b[1;33m[\u001b[0m\u001b[1;36m1\u001b[0m\u001b[1;33m:\u001b[0m\u001b[1;33m]\u001b[0m\u001b[1;33m)\u001b[0m\u001b[1;33m\u001b[0m\u001b[1;33m\u001b[0m\u001b[0m\n\u001b[0m\u001b[0;32m      3\u001b[0m \u001b[1;33m\u001b[0m\u001b[0m\n\u001b[0;32m      4\u001b[0m \u001b[0msumdg\u001b[0m\u001b[1;33m(\u001b[0m\u001b[0mmatrix55\u001b[0m\u001b[1;33m)\u001b[0m\u001b[1;33m\u001b[0m\u001b[1;33m\u001b[0m\u001b[0m\n",
      "\u001b[1;32m<ipython-input-140-c5f714f109ae>\u001b[0m in \u001b[0;36msumdg\u001b[1;34m(s)\u001b[0m\n\u001b[0;32m      1\u001b[0m \u001b[1;32mdef\u001b[0m \u001b[0msumdg\u001b[0m\u001b[1;33m(\u001b[0m\u001b[0ms\u001b[0m\u001b[1;33m)\u001b[0m\u001b[1;33m:\u001b[0m\u001b[1;33m\u001b[0m\u001b[1;33m\u001b[0m\u001b[0m\n\u001b[1;32m----> 2\u001b[1;33m     \u001b[1;32mreturn\u001b[0m \u001b[0msum\u001b[0m\u001b[1;33m(\u001b[0m\u001b[0ms\u001b[0m\u001b[1;33m[\u001b[0m\u001b[1;36m0\u001b[0m\u001b[1;33m]\u001b[0m\u001b[1;33m)\u001b[0m \u001b[1;33m+\u001b[0m \u001b[0msumdg\u001b[0m\u001b[1;33m(\u001b[0m\u001b[0ms\u001b[0m\u001b[1;33m[\u001b[0m\u001b[1;36m1\u001b[0m\u001b[1;33m:\u001b[0m\u001b[1;33m]\u001b[0m\u001b[1;33m)\u001b[0m\u001b[1;33m\u001b[0m\u001b[1;33m\u001b[0m\u001b[0m\n\u001b[0m\u001b[0;32m      3\u001b[0m \u001b[1;33m\u001b[0m\u001b[0m\n\u001b[0;32m      4\u001b[0m \u001b[0msumdg\u001b[0m\u001b[1;33m(\u001b[0m\u001b[0mmatrix55\u001b[0m\u001b[1;33m)\u001b[0m\u001b[1;33m\u001b[0m\u001b[1;33m\u001b[0m\u001b[0m\n",
      "\u001b[1;32m<ipython-input-140-c5f714f109ae>\u001b[0m in \u001b[0;36msumdg\u001b[1;34m(s)\u001b[0m\n\u001b[0;32m      1\u001b[0m \u001b[1;32mdef\u001b[0m \u001b[0msumdg\u001b[0m\u001b[1;33m(\u001b[0m\u001b[0ms\u001b[0m\u001b[1;33m)\u001b[0m\u001b[1;33m:\u001b[0m\u001b[1;33m\u001b[0m\u001b[1;33m\u001b[0m\u001b[0m\n\u001b[1;32m----> 2\u001b[1;33m     \u001b[1;32mreturn\u001b[0m \u001b[0msum\u001b[0m\u001b[1;33m(\u001b[0m\u001b[0ms\u001b[0m\u001b[1;33m[\u001b[0m\u001b[1;36m0\u001b[0m\u001b[1;33m]\u001b[0m\u001b[1;33m)\u001b[0m \u001b[1;33m+\u001b[0m \u001b[0msumdg\u001b[0m\u001b[1;33m(\u001b[0m\u001b[0ms\u001b[0m\u001b[1;33m[\u001b[0m\u001b[1;36m1\u001b[0m\u001b[1;33m:\u001b[0m\u001b[1;33m]\u001b[0m\u001b[1;33m)\u001b[0m\u001b[1;33m\u001b[0m\u001b[1;33m\u001b[0m\u001b[0m\n\u001b[0m\u001b[0;32m      3\u001b[0m \u001b[1;33m\u001b[0m\u001b[0m\n\u001b[0;32m      4\u001b[0m \u001b[0msumdg\u001b[0m\u001b[1;33m(\u001b[0m\u001b[0mmatrix55\u001b[0m\u001b[1;33m)\u001b[0m\u001b[1;33m\u001b[0m\u001b[1;33m\u001b[0m\u001b[0m\n",
      "\u001b[1;32m<ipython-input-140-c5f714f109ae>\u001b[0m in \u001b[0;36msumdg\u001b[1;34m(s)\u001b[0m\n\u001b[0;32m      1\u001b[0m \u001b[1;32mdef\u001b[0m \u001b[0msumdg\u001b[0m\u001b[1;33m(\u001b[0m\u001b[0ms\u001b[0m\u001b[1;33m)\u001b[0m\u001b[1;33m:\u001b[0m\u001b[1;33m\u001b[0m\u001b[1;33m\u001b[0m\u001b[0m\n\u001b[1;32m----> 2\u001b[1;33m     \u001b[1;32mreturn\u001b[0m \u001b[0msum\u001b[0m\u001b[1;33m(\u001b[0m\u001b[0ms\u001b[0m\u001b[1;33m[\u001b[0m\u001b[1;36m0\u001b[0m\u001b[1;33m]\u001b[0m\u001b[1;33m)\u001b[0m \u001b[1;33m+\u001b[0m \u001b[0msumdg\u001b[0m\u001b[1;33m(\u001b[0m\u001b[0ms\u001b[0m\u001b[1;33m[\u001b[0m\u001b[1;36m1\u001b[0m\u001b[1;33m:\u001b[0m\u001b[1;33m]\u001b[0m\u001b[1;33m)\u001b[0m\u001b[1;33m\u001b[0m\u001b[1;33m\u001b[0m\u001b[0m\n\u001b[0m\u001b[0;32m      3\u001b[0m \u001b[1;33m\u001b[0m\u001b[0m\n\u001b[0;32m      4\u001b[0m \u001b[0msumdg\u001b[0m\u001b[1;33m(\u001b[0m\u001b[0mmatrix55\u001b[0m\u001b[1;33m)\u001b[0m\u001b[1;33m\u001b[0m\u001b[1;33m\u001b[0m\u001b[0m\n",
      "\u001b[1;32m<ipython-input-140-c5f714f109ae>\u001b[0m in \u001b[0;36msumdg\u001b[1;34m(s)\u001b[0m\n\u001b[0;32m      1\u001b[0m \u001b[1;32mdef\u001b[0m \u001b[0msumdg\u001b[0m\u001b[1;33m(\u001b[0m\u001b[0ms\u001b[0m\u001b[1;33m)\u001b[0m\u001b[1;33m:\u001b[0m\u001b[1;33m\u001b[0m\u001b[1;33m\u001b[0m\u001b[0m\n\u001b[1;32m----> 2\u001b[1;33m     \u001b[1;32mreturn\u001b[0m \u001b[0msum\u001b[0m\u001b[1;33m(\u001b[0m\u001b[0ms\u001b[0m\u001b[1;33m[\u001b[0m\u001b[1;36m0\u001b[0m\u001b[1;33m]\u001b[0m\u001b[1;33m)\u001b[0m \u001b[1;33m+\u001b[0m \u001b[0msumdg\u001b[0m\u001b[1;33m(\u001b[0m\u001b[0ms\u001b[0m\u001b[1;33m[\u001b[0m\u001b[1;36m1\u001b[0m\u001b[1;33m:\u001b[0m\u001b[1;33m]\u001b[0m\u001b[1;33m)\u001b[0m\u001b[1;33m\u001b[0m\u001b[1;33m\u001b[0m\u001b[0m\n\u001b[0m\u001b[0;32m      3\u001b[0m \u001b[1;33m\u001b[0m\u001b[0m\n\u001b[0;32m      4\u001b[0m \u001b[0msumdg\u001b[0m\u001b[1;33m(\u001b[0m\u001b[0mmatrix55\u001b[0m\u001b[1;33m)\u001b[0m\u001b[1;33m\u001b[0m\u001b[1;33m\u001b[0m\u001b[0m\n",
      "\u001b[1;32m<ipython-input-140-c5f714f109ae>\u001b[0m in \u001b[0;36msumdg\u001b[1;34m(s)\u001b[0m\n\u001b[0;32m      1\u001b[0m \u001b[1;32mdef\u001b[0m \u001b[0msumdg\u001b[0m\u001b[1;33m(\u001b[0m\u001b[0ms\u001b[0m\u001b[1;33m)\u001b[0m\u001b[1;33m:\u001b[0m\u001b[1;33m\u001b[0m\u001b[1;33m\u001b[0m\u001b[0m\n\u001b[1;32m----> 2\u001b[1;33m     \u001b[1;32mreturn\u001b[0m \u001b[0msum\u001b[0m\u001b[1;33m(\u001b[0m\u001b[0ms\u001b[0m\u001b[1;33m[\u001b[0m\u001b[1;36m0\u001b[0m\u001b[1;33m]\u001b[0m\u001b[1;33m)\u001b[0m \u001b[1;33m+\u001b[0m \u001b[0msumdg\u001b[0m\u001b[1;33m(\u001b[0m\u001b[0ms\u001b[0m\u001b[1;33m[\u001b[0m\u001b[1;36m1\u001b[0m\u001b[1;33m:\u001b[0m\u001b[1;33m]\u001b[0m\u001b[1;33m)\u001b[0m\u001b[1;33m\u001b[0m\u001b[1;33m\u001b[0m\u001b[0m\n\u001b[0m\u001b[0;32m      3\u001b[0m \u001b[1;33m\u001b[0m\u001b[0m\n\u001b[0;32m      4\u001b[0m \u001b[0msumdg\u001b[0m\u001b[1;33m(\u001b[0m\u001b[0mmatrix55\u001b[0m\u001b[1;33m)\u001b[0m\u001b[1;33m\u001b[0m\u001b[1;33m\u001b[0m\u001b[0m\n",
      "\u001b[1;31mIndexError\u001b[0m: list index out of range"
     ]
    }
   ],
   "source": [
    "def sumdg(s):\n",
    "    return sum(s[0]) + sumdg(s[1:])\n",
    "    \n",
    "sumdg(matrix55)"
   ]
  },
  {
   "cell_type": "code",
   "execution_count": 136,
   "metadata": {},
   "outputs": [
    {
     "data": {
      "text/plain": [
       "[1, 2, 3, 5, 6]"
      ]
     },
     "execution_count": 136,
     "metadata": {},
     "output_type": "execute_result"
    }
   ],
   "source": [
    "matrix55[0]"
   ]
  },
  {
   "cell_type": "code",
   "execution_count": 141,
   "metadata": {},
   "outputs": [
    {
     "data": {
      "text/plain": [
       "[[1, 2, 3, 5, 6], [1, 2, 3, 5, 6], [1, 2, 3, 5, 6], [1, 2, 3, 5, 6]]"
      ]
     },
     "execution_count": 141,
     "metadata": {},
     "output_type": "execute_result"
    }
   ],
   "source": [
    "matrix55[1:]"
   ]
  },
  {
   "cell_type": "code",
   "execution_count": 274,
   "metadata": {},
   "outputs": [
    {
     "data": {
      "text/plain": [
       "[1, 2, 3, 5, 6]"
      ]
     },
     "execution_count": 274,
     "metadata": {},
     "output_type": "execute_result"
    }
   ],
   "source": [
    "matrix66=[1, 2, 3, 5, 6]\n",
    "\n",
    "def linear_sum(s):\n",
    "    if s[1:]:\n",
    "        return s\n",
    "    else:\n",
    "        return linear_sum(s[1:]) + s[0]\n",
    "    \n",
    "linear_sum(matrix66)"
   ]
  },
  {
   "cell_type": "markdown",
   "metadata": {},
   "source": [
    "#### P-5.34"
   ]
  },
  {
   "cell_type": "code",
   "execution_count": 151,
   "metadata": {},
   "outputs": [
    {
     "name": "stdout",
     "output_type": "stream",
     "text": [
      "Secret:  WKH HDJOH lv LQ SODB; phhw DW MRH\"V.\n",
      "Message: THE EAGLE is IN PLAY; meet AT JOE\"S.\n"
     ]
    }
   ],
   "source": [
    "class CaesarCipherP534:\n",
    "    \"\"\"Class for doing encryption and decryption using a Casesar cipher.\"\"\"\n",
    "    \n",
    "    def __init__(self, shift):\n",
    "        self._forward = ''.join([chr((k + shift) % 26 + ord('A')) for k in range(26)])\n",
    "        self._backward = ''.join([chr((k - shift) % 26 + ord('A')) for k in range(26)])\n",
    "\n",
    "        self._forward_lower = ''.join([chr((k + shift) % 26 + ord('a')) for k in range(26)])\n",
    "        self._backward_lower = ''.join([chr((k - shift) % 26 + ord('a')) for k in range(26)])\n",
    "        \n",
    "    def encrypt(self, message):\n",
    "        return self._transform(message, self._forward, self._forward_lower)\n",
    "    \n",
    "    def decrypt(self, secret):\n",
    "        return self._transform(secret, self._backward, self._backward_lower)\n",
    "    \n",
    "    def _transform(self, original, code_1, code_2):\n",
    "        msg = list(original)\n",
    "        for k in range(len(msg)):\n",
    "            if msg[k].isupper():\n",
    "                j = ord(msg[k]) - ord('A')\n",
    "                msg[k] = code_1[j]\n",
    "            elif msg[k].islower():\n",
    "                j = ord(msg[k]) - ord('a')\n",
    "                msg[k] = code_2[j]\n",
    "            else:\n",
    "                continue\n",
    "        return ''.join(msg)\n",
    "    \n",
    "if __name__ == '__main__':\n",
    "    cipher = CaesarCipherP534(3)\n",
    "    message = 'THE EAGLE is IN PLAY; meet AT JOE\"S.'\n",
    "    coded = cipher.encrypt(message)\n",
    "    print('Secret Data: ', coded)\n",
    "    answer = cipher.decrypt(coded)\n",
    "    print('Original Message:', answer)"
   ]
  },
  {
   "cell_type": "code",
   "execution_count": 146,
   "metadata": {},
   "outputs": [],
   "source": [
    "_forward_lower = ''.join([chr((k + 3) % 26 + ord('a')) for k in range(26)])\n",
    "_backward_lower = ''.join([chr((k -3) % 26 + ord('a')) for k in range(26)])"
   ]
  },
  {
   "cell_type": "code",
   "execution_count": 147,
   "metadata": {},
   "outputs": [
    {
     "data": {
      "text/plain": [
       "'defghijklmnopqrstuvwxyzabc'"
      ]
     },
     "execution_count": 147,
     "metadata": {},
     "output_type": "execute_result"
    }
   ],
   "source": [
    "_forward_lower"
   ]
  },
  {
   "cell_type": "code",
   "execution_count": 148,
   "metadata": {},
   "outputs": [
    {
     "data": {
      "text/plain": [
       "'xyzabcdefghijklmnopqrstuvw'"
      ]
     },
     "execution_count": 148,
     "metadata": {},
     "output_type": "execute_result"
    }
   ],
   "source": [
    "_backward_lower"
   ]
  },
  {
   "cell_type": "markdown",
   "metadata": {},
   "source": [
    "#### P-5.35"
   ]
  },
  {
   "cell_type": "code",
   "execution_count": 183,
   "metadata": {},
   "outputs": [
    {
     "name": "stdout",
     "output_type": "stream",
     "text": [
      "Secret:  IAV VLQNV GB GK UNLE; PVVI LI RCV B.\n"
     ]
    }
   ],
   "source": [
    "class CaesarCipherP535:\n",
    "    \"\"\"Class for doing encryption and decryption using a Casesar cipher.\"\"\"\n",
    "    \n",
    "    def __init__(self):\n",
    "        self._list = ['Y', 'B', 'U', 'K', 'I', 'L', 'D', 'N', 'T', 'E', 'S', 'A', 'C', 'X', 'P', 'H', 'W', 'M', 'O', 'V', 'Z', 'G', 'J', 'F', 'R', 'Q']\n",
    "        self._forward = ''.join([chr(((ord(k) + 3) % 26)  + ord('A')) for k in _list])\n",
    "        \n",
    "    def encrypt(self, message):\n",
    "        return self._transform(message, _forward)\n",
    "    \n",
    "    def _transform(self, message, _forward):\n",
    "        msg = list(message)\n",
    "        for k in range(len(msg)):\n",
    "            if msg[k].isupper():\n",
    "                j = ord(msg[k]) - ord('A')\n",
    "                msg[k] = _forward[j]\n",
    "            else:\n",
    "                continue\n",
    "        return ''.join(msg)\n",
    "    \n",
    "if __name__ == '__main__':\n",
    "    cipher = CaesarCipherP535()\n",
    "    message = 'THE EAGLE IS IN PLAY; MEET AT JOE S.'\n",
    "    coded = cipher.encrypt(message)\n",
    "    print('Secret: ', coded)"
   ]
  },
  {
   "cell_type": "code",
   "execution_count": 152,
   "metadata": {},
   "outputs": [],
   "source": [
    "_list = ['D', 'E', 'F', 'G', 'H', 'I', 'J', 'K', 'L', 'M', 'N', 'O', 'P', 'Q', 'R', 'S', 'T', 'U', 'V', 'W', 'X', 'Y', 'Z', 'A', 'B', 'C']"
   ]
  },
  {
   "cell_type": "code",
   "execution_count": 154,
   "metadata": {},
   "outputs": [
    {
     "name": "stdout",
     "output_type": "stream",
     "text": [
      "['Y', 'B', 'U', 'K', 'I', 'L', 'D', 'N', 'T', 'E', 'S', 'A', 'C', 'X', 'P', 'H', 'W', 'M', 'O', 'V', 'Z', 'G', 'J', 'F', 'R', 'Q']\n"
     ]
    }
   ],
   "source": [
    "from random import shuffle\n",
    "shuffle(_list)\n",
    "print(_list)"
   ]
  },
  {
   "cell_type": "code",
   "execution_count": 173,
   "metadata": {},
   "outputs": [],
   "source": [
    "_forward_1 = ''.join([chr(((ord(k) - 3) % 26)  + ord('A')) for k in _list])"
   ]
  },
  {
   "cell_type": "code",
   "execution_count": 174,
   "metadata": {},
   "outputs": [
    {
     "data": {
      "text/plain": [
       "'ILEUSVNXDOCKMHZRGWYFJQTPBA'"
      ]
     },
     "execution_count": 174,
     "metadata": {},
     "output_type": "execute_result"
    }
   ],
   "source": [
    "_forward_1"
   ]
  },
  {
   "cell_type": "code",
   "execution_count": 157,
   "metadata": {},
   "outputs": [
    {
     "data": {
      "text/plain": [
       "'LOHXVYQAGRFNPKCUJZBIMTWSED'"
      ]
     },
     "execution_count": 157,
     "metadata": {},
     "output_type": "execute_result"
    }
   ],
   "source": [
    "_forward"
   ]
  },
  {
   "cell_type": "code",
   "execution_count": 171,
   "metadata": {},
   "outputs": [],
   "source": [
    "_forward_1 = ''.join([chr(((ord(k) + 3) % 26)  + ord('A')) for k in _list])"
   ]
  },
  {
   "cell_type": "code",
   "execution_count": 172,
   "metadata": {},
   "outputs": [
    {
     "data": {
      "text/plain": [
       "'ORKAYBTDJUIQSNFXMCELPWZVHG'"
      ]
     },
     "execution_count": 172,
     "metadata": {},
     "output_type": "execute_result"
    }
   ],
   "source": [
    "_forward_1"
   ]
  },
  {
   "cell_type": "code",
   "execution_count": 161,
   "metadata": {},
   "outputs": [],
   "source": [
    "_forward_1 = ''.join([chr((ord(k) % 26) - 3 + ord('A')) for k in _list])"
   ]
  },
  {
   "cell_type": "code",
   "execution_count": 162,
   "metadata": {},
   "outputs": [
    {
     "data": {
      "text/plain": [
       "'ILEUSVN>DOCKMH@RGW?FJQTPBA'"
      ]
     },
     "execution_count": 162,
     "metadata": {},
     "output_type": "execute_result"
    }
   ],
   "source": [
    "_forward_1"
   ]
  },
  {
   "cell_type": "code",
   "execution_count": 193,
   "metadata": {},
   "outputs": [
    {
     "name": "stdout",
     "output_type": "stream",
     "text": [
      "Secret:  VNI IYDAI TO TX HAYR; CIIV YV EPI UO.\n"
     ]
    }
   ],
   "source": [
    "class CaesarCipherP5351:\n",
    "    \"\"\"Class for doing encryption and decryption using a Casesar cipher.\"\"\"\n",
    "    \n",
    "    def __init__(self):\n",
    "        self._forward = 'YUBKILDNTESACXPHWMOVZGJFRQ'\n",
    "        self._original = 'ABCDEFGHIJKLMNOPQRSTUVWXYZ'\n",
    "        \n",
    "    def encrypt(self, message):\n",
    "        return self._transform(message, _forward)\n",
    "    \n",
    "    def _transform(self, message, _forward):\n",
    "        org = ''\n",
    "        for i in message:\n",
    "            if i.isupper():\n",
    "                org += self._forward[self._original.find(i)]\n",
    "            else:\n",
    "                org += i\n",
    "        return org\n",
    "            \n",
    "if __name__ == '__main__':\n",
    "    cipher = CaesarCipherP5351()\n",
    "    message = 'THE EAGLE IS IN PLAY; MEET AT JOE BS.'\n",
    "    coded = cipher.encrypt(message)\n",
    "    print('Secret: ', coded)"
   ]
  },
  {
   "cell_type": "code",
   "execution_count": 186,
   "metadata": {},
   "outputs": [
    {
     "data": {
      "text/plain": [
       "'ABCDEFGHIJKLMNOPQRSTUVWXYZ'"
      ]
     },
     "execution_count": 186,
     "metadata": {},
     "output_type": "execute_result"
    }
   ],
   "source": [
    "import string\n",
    "\n",
    "string.ascii_uppercase"
   ]
  },
  {
   "cell_type": "code",
   "execution_count": 187,
   "metadata": {},
   "outputs": [],
   "source": [
    "_list = ''.join(['Y', 'B', 'U', 'K', 'I', 'L', 'D', 'N', 'T', 'E', 'S', 'A', 'C', 'X', 'P', 'H', 'W', 'M', 'O', 'V', 'Z', 'G', 'J', 'F', 'R', 'Q'])"
   ]
  },
  {
   "cell_type": "code",
   "execution_count": 189,
   "metadata": {},
   "outputs": [
    {
     "data": {
      "text/plain": [
       "7"
      ]
     },
     "execution_count": 189,
     "metadata": {},
     "output_type": "execute_result"
    }
   ],
   "source": [
    "_list.find('N')"
   ]
  },
  {
   "cell_type": "markdown",
   "metadata": {},
   "source": [
    "#### P-5.36"
   ]
  },
  {
   "cell_type": "code",
   "execution_count": 211,
   "metadata": {},
   "outputs": [
    {
     "name": "stdout",
     "output_type": "stream",
     "text": [
      "Secret Data:  WKH HDJOH LV LQ SODB; PHHW DW MRH\"V.\n",
      "Original Message: THE EAGLE IS IN PLAY; MEET AT JOE\"S.\n"
     ]
    }
   ],
   "source": [
    "class SubstitutionCipher:\n",
    "    \"\"\"Class for doing encryption and decryption using a Casesar cipher.\"\"\"\n",
    "    \n",
    "    def __init__(self):\n",
    "        self._forward = 'YUBKILDNTESACXPHWMOVZGJFRQ'\n",
    "        self._backward = 'ABCDEFGHIJKLMNOPQRSTUVWXYZ'\n",
    "        \n",
    "    def encrypt(self, message):\n",
    "        return self._transform(message, self._forward)\n",
    "    \n",
    "    def decrypt(self, secret):\n",
    "        return self._transform(secret, self._backward) \n",
    "    \n",
    "    def _transform(self, message, _forward):\n",
    "        org = ''\n",
    "        for i in message:\n",
    "            if i.isupper():\n",
    "                org += self._forward[self._backward.find(i)]\n",
    "            else:\n",
    "                org += i\n",
    "        return org           \n",
    "    \n",
    "class CaesarCipher(SubstitutionCipher):\n",
    "    \"\"\"Class for doing encryption and decryption using a Casesar cipher.\"\"\"\n",
    "    \n",
    "    def __init__(self, shift):\n",
    "        self._forward = ''.join([chr((k + shift) % 26 + ord('A')) for k in range(26)])\n",
    "        self._backward = ''.join([chr((k - shift) % 26 + ord('A')) for k in range(26)])\n",
    "        \n",
    "    def _transform(self, message, code): # 最好能同步父子类的transform方法\n",
    "        msg = list(message)\n",
    "        for k in range(len(msg)):\n",
    "            if msg[k].isupper():\n",
    "                j = ord(msg[k]) - ord('A')\n",
    "                msg[k] = code[j]\n",
    "        return ''.join(msg)\n",
    "    \n",
    "if __name__ == '__main__':\n",
    "    cipher = CaesarCipher(3)\n",
    "    message = 'THE EAGLE IS IN PLAY; MEET AT JOE\"S.'\n",
    "    coded = cipher.encrypt(message)\n",
    "    print('Secret Data: ', coded)\n",
    "    answer = cipher.decrypt(coded)\n",
    "    print('Original Message:', answer)"
   ]
  },
  {
   "cell_type": "code",
   "execution_count": 213,
   "metadata": {},
   "outputs": [
    {
     "name": "stdout",
     "output_type": "stream",
     "text": [
      "Secret Data:  VNI IYDAI TO TX HAYR; CIIV YV EPI\"O.\n"
     ]
    }
   ],
   "source": [
    "cipher = SubstitutionCipher()\n",
    "message = 'THE EAGLE IS IN PLAY; MEET AT JOE\"S.'\n",
    "coded = cipher.encrypt(message)\n",
    "print('Secret Data: ', coded)"
   ]
  },
  {
   "cell_type": "markdown",
   "metadata": {},
   "source": [
    "#### P-5.37"
   ]
  },
  {
   "cell_type": "code",
   "execution_count": 244,
   "metadata": {},
   "outputs": [],
   "source": [
    "from random import shuffle\n",
    "\n",
    "class RandomCipher(SubstitutionCipher):\n",
    "    \n",
    "    def __init__(self):\n",
    "        super(RandomCipher, self).__init__()\n",
    "        self._forward = list(self._forward)\n",
    "        shuffle(self._forward)\n",
    "        self._forward = ''.join(self._forward)"
   ]
  },
  {
   "cell_type": "code",
   "execution_count": 245,
   "metadata": {},
   "outputs": [],
   "source": [
    "rc = RandomCipher()"
   ]
  },
  {
   "cell_type": "code",
   "execution_count": 246,
   "metadata": {},
   "outputs": [
    {
     "data": {
      "text/plain": [
       "'RNGCPQYBLIZJTEHMDWUAOFXSKV'"
      ]
     },
     "execution_count": 246,
     "metadata": {},
     "output_type": "execute_result"
    }
   ],
   "source": [
    "rc._forward"
   ]
  },
  {
   "cell_type": "code",
   "execution_count": 247,
   "metadata": {},
   "outputs": [
    {
     "data": {
      "text/plain": [
       "'ABCDEFGHIJKLMNOPQRSTUVWXYZ'"
      ]
     },
     "execution_count": 247,
     "metadata": {},
     "output_type": "execute_result"
    }
   ],
   "source": [
    "rc._backward"
   ]
  },
  {
   "cell_type": "code",
   "execution_count": 248,
   "metadata": {},
   "outputs": [],
   "source": [
    "rc1 = RandomCipher()"
   ]
  },
  {
   "cell_type": "code",
   "execution_count": 249,
   "metadata": {},
   "outputs": [
    {
     "data": {
      "text/plain": [
       "'RNGCPQYBLIZJTEHMDWUAOFXSKV'"
      ]
     },
     "execution_count": 249,
     "metadata": {},
     "output_type": "execute_result"
    }
   ],
   "source": [
    "rc._forward"
   ]
  },
  {
   "cell_type": "code",
   "execution_count": 264,
   "metadata": {},
   "outputs": [],
   "source": [
    "from random import shuffle\n",
    "\n",
    "class RandomCipher(SubstitutionCipher):\n",
    "    def __init__(self, forward1=None):\n",
    "        super().__init__()\n",
    "        self._forward = list(self._forward)\n",
    "        shuffle(self._forward)\n",
    "        self.forward1 = ''.join(self._forward)"
   ]
  },
  {
   "cell_type": "code",
   "execution_count": 265,
   "metadata": {},
   "outputs": [],
   "source": [
    "rc = RandomCipher()"
   ]
  },
  {
   "cell_type": "code",
   "execution_count": 266,
   "metadata": {},
   "outputs": [
    {
     "data": {
      "text/plain": [
       "'PFSCXIZNHJVQTAMGBWKYULDERO'"
      ]
     },
     "execution_count": 266,
     "metadata": {},
     "output_type": "execute_result"
    }
   ],
   "source": [
    "rc.forward1"
   ]
  },
  {
   "cell_type": "code",
   "execution_count": 267,
   "metadata": {},
   "outputs": [
    {
     "data": {
      "text/plain": [
       "'PADJIKLOGMXTWFVZQRSBENYUHC'"
      ]
     },
     "execution_count": 267,
     "metadata": {},
     "output_type": "execute_result"
    }
   ],
   "source": [
    "rc1 = RandomCipher()\n",
    "rc1.forward1"
   ]
  },
  {
   "cell_type": "code",
   "execution_count": 268,
   "metadata": {},
   "outputs": [
    {
     "data": {
      "text/plain": [
       "'IEHWDFKMUSCLGBOVYNTAQZPXJR'"
      ]
     },
     "execution_count": 268,
     "metadata": {},
     "output_type": "execute_result"
    }
   ],
   "source": [
    "rc2 = RandomCipher()\n",
    "rc2.forward1"
   ]
  },
  {
   "cell_type": "code",
   "execution_count": null,
   "metadata": {},
   "outputs": [],
   "source": []
  }
 ],
 "metadata": {
  "kernelspec": {
   "display_name": "Python 3",
   "language": "python",
   "name": "python3"
  },
  "language_info": {
   "codemirror_mode": {
    "name": "ipython",
    "version": 3
   },
   "file_extension": ".py",
   "mimetype": "text/x-python",
   "name": "python",
   "nbconvert_exporter": "python",
   "pygments_lexer": "ipython3",
   "version": "3.7.3"
  }
 },
 "nbformat": 4,
 "nbformat_minor": 2
}
