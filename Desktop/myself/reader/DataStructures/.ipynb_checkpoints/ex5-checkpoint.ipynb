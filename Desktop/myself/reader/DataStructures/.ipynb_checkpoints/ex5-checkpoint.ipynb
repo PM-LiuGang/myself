{
 "cells": [
  {
   "cell_type": "markdown",
   "metadata": {},
   "source": [
    "#### 5-1"
   ]
  },
  {
   "cell_type": "markdown",
   "metadata": {},
   "source": [
    "import sys\n",
    "\n",
    "data = []\n",
    "for k in range(42):\n",
    "    a = len(data)\n",
    "    b = sys.getsizeof(data)\n",
    "    print('Length: {0:3d}; Size in bytes: {1:4d}'.format(a, b))\n",
    "    data.append(None)"
   ]
  },
  {
   "cell_type": "markdown",
   "metadata": {},
   "source": [
    "#### #5-3"
   ]
  },
  {
   "cell_type": "code",
   "execution_count": 143,
   "metadata": {},
   "outputs": [],
   "source": [
    "import ctypes\n",
    "\n",
    "class DynamicArray:\n",
    "    \"\"\"A dynamic array class akin to a simplified Python list.\"\"\"\n",
    "    \n",
    "    def __init__(self):\n",
    "        \"\"\"Create an empty array\"\"\"\n",
    "        self._n = 0             # count actual elements\n",
    "        self._capacity = 1  # default array capacity\n",
    "        self._A = self._make_array(self._capacity)  # low-level array\n",
    "        \n",
    "    def __len__(self):\n",
    "        \"\"\"Return number of elements stored in the array.\"\"\"\n",
    "        return self._n\n",
    "    \n",
    "    def __getitem__(self, k):\n",
    "        \"\"\"Return element at index k.\"\"\"\n",
    "        if not 0 <= k < self._n:\n",
    "            raise IndexError('Invalid index')\n",
    "        return self._A[k]                                           # retrieve from array\n",
    "    \n",
    "    def append(self, obj):\n",
    "        \"\"\"Add object to end of the array\"\"\"           \n",
    "        if self._n == self._capacity:                          # not enough room\n",
    "            self._resize(2 * self._capacity)                  # so double capacity\n",
    "        self._A[self._n] = obj\n",
    "        self._n += 1\n",
    "        \n",
    "    def _resize(self, c):                                             # nonpublic utitity\n",
    "        \"\"\"Resize internal array to capacity c.\"\"\"    \n",
    "        B = self._make_array(c)                                 # new (bigger) array\n",
    "        for k in range(self._n):                                  # for each existing value\n",
    "            B[k] = self._A[k]\n",
    "        self._A = B                                                    # use the bigger array\n",
    "        self._capacity = c\n",
    "        \n",
    "    def _make_array(self, c):                                  # nonpublic utitity\n",
    "        \"\"\"Return new array with capacity c.\"\"\"\n",
    "        return(c * ctypes.py_object)()                     # see ctypes documentation    "
   ]
  },
  {
   "cell_type": "code",
   "execution_count": 144,
   "metadata": {},
   "outputs": [],
   "source": [
    "da1 = DynamicArray()"
   ]
  },
  {
   "cell_type": "code",
   "execution_count": 145,
   "metadata": {},
   "outputs": [
    {
     "data": {
      "text/plain": [
       "(None, None)"
      ]
     },
     "execution_count": 145,
     "metadata": {},
     "output_type": "execute_result"
    }
   ],
   "source": [
    "da1.append(1), da1.append(2)"
   ]
  },
  {
   "cell_type": "code",
   "execution_count": 146,
   "metadata": {},
   "outputs": [
    {
     "data": {
      "text/plain": [
       "[1, 2]"
      ]
     },
     "execution_count": 146,
     "metadata": {},
     "output_type": "execute_result"
    }
   ],
   "source": [
    "list(da1)"
   ]
  },
  {
   "cell_type": "code",
   "execution_count": null,
   "metadata": {},
   "outputs": [],
   "source": []
  },
  {
   "cell_type": "markdown",
   "metadata": {},
   "source": [
    "#### R-5.4"
   ]
  },
  {
   "cell_type": "code",
   "execution_count": 192,
   "metadata": {},
   "outputs": [],
   "source": [
    "import ctypes\n",
    "\n",
    "class DynamicArray_54:\n",
    "    \"\"\"A dynamic array class akin to a simplified Python list.\"\"\"\n",
    "    \n",
    "    def __init__(self):\n",
    "        \"\"\"Create an empty array\"\"\"\n",
    "        self._n = 0             # count actual elements\n",
    "        self._capacity = 1  # default array capacity\n",
    "        self._A = self._make_array(self._capacity)  # low-level array\n",
    "        \n",
    "    def __len__(self):\n",
    "        \"\"\"Return number of elements stored in the array.\"\"\"\n",
    "        return self._n\n",
    "    \n",
    "    def __getitem__(self, k):\n",
    "        \"\"\"Return element at index k.\"\"\"\n",
    "        if not -self._n < k < self._n:\n",
    "            raise IndexError('Invalid index')\n",
    "        if self._n > k >= 0:\n",
    "            return self._A[k]                                           # retrieve from array\n",
    "        elif k < 0:\n",
    "            return self._A[self._n + k]\n",
    "        \n",
    "    def append(self, obj):\n",
    "        \"\"\"Add object to end of the array\"\"\"           \n",
    "        if self._n == self._capacity:                          # not enough room\n",
    "            self._resize(2 * self._capacity)                  # so double capacity\n",
    "        self._A[self._n] = obj\n",
    "        self._n += 1\n",
    "        \n",
    "    def pop(self):\n",
    "        \"\"\"remove object the last element of the array\"\"\"\n",
    "        B = self._make_array(self._n)                                 # new (bigger) array\n",
    "        for k in range(self._n):                                  # for each existing value\n",
    "            B[k] = self._A[k]\n",
    "        try:\n",
    "            if B[-1]:\n",
    "                self._A = B[:-1]                                             # use the bigger array\n",
    "        except:\n",
    "            raise IndexError('list is empty or index is out of range.')\n",
    "        self._n -= 1\n",
    "        \n",
    "        if self._n < self._capacity / 4:\n",
    "            self._resize( self._capacity // 2)\n",
    "            \n",
    "    def _resize(self, c):                                             # nonpublic utitity\n",
    "        \"\"\"Resize internal array to capacity c.\"\"\"    \n",
    "        B = self._make_array(c)                                 # new (bigger) array\n",
    "        for k in range(self._n):                                  # for each existing value\n",
    "            B[k] = self._A[k]\n",
    "        self._A = B                                                    # use the bigger array\n",
    "        self._capacity = c\n",
    "        \n",
    "    def _make_array(self, c):                                  # nonpublic utitity\n",
    "        \"\"\"Return new array with capacity c.\"\"\"\n",
    "        return(c * ctypes.py_object)()                     # see ctypes documentation    "
   ]
  },
  {
   "cell_type": "code",
   "execution_count": 175,
   "metadata": {},
   "outputs": [],
   "source": [
    "da = DynamicArray_54()"
   ]
  },
  {
   "cell_type": "code",
   "execution_count": 176,
   "metadata": {},
   "outputs": [
    {
     "data": {
      "text/plain": [
       "(None, None, None, None)"
      ]
     },
     "execution_count": 176,
     "metadata": {},
     "output_type": "execute_result"
    }
   ],
   "source": [
    "da.append(1),da.append(2), da.append(4),da.append(4),"
   ]
  },
  {
   "cell_type": "code",
   "execution_count": 177,
   "metadata": {},
   "outputs": [
    {
     "data": {
      "text/plain": [
       "[1, 2, 4, 4]"
      ]
     },
     "execution_count": 177,
     "metadata": {},
     "output_type": "execute_result"
    }
   ],
   "source": [
    "list(da)"
   ]
  },
  {
   "cell_type": "code",
   "execution_count": 178,
   "metadata": {},
   "outputs": [
    {
     "data": {
      "text/plain": [
       "(4, 2)"
      ]
     },
     "execution_count": 178,
     "metadata": {},
     "output_type": "execute_result"
    }
   ],
   "source": [
    "da[-1],da[-3]"
   ]
  },
  {
   "cell_type": "markdown",
   "metadata": {},
   "source": [
    "da[8] # error"
   ]
  },
  {
   "cell_type": "code",
   "execution_count": 142,
   "metadata": {},
   "outputs": [
    {
     "data": {
      "text/plain": [
       "'b'"
      ]
     },
     "execution_count": 142,
     "metadata": {},
     "output_type": "execute_result"
    }
   ],
   "source": [
    "da[7]"
   ]
  },
  {
   "cell_type": "markdown",
   "metadata": {},
   "source": [
    "### 练习"
   ]
  },
  {
   "cell_type": "markdown",
   "metadata": {},
   "source": [
    "#### R-5.2"
   ]
  },
  {
   "cell_type": "code",
   "execution_count": 17,
   "metadata": {},
   "outputs": [
    {
     "name": "stdout",
     "output_type": "stream",
     "text": [
      "Length:   0; Size in bytes:   64\n",
      "Length:   1; Size in bytes:   96\n",
      "Length:   5; Size in bytes:  128\n",
      "Length:   9; Size in bytes:  192\n"
     ]
    }
   ],
   "source": [
    "import sys\n",
    "\n",
    "data = []\n",
    "n = 5\n",
    "\n",
    "for k in range(22):\n",
    "    a = len(data)\n",
    "    b = sys.getsizeof(data)\n",
    "    if a == 0:\n",
    "        print('Length: {0:3d}; Size in bytes: {1:4d}'.format(a, b))\n",
    "    elif b - 64 == 2 ** n:\n",
    "        print('Length: {0:3d}; Size in bytes: {1:4d}'.format(a, b))\n",
    "        n += 1\n",
    "    else:\n",
    "#         print('else', b, n)\n",
    "        pass\n",
    "    data.append(None)"
   ]
  },
  {
   "cell_type": "code",
   "execution_count": 23,
   "metadata": {},
   "outputs": [
    {
     "data": {
      "text/plain": [
       "True"
      ]
     },
     "execution_count": 23,
     "metadata": {},
     "output_type": "execute_result"
    }
   ],
   "source": [
    "len([None, None, None, None]) == n ** 2"
   ]
  },
  {
   "cell_type": "code",
   "execution_count": 13,
   "metadata": {},
   "outputs": [
    {
     "name": "stdout",
     "output_type": "stream",
     "text": [
      "Length:   0; Size in bytes:   64\n",
      "Length:   4; Size in bytes:   96\n",
      "Length:   8; Size in bytes:  128\n",
      "Length:  16; Size in bytes:  192\n",
      "Length:  25; Size in bytes:  264\n",
      "Length:  36; Size in bytes:  432\n"
     ]
    }
   ],
   "source": [
    "import sys\n",
    "\n",
    "data = []\n",
    "n = 0\n",
    "\n",
    "for k in range(42):\n",
    "    a = len(data)\n",
    "    b = sys.getsizeof(data)\n",
    "    if a == 0:\n",
    "        print('Length: {0:3d}; Size in bytes: {1:4d}'.format(a, b))\n",
    "        n += 2\n",
    "    elif a  == n ** 2:\n",
    "        if n == 3:\n",
    "                print('Length: {0:3d}; Size in bytes: {1:4d}'.format(a - 1, b - 64))\n",
    "        else:\n",
    "            print('Length: {0:3d}; Size in bytes: {1:4d}'.format(a, b))\n",
    "        n += 1\n",
    "    else:\n",
    "#         print('else', b, n)\n",
    "        pass\n",
    "    data.append(None)\n"
   ]
  },
  {
   "cell_type": "markdown",
   "metadata": {},
   "source": [
    "### #创新"
   ]
  },
  {
   "cell_type": "markdown",
   "metadata": {},
   "source": [
    "#### C-5.13"
   ]
  },
  {
   "cell_type": "code",
   "execution_count": 16,
   "metadata": {},
   "outputs": [
    {
     "data": {
      "text/plain": [
       "96"
      ]
     },
     "execution_count": 16,
     "metadata": {},
     "output_type": "execute_result"
    }
   ],
   "source": [
    "data = ['a', 'b', 'c', 'd']\n",
    "\n",
    "sys.getsizeof(data)"
   ]
  },
  {
   "cell_type": "code",
   "execution_count": 18,
   "metadata": {},
   "outputs": [
    {
     "name": "stdout",
     "output_type": "stream",
     "text": [
      "Length:   5; Size in bytes:  128\n"
     ]
    }
   ],
   "source": [
    "import sys\n",
    "\n",
    "data = ['a', 'b', 'c', 'd']\n",
    "n = 5\n",
    "initial = sys.getsizeof(data)\n",
    "\n",
    "for k in range(22):\n",
    "    a = len(data)\n",
    "    b = sys.getsizeof(data)\n",
    "    if a == 0:\n",
    "        print('Length: {0:3d}; Size in bytes: {1:4d}'.format(a, b))\n",
    "    elif b - initial == 2 ** n:\n",
    "        print('Length: {0:3d}; Size in bytes: {1:4d}'.format(a, b))\n",
    "        n += 1\n",
    "    else:\n",
    "#         print('else', b, n)\n",
    "        pass\n",
    "    data.append(None)"
   ]
  },
  {
   "cell_type": "code",
   "execution_count": null,
   "metadata": {},
   "outputs": [],
   "source": [
    "import sys\n",
    "\n",
    "data = list('abcd')\n",
    "\n",
    "for k in range(22):\n",
    "    a = len(data)\n",
    "    b = sys.getsizeof(data)\n",
    "    print('Length: {0:3d}; Size in bytes: {1:4d}'.format(a, b))\n",
    "    data.append(None)"
   ]
  },
  {
   "cell_type": "code",
   "execution_count": null,
   "metadata": {},
   "outputs": [],
   "source": [
    "import sys\n",
    "\n",
    "data = list('abc')\n",
    "\n",
    "for k in range(22):\n",
    "    a = len(data)\n",
    "    b = sys.getsizeof(data)\n",
    "    print('Length: {0:3d}; Size in bytes: {1:4d}'.format(a, b))\n",
    "    data.append(None)"
   ]
  },
  {
   "cell_type": "code",
   "execution_count": null,
   "metadata": {},
   "outputs": [],
   "source": [
    "import sys\n",
    "\n",
    "data = list('ab')\n",
    "\n",
    "for k in range(22):\n",
    "    a = len(data)\n",
    "    b = sys.getsizeof(data)\n",
    "    print('Length: {0:3d}; Size in bytes: {1:4d}'.format(a, b))\n",
    "    data.append(None)"
   ]
  },
  {
   "cell_type": "code",
   "execution_count": null,
   "metadata": {},
   "outputs": [],
   "source": [
    "import sys\n",
    "\n",
    "data = list('a')\n",
    "\n",
    "for k in range(22):\n",
    "    a = len(data)\n",
    "    b = sys.getsizeof(data)\n",
    "    print('Length: {0:3d}; Size in bytes: {1:4d}'.format(a, b))\n",
    "    data.append(None)"
   ]
  },
  {
   "cell_type": "code",
   "execution_count": null,
   "metadata": {},
   "outputs": [],
   "source": [
    "import sys\n",
    "\n",
    "data = list('abcde')\n",
    "\n",
    "for k in range(22):\n",
    "    a = len(data)\n",
    "    b = sys.getsizeof(data)\n",
    "    print('Length: {0:3d}; Size in bytes: {1:4d}'.format(a, b))\n",
    "    data.append(None)"
   ]
  },
  {
   "cell_type": "markdown",
   "metadata": {},
   "source": [
    "#### C-5.16"
   ]
  },
  {
   "cell_type": "code",
   "execution_count": 43,
   "metadata": {},
   "outputs": [],
   "source": [
    "l1 = list('abbd')"
   ]
  },
  {
   "cell_type": "code",
   "execution_count": 44,
   "metadata": {},
   "outputs": [
    {
     "data": {
      "text/plain": [
       "'a'"
      ]
     },
     "execution_count": 44,
     "metadata": {},
     "output_type": "execute_result"
    }
   ],
   "source": [
    "l1.pop(0)"
   ]
  },
  {
   "cell_type": "code",
   "execution_count": 45,
   "metadata": {},
   "outputs": [
    {
     "data": {
      "text/plain": [
       "['b', 'b', 'd']"
      ]
     },
     "execution_count": 45,
     "metadata": {},
     "output_type": "execute_result"
    }
   ],
   "source": [
    "l1 "
   ]
  },
  {
   "cell_type": "code",
   "execution_count": 7,
   "metadata": {},
   "outputs": [],
   "source": [
    "del l1[-1]"
   ]
  },
  {
   "cell_type": "code",
   "execution_count": 8,
   "metadata": {},
   "outputs": [
    {
     "data": {
      "text/plain": [
       "['a', 'b', 'b']"
      ]
     },
     "execution_count": 8,
     "metadata": {},
     "output_type": "execute_result"
    }
   ],
   "source": [
    "l1"
   ]
  },
  {
   "cell_type": "code",
   "execution_count": null,
   "metadata": {},
   "outputs": [],
   "source": []
  },
  {
   "cell_type": "code",
   "execution_count": 85,
   "metadata": {},
   "outputs": [],
   "source": [
    "import ctypes\n",
    "\n",
    "class DynamicArray_516:\n",
    "    \"\"\"A dynamic array class akin to a simplified Python list.\"\"\"\n",
    "    \n",
    "    def __init__(self):\n",
    "        \"\"\"Create an empty array\"\"\"\n",
    "        self._n = 0             # count actual elements\n",
    "        self._capacity = 8  # default array capacity\n",
    "        self._A = self._make_array(self._capacity)  # low-level array\n",
    "        \n",
    "    def __len__(self):\n",
    "        \"\"\"Return number of elements stored in the array.\"\"\"\n",
    "        return self._n\n",
    "    \n",
    "    def __getitem__(self, k):\n",
    "        \"\"\"Return element at index k.\"\"\"\n",
    "        if not 0 < k < self._n:\n",
    "            raise IndexError('Invalid index')\n",
    "        return self._A[k]                                           # retrieve from array\n",
    "    \n",
    "    def append(self, obj):\n",
    "        \"\"\"Add object to end of the array\"\"\"           \n",
    "        if self._n == self._capacity:                          # not enough room\n",
    "            self._resize(2 * self._capacity)                  # so double capacity\n",
    "        self._A[self._n] = obj\n",
    "        self._n += 1\n",
    "        \n",
    "    def pop(self):\n",
    "        \"\"\"remove object the last element of the array\"\"\"\n",
    "        B = self._make_array(self._n)                                 # new (bigger) array\n",
    "        for k in range(self._n):                                  # for each existing value\n",
    "            B[k] = self._A[k]\n",
    "        try:\n",
    "            if B[-1]:\n",
    "                self._A = B[:-1]                                             # use the bigger array\n",
    "        except:\n",
    "            raise IndexError('list is empty or index is out of range.')\n",
    "        self._n -= 1\n",
    "        \n",
    "        if self._n < self._capacity / 4:\n",
    "            self._resize( self._capacity // 2)\n",
    "        \n",
    "        print('pop移除的元素是:{0};数组大小是:{1}'.format(B[-1], self._capacity))\n",
    "        \n",
    "    def _resize(self, c):                                             # nonpublic utitity\n",
    "        \"\"\"Resize internal array to capacity c.\"\"\"    \n",
    "        B = self._make_array(c)                                 # new (bigger) array\n",
    "        for k in range(self._n):                                  # for each existing value\n",
    "            B[k] = self._A[k]\n",
    "        self._A = B                                                    # use the bigger array\n",
    "        self._capacity = c\n",
    "        \n",
    "    def _make_array(self, c):                                  # nonpublic utitity\n",
    "        \"\"\"Return new array with capacity c.\"\"\"\n",
    "        return(c * ctypes.py_object)()                     # see ctypes documentation    "
   ]
  },
  {
   "cell_type": "code",
   "execution_count": 145,
   "metadata": {},
   "outputs": [],
   "source": [
    "da = DynamicArray()"
   ]
  },
  {
   "cell_type": "code",
   "execution_count": 146,
   "metadata": {},
   "outputs": [
    {
     "data": {
      "text/plain": [
       "(None, None, None, None, None, None, None, None)"
      ]
     },
     "execution_count": 146,
     "metadata": {},
     "output_type": "execute_result"
    }
   ],
   "source": [
    "da.append(1), da.append('a'), da.append(3), da.append('b'),da.append(1), da.append('a'), da.append(3), da.append('b')"
   ]
  },
  {
   "cell_type": "code",
   "execution_count": 147,
   "metadata": {},
   "outputs": [
    {
     "data": {
      "text/plain": [
       "8"
      ]
     },
     "execution_count": 147,
     "metadata": {},
     "output_type": "execute_result"
    }
   ],
   "source": [
    "len(da)"
   ]
  },
  {
   "cell_type": "code",
   "execution_count": 152,
   "metadata": {},
   "outputs": [
    {
     "name": "stdout",
     "output_type": "stream",
     "text": [
      "POP移除的元素是b, 数组大小是4\n"
     ]
    }
   ],
   "source": [
    "da.pop()"
   ]
  },
  {
   "cell_type": "code",
   "execution_count": 153,
   "metadata": {},
   "outputs": [
    {
     "data": {
      "text/plain": [
       "3"
      ]
     },
     "execution_count": 153,
     "metadata": {},
     "output_type": "execute_result"
    }
   ],
   "source": [
    "len(da)"
   ]
  },
  {
   "cell_type": "code",
   "execution_count": 66,
   "metadata": {},
   "outputs": [
    {
     "data": {
      "text/plain": [
       "[1, 'a']"
      ]
     },
     "execution_count": 66,
     "metadata": {},
     "output_type": "execute_result"
    }
   ],
   "source": [
    "list(da) # 不使 list，无法显示"
   ]
  },
  {
   "cell_type": "code",
   "execution_count": 130,
   "metadata": {},
   "outputs": [
    {
     "data": {
      "text/plain": [
       "2.6666666666666665"
      ]
     },
     "execution_count": 130,
     "metadata": {},
     "output_type": "execute_result"
    }
   ],
   "source": [
    "8 /3 "
   ]
  },
  {
   "cell_type": "code",
   "execution_count": 131,
   "metadata": {},
   "outputs": [
    {
     "data": {
      "text/plain": [
       "4"
      ]
     },
     "execution_count": 131,
     "metadata": {},
     "output_type": "execute_result"
    }
   ],
   "source": [
    "9 // 2"
   ]
  },
  {
   "cell_type": "code",
   "execution_count": 154,
   "metadata": {},
   "outputs": [
    {
     "data": {
      "text/plain": [
       "1"
      ]
     },
     "execution_count": 154,
     "metadata": {},
     "output_type": "execute_result"
    }
   ],
   "source": [
    "9 % 2"
   ]
  },
  {
   "cell_type": "markdown",
   "metadata": {},
   "source": [
    "#### #5-4 测量Python列表类增添操作的摊销花费"
   ]
  },
  {
   "cell_type": "code",
   "execution_count": 6,
   "metadata": {},
   "outputs": [],
   "source": [
    "from time import time\n",
    "\n",
    "def compute_average(n):\n",
    "    \"\"\"Perform n appends to an empty list and return average time elapsed.\"\"\"\n",
    "    data = []\n",
    "    start = time()\n",
    "    for k in range(n):\n",
    "        data.append(None)\n",
    "    end = time()\n",
    "    return (end - start)"
   ]
  },
  {
   "cell_type": "code",
   "execution_count": 14,
   "metadata": {},
   "outputs": [
    {
     "data": {
      "text/plain": [
       "0.00400090217590332"
      ]
     },
     "execution_count": 14,
     "metadata": {},
     "output_type": "execute_result"
    }
   ],
   "source": [
    "compute_average(10000)"
   ]
  },
  {
   "cell_type": "code",
   "execution_count": 15,
   "metadata": {},
   "outputs": [
    {
     "data": {
      "text/plain": [
       "0.013002395629882812"
      ]
     },
     "execution_count": 15,
     "metadata": {},
     "output_type": "execute_result"
    }
   ],
   "source": [
    "compute_average(100000)"
   ]
  },
  {
   "cell_type": "code",
   "execution_count": 16,
   "metadata": {},
   "outputs": [
    {
     "data": {
      "text/plain": [
       "0.0800180435180664"
      ]
     },
     "execution_count": 16,
     "metadata": {},
     "output_type": "execute_result"
    }
   ],
   "source": [
    "compute_average(1000000)"
   ]
  },
  {
   "cell_type": "code",
   "execution_count": 17,
   "metadata": {},
   "outputs": [
    {
     "data": {
      "text/plain": [
       "0.8006329536437988"
      ]
     },
     "execution_count": 17,
     "metadata": {},
     "output_type": "execute_result"
    }
   ],
   "source": [
    "compute_average(10000000)"
   ]
  },
  {
   "cell_type": "code",
   "execution_count": 18,
   "metadata": {},
   "outputs": [
    {
     "data": {
      "text/plain": [
       "0.006001949310302734"
      ]
     },
     "execution_count": 18,
     "metadata": {},
     "output_type": "execute_result"
    }
   ],
   "source": [
    "compute_average(100000)"
   ]
  },
  {
   "cell_type": "markdown",
   "metadata": {},
   "source": [
    "#### 字典比较"
   ]
  },
  {
   "cell_type": "code",
   "execution_count": 1,
   "metadata": {},
   "outputs": [
    {
     "ename": "TypeError",
     "evalue": "'<' not supported between instances of 'dict' and 'dict'",
     "output_type": "error",
     "traceback": [
      "\u001b[1;31m---------------------------------------------------------------------------\u001b[0m",
      "\u001b[1;31mTypeError\u001b[0m                                 Traceback (most recent call last)",
      "\u001b[1;32m<ipython-input-1-08eb03d4edf8>\u001b[0m in \u001b[0;36m<module>\u001b[1;34m\u001b[0m\n\u001b[0;32m      2\u001b[0m \u001b[0mb\u001b[0m \u001b[1;33m=\u001b[0m \u001b[1;33m{\u001b[0m\u001b[1;34m'b'\u001b[0m\u001b[1;33m:\u001b[0m \u001b[1;36m2\u001b[0m\u001b[1;33m}\u001b[0m\u001b[1;33m\u001b[0m\u001b[1;33m\u001b[0m\u001b[0m\n\u001b[0;32m      3\u001b[0m \u001b[1;33m\u001b[0m\u001b[0m\n\u001b[1;32m----> 4\u001b[1;33m \u001b[0ma\u001b[0m \u001b[1;33m<\u001b[0m \u001b[0mb\u001b[0m\u001b[1;33m\u001b[0m\u001b[1;33m\u001b[0m\u001b[0m\n\u001b[0m",
      "\u001b[1;31mTypeError\u001b[0m: '<' not supported between instances of 'dict' and 'dict'"
     ]
    }
   ],
   "source": [
    "a = {'a': 1}\n",
    "b = {'b': 2}\n",
    "\n",
    "a < b"
   ]
  },
  {
   "cell_type": "markdown",
   "metadata": {},
   "source": [
    "#### #5-5 DynamicArray类insert方法的实现"
   ]
  },
  {
   "cell_type": "markdown",
   "metadata": {},
   "source": [
    "#### ？如何给已定义好的类添加方法？"
   ]
  },
  {
   "cell_type": "code",
   "execution_count": 3,
   "metadata": {},
   "outputs": [],
   "source": [
    "def insert(self, k , value):\n",
    "    \"\"\"Insert value at index k , shifting subsequent values rightward.\"\"\"\n",
    "    # (for simplicity, we assume 0<= k <=n in this version)\n",
    "    if self._n == self._capacity:\n",
    "        self._resize(2 * self._capacity)\n",
    "    for j in range(self._n, k, -1):\n",
    "        self._A[j] = self._A[j - 1]\n",
    "    self._A[k] = value\n",
    "    self._n += 1"
   ]
  },
  {
   "cell_type": "markdown",
   "metadata": {},
   "source": [
    "#### R-5.8"
   ]
  },
  {
   "cell_type": "code",
   "execution_count": 38,
   "metadata": {},
   "outputs": [],
   "source": [
    "from time import time\n",
    "\n",
    "def compute_r58():\n",
    "    for i in [1000, 100000, 1000000, 10000000]:\n",
    "        data = [1] * i \n",
    "        start = time()\n",
    "        for k in range(i):\n",
    "            data.pop()\n",
    "        end = time()\n",
    "        print(end - start)"
   ]
  },
  {
   "cell_type": "code",
   "execution_count": 50,
   "metadata": {},
   "outputs": [],
   "source": [
    "from time import time\n",
    "\n",
    "def compute_r58():\n",
    "    for i in [1000, 10000, 50000, 100000]:\n",
    "        data = [1] * i \n",
    "        start = time()\n",
    "        for k in range(i):\n",
    "            data.pop(0)\n",
    "        end = time()\n",
    "        print(end - start)"
   ]
  },
  {
   "cell_type": "code",
   "execution_count": 51,
   "metadata": {},
   "outputs": [
    {
     "name": "stdout",
     "output_type": "stream",
     "text": [
      "0.0\n",
      "0.011002540588378906\n",
      "0.3078482151031494\n",
      "1.1511106491088867\n"
     ]
    }
   ],
   "source": [
    "compute_r58() # pop(0)"
   ]
  },
  {
   "cell_type": "code",
   "execution_count": 56,
   "metadata": {},
   "outputs": [],
   "source": [
    "from time import time\n",
    "\n",
    "def compute_r58():\n",
    "    for i in [1000, 10000, 50000, 100000]:\n",
    "        data = [1] * i \n",
    "        start = time()\n",
    "        for k in range(i):\n",
    "            data.pop(i // 2)\n",
    "            i -= 1\n",
    "        end = time()\n",
    "        print(end - start)"
   ]
  },
  {
   "cell_type": "code",
   "execution_count": 57,
   "metadata": {},
   "outputs": [
    {
     "name": "stdout",
     "output_type": "stream",
     "text": [
      "0.0009999275207519531\n",
      "0.00600123405456543\n",
      "0.14557266235351562\n",
      "0.6065120697021484\n"
     ]
    }
   ],
   "source": [
    "compute_r58() # pop(n // 2)"
   ]
  },
  {
   "cell_type": "code",
   "execution_count": 54,
   "metadata": {},
   "outputs": [],
   "source": [
    "from time import time\n",
    "\n",
    "def compute_r58():\n",
    "    for i in [1000, 10000, 50000, 100000]:\n",
    "        data = [1] * i \n",
    "        start = time()\n",
    "        for k in range(i):\n",
    "            data.pop()\n",
    "        end = time()\n",
    "        print(end - start)"
   ]
  },
  {
   "cell_type": "code",
   "execution_count": 55,
   "metadata": {},
   "outputs": [
    {
     "name": "stdout",
     "output_type": "stream",
     "text": [
      "0.0\n",
      "0.0009989738464355469\n",
      "0.004001140594482422\n",
      "0.008001327514648438\n"
     ]
    }
   ],
   "source": [
    "compute_r58() # pop()"
   ]
  },
  {
   "cell_type": "markdown",
   "metadata": {},
   "source": [
    "#### R-5.7"
   ]
  },
  {
   "cell_type": "code",
   "execution_count": 211,
   "metadata": {},
   "outputs": [],
   "source": [
    "da = DynamicArray_54()"
   ]
  },
  {
   "cell_type": "code",
   "execution_count": 212,
   "metadata": {},
   "outputs": [
    {
     "data": {
      "text/plain": [
       "(None, None, None, None, None, None, None)"
      ]
     },
     "execution_count": 212,
     "metadata": {},
     "output_type": "execute_result"
    }
   ],
   "source": [
    "da.append(2), da.append(1), da.append(11), da.append(5),da.append(4), da.append(2), da.append(3)"
   ]
  },
  {
   "cell_type": "code",
   "execution_count": 213,
   "metadata": {},
   "outputs": [
    {
     "data": {
      "text/plain": [
       "7"
      ]
     },
     "execution_count": 213,
     "metadata": {},
     "output_type": "execute_result"
    }
   ],
   "source": [
    "len(da)"
   ]
  },
  {
   "cell_type": "code",
   "execution_count": 214,
   "metadata": {},
   "outputs": [
    {
     "data": {
      "text/plain": [
       "[2, 1, 11, 5, 4, 2, 3]"
      ]
     },
     "execution_count": 214,
     "metadata": {},
     "output_type": "execute_result"
    }
   ],
   "source": [
    "list(da)"
   ]
  },
  {
   "cell_type": "code",
   "execution_count": 215,
   "metadata": {},
   "outputs": [
    {
     "name": "stdout",
     "output_type": "stream",
     "text": [
      "Find: 2 2\n"
     ]
    }
   ],
   "source": [
    "n = 1\n",
    "\n",
    "for i in range(len(da) - 1):\n",
    "    for h in list(da)[n: ]:\n",
    "        if da[i]== h:\n",
    "            print('Find:', da[i], h)\n",
    "        else:\n",
    "            pass\n",
    "    n  += 1"
   ]
  },
  {
   "cell_type": "code",
   "execution_count": 187,
   "metadata": {},
   "outputs": [
    {
     "ename": "TypeError",
     "evalue": "'<' not supported between instances of 'int' and 'slice'",
     "output_type": "error",
     "traceback": [
      "\u001b[1;31m---------------------------------------------------------------------------\u001b[0m",
      "\u001b[1;31mTypeError\u001b[0m                                 Traceback (most recent call last)",
      "\u001b[1;32m<ipython-input-187-ffdd3d164fb8>\u001b[0m in \u001b[0;36m<module>\u001b[1;34m\u001b[0m\n\u001b[1;32m----> 1\u001b[1;33m \u001b[0mda\u001b[0m\u001b[1;33m[\u001b[0m\u001b[1;36m1\u001b[0m\u001b[1;33m:\u001b[0m\u001b[1;33m]\u001b[0m\u001b[1;33m\u001b[0m\u001b[1;33m\u001b[0m\u001b[0m\n\u001b[0m",
      "\u001b[1;32m<ipython-input-180-28683ff08db4>\u001b[0m in \u001b[0;36m__getitem__\u001b[1;34m(self, k)\u001b[0m\n\u001b[0;32m     16\u001b[0m     \u001b[1;32mdef\u001b[0m \u001b[0m__getitem__\u001b[0m\u001b[1;33m(\u001b[0m\u001b[0mself\u001b[0m\u001b[1;33m,\u001b[0m \u001b[0mk\u001b[0m\u001b[1;33m)\u001b[0m\u001b[1;33m:\u001b[0m\u001b[1;33m\u001b[0m\u001b[1;33m\u001b[0m\u001b[0m\n\u001b[0;32m     17\u001b[0m         \u001b[1;34m\"\"\"Return element at index k.\"\"\"\u001b[0m\u001b[1;33m\u001b[0m\u001b[1;33m\u001b[0m\u001b[0m\n\u001b[1;32m---> 18\u001b[1;33m         \u001b[1;32mif\u001b[0m \u001b[1;32mnot\u001b[0m \u001b[1;33m-\u001b[0m\u001b[0mself\u001b[0m\u001b[1;33m.\u001b[0m\u001b[0m_n\u001b[0m \u001b[1;33m<\u001b[0m \u001b[0mk\u001b[0m \u001b[1;33m<\u001b[0m \u001b[0mself\u001b[0m\u001b[1;33m.\u001b[0m\u001b[0m_n\u001b[0m\u001b[1;33m:\u001b[0m\u001b[1;33m\u001b[0m\u001b[1;33m\u001b[0m\u001b[0m\n\u001b[0m\u001b[0;32m     19\u001b[0m             \u001b[1;32mraise\u001b[0m \u001b[0mIndexError\u001b[0m\u001b[1;33m(\u001b[0m\u001b[1;34m'Invalid index'\u001b[0m\u001b[1;33m)\u001b[0m\u001b[1;33m\u001b[0m\u001b[1;33m\u001b[0m\u001b[0m\n\u001b[0;32m     20\u001b[0m         \u001b[1;32mif\u001b[0m \u001b[0mself\u001b[0m\u001b[1;33m.\u001b[0m\u001b[0m_n\u001b[0m \u001b[1;33m>\u001b[0m \u001b[0mk\u001b[0m \u001b[1;33m>=\u001b[0m \u001b[1;36m0\u001b[0m\u001b[1;33m:\u001b[0m\u001b[1;33m\u001b[0m\u001b[1;33m\u001b[0m\u001b[0m\n",
      "\u001b[1;31mTypeError\u001b[0m: '<' not supported between instances of 'int' and 'slice'"
     ]
    }
   ],
   "source": [
    "da[1:] # 没有实现切片索引方式"
   ]
  },
  {
   "cell_type": "code",
   "execution_count": 197,
   "metadata": {},
   "outputs": [],
   "source": [
    "da.pop()"
   ]
  },
  {
   "cell_type": "code",
   "execution_count": 198,
   "metadata": {},
   "outputs": [
    {
     "data": {
      "text/plain": [
       "<__main__.DynamicArray_54 at 0x20217cc7588>"
      ]
     },
     "execution_count": 198,
     "metadata": {},
     "output_type": "execute_result"
    }
   ],
   "source": [
    "da"
   ]
  },
  {
   "cell_type": "code",
   "execution_count": null,
   "metadata": {},
   "outputs": [],
   "source": []
  }
 ],
 "metadata": {
  "kernelspec": {
   "display_name": "Python 3",
   "language": "python",
   "name": "python3"
  },
  "language_info": {
   "codemirror_mode": {
    "name": "ipython",
    "version": 3
   },
   "file_extension": ".py",
   "mimetype": "text/x-python",
   "name": "python",
   "nbconvert_exporter": "python",
   "pygments_lexer": "ipython3",
   "version": "3.7.3"
  }
 },
 "nbformat": 4,
 "nbformat_minor": 2
}
