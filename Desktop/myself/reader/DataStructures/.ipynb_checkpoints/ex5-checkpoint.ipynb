{
<<<<<<< HEAD
 "cells": [],
 "metadata": {},
=======
 "cells": [
  {
   "cell_type": "markdown",
   "metadata": {},
   "source": [
    "#### 5-1"
   ]
  },
  {
   "cell_type": "code",
   "execution_count": 2,
   "metadata": {},
   "outputs": [
    {
     "name": "stdout",
     "output_type": "stream",
     "text": [
      "Length:   0; Size in bytes:   64\n",
      "Length:   1; Size in bytes:   96\n",
      "Length:   2; Size in bytes:   96\n",
      "Length:   3; Size in bytes:   96\n",
      "Length:   4; Size in bytes:   96\n",
      "Length:   5; Size in bytes:  128\n",
      "Length:   6; Size in bytes:  128\n",
      "Length:   7; Size in bytes:  128\n",
      "Length:   8; Size in bytes:  128\n",
      "Length:   9; Size in bytes:  192\n",
      "Length:  10; Size in bytes:  192\n",
      "Length:  11; Size in bytes:  192\n",
      "Length:  12; Size in bytes:  192\n",
      "Length:  13; Size in bytes:  192\n",
      "Length:  14; Size in bytes:  192\n",
      "Length:  15; Size in bytes:  192\n",
      "Length:  16; Size in bytes:  192\n",
      "Length:  17; Size in bytes:  264\n",
      "Length:  18; Size in bytes:  264\n",
      "Length:  19; Size in bytes:  264\n",
      "Length:  20; Size in bytes:  264\n",
      "Length:  21; Size in bytes:  264\n",
      "Length:  22; Size in bytes:  264\n",
      "Length:  23; Size in bytes:  264\n",
      "Length:  24; Size in bytes:  264\n",
      "Length:  25; Size in bytes:  264\n",
      "Length:  26; Size in bytes:  344\n",
      "Length:  27; Size in bytes:  344\n",
      "Length:  28; Size in bytes:  344\n",
      "Length:  29; Size in bytes:  344\n",
      "Length:  30; Size in bytes:  344\n",
      "Length:  31; Size in bytes:  344\n",
      "Length:  32; Size in bytes:  344\n",
      "Length:  33; Size in bytes:  344\n",
      "Length:  34; Size in bytes:  344\n",
      "Length:  35; Size in bytes:  344\n",
      "Length:  36; Size in bytes:  432\n",
      "Length:  37; Size in bytes:  432\n",
      "Length:  38; Size in bytes:  432\n",
      "Length:  39; Size in bytes:  432\n",
      "Length:  40; Size in bytes:  432\n",
      "Length:  41; Size in bytes:  432\n"
     ]
    }
   ],
   "source": [
    "import sys\n",
    "\n",
    "data = []\n",
    "for k in range(42):\n",
    "    a = len(data)\n",
    "    b = sys.getsizeof(data)\n",
    "    print('Length: {0:3d}; Size in bytes: {1:4d}'.format(a, b))\n",
    "    data.append(None)"
   ]
  },
  {
   "cell_type": "markdown",
   "metadata": {},
   "source": [
    "#### #5-3"
   ]
  },
  {
   "cell_type": "code",
   "execution_count": 1,
   "metadata": {},
   "outputs": [],
   "source": [
    "import ctypes\n",
    "\n",
    "class DynamicArray:\n",
    "    \"\"\"A dynamic array class akin to a simplified Python list.\"\"\"\n",
    "    \n",
    "    def __init__(self):\n",
    "        \"\"\"Create an empty array\"\"\"\n",
    "        self._n = 0             # count actual elements\n",
    "        self._capacity = 1  # default array capacity\n",
    "        self._A = self._make_array(self._capacity)  # low-level array\n",
    "        \n",
    "    def __len__(self):\n",
    "        \"\"\"Return number of elements stored in the array.\"\"\"\n",
    "        return self._n\n",
    "    \n",
    "    def __getitem__(self, k):\n",
    "        \"\"\"Return element at index k.\"\"\"\n",
    "        if not 0 <= k < self._n:\n",
    "            raise IndexError('Invalid index')\n",
    "        return self._A[k]                                           # retrieve from array\n",
    "    \n",
    "    def append(self, obj):\n",
    "        \"\"\"Add object to end of the array\"\"\"           \n",
    "        if self._n == self._capacity:                          # not enough room\n",
    "            self._resize(2 * self._capacity)                  # so double capacity\n",
    "        self._A[self._n] = obj\n",
    "        self._n += 1\n",
    "        \n",
    "    def _resize(self, c):                                             # nonpublic utitity\n",
    "        \"\"\"Resize internal array to capacity c.\"\"\"    \n",
    "        B = self._make_array(c)                                 # new (bigger) array\n",
    "        for k in range(self._n):                                  # for each existing value\n",
    "            B[k] = self._A[k]\n",
    "        self._A = B                                                    # use the bigger array\n",
    "        self._capacity = c\n",
    "        \n",
    "    def _make_array(self, c):                                  # nonpublic utitity\n",
    "        \"\"\"Return new array with capacity c.\"\"\"\n",
    "        return(c * ctypes.py_object)()                     # see ctypes documentation    "
   ]
  },
  {
   "cell_type": "code",
   "execution_count": null,
   "metadata": {},
   "outputs": [],
   "source": []
  },
  {
   "cell_type": "code",
   "execution_count": null,
   "metadata": {},
   "outputs": [],
   "source": []
  },
  {
   "cell_type": "code",
   "execution_count": null,
   "metadata": {},
   "outputs": [],
   "source": []
  },
  {
   "cell_type": "code",
   "execution_count": null,
   "metadata": {},
   "outputs": [],
   "source": []
  },
  {
   "cell_type": "markdown",
   "metadata": {},
   "source": [
    "### 练习"
   ]
  },
  {
   "cell_type": "markdown",
   "metadata": {},
   "source": [
    "#### R-5.2"
   ]
  },
  {
   "cell_type": "code",
   "execution_count": 17,
   "metadata": {},
   "outputs": [
    {
     "name": "stdout",
     "output_type": "stream",
     "text": [
      "Length:   0; Size in bytes:   64\n",
      "Length:   1; Size in bytes:   96\n",
      "Length:   5; Size in bytes:  128\n",
      "Length:   9; Size in bytes:  192\n"
     ]
    }
   ],
   "source": [
    "import sys\n",
    "\n",
    "data = []\n",
    "n = 5\n",
    "\n",
    "for k in range(22):\n",
    "    a = len(data)\n",
    "    b = sys.getsizeof(data)\n",
    "    if a == 0:\n",
    "        print('Length: {0:3d}; Size in bytes: {1:4d}'.format(a, b))\n",
    "    elif b - 64 == 2 ** n:\n",
    "        print('Length: {0:3d}; Size in bytes: {1:4d}'.format(a, b))\n",
    "        n += 1\n",
    "    else:\n",
    "#         print('else', b, n)\n",
    "        pass\n",
    "    data.append(None)"
   ]
  },
  {
   "cell_type": "code",
   "execution_count": 23,
   "metadata": {},
   "outputs": [
    {
     "data": {
      "text/plain": [
       "True"
      ]
     },
     "execution_count": 23,
     "metadata": {},
     "output_type": "execute_result"
    }
   ],
   "source": [
    "len([None, None, None, None]) == n ** 2"
   ]
  },
  {
   "cell_type": "code",
   "execution_count": 13,
   "metadata": {},
   "outputs": [
    {
     "name": "stdout",
     "output_type": "stream",
     "text": [
      "Length:   0; Size in bytes:   64\n",
      "Length:   4; Size in bytes:   96\n",
      "Length:   8; Size in bytes:  128\n",
      "Length:  16; Size in bytes:  192\n",
      "Length:  25; Size in bytes:  264\n",
      "Length:  36; Size in bytes:  432\n"
     ]
    }
   ],
   "source": [
    "import sys\n",
    "\n",
    "data = []\n",
    "n = 0\n",
    "\n",
    "for k in range(42):\n",
    "    a = len(data)\n",
    "    b = sys.getsizeof(data)\n",
    "    if a == 0:\n",
    "        print('Length: {0:3d}; Size in bytes: {1:4d}'.format(a, b))\n",
    "        n += 2\n",
    "    elif a  == n ** 2:\n",
    "        if n == 3:\n",
    "                print('Length: {0:3d}; Size in bytes: {1:4d}'.format(a - 1, b - 64))\n",
    "        else:\n",
    "            print('Length: {0:3d}; Size in bytes: {1:4d}'.format(a, b))\n",
    "        n += 1\n",
    "    else:\n",
    "#         print('else', b, n)\n",
    "        pass\n",
    "    data.append(None)\n"
   ]
  },
  {
   "cell_type": "markdown",
   "metadata": {},
   "source": [
    "### #创新"
   ]
  },
  {
   "cell_type": "markdown",
   "metadata": {},
   "source": [
    "#### C-5.13"
   ]
  },
  {
   "cell_type": "code",
   "execution_count": 16,
   "metadata": {},
   "outputs": [
    {
     "data": {
      "text/plain": [
       "96"
      ]
     },
     "execution_count": 16,
     "metadata": {},
     "output_type": "execute_result"
    }
   ],
   "source": [
    "data = ['a', 'b', 'c', 'd']\n",
    "\n",
    "sys.getsizeof(data)"
   ]
  },
  {
   "cell_type": "code",
   "execution_count": 18,
   "metadata": {},
   "outputs": [
    {
     "name": "stdout",
     "output_type": "stream",
     "text": [
      "Length:   5; Size in bytes:  128\n"
     ]
    }
   ],
   "source": [
    "import sys\n",
    "\n",
    "data = ['a', 'b', 'c', 'd']\n",
    "n = 5\n",
    "initial = sys.getsizeof(data)\n",
    "\n",
    "for k in range(22):\n",
    "    a = len(data)\n",
    "    b = sys.getsizeof(data)\n",
    "    if a == 0:\n",
    "        print('Length: {0:3d}; Size in bytes: {1:4d}'.format(a, b))\n",
    "    elif b - initial == 2 ** n:\n",
    "        print('Length: {0:3d}; Size in bytes: {1:4d}'.format(a, b))\n",
    "        n += 1\n",
    "    else:\n",
    "#         print('else', b, n)\n",
    "        pass\n",
    "    data.append(None)"
   ]
  },
  {
   "cell_type": "code",
   "execution_count": 20,
   "metadata": {},
   "outputs": [
    {
     "name": "stdout",
     "output_type": "stream",
     "text": [
      "Length:   4; Size in bytes:  120\n",
      "Length:   5; Size in bytes:  120\n",
      "Length:   6; Size in bytes:  120\n",
      "Length:   7; Size in bytes:  120\n",
      "Length:   8; Size in bytes:  160\n",
      "Length:   9; Size in bytes:  160\n",
      "Length:  10; Size in bytes:  160\n",
      "Length:  11; Size in bytes:  160\n",
      "Length:  12; Size in bytes:  160\n",
      "Length:  13; Size in bytes:  224\n",
      "Length:  14; Size in bytes:  224\n",
      "Length:  15; Size in bytes:  224\n",
      "Length:  16; Size in bytes:  224\n",
      "Length:  17; Size in bytes:  224\n",
      "Length:  18; Size in bytes:  224\n",
      "Length:  19; Size in bytes:  224\n",
      "Length:  20; Size in bytes:  224\n",
      "Length:  21; Size in bytes:  296\n",
      "Length:  22; Size in bytes:  296\n",
      "Length:  23; Size in bytes:  296\n",
      "Length:  24; Size in bytes:  296\n",
      "Length:  25; Size in bytes:  296\n"
     ]
    }
   ],
   "source": [
    "import sys\n",
    "\n",
    "data = list('abcd')\n",
    "\n",
    "for k in range(22):\n",
    "    a = len(data)\n",
    "    b = sys.getsizeof(data)\n",
    "    print('Length: {0:3d}; Size in bytes: {1:4d}'.format(a, b))\n",
    "    data.append(None)"
   ]
  },
  {
   "cell_type": "code",
   "execution_count": 22,
   "metadata": {},
   "outputs": [
    {
     "name": "stdout",
     "output_type": "stream",
     "text": [
      "Length:   3; Size in bytes:  112\n",
      "Length:   4; Size in bytes:  112\n",
      "Length:   5; Size in bytes:  112\n",
      "Length:   6; Size in bytes:  112\n",
      "Length:   7; Size in bytes:  144\n",
      "Length:   8; Size in bytes:  144\n",
      "Length:   9; Size in bytes:  144\n",
      "Length:  10; Size in bytes:  144\n",
      "Length:  11; Size in bytes:  208\n",
      "Length:  12; Size in bytes:  208\n",
      "Length:  13; Size in bytes:  208\n",
      "Length:  14; Size in bytes:  208\n",
      "Length:  15; Size in bytes:  208\n",
      "Length:  16; Size in bytes:  208\n",
      "Length:  17; Size in bytes:  208\n",
      "Length:  18; Size in bytes:  208\n",
      "Length:  19; Size in bytes:  280\n",
      "Length:  20; Size in bytes:  280\n",
      "Length:  21; Size in bytes:  280\n",
      "Length:  22; Size in bytes:  280\n",
      "Length:  23; Size in bytes:  280\n",
      "Length:  24; Size in bytes:  280\n"
     ]
    }
   ],
   "source": [
    "import sys\n",
    "\n",
    "data = list('abc')\n",
    "\n",
    "for k in range(22):\n",
    "    a = len(data)\n",
    "    b = sys.getsizeof(data)\n",
    "    print('Length: {0:3d}; Size in bytes: {1:4d}'.format(a, b))\n",
    "    data.append(None)"
   ]
  },
  {
   "cell_type": "code",
   "execution_count": 23,
   "metadata": {},
   "outputs": [
    {
     "name": "stdout",
     "output_type": "stream",
     "text": [
      "Length:   2; Size in bytes:  104\n",
      "Length:   3; Size in bytes:  104\n",
      "Length:   4; Size in bytes:  104\n",
      "Length:   5; Size in bytes:  104\n",
      "Length:   6; Size in bytes:  136\n",
      "Length:   7; Size in bytes:  136\n",
      "Length:   8; Size in bytes:  136\n",
      "Length:   9; Size in bytes:  136\n",
      "Length:  10; Size in bytes:  200\n",
      "Length:  11; Size in bytes:  200\n",
      "Length:  12; Size in bytes:  200\n",
      "Length:  13; Size in bytes:  200\n",
      "Length:  14; Size in bytes:  200\n",
      "Length:  15; Size in bytes:  200\n",
      "Length:  16; Size in bytes:  200\n",
      "Length:  17; Size in bytes:  200\n",
      "Length:  18; Size in bytes:  272\n",
      "Length:  19; Size in bytes:  272\n",
      "Length:  20; Size in bytes:  272\n",
      "Length:  21; Size in bytes:  272\n",
      "Length:  22; Size in bytes:  272\n",
      "Length:  23; Size in bytes:  272\n"
     ]
    }
   ],
   "source": [
    "import sys\n",
    "\n",
    "data = list('ab')\n",
    "\n",
    "for k in range(22):\n",
    "    a = len(data)\n",
    "    b = sys.getsizeof(data)\n",
    "    print('Length: {0:3d}; Size in bytes: {1:4d}'.format(a, b))\n",
    "    data.append(None)"
   ]
  },
  {
   "cell_type": "code",
   "execution_count": 24,
   "metadata": {},
   "outputs": [
    {
     "name": "stdout",
     "output_type": "stream",
     "text": [
      "Length:   1; Size in bytes:   96\n",
      "Length:   2; Size in bytes:   96\n",
      "Length:   3; Size in bytes:   96\n",
      "Length:   4; Size in bytes:   96\n",
      "Length:   5; Size in bytes:  128\n",
      "Length:   6; Size in bytes:  128\n",
      "Length:   7; Size in bytes:  128\n",
      "Length:   8; Size in bytes:  128\n",
      "Length:   9; Size in bytes:  192\n",
      "Length:  10; Size in bytes:  192\n",
      "Length:  11; Size in bytes:  192\n",
      "Length:  12; Size in bytes:  192\n",
      "Length:  13; Size in bytes:  192\n",
      "Length:  14; Size in bytes:  192\n",
      "Length:  15; Size in bytes:  192\n",
      "Length:  16; Size in bytes:  192\n",
      "Length:  17; Size in bytes:  264\n",
      "Length:  18; Size in bytes:  264\n",
      "Length:  19; Size in bytes:  264\n",
      "Length:  20; Size in bytes:  264\n",
      "Length:  21; Size in bytes:  264\n",
      "Length:  22; Size in bytes:  264\n"
     ]
    }
   ],
   "source": [
    "import sys\n",
    "\n",
    "data = list('a')\n",
    "\n",
    "for k in range(22):\n",
    "    a = len(data)\n",
    "    b = sys.getsizeof(data)\n",
    "    print('Length: {0:3d}; Size in bytes: {1:4d}'.format(a, b))\n",
    "    data.append(None)"
   ]
  },
  {
   "cell_type": "code",
   "execution_count": 25,
   "metadata": {},
   "outputs": [
    {
     "name": "stdout",
     "output_type": "stream",
     "text": [
      "Length:   5; Size in bytes:  128\n",
      "Length:   6; Size in bytes:  128\n",
      "Length:   7; Size in bytes:  128\n",
      "Length:   8; Size in bytes:  128\n",
      "Length:   9; Size in bytes:  192\n",
      "Length:  10; Size in bytes:  192\n",
      "Length:  11; Size in bytes:  192\n",
      "Length:  12; Size in bytes:  192\n",
      "Length:  13; Size in bytes:  192\n",
      "Length:  14; Size in bytes:  192\n",
      "Length:  15; Size in bytes:  192\n",
      "Length:  16; Size in bytes:  192\n",
      "Length:  17; Size in bytes:  264\n",
      "Length:  18; Size in bytes:  264\n",
      "Length:  19; Size in bytes:  264\n",
      "Length:  20; Size in bytes:  264\n",
      "Length:  21; Size in bytes:  264\n",
      "Length:  22; Size in bytes:  264\n",
      "Length:  23; Size in bytes:  264\n",
      "Length:  24; Size in bytes:  264\n",
      "Length:  25; Size in bytes:  264\n",
      "Length:  26; Size in bytes:  344\n"
     ]
    }
   ],
   "source": [
    "import sys\n",
    "\n",
    "data = list('abcde')\n",
    "\n",
    "for k in range(22):\n",
    "    a = len(data)\n",
    "    b = sys.getsizeof(data)\n",
    "    print('Length: {0:3d}; Size in bytes: {1:4d}'.format(a, b))\n",
    "    data.append(None)"
   ]
  },
  {
   "cell_type": "markdown",
   "metadata": {},
   "source": [
    "#### C-5.16"
   ]
  },
  {
   "cell_type": "code",
   "execution_count": 6,
   "metadata": {},
   "outputs": [],
   "source": [
    "l1 = list('abbd')"
   ]
  },
  {
   "cell_type": "code",
   "execution_count": 7,
   "metadata": {},
   "outputs": [],
   "source": [
    "del l1[-1]"
   ]
  },
  {
   "cell_type": "code",
   "execution_count": 8,
   "metadata": {},
   "outputs": [
    {
     "data": {
      "text/plain": [
       "['a', 'b', 'b']"
      ]
     },
     "execution_count": 8,
     "metadata": {},
     "output_type": "execute_result"
    }
   ],
   "source": [
    "l1"
   ]
  },
  {
   "cell_type": "code",
   "execution_count": null,
   "metadata": {},
   "outputs": [],
   "source": []
  },
  {
   "cell_type": "code",
   "execution_count": 144,
   "metadata": {},
   "outputs": [],
   "source": [
    "import ctypes\n",
    "\n",
    "class DynamicArray:\n",
    "    \"\"\"A dynamic array class akin to a simplified Python list.\"\"\"\n",
    "    \n",
    "    def __init__(self):\n",
    "        \"\"\"Create an empty array\"\"\"\n",
    "        self._n = 0             # count actual elements\n",
    "        self._capacity = 8  # default array capacity\n",
    "        self._A = self._make_array(self._capacity)  # low-level array\n",
    "        \n",
    "    def __len__(self):\n",
    "        \"\"\"Return number of elements stored in the array.\"\"\"\n",
    "        return self._n\n",
    "    \n",
    "    def __getitem__(self, k):\n",
    "        \"\"\"Return element at index k.\"\"\"\n",
    "        if not 0 <= k < self._n:\n",
    "            raise IndexError('Invalid index')\n",
    "        return self._A[k]                                           # retrieve from array\n",
    "    \n",
    "    def append(self, obj):\n",
    "        \"\"\"Add object to end of the array\"\"\"           \n",
    "        if self._n == self._capacity:                          # not enough room\n",
    "            self._resize(2 * self._capacity)                  # so double capacity\n",
    "        self._A[self._n] = obj\n",
    "        self._n += 1\n",
    "        \n",
    "    def pop(self):\n",
    "        \"\"\"remove object the last element of the array\"\"\"\n",
    "        B = self._make_array(self._n)                                 # new (bigger) array\n",
    "        for k in range(self._n):                                  # for each existing value\n",
    "            B[k] = self._A[k]\n",
    "        try:\n",
    "            if B[-1]:\n",
    "                self._A = B[:-1]                                             # use the bigger array\n",
    "        except:\n",
    "            raise IndexError('list is empty or index is out of range.')\n",
    "        self._n -= 1\n",
    "        \n",
    "        if self._n < self._capacity / 4:\n",
    "            self._resize( self._capacity // 2)\n",
    "        \n",
    "        print('pop移除的元素是:{0};数组大小是:{1}'.format(B[-1], self._capacity))\n",
    "        \n",
    "    def _resize(self, c):                                             # nonpublic utitity\n",
    "        \"\"\"Resize internal array to capacity c.\"\"\"    \n",
    "        B = self._make_array(c)                                 # new (bigger) array\n",
    "        for k in range(self._n):                                  # for each existing value\n",
    "            B[k] = self._A[k]\n",
    "        self._A = B                                                    # use the bigger array\n",
    "        self._capacity = c\n",
    "        \n",
    "    def _make_array(self, c):                                  # nonpublic utitity\n",
    "        \"\"\"Return new array with capacity c.\"\"\"\n",
    "        return(c * ctypes.py_object)()                     # see ctypes documentation    "
   ]
  },
  {
   "cell_type": "code",
   "execution_count": 145,
   "metadata": {},
   "outputs": [],
   "source": [
    "da = DynamicArray()"
   ]
  },
  {
   "cell_type": "code",
   "execution_count": 146,
   "metadata": {},
   "outputs": [
    {
     "data": {
      "text/plain": [
       "(None, None, None, None, None, None, None, None)"
      ]
     },
     "execution_count": 146,
     "metadata": {},
     "output_type": "execute_result"
    }
   ],
   "source": [
    "da.append(1), da.append('a'), da.append(3), da.append('b'),da.append(1), da.append('a'), da.append(3), da.append('b')"
   ]
  },
  {
   "cell_type": "code",
   "execution_count": 147,
   "metadata": {},
   "outputs": [
    {
     "data": {
      "text/plain": [
       "8"
      ]
     },
     "execution_count": 147,
     "metadata": {},
     "output_type": "execute_result"
    }
   ],
   "source": [
    "len(da)"
   ]
  },
  {
   "cell_type": "code",
   "execution_count": 152,
   "metadata": {},
   "outputs": [
    {
     "name": "stdout",
     "output_type": "stream",
     "text": [
      "POP移除的元素是b, 数组大小是4\n"
     ]
    }
   ],
   "source": [
    "da.pop()"
   ]
  },
  {
   "cell_type": "code",
   "execution_count": 153,
   "metadata": {},
   "outputs": [
    {
     "data": {
      "text/plain": [
       "3"
      ]
     },
     "execution_count": 153,
     "metadata": {},
     "output_type": "execute_result"
    }
   ],
   "source": [
    "len(da)"
   ]
  },
  {
   "cell_type": "code",
   "execution_count": 66,
   "metadata": {},
   "outputs": [
    {
     "data": {
      "text/plain": [
       "[1, 'a']"
      ]
     },
     "execution_count": 66,
     "metadata": {},
     "output_type": "execute_result"
    }
   ],
   "source": [
    "list(da) # 不使 list，无法显示"
   ]
  },
  {
   "cell_type": "code",
   "execution_count": 130,
   "metadata": {},
   "outputs": [
    {
     "data": {
      "text/plain": [
       "2.6666666666666665"
      ]
     },
     "execution_count": 130,
     "metadata": {},
     "output_type": "execute_result"
    }
   ],
   "source": [
    "8 /3 "
   ]
  },
  {
   "cell_type": "code",
   "execution_count": 131,
   "metadata": {},
   "outputs": [
    {
     "data": {
      "text/plain": [
       "4"
      ]
     },
     "execution_count": 131,
     "metadata": {},
     "output_type": "execute_result"
    }
   ],
   "source": [
    "9 // 2"
   ]
  },
  {
   "cell_type": "code",
   "execution_count": 154,
   "metadata": {},
   "outputs": [
    {
     "data": {
      "text/plain": [
       "1"
      ]
     },
     "execution_count": 154,
     "metadata": {},
     "output_type": "execute_result"
    }
   ],
   "source": [
    "9 % 2"
   ]
  },
  {
   "cell_type": "code",
   "execution_count": null,
   "metadata": {},
   "outputs": [],
   "source": []
  }
 ],
 "metadata": {
  "kernelspec": {
   "display_name": "Python 3",
   "language": "python",
   "name": "python3"
  },
  "language_info": {
   "codemirror_mode": {
    "name": "ipython",
    "version": 3
   },
   "file_extension": ".py",
   "mimetype": "text/x-python",
   "name": "python",
   "nbconvert_exporter": "python",
   "pygments_lexer": "ipython3",
   "version": "3.7.3"
  }
 },
>>>>>>> 933deb7d5e75c18e1fd792c0f27d8a32b8808ab8
 "nbformat": 4,
 "nbformat_minor": 2
}
