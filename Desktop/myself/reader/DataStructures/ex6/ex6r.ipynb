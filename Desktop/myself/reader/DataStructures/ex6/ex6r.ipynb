{
 "cells": [
  {
   "cell_type": "markdown",
   "metadata": {},
   "source": [
    "#### R-6.1"
   ]
  },
  {
   "cell_type": "code",
   "execution_count": null,
   "metadata": {},
   "outputs": [],
   "source": [
    "[5]\n",
    "[5, 3]\n",
    "[5]\n",
    "[5, 2]\n",
    "[5, 2, 8]\n",
    "[5, 2]\n",
    "[5]\n",
    "[5, 9]\n",
    "[5, 1]\n",
    "[5]\n",
    "[5, 7]\n",
    "[5,6,7]\n",
    "[5]\n",
    "[5, 4]\n",
    "[]"
   ]
  },
  {
   "cell_type": "markdown",
   "metadata": {},
   "source": [
    "#### R-6.2"
   ]
  },
  {
   "cell_type": "markdown",
   "metadata": {},
   "source": [
    "#### ?"
   ]
  },
  {
   "cell_type": "markdown",
   "metadata": {},
   "source": [
    "#### R-6.3"
   ]
  },
  {
   "cell_type": "code",
   "execution_count": 11,
   "metadata": {},
   "outputs": [],
   "source": [
    "class Full(Exception):\n",
    "    \"\"\"Error attempting to access an element from an empty container.\"\"\"\n",
    "    pass\n",
    "\n",
    "class Empty(Exception):\n",
    "    pass\n",
    "\n",
    "class ArrayStack:\n",
    "    \"\"\"LIFO Stack implementation using a Python list as underlying storage.\"\"\"\n",
    "    \n",
    "    def __init__(self):\n",
    "        \"\"\"Create an empty stack.\"\"\"\n",
    "        self._data = []\n",
    "        \n",
    "    def __len__(self):\n",
    "        return len(self._data)\n",
    "    \n",
    "    def is_empty(self):\n",
    "        return len(self._data) == 0\n",
    "    \n",
    "    def push(self, e):\n",
    "        self._data.append(e)\n",
    "        \n",
    "    def top(self):\n",
    "        if self.is_empty():\n",
    "            raise Empty('Stack is empty.')\n",
    "        return self._data[-1]\n",
    "    \n",
    "    def pop(self):\n",
    "        if self.is_empty():\n",
    "            raise Empty('Stack is empty.')\n",
    "        return self._data.pop()\n",
    "    \n",
    "tempStrack = ArrayStack()\n",
    "\n",
    "def transfer_strack(s):\n",
    "    \"\"\"\n",
    "    :param: s ; Strack\n",
    "    \"\"\"\n",
    "    temp = []\n",
    "    for i in range(len(s)):\n",
    "#         if i:\n",
    "        temp.append(s.pop())\n",
    "        \n",
    "    for i in temp:\n",
    "        tempStrack.push(i)\n",
    "        \n",
    "    return tempStrack\n"
   ]
  },
  {
   "cell_type": "markdown",
   "metadata": {},
   "source": [
    "#### R-6.4"
   ]
  },
  {
   "cell_type": "code",
   "execution_count": 23,
   "metadata": {},
   "outputs": [
    {
     "name": "stdout",
     "output_type": "stream",
     "text": [
      "[0, 1, 2, 3, 4]\n",
      "[]\n"
     ]
    }
   ],
   "source": [
    "as64 = ArrayStack()\n",
    "\n",
    "for i in range(5):\n",
    "    as64.push(i)\n",
    "    \n",
    "print(as64._data)\n",
    "\n",
    "def stack_remove(stack):\n",
    "    if len(stack) > 0:\n",
    "        stack.pop()\n",
    "        return stack_remove(stack)\n",
    "    \n",
    "stack_remove(as64)\n",
    "print(as64._data)"
   ]
  },
  {
   "cell_type": "markdown",
   "metadata": {},
   "source": [
    "#### R-6.5"
   ]
  },
  {
   "cell_type": "code",
   "execution_count": 24,
   "metadata": {},
   "outputs": [
    {
     "data": {
      "text/plain": [
       "['g', 'n', 'a', 'g', 'u', 'i', 'l']"
      ]
     },
     "execution_count": 24,
     "metadata": {},
     "output_type": "execute_result"
    }
   ],
   "source": [
    "def strack_reverse(objlist):\n",
    "    s = ArrayStack()\n",
    "    temp = []\n",
    "    for i in objlist:\n",
    "        s.push(i)\n",
    "        \n",
    "    for i in objlist:\n",
    "        temp.append(s.pop())\n",
    "        \n",
    "    return temp\n",
    "\n",
    "objlist = list('liugang')\n",
    "strack_reverse(objlist)"
   ]
  },
  {
   "cell_type": "markdown",
   "metadata": {},
   "source": [
    "#### R-6.6"
   ]
  },
  {
   "cell_type": "markdown",
   "metadata": {},
   "source": [
    "#### 精确而完整的定义指的事？"
   ]
  },
  {
   "cell_type": "markdown",
   "metadata": {},
   "source": [
    "#### R-6.7"
   ]
  },
  {
   "cell_type": "markdown",
   "metadata": {},
   "source": [
    "略"
   ]
  },
  {
   "cell_type": "markdown",
   "metadata": {},
   "source": [
    "#### R-6.9"
   ]
  },
  {
   "cell_type": "code",
   "execution_count": 36,
   "metadata": {},
   "outputs": [
    {
     "name": "stdout",
     "output_type": "stream",
     "text": [
      "[64, 65, 66, 67, 4, 5, 60, 61, 62, 63, 68, 69, 70, 71, 72, 73, 74, None, None, None]\n"
     ]
    }
   ],
   "source": [
    "class Full(Exception):\n",
    "    \"\"\"Error attempting to access an element from an empty container.\"\"\"\n",
    "    pass\n",
    "\n",
    "class Empty(Exception):\n",
    "    pass\n",
    "\n",
    "class ArrayQueue:\n",
    "    DEFAULT_CAPACITY = 10\n",
    "    \n",
    "    def __init__(self):\n",
    "        self._data = [None] * ArrayQueue.DEFAULT_CAPACITY  # 指一个固定容量的列表实例\n",
    "        self._size = 0  # 是一个整数，代表当前储存在队列内的元素的数量，与_data列表的长度正好相对\n",
    "        self._front = 0  # 是一个整数，代表_data实例队列中的第一个元素的索引，假设这个队列不为空\n",
    "        \n",
    "    def __len__(self):\n",
    "        return self._size\n",
    "    \n",
    "    def is_empty(self):\n",
    "        return self._size == 0\n",
    "    \n",
    "    def first(self):\n",
    "        \"\"\"Return (but do not remove) the element at the front of the queue.\"\"\"\n",
    "        \n",
    "        if self.is_empty():\n",
    "            raise Empty('Queue is empty.')\n",
    "        return self._data[self._front]\n",
    "    \n",
    "    def front(self):\n",
    "        if self.is_empty():\n",
    "            raise Empty('Queue is empty')\n",
    "        return self._front\n",
    "    \n",
    "    def dequeue(self):\n",
    "        \"\"\"Remove and return the first element of the queue\n",
    "        \n",
    "        Raise Empty exception if the queue is empty.\"\"\"\n",
    "        if self.is_empty():\n",
    "            raise Empty('Queue is empty.')        \n",
    "        answer = self._data[self._front]\n",
    "        self._data[self._front] = None\n",
    "        self._front = (self._front + 1) % len(self._data)\n",
    "        self._size -= 1\n",
    "        return answer\n",
    "    \n",
    "    def enqueue(self, e):\n",
    "        \"\"\"Add an element to the back of queue.\"\"\"\n",
    "        if self._size == len(self._data):\n",
    "            self._resize(2 * len(self._data))\n",
    "        avail = (self._front + self._size) % len(self._data)\n",
    "        self._data[avail] = e\n",
    "        self._size += 1\n",
    "        \n",
    "    def _resize(self, cap):\n",
    "        \"\"\"Resize to a new list of capacity >= len(self)\"\"\"\n",
    "        old = self._data\n",
    "        self._data = [None] * cap\n",
    "        walk = self._front\n",
    "        for k in range(self._size):\n",
    "            self._data[k] = old[k]\n",
    "#            walk = (1 + walk) % len(old)\n",
    "        self._front =0\n",
    "\n",
    "as610 = ArrayQueue()    \n",
    "for i in range(6):\n",
    "    as610.enqueue(i)\n",
    "    \n",
    "for i in range(4):\n",
    "    as610.dequeue()\n",
    "    \n",
    "for i in range(60, 75):\n",
    "    as610.enqueue(i)\n",
    "    \n",
    "print(as610._data)"
   ]
  },
  {
   "cell_type": "markdown",
   "metadata": {},
   "source": [
    "#### R-6.10"
   ]
  },
  {
   "cell_type": "code",
   "execution_count": 37,
   "metadata": {},
   "outputs": [
    {
     "name": "stdout",
     "output_type": "stream",
     "text": [
      "[64, 65, 66, 67, 4, 5, 60, 61, 62, 63, 68, 69, 70, 71, 72, 73, 74, None, None, None]\n"
     ]
    }
   ],
   "source": [
    "class Full(Exception):\n",
    "    \"\"\"Error attempting to access an element from an empty container.\"\"\"\n",
    "    pass\n",
    "\n",
    "class Empty(Exception):\n",
    "    pass\n",
    "\n",
    "class ArrayQueue:\n",
    "    DEFAULT_CAPACITY = 10\n",
    "    \n",
    "    def __init__(self):\n",
    "        self._data = [None] * ArrayQueue.DEFAULT_CAPACITY  # 指一个固定容量的列表实例\n",
    "        self._size = 0  # 是一个整数，代表当前储存在队列内的元素的数量，与_data列表的长度正好相对\n",
    "        self._front = 0  # 是一个整数，代表_data实例队列中的第一个元素的索引，假设这个队列不为空\n",
    "        \n",
    "    def __len__(self):\n",
    "        return self._size\n",
    "    \n",
    "    def is_empty(self):\n",
    "        return self._size == 0\n",
    "    \n",
    "    def first(self):\n",
    "        \"\"\"Return (but do not remove) the element at the front of the queue.\"\"\"\n",
    "        \n",
    "        if self.is_empty():\n",
    "            raise Empty('Queue is empty.')\n",
    "        return self._data[self._front]\n",
    "    \n",
    "    def front(self):\n",
    "        if self.is_empty():\n",
    "            raise Empty('Queue is empty')\n",
    "        return self._front\n",
    "    \n",
    "    def dequeue(self):\n",
    "        \"\"\"Remove and return the first element of the queue\n",
    "        \n",
    "        Raise Empty exception if the queue is empty.\"\"\"\n",
    "        if self.is_empty():\n",
    "            raise Empty('Queue is empty.')        \n",
    "        answer = self._data[self._front]\n",
    "        self._data[self._front] = None\n",
    "        self._front = (self._front + 1) % len(self._data)\n",
    "        self._size -= 1\n",
    "        return answer\n",
    "    \n",
    "    def enqueue(self, e):\n",
    "        \"\"\"Add an element to the back of queue.\"\"\"\n",
    "        if self._size == len(self._data):\n",
    "            self._resize(2 * len(self._data))\n",
    "        avail = (self._front + self._size) % len(self._data)\n",
    "        self._data[avail] = e\n",
    "        self._size += 1\n",
    "        \n",
    "    def _resize(self, cap):\n",
    "        \"\"\"Resize to a new list of capacity >= len(self)\"\"\"\n",
    "        old = self._data\n",
    "        self._data = [None] * cap\n",
    "#         walk = self._front\n",
    "        for k in range(self._size):\n",
    "            self._data[k] = old[k]\n",
    "#            walk = (1 + walk) % len(old)\n",
    "        self._front =0\n",
    "\n",
    "as610 = ArrayQueue()    \n",
    "for i in range(6):\n",
    "    as610.enqueue(i)\n",
    "    \n",
    "for i in range(4):\n",
    "    as610.dequeue()\n",
    "    \n",
    "for i in range(60, 75):\n",
    "    as610.enqueue(i)\n",
    "    \n",
    "print(as610._data)\n",
    "\n",
    "# [4, 5, 60, 61, 62, 63, 64, 65, 66, 67, 68, 69, 70, 71, 72, 73, 74, None, None, None]"
   ]
  },
  {
   "cell_type": "markdown",
   "metadata": {},
   "source": [
    "#### R-6.11"
   ]
  },
  {
   "cell_type": "code",
   "execution_count": 40,
   "metadata": {},
   "outputs": [
    {
     "name": "stdout",
     "output_type": "stream",
     "text": [
      "deque([2, 1, 0, 13, 14, 15])\n"
     ]
    }
   ],
   "source": [
    "from collections import deque\n",
    "\n",
    "class ArrayQueue:\n",
    "        from collections import deque\n",
    "        \n",
    "        def __init__(self):\n",
    "            self._data = deque()\n",
    "        \n",
    "        def add_first(self, e):\n",
    "            self._data.appendleft(e)\n",
    "            \n",
    "        def add_last(self, e):\n",
    "            self._data.append(e)\n",
    "            \n",
    "        def del_firt(self):\n",
    "            self._data.popleft()\n",
    "            \n",
    "        def del_last(self):\n",
    "            self._data.pop()\n",
    "            \n",
    "        def lg(self):\n",
    "            print(self._data)\n",
    "\n",
    "as611 = ArrayQueue()\n",
    "\n",
    "for i in range(3):\n",
    "    as611.add_first(i)\n",
    "    \n",
    "for i in range(13, 16):\n",
    "    as611.add_last(i)\n",
    "    \n",
    "as611.lg()\n",
    "        "
   ]
  },
  {
   "cell_type": "code",
   "execution_count": 41,
   "metadata": {},
   "outputs": [
    {
     "data": {
      "text/plain": [
       "deque([2, 1, 0, 13, 14, 15])"
      ]
     },
     "execution_count": 41,
     "metadata": {},
     "output_type": "execute_result"
    }
   ],
   "source": [
    "as611._data"
   ]
  },
  {
   "cell_type": "markdown",
   "metadata": {},
   "source": [
    "#### R-6.12"
   ]
  },
  {
   "cell_type": "markdown",
   "metadata": {},
   "source": [
    "略"
   ]
  },
  {
   "cell_type": "code",
   "execution_count": 84,
   "metadata": {},
   "outputs": [],
   "source": [
    "# 这双端队列还是有问题  \n",
    "\n",
    "class Full(Exception):\n",
    "    \"\"\"Error attempting to access an element from an empty container.\"\"\"\n",
    "    pass\n",
    "\n",
    "class Empty(Exception):\n",
    "    pass\n",
    "\n",
    "class DualArrayQueue:\n",
    "    DEFAULT_CAPACITY = 10\n",
    "    \n",
    "    def __init__(self):\n",
    "        self._data = [None] * DualArrayQueue.DEFAULT_CAPACITY  # 指一个固定容量的列表实例\n",
    "        self._size = 0  # 是一个整数，代表当前储存在队列内的元素的数量，与_data列表的长度正好相对\n",
    "        self._front = 0 # 是一个整数，代表_data实例队列中的第一个元素的索引，假设这个队列不为空\n",
    "        self._back = 1\n",
    "        self.addlist = []\n",
    "        self.dellist = []\n",
    "        \n",
    "    def __len__(self):\n",
    "        return self._size\n",
    "    \n",
    "    def is_empty(self):\n",
    "        return self._size == 0\n",
    "    \n",
    "    def first_index(self):\n",
    "        \"\"\"Return (but do not remove) the element at the front of the queue.\"\"\"\n",
    "        if self.is_empty():\n",
    "            raise Empty('Queue is empty.')\n",
    "        return self._front\n",
    "    '''\n",
    "    按照_front - > _back索引的方向查找\n",
    "    def __getitem__(self, i):\n",
    "        if i >= len(self.addlist):\n",
    "            return self.dellist[i - len(self.addlist)]\n",
    "        elif i < len(self.addlist):\n",
    "            return self.addlist[i]\n",
    "    '''\n",
    "    \n",
    "    def __getitem__(self, i):  # 按照加入顺序索引\n",
    "        temp = self.addlist\n",
    "        temp.extend(self.dellist)\n",
    "        return temp[i]\n",
    "\n",
    "    def __setitem__(self, k, v):\n",
    "        self._data[k] = v\n",
    "        \n",
    "    def clear(self,):\n",
    "        self._data = [None] * DEFAULT_CAPACITY\n",
    "\n",
    "    def rotate(self,k):\n",
    "        pass\n",
    "\n",
    "    def remove(self,k):\n",
    "        remove_index = self._data.index(k)\n",
    "        del self._data[remove_index]\n",
    "\n",
    "    def count(self, e):\n",
    "        return self._data.count(e)\n",
    "\n",
    "    def last_index(self):\n",
    "        if self.is_empty():\n",
    "            raise Empty('Queue is empty.')\n",
    "        return self._back  \n",
    "    \n",
    "    def add_first(self, e):\n",
    "        if self._size == len(self._data):\n",
    "            self._resize(2 * len(self._data))\n",
    "        self._data[self._front] = e\n",
    "        self._front = (self._front - 1) % len(self._data)\n",
    "        self._size += 1\n",
    "#        self.addlist.append(e)\n",
    "        self.addlist.insert(0, e)\n",
    "\n",
    "    def del_last(self):\n",
    "        if self.is_empty():\n",
    "            raise Empty('Queue is empty.')\n",
    "        answer = self._data[self._back]\n",
    "        self._data[self._back] = None\n",
    "        self._size -= 1\n",
    "        self._back = (self._front + self._size - 1) % len(self._data)\n",
    "        self.dellist.pop()\n",
    "        return answer\n",
    "    \n",
    "    def add_last(self, e):\n",
    "        if self._size == len(self._data):\n",
    "            self._resize(2 * len(self._data))\n",
    "        self._data[self._back] = e\n",
    "#         self._back = (self._front + self._size - 1) % len(self._data)\n",
    "        self._back = (self._back + 1) % len(self._data)\n",
    "        self._size += 1\n",
    "        self.dellist.append(e)\n",
    "        \n",
    "    def del_first(self):\n",
    "        if self.is_empty():\n",
    "            raise Empty('Queue is empty.')        \n",
    "        # answer = self._data[self._front]\n",
    "        self._data[self._front] = None\n",
    "        self._front = (self._front + 1) % len(self._data)\n",
    "        self._size -= 1\n",
    "        # return answer\n",
    "        self.addlist.pop(0)\n",
    "\n",
    "    def _resize(self, cap):\n",
    "        \"\"\"Resize to a new list of capacity >= len(self)\"\"\"\n",
    "        old = self._data\n",
    "        self._data = [None] * cap\n",
    "        walk = self._front\n",
    "        for k in range(self._size):\n",
    "            self._data[k] = old[walk]\n",
    "            walk = (1 + walk) % len(old)\n",
    "        self._front =0"
   ]
  },
  {
   "cell_type": "code",
   "execution_count": 85,
   "metadata": {},
   "outputs": [],
   "source": [
    "d = DualArrayQueue()\n",
    "d.add_first(0)"
   ]
  },
  {
   "cell_type": "code",
   "execution_count": 86,
   "metadata": {},
   "outputs": [],
   "source": [
    "for i in range(1,9):\n",
    "    d.add_last(i)\n",
    "    \n",
    "q = DualArrayQueue()"
   ]
  },
  {
   "cell_type": "code",
   "execution_count": 87,
   "metadata": {},
   "outputs": [
    {
     "data": {
      "text/plain": [
       "([0, 1, 2, 3, 4, 5, 6, 7, 8, None],\n",
       " [None, None, None, None, None, None, None, None, None, None])"
      ]
     },
     "execution_count": 87,
     "metadata": {},
     "output_type": "execute_result"
    }
   ],
   "source": [
    "d._data, q._data"
   ]
  },
  {
   "cell_type": "code",
   "execution_count": 88,
   "metadata": {},
   "outputs": [],
   "source": [
    "for i in range(len(d)):\n",
    "    q.add_first(d[i])"
   ]
  },
  {
   "cell_type": "code",
   "execution_count": 89,
   "metadata": {},
   "outputs": [
    {
     "data": {
      "text/plain": [
       "1"
      ]
     },
     "execution_count": 89,
     "metadata": {},
     "output_type": "execute_result"
    }
   ],
   "source": [
    "d[1]"
   ]
  },
  {
   "cell_type": "code",
   "execution_count": 90,
   "metadata": {},
   "outputs": [
    {
     "data": {
      "text/plain": [
       "[0, None, 8, 7, 6, 5, 4, 3, 2, 1]"
      ]
     },
     "execution_count": 90,
     "metadata": {},
     "output_type": "execute_result"
    }
   ],
   "source": [
    "q._data"
   ]
  },
  {
   "cell_type": "markdown",
   "metadata": {},
   "source": [
    "#### R-6.12"
   ]
  },
  {
   "cell_type": "markdown",
   "metadata": {},
   "source": [
    "？"
   ]
  },
  {
   "cell_type": "markdown",
   "metadata": {},
   "source": [
    "#### R-6.14"
   ]
  },
  {
   "cell_type": "markdown",
   "metadata": {},
   "source": [
    "?"
   ]
  },
  {
   "cell_type": "code",
   "execution_count": null,
   "metadata": {},
   "outputs": [],
   "source": []
  }
 ],
 "metadata": {
  "kernelspec": {
   "display_name": "Python 3",
   "language": "python",
   "name": "python3"
  },
  "language_info": {
   "codemirror_mode": {
    "name": "ipython",
    "version": 3
   },
   "file_extension": ".py",
   "mimetype": "text/x-python",
   "name": "python",
   "nbconvert_exporter": "python",
   "pygments_lexer": "ipython3",
   "version": "3.7.3"
  }
 },
 "nbformat": 4,
 "nbformat_minor": 2
}
