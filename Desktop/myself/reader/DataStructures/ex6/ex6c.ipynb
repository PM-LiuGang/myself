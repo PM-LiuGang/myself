{
 "cells": [
  {
   "cell_type": "code",
   "execution_count": 34,
   "metadata": {},
   "outputs": [],
   "source": [
    "class Full(Exception):\n",
    "    \"\"\"Error attempting to access an element from an empty container.\"\"\"\n",
    "    pass\n",
    "\n",
    "class Empty(Exception):\n",
    "    pass\n",
    "\n",
    "class ArrayStack:\n",
    "    \"\"\"LIFO Stack implementation using a Python list as underlying storage.\"\"\"\n",
    "    \n",
    "    def __init__(self):\n",
    "        \"\"\"Create an empty stack.\"\"\"\n",
    "        self._data = []\n",
    "        \n",
    "    def __len__(self):\n",
    "        return len(self._data)\n",
    "    \n",
    "    def is_empty(self):\n",
    "        return len(self._data) == 0\n",
    "    \n",
    "    def push(self, e):\n",
    "        self._data.append(e)\n",
    "        \n",
    "    def top(self):\n",
    "        if self.is_empty():\n",
    "            raise Empty('Stack is empty.')\n",
    "        return self._data[-1]\n",
    "    \n",
    "    def pop(self):\n",
    "        if self.is_empty():\n",
    "            raise Empty('Stack is empty.')\n",
    "        return self._data.pop()"
   ]
  },
  {
   "cell_type": "code",
   "execution_count": 45,
   "metadata": {},
   "outputs": [],
   "source": [
    "class ArrayQueue:\n",
    "    DEFAULT_CAPACITY = 10\n",
    "    \n",
    "    def __init__(self):\n",
    "        self._data = [None] * ArrayQueue.DEFAULT_CAPACITY  # 指一个固定容量的列表实例\n",
    "        self._size = 0    # 是一个整数，代表当前储存在队列内的元素的数量，与_data列表的长度正好相对\n",
    "        self._front = 0  # 是一个整数，代表_data实例队列中的第一个元素的索引，假设这个队列不为空\n",
    "        # myself\n",
    "        self._back = 0  # int, 代表_data队列中的最后一个元素的索引\n",
    "        \n",
    "    def __len__(self):\n",
    "        return self._size\n",
    "    \n",
    "    def is_empty(self):\n",
    "        return self._size == 0\n",
    "    \n",
    "    def first(self):\n",
    "        \"\"\"Return (but do not remove) the element at the front of the queue.\"\"\"\n",
    "        if self.is_empty():\n",
    "            raise Empty('Queue is empty.')\n",
    "        return self._data[self._front]\n",
    "    \n",
    "    #myself\n",
    "    def last(self):\n",
    "        if self.is_empty():\n",
    "            raise Empty('Queue is empty.')\n",
    "        return self._data[self._back]\n",
    " \n",
    "    def back(self):\n",
    "        if self.is_empty():\n",
    "            raise Empty('Queue is empty')\n",
    "        return self._back \n",
    "    \n",
    "    def front(self):\n",
    "        if self.is_empty():\n",
    "            raise Empty('Queue is empty')\n",
    "        return self._front\n",
    "    \n",
    "    def dequeue(self):\n",
    "        \"\"\"Remove and return the first element of the queue\n",
    "        \n",
    "        Raise Empty exception if the queue is empty.\"\"\"\n",
    "        if self.is_empty():\n",
    "            raise Empty('Queue is empty.')        \n",
    "        answer = self._data[self._front]\n",
    "        self._data[self._front] = None\n",
    "        self._front = (self._front + 1) % len(self._data)\n",
    "        self._size -= 1\n",
    "        return answer\n",
    "    \n",
    "    def enqueue(self, e):\n",
    "        \"\"\"Add an element to the back of queue.\"\"\"\n",
    "        if self._size == len(self._data):\n",
    "            self._resize(2 * len(self._data))\n",
    "        avail = (self._front + self._size) % len(self._data)\n",
    "        self._data[avail] = e\n",
    "        self._size += 1\n",
    "#         self._back = (len(self._data) - self._size + 1) len(self._data)\n",
    "        self._back = (self._front + self._size - 1) % len(self._data)\n",
    "        \n",
    "    def _resize(self, cap):\n",
    "        \"\"\"Resize to a new list of capacity >= len(self)\"\"\"\n",
    "        old = self._data\n",
    "        self._data = [None] * cap\n",
    "        walk = self._front\n",
    "        for k in range(self._size):\n",
    "            self._data[k] = old[walk]\n",
    "            walk = (1 + walk) % len(old)\n",
    "        self._front = 0"
   ]
  },
  {
   "cell_type": "markdown",
   "metadata": {},
   "source": [
    "#### C-6.15"
   ]
  },
  {
   "cell_type": "markdown",
   "metadata": {},
   "source": [
    "??"
   ]
  },
  {
   "cell_type": "markdown",
   "metadata": {},
   "source": [
    "#### C-6.16"
   ]
  },
  {
   "cell_type": "code",
   "execution_count": 5,
   "metadata": {},
   "outputs": [
    {
     "ename": "Full",
     "evalue": "Stack is full.",
     "output_type": "error",
     "traceback": [
      "\u001b[1;31m---------------------------------------------------------------------------\u001b[0m",
      "\u001b[1;31mFull\u001b[0m                                      Traceback (most recent call last)",
      "\u001b[1;32m<ipython-input-5-c1e702bb895f>\u001b[0m in \u001b[0;36m<module>\u001b[1;34m\u001b[0m\n\u001b[0;32m     35\u001b[0m     \u001b[0mas616\u001b[0m \u001b[1;33m=\u001b[0m \u001b[0mArrayStack\u001b[0m\u001b[1;33m(\u001b[0m\u001b[0mmaxlen\u001b[0m\u001b[1;33m=\u001b[0m\u001b[1;36m10\u001b[0m\u001b[1;33m)\u001b[0m  \u001b[1;31m# 无效语法？ as 保留词\u001b[0m\u001b[1;33m\u001b[0m\u001b[1;33m\u001b[0m\u001b[0m\n\u001b[0;32m     36\u001b[0m     \u001b[1;32mfor\u001b[0m \u001b[0mi\u001b[0m \u001b[1;32min\u001b[0m \u001b[0mrange\u001b[0m\u001b[1;33m(\u001b[0m\u001b[1;36m12\u001b[0m\u001b[1;33m)\u001b[0m\u001b[1;33m:\u001b[0m\u001b[1;33m\u001b[0m\u001b[1;33m\u001b[0m\u001b[0m\n\u001b[1;32m---> 37\u001b[1;33m         \u001b[0mas616\u001b[0m\u001b[1;33m.\u001b[0m\u001b[0mpush\u001b[0m\u001b[1;33m(\u001b[0m\u001b[0mi\u001b[0m\u001b[1;33m)\u001b[0m\u001b[1;33m\u001b[0m\u001b[1;33m\u001b[0m\u001b[0m\n\u001b[0m",
      "\u001b[1;32m<ipython-input-5-c1e702bb895f>\u001b[0m in \u001b[0;36mpush\u001b[1;34m(self, e)\u001b[0m\n\u001b[0;32m     19\u001b[0m     \u001b[1;32mdef\u001b[0m \u001b[0mpush\u001b[0m\u001b[1;33m(\u001b[0m\u001b[0mself\u001b[0m\u001b[1;33m,\u001b[0m \u001b[0me\u001b[0m\u001b[1;33m)\u001b[0m\u001b[1;33m:\u001b[0m\u001b[1;33m\u001b[0m\u001b[1;33m\u001b[0m\u001b[0m\n\u001b[0;32m     20\u001b[0m         \u001b[1;32mif\u001b[0m \u001b[0mlen\u001b[0m\u001b[1;33m(\u001b[0m\u001b[0mself\u001b[0m\u001b[1;33m.\u001b[0m\u001b[0m_data\u001b[0m\u001b[1;33m)\u001b[0m \u001b[1;33m==\u001b[0m \u001b[0mself\u001b[0m\u001b[1;33m.\u001b[0m\u001b[0m_maxlen\u001b[0m\u001b[1;33m:\u001b[0m\u001b[1;33m\u001b[0m\u001b[1;33m\u001b[0m\u001b[0m\n\u001b[1;32m---> 21\u001b[1;33m             \u001b[1;32mraise\u001b[0m \u001b[0mFull\u001b[0m\u001b[1;33m(\u001b[0m\u001b[1;34m'Stack is full.'\u001b[0m\u001b[1;33m)\u001b[0m\u001b[1;33m\u001b[0m\u001b[1;33m\u001b[0m\u001b[0m\n\u001b[0m\u001b[0;32m     22\u001b[0m         \u001b[0mself\u001b[0m\u001b[1;33m.\u001b[0m\u001b[0m_data\u001b[0m\u001b[1;33m.\u001b[0m\u001b[0mappend\u001b[0m\u001b[1;33m(\u001b[0m\u001b[0me\u001b[0m\u001b[1;33m)\u001b[0m\u001b[1;33m\u001b[0m\u001b[1;33m\u001b[0m\u001b[0m\n\u001b[0;32m     23\u001b[0m \u001b[1;33m\u001b[0m\u001b[0m\n",
      "\u001b[1;31mFull\u001b[0m: Stack is full."
     ]
    }
   ],
   "source": [
    "class Full(Exception):\n",
    "    \"\"\"Error attempting to access an element from an empty container.\"\"\"\n",
    "    pass\n",
    "\n",
    "class ArrayStack:\n",
    "    \"\"\"LIFO Stack implementation using a Python list as underlying storage.\"\"\"\n",
    "    \n",
    "    def __init__(self, maxlen=None):\n",
    "        \"\"\"Create an empty stack.\"\"\"\n",
    "        self._data = []\n",
    "        self._maxlen = maxlen\n",
    "        \n",
    "    def __len__(self):\n",
    "        return len(self._data)\n",
    "    \n",
    "    def is_empty(self):\n",
    "        return len(self._data) == 0\n",
    "    \n",
    "    def push(self, e):\n",
    "        if len(self._data) == self._maxlen:\n",
    "            raise Full('Stack is full.')\n",
    "        self._data.append(e)\n",
    "        \n",
    "    def top(self):\n",
    "        if self.is_empty():\n",
    "            raise Empty('Stack is empty.')\n",
    "        return self._data[-1]\n",
    "    \n",
    "    def pop(self):\n",
    "        if self.is_empty():\n",
    "            raise Empty('Stack is empty.')\n",
    "        return self._data.pop()\n",
    "    \n",
    "if __name__ == '__main__':\n",
    "    as616 = ArrayStack(maxlen=10)  # 无效语法？ as 保留词\n",
    "    for i in range(12):\n",
    "        as616.push(i)"
   ]
  },
  {
   "cell_type": "markdown",
   "metadata": {},
   "source": [
    "#### C-6.17"
   ]
  },
  {
   "cell_type": "code",
   "execution_count": 10,
   "metadata": {},
   "outputs": [
    {
     "data": {
      "text/plain": [
       "[1, 'a', 3, 'b', 'a', 'c']"
      ]
     },
     "execution_count": 10,
     "metadata": {},
     "output_type": "execute_result"
    }
   ],
   "source": [
    "class MaxArrayStrack(ArrayStack):\n",
    "    \n",
    "    def __init__(self, maxlen):\n",
    "        self._data = [None] * maxlen\n",
    "        self._num = 0 # 当前栈中元素的个数\n",
    "        self._maxlen = maxlen\n",
    "        \n",
    "    def get_strack_max_len(self):\n",
    "        return self._maxlen\n",
    "    \n",
    "#     def get_list_len(self):\n",
    "#         return len(self._data)\n",
    "    \n",
    "    def get_strack_nums(self):\n",
    "        return self._maxlen - self._data.count(None)\n",
    "        \n",
    "    def is_empty(self):\n",
    "        return self.get_strack_nums() == 0\n",
    "    \n",
    "    def push(self, e):\n",
    "        if self._num == self._maxlen:\n",
    "            raise Empty('Stack is full.')\n",
    "        else:\n",
    "            self._data[self._num] = e\n",
    "            self._num += 1\n",
    "        \n",
    "    def top(self):\n",
    "        if self.is_empty():\n",
    "            raise Empty('Stack is empty.')\n",
    "        return self._data[self._num - 1]\n",
    "    \n",
    "    def pop(self):\n",
    "        if self.is_empty():\n",
    "            raise Empty('Stack is empty.')\n",
    "        else:\n",
    "            popnum = self._data[self._num - 1]\n",
    "            self._data.pop(self._num - 1)\n",
    "            self._data.insert(self._num, None)\n",
    "            self._num -= 1\n",
    "        return popnum\n",
    "\n",
    "mas = MaxArrayStrack(6)\n",
    "mas.push(1)\n",
    "mas.push('a')\n",
    "mas.push(3)\n",
    "mas.push('b')\n",
    "mas.push('a')\n",
    "mas.push('c')\n",
    "mas._data"
   ]
  },
  {
   "cell_type": "code",
   "execution_count": 11,
   "metadata": {
    "scrolled": true
   },
   "outputs": [
    {
     "ename": "Empty",
     "evalue": "Stack is full.",
     "output_type": "error",
     "traceback": [
      "\u001b[1;31m---------------------------------------------------------------------------\u001b[0m",
      "\u001b[1;31mEmpty\u001b[0m                                     Traceback (most recent call last)",
      "\u001b[1;32m<ipython-input-11-965cbebb7517>\u001b[0m in \u001b[0;36m<module>\u001b[1;34m\u001b[0m\n\u001b[1;32m----> 1\u001b[1;33m \u001b[0mmas\u001b[0m\u001b[1;33m.\u001b[0m\u001b[0mpush\u001b[0m\u001b[1;33m(\u001b[0m\u001b[1;34m'liugang'\u001b[0m\u001b[1;33m)\u001b[0m\u001b[1;33m\u001b[0m\u001b[1;33m\u001b[0m\u001b[0m\n\u001b[0m",
      "\u001b[1;32m<ipython-input-10-6a03a0ed7c74>\u001b[0m in \u001b[0;36mpush\u001b[1;34m(self, e)\u001b[0m\n\u001b[0;32m     20\u001b[0m     \u001b[1;32mdef\u001b[0m \u001b[0mpush\u001b[0m\u001b[1;33m(\u001b[0m\u001b[0mself\u001b[0m\u001b[1;33m,\u001b[0m \u001b[0me\u001b[0m\u001b[1;33m)\u001b[0m\u001b[1;33m:\u001b[0m\u001b[1;33m\u001b[0m\u001b[1;33m\u001b[0m\u001b[0m\n\u001b[0;32m     21\u001b[0m         \u001b[1;32mif\u001b[0m \u001b[0mself\u001b[0m\u001b[1;33m.\u001b[0m\u001b[0m_num\u001b[0m \u001b[1;33m==\u001b[0m \u001b[0mself\u001b[0m\u001b[1;33m.\u001b[0m\u001b[0m_maxlen\u001b[0m\u001b[1;33m:\u001b[0m\u001b[1;33m\u001b[0m\u001b[1;33m\u001b[0m\u001b[0m\n\u001b[1;32m---> 22\u001b[1;33m             \u001b[1;32mraise\u001b[0m \u001b[0mEmpty\u001b[0m\u001b[1;33m(\u001b[0m\u001b[1;34m'Stack is full.'\u001b[0m\u001b[1;33m)\u001b[0m\u001b[1;33m\u001b[0m\u001b[1;33m\u001b[0m\u001b[0m\n\u001b[0m\u001b[0;32m     23\u001b[0m         \u001b[1;32melse\u001b[0m\u001b[1;33m:\u001b[0m\u001b[1;33m\u001b[0m\u001b[1;33m\u001b[0m\u001b[0m\n\u001b[0;32m     24\u001b[0m             \u001b[0mself\u001b[0m\u001b[1;33m.\u001b[0m\u001b[0m_data\u001b[0m\u001b[1;33m[\u001b[0m\u001b[0mself\u001b[0m\u001b[1;33m.\u001b[0m\u001b[0m_num\u001b[0m\u001b[1;33m]\u001b[0m \u001b[1;33m=\u001b[0m \u001b[0me\u001b[0m\u001b[1;33m\u001b[0m\u001b[1;33m\u001b[0m\u001b[0m\n",
      "\u001b[1;31mEmpty\u001b[0m: Stack is full."
     ]
    }
   ],
   "source": [
    "mas.push('liugang')"
   ]
  },
  {
   "cell_type": "markdown",
   "metadata": {},
   "source": [
    "#### C-6.18"
   ]
  },
  {
   "cell_type": "markdown",
   "metadata": {},
   "source": [
    "过"
   ]
  },
  {
   "cell_type": "markdown",
   "metadata": {},
   "source": [
    "#### C-6.19"
   ]
  },
  {
   "cell_type": "code",
   "execution_count": 13,
   "metadata": {},
   "outputs": [
    {
     "data": {
      "text/plain": [
       "True"
      ]
     },
     "execution_count": 13,
     "metadata": {},
     "output_type": "execute_result"
    }
   ],
   "source": [
    "import re\n",
    "\n",
    "def is_matched_html(raw_):\n",
    "    \"\"\"Return True if all HTML tags are properly match.False otherwise.\"\"\"\n",
    "    pat = re.compile(r'\\s.*?=\".*?\"')\n",
    "    raw = re.sub(pat, '', raw_)  # error 上面多了一个括号\n",
    "    \n",
    "    s = ArrayStack()\n",
    "    j = raw.find('<')  # type(raw)->str; type(j)->int index output 0\n",
    "    while j != -1: # j=0, 8, 12, 23\n",
    "        k =raw.find('>', j + 1) # 7 11 18 27\n",
    "        if k == -1:\n",
    "            return \"不存在匹配的字符串\"\n",
    "        tag = raw[j +1: k] # center\n",
    "        if not tag.startswith('/'):\n",
    "            s.push(tag) # s = [center, h1, Little, /h1]\n",
    "        else:\n",
    "            if s.is_empty(): # 开始标签有缺失\n",
    "                return False\n",
    "            if tag[1: ] != s.pop(): # h1 == h1 \n",
    "                return False\n",
    "        j = raw.find('<', k + 1)\n",
    "    return s.is_empty()\n",
    "\n",
    "is_matched_html('<table border=\"3\" cellpadding=\"5\"><h1 size=\"5\">Little</h1></table>')"
   ]
  },
  {
   "cell_type": "code",
   "execution_count": 14,
   "metadata": {},
   "outputs": [
    {
     "data": {
      "text/plain": [
       "True"
      ]
     },
     "execution_count": 14,
     "metadata": {},
     "output_type": "execute_result"
    }
   ],
   "source": [
    "is_matched_html('<table><h1>Little</h1></table>')"
   ]
  },
  {
   "cell_type": "code",
   "execution_count": 15,
   "metadata": {},
   "outputs": [
    {
     "data": {
      "text/plain": [
       "False"
      ]
     },
     "execution_count": 15,
     "metadata": {},
     "output_type": "execute_result"
    }
   ],
   "source": [
    "is_matched_html('<table><h1>Little</h1>')"
   ]
  },
  {
   "cell_type": "markdown",
   "metadata": {},
   "source": [
    "#### C-6.20"
   ]
  },
  {
   "cell_type": "markdown",
   "metadata": {},
   "source": [
    "##### 通过栈实现（非递归）（1,2,3,4,5...............n）所有排列数的结果"
   ]
  },
  {
   "cell_type": "code",
   "execution_count": 20,
   "metadata": {},
   "outputs": [
    {
     "data": {
      "text/plain": [
       "[(1, 2, 3), (1, 3, 2), (2, 1, 3), (2, 3, 1), (3, 1, 2), (3, 2, 1)]"
      ]
     },
     "execution_count": 20,
     "metadata": {},
     "output_type": "execute_result"
    }
   ],
   "source": [
    "n = [1, 2, 3]\n",
    "\n",
    "from itertools import permutations\n",
    "\n",
    "list(permutations(n))"
   ]
  },
  {
   "cell_type": "code",
   "execution_count": 25,
   "metadata": {},
   "outputs": [
    {
     "name": "stdout",
     "output_type": "stream",
     "text": [
      "0\n",
      "1\n",
      "2\n",
      "3\n",
      "4\n",
      "5\n",
      "6\n",
      "7\n",
      "8\n",
      "9\n",
      "10\n",
      "11\n",
      "12\n",
      "13\n",
      "14\n",
      "15\n"
     ]
    }
   ],
   "source": [
    "for i in range(1<<4):\n",
    "    print(i)"
   ]
  },
  {
   "cell_type": "markdown",
   "metadata": {},
   "source": [
    "#### C-6.21"
   ]
  },
  {
   "cell_type": "code",
   "execution_count": 26,
   "metadata": {},
   "outputs": [
    {
     "name": "stdout",
     "output_type": "stream",
     "text": [
      "8\n"
     ]
    }
   ],
   "source": [
    "# -*- coding: utf-8 -*-\n",
    " \n",
    "list_demo = ['a', 'b', 'c']\n",
    "sub_list_all = []  # 用于存放集合所有的子集\n",
    "for i in range(1 << len(list_demo)):  # 循环遍历0到2**n之间的每个数\n",
    "    combo_list = []  # 用于存放每个单独的循环中取出的子集\n",
    "    for j in range(len(list_demo)):\n",
    "        if i & (1 << j):  # 每一个数用&操作判断改为上是否有1  按位与操作，只有 1 &1 为1，其他情况为0\n",
    "            combo_list.append(list_demo[j])  # 有的话保存起来\n",
    "    sub_list_all.append(combo_list)\n",
    "print(len(sub_list_all))"
   ]
  },
  {
   "cell_type": "code",
   "execution_count": 38,
   "metadata": {},
   "outputs": [
    {
     "name": "stdout",
     "output_type": "stream",
     "text": [
      "n:8     value:40320\n",
      "n:3     value:6\n",
      "n:5     value:120\n",
      "56.0\n"
     ]
    }
   ],
   "source": [
    "# -*- coding:utf-8 -*-\n",
    "# 用python实现排列组合C(n,m) = n!/m!*(n-m)!\n",
    "def get_value(n):\n",
    "    if n==1:\n",
    "        return n\n",
    "    else:\n",
    "        return n * get_value(n-1)\n",
    "        \n",
    "def gen_last_value(n,m):\n",
    "     first = get_value(n)\n",
    "     print(\"n:%s     value:%s\"%(n, first))\n",
    "     second = get_value(m)\n",
    "     print(\"n:%s     value:%s\"%(m, second))\n",
    "     third = get_value((n-m))\n",
    "     print(\"n:%s     value:%s\"%((n-m), third))\n",
    "     return first/(second * third)\n",
    "     \n",
    "        \n",
    "if __name__ == \"__main__\":\n",
    "    # C(12,5)\n",
    "    rest = gen_last_value(8,3)\n",
    "    print(rest)"
   ]
  },
  {
   "cell_type": "markdown",
   "metadata": {},
   "source": [
    "#### C-6.22 后缀表示法"
   ]
  },
  {
   "cell_type": "code",
   "execution_count": 1,
   "metadata": {},
   "outputs": [
    {
     "name": "stdout",
     "output_type": "stream",
     "text": [
      "53+21-48+/*4*\n"
     ]
    }
   ],
   "source": [
    "#n = '((5+2)*(8-3))/4'\n",
    "n = '((5+3)*(2-1)/(4+8))*4'\n",
    "#n= '(5+2)*11'\n",
    "\n",
    "def middle2behind(expression):  \n",
    "    result = []             # 结果列表\n",
    "    stack = []              # 栈\n",
    "    for item in expression: \n",
    "        if item.isnumeric():                 # 如果当前字符为数字那么直接放入结果列表\n",
    "            result.append(item) \n",
    "        else:                                       # 如果当前字符为一切其他操作符\n",
    "            if len(stack) == 0:                  # 如果栈空，直接入栈\n",
    "                stack.append(item)\n",
    "            elif item in '*/(':                     # 如果当前字符为*/（，直接入栈\n",
    "                stack.append(item)\n",
    "            elif item == ')':                      # 如果右括号则全部弹出（碰到左括号停止）\n",
    "                t = stack.pop()\n",
    "                while t != '(':   \n",
    "                    result.append(t)\n",
    "                    t = stack.pop()\n",
    "            # 一直没看懂 stack[len(stack) - 1] in '*/' 为什么加这个判断\n",
    "            elif item in '+-' and stack[len(stack)-1] in '*/':             # 如果当前字符为加减且栈顶为乘除，则开始弹出\n",
    "                if stack.count('(') == 0:                                  # 如果有左括号，弹到左括号为止     \n",
    "                    while stack:\n",
    "                        result.append(stack.pop())\n",
    "                else:                                                      # 如果没有左括号，弹出所有\n",
    "                    t = stack.pop() \n",
    "                    while t != '(':\n",
    "                        result.append(t)\n",
    "                        t = stack.pop()\n",
    "                    stack.append('(')\n",
    "                stack.append(item)  # 弹出操作完成后将‘+-’入栈\n",
    "            else:\n",
    "                stack.append(item)  # 其余情况直接入栈（如当前字符为+，栈顶为+-）\n",
    "    while stack:                    # 表达式遍历完了，但是栈中还有操作符不满足弹出条件，把栈中的东西全部弹出\n",
    "        result.append(stack.pop())  # 返回字符串\n",
    "    return \"\".join(result)\n",
    "\n",
    "print(middle2behind(n))\n",
    "#print(middle2behind(n_1))\n",
    "#print(middle2behind(n_2))"
   ]
  },
  {
   "cell_type": "markdown",
   "metadata": {},
   "source": [
    "#### C-6.23"
   ]
  },
  {
   "cell_type": "markdown",
   "metadata": {},
   "source": [
    "略"
   ]
  },
  {
   "cell_type": "markdown",
   "metadata": {},
   "source": [
    "#### C-6.24"
   ]
  },
  {
   "cell_type": "markdown",
   "metadata": {},
   "source": [
    "不确定答案 1 n n"
   ]
  },
  {
   "cell_type": "markdown",
   "metadata": {},
   "source": [
    "#### C-6.25"
   ]
  },
  {
   "cell_type": "code",
   "execution_count": 44,
   "metadata": {},
   "outputs": [
    {
     "name": "stdout",
     "output_type": "stream",
     "text": [
      "[2, 3, 4, 5]\n",
      "[3, 4, 5]\n",
      "[4, 5]\n"
     ]
    }
   ],
   "source": [
    "class Full(Exception):\n",
    "    \"\"\"Error attempting to access an element from an empty container.\"\"\"\n",
    "    pass\n",
    "\n",
    "class Empty(Exception):\n",
    "    pass\n",
    "\n",
    "class ArrayStack:\n",
    "    \"\"\"LIFO Stack implementation using a Python list as underlying storage.\"\"\"\n",
    "    \n",
    "    def __init__(self):\n",
    "        \"\"\"Create an empty stack.\"\"\"\n",
    "        self._data = []\n",
    "        \n",
    "    def __len__(self):\n",
    "        return len(self._data)\n",
    "    \n",
    "    def is_empty(self):\n",
    "        return len(self._data) == 0\n",
    "    \n",
    "    def push(self, e):\n",
    "        self._data.append(e)\n",
    "        \n",
    "    def top(self):\n",
    "        if self.is_empty():\n",
    "            raise Empty('Stack is empty.')\n",
    "        return self._data[-1]\n",
    "    \n",
    "    def pop(self):\n",
    "        if self.is_empty():\n",
    "            raise Empty('Stack is empty.')\n",
    "        return self._data.pop()\n",
    "    \n",
    "class StackQueue:\n",
    "    as1 = ArrayStack()\n",
    "    as2 = ArrayStack()\n",
    "    \n",
    "    def __init__(self):\n",
    "        self._data = []\n",
    "        \n",
    "    def _add(self, e):\n",
    "        self.as1.push(e)\n",
    "        \n",
    "    def _del(self):\n",
    "        for i in range(len(self.as1) - 1):\n",
    "            self.as2.push(self.as1.pop())\n",
    "        answer = self.as1.pop()\n",
    "        for i in range(len(self.as2)):\n",
    "            self.as1.push(self.as2.pop())\n",
    "        return answer\n",
    "        \n",
    "    def _get(self):\n",
    "        return self.as1._data\n",
    "            \n",
    "sq1 = StackQueue()\n",
    "sq1._add(1), sq1._add(2), sq1._add(3), sq1._add(4), sq1._add(5)\n",
    "sq1._del()\n",
    "print(sq1._get())\n",
    "sq1._del()\n",
    "print(sq1._get())\n",
    "sq1._del()\n",
    "print(sq1._get())"
   ]
  },
  {
   "cell_type": "markdown",
   "metadata": {},
   "source": [
    "#### C-6.26"
   ]
  },
  {
   "cell_type": "markdown",
   "metadata": {},
   "source": [
    "略"
   ]
  },
  {
   "cell_type": "markdown",
   "metadata": {},
   "source": [
    "#### C-6.27"
   ]
  },
  {
   "cell_type": "code",
   "execution_count": null,
   "metadata": {},
   "outputs": [],
   "source": [
    "as1 = "
   ]
  }
 ],
 "metadata": {
  "kernelspec": {
   "display_name": "Python 3",
   "language": "python",
   "name": "python3"
  },
  "language_info": {
   "codemirror_mode": {
    "name": "ipython",
    "version": 3
   },
   "file_extension": ".py",
   "mimetype": "text/x-python",
   "name": "python",
   "nbconvert_exporter": "python",
   "pygments_lexer": "ipython3",
   "version": "3.7.3"
  }
 },
 "nbformat": 4,
 "nbformat_minor": 2
}
