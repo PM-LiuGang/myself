{
 "cells": [
  {
   "cell_type": "markdown",
   "metadata": {},
   "source": [
    "#4-6 测试元素唯一性的递归函数"
   ]
  },
  {
   "cell_type": "code",
   "execution_count": 1,
   "metadata": {},
   "outputs": [],
   "source": [
    "def unique3(s, start, stop):\n",
    "    if stop - start <= 1:\n",
    "        return True\n",
    "    elif not unique3(s, start, stop-1):\n",
    "        return False\n",
    "    elif not unique3(s, start+1, stop):\n",
    "        return False\n",
    "    else:\n",
    "        return s[start] != s[stop - 1]"
   ]
  },
  {
   "cell_type": "markdown",
   "metadata": {},
   "source": [
    "#C-4.11 不使用排序 最坏运行时间不超过O(n**2)"
   ]
  },
  {
   "cell_type": "code",
   "execution_count": 4,
   "metadata": {},
   "outputs": [],
   "source": [
    "a = [1,2,3,4,5,'a',6,'a']\n",
    "\n",
    "from collections import Counter\n",
    "\n",
    "ca = Counter(a)"
   ]
  },
  {
   "cell_type": "code",
   "execution_count": 5,
   "metadata": {},
   "outputs": [
    {
     "data": {
      "text/plain": [
       "Counter({1: 1, 2: 1, 3: 1, 4: 1, 5: 1, 'a': 2, 6: 1})"
      ]
     },
     "execution_count": 5,
     "metadata": {},
     "output_type": "execute_result"
    }
   ],
   "source": [
    "ca"
   ]
  },
  {
   "cell_type": "code",
   "execution_count": 7,
   "metadata": {},
   "outputs": [
    {
     "name": "stdout",
     "output_type": "stream",
     "text": [
      "Has Duplicate!\n"
     ]
    }
   ],
   "source": [
    "for i in ca.items():\n",
    "    if i[1] > 1:\n",
    "        print('Has Duplicate!')"
   ]
  },
  {
   "cell_type": "markdown",
   "metadata": {},
   "source": [
    "#4-7 使用二分递归计算第n个斐波那契数列"
   ]
  },
  {
   "cell_type": "code",
   "execution_count": 8,
   "metadata": {},
   "outputs": [],
   "source": [
    "def bad_fibonacci(fn):\n",
    "    if n <= 1:\n",
    "        return n\n",
    "    else:\n",
    "        return bad_fibonacci(n - 2) + bad_fibonacci(n - 1)"
   ]
  },
  {
   "cell_type": "markdown",
   "metadata": {},
   "source": [
    "#4-1 阶乘函数的递归实现"
   ]
  },
  {
   "cell_type": "code",
   "execution_count": 21,
   "metadata": {},
   "outputs": [],
   "source": [
    "def factorial(n):\n",
    "    h = 1\n",
    "    if n == 0:\n",
    "        return 1\n",
    "    else:\n",
    "        h += 1\n",
    "        print(h)\n",
    "        return n * factorial(n-1)\n"
   ]
  },
  {
   "cell_type": "code",
   "execution_count": 23,
   "metadata": {},
   "outputs": [
    {
     "name": "stdout",
     "output_type": "stream",
     "text": [
      "2\n",
      "2\n",
      "2\n",
      "2\n",
      "2\n"
     ]
    },
    {
     "data": {
      "text/plain": [
       "120"
      ]
     },
     "execution_count": 23,
     "metadata": {},
     "output_type": "execute_result"
    }
   ],
   "source": [
    "factorial(5) # 多次调用后，为什么h没有加1呢"
   ]
  },
  {
   "cell_type": "code",
   "execution_count": 24,
   "metadata": {},
   "outputs": [],
   "source": [
    "def factorial(n):\n",
    "    h = 1\n",
    "    if n == 0:\n",
    "        return 1\n",
    "    else:\n",
    "        return n * factorial(n-1)\n",
    "        h += 1\n",
    "    print(h)"
   ]
  },
  {
   "cell_type": "code",
   "execution_count": 25,
   "metadata": {},
   "outputs": [
    {
     "data": {
      "text/plain": [
       "120"
      ]
     },
     "execution_count": 25,
     "metadata": {},
     "output_type": "execute_result"
    }
   ],
   "source": [
    "factorial(5)"
   ]
  },
  {
   "cell_type": "markdown",
   "metadata": {},
   "source": [
    "#4-2 绘制一个标尺的函数的递归实现"
   ]
  },
  {
   "cell_type": "code",
   "execution_count": 94,
   "metadata": {},
   "outputs": [],
   "source": [
    "def draw_line(tick_length, tick_label=''):\n",
    "    line = '-' * tick_length\n",
    "    if tick_label:\n",
    "        line += ' ' + tick_label\n",
    "    print(line)\n",
    "    \n",
    "def draw_interval(center_length):\n",
    "    if center_length > 0:\n",
    "        draw_interval(center_length - 1)\n",
    "        draw_line(center_length)\n",
    "        draw_interval(center_length - 1)\n",
    "        \n",
    "def draw_ruler(num_inches, major_length):\n",
    "    draw_line(major_length, '0')\n",
    "    for j in range(1, 1 + num_inches):\n",
    "        draw_interval(major_length - 1)\n",
    "        draw_line(major_length, str(j))"
   ]
  },
  {
   "cell_type": "code",
   "execution_count": 95,
   "metadata": {},
   "outputs": [
    {
     "name": "stdout",
     "output_type": "stream",
     "text": [
      "---- 0\n",
      "-\n",
      "--\n",
      "-\n",
      "---\n",
      "-\n",
      "--\n",
      "-\n",
      "---- 1\n",
      "-\n",
      "--\n",
      "-\n",
      "---\n",
      "-\n",
      "--\n",
      "-\n",
      "---- 2\n"
     ]
    }
   ],
   "source": [
    "draw_ruler(2, 4)"
   ]
  },
  {
   "cell_type": "code",
   "execution_count": 96,
   "metadata": {},
   "outputs": [
    {
     "name": "stdout",
     "output_type": "stream",
     "text": [
      "--- 0\n",
      "-\n",
      "--\n",
      "-\n",
      "--- 1\n"
     ]
    }
   ],
   "source": [
    "draw_ruler(1, 3)"
   ]
  },
  {
   "cell_type": "code",
   "execution_count": 97,
   "metadata": {},
   "outputs": [
    {
     "name": "stdout",
     "output_type": "stream",
     "text": [
      "-- 0\n",
      "-\n",
      "-- 1\n"
     ]
    }
   ],
   "source": [
    "draw_ruler(1, 2)"
   ]
  },
  {
   "cell_type": "code",
   "execution_count": 90,
   "metadata": {},
   "outputs": [],
   "source": [
    "def ruler(num_inches, major_length):\n",
    "    pass\n",
    "\n",
    "def line(tick_length, tick_label=''):\n",
    "    line = '-' * tick_length\n",
    "    if tick_label:\n",
    "        line += ' ' + tick_label\n",
    "    print(line)\n",
    "    \n",
    "def inches(num_inches, major_length):\n",
    "    line(num_inches, '0')\n",
    "    for i in range(0, major_length):\n",
    "        line(num_inches, str(i + 1))\n",
    "        line(num_inches - 1)"
   ]
  },
  {
   "cell_type": "code",
   "execution_count": 91,
   "metadata": {},
   "outputs": [
    {
     "name": "stdout",
     "output_type": "stream",
     "text": [
      "----- 0\n",
      "----- 1\n"
     ]
    }
   ],
   "source": [
    "inches(5, 1)"
   ]
  },
  {
   "cell_type": "code",
   "execution_count": 92,
   "metadata": {},
   "outputs": [
    {
     "name": "stdout",
     "output_type": "stream",
     "text": [
      "---- 0\n",
      "---- 1\n",
      "---- 2\n"
     ]
    }
   ],
   "source": [
    "inches(4, 2)"
   ]
  },
  {
   "cell_type": "code",
   "execution_count": 93,
   "metadata": {},
   "outputs": [
    {
     "name": "stdout",
     "output_type": "stream",
     "text": [
      "--- 0\n",
      "--- 1\n",
      "--- 2\n",
      "--- 3\n"
     ]
    }
   ],
   "source": [
    "inches(3, 3)"
   ]
  },
  {
   "cell_type": "markdown",
   "metadata": {},
   "source": [
    "#4-3 二分查找算法的实现"
   ]
  },
  {
   "cell_type": "code",
   "execution_count": 4,
   "metadata": {},
   "outputs": [],
   "source": [
    "def binary_search(data, target, low, high):\n",
    "    \"\"\"Return True if target is found in indicated portion of a Python list.\n",
    "    \n",
    "    The search only considers the portion from data[low] to data[high] inclusive\"\"\"\n",
    "    if low > high:\n",
    "        return False\n",
    "    else:\n",
    "        mid = (low + high) // 2\n",
    "        if target == data[mid]:\n",
    "            return True\n",
    "        elif target < data[mid]:\n",
    "            return binary_search(data, target, low, min-1)\n",
    "        else:\n",
    "            return binary_search(data, target, mid+1, high)"
   ]
  },
  {
   "cell_type": "code",
   "execution_count": 5,
   "metadata": {},
   "outputs": [],
   "source": [
    "l1 = [2, 4, 5, 7, 8, 9, 12, 14, 17, 19, 22, 25, 27, 29, 344,4444]"
   ]
  },
  {
   "cell_type": "code",
   "execution_count": 6,
   "metadata": {},
   "outputs": [
    {
     "data": {
      "text/plain": [
       "True"
      ]
     },
     "execution_count": 6,
     "metadata": {},
     "output_type": "execute_result"
    }
   ],
   "source": [
    "binary_search(l1, 22, 1, 10)"
   ]
  },
  {
   "cell_type": "code",
   "execution_count": 7,
   "metadata": {},
   "outputs": [
    {
     "data": {
      "text/plain": [
       "False"
      ]
     },
     "execution_count": 7,
     "metadata": {},
     "output_type": "execute_result"
    }
   ],
   "source": [
    "binary_search(l1,22, 1, 5)"
   ]
  },
  {
   "cell_type": "markdown",
   "metadata": {},
   "source": [
    "#4-5 报告一个文件系统磁盘使用情况的递归函数"
   ]
  },
  {
   "cell_type": "code",
   "execution_count": 1,
   "metadata": {},
   "outputs": [],
   "source": [
    "import os\n",
    "\n",
    "def disk_usage(path):\n",
    "    \"\"\"Return the number of bytes used by a file/folder and any descendents\"\"\"\n",
    "    total = os.path.getsize(path)\n",
    "    if os.path.isdir(path):\n",
    "        for filename in os.listdir(path):\n",
    "            childpath = os.path.join(path, filename)\n",
    "            total += disk_usage(childpath)\n",
    "            \n",
    "    print('{0:<7}'.format(total), path)\n",
    "    return total"
   ]
  },
  {
   "cell_type": "code",
   "execution_count": 3,
   "metadata": {},
   "outputs": [
    {
     "name": "stdout",
     "output_type": "stream",
     "text": [
      "42884   C:\\Users\\admin\\Desktop\\myself\\Desktop\\myself\\reader\\DataStructures\\.ipynb_checkpoints\\ex1-checkpoint.ipynb\n",
      "5146    C:\\Users\\admin\\Desktop\\myself\\Desktop\\myself\\reader\\DataStructures\\.ipynb_checkpoints\\ex3-checkpoint.ipynb\n",
      "5713    C:\\Users\\admin\\Desktop\\myself\\Desktop\\myself\\reader\\DataStructures\\.ipynb_checkpoints\\ex4-checkpoint.ipynb\n",
      "57839   C:\\Users\\admin\\Desktop\\myself\\Desktop\\myself\\reader\\DataStructures\\.ipynb_checkpoints\n",
      "42884   C:\\Users\\admin\\Desktop\\myself\\Desktop\\myself\\reader\\DataStructures\\ex1.ipynb\n",
      "5146    C:\\Users\\admin\\Desktop\\myself\\Desktop\\myself\\reader\\DataStructures\\ex3.ipynb\n",
      "6489    C:\\Users\\admin\\Desktop\\myself\\Desktop\\myself\\reader\\DataStructures\\ex4.ipynb\n",
      "2158    C:\\Users\\admin\\Desktop\\myself\\Desktop\\myself\\reader\\DataStructures\\plotClassifierRegions.py\n",
      "118612  C:\\Users\\admin\\Desktop\\myself\\Desktop\\myself\\reader\\DataStructures\n"
     ]
    },
    {
     "data": {
      "text/plain": [
       "118612"
      ]
     },
     "execution_count": 3,
     "metadata": {},
     "output_type": "execute_result"
    }
   ],
   "source": [
    "disk_usage(r'C:\\Users\\admin\\Desktop\\myself\\Desktop\\myself\\reader\\DataStructures')"
   ]
  },
  {
   "cell_type": "markdown",
   "metadata": {},
   "source": [
    "#4-7 使用二分递归计算第n个斐波那契数列"
   ]
  },
  {
   "cell_type": "code",
   "execution_count": 9,
   "metadata": {},
   "outputs": [],
   "source": [
    "def bad_fibonacci(n):\n",
    "    if n <= 1:\n",
    "        return n\n",
    "    else:\n",
    "        return bad_fibonacci(n - 2) + bad_fibonacci(n - 1)"
   ]
  },
  {
   "cell_type": "markdown",
   "metadata": {},
   "source": [
    "#4-8 使用线性递归计算第n个斐波那契数列"
   ]
  },
  {
   "cell_type": "code",
   "execution_count": 10,
   "metadata": {},
   "outputs": [],
   "source": [
    "def good_fibonacci(n):\n",
    "    if n <= 1:\n",
    "        return (n, 0)\n",
    "    else:\n",
    "        (a, b) = good_fibonacci(n - 1)\n",
    "        return (a + b, a)"
   ]
  },
  {
   "cell_type": "markdown",
   "metadata": {},
   "source": [
    "#4-9 使用线性递归计算序列元素的和"
   ]
  },
  {
   "cell_type": "code",
   "execution_count": 11,
   "metadata": {},
   "outputs": [],
   "source": [
    "def linear_sum(s, n):\n",
    "    if n == 0:\n",
    "        return 0\n",
    "    else:\n",
    "        return linear_sum(s, n-1) + s[n-1]"
   ]
  },
  {
   "cell_type": "code",
   "execution_count": 12,
   "metadata": {},
   "outputs": [
    {
     "data": {
      "text/plain": [
       "26"
      ]
     },
     "execution_count": 12,
     "metadata": {},
     "output_type": "execute_result"
    }
   ],
   "source": [
    "linear_sum(l1,5)"
   ]
  },
  {
   "cell_type": "code",
   "execution_count": 13,
   "metadata": {},
   "outputs": [
    {
     "data": {
      "text/plain": [
       "78"
      ]
     },
     "execution_count": 13,
     "metadata": {},
     "output_type": "execute_result"
    }
   ],
   "source": [
    "linear_sum(l1,9)"
   ]
  },
  {
   "cell_type": "code",
   "execution_count": 14,
   "metadata": {},
   "outputs": [
    {
     "data": {
      "text/plain": [
       "18"
      ]
     },
     "execution_count": 14,
     "metadata": {},
     "output_type": "execute_result"
    }
   ],
   "source": [
    "linear_sum(l1, 4)"
   ]
  },
  {
   "cell_type": "markdown",
   "metadata": {},
   "source": [
    "#4-10 使用线性递归逆置序列的元素"
   ]
  },
  {
   "cell_type": "code",
   "execution_count": 15,
   "metadata": {},
   "outputs": [],
   "source": [
    "def  reverse(s, start, stop):\n",
    "    if start < stop - 1:\n",
    "        s[start], s[stop] = s[stop - 1], s[start]\n",
    "        reverse(s, start + 1, stop - 1)"
   ]
  },
  {
   "cell_type": "code",
   "execution_count": 17,
   "metadata": {},
   "outputs": [],
   "source": [
    "reverse(l1, 1, 9)"
   ]
  },
  {
   "cell_type": "code",
   "execution_count": 18,
   "metadata": {},
   "outputs": [
    {
     "data": {
      "text/plain": [
       "[2, 17, 14, 12, 9, 9, 8, 7, 5, 4, 22, 25, 27, 29, 344, 4444]"
      ]
     },
     "execution_count": 18,
     "metadata": {},
     "output_type": "execute_result"
    }
   ],
   "source": [
    "l1"
   ]
  },
  {
   "cell_type": "markdown",
   "metadata": {},
   "source": [
    "#4-11 用简单的递归计算幂函数"
   ]
  },
  {
   "cell_type": "code",
   "execution_count": 44,
   "metadata": {},
   "outputs": [],
   "source": [
    "def power(x, n):\n",
    "    if n == 0:\n",
    "        return 1\n",
    "    else:\n",
    "        return x * power(x, n-1)"
   ]
  },
  {
   "cell_type": "code",
   "execution_count": 45,
   "metadata": {},
   "outputs": [
    {
     "data": {
      "text/plain": [
       "32"
      ]
     },
     "execution_count": 45,
     "metadata": {},
     "output_type": "execute_result"
    }
   ],
   "source": [
    "power(2, 5)"
   ]
  },
  {
   "cell_type": "markdown",
   "metadata": {},
   "source": [
    "#4-12 使用重复的平方计算幂函数"
   ]
  },
  {
   "cell_type": "code",
   "execution_count": 62,
   "metadata": {},
   "outputs": [],
   "source": [
    "def power(x, n):\n",
    "    if n==0:\n",
    "        return 1\n",
    "    else:\n",
    "        partial = power(x, n//2)\n",
    "        result = partial * partial\n",
    "        if n%2 == 1:\n",
    "            result *= x\n",
    "        return result"
   ]
  },
  {
   "cell_type": "code",
   "execution_count": 63,
   "metadata": {},
   "outputs": [
    {
     "data": {
      "text/plain": [
       "262144"
      ]
     },
     "execution_count": 63,
     "metadata": {},
     "output_type": "execute_result"
    }
   ],
   "source": [
    "power(2, 18)"
   ]
  },
  {
   "cell_type": "markdown",
   "metadata": {},
   "source": [
    "### 练习"
   ]
  },
  {
   "cell_type": "markdown",
   "metadata": {},
   "source": [
    "R-4.1"
   ]
  },
  {
   "cell_type": "markdown",
   "metadata": {},
   "source": [
    "对于一个含有n个元素的序列s，描述一个递归算法查找最大值，所给出的递归算法时间复杂度和空间复杂度"
   ]
  },
  {
   "cell_type": "code",
   "execution_count": 43,
   "metadata": {},
   "outputs": [
    {
     "data": {
      "text/plain": [
       "45555"
      ]
     },
     "execution_count": 43,
     "metadata": {},
     "output_type": "execute_result"
    }
   ],
   "source": [
    "def func1(s, n, value=0):\n",
    "    \"\"\"\n",
    "    s : list\n",
    "    n : the nums of list start\n",
    "    value : initial value\n",
    "    \"\"\"\n",
    "    if n == 0:\n",
    "        return value\n",
    "\n",
    "    if s[n] > value:\n",
    "        return func1(s[:n], n - 1, value=s[n])\n",
    "    else:\n",
    "        return func1(s[:n], n - 1, value=value)\n",
    "    \n",
    "    if n == 0:\n",
    "        print(value)\n",
    "\n",
    "l1 = [2, 17, 14, 12, 9, 9, 8, 777, 5, 45555, 22, 25, 27, 29, 344, 4]\n",
    "\n",
    "func1(l1, 10)"
   ]
  },
  {
   "cell_type": "code",
   "execution_count": null,
   "metadata": {},
   "outputs": [],
   "source": [
    "R-4.2"
   ]
  },
  {
   "cell_type": "code",
   "execution_count": 60,
   "metadata": {},
   "outputs": [],
   "source": [
    "def func2(x, n):\n",
    "    if n==1:\n",
    "        return x\n",
    "    else:\n",
    "        return x * func2(x, n-1)"
   ]
  },
  {
   "cell_type": "code",
   "execution_count": 61,
   "metadata": {},
   "outputs": [
    {
     "data": {
      "text/plain": [
       "32"
      ]
     },
     "execution_count": 61,
     "metadata": {},
     "output_type": "execute_result"
    }
   ],
   "source": [
    "func2(2, 5)"
   ]
  },
  {
   "cell_type": "markdown",
   "metadata": {},
   "source": [
    "C-4.10 在只使用加法和整数除法的情况下，递归，计算以2为底的n的对数的整数部分"
   ]
  },
  {
   "cell_type": "code",
   "execution_count": 87,
   "metadata": {},
   "outputs": [],
   "source": [
    "def func3(n, c=0):\n",
    "    if n / 2 <= 1:\n",
    "        return c + 1  # 这必须加1，因为需要除以2后计算\n",
    "    else:\n",
    "        return func3(n / 2, c + 1)"
   ]
  },
  {
   "cell_type": "code",
   "execution_count": 88,
   "metadata": {},
   "outputs": [
    {
     "data": {
      "text/plain": [
       "4"
      ]
     },
     "execution_count": 88,
     "metadata": {},
     "output_type": "execute_result"
    }
   ],
   "source": [
    "func3(12)"
   ]
  },
  {
   "cell_type": "markdown",
   "metadata": {},
   "source": [
    "C-4.12 只在使用加法和减法的情况下，给出一个递归算法，来计算两个正整数m和n的乘积"
   ]
  },
  {
   "cell_type": "code",
   "execution_count": 93,
   "metadata": {},
   "outputs": [],
   "source": [
    "def f4(m, n):\n",
    "    if n==0:\n",
    "        return 0 # 这返回的一定是0，而不是m\n",
    "    else:\n",
    "        return m + f4(m, n-1)"
   ]
  },
  {
   "cell_type": "code",
   "execution_count": 94,
   "metadata": {},
   "outputs": [
    {
     "data": {
      "text/plain": [
       "15"
      ]
     },
     "execution_count": 94,
     "metadata": {},
     "output_type": "execute_result"
    }
   ],
   "source": [
    "f4(3, 5)"
   ]
  },
  {
   "cell_type": "markdown",
   "metadata": {},
   "source": [
    "C-4.11 一个有效的递归函数来求元素的唯一性问题，在不使用排序的最坏的情况下运行时间最多是O(n ** 2)"
   ]
  },
  {
   "cell_type": "code",
   "execution_count": 9,
   "metadata": {},
   "outputs": [],
   "source": [
    "def f5(s, x, n=0):\n",
    "    if x == s[-1]:\n",
    "        n += 1\n",
    "    \n",
    "    if n >1:\n",
    "        print('元素不唯一')\n",
    "        return n\n",
    "    else:\n",
    "        if s[:-1]:\n",
    "            f5(s[:-1], x, n=n)\n",
    "        else:\n",
    "            print('元素唯一')\n",
    "            return n"
   ]
  },
  {
   "cell_type": "code",
   "execution_count": 13,
   "metadata": {},
   "outputs": [],
   "source": [
    "l1 = [2, 17, 14, 12, 9, 9, 8, 777, 5, 45555, 22, 25, 27, 29, 344, 2]"
   ]
  },
  {
   "cell_type": "code",
   "execution_count": 11,
   "metadata": {},
   "outputs": [
    {
     "name": "stdout",
     "output_type": "stream",
     "text": [
      "元素不唯一\n"
     ]
    }
   ],
   "source": [
    "f5(l1, 9)"
   ]
  },
  {
   "cell_type": "code",
   "execution_count": 12,
   "metadata": {},
   "outputs": [
    {
     "name": "stdout",
     "output_type": "stream",
     "text": [
      "元素唯一\n"
     ]
    }
   ],
   "source": [
    "f5(l1,777)"
   ]
  },
  {
   "cell_type": "code",
   "execution_count": 14,
   "metadata": {},
   "outputs": [
    {
     "name": "stdout",
     "output_type": "stream",
     "text": [
      "元素不唯一\n"
     ]
    }
   ],
   "source": [
    "f5(l1, 2)"
   ]
  },
  {
   "cell_type": "markdown",
   "metadata": {},
   "source": [
    "#### C-4.15 编写一个递归函数，该函数将输出一个含有n个元素的集合的所有子集(没有任何重复的子集)"
   ]
  },
  {
   "cell_type": "code",
   "execution_count": null,
   "metadata": {},
   "outputs": [],
   "source": [
    "# 暂时按照数学概念来解答，[1, 2, 3] [3, 2, 1]为重复子集\n",
    "l1 = [2, 17, 14, 12, 9, 1]\n",
    "\n",
    "def  f6(s, n):\n",
    "    s[1] + \n",
    "    "
   ]
  },
  {
   "cell_type": "markdown",
   "metadata": {},
   "source": [
    "#### C-4.16 编写一个简短的递归函数，他接受一个字符串s并且输出逆置字符串，例如 liugang -> gnaguil"
   ]
  },
  {
   "cell_type": "code",
   "execution_count": 31,
   "metadata": {},
   "outputs": [
    {
     "data": {
      "text/plain": [
       "'gnaguil'"
      ]
     },
     "execution_count": 31,
     "metadata": {},
     "output_type": "execute_result"
    }
   ],
   "source": [
    "#myself\n",
    "\n",
    "def f7(s, s1=''):\n",
    "    s1 += s[-1]\n",
    "    if len(s[:-1]) != 0:\n",
    "        return f7(s[:-1], s1=s1)  # 一定要加return\n",
    "    else:\n",
    "        return s1\n",
    "    \n",
    "f7('liugang')"
   ]
  },
  {
   "cell_type": "code",
   "execution_count": 33,
   "metadata": {},
   "outputs": [
    {
     "data": {
      "text/plain": [
       "'racecar'"
      ]
     },
     "execution_count": 33,
     "metadata": {},
     "output_type": "execute_result"
    }
   ],
   "source": [
    "f7('racecar')"
   ]
  },
  {
   "cell_type": "code",
   "execution_count": 32,
   "metadata": {},
   "outputs": [
    {
     "name": "stdout",
     "output_type": "stream",
     "text": [
      "olleh\n"
     ]
    }
   ],
   "source": [
    "def reverse(s):\n",
    "    if s == '':\n",
    "        return s\n",
    "    else:\n",
    "        return reverse(s[1:]) + s[0]  # 没看懂\n",
    " \n",
    "print(reverse('hello'))"
   ]
  },
  {
   "cell_type": "code",
   "execution_count": 28,
   "metadata": {},
   "outputs": [
    {
     "name": "stdout",
     "output_type": "stream",
     "text": [
      "gnaguil\n"
     ]
    }
   ],
   "source": [
    "print(reverse('liugang'))"
   ]
  },
  {
   "cell_type": "markdown",
   "metadata": {},
   "source": [
    "#### C-4.17 编写一个简短的递归Python函数，确定它是否是它的一个回文字符串，例如，racecar，liuuil"
   ]
  },
  {
   "cell_type": "code",
   "execution_count": 34,
   "metadata": {},
   "outputs": [
    {
     "name": "stdout",
     "output_type": "stream",
     "text": [
      "回文字符串\n",
      "回文字符串\n",
      "Is Not\n"
     ]
    },
    {
     "data": {
      "text/plain": [
       "(None, None, None)"
      ]
     },
     "execution_count": 34,
     "metadata": {},
     "output_type": "execute_result"
    }
   ],
   "source": [
    "def f8(s):\n",
    "    if s == f7(s, s1=''):\n",
    "        print('回文字符串')\n",
    "    else:\n",
    "        print('Is Not')\n",
    "        \n",
    "f8('racecar'), f8('liuuil'), f8('liugang')"
   ]
  },
  {
   "cell_type": "markdown",
   "metadata": {},
   "source": [
    "#### C-4.18 使用递归编写一个Python函数，确定字符串s中是否元音字母比辅音字母多，原因a，e，i，o，u五个，其余为辅音字母"
   ]
  },
  {
   "cell_type": "code",
   "execution_count": 38,
   "metadata": {},
   "outputs": [
    {
     "data": {
      "text/plain": [
       "(3, 9)"
      ]
     },
     "execution_count": 38,
     "metadata": {},
     "output_type": "execute_result"
    }
   ],
   "source": [
    "def f9(s, y=0, f=0):\n",
    "    if len(s) == 0:\n",
    "        return y, f\n",
    "    else:\n",
    "        if s[0] in ['a', 'i', 'e', 'u', 'o']:\n",
    "            y += 1\n",
    "            return f9(s[1:], y=y, f=f) # error  return f9(s[1:], y=y) f会被重置\n",
    "        else:\n",
    "            f += 1\n",
    "            return f9(s[1:], y=y, f=f) # error  return f9(s[1:], f=f) f会被重置\n",
    "        \n",
    "f9('sdfdasfjweur')"
   ]
  },
  {
   "cell_type": "code",
   "execution_count": 39,
   "metadata": {},
   "outputs": [
    {
     "data": {
      "text/plain": [
       "(2, 4)"
      ]
     },
     "execution_count": 39,
     "metadata": {},
     "output_type": "execute_result"
    }
   ],
   "source": [
    "f9('qweqwe')"
   ]
  },
  {
   "cell_type": "code",
   "execution_count": 40,
   "metadata": {},
   "outputs": [
    {
     "data": {
      "text/plain": [
       "((0, 5), (6, 0))"
      ]
     },
     "execution_count": 40,
     "metadata": {},
     "output_type": "execute_result"
    }
   ],
   "source": [
    "f9('ddddd'), f9('aaaaaa')"
   ]
  },
  {
   "cell_type": "markdown",
   "metadata": {},
   "source": [
    "#### C-4.20 给定一个未排序的整数序列s和整数k，描述一个递归算法，用于对s中的元素重新排序，使得所有小于等于k的元素在所有大于k的元素之前，在这个含有n个值得序列中，算法的时间复杂度是多少"
   ]
  },
  {
   "cell_type": "code",
   "execution_count": 3,
   "metadata": {},
   "outputs": [
    {
     "data": {
      "text/plain": [
       "[3, 2, 1, 9, 8, 7, 6, 5, 4]"
      ]
     },
     "execution_count": 3,
     "metadata": {},
     "output_type": "execute_result"
    }
   ],
   "source": [
    "def f10(s, k, y=[], f=[]):\n",
    "    if len(s) == 0:\n",
    "        return y + f\n",
    "    else:\n",
    "        if s[0] < k:\n",
    "            y.append(s[0])\n",
    "            return f10(s[1:], k, y=y, f=f) # error  return f9(s[1:], y=y) f会被重置\n",
    "        else:\n",
    "            f.append(s[0])\n",
    "            return f10(s[1:], k, y=y, f=f) # error  return f9(s[1:], f=f) f会被重置\n",
    "\n",
    "f10([9,8,7,6,5,4,3,2,1], 4)"
   ]
  },
  {
   "cell_type": "markdown",
   "metadata": {},
   "source": [
    "#### C-4.19 编写一个简短的递归python函数，用于重新排列一个整数值序列，使得所有偶数值出现在所有奇数值得前面，例如，[1,2,3,4,5,6] -> [2,4,6,1,3,5]"
   ]
  },
  {
   "cell_type": "code",
   "execution_count": 51,
   "metadata": {},
   "outputs": [],
   "source": [
    "def ff1(s, j=[], ou=[]):\n",
    "    if len(s) == 0:\n",
    "        return j+ou\n",
    "    else:\n",
    "        if s[0] % 2 ==0:\n",
    "            j.append(s[0])\n",
    "            return ff1(s[1:], j=j, ou=ou)\n",
    "        else:\n",
    "            ou.append(s[0])\n",
    "            return ff1(s[1:], j=j, ou=ou)"
   ]
  },
  {
   "cell_type": "code",
   "execution_count": 52,
   "metadata": {},
   "outputs": [
    {
     "data": {
      "text/plain": [
       "[2, 4, 6, 1, 3, 5]"
      ]
     },
     "execution_count": 52,
     "metadata": {},
     "output_type": "execute_result"
    }
   ],
   "source": [
    "ff1([1,2,3,4,5,6])"
   ]
  },
  {
   "cell_type": "code",
   "execution_count": 55,
   "metadata": {},
   "outputs": [
    {
     "data": {
      "text/plain": [
       "(1, 2)"
      ]
     },
     "execution_count": 55,
     "metadata": {},
     "output_type": "execute_result"
    }
   ],
   "source": [
    "3%2, 5//2"
   ]
  },
  {
   "cell_type": "markdown",
   "metadata": {},
   "source": [
    "#### C-4.21假设给出一个含有n个元素的序列s，这个序列是包含不同元素的升序序列，给定一个整数k，描述一个递归算法找到s中总和为k的两个整数，如果这样的一队整数存在，算法的时间复杂度是多少"
   ]
  },
  {
   "cell_type": "code",
   "execution_count": 4,
   "metadata": {},
   "outputs": [],
   "source": [
    "l1 = [1, 2, 3, 4, 5, 6, 7, 8, 9]"
   ]
  },
  {
   "cell_type": "code",
   "execution_count": null,
   "metadata": {},
   "outputs": [],
   "source": []
  },
  {
   "cell_type": "markdown",
   "metadata": {},
   "source": [
    "#### C-4.22从代码段4-12使用重复平方的power函数的版本中，实现一个非递归实例；非递归实现？"
   ]
  },
  {
   "cell_type": "code",
   "execution_count": 61,
   "metadata": {},
   "outputs": [
    {
     "data": {
      "text/plain": [
       "65536"
      ]
     },
     "execution_count": 61,
     "metadata": {},
     "output_type": "execute_result"
    }
   ],
   "source": [
    "def power1(x, n):\n",
    "    for i in range(1, n+1):\n",
    "        x *= x   # return x*=x\n",
    "    return x\n",
    "power1(2, 4)"
   ]
  },
  {
   "cell_type": "code",
   "execution_count": 62,
   "metadata": {},
   "outputs": [
    {
     "data": {
      "text/plain": [
       "32"
      ]
     },
     "execution_count": 62,
     "metadata": {},
     "output_type": "execute_result"
    }
   ],
   "source": [
    "def power1(x, n):\n",
    "    s = x\n",
    "    for i in range(1, n+1):\n",
    "        x *= s   # return x*=x\n",
    "    return x\n",
    "power1(2, 4)"
   ]
  },
  {
   "cell_type": "code",
   "execution_count": 63,
   "metadata": {},
   "outputs": [
    {
     "data": {
      "text/plain": [
       "16"
      ]
     },
     "execution_count": 63,
     "metadata": {},
     "output_type": "execute_result"
    }
   ],
   "source": [
    "def power1(x, n):\n",
    "    s = x\n",
    "    for i in range(1, n):\n",
    "        x *= s   # return x*=x 2的3次方 只需要乘以2次2\n",
    "    return x\n",
    "\n",
    "power1(2, 4)"
   ]
  },
  {
   "cell_type": "markdown",
   "metadata": {},
   "source": [
    "#### C-4.14 汉诺塔问题"
   ]
  },
  {
   "cell_type": "code",
   "execution_count": 99,
   "metadata": {},
   "outputs": [
    {
     "name": "stdout",
     "output_type": "stream",
     "text": [
      "移动第 1 次 A --> B\n",
      "移动第 2 次 A --> C\n",
      "移动第 3 次 B --> C\n",
      "移动第 4 次 A --> B\n",
      "移动第 5 次 C --> A\n",
      "移动第 6 次 C --> B\n",
      "移动第 7 次 A --> B\n",
      "移动第 8 次 A --> C\n",
      "移动第 9 次 B --> C\n",
      "移动第 10 次 B --> A\n",
      "移动第 11 次 C --> A\n",
      "移动第 12 次 B --> C\n",
      "移动第 13 次 A --> B\n",
      "移动第 14 次 A --> C\n",
      "移动第 15 次 B --> C\n"
     ]
    }
   ],
   "source": [
    "#----------------汉诺塔-----------------#\n",
    "# 如果有n个圆盘,所需移动的步数为 2^n-1\n",
    "i = 0\n",
    "# 定义一个函数给4个参数n是圆盘的个数,a代表A柱子,b,c 函数里面的是形式参数\n",
    "def move(n,a,b,c):\n",
    "    # 把变量i全局化,如果不全局化,只可访问读取不能进行操作修改\n",
    "    global i\n",
    "    if n==1:\n",
    "        i += 1\n",
    "        print('移动第',i,'次',a,'-->',c)\n",
    "    else:\n",
    "        # 1.把A柱上n-1个圆盘移动到B柱上\n",
    "        move(n-1,a,c,b) # 传的才是实际参数\n",
    "        # 2.把A柱上最大的移动到C柱子上\n",
    "        move(1,a,b,c)\n",
    "        # 3.把B柱子上n-1个圆盘移动到C柱子上\n",
    "        move(n-1,b,a,c)\n",
    "\n",
    "        \n",
    "move(4,'A','B','C')"
   ]
  },
  {
   "cell_type": "markdown",
   "metadata": {},
   "source": [
    "### 项目"
   ]
  },
  {
   "cell_type": "markdown",
   "metadata": {},
   "source": [
    "#### P-4.23 实现一个具有特征值find(path, filename)的递归函数，该特征报告具有指定路径的指定文件名为根的文件系统的所有条目"
   ]
  },
  {
   "cell_type": "code",
   "execution_count": 1,
   "metadata": {},
   "outputs": [],
   "source": [
    "import os \n",
    "\n",
    "def _find(path, filename):\n",
    "    if os.path.isdir(path) and path:\n",
    "        disk_usage(os.path.join(path, filename))\n",
    "    else:\n",
    "        print('参数错误，请检查')\n",
    "\n",
    "def disk_usage(path):\n",
    "    if os.path.isdir(path):\n",
    "        for filename in os.listdir(path):\n",
    "            childpath = os.path.join(path, filename)\n",
    "            disk_usage(childpath)\n",
    "            #print(path) 只打印文件夹四次\n",
    "        #print(path) 只打印文件两次\n",
    "    print(path)  # 正确\n",
    "    print('-' * 50)"
   ]
  },
  {
   "cell_type": "code",
   "execution_count": 2,
   "metadata": {},
   "outputs": [
    {
     "name": "stdout",
     "output_type": "stream",
     "text": [
      "C:\\Users\\admin\\Desktop\\myself\\Desktop\\myself\\reader\\DataStructures\n",
      "--------------------------------------------------\n"
     ]
    }
   ],
   "source": [
    "disk_usage(r'C:\\Users\\admin\\Desktop\\myself\\Desktop\\myself\\reader\\DataStructures')"
   ]
  },
  {
   "cell_type": "code",
   "execution_count": 3,
   "metadata": {},
   "outputs": [
    {
     "name": "stdout",
     "output_type": "stream",
     "text": [
      "参数错误，请检查\n"
     ]
    }
   ],
   "source": [
    "_find(r'C:\\Users\\admin\\Desktop\\myself\\Desktop\\myself\\reader', 'DataStructures')"
   ]
  },
  {
   "cell_type": "code",
   "execution_count": 7,
   "metadata": {},
   "outputs": [
    {
     "name": "stdout",
     "output_type": "stream",
     "text": [
      "('C:\\\\Users\\\\admin\\\\Desktop\\\\myself\\\\Desktop\\\\myself\\\\reader\\\\DataStructures', ['.ipynb_checkpoints'], ['ex1.ipynb', 'ex3.ipynb', 'ex4.ipynb', 'plotClassifierRegions.py'])\n",
      "('C:\\\\Users\\\\admin\\\\Desktop\\\\myself\\\\Desktop\\\\myself\\\\reader\\\\DataStructures\\\\.ipynb_checkpoints', [], ['ex1-checkpoint.ipynb', 'ex3-checkpoint.ipynb', 'ex4-checkpoint.ipynb'])\n"
     ]
    }
   ],
   "source": [
    "for i in os.walk(r'C:\\Users\\admin\\Desktop\\myself\\Desktop\\myself\\reader\\DataStructures'):\n",
    "    print(i)"
   ]
  },
  {
   "cell_type": "markdown",
   "metadata": {},
   "source": [
    "#### P-4.27 当查看图4-6所示的文件系统的目录cs016的子目录时，walk会产生('/user/rt/courses/cs016', ['homeworks', 'programs'], ['grades'])给出一个这样的walk函数"
   ]
  },
  {
   "cell_type": "markdown",
   "metadata": {},
   "source": [
    "('C:\\\\Users\\\\admin\\\\Desktop\\\\myself\\\\Desktop\\\\myself\\\\reader\\\\DataStructures', \n",
    "\n",
    "['.ipynb_checkpoints'], \n",
    "\n",
    "['ex1.ipynb', 'ex3.ipynb', 'ex4.ipynb', 'plotClassifierRegions.py'])\n",
    "\n",
    "-------------------------------------\n",
    "('C:\\\\Users\\\\admin\\\\Desktop\\\\myself\\\\Desktop\\\\myself\\\\reader\\\\DataStructures\\\\.ipynb_checkpoints', \n",
    "\n",
    "[], \n",
    "\n",
    "['ex1-checkpoint.ipynb', 'ex3-checkpoint.ipynb', 'ex4-checkpoint.ipynb'])"
   ]
  },
  {
   "cell_type": "code",
   "execution_count": 4,
   "metadata": {},
   "outputs": [],
   "source": [
    "import os \n",
    "\n",
    "def _find(path, filename):\n",
    "    if os.path.isdir(path) and path:\n",
    "        disk_usage(os.path.join(path, filename))\n",
    "    else:\n",
    "        print('参数错误，请检查')\n",
    "\n",
    "def disk_usage(dirpath, dirnames=[], filenames=[]):\n",
    "    for filename in os.listdir(dirpath):\n",
    "        if os.path.isdir(os.path.join(dirpath, filename)):\n",
    "            dirnames = []\n",
    "            filenames = []\n",
    "            dirnames.append(filename)\n",
    "            for filename_1 in os.listdir(os.path.join(dirpath, filename)):\n",
    "                filenames.append(filename_1)\n",
    "            print(dirpath, '\\n', dirnames, '\\n',filenames)\n",
    "            print('#' * 50)\n",
    "            dirnames = []\n",
    "            filenames = []\n",
    "        else:\n",
    "            filenames.append(filename)\n",
    "    print(dirpath, dirnames, filenames)\n",
    "    print('-' * 50)"
   ]
  },
  {
   "cell_type": "code",
   "execution_count": 5,
   "metadata": {},
   "outputs": [
    {
     "ename": "FileNotFoundError",
     "evalue": "[WinError 3] 系统找不到指定的路径。: 'C:\\\\Users\\\\admin\\\\Desktop\\\\myself\\\\Desktop\\\\myself\\\\reader\\\\DataStructures'",
     "output_type": "error",
     "traceback": [
      "\u001b[1;31m---------------------------------------------------------------------------\u001b[0m",
      "\u001b[1;31mFileNotFoundError\u001b[0m                         Traceback (most recent call last)",
      "\u001b[1;32m<ipython-input-5-452c7fa5103e>\u001b[0m in \u001b[0;36m<module>\u001b[1;34m\u001b[0m\n\u001b[1;32m----> 1\u001b[1;33m \u001b[0mdisk_usage\u001b[0m\u001b[1;33m(\u001b[0m\u001b[1;34mr'C:\\Users\\admin\\Desktop\\myself\\Desktop\\myself\\reader\\DataStructures'\u001b[0m\u001b[1;33m)\u001b[0m\u001b[1;33m\u001b[0m\u001b[1;33m\u001b[0m\u001b[0m\n\u001b[0m",
      "\u001b[1;32m<ipython-input-4-a63f9a6c29a1>\u001b[0m in \u001b[0;36mdisk_usage\u001b[1;34m(dirpath, dirnames, filenames)\u001b[0m\n\u001b[0;32m      8\u001b[0m \u001b[1;33m\u001b[0m\u001b[0m\n\u001b[0;32m      9\u001b[0m \u001b[1;32mdef\u001b[0m \u001b[0mdisk_usage\u001b[0m\u001b[1;33m(\u001b[0m\u001b[0mdirpath\u001b[0m\u001b[1;33m,\u001b[0m \u001b[0mdirnames\u001b[0m\u001b[1;33m=\u001b[0m\u001b[1;33m[\u001b[0m\u001b[1;33m]\u001b[0m\u001b[1;33m,\u001b[0m \u001b[0mfilenames\u001b[0m\u001b[1;33m=\u001b[0m\u001b[1;33m[\u001b[0m\u001b[1;33m]\u001b[0m\u001b[1;33m)\u001b[0m\u001b[1;33m:\u001b[0m\u001b[1;33m\u001b[0m\u001b[1;33m\u001b[0m\u001b[0m\n\u001b[1;32m---> 10\u001b[1;33m     \u001b[1;32mfor\u001b[0m \u001b[0mfilename\u001b[0m \u001b[1;32min\u001b[0m \u001b[0mos\u001b[0m\u001b[1;33m.\u001b[0m\u001b[0mlistdir\u001b[0m\u001b[1;33m(\u001b[0m\u001b[0mdirpath\u001b[0m\u001b[1;33m)\u001b[0m\u001b[1;33m:\u001b[0m\u001b[1;33m\u001b[0m\u001b[1;33m\u001b[0m\u001b[0m\n\u001b[0m\u001b[0;32m     11\u001b[0m         \u001b[1;32mif\u001b[0m \u001b[0mos\u001b[0m\u001b[1;33m.\u001b[0m\u001b[0mpath\u001b[0m\u001b[1;33m.\u001b[0m\u001b[0misdir\u001b[0m\u001b[1;33m(\u001b[0m\u001b[0mos\u001b[0m\u001b[1;33m.\u001b[0m\u001b[0mpath\u001b[0m\u001b[1;33m.\u001b[0m\u001b[0mjoin\u001b[0m\u001b[1;33m(\u001b[0m\u001b[0mdirpath\u001b[0m\u001b[1;33m,\u001b[0m \u001b[0mfilename\u001b[0m\u001b[1;33m)\u001b[0m\u001b[1;33m)\u001b[0m\u001b[1;33m:\u001b[0m\u001b[1;33m\u001b[0m\u001b[1;33m\u001b[0m\u001b[0m\n\u001b[0;32m     12\u001b[0m             \u001b[0mdirnames\u001b[0m \u001b[1;33m=\u001b[0m \u001b[1;33m[\u001b[0m\u001b[1;33m]\u001b[0m\u001b[1;33m\u001b[0m\u001b[1;33m\u001b[0m\u001b[0m\n",
      "\u001b[1;31mFileNotFoundError\u001b[0m: [WinError 3] 系统找不到指定的路径。: 'C:\\\\Users\\\\admin\\\\Desktop\\\\myself\\\\Desktop\\\\myself\\\\reader\\\\DataStructures'"
     ]
    }
   ],
   "source": [
    "disk_usage(r'C:\\Users\\admin\\Desktop\\myself\\Desktop\\myself\\reader\\DataStructures')"
   ]
  },
  {
   "cell_type": "code",
   "execution_count": 56,
   "metadata": {},
   "outputs": [
    {
     "name": "stdout",
     "output_type": "stream",
     "text": [
      "C:\\Users\\admin\\Desktop\\myself\\Desktop\\myself\\reader\\DataStructures \n",
      " ['.ipynb_checkpoints'] \n",
      " ['ex1-checkpoint.ipynb', 'ex3-checkpoint.ipynb', 'ex4-checkpoint.ipynb']\n"
     ]
    }
   ],
   "source": [
    "import os \n",
    "\n",
    "def _find(path, filename):\n",
    "    if os.path.isdir(path) and path:\n",
    "        disk_usage(os.path.join(path, filename))\n",
    "    else:\n",
    "        print('参数错误，请检查')\n",
    "\n",
    "def disk_usage(dirpath, dirnames=[], filenames=[]):\n",
    "    for filename in os.listdir(dirpath): \n",
    "        if os.path.isdir(os.path.join(dirpath, filename)):\n",
    "            dirnames.append(filename)\n",
    "            for filename_1 in os.listdir(os.path.join(dirpath, filename)):\n",
    "                filenames.append(filename_1)\n",
    "            print(dirpath, '\\n', dirnames, '\\n',filenames)\n",
    "                \n",
    "disk_usage(r'C:\\Users\\admin\\Desktop\\myself\\Desktop\\myself\\reader\\DataStructures')"
   ]
  },
  {
   "cell_type": "markdown",
   "metadata": {},
   "source": [
    "P-4.25 4.1.2节的英式标尺工程，用draw_interval函数的一个非递归实现"
   ]
  },
  {
   "cell_type": "code",
   "execution_count": null,
   "metadata": {},
   "outputs": [],
   "source": []
  }
 ],
 "metadata": {
  "kernelspec": {
   "display_name": "Python 3",
   "language": "python",
   "name": "python3"
  },
  "language_info": {
   "codemirror_mode": {
    "name": "ipython",
    "version": 3
   },
   "file_extension": ".py",
   "mimetype": "text/x-python",
   "name": "python",
   "nbconvert_exporter": "python",
   "pygments_lexer": "ipython3",
   "version": "3.7.3"
  }
 },
 "nbformat": 4,
 "nbformat_minor": 2
}
