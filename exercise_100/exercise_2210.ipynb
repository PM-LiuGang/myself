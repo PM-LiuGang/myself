{
 "cells": [
  {
   "cell_type": "markdown",
   "metadata": {},
   "source": [
    "第 0011 题： 敏感词文本文件 filtered_words.txt，里面的内容为以下内容，当用户输入敏感词语时，则打印出 Freedom，否则打印出 Human Rights"
   ]
  },
  {
   "cell_type": "markdown",
   "metadata": {},
   "source": [
    "需求示例\n",
    "\n",
    "user input >>> 领导\n",
    "\n",
    "sys ouput >>> Freedom\n",
    "\n",
    "user imput >>> 非敏感词\n",
    "\n",
    "sys output >>> Human Rights"
   ]
  },
  {
   "cell_type": "code",
   "execution_count": 1,
   "metadata": {},
   "outputs": [
    {
     "name": "stdout",
     "output_type": "stream",
     "text": [
      "In[1]:Please input a word:liu\n",
      "out[1]:Human Rights\n",
      "In[2]:Please input a word:sex\n",
      "out[2]:Freedom\n",
      "In[3]:Please input a word:l\n",
      "out[3]:Human Rights\n",
      "In[4]:Please input a word:北京\n",
      "out[4]:Freedom\n",
      "In[5]:Please input a word:领导\n",
      "out[5]:Freedom\n",
      "In[6]:Please input a word:你娘\n",
      "out[6]:Freedom\n",
      "In[7]:Please input a word:你妈\n",
      "out[7]:Freedom\n",
      "In[8]:Please input a word:love\n",
      "out[8]:Freedom\n",
      "In[9]:Please input a word:liu\n",
      "out[9]:Human Rights\n",
      "In[10]:Please input a word:kk\n",
      "out[10]:Human Rights\n",
      "max choices(10) is reached\n"
     ]
    }
   ],
   "source": [
    "#k9-10:window系统创建的txt，一定要做格式化处理\n",
    "#k12:n=1 定义为全局变量，不能定义为局部变量\n",
    "#k15:如果文本中存储了海量的词语，每次都去双遍历，内存和效率.......\n",
    "\n",
    "import os,re \n",
    "\n",
    "with open(r'./filtered_words.txt', encoding='utf-8') as f:\n",
    "    fc = f.readlines()\n",
    "    fc = [i.rstrip('\\n') for i in fc]\n",
    "    fc = [i.lstrip('\\ufeff') for i in fc]\n",
    "    \n",
    "n = 1\n",
    "while True:\n",
    "    user_input = input('In[{}]:  what you want say:'.format(n))\n",
    "    if user_input in fc:\n",
    "        print('out[{}]:Freedom'.format(n))\n",
    "    else:\n",
    "        print('out[{}]:Human Rights'.format(n))\n",
    "    n += 1\n",
    "    \n",
    "    if n > 10:\n",
    "        print('max choices(10) is reached')\n",
    "        break        "
   ]
  },
  {
   "cell_type": "code",
   "execution_count": null,
   "metadata": {},
   "outputs": [
    {
     "name": "stdout",
     "output_type": "stream",
     "text": [
      "In[1]:  what you want say:我在北京挺好的\n"
     ]
    },
    {
     "name": "stderr",
     "output_type": "stream",
     "text": [
      "Building prefix dict from the default dictionary ...\n",
      "Loading model from cache C:\\Users\\86138\\AppData\\Local\\Temp\\jieba.cache\n",
      "Loading model cost 0.931 seconds.\n",
      "Prefix dict has been built succesfully.\n"
     ]
    },
    {
     "name": "stdout",
     "output_type": "stream",
     "text": [
      "Human Rights在北京挺好的\n",
      "Human RightsHuman Rights北京挺好的\n",
      "Human RightsHuman RightsFreedom挺好的\n",
      "Human RightsHuman RightsFreedomHuman Rights好的\n",
      "Human RightsHuman RightsFreedomHuman RightsHuman Rights的\n",
      "Human RightsHuman RightsFreedomHuman RightsHuman RightsHuman Rights\n"
     ]
    }
   ],
   "source": [
    "#requirement，如果的是一句话呢，屏蔽华中的敏感词汇\n",
    "#k16:出现异常循环打印，无效多次打印\n",
    "import os,re \n",
    "import jieba\n",
    "\n",
    "with open(r'D:\\360MoveData\\Users\\86138\\Desktop\\myself\\exercise_100\\filtered_words.txt', encoding='utf-8') as f:\n",
    "    fc = f.readlines()\n",
    "    fc = [i.rstrip('\\n') for i in fc]\n",
    "    fc = [i.lstrip('\\ufeff') for i in fc]\n",
    "    \n",
    "n = 1\n",
    "while True:\n",
    "    user_input = input('In [{}]:  what you want say:'.format(n))\n",
    "    # chinese\n",
    "    seg_list = list(jieba.cut(user_input, cut_all=False)) # 精确模式\n",
    "    for index, word in enumerate(seg_list, 0):\n",
    "        for i in fc:\n",
    "            if word == i:\n",
    "                seg_list.insert(index, 'Freedom')\n",
    "                del seg_list[index + 1]\n",
    "            else:\n",
    "                continue\n",
    "    print('out[{}]:{}'.format(n,''.join(seg_list)))\n",
    "    n += 1\n",
    "\n",
    "    if n > 5:\n",
    "        print('max choices(10) is reached')\n",
    "        break"
   ]
  },
  {
   "cell_type": "markdown",
   "metadata": {},
   "source": [
    "第 0012 题：敏感词文本文件 filtered_words.txt，里面的内容 和 0011题一样，当用户输入敏感词语，则用 星号 * 替换，例如当用户输入「北京是个好城市」，则变成「**是个好城市」"
   ]
  },
  {
   "cell_type": "code",
   "execution_count": 1,
   "metadata": {},
   "outputs": [
    {
     "name": "stdout",
     "output_type": "stream",
     "text": [
      "In [1]:  what you want say:我在北京过的挺好的，挺sex的\n"
     ]
    },
    {
     "name": "stderr",
     "output_type": "stream",
     "text": [
      "Building prefix dict from the default dictionary ...\n",
      "Loading model from cache C:\\Users\\86138\\AppData\\Local\\Temp\\jieba.cache\n",
      "Loading model cost 0.926 seconds.\n",
      "Prefix dict has been built succesfully.\n"
     ]
    },
    {
     "name": "stdout",
     "output_type": "stream",
     "text": [
      "out[1]:我在**过的挺好的，挺***的\n",
      "In [2]:  what you want say:我在哈尔滨过的挺好\n",
      "out[2]:我在哈尔滨过的挺好\n",
      "In [3]:  what you want say:你妈 你娘的 测试\n",
      "out[3]:你妈 **的 测试\n",
      "In [4]:  what you want say:结巴分词sex，使用效果不好\n",
      "out[4]:结巴分词***，使用效果不好\n",
      "In [5]:  what you want say:还剩最后一次，程序员\n",
      "out[5]:还剩最后一次，***\n",
      "max choices(10) is reached\n"
     ]
    }
   ],
   "source": [
    "#k28:以后得多注意编写自己的测试程序\n",
    "import os,re \n",
    "import jieba\n",
    "\n",
    "with open(r'D:\\360MoveData\\Users\\86138\\Desktop\\myself\\exercise_100\\filtered_words.txt', encoding='utf-8') as f:\n",
    "    fc = f.readlines()\n",
    "    fc = [i.rstrip('\\n') for i in fc]\n",
    "    fc = [i.lstrip('\\ufeff') for i in fc]\n",
    "    \n",
    "n = 1\n",
    "while True:\n",
    "    user_input = input('In  [{}]:  what you want say:'.format(n))\n",
    "    # chinese\n",
    "    seg_list = list(jieba.cut(user_input, cut_all=False)) # 精确模式\n",
    "    for index, word in enumerate(seg_list, 0):\n",
    "        for i in fc:\n",
    "            if word == i:\n",
    "                seg_list.insert(index, '*' * len(word))\n",
    "                del seg_list[index + 1]\n",
    "            else:\n",
    "                continue\n",
    "    print('out[{}]:{}'.format(n,''.join(seg_list)))\n",
    "    n += 1\n",
    "\n",
    "    if n > 5:\n",
    "        print('Max Choices(10) is reached')\n",
    "        \n",
    "if __name__ == '__main__':\n",
    "        user_input = '我在北京过的挺好的，挺sex的'\n",
    "        if ''.join(seg_list) == '我在**过的挺好的，挺***的':\n",
    "            print('Test Pass')"
   ]
  },
  {
   "cell_type": "markdown",
   "metadata": {},
   "source": [
    "第 0014 题前：将excel转换成csv"
   ]
  },
  {
   "cell_type": "code",
   "execution_count": 5,
   "metadata": {},
   "outputs": [],
   "source": [
    "#k1 : 能添加一个简易的客户端就好了 thinker\n",
    "import pandas as pd\n",
    "import os\n",
    "import xlrd\n",
    "\n",
    "path = r'C:\\Users\\admin\\Desktop'\n",
    "filename = 'N4接口测试用例 - 副本.xlsx'\n",
    "replace_dict = {'wu' : 'None', '无' : 'None'}\n",
    "data = xlrd.open_workbook(os.path.join(path, filename))\n",
    "sheet_names = data.sheet_names()\n",
    "\n",
    "for sheet in sheet_names[3 : -1]: \n",
    "    df = pd.read_excel(os.path.join(path, filename), sheet_name=sheet, header=None)\n",
    "    df1 = df[1]\n",
    "    df1.replace(replace_dict, inplace=True)\n",
    "    df1.fillna('Null', inplace=True)\n",
    "    df1_str = ','.join(map(str, df1.to_list()))\n",
    "    with open(os.path.join(path, sheet+'.csv'), 'w') as f:\n",
    "        f.write(df1_str)"
   ]
  },
  {
   "cell_type": "markdown",
   "metadata": {},
   "source": [
    "第 0013 题： 用 Python 写一个爬图片的程序，爬 这个链接里的日本妹子图片 :-)"
   ]
  },
  {
   "cell_type": "code",
   "execution_count": null,
   "metadata": {},
   "outputs": [],
   "source": []
  },
  {
   "cell_type": "markdown",
   "metadata": {},
   "source": [
    "第 0014 题： 纯文本文件 student.txt为学生信息, 里面的内容（包括花括号）如下所示：\n",
    "\n",
    "{\n",
    "\t\"1\":[\"张三\",150,120,100],\n",
    "\t\"2\":[\"李四\",90,99,95],\n",
    "\t\"3\":[\"王五\",60,66,68]\n",
    "}\n"
   ]
  },
  {
   "cell_type": "code",
   "execution_count": 17,
   "metadata": {},
   "outputs": [],
   "source": [
    "#k:赋值不对\n",
    "#k:'\"value\"' -> 'value'   pat不对\n",
    "#k:'[]' -> []  use eval('[]')\n",
    "#k:pd.DataFrame.to_excel的参数\n",
    "#k:得用sublime text3 pdb调试，取消过分依赖spyder3的图形界面的调试\n",
    "\n",
    "import os,re \n",
    "import pandas as pd\n",
    "\n",
    "path = r'D:\\360MoveData\\Users\\86138\\Desktop\\myself\\exercise_100'\n",
    "os.chdir(path)\n",
    "\n",
    "filename = 'exercise_14.txt'\n",
    "\n",
    "pat = re.compile('\\\"(\\d)\\\":(\\[.*\\])') # 双引号在分组外，避免出现'\"\"'\n",
    "\n",
    "with open(os.path.join(path,filename),encoding='utf8') as f:\n",
    "    fc = f.read()\n",
    "    \n",
    "fc_pat = re.findall(pat, fc)\n",
    "\n",
    "list1 = []\n",
    "for k, v in fc_pat:\n",
    "    v = eval(v)\n",
    "#    list2 = v.insert(0, int(k)) # error list2=NoneType 不能赋值\n",
    "    v.insert(0, int(k))\n",
    "    list1.append(v)\n",
    "\n",
    "data = pd.DataFrame(list1)\n",
    "#data = pd.DataFrame(list1, header=None) # __init__() got an unexpected keyword argument 'header'\n",
    "data.index = list(range(1, len(data[0]) + 1))\n",
    "data.to_excel('exercise_14.xlsx', header=False, index=False) # 把数据框的列索引舍弃、数据框的行索引"
   ]
  },
  {
   "cell_type": "code",
   "execution_count": 20,
   "metadata": {},
   "outputs": [],
   "source": [
    "#  Improve\n",
    "# list(('str1', 'str2', 'str3')) -> ['str1', 'str2', 'str3']\n",
    "# tuple(['str1', 'str2', 'str3']) - > ('str1', 'str2', 'str3')\n",
    "\n",
    "import os,re \n",
    "import pandas as pd\n",
    "\n",
    "path = r'D:\\360MoveData\\Users\\86138\\Desktop\\myself\\exercise_100'\n",
    "os.chdir(path)\n",
    "\n",
    "filename = 'exercise_14.txt'\n",
    "\n",
    "pat1 = pat = re.compile('\\\"(\\d)\\\":\\[\\\"(.*)\\\",(.*),(.*),(.*)\\]') # 双引号在分组外，避免出现'\"\"'\n",
    "\n",
    "with open(os.path.join(path,filename),encoding='utf8') as f:\n",
    "    fc = f.read()\n",
    "    fc_pat = re.findall(pat1, fc)\n",
    "    list1 = []\n",
    "    for i in fc_pat:\n",
    "        list1.append(list(i))\n",
    "\n",
    "data = pd.DataFrame(list1)\n",
    "#data = pd.DataFrame(list1, header=None) # __init__() got an unexpected keyword argument 'header'\n",
    "#data.index = list(range(1, len(data[0]) + 1))\n",
    "data.to_excel('exercise_14.xlsx', header=False, index=False) # 把数据框的列索引舍弃、数据框的行索引"
   ]
  },
  {
   "cell_type": "markdown",
   "metadata": {},
   "source": [
    "第 0017 题： 将 第 0014 题中的 student.xls 文件中的内容写到 student.xml 文件中"
   ]
  },
  {
   "cell_type": "markdown",
   "metadata": {},
   "source": [
    "<?xml version=\"1.0\" encoding=\"UTF-8\"?>\n",
    "<root>\n",
    "<students>\n",
    "<!-- \n",
    "\t学生信息表\n",
    "\t\"id\" : [名字, 数学, 语文, 英文]\n",
    "-->\n",
    "{\n",
    "\t\"1\" : [\"张三\", 150, 120, 100],\n",
    "\t\"2\" : [\"李四\", 90, 99, 95],\n",
    "\t\"3\" : [\"王五\", 60, 66, 68]\n",
    "}\n",
    "</students>\n",
    "</root>"
   ]
  },
  {
   "cell_type": "code",
   "execution_count": 20,
   "metadata": {},
   "outputs": [],
   "source": [
    "from xml.etree.ElementTree import Element, parse\n",
    "from xml.etree.ElementTree import tostring\n",
    "\n",
    "def dict2xml(tag, d):\n",
    "    elem = Element(tag)\n",
    "    for key, val in d.items():\n",
    "        child = Element(key)\n",
    "        child.text = str(val)\n",
    "        elem.append(child)\n",
    "    return elem\n",
    "\n",
    "s = {\"1\" : [\"liu\", 150], \"2\" : [\"gang\", 90], \"3\" : [\"liugang\", 60}\n",
    "\n",
    "e = dict2xml('student', s)"
   ]
  },
  {
   "cell_type": "code",
   "execution_count": 21,
   "metadata": {},
   "outputs": [
    {
     "data": {
      "text/plain": [
       "<Element 'stop' at 0x000002C3E51444A8>"
      ]
     },
     "execution_count": 21,
     "metadata": {},
     "output_type": "execute_result"
    }
   ],
   "source": [
    "from xml.etree.ElementTree import Element, parse\n",
    "from xml.etree.ElementTree import tostring\n",
    "\n",
    "doc = parse('xml_4.xml')\n",
    "root = doc.getroot()\n",
    "root"
   ]
  },
  {
   "cell_type": "code",
   "execution_count": 22,
   "metadata": {},
   "outputs": [
    {
     "data": {
      "text/plain": [
       "1"
      ]
     },
     "execution_count": 22,
     "metadata": {},
     "output_type": "execute_result"
    }
   ],
   "source": [
    "root.getchildren().index(root.find('nm'))"
   ]
  },
  {
   "cell_type": "code",
   "execution_count": null,
   "metadata": {},
   "outputs": [],
   "source": [
    "root.remove(root.find('sri')) # 没生效"
   ]
  },
  {
   "cell_type": "code",
   "execution_count": null,
   "metadata": {},
   "outputs": [],
   "source": [
    "root.remove(root.find('cr')) # 没生效"
   ]
  },
  {
   "cell_type": "code",
   "execution_count": 23,
   "metadata": {},
   "outputs": [],
   "source": [
    "#<nm>.....</nm>\n",
    "#<spam>This is a test</spam>   <- add\n",
    "# e = Element('spam')\n",
    "e.text = 'This is a test'\n",
    "root.insert(2, e)\n",
    "doc.write('newpred.xml', xml_declaration=True)"
   ]
  },
  {
   "cell_type": "code",
   "execution_count": 27,
   "metadata": {},
   "outputs": [
    {
     "data": {
      "text/plain": [
       "b\"<student><1>['&#24352;&#19977;', 150, 120, 100]</1><2>['&#26446;&#22235;', 90, 99, 95]</2><3>['&#29579;&#20116;', 60, 66, 68]</3></student>\""
      ]
     },
     "execution_count": 27,
     "metadata": {},
     "output_type": "execute_result"
    }
   ],
   "source": [
    "tostring(e) # 存在无法解析的字符"
   ]
  },
  {
   "cell_type": "code",
   "execution_count": 39,
   "metadata": {},
   "outputs": [
    {
     "data": {
      "text/plain": [
       "'<student _id=\"1334\"><1>[\\'&#24352;&#19977;\\', 150, 120, 100]</1><2>[\\'&#26446;&#22235;\\', 90, 99, 95]</2><3>[\\'&#29579;&#20116;\\', 60, 66, 68]</3></student>'"
      ]
     },
     "execution_count": 39,
     "metadata": {},
     "output_type": "execute_result"
    }
   ],
   "source": [
    "bytes.decode(tostring(e))"
   ]
  },
  {
   "cell_type": "code",
   "execution_count": 34,
   "metadata": {},
   "outputs": [
    {
     "data": {
      "text/plain": [
       "'&lt;spam&gt;'"
      ]
     },
     "execution_count": 34,
     "metadata": {},
     "output_type": "execute_result"
    }
   ],
   "source": [
    "from xml.sax.saxutils import escape, unescape\n",
    "escape('<spam>')"
   ]
  },
  {
   "cell_type": "code",
   "execution_count": 36,
   "metadata": {},
   "outputs": [
    {
     "data": {
      "text/plain": [
       "'<spam>'"
      ]
     },
     "execution_count": 36,
     "metadata": {},
     "output_type": "execute_result"
    }
   ],
   "source": [
    "unescape('&lt;spam&gt;')"
   ]
  },
  {
   "cell_type": "code",
   "execution_count": 28,
   "metadata": {},
   "outputs": [],
   "source": [
    "e.set('_id', '1334')"
   ]
  },
  {
   "cell_type": "code",
   "execution_count": 29,
   "metadata": {},
   "outputs": [
    {
     "data": {
      "text/plain": [
       "b'<student _id=\"1334\"><1>[\\'&#24352;&#19977;\\', 150, 120, 100]</1><2>[\\'&#26446;&#22235;\\', 90, 99, 95]</2><3>[\\'&#29579;&#20116;\\', 60, 66, 68]</3></student>'"
      ]
     },
     "execution_count": 29,
     "metadata": {},
     "output_type": "execute_result"
    }
   ],
   "source": [
    "tostring(e)"
   ]
  },
  {
   "cell_type": "markdown",
   "metadata": {},
   "source": [
    "当创建 XML 的时候，你被限制只能构造字符串类型的值。例如"
   ]
  },
  {
   "cell_type": "markdown",
   "metadata": {},
   "source": [
    "第 0015 题： 纯文本文件 city.txt为城市信息, 里面的内容（包括花括号）如下所示："
   ]
  },
  {
   "cell_type": "markdown",
   "metadata": {},
   "source": [
    "{\n",
    "    \"1\" : \"上海\",\n",
    "    \"2\" : \"北京\",\n",
    "    \"3\" : \"成都\"\n",
    "}"
   ]
  },
  {
   "cell_type": "code",
   "execution_count": 21,
   "metadata": {},
   "outputs": [],
   "source": [
    "import os,re \n",
    "import pandas as pd\n",
    "\n",
    "path = r'D:\\360MoveData\\Users\\86138\\Desktop\\myself\\exercise_100'\n",
    "os.chdir(path)\n",
    "\n",
    "filename = 'exercise_15.txt'\n",
    "\n",
    "pat = re.compile('\\\"(.*)\\\"\\s+:\\s+\\\"(.*)\\\"') # 冒号前后最少存在一个空格\n",
    "\n",
    "with open(os.path.join(path,filename),encoding='utf8') as f:\n",
    "    fc = f.read()\n",
    "    fc_pat = re.findall(pat, fc)\n",
    "    list1 = []\n",
    "    for i in fc_pat:\n",
    "        list1.append(list(i))\n",
    "\n",
    "data = pd.DataFrame(list1)\n",
    "data.to_excel('exercise_15.xlsx', header=False, index=False) # 把数据框的列索引舍弃、数据框的行索引"
   ]
  },
  {
   "cell_type": "markdown",
   "metadata": {},
   "source": [
    "第 0016 题： 纯文本文件 numbers.txt, 里面的内容（包括方括号）如下所示："
   ]
  },
  {
   "cell_type": "markdown",
   "metadata": {},
   "source": [
    "[\n",
    "\t[1, 82, 65535], \n",
    "\t[20, 90, 13],\n",
    "\t[26, 809, 1024]\n",
    "]"
   ]
  },
  {
   "cell_type": "markdown",
   "metadata": {},
   "source": [
    "具体过程略，直接使用pd.DataFrame"
   ]
  },
  {
   "cell_type": "code",
   "execution_count": null,
   "metadata": {},
   "outputs": [],
   "source": [
    "第 0018 题 & 第 0019 题"
   ]
  },
  {
   "cell_type": "code",
   "execution_count": null,
   "metadata": {},
   "outputs": [],
   "source": [
    ".........."
   ]
  },
  {
   "cell_type": "markdown",
   "metadata": {},
   "source": [
    "第 0020 题： 登陆北京移动网上营业厅 后选择「自助服务」 --> 「详单查询」，然后选择你要查询的时间段，点击「查询」按钮，查询结果页面的最下方，点击「导出」，就会生成类似于 2014年10月01日～2014年10月31日通话详单.xls 文件。写代码，对每月通话时间做个统计"
   ]
  },
  {
   "cell_type": "markdown",
   "metadata": {},
   "source": [
    "第 0020 题： 由于验证码的存在，题目更改为，登陆QQ邮箱，下载最近一次的滴滴打车发票"
   ]
  },
  {
   "cell_type": "code",
   "execution_count": 24,
   "metadata": {},
   "outputs": [],
   "source": [
    "import time\n",
    "import os\n",
    "import sys\n",
    "import random\n",
    "\n",
    "from selenium import webdriver\n",
    "\n",
    "wb = webdriver.Chrome()"
   ]
  },
  {
   "cell_type": "code",
   "execution_count": 26,
   "metadata": {},
   "outputs": [],
   "source": [
    "wb.get(\"http:\\\\www.baidu.com\")"
   ]
  },
  {
   "cell_type": "code",
   "execution_count": 27,
   "metadata": {},
   "outputs": [],
   "source": [
    "baidu_text = wb.find_element_by_xpath('//*[@id=\"kw\"]')\n",
    "baidu_text.send_keys('QQ邮箱')"
   ]
  },
  {
   "cell_type": "code",
   "execution_count": 28,
   "metadata": {},
   "outputs": [],
   "source": [
    "baidu_result = wb.find_element_by_xpath('//*[@id=\"su\"]')\n",
    "baidu_result.click()"
   ]
  },
  {
   "cell_type": "code",
   "execution_count": null,
   "metadata": {},
   "outputs": [],
   "source": []
  }
 ],
 "metadata": {
  "kernelspec": {
   "display_name": "Python 3",
   "language": "python",
   "name": "python3"
  },
  "language_info": {
   "codemirror_mode": {
    "name": "ipython",
    "version": 3
   },
   "file_extension": ".py",
   "mimetype": "text/x-python",
   "name": "python",
   "nbconvert_exporter": "python",
   "pygments_lexer": "ipython3",
   "version": "3.6.8"
  }
 },
 "nbformat": 4,
 "nbformat_minor": 2
}
