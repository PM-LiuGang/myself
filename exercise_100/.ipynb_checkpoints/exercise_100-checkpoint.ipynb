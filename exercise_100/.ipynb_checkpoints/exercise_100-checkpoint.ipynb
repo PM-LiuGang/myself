{
 "cells": [
  {
   "cell_type": "markdown",
   "metadata": {},
   "source": [
    "1.Apple Store App 独立开发者，你要搞限时促销，为你的应用生成激活码（或者优惠券），使用 Python 如何生成 200 个激活码（或者优惠券）"
   ]
  },
  {
   "cell_type": "code",
   "execution_count": 199,
   "metadata": {},
   "outputs": [],
   "source": [
    "import random\n",
    "import os\n",
    "\n",
    "from datetime import date"
   ]
  },
  {
   "cell_type": "code",
   "execution_count": 200,
   "metadata": {},
   "outputs": [],
   "source": [
    "#优惠券规则:APP编号三位+年月日+随机7位数\n",
    "#坑1：用的datetime.datetime会返回单位数的月份和日期\n",
    "#坑2：有两种方式填充两位的月份和日期，格式化和字符串格式时间\n",
    "cdate = date.today()\n",
    "cyear = str(cdate.year)\n",
    "cmonth = cdate.strftime('%m')\n",
    "cday = cdate.strftime('%d')\n",
    "app_number = '001'"
   ]
  },
  {
   "cell_type": "code",
   "execution_count": 202,
   "metadata": {},
   "outputs": [],
   "source": [
    "end4 = []\n",
    "n = 1 \n",
    "while True:\n",
    "    rand_end4 = random.randint(1000000,9999999)\n",
    "    end4.append(app_number + cyear + cmonth + cday + str(rand_end4))\n",
    "    n += 1\n",
    "    if n > 200:\n",
    "        break"
   ]
  },
  {
   "cell_type": "code",
   "execution_count": 203,
   "metadata": {},
   "outputs": [],
   "source": [
    "if not os.path.exists('./store_quan.txt'):\n",
    "    with open('store_quan.txt','wt') as f:\n",
    "        f.write('优惠券编号\\n')"
   ]
  },
  {
   "cell_type": "code",
   "execution_count": 204,
   "metadata": {},
   "outputs": [],
   "source": [
    "with open('store_quan.txt','rt') as f:\n",
    "    data = f.readlines()"
   ]
  },
  {
   "cell_type": "code",
   "execution_count": 205,
   "metadata": {},
   "outputs": [],
   "source": [
    "#坑1：writelines写文件的时候是list或者迭代器 | 必须加入换行符号\n",
    "with open('store_quan.txt','at') as f:\n",
    "    for end in end4:\n",
    "        if not end in data:        \n",
    "            f.writelines(end + '\\n')"
   ]
  },
  {
   "cell_type": "markdown",
   "metadata": {},
   "source": [
    "2.将 0001 题生成的 200 个激活码（或者优惠券）保存到 MySQL 关系型数据库中"
   ]
  },
  {
   "cell_type": "code",
   "execution_count": 206,
   "metadata": {},
   "outputs": [],
   "source": [
    "import pymysql"
   ]
  },
  {
   "cell_type": "code",
   "execution_count": 207,
   "metadata": {},
   "outputs": [],
   "source": [
    "db = pymysql.connect(\n",
    "    host='192.168.148.88', \n",
    "    port=3306,\n",
    "    user='root', \n",
    "    passwd='123456', \n",
    "    db='exercise_100',\n",
    "    charset='utf8')\n",
    "cursor = db.cursor()"
   ]
  },
  {
   "cell_type": "code",
   "execution_count": 209,
   "metadata": {},
   "outputs": [],
   "source": [
    "with open('store_quan.txt','rt') as f:\n",
    "    data = f.readlines()"
   ]
  },
  {
   "cell_type": "code",
   "execution_count": null,
   "metadata": {},
   "outputs": [],
   "source": [
    "#坑1：不会写mysql的插入语句\n",
    "#坑2：mysql的语句必须用字符串格式化 | %i不需要用引号 | %i表示整数\n",
    "#坑3：主键不能重复 | enumerate return index->int\n",
    "for lineno, value in enumerate(data[2 : ], 2):\n",
    "    store_num = value[ : 3]\n",
    "    issue_date = value[3 : 11]\n",
    "    random_num = value[11 : -1]\n",
    "    #print(type(lineno), type(store_num), type(issue_date), type(random_num))\n",
    "    #print(lineno, store_num, issue_date, random_num)\n",
    "    sql = \"INSERT INTO coupon (seqnum,store_num, issue_date, random_num) values (%i, '%s','%s','%s')\" % (lineno,store_num, issue_date, random_num)\n",
    "    cursor.execute(sql)\n",
    "    db.commit()\n",
    "    sql = 'select * from coupon'\n",
    "    cursor.execute(sql)\n",
    "    data = cursor.fetchone()\n",
    "    print(data)\n",
    "\n",
    "db.close()"
   ]
  },
  {
   "cell_type": "markdown",
   "metadata": {},
   "source": [
    "3.将 0001 题生成的 200 个激活码（或者优惠券）保存到 Redis 非关系型数据库中"
   ]
  },
  {
   "cell_type": "code",
   "execution_count": null,
   "metadata": {},
   "outputs": [],
   "source": []
  },
  {
   "cell_type": "markdown",
   "metadata": {},
   "source": [
    "4.任一个英文的纯文本文件，统计其中的单词出现的个数"
   ]
  },
  {
   "cell_type": "code",
   "execution_count": 10,
   "metadata": {},
   "outputs": [
    {
     "data": {
      "text/plain": [
       "[('you', 34),\n",
       " ('to', 33),\n",
       " ('the', 27),\n",
       " ('and', 24),\n",
       " ('that', 20),\n",
       " ('your', 16),\n",
       " ('a', 14),\n",
       " ('for', 12),\n",
       " ('it', 11),\n",
       " ('was', 11)]"
      ]
     },
     "execution_count": 10,
     "metadata": {},
     "output_type": "execute_result"
    }
   ],
   "source": [
    "#坑1：TypeError: unhashable type: 'list'  <- content.append([])\n",
    "#坑2：row.split()只用空格少分了太多次，例如，ok？、ok-ok 、ok,ok、ok.ok\n",
    "import re\n",
    "\n",
    "from collections import Counter\n",
    "\n",
    "content = []\n",
    "\n",
    "with open('exercise_4.txt', 'rt') as f:\n",
    "    rows = f.readlines()\n",
    "    for row in rows:\n",
    "        for word in row.split():\n",
    "            content.append(word)\n",
    "            \n",
    "c = Counter(content)\n",
    "c.most_common(10)"
   ]
  },
  {
   "cell_type": "code",
   "execution_count": 30,
   "metadata": {},
   "outputs": [
    {
     "data": {
      "text/plain": [
       "[('you', 43),\n",
       " ('to', 34),\n",
       " ('the', 28),\n",
       " ('and', 24),\n",
       " ('that', 21),\n",
       " ('your', 16),\n",
       " ('a', 14),\n",
       " ('for', 13),\n",
       " ('it', 12),\n",
       " ('know', 11),\n",
       " ('was', 11),\n",
       " ('she', 11),\n",
       " ('of', 10),\n",
       " ('what', 9),\n",
       " ('is', 9),\n",
       " ('are', 9),\n",
       " ('work', 9),\n",
       " ('something', 9),\n",
       " ('in', 9),\n",
       " ('have', 8),\n",
       " ('how', 8),\n",
       " ('take', 8),\n",
       " ('s', 8),\n",
       " ('do', 8),\n",
       " ('priorities', 8),\n",
       " ('re', 7),\n",
       " ('not', 7),\n",
       " ('who', 7),\n",
       " ('research', 7),\n",
       " ('important', 7),\n",
       " ('with', 7),\n",
       " ('or', 6),\n",
       " ('on', 6),\n",
       " ('long', 6),\n",
       " ('keep', 6),\n",
       " ('her', 6),\n",
       " ('job', 5),\n",
       " ('might', 5),\n",
       " ('can', 5),\n",
       " ('steps', 5),\n",
       " ('he', 5),\n",
       " ('from', 5),\n",
       " ('gonna', 5),\n",
       " ('meeting', 5),\n",
       " ('doing', 4),\n",
       " ('going', 4),\n",
       " ('this', 4),\n",
       " ('good', 4),\n",
       " ('track', 4),\n",
       " ('next', 4)]"
      ]
     },
     "execution_count": 30,
     "metadata": {},
     "output_type": "execute_result"
    }
   ],
   "source": [
    "#坑1：\\w = '[^A-Za-z0-9_]'\n",
    "import re\n",
    "\n",
    "from collections import Counter\n",
    "\n",
    "with open('exercise_4.txt', 'rt') as f:\n",
    "    content = f.read()\n",
    "    content_list = [i for i in re.split(r'\\W', content) if len(i) > 0]\n",
    "    #content_list = re.split(r'\\W', content)\n",
    "    \n",
    "c = Counter(content_list)\n",
    "c.most_common(50)"
   ]
  },
  {
   "cell_type": "code",
   "execution_count": 31,
   "metadata": {},
   "outputs": [
    {
     "data": {
      "text/plain": [
       "[('you', 43),\n",
       " ('to', 34),\n",
       " ('the', 28),\n",
       " ('and', 24),\n",
       " ('that', 21),\n",
       " ('are', 16),\n",
       " ('your', 16),\n",
       " ('a', 14),\n",
       " ('for', 13),\n",
       " ('is', 12),\n",
       " ('it', 12),\n",
       " ('know', 11),\n",
       " ('was', 11),\n",
       " ('she', 11),\n",
       " ('of', 10),\n",
       " ('what', 9),\n",
       " ('work', 9),\n",
       " ('something', 9),\n",
       " ('in', 9),\n",
       " ('not', 8)]"
      ]
     },
     "execution_count": 31,
     "metadata": {},
     "output_type": "execute_result"
    }
   ],
   "source": [
    "#坑1：考虑常用缩写\n",
    "import re\n",
    "\n",
    "from collections import Counter\n",
    "\n",
    "with open('exercise_4.txt', 'rt') as f:\n",
    "    content = f.read()\n",
    "    content = re.sub(\"'re\", \" are\", content)\n",
    "    content = re.sub(\"doesn't\", \"does not\", content)\n",
    "    content = re.sub(\"hat's\", \"hat is\", content)\n",
    "    \n",
    "    content_list = [i for i in re.split(r'\\W', content) if len(i) > 0]\n",
    "    #content_list = re.split(r'\\W', content)\n",
    "    \n",
    "c = Counter(content_list)\n",
    "c.most_common(20)"
   ]
  },
  {
   "cell_type": "markdown",
   "metadata": {},
   "source": [
    "5.你有一个目录，装了很多照片，把它们的尺寸变成都不大于 iPhone5 分辨率的大小"
   ]
  },
  {
   "cell_type": "code",
   "execution_count": null,
   "metadata": {},
   "outputs": [],
   "source": [
    "from PIL import Image\n",
    "\n",
    "import os\n",
    "\n",
    "path = r'D:\\360MoveData\\Users\\86138\\Desktop\\jpg'\n",
    "jpg_path = [i for i in os.listdir(path) if i.endswith('.jpg')]\n",
    "jpg_path\n",
    "\n",
    "# iphone5 分辨率 = 1136*640\n",
    "#坑1：后缀名的变更.jpg  -> _md.jpg\n",
    "#坑2：jpg[:-4] 不知道取到哪一位\n",
    "#坑3：jpg_path没有带绝对路径，只有带文件名\n",
    "os.chdir(r'D:\\360MoveData\\Users\\86138\\Desktop\\jpg')\n",
    "\n",
    "def produceImage(file_in, width, height, file_out):\n",
    "    image = Image.open(file_in)\n",
    "    resized_image = image.resize((width, height), Image.ANTIALIAS)\n",
    "    resized_image.save(file_out)\n",
    "    resized_image.close()\n",
    "\n",
    "if __name__ == '__main__':\n",
    "    for jpg in jpg_path:\n",
    "        width = 640\n",
    "        height = 1136\n",
    "        file_out = jpg[:-4] + '_md.jpg'\n",
    "        produceImage(jpg, width, height, file_out)"
   ]
  },
  {
   "cell_type": "code",
   "execution_count": 40,
   "metadata": {},
   "outputs": [],
   "source": []
  }
 ],
 "metadata": {
  "kernelspec": {
   "display_name": "Python 3",
   "language": "python",
   "name": "python3"
  },
  "language_info": {
   "codemirror_mode": {
    "name": "ipython",
    "version": 3
   },
   "file_extension": ".py",
   "mimetype": "text/x-python",
   "name": "python",
   "nbconvert_exporter": "python",
   "pygments_lexer": "ipython3",
   "version": "3.6.8"
  }
 },
 "nbformat": 4,
 "nbformat_minor": 2
}
