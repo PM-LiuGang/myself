{
 "cells": [
  {
   "cell_type": "markdown",
   "metadata": {},
   "source": [
    "第 0011 题： 敏感词文本文件 filtered_words.txt，里面的内容为以下内容，当用户输入敏感词语时，则打印出 Freedom，否则打印出 Human Rights"
   ]
  },
  {
   "cell_type": "markdown",
   "metadata": {},
   "source": [
    "需求示例\n",
    "\n",
    "user input >>> 领导\n",
    "\n",
    "sys ouput >>> Freedom\n",
    "\n",
    "user imput >>> 非敏感词\n",
    "\n",
    "sys output >>> Human Rights"
   ]
  },
  {
   "cell_type": "code",
   "execution_count": 1,
   "metadata": {},
   "outputs": [
    {
     "name": "stdout",
     "output_type": "stream",
     "text": [
      "In[1]:Please input a word:liu\n",
      "out[1]:Human Rights\n",
      "In[2]:Please input a word:sex\n",
      "out[2]:Freedom\n",
      "In[3]:Please input a word:l\n",
      "out[3]:Human Rights\n",
      "In[4]:Please input a word:北京\n",
      "out[4]:Freedom\n",
      "In[5]:Please input a word:领导\n",
      "out[5]:Freedom\n",
      "In[6]:Please input a word:你娘\n",
      "out[6]:Freedom\n",
      "In[7]:Please input a word:你妈\n",
      "out[7]:Freedom\n",
      "In[8]:Please input a word:love\n",
      "out[8]:Freedom\n",
      "In[9]:Please input a word:liu\n",
      "out[9]:Human Rights\n",
      "In[10]:Please input a word:kk\n",
      "out[10]:Human Rights\n",
      "max choices(10) is reached\n"
     ]
    }
   ],
   "source": [
    "#k9-10:window系统创建的txt，一定要做格式化处理\n",
    "#k12:n=1 定义为全局变量，不能定义为局部变量\n",
    "#k15:如果文本中存储了海量的词语，每次都去双遍历，内存和效率.......\n",
    "\n",
    "import os,re \n",
    "\n",
    "with open(r'./filtered_words.txt', encoding='utf-8') as f:\n",
    "    fc = f.readlines()\n",
    "    fc = [i.rstrip('\\n') for i in fc]\n",
    "    fc = [i.lstrip('\\ufeff') for i in fc]\n",
    "    \n",
    "n = 1\n",
    "while True:\n",
    "    user_input = input('In[{}]:  what you want say:'.format(n))\n",
    "    if user_input in fc:\n",
    "        print('out[{}]:Freedom'.format(n))\n",
    "    else:\n",
    "        print('out[{}]:Human Rights'.format(n))\n",
    "    n += 1\n",
    "    \n",
    "    if n > 10:\n",
    "        print('max choices(10) is reached')\n",
    "        break        "
   ]
  },
  {
   "cell_type": "code",
   "execution_count": null,
   "metadata": {},
   "outputs": [
    {
     "name": "stdout",
     "output_type": "stream",
     "text": [
      "In[1]:  what you want say:我在北京挺好的\n"
     ]
    },
    {
     "name": "stderr",
     "output_type": "stream",
     "text": [
      "Building prefix dict from the default dictionary ...\n",
      "Loading model from cache C:\\Users\\86138\\AppData\\Local\\Temp\\jieba.cache\n",
      "Loading model cost 0.931 seconds.\n",
      "Prefix dict has been built succesfully.\n"
     ]
    },
    {
     "name": "stdout",
     "output_type": "stream",
     "text": [
      "Human Rights在北京挺好的\n",
      "Human RightsHuman Rights北京挺好的\n",
      "Human RightsHuman RightsFreedom挺好的\n",
      "Human RightsHuman RightsFreedomHuman Rights好的\n",
      "Human RightsHuman RightsFreedomHuman RightsHuman Rights的\n",
      "Human RightsHuman RightsFreedomHuman RightsHuman RightsHuman Rights\n"
     ]
    }
   ],
   "source": [
    "#requirement，如果的是一句话呢，屏蔽华中的敏感词汇\n",
    "#k16:出现异常循环打印，无效多次打印\n",
    "import os,re \n",
    "import jieba\n",
    "\n",
    "with open(r'D:\\360MoveData\\Users\\86138\\Desktop\\myself\\exercise_100\\filtered_words.txt', encoding='utf-8') as f:\n",
    "    fc = f.readlines()\n",
    "    fc = [i.rstrip('\\n') for i in fc]\n",
    "    fc = [i.lstrip('\\ufeff') for i in fc]\n",
    "    \n",
    "n = 1\n",
    "while True:\n",
    "    user_input = input('In [{}]:  what you want say:'.format(n))\n",
    "    # chinese\n",
    "    seg_list = list(jieba.cut(user_input, cut_all=False)) # 精确模式\n",
    "    for index, word in enumerate(seg_list, 0):\n",
    "        for i in fc:\n",
    "            if word == i:\n",
    "                seg_list.insert(index, 'Freedom')\n",
    "                del seg_list[index + 1]\n",
    "            else:\n",
    "                continue\n",
    "    print('out[{}]:{}'.format(n,''.join(seg_list)))\n",
    "    n += 1\n",
    "\n",
    "    if n > 5:\n",
    "        print('max choices(10) is reached')\n",
    "        break"
   ]
  },
  {
   "cell_type": "markdown",
   "metadata": {},
   "source": [
    "第 0012 题：敏感词文本文件 filtered_words.txt，里面的内容 和 0011题一样，当用户输入敏感词语，则用 星号 * 替换，例如当用户输入「北京是个好城市」，则变成「**是个好城市」"
   ]
  },
  {
   "cell_type": "code",
   "execution_count": 1,
   "metadata": {},
   "outputs": [
    {
     "name": "stdout",
     "output_type": "stream",
     "text": [
      "In [1]:  what you want say:我在北京过的挺好的，挺sex的\n"
     ]
    },
    {
     "name": "stderr",
     "output_type": "stream",
     "text": [
      "Building prefix dict from the default dictionary ...\n",
      "Loading model from cache C:\\Users\\86138\\AppData\\Local\\Temp\\jieba.cache\n",
      "Loading model cost 0.926 seconds.\n",
      "Prefix dict has been built succesfully.\n"
     ]
    },
    {
     "name": "stdout",
     "output_type": "stream",
     "text": [
      "out[1]:我在**过的挺好的，挺***的\n",
      "In [2]:  what you want say:我在哈尔滨过的挺好\n",
      "out[2]:我在哈尔滨过的挺好\n",
      "In [3]:  what you want say:你妈 你娘的 测试\n",
      "out[3]:你妈 **的 测试\n",
      "In [4]:  what you want say:结巴分词sex，使用效果不好\n",
      "out[4]:结巴分词***，使用效果不好\n",
      "In [5]:  what you want say:还剩最后一次，程序员\n",
      "out[5]:还剩最后一次，***\n",
      "max choices(10) is reached\n"
     ]
    }
   ],
   "source": [
    "#k28:以后得多注意编写自己的测试程序\n",
    "import os,re \n",
    "import jieba\n",
    "\n",
    "with open(r'D:\\360MoveData\\Users\\86138\\Desktop\\myself\\exercise_100\\filtered_words.txt', encoding='utf-8') as f:\n",
    "    fc = f.readlines()\n",
    "    fc = [i.rstrip('\\n') for i in fc]\n",
    "    fc = [i.lstrip('\\ufeff') for i in fc]\n",
    "    \n",
    "n = 1\n",
    "while True:\n",
    "    user_input = input('In  [{}]:  what you want say:'.format(n))\n",
    "    # chinese\n",
    "    seg_list = list(jieba.cut(user_input, cut_all=False)) # 精确模式\n",
    "    for index, word in enumerate(seg_list, 0):\n",
    "        for i in fc:\n",
    "            if word == i:\n",
    "                seg_list.insert(index, '*' * len(word))\n",
    "                del seg_list[index + 1]\n",
    "            else:\n",
    "                continue\n",
    "    print('out[{}]:{}'.format(n,''.join(seg_list)))\n",
    "    n += 1\n",
    "\n",
    "    if n > 5:\n",
    "        print('Max Choices(10) is reached')\n",
    "        \n",
    "if __name__ == '__main__':\n",
    "        user_input = '我在北京过的挺好的，挺sex的'\n",
    "        if ''.join(seg_list) == '我在**过的挺好的，挺***的':\n",
    "            print('Test Pass')"
   ]
  },
  {
   "cell_type": "code",
   "execution_count": null,
   "metadata": {},
   "outputs": [],
   "source": []
  }
 ],
 "metadata": {
  "kernelspec": {
   "display_name": "Python 3",
   "language": "python",
   "name": "python3"
  },
  "language_info": {
   "codemirror_mode": {
    "name": "ipython",
    "version": 3
   },
   "file_extension": ".py",
   "mimetype": "text/x-python",
   "name": "python",
   "nbconvert_exporter": "python",
   "pygments_lexer": "ipython3",
   "version": "3.6.8"
  }
 },
 "nbformat": 4,
 "nbformat_minor": 2
}
